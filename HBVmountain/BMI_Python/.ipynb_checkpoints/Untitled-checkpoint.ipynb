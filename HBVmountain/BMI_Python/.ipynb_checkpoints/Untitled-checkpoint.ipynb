{
 "cells": [
  {
   "cell_type": "code",
   "execution_count": 14,
   "metadata": {},
   "outputs": [],
   "source": [
    "from BMI_HBVmountain_Python import *\n",
    "from Calibration_BRC import *\n",
    "import os\n",
    "import netCDF4 as nc"
   ]
  },
  {
   "cell_type": "code",
   "execution_count": 17,
   "metadata": {},
   "outputs": [
    {
     "name": "stderr",
     "output_type": "stream",
     "text": [
      "C:\\Users\\Vincent Hoogelander\\anaconda3\\lib\\site-packages\\ipykernel_launcher.py:5: SettingWithCopyWarning: \n",
      "A value is trying to be set on a copy of a slice from a DataFrame\n",
      "\n",
      "See the caveats in the documentation: https://pandas.pydata.org/pandas-docs/stable/user_guide/indexing.html#returning-a-view-versus-a-copy\n",
      "  \"\"\"\n"
     ]
    }
   ],
   "source": [
    "forcing = pd.read_csv('Data/ThunderCreek/forcing_thundercreek.csv', index_col=[0], parse_dates=True)\n",
    "pd.to_datetime(forcing.index);\n",
    "forcing = forcing.reset_index(level=0)\n",
    "for i in range(len(forcing)):\n",
    "    forcing['time'][i] = forcing['time'][i].date()\n",
    "forcing.set_index('time', inplace=True)\n",
    "\n",
    "prec = forcing.prec_era5\n",
    "temp = forcing.temp_era5"
   ]
  },
  {
   "cell_type": "code",
   "execution_count": 21,
   "metadata": {},
   "outputs": [],
   "source": [
    "def model(theta, prec, temp):\n",
    "    [Tthresh, Fmelt, Mm, Pp, Kfast, Kslow, Fevap, Su_bare, Beta_bare, Imax_forest, Su_forest, Beta_forest,\n",
    "     Imax_grass, Su_grass, Beta_grass, Imax_rip, Su_rip, Beta_rip, Kfast_rip, Prip] = theta\n",
    "    \n",
    "    bare = Parameters(Beta_bare, Fevap, 0, 0, Kfast, Mm, Pp, Su_bare, Tthresh)\n",
    "    forest = Parameters(Beta_forest, Fevap, 0, Imax_forest, Kfast, Mm, Pp, Su_forest, Tthresh)\n",
    "    grass = Parameters(Beta_grass, Fevap, 0, Imax_grass, Kfast, Mm, Pp, Su_grass, Tthresh)\n",
    "    rip = Parameters(Beta_rip, Fevap, Prip, Imax_rip, Kfast_rip, Mm, Pp, Su_rip, Tthresh)\n",
    "    slow = Slow_Paramters(Kslow, Prip)\n",
    "    \n",
    "    param_list = [bare, forest, grass, rip, slow]\n",
    "    model = climate_simulations(prec, temp, param_list)\n",
    "    return model"
   ]
  },
  {
   "cell_type": "code",
   "execution_count": 22,
   "metadata": {},
   "outputs": [],
   "source": [
    "def lnlike(theta, y, yerr):\n",
    "    LnLike = -0.5 * np.sum(((y - model(theta, prec, temp)) / yerr)**2)#implement formula above\n",
    "    return LnLike"
   ]
  },
  {
   "cell_type": "code",
   "execution_count": 25,
   "metadata": {},
   "outputs": [],
   "source": [
    "def lnprior(theta):\n",
    "    [Tthresh, Fmelt, Mm, Pp, Kfast, Kslow, Fevap, Su_bare, Beta_bare, Imax_forest, Su_forest, Beta_forest,\n",
    "     Imax_grass, Su_grass, Beta_grass, Imax_rip, Su_rip, Beta_rip, Kfast_rip, Prip] = theta\n",
    "    if (-2 < Tthresh < 2 and 1 < Fmelt < 5 and 0.001 < Mm < 1.0 and 0.1 < Pp < 0.9 and 0.1 < Kfast < 3.0 \n",
    "    and 0.001 < Kslow < 0.1 and 0.4 < Fevap < 0.8 and 1.0 < Su_bare < 75 and 0.1 < Beta_bare < 2 and 1 < Imax_forest < 10 and\n",
    "    50 < Su_forest < 750 and 0.1 < Beta_forest < 2 and 0.1 < Imax_grass < 7 and 5 < Su_grass < 400 and 0.1 < Beta_grass < 2 and \n",
    "    0.1 < Imax_rip < 8 and 5 < Su_rip < 400 and 0.1 < Beta_rip < 2 and 0.1 < Kfast_rip < 3 and 0.1 < Prip < 4):\n",
    "        return 0.0\n",
    "    else:\n",
    "        return -np.inf"
   ]
  },
  {
   "cell_type": "code",
   "execution_count": null,
   "metadata": {},
   "outputs": [],
   "source": [
    "def lnprob(theta, x, y, yerr):\n",
    "    lp = lnprior(theta)\n",
    "    if not np.isfinite(lp):#check if lp is infinite:\n",
    "        return -np.inf\n",
    "    return lp + lnlike(theta, x, y, yerr) #recall if lp not -inf, its 0, so this just returns likelihood"
   ]
  },
  {
   "cell_type": "code",
   "execution_count": null,
   "metadata": {},
   "outputs": [],
   "source": [
    "Terr = 0.05* np.mean()\n",
    "data = (age, T,Terr)\n",
    "#set nwalkers\n",
    "#set niter\n",
    "initial = np.array([1.0, 1.0, 1.0, 26000., 41000.,100000.,-4.5])\n",
    "ndim = len(initial)\n",
    "p0 = [np.array(initial) + 1e-7 * np.random.randn(ndim) for i in range(nwalkers)]"
   ]
  },
  {
   "cell_type": "code",
   "execution_count": null,
   "metadata": {},
   "outputs": [],
   "source": [
    "def main(p0,nwalkers,niter,ndim,lnprob,data):\n",
    "    sampler = emcee.EnsembleSampler(nwalkers, ndim, lnprob, args=data)\n",
    "\n",
    "    print(\"Running burn-in...\")\n",
    "    p0, _, _ = sampler.run_mcmc(p0, 100)\n",
    "    sampler.reset()\n",
    "\n",
    "    print(\"Running production...\")\n",
    "    pos, prob, state = sampler.run_mcmc(p0, niter)\n",
    "\n",
    "    return sampler, pos, prob, state"
   ]
  },
  {
   "cell_type": "code",
   "execution_count": null,
   "metadata": {},
   "outputs": [],
   "source": [
    "sampler, pos, prob, state = main(p0,nwalkers,niter,ndim,lnprob,data)"
   ]
  },
  {
   "cell_type": "code",
   "execution_count": null,
   "metadata": {},
   "outputs": [],
   "source": []
  },
  {
   "cell_type": "code",
   "execution_count": 26,
   "metadata": {},
   "outputs": [],
   "source": [
    "x, y , z, i = 1, 1, 1, 1"
   ]
  },
  {
   "cell_type": "code",
   "execution_count": 28,
   "metadata": {},
   "outputs": [
    {
     "name": "stdout",
     "output_type": "stream",
     "text": [
      "1\n"
     ]
    }
   ],
   "source": [
    "if (x > 0 and y > 0 and\n",
    "   z > 0 and i > 0):\n",
    "    print(x)"
   ]
  },
  {
   "cell_type": "code",
   "execution_count": 10,
   "metadata": {},
   "outputs": [],
   "source": [
    "theta = [1,2,3]"
   ]
  },
  {
   "cell_type": "code",
   "execution_count": 20,
   "metadata": {},
   "outputs": [],
   "source": [
    "[a,b\n",
    " ,c] = theta"
   ]
  },
  {
   "cell_type": "code",
   "execution_count": 12,
   "metadata": {},
   "outputs": [
    {
     "data": {
      "text/plain": [
       "2"
      ]
     },
     "execution_count": 12,
     "metadata": {},
     "output_type": "execute_result"
    }
   ],
   "source": [
    "b"
   ]
  },
  {
   "cell_type": "code",
   "execution_count": 9,
   "metadata": {},
   "outputs": [
    {
     "data": {
      "text/plain": [
       "1"
      ]
     },
     "execution_count": 9,
     "metadata": {},
     "output_type": "execute_result"
    }
   ],
   "source": []
  },
  {
   "cell_type": "code",
   "execution_count": null,
   "metadata": {},
   "outputs": [],
   "source": []
  }
 ],
 "metadata": {
  "kernelspec": {
   "display_name": "Python 3",
   "language": "python",
   "name": "python3"
  },
  "language_info": {
   "codemirror_mode": {
    "name": "ipython",
    "version": 3
   },
   "file_extension": ".py",
   "mimetype": "text/x-python",
   "name": "python",
   "nbconvert_exporter": "python",
   "pygments_lexer": "ipython3",
   "version": "3.7.6"
  }
 },
 "nbformat": 4,
 "nbformat_minor": 4
}
