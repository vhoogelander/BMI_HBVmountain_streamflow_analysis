{
 "cells": [
  {
   "cell_type": "code",
   "execution_count": 3,
   "metadata": {},
   "outputs": [],
   "source": [
    "from BMI_HBVmountain_Python import *"
   ]
  },
  {
   "cell_type": "markdown",
   "metadata": {},
   "source": [
    "## Load forcing data"
   ]
  },
  {
   "cell_type": "code",
   "execution_count": 4,
   "metadata": {},
   "outputs": [
    {
     "name": "stderr",
     "output_type": "stream",
     "text": [
      "C:\\Users\\Vincent Hoogelander\\anaconda3\\lib\\site-packages\\ipykernel_launcher.py:12: SettingWithCopyWarning: \n",
      "A value is trying to be set on a copy of a slice from a DataFrame\n",
      "\n",
      "See the caveats in the documentation: https://pandas.pydata.org/pandas-docs/stable/user_guide/indexing.html#returning-a-view-versus-a-copy\n",
      "  if sys.path[0] == '':\n"
     ]
    }
   ],
   "source": [
    "# forcing = read_csv(\"Refactoring/Forcing/forcingWark.csv\"); #Example dataset, observation data\n",
    "\n",
    "# for i in range(len(forcing)):\n",
    "#     forcing['DATE'][i] = datetime.datetime.strptime(forcing['DATE'][i], '%Y-%m-%d')\n",
    "#     forcing['DATE'][i] = forcing['DATE'][i].date()\n",
    "# forcing.set_index('DATE', inplace=True)\n",
    "\n",
    "forcing = pd.read_csv('Data/BigCreek/forcing_bigrockcreek.csv', index_col=[0], parse_dates=True)\n",
    "pd.to_datetime(forcing.index);\n",
    "forcing = forcing.reset_index(level=0)\n",
    "for i in range(len(forcing)):\n",
    "    forcing['Date'][i] = forcing['Date'][i].date()\n",
    "forcing.set_index('Date', inplace=True)"
   ]
  },
  {
   "cell_type": "markdown",
   "metadata": {},
   "source": [
    "## Setting up the model"
   ]
  },
  {
   "cell_type": "code",
   "execution_count": 5,
   "metadata": {},
   "outputs": [
    {
     "data": {
      "text/html": [
       "<div>\n",
       "<style scoped>\n",
       "    .dataframe tbody tr th:only-of-type {\n",
       "        vertical-align: middle;\n",
       "    }\n",
       "\n",
       "    .dataframe tbody tr th {\n",
       "        vertical-align: top;\n",
       "    }\n",
       "\n",
       "    .dataframe thead th {\n",
       "        text-align: right;\n",
       "    }\n",
       "</style>\n",
       "<table border=\"1\" class=\"dataframe\">\n",
       "  <thead>\n",
       "    <tr style=\"text-align: right;\">\n",
       "      <th></th>\n",
       "      <th>streamflow</th>\n",
       "      <th>prec_REGEN</th>\n",
       "      <th>temp_era5</th>\n",
       "      <th>prec_era5</th>\n",
       "    </tr>\n",
       "    <tr>\n",
       "      <th>Date</th>\n",
       "      <th></th>\n",
       "      <th></th>\n",
       "      <th></th>\n",
       "      <th></th>\n",
       "    </tr>\n",
       "  </thead>\n",
       "  <tbody>\n",
       "    <tr>\n",
       "      <th>1986-01-01</th>\n",
       "      <td>0.326307</td>\n",
       "      <td>0.00</td>\n",
       "      <td>9.130005</td>\n",
       "      <td>0.029887</td>\n",
       "    </tr>\n",
       "    <tr>\n",
       "      <th>1986-01-02</th>\n",
       "      <td>0.317567</td>\n",
       "      <td>0.00</td>\n",
       "      <td>8.250031</td>\n",
       "      <td>0.001245</td>\n",
       "    </tr>\n",
       "    <tr>\n",
       "      <th>1986-01-03</th>\n",
       "      <td>0.305913</td>\n",
       "      <td>0.00</td>\n",
       "      <td>9.178741</td>\n",
       "      <td>0.148190</td>\n",
       "    </tr>\n",
       "    <tr>\n",
       "      <th>1986-01-04</th>\n",
       "      <td>0.301543</td>\n",
       "      <td>6.57</td>\n",
       "      <td>9.733490</td>\n",
       "      <td>3.296292</td>\n",
       "    </tr>\n",
       "    <tr>\n",
       "      <th>1986-01-05</th>\n",
       "      <td>0.308826</td>\n",
       "      <td>1.08</td>\n",
       "      <td>11.079224</td>\n",
       "      <td>0.443325</td>\n",
       "    </tr>\n",
       "    <tr>\n",
       "      <th>...</th>\n",
       "      <td>...</td>\n",
       "      <td>...</td>\n",
       "      <td>...</td>\n",
       "      <td>...</td>\n",
       "    </tr>\n",
       "    <tr>\n",
       "      <th>2005-12-27</th>\n",
       "      <td>0.301543</td>\n",
       "      <td>0.05</td>\n",
       "      <td>10.345459</td>\n",
       "      <td>0.000000</td>\n",
       "    </tr>\n",
       "    <tr>\n",
       "      <th>2005-12-28</th>\n",
       "      <td>0.301543</td>\n",
       "      <td>0.00</td>\n",
       "      <td>10.903168</td>\n",
       "      <td>0.095689</td>\n",
       "    </tr>\n",
       "    <tr>\n",
       "      <th>2005-12-29</th>\n",
       "      <td>0.301543</td>\n",
       "      <td>0.31</td>\n",
       "      <td>9.488403</td>\n",
       "      <td>0.000000</td>\n",
       "    </tr>\n",
       "    <tr>\n",
       "      <th>2005-12-30</th>\n",
       "      <td>0.301543</td>\n",
       "      <td>0.00</td>\n",
       "      <td>8.039215</td>\n",
       "      <td>0.000000</td>\n",
       "    </tr>\n",
       "    <tr>\n",
       "      <th>2005-12-31</th>\n",
       "      <td>0.313197</td>\n",
       "      <td>4.44</td>\n",
       "      <td>9.487091</td>\n",
       "      <td>1.987245</td>\n",
       "    </tr>\n",
       "  </tbody>\n",
       "</table>\n",
       "<p>7305 rows × 4 columns</p>\n",
       "</div>"
      ],
      "text/plain": [
       "            streamflow  prec_REGEN  temp_era5  prec_era5\n",
       "Date                                                    \n",
       "1986-01-01    0.326307        0.00   9.130005   0.029887\n",
       "1986-01-02    0.317567        0.00   8.250031   0.001245\n",
       "1986-01-03    0.305913        0.00   9.178741   0.148190\n",
       "1986-01-04    0.301543        6.57   9.733490   3.296292\n",
       "1986-01-05    0.308826        1.08  11.079224   0.443325\n",
       "...                ...         ...        ...        ...\n",
       "2005-12-27    0.301543        0.05  10.345459   0.000000\n",
       "2005-12-28    0.301543        0.00  10.903168   0.095689\n",
       "2005-12-29    0.301543        0.31   9.488403   0.000000\n",
       "2005-12-30    0.301543        0.00   8.039215   0.000000\n",
       "2005-12-31    0.313197        4.44   9.487091   1.987245\n",
       "\n",
       "[7305 rows x 4 columns]"
      ]
     },
     "execution_count": 5,
     "metadata": {},
     "output_type": "execute_result"
    }
   ],
   "source": [
    "forcing"
   ]
  },
  {
   "cell_type": "code",
   "execution_count": 6,
   "metadata": {},
   "outputs": [],
   "source": [
    "model = BMI_HBVmountain()"
   ]
  },
  {
   "cell_type": "code",
   "execution_count": 7,
   "metadata": {},
   "outputs": [],
   "source": [
    "config_file = model.setup()"
   ]
  },
  {
   "cell_type": "code",
   "execution_count": 8,
   "metadata": {},
   "outputs": [],
   "source": [
    "model.initialize(config_file)"
   ]
  },
  {
   "cell_type": "markdown",
   "metadata": {},
   "source": [
    "### Parameters"
   ]
  },
  {
   "cell_type": "code",
   "execution_count": 9,
   "metadata": {},
   "outputs": [],
   "source": [
    "bare_parameters, forest_parameters, grass_parameters, rip_parameters,  slow_parameters, parameters_array =  Main.parameter_selection()\n",
    "model.set_value('bare_parameters', bare_parameters)\n",
    "model.set_value('forest_parameters', forest_parameters)\n",
    "model.set_value('grass_parameters', grass_parameters)\n",
    "model.set_value('rip_parameters', rip_parameters)\n",
    "model.set_value('slow_parameters', slow_parameters)"
   ]
  },
  {
   "cell_type": "markdown",
   "metadata": {},
   "source": [
    "### Forcings"
   ]
  },
  {
   "cell_type": "code",
   "execution_count": 11,
   "metadata": {},
   "outputs": [],
   "source": [
    "model.set_value('Temperature', (forcing['temp_era5'].values).reshape(len(forcing),1))\n",
    "model.set_value('Precipitation', (forcing['prec_era5'].values).reshape(len(forcing),1))\n",
    "\n",
    "model.set_value('Date', list(forcing.index.values))\n",
    "model.set_value('Current_Date', forcing.index.values[0])"
   ]
  },
  {
   "cell_type": "markdown",
   "metadata": {},
   "source": [
    "### Initial settings"
   ]
  },
  {
   "cell_type": "code",
   "execution_count": 15,
   "metadata": {},
   "outputs": [],
   "source": [
    "model.set_value('Elevation', Main.Elevations(50, 200, 450, 280, 280))\n",
    "\n",
    "model.set_value('Glacier', [0.0, 0.0, 0.0, 0.0]) \n",
    "model.set_value('Sunhours', [8.83, 10.26, 11.95, 13.75, 15.28, 16.11, 15.75, 14.36, 12.63, 10.9, 9.28, 8.43])\n",
    "model.set_value('bare_input', Main.HRU_Input([0,0,0,0], 0, np.zeros(4), [1,2,3,4], 4, (0,), (0,), 0, np.zeros(4), 0.01, np.zeros(4), 0, 0.0))\n",
    "model.set_value('forest_input', Main.HRU_Input([0.8,0.1,0.1,0.0], 0.4,np.zeros(4), [1,2,3,4], 4, (0,), (0,), 0, np.zeros(4), 0.01, np.zeros(4), 0, 0.0))\n",
    "model.set_value('grass_input', Main.HRU_Input([0.3,0.3,0.2,0.2], 0.3,np.zeros(4), [1,2,3,4], 4, (0,), (0,), 0, np.zeros(4), 0.01, np.zeros(4), 0, 0.0))\n",
    "model.set_value('rip_input', Main.HRU_Input([0.0,0.1,0.3,0.6], 0.3,np.zeros(4), [1,2,3,4], 4, (0,), (0,), 0, np.zeros(4), 0.01, np.zeros(4), 0, 0.0))\n",
    "model.set_value('Total_Elevationbands', 4)\n",
    "model.set_value('Elevation_Percentage', [0.2,0.2,0.3,0.3])\n",
    "model.set_value('bare_storage', Main.Storages(0,np.zeros(4),np.zeros(4),np.zeros(4),0))\n",
    "model.set_value('forest_storage', Main.Storages(0,np.zeros(4),np.zeros(4),np.zeros(4),0))\n",
    "model.set_value('grass_storage', Main.Storages(0,np.zeros(4),np.zeros(4),np.zeros(4),0))\n",
    "model.set_value('rip_storage', Main.Storages(0,np.zeros(4),np.zeros(4),np.zeros(4),0))"
   ]
  },
  {
   "cell_type": "markdown",
   "metadata": {},
   "source": [
    "## Running the model"
   ]
  },
  {
   "cell_type": "code",
   "execution_count": 13,
   "metadata": {},
   "outputs": [],
   "source": [
    "Discharge = []\n",
    "timestamp = []\n",
    "while (model.get_value_ptr('Current_Date') < (model.get_value_ptr('Date')[-1])):  \n",
    "    model.update()\n",
    "    timestamp.append(model.get_value_ptr('Current_Date'))\n",
    "    Discharge.append(model.get_value_ptr('Discharge'))"
   ]
  },
  {
   "cell_type": "markdown",
   "metadata": {},
   "source": [
    "## Analysis"
   ]
  },
  {
   "cell_type": "code",
   "execution_count": 41,
   "metadata": {},
   "outputs": [
    {
     "data": {
      "text/html": [
       "<div>\n",
       "<style scoped>\n",
       "    .dataframe tbody tr th:only-of-type {\n",
       "        vertical-align: middle;\n",
       "    }\n",
       "\n",
       "    .dataframe tbody tr th {\n",
       "        vertical-align: top;\n",
       "    }\n",
       "\n",
       "    .dataframe thead th {\n",
       "        text-align: right;\n",
       "    }\n",
       "</style>\n",
       "<table border=\"1\" class=\"dataframe\">\n",
       "  <thead>\n",
       "    <tr style=\"text-align: right;\">\n",
       "      <th></th>\n",
       "      <th>simulation</th>\n",
       "      <th>Discharge</th>\n",
       "    </tr>\n",
       "  </thead>\n",
       "  <tbody>\n",
       "    <tr>\n",
       "      <th>2001-08-02</th>\n",
       "      <td>0.000000</td>\n",
       "      <td>0.09086</td>\n",
       "    </tr>\n",
       "    <tr>\n",
       "      <th>2001-08-03</th>\n",
       "      <td>0.000033</td>\n",
       "      <td>0.10281</td>\n",
       "    </tr>\n",
       "    <tr>\n",
       "      <th>2001-08-04</th>\n",
       "      <td>0.000949</td>\n",
       "      <td>0.10328</td>\n",
       "    </tr>\n",
       "    <tr>\n",
       "      <th>2001-08-05</th>\n",
       "      <td>0.004663</td>\n",
       "      <td>0.10178</td>\n",
       "    </tr>\n",
       "    <tr>\n",
       "      <th>2001-08-06</th>\n",
       "      <td>0.037331</td>\n",
       "      <td>0.11368</td>\n",
       "    </tr>\n",
       "    <tr>\n",
       "      <th>...</th>\n",
       "      <td>...</td>\n",
       "      <td>...</td>\n",
       "    </tr>\n",
       "    <tr>\n",
       "      <th>2003-07-27</th>\n",
       "      <td>0.205575</td>\n",
       "      <td>0.09014</td>\n",
       "    </tr>\n",
       "    <tr>\n",
       "      <th>2003-07-28</th>\n",
       "      <td>0.196505</td>\n",
       "      <td>0.06749</td>\n",
       "    </tr>\n",
       "    <tr>\n",
       "      <th>2003-07-29</th>\n",
       "      <td>0.114022</td>\n",
       "      <td>0.06206</td>\n",
       "    </tr>\n",
       "    <tr>\n",
       "      <th>2003-07-30</th>\n",
       "      <td>0.070345</td>\n",
       "      <td>0.08791</td>\n",
       "    </tr>\n",
       "    <tr>\n",
       "      <th>2003-07-31</th>\n",
       "      <td>0.629757</td>\n",
       "      <td>0.22888</td>\n",
       "    </tr>\n",
       "  </tbody>\n",
       "</table>\n",
       "<p>729 rows × 2 columns</p>\n",
       "</div>"
      ],
      "text/plain": [
       "            simulation  Discharge\n",
       "2001-08-02    0.000000    0.09086\n",
       "2001-08-03    0.000033    0.10281\n",
       "2001-08-04    0.000949    0.10328\n",
       "2001-08-05    0.004663    0.10178\n",
       "2001-08-06    0.037331    0.11368\n",
       "...                ...        ...\n",
       "2003-07-27    0.205575    0.09014\n",
       "2003-07-28    0.196505    0.06749\n",
       "2003-07-29    0.114022    0.06206\n",
       "2003-07-30    0.070345    0.08791\n",
       "2003-07-31    0.629757    0.22888\n",
       "\n",
       "[729 rows x 2 columns]"
      ]
     },
     "execution_count": 41,
     "metadata": {},
     "output_type": "execute_result"
    }
   ],
   "source": [
    "simulated_discharge_df = pd.DataFrame(\n",
    "    {'simulation': Discharge},\n",
    "    index=pd.to_datetime(timestamp)\n",
    ")\n",
    "combined_discharge = pd.merge(simulated_discharge_df, forcing['Discharge'], left_index=True, right_index=True)\n",
    "combined_discharge"
   ]
  },
  {
   "cell_type": "code",
   "execution_count": 42,
   "metadata": {},
   "outputs": [
    {
     "data": {
      "image/png": "[encoded data removed]",
      "text/plain": [
       "<Figure size 1152x576 with 1 Axes>"
      ]
     },
     "metadata": {
      "needs_background": "light"
     },
     "output_type": "display_data"
    }
   ],
   "source": [
    "plt.figure(figsize=[16,8])\n",
    "combined_discharge.simulation.plot(label='Simulation')\n",
    "combined_discharge.Discharge.plot(label='Observation')\n",
    "plt.legend();"
   ]
  },
  {
   "cell_type": "markdown",
   "metadata": {},
   "source": [
    "## Clean up"
   ]
  },
  {
   "cell_type": "code",
   "execution_count": 21,
   "metadata": {},
   "outputs": [],
   "source": [
    "model.finalize()"
   ]
  },
  {
   "cell_type": "code",
   "execution_count": 33,
   "metadata": {},
   "outputs": [
    {
     "name": "stdout",
     "output_type": "stream",
     "text": [
      "<BMI_HBVmountain_Python.BMI_HBVmountain object at 0x000001CA1F2893C8>\n"
     ]
    }
   ],
   "source": [
    "print(model)"
   ]
  },
  {
   "cell_type": "code",
   "execution_count": null,
   "metadata": {},
   "outputs": [],
   "source": []
  }
 ],
 "metadata": {
  "kernelspec": {
   "display_name": "Python 3",
   "language": "python",
   "name": "python3"
  },
  "language_info": {
   "codemirror_mode": {
    "name": "ipython",
    "version": 3
   },
   "file_extension": ".py",
   "mimetype": "text/x-python",
   "name": "python",
   "nbconvert_exporter": "python",
   "pygments_lexer": "ipython3",
   "version": "3.7.6"
  }
 },
 "nbformat": 4,
 "nbformat_minor": 4
}
