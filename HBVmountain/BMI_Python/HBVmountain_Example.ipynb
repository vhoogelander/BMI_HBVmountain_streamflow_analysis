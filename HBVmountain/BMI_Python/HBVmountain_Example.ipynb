{
 "cells": [
  {
   "cell_type": "code",
   "execution_count": 22,
   "metadata": {},
   "outputs": [],
   "source": [
    "from BMI_HBVmountain_Python import *"
   ]
  },
  {
   "cell_type": "markdown",
   "metadata": {},
   "source": [
    "## Load forcing data"
   ]
  },
  {
   "cell_type": "code",
   "execution_count": 23,
   "metadata": {},
   "outputs": [
    {
     "name": "stderr",
     "output_type": "stream",
     "text": [
      "C:\\Users\\Vincent Hoogelander\\anaconda3\\lib\\site-packages\\ipykernel_launcher.py:5: SettingWithCopyWarning: \n",
      "A value is trying to be set on a copy of a slice from a DataFrame\n",
      "\n",
      "See the caveats in the documentation: https://pandas.pydata.org/pandas-docs/stable/user_guide/indexing.html#returning-a-view-versus-a-copy\n",
      "  \"\"\"\n"
     ]
    },
    {
     "data": {
      "text/html": [
       "<div>\n",
       "<style scoped>\n",
       "    .dataframe tbody tr th:only-of-type {\n",
       "        vertical-align: middle;\n",
       "    }\n",
       "\n",
       "    .dataframe tbody tr th {\n",
       "        vertical-align: top;\n",
       "    }\n",
       "\n",
       "    .dataframe thead th {\n",
       "        text-align: right;\n",
       "    }\n",
       "</style>\n",
       "<table border=\"1\" class=\"dataframe\">\n",
       "  <thead>\n",
       "    <tr style=\"text-align: right;\">\n",
       "      <th></th>\n",
       "      <th>streamflow</th>\n",
       "      <th>temp_era5</th>\n",
       "      <th>prec_era5</th>\n",
       "    </tr>\n",
       "    <tr>\n",
       "      <th>time</th>\n",
       "      <th></th>\n",
       "      <th></th>\n",
       "      <th></th>\n",
       "    </tr>\n",
       "  </thead>\n",
       "  <tbody>\n",
       "    <tr>\n",
       "      <th>1986-01-01</th>\n",
       "      <td>0.962825</td>\n",
       "      <td>-4.225952</td>\n",
       "      <td>18.505061</td>\n",
       "    </tr>\n",
       "    <tr>\n",
       "      <th>1986-01-02</th>\n",
       "      <td>0.971722</td>\n",
       "      <td>-4.649109</td>\n",
       "      <td>4.130639</td>\n",
       "    </tr>\n",
       "    <tr>\n",
       "      <th>1986-01-03</th>\n",
       "      <td>0.953927</td>\n",
       "      <td>-4.009430</td>\n",
       "      <td>5.363479</td>\n",
       "    </tr>\n",
       "    <tr>\n",
       "      <th>1986-01-04</th>\n",
       "      <td>0.944712</td>\n",
       "      <td>-5.197113</td>\n",
       "      <td>0.000000</td>\n",
       "    </tr>\n",
       "    <tr>\n",
       "      <th>1986-01-05</th>\n",
       "      <td>0.944712</td>\n",
       "      <td>-3.785156</td>\n",
       "      <td>10.307294</td>\n",
       "    </tr>\n",
       "    <tr>\n",
       "      <th>...</th>\n",
       "      <td>...</td>\n",
       "      <td>...</td>\n",
       "      <td>...</td>\n",
       "    </tr>\n",
       "    <tr>\n",
       "      <th>2005-12-27</th>\n",
       "      <td>6.451560</td>\n",
       "      <td>-0.104980</td>\n",
       "      <td>16.528907</td>\n",
       "    </tr>\n",
       "    <tr>\n",
       "      <th>2005-12-28</th>\n",
       "      <td>5.173832</td>\n",
       "      <td>-1.296906</td>\n",
       "      <td>18.620241</td>\n",
       "    </tr>\n",
       "    <tr>\n",
       "      <th>2005-12-29</th>\n",
       "      <td>4.535126</td>\n",
       "      <td>-3.694000</td>\n",
       "      <td>4.846727</td>\n",
       "    </tr>\n",
       "    <tr>\n",
       "      <th>2005-12-30</th>\n",
       "      <td>4.067060</td>\n",
       "      <td>-2.910614</td>\n",
       "      <td>14.710810</td>\n",
       "    </tr>\n",
       "    <tr>\n",
       "      <th>2005-12-31</th>\n",
       "      <td>3.806176</td>\n",
       "      <td>-1.347778</td>\n",
       "      <td>14.832766</td>\n",
       "    </tr>\n",
       "  </tbody>\n",
       "</table>\n",
       "<p>7305 rows × 3 columns</p>\n",
       "</div>"
      ],
      "text/plain": [
       "            streamflow  temp_era5  prec_era5\n",
       "time                                        \n",
       "1986-01-01    0.962825  -4.225952  18.505061\n",
       "1986-01-02    0.971722  -4.649109   4.130639\n",
       "1986-01-03    0.953927  -4.009430   5.363479\n",
       "1986-01-04    0.944712  -5.197113   0.000000\n",
       "1986-01-05    0.944712  -3.785156  10.307294\n",
       "...                ...        ...        ...\n",
       "2005-12-27    6.451560  -0.104980  16.528907\n",
       "2005-12-28    5.173832  -1.296906  18.620241\n",
       "2005-12-29    4.535126  -3.694000   4.846727\n",
       "2005-12-30    4.067060  -2.910614  14.710810\n",
       "2005-12-31    3.806176  -1.347778  14.832766\n",
       "\n",
       "[7305 rows x 3 columns]"
      ]
     },
     "execution_count": 23,
     "metadata": {},
     "output_type": "execute_result"
    }
   ],
   "source": [
    "forcing = pd.read_csv('Data/ThunderCreek/forcing_thundercreek.csv', index_col=[0], parse_dates=True)\n",
    "pd.to_datetime(forcing.index);\n",
    "forcing = forcing.reset_index(level=0)\n",
    "for i in range(len(forcing)):\n",
    "    forcing['time'][i] = forcing['time'][i].date()\n",
    "forcing.set_index('time', inplace=True)\n",
    "forcing"
   ]
  },
  {
   "cell_type": "markdown",
   "metadata": {},
   "source": [
    "## Setting up the model"
   ]
  },
  {
   "cell_type": "code",
   "execution_count": 32,
   "metadata": {},
   "outputs": [],
   "source": [
    "model = BMI_HBVmountain()"
   ]
  },
  {
   "cell_type": "code",
   "execution_count": 33,
   "metadata": {},
   "outputs": [],
   "source": [
    "config_file = model.setup()"
   ]
  },
  {
   "cell_type": "code",
   "execution_count": 34,
   "metadata": {},
   "outputs": [],
   "source": [
    "model.initialize(config_file)"
   ]
  },
  {
   "cell_type": "markdown",
   "metadata": {},
   "source": [
    "### Parameters => implement in model.setup()"
   ]
  },
  {
   "cell_type": "code",
   "execution_count": 35,
   "metadata": {},
   "outputs": [],
   "source": [
    "bare_parameters, forest_parameters, grass_parameters, rip_parameters,  slow_parameters, parameters_array =  Main.parameter_selection() #Generate random parameterset\n",
    "model.set_value('bare_parameters', bare_parameters)\n",
    "model.set_value('forest_parameters', forest_parameters)\n",
    "model.set_value('grass_parameters', grass_parameters)\n",
    "model.set_value('rip_parameters', rip_parameters)\n",
    "model.set_value('slow_parameters', slow_parameters)"
   ]
  },
  {
   "cell_type": "markdown",
   "metadata": {},
   "source": [
    "### Forcings"
   ]
  },
  {
   "cell_type": "code",
   "execution_count": 36,
   "metadata": {},
   "outputs": [],
   "source": [
    "model.set_value('Temperature', (forcing['temp_era5'].values).reshape(len(forcing),1))\n",
    "model.set_value('Precipitation', (forcing['prec_era5'].values).reshape(len(forcing),1))\n",
    "\n",
    "model.set_value('Date', list(forcing.index.values))\n",
    "model.set_value('Current_Date', forcing.index.values[0])"
   ]
  },
  {
   "cell_type": "markdown",
   "metadata": {},
   "source": [
    "### Initial settings => implement in model.setup()"
   ]
  },
  {
   "cell_type": "code",
   "execution_count": 37,
   "metadata": {},
   "outputs": [],
   "source": [
    "model.set_value('Elevation', Main.Elevations(500, 500, 2500, 1500, 1500)) # 4 Elevation bands\n",
    "\n",
    "model.set_value('Glacier', [0.0, 0.0, 0.0, 0.6]) # 60% of the area glacier at highest elevation band\n",
    "model.set_value('Sunhours', [8.87, 10.30, 11.88, 13.65, 15.13, 15.97, 15.58, 14.25, 12.62, 11.87, 9.28, 8.45]) #Seattle\n",
    "model.set_value('bare_input', Main.HRU_Input([0.0,0.0,0.3,0.7], 0.32, [0.0, 0.0, 0.0, 0.6], [1,2,3,4], 4, (0,), (0,), 0, np.zeros(4), 0.01, np.zeros(4), 0, 0.0))\n",
    "model.set_value('forest_input', Main.HRU_Input([0.0,0.7,0.3,0.0], 0.45,np.zeros(4), [1,2,3,4], 4, (0,), (0,), 0, np.zeros(4), 0.01, np.zeros(4), 0, 0.0))\n",
    "model.set_value('grass_input', Main.HRU_Input([0.7,0.3,0.0,0.0], 0.21,np.zeros(4), [1,2,3,4], 4, (0,), (0,), 0, np.zeros(4), 0.01, np.zeros(4), 0, 0.0))\n",
    "model.set_value('rip_input', Main.HRU_Input([1.0,0.0,0.0,0.0], 0.02,np.zeros(4), [1,2,3,4], 4, (0,), (0,), 0, np.zeros(4), 0.01, np.zeros(4), 0, 0.0))\n",
    "model.set_value('Total_Elevationbands', 4)\n",
    "model.set_value('Elevation_Percentage', [0.15,0.26,0.36,0.23])\n",
    "model.set_value('bare_storage', Main.Storages(0,np.zeros(4),np.zeros(4),np.zeros(4),0))\n",
    "model.set_value('forest_storage', Main.Storages(0,np.zeros(4),np.zeros(4),np.zeros(4),0))\n",
    "model.set_value('grass_storage', Main.Storages(0,np.zeros(4),np.zeros(4),np.zeros(4),0))\n",
    "model.set_value('rip_storage', Main.Storages(0,np.zeros(4),np.zeros(4),np.zeros(4),0))"
   ]
  },
  {
   "cell_type": "markdown",
   "metadata": {},
   "source": [
    "## Running the model"
   ]
  },
  {
   "cell_type": "code",
   "execution_count": null,
   "metadata": {},
   "outputs": [],
   "source": [
    "Discharge = []\n",
    "timestamp = []\n",
    "while (model.get_value_ptr('Current_Date') < (model.get_value_ptr('Date')[-1])):  \n",
    "    model.update()\n",
    "    timestamp.append(model.get_value_ptr('Current_Date'))\n",
    "    Discharge.append(model.get_value_ptr('Discharge'))"
   ]
  },
  {
   "cell_type": "markdown",
   "metadata": {},
   "source": [
    "## Analysis"
   ]
  },
  {
   "cell_type": "code",
   "execution_count": null,
   "metadata": {},
   "outputs": [],
   "source": [
    "simulated_discharge_df = pd.DataFrame(\n",
    "    {'simulation': Discharge},\n",
    "    index=pd.to_datetime(timestamp)\n",
    ")\n",
    "combined_discharge = pd.merge(simulated_discharge_df, forcing['streamflow'], left_index=True, right_index=True)\n",
    "combined_discharge"
   ]
  },
  {
   "cell_type": "code",
   "execution_count": null,
   "metadata": {},
   "outputs": [],
   "source": [
    "plt.figure(figsize=[16,8])\n",
    "combined_discharge.simulation.plot(label='Simulation')\n",
    "combined_discharge.Discharge.plot(label='Observation')\n",
    "plt.legend();"
   ]
  },
  {
   "cell_type": "markdown",
   "metadata": {},
   "source": [
    "## Clean up"
   ]
  },
  {
   "cell_type": "code",
   "execution_count": null,
   "metadata": {},
   "outputs": [],
   "source": [
    "model.finalize()"
   ]
  },
  {
   "cell_type": "code",
   "execution_count": null,
   "metadata": {},
   "outputs": [],
   "source": [
    "print(model)"
   ]
  },
  {
   "cell_type": "code",
   "execution_count": null,
   "metadata": {},
   "outputs": [],
   "source": []
  }
 ],
 "metadata": {
  "kernelspec": {
   "display_name": "Python 3",
   "language": "python",
   "name": "python3"
  },
  "language_info": {
   "codemirror_mode": {
    "name": "ipython",
    "version": 3
   },
   "file_extension": ".py",
   "mimetype": "text/x-python",
   "name": "python",
   "nbconvert_exporter": "python",
   "pygments_lexer": "ipython3",
   "version": "3.7.6"
  }
 },
 "nbformat": 4,
 "nbformat_minor": 4
}
