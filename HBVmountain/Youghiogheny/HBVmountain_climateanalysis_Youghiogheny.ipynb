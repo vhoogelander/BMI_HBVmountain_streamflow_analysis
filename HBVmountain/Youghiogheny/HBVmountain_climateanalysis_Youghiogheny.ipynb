{
 "cells": [
  {
   "cell_type": "code",
   "execution_count": 59,
   "metadata": {},
   "outputs": [],
   "source": [
    "from Climate_analysis import *\n",
    "from warnings import filterwarnings\n",
    "from scipy import stats\n",
    "\n",
    "filterwarnings(action='ignore', category=DeprecationWarning, message='`np.bool` is a deprecated alias')"
   ]
  },
  {
   "cell_type": "markdown",
   "metadata": {},
   "source": [
    "## Load Calibration results\n"
   ]
  },
  {
   "cell_type": "code",
   "execution_count": 2,
   "metadata": {},
   "outputs": [],
   "source": [
    "calibration_results = pd.read_csv('output_youghiogheny/paramsets_youghiogheny.csv', index_col=0)\n",
    "parameters = calibration_results.iloc[0, -20:]\n"
   ]
  },
  {
   "cell_type": "markdown",
   "metadata": {},
   "source": [
    "## Run Validation"
   ]
  },
  {
   "cell_type": "code",
   "execution_count": 3,
   "metadata": {},
   "outputs": [],
   "source": [
    "# validation_results, simulations, evaporation = run_validation(calibration_results)\n",
    "# validation_results.to_csv('output_youghiogheny/validation_era5.csv')\n",
    "# simulations.to_csv('Data/Youghiogheny/HBVmountain_simulations_ERA5_youghiogheny.csv')\n",
    "# evaporation.to_csv('Data/Youghiogheny/HBVmountain_evaporation_ERA5_youghiogheny.csv')\n",
    "\n",
    "\n",
    "era5_simulation = pd.read_csv('Data/Youghiogheny/HBVmountain_simulations_ERA5_youghiogheny.csv', index_col=0)\n",
    "era5_simulation.index = pd.to_datetime(era5_simulation.index)\n",
    "era5_simulation = pd.DataFrame(era5_simulation.rolling(window=7).mean())\n",
    "\n",
    "evaporation = pd.read_csv('Data/Youghiogheny/HBVmountain_evaporation_ERA5_youghiogheny.csv', index_col=0, parse_dates=True)\n",
    "evaporation.index = pd.to_datetime(evaporation.index)"
   ]
  },
  {
   "cell_type": "code",
   "execution_count": 4,
   "metadata": {},
   "outputs": [],
   "source": [
    "calibration = pd.read_csv('output_youghiogheny/paramsets_youghiogheny.csv')\n",
    "# calibration = calibration.loc[calibration['ED'].isin(calibration.ED.nsmallest(60))]\n",
    "calibration.reset_index(inplace=True)\n",
    "\n",
    "validation  = pd.read_csv('output_youghiogheny/validation_era5.csv').iloc[: , :6]\n",
    "validation.rename(columns={\"ED\": \"ED_val\", \"NSE\": \"NSE_val\", \"logNSE\": \"logNSE_val\", \"NSEfdc\": \"NSEfdc_val\", \"NSErunoff\": \"NSErunoff_val\"}, inplace=True)\n",
    "\n",
    "calval_paramsets =  pd.concat([calibration.iloc[: , :6], validation], axis=1)\n",
    "\n",
    "# calval_paramsets = calval_paramsets.loc[calval_paramsets.ED_val <=0.4]\n",
    "\n",
    "calval_results = calibration_results.loc[calibration.index.isin(calval_paramsets.loc[calval_paramsets.ED_val < 0.50].index)]\n",
    "calval_results.to_csv('calval_results.csv')\n",
    "calval_results = pd.read_csv('calval_results.csv', index_col=0)\n",
    "era5_simulation = era5_simulation.iloc[:, calval_results.index.values]\n",
    "evaporation = evaporation.iloc[:, calval_results.index.values]"
   ]
  },
  {
   "cell_type": "code",
   "execution_count": 5,
   "metadata": {},
   "outputs": [
    {
     "data": {
      "text/html": [
       "<div>\n",
       "<style scoped>\n",
       "    .dataframe tbody tr th:only-of-type {\n",
       "        vertical-align: middle;\n",
       "    }\n",
       "\n",
       "    .dataframe tbody tr th {\n",
       "        vertical-align: top;\n",
       "    }\n",
       "\n",
       "    .dataframe thead th {\n",
       "        text-align: right;\n",
       "    }\n",
       "</style>\n",
       "<table border=\"1\" class=\"dataframe\">\n",
       "  <thead>\n",
       "    <tr style=\"text-align: right;\">\n",
       "      <th></th>\n",
       "      <th>ED</th>\n",
       "      <th>NSE</th>\n",
       "      <th>logNSE</th>\n",
       "      <th>NSEfdc</th>\n",
       "      <th>NSErunoff</th>\n",
       "      <th>Temp_Thresh</th>\n",
       "      <th>Meltfactor</th>\n",
       "      <th>Mm</th>\n",
       "      <th>Ratio_Pref</th>\n",
       "      <th>Kf</th>\n",
       "      <th>...</th>\n",
       "      <th>Soilstoragecapacity_Forest</th>\n",
       "      <th>beta_Forest</th>\n",
       "      <th>Interceptioncapacity_Grass</th>\n",
       "      <th>Soilstoragecapacity_Grass</th>\n",
       "      <th>beta_Grass</th>\n",
       "      <th>Interceptioncapacity_Rip</th>\n",
       "      <th>Soilstoragecapacity_Rip</th>\n",
       "      <th>beta_Rip</th>\n",
       "      <th>Kf_Rip</th>\n",
       "      <th>Ratio_Riparian</th>\n",
       "    </tr>\n",
       "  </thead>\n",
       "  <tbody>\n",
       "    <tr>\n",
       "      <th>6</th>\n",
       "      <td>0.397824</td>\n",
       "      <td>0.508961</td>\n",
       "      <td>0.763228</td>\n",
       "      <td>0.952463</td>\n",
       "      <td>0.422404</td>\n",
       "      <td>0.098741</td>\n",
       "      <td>4.489630</td>\n",
       "      <td>0.180818</td>\n",
       "      <td>0.483871</td>\n",
       "      <td>0.374025</td>\n",
       "      <td>...</td>\n",
       "      <td>290.910416</td>\n",
       "      <td>1.237052</td>\n",
       "      <td>4.481517</td>\n",
       "      <td>300.126342</td>\n",
       "      <td>0.237334</td>\n",
       "      <td>0.660865</td>\n",
       "      <td>61.020409</td>\n",
       "      <td>0.508181</td>\n",
       "      <td>0.748024</td>\n",
       "      <td>0.189376</td>\n",
       "    </tr>\n",
       "    <tr>\n",
       "      <th>8</th>\n",
       "      <td>0.375754</td>\n",
       "      <td>0.494865</td>\n",
       "      <td>0.778953</td>\n",
       "      <td>0.965287</td>\n",
       "      <td>0.490555</td>\n",
       "      <td>-0.187753</td>\n",
       "      <td>4.467579</td>\n",
       "      <td>0.397876</td>\n",
       "      <td>0.501729</td>\n",
       "      <td>0.356221</td>\n",
       "      <td>...</td>\n",
       "      <td>325.280965</td>\n",
       "      <td>0.111254</td>\n",
       "      <td>0.786171</td>\n",
       "      <td>278.305497</td>\n",
       "      <td>1.680254</td>\n",
       "      <td>4.060499</td>\n",
       "      <td>398.119604</td>\n",
       "      <td>0.274702</td>\n",
       "      <td>0.782918</td>\n",
       "      <td>0.081466</td>\n",
       "    </tr>\n",
       "    <tr>\n",
       "      <th>11</th>\n",
       "      <td>0.389405</td>\n",
       "      <td>0.486699</td>\n",
       "      <td>0.785039</td>\n",
       "      <td>0.975360</td>\n",
       "      <td>0.455711</td>\n",
       "      <td>-0.277229</td>\n",
       "      <td>3.759362</td>\n",
       "      <td>0.461852</td>\n",
       "      <td>0.191801</td>\n",
       "      <td>2.937148</td>\n",
       "      <td>...</td>\n",
       "      <td>329.117893</td>\n",
       "      <td>0.109135</td>\n",
       "      <td>4.913545</td>\n",
       "      <td>195.170550</td>\n",
       "      <td>1.038637</td>\n",
       "      <td>1.155956</td>\n",
       "      <td>35.592900</td>\n",
       "      <td>1.472990</td>\n",
       "      <td>0.500519</td>\n",
       "      <td>0.050169</td>\n",
       "    </tr>\n",
       "    <tr>\n",
       "      <th>14</th>\n",
       "      <td>0.380489</td>\n",
       "      <td>0.483263</td>\n",
       "      <td>0.769630</td>\n",
       "      <td>0.982465</td>\n",
       "      <td>0.491383</td>\n",
       "      <td>-0.504772</td>\n",
       "      <td>3.252316</td>\n",
       "      <td>0.851671</td>\n",
       "      <td>0.547167</td>\n",
       "      <td>0.364799</td>\n",
       "      <td>...</td>\n",
       "      <td>310.873543</td>\n",
       "      <td>0.121575</td>\n",
       "      <td>4.565017</td>\n",
       "      <td>199.914795</td>\n",
       "      <td>0.974778</td>\n",
       "      <td>0.112870</td>\n",
       "      <td>179.971374</td>\n",
       "      <td>1.719426</td>\n",
       "      <td>0.554055</td>\n",
       "      <td>0.142984</td>\n",
       "    </tr>\n",
       "    <tr>\n",
       "      <th>15</th>\n",
       "      <td>0.374489</td>\n",
       "      <td>0.501299</td>\n",
       "      <td>0.770762</td>\n",
       "      <td>0.969712</td>\n",
       "      <td>0.491278</td>\n",
       "      <td>-0.118745</td>\n",
       "      <td>4.337237</td>\n",
       "      <td>0.133287</td>\n",
       "      <td>0.472807</td>\n",
       "      <td>0.377213</td>\n",
       "      <td>...</td>\n",
       "      <td>305.726500</td>\n",
       "      <td>0.127016</td>\n",
       "      <td>0.861392</td>\n",
       "      <td>283.611028</td>\n",
       "      <td>0.985245</td>\n",
       "      <td>1.384610</td>\n",
       "      <td>292.457041</td>\n",
       "      <td>1.996424</td>\n",
       "      <td>1.612118</td>\n",
       "      <td>0.060686</td>\n",
       "    </tr>\n",
       "    <tr>\n",
       "      <th>16</th>\n",
       "      <td>0.385978</td>\n",
       "      <td>0.501644</td>\n",
       "      <td>0.774678</td>\n",
       "      <td>0.957503</td>\n",
       "      <td>0.456878</td>\n",
       "      <td>0.344949</td>\n",
       "      <td>4.997184</td>\n",
       "      <td>0.072815</td>\n",
       "      <td>0.480493</td>\n",
       "      <td>0.342506</td>\n",
       "      <td>...</td>\n",
       "      <td>311.798104</td>\n",
       "      <td>0.175736</td>\n",
       "      <td>1.507342</td>\n",
       "      <td>310.507192</td>\n",
       "      <td>1.816611</td>\n",
       "      <td>2.377993</td>\n",
       "      <td>35.369062</td>\n",
       "      <td>0.843212</td>\n",
       "      <td>0.657936</td>\n",
       "      <td>0.307716</td>\n",
       "    </tr>\n",
       "    <tr>\n",
       "      <th>18</th>\n",
       "      <td>0.375275</td>\n",
       "      <td>0.510154</td>\n",
       "      <td>0.773276</td>\n",
       "      <td>0.975848</td>\n",
       "      <td>0.479049</td>\n",
       "      <td>0.259262</td>\n",
       "      <td>4.194040</td>\n",
       "      <td>0.574710</td>\n",
       "      <td>0.541757</td>\n",
       "      <td>0.425605</td>\n",
       "      <td>...</td>\n",
       "      <td>359.557266</td>\n",
       "      <td>0.123788</td>\n",
       "      <td>4.795692</td>\n",
       "      <td>217.276081</td>\n",
       "      <td>1.983460</td>\n",
       "      <td>4.559692</td>\n",
       "      <td>321.486566</td>\n",
       "      <td>0.891675</td>\n",
       "      <td>1.467074</td>\n",
       "      <td>0.114223</td>\n",
       "    </tr>\n",
       "    <tr>\n",
       "      <th>20</th>\n",
       "      <td>0.384403</td>\n",
       "      <td>0.502689</td>\n",
       "      <td>0.785653</td>\n",
       "      <td>0.991755</td>\n",
       "      <td>0.454352</td>\n",
       "      <td>-0.029487</td>\n",
       "      <td>3.889876</td>\n",
       "      <td>0.249153</td>\n",
       "      <td>0.593915</td>\n",
       "      <td>0.437401</td>\n",
       "      <td>...</td>\n",
       "      <td>299.431339</td>\n",
       "      <td>0.120179</td>\n",
       "      <td>3.431137</td>\n",
       "      <td>63.504264</td>\n",
       "      <td>1.070339</td>\n",
       "      <td>7.862713</td>\n",
       "      <td>362.369122</td>\n",
       "      <td>1.814340</td>\n",
       "      <td>0.361098</td>\n",
       "      <td>0.159174</td>\n",
       "    </tr>\n",
       "    <tr>\n",
       "      <th>21</th>\n",
       "      <td>0.378797</td>\n",
       "      <td>0.503709</td>\n",
       "      <td>0.780109</td>\n",
       "      <td>0.990473</td>\n",
       "      <td>0.471605</td>\n",
       "      <td>0.034808</td>\n",
       "      <td>3.677270</td>\n",
       "      <td>0.190478</td>\n",
       "      <td>0.612030</td>\n",
       "      <td>0.319729</td>\n",
       "      <td>...</td>\n",
       "      <td>328.784466</td>\n",
       "      <td>0.129264</td>\n",
       "      <td>3.658109</td>\n",
       "      <td>132.886597</td>\n",
       "      <td>1.686341</td>\n",
       "      <td>3.423974</td>\n",
       "      <td>327.122842</td>\n",
       "      <td>0.536316</td>\n",
       "      <td>1.712455</td>\n",
       "      <td>0.327092</td>\n",
       "    </tr>\n",
       "    <tr>\n",
       "      <th>27</th>\n",
       "      <td>0.393825</td>\n",
       "      <td>0.489537</td>\n",
       "      <td>0.754689</td>\n",
       "      <td>0.936703</td>\n",
       "      <td>0.456276</td>\n",
       "      <td>-1.473426</td>\n",
       "      <td>2.665218</td>\n",
       "      <td>0.140063</td>\n",
       "      <td>0.511915</td>\n",
       "      <td>0.325346</td>\n",
       "      <td>...</td>\n",
       "      <td>324.994837</td>\n",
       "      <td>1.208286</td>\n",
       "      <td>4.982212</td>\n",
       "      <td>397.822572</td>\n",
       "      <td>0.100003</td>\n",
       "      <td>7.111813</td>\n",
       "      <td>289.108793</td>\n",
       "      <td>1.948899</td>\n",
       "      <td>1.170829</td>\n",
       "      <td>0.374284</td>\n",
       "    </tr>\n",
       "    <tr>\n",
       "      <th>29</th>\n",
       "      <td>0.368223</td>\n",
       "      <td>0.515718</td>\n",
       "      <td>0.773010</td>\n",
       "      <td>0.986999</td>\n",
       "      <td>0.493907</td>\n",
       "      <td>0.479927</td>\n",
       "      <td>4.943128</td>\n",
       "      <td>0.944892</td>\n",
       "      <td>0.493822</td>\n",
       "      <td>0.392874</td>\n",
       "      <td>...</td>\n",
       "      <td>328.817558</td>\n",
       "      <td>0.100455</td>\n",
       "      <td>2.083448</td>\n",
       "      <td>355.735143</td>\n",
       "      <td>1.777677</td>\n",
       "      <td>7.431274</td>\n",
       "      <td>384.337963</td>\n",
       "      <td>1.762020</td>\n",
       "      <td>1.615398</td>\n",
       "      <td>0.095185</td>\n",
       "    </tr>\n",
       "    <tr>\n",
       "      <th>34</th>\n",
       "      <td>0.376919</td>\n",
       "      <td>0.496445</td>\n",
       "      <td>0.774121</td>\n",
       "      <td>0.989129</td>\n",
       "      <td>0.486614</td>\n",
       "      <td>-0.196383</td>\n",
       "      <td>4.013526</td>\n",
       "      <td>0.352001</td>\n",
       "      <td>0.488568</td>\n",
       "      <td>0.476591</td>\n",
       "      <td>...</td>\n",
       "      <td>332.836442</td>\n",
       "      <td>0.105368</td>\n",
       "      <td>3.739523</td>\n",
       "      <td>228.411138</td>\n",
       "      <td>1.541475</td>\n",
       "      <td>6.313536</td>\n",
       "      <td>397.629878</td>\n",
       "      <td>1.825268</td>\n",
       "      <td>1.185034</td>\n",
       "      <td>0.255591</td>\n",
       "    </tr>\n",
       "    <tr>\n",
       "      <th>36</th>\n",
       "      <td>0.378937</td>\n",
       "      <td>0.505787</td>\n",
       "      <td>0.771552</td>\n",
       "      <td>0.992929</td>\n",
       "      <td>0.472849</td>\n",
       "      <td>0.106907</td>\n",
       "      <td>3.662055</td>\n",
       "      <td>0.451493</td>\n",
       "      <td>0.630591</td>\n",
       "      <td>0.300252</td>\n",
       "      <td>...</td>\n",
       "      <td>313.168768</td>\n",
       "      <td>0.108269</td>\n",
       "      <td>3.592205</td>\n",
       "      <td>155.583829</td>\n",
       "      <td>1.837501</td>\n",
       "      <td>7.866120</td>\n",
       "      <td>308.397831</td>\n",
       "      <td>1.522676</td>\n",
       "      <td>1.157451</td>\n",
       "      <td>0.211219</td>\n",
       "    </tr>\n",
       "    <tr>\n",
       "      <th>38</th>\n",
       "      <td>0.389122</td>\n",
       "      <td>0.474349</td>\n",
       "      <td>0.762020</td>\n",
       "      <td>0.941310</td>\n",
       "      <td>0.481082</td>\n",
       "      <td>-1.609006</td>\n",
       "      <td>3.384950</td>\n",
       "      <td>0.119825</td>\n",
       "      <td>0.234141</td>\n",
       "      <td>2.372912</td>\n",
       "      <td>...</td>\n",
       "      <td>697.245718</td>\n",
       "      <td>0.109411</td>\n",
       "      <td>1.921463</td>\n",
       "      <td>233.264040</td>\n",
       "      <td>0.935081</td>\n",
       "      <td>4.623950</td>\n",
       "      <td>82.358295</td>\n",
       "      <td>1.528332</td>\n",
       "      <td>0.372553</td>\n",
       "      <td>0.057233</td>\n",
       "    </tr>\n",
       "    <tr>\n",
       "      <th>39</th>\n",
       "      <td>0.382137</td>\n",
       "      <td>0.502595</td>\n",
       "      <td>0.761931</td>\n",
       "      <td>0.991468</td>\n",
       "      <td>0.470895</td>\n",
       "      <td>0.192467</td>\n",
       "      <td>4.901649</td>\n",
       "      <td>0.904076</td>\n",
       "      <td>0.697241</td>\n",
       "      <td>0.361162</td>\n",
       "      <td>...</td>\n",
       "      <td>230.942823</td>\n",
       "      <td>0.177083</td>\n",
       "      <td>4.264296</td>\n",
       "      <td>239.477330</td>\n",
       "      <td>1.330452</td>\n",
       "      <td>5.003903</td>\n",
       "      <td>396.485712</td>\n",
       "      <td>1.839867</td>\n",
       "      <td>1.710618</td>\n",
       "      <td>0.197374</td>\n",
       "    </tr>\n",
       "    <tr>\n",
       "      <th>41</th>\n",
       "      <td>0.374414</td>\n",
       "      <td>0.503830</td>\n",
       "      <td>0.755119</td>\n",
       "      <td>0.965444</td>\n",
       "      <td>0.496615</td>\n",
       "      <td>0.192378</td>\n",
       "      <td>4.527214</td>\n",
       "      <td>0.218032</td>\n",
       "      <td>0.759486</td>\n",
       "      <td>0.265048</td>\n",
       "      <td>...</td>\n",
       "      <td>353.912854</td>\n",
       "      <td>0.118309</td>\n",
       "      <td>2.319532</td>\n",
       "      <td>282.293535</td>\n",
       "      <td>1.377325</td>\n",
       "      <td>7.275573</td>\n",
       "      <td>332.352174</td>\n",
       "      <td>1.527304</td>\n",
       "      <td>0.829401</td>\n",
       "      <td>0.459916</td>\n",
       "    </tr>\n",
       "    <tr>\n",
       "      <th>43</th>\n",
       "      <td>0.382190</td>\n",
       "      <td>0.502062</td>\n",
       "      <td>0.760914</td>\n",
       "      <td>0.995299</td>\n",
       "      <td>0.471652</td>\n",
       "      <td>0.143801</td>\n",
       "      <td>3.928887</td>\n",
       "      <td>0.957753</td>\n",
       "      <td>0.747865</td>\n",
       "      <td>0.325895</td>\n",
       "      <td>...</td>\n",
       "      <td>250.842294</td>\n",
       "      <td>0.115348</td>\n",
       "      <td>3.299899</td>\n",
       "      <td>206.118649</td>\n",
       "      <td>1.100727</td>\n",
       "      <td>2.511149</td>\n",
       "      <td>180.966202</td>\n",
       "      <td>1.521055</td>\n",
       "      <td>1.863815</td>\n",
       "      <td>0.177763</td>\n",
       "    </tr>\n",
       "    <tr>\n",
       "      <th>45</th>\n",
       "      <td>0.387184</td>\n",
       "      <td>0.509771</td>\n",
       "      <td>0.771192</td>\n",
       "      <td>0.974683</td>\n",
       "      <td>0.446532</td>\n",
       "      <td>0.138423</td>\n",
       "      <td>4.995098</td>\n",
       "      <td>0.898702</td>\n",
       "      <td>0.521079</td>\n",
       "      <td>0.325297</td>\n",
       "      <td>...</td>\n",
       "      <td>249.743289</td>\n",
       "      <td>1.923201</td>\n",
       "      <td>1.775071</td>\n",
       "      <td>313.502282</td>\n",
       "      <td>0.100051</td>\n",
       "      <td>6.321073</td>\n",
       "      <td>204.955350</td>\n",
       "      <td>1.848853</td>\n",
       "      <td>1.496994</td>\n",
       "      <td>0.185271</td>\n",
       "    </tr>\n",
       "    <tr>\n",
       "      <th>47</th>\n",
       "      <td>0.377274</td>\n",
       "      <td>0.495144</td>\n",
       "      <td>0.772216</td>\n",
       "      <td>0.978413</td>\n",
       "      <td>0.488031</td>\n",
       "      <td>-0.411834</td>\n",
       "      <td>4.878273</td>\n",
       "      <td>0.078843</td>\n",
       "      <td>0.579454</td>\n",
       "      <td>0.375312</td>\n",
       "      <td>...</td>\n",
       "      <td>606.132000</td>\n",
       "      <td>0.110672</td>\n",
       "      <td>1.784470</td>\n",
       "      <td>227.310516</td>\n",
       "      <td>1.987673</td>\n",
       "      <td>6.181510</td>\n",
       "      <td>305.573356</td>\n",
       "      <td>1.238652</td>\n",
       "      <td>2.672376</td>\n",
       "      <td>0.406216</td>\n",
       "    </tr>\n",
       "  </tbody>\n",
       "</table>\n",
       "<p>19 rows × 25 columns</p>\n",
       "</div>"
      ],
      "text/plain": [
       "          ED       NSE    logNSE    NSEfdc  NSErunoff  Temp_Thresh  \\\n",
       "6   0.397824  0.508961  0.763228  0.952463   0.422404     0.098741   \n",
       "8   0.375754  0.494865  0.778953  0.965287   0.490555    -0.187753   \n",
       "11  0.389405  0.486699  0.785039  0.975360   0.455711    -0.277229   \n",
       "14  0.380489  0.483263  0.769630  0.982465   0.491383    -0.504772   \n",
       "15  0.374489  0.501299  0.770762  0.969712   0.491278    -0.118745   \n",
       "16  0.385978  0.501644  0.774678  0.957503   0.456878     0.344949   \n",
       "18  0.375275  0.510154  0.773276  0.975848   0.479049     0.259262   \n",
       "20  0.384403  0.502689  0.785653  0.991755   0.454352    -0.029487   \n",
       "21  0.378797  0.503709  0.780109  0.990473   0.471605     0.034808   \n",
       "27  0.393825  0.489537  0.754689  0.936703   0.456276    -1.473426   \n",
       "29  0.368223  0.515718  0.773010  0.986999   0.493907     0.479927   \n",
       "34  0.376919  0.496445  0.774121  0.989129   0.486614    -0.196383   \n",
       "36  0.378937  0.505787  0.771552  0.992929   0.472849     0.106907   \n",
       "38  0.389122  0.474349  0.762020  0.941310   0.481082    -1.609006   \n",
       "39  0.382137  0.502595  0.761931  0.991468   0.470895     0.192467   \n",
       "41  0.374414  0.503830  0.755119  0.965444   0.496615     0.192378   \n",
       "43  0.382190  0.502062  0.760914  0.995299   0.471652     0.143801   \n",
       "45  0.387184  0.509771  0.771192  0.974683   0.446532     0.138423   \n",
       "47  0.377274  0.495144  0.772216  0.978413   0.488031    -0.411834   \n",
       "\n",
       "    Meltfactor        Mm  Ratio_Pref        Kf  ...  \\\n",
       "6     4.489630  0.180818    0.483871  0.374025  ...   \n",
       "8     4.467579  0.397876    0.501729  0.356221  ...   \n",
       "11    3.759362  0.461852    0.191801  2.937148  ...   \n",
       "14    3.252316  0.851671    0.547167  0.364799  ...   \n",
       "15    4.337237  0.133287    0.472807  0.377213  ...   \n",
       "16    4.997184  0.072815    0.480493  0.342506  ...   \n",
       "18    4.194040  0.574710    0.541757  0.425605  ...   \n",
       "20    3.889876  0.249153    0.593915  0.437401  ...   \n",
       "21    3.677270  0.190478    0.612030  0.319729  ...   \n",
       "27    2.665218  0.140063    0.511915  0.325346  ...   \n",
       "29    4.943128  0.944892    0.493822  0.392874  ...   \n",
       "34    4.013526  0.352001    0.488568  0.476591  ...   \n",
       "36    3.662055  0.451493    0.630591  0.300252  ...   \n",
       "38    3.384950  0.119825    0.234141  2.372912  ...   \n",
       "39    4.901649  0.904076    0.697241  0.361162  ...   \n",
       "41    4.527214  0.218032    0.759486  0.265048  ...   \n",
       "43    3.928887  0.957753    0.747865  0.325895  ...   \n",
       "45    4.995098  0.898702    0.521079  0.325297  ...   \n",
       "47    4.878273  0.078843    0.579454  0.375312  ...   \n",
       "\n",
       "    Soilstoragecapacity_Forest  beta_Forest  Interceptioncapacity_Grass  \\\n",
       "6                   290.910416     1.237052                    4.481517   \n",
       "8                   325.280965     0.111254                    0.786171   \n",
       "11                  329.117893     0.109135                    4.913545   \n",
       "14                  310.873543     0.121575                    4.565017   \n",
       "15                  305.726500     0.127016                    0.861392   \n",
       "16                  311.798104     0.175736                    1.507342   \n",
       "18                  359.557266     0.123788                    4.795692   \n",
       "20                  299.431339     0.120179                    3.431137   \n",
       "21                  328.784466     0.129264                    3.658109   \n",
       "27                  324.994837     1.208286                    4.982212   \n",
       "29                  328.817558     0.100455                    2.083448   \n",
       "34                  332.836442     0.105368                    3.739523   \n",
       "36                  313.168768     0.108269                    3.592205   \n",
       "38                  697.245718     0.109411                    1.921463   \n",
       "39                  230.942823     0.177083                    4.264296   \n",
       "41                  353.912854     0.118309                    2.319532   \n",
       "43                  250.842294     0.115348                    3.299899   \n",
       "45                  249.743289     1.923201                    1.775071   \n",
       "47                  606.132000     0.110672                    1.784470   \n",
       "\n",
       "    Soilstoragecapacity_Grass  beta_Grass  Interceptioncapacity_Rip  \\\n",
       "6                  300.126342    0.237334                  0.660865   \n",
       "8                  278.305497    1.680254                  4.060499   \n",
       "11                 195.170550    1.038637                  1.155956   \n",
       "14                 199.914795    0.974778                  0.112870   \n",
       "15                 283.611028    0.985245                  1.384610   \n",
       "16                 310.507192    1.816611                  2.377993   \n",
       "18                 217.276081    1.983460                  4.559692   \n",
       "20                  63.504264    1.070339                  7.862713   \n",
       "21                 132.886597    1.686341                  3.423974   \n",
       "27                 397.822572    0.100003                  7.111813   \n",
       "29                 355.735143    1.777677                  7.431274   \n",
       "34                 228.411138    1.541475                  6.313536   \n",
       "36                 155.583829    1.837501                  7.866120   \n",
       "38                 233.264040    0.935081                  4.623950   \n",
       "39                 239.477330    1.330452                  5.003903   \n",
       "41                 282.293535    1.377325                  7.275573   \n",
       "43                 206.118649    1.100727                  2.511149   \n",
       "45                 313.502282    0.100051                  6.321073   \n",
       "47                 227.310516    1.987673                  6.181510   \n",
       "\n",
       "    Soilstoragecapacity_Rip  beta_Rip    Kf_Rip  Ratio_Riparian  \n",
       "6                 61.020409  0.508181  0.748024        0.189376  \n",
       "8                398.119604  0.274702  0.782918        0.081466  \n",
       "11                35.592900  1.472990  0.500519        0.050169  \n",
       "14               179.971374  1.719426  0.554055        0.142984  \n",
       "15               292.457041  1.996424  1.612118        0.060686  \n",
       "16                35.369062  0.843212  0.657936        0.307716  \n",
       "18               321.486566  0.891675  1.467074        0.114223  \n",
       "20               362.369122  1.814340  0.361098        0.159174  \n",
       "21               327.122842  0.536316  1.712455        0.327092  \n",
       "27               289.108793  1.948899  1.170829        0.374284  \n",
       "29               384.337963  1.762020  1.615398        0.095185  \n",
       "34               397.629878  1.825268  1.185034        0.255591  \n",
       "36               308.397831  1.522676  1.157451        0.211219  \n",
       "38                82.358295  1.528332  0.372553        0.057233  \n",
       "39               396.485712  1.839867  1.710618        0.197374  \n",
       "41               332.352174  1.527304  0.829401        0.459916  \n",
       "43               180.966202  1.521055  1.863815        0.177763  \n",
       "45               204.955350  1.848853  1.496994        0.185271  \n",
       "47               305.573356  1.238652  2.672376        0.406216  \n",
       "\n",
       "[19 rows x 25 columns]"
      ]
     },
     "execution_count": 5,
     "metadata": {},
     "output_type": "execute_result"
    }
   ],
   "source": [
    "# calval_results = pd.read_csv('calval_results.csv')\n",
    "calval_results"
   ]
  },
  {
   "cell_type": "markdown",
   "metadata": {},
   "source": [
    "### Run climate simulations"
   ]
  },
  {
   "cell_type": "code",
   "execution_count": 6,
   "metadata": {},
   "outputs": [],
   "source": [
    "# dfhist = run_climate_simulations(calval_results, 'Data/Youghiogheny/HBVmountain_GFDL-CM4_Youghiogheny_1975_2005.nc')\n",
    "# df245 = run_climate_simulations(calval_results, 'Data/Youghiogheny/HBVmountain_GFDL-CM4_Youghiogheny_2067_2100_ssp245.nc')\n",
    "# df585 = run_climate_simulations(calval_results, 'Data/Youghiogheny/HBVmountain_GFDL-CM4_Youghiogheny_2067_2100_ssp585.nc')\n",
    "\n",
    "# dfhist.to_csv('Data/climate_simulations_GFDL-CM4_youghiogheny_hist.csv')\n",
    "# df245.to_csv('Data/climate_simulations_GFDL-CM4_youghiogheny_ssp245.csv')\n",
    "# df585.to_csv('Data/climate_simulations_GFDL-CM4_youghiogheny_ssp585.csv')\n",
    "\n",
    "# dfhist = run_climate_simulations(calval_results, 'Data/Youghiogheny/HBVmountain_MPI-ESM1-2-HR_Youghiogheny_1975_2005.nc')\n",
    "# df245 = run_climate_simulations(calval_results, 'Data/Youghiogheny/HBVmountain_MPI-ESM1-2-HR_Youghiogheny_2067_2100_ssp245.nc')\n",
    "# df585 = run_climate_simulations(calval_results, 'Data/Youghiogheny/HBVmountain_MPI-ESM1-2-HR_Youghiogheny_2067_2100_ssp585.nc')\n",
    "\n",
    "# dfhist.to_csv('Data/climate_simulations_MPI-ESM1-2-HR_youghiogheny_hist.csv')\n",
    "# df245.to_csv('Data/climate_simulations_MPI-ESM1-2-HR_youghiogheny_ssp245.csv')\n",
    "# df585.to_csv('Data/climate_simulations_MPI-ESM1-2-HR_youghiogheny_ssp585.csv')"
   ]
  },
  {
   "cell_type": "code",
   "execution_count": 8,
   "metadata": {},
   "outputs": [],
   "source": [
    "# dfhist_bc = run_climate_simulations_biascorrected(calval_results, 'Data/Youghiogheny/HBVmountain_GFDL-CM4_Youghiogheny_1975_2005.nc',\n",
    "#                                            'Data/Youghiogheny/HBVmountain_ERA5_Youghiogheny_1986_2005.nc', 'Data/Youghiogheny/HBVmountain_GFDL-CM4_Youghiogheny_1975_2005.nc')\n",
    "# dfhist_bc.to_csv('Data/climate_simulations_GFDL-CM4_youghiogheny_hist_bc.csv')\n",
    "# df245_bc = run_climate_simulations_biascorrected(calval_results, 'Data/Youghiogheny/HBVmountain_GFDL-CM4_Youghiogheny_2067_2100_ssp245.nc',\n",
    "#                                            'Data/Youghiogheny/HBVmountain_ERA5_Youghiogheny_1986_2005.nc', 'Data/Youghiogheny/HBVmountain_GFDL-CM4_Youghiogheny_1975_2005.nc')\n",
    "# df245_bc.to_csv('Data/climate_simulations_GFDL-CM4_youghiogheny_ssp245_bc.csv')\n",
    "\n",
    "# df585_bc = run_climate_simulations_biascorrected(calval_results, 'Data/Youghiogheny/HBVmountain_GFDL-CM4_Youghiogheny_2067_2100_ssp585.nc',\n",
    "#                                            'Data/Youghiogheny/HBVmountain_ERA5_Youghiogheny_1986_2005.nc', 'Data/Youghiogheny/HBVmountain_GFDL-CM4_Youghiogheny_1975_2005.nc')\n",
    "# df585_bc.to_csv('Data/climate_simulations_GFDL-CM4_youghiogheny_ssp585_bc.csv')\n",
    "\n",
    "\n",
    "\n",
    "\n",
    "# dfhist_bc = run_climate_simulations_biascorrected(calval_results, 'Data/Youghiogheny/HBVmountain_MPI-ESM1-2-HR_Youghiogheny_1975_2005.nc',\n",
    "#                                            'Data/Youghiogheny/HBVmountain_ERA5_Youghiogheny_1986_2005.nc', 'Data/Youghiogheny/HBVmountain_MPI-ESM1-2-HR_Youghiogheny_1975_2005.nc')\n",
    "# dfhist_bc.to_csv('Data/climate_simulations_MPI-ESM1-2-HR_youghiogheny_hist_bc.csv')\n",
    "\n",
    "# df245_bc = run_climate_simulations_biascorrected(calval_results, 'Data/Youghiogheny/HBVmountain_MPI-ESM1-2-HR_Youghiogheny_2067_2100_ssp245.nc',\n",
    "#                                            'Data/Youghiogheny/HBVmountain_ERA5_Youghiogheny_1986_2005.nc', 'Data/Youghiogheny/HBVmountain_MPI-ESM1-2-HR_Youghiogheny_1975_2005.nc')\n",
    "# df245_bc.to_csv('Data/climate_simulations_MPI-ESM1-2-HR_youghiogheny_ssp245_bc.csv')\n",
    "\n",
    "# df585_bc = run_climate_simulations_biascorrected(calval_results, 'Data/Youghiogheny/HBVmountain_MPI-ESM1-2-HR_Youghiogheny_2067_2100_ssp585.nc',\n",
    "#                                            'Data/Youghiogheny/HBVmountain_ERA5_Youghiogheny_1986_2005.nc', 'Data/Youghiogheny/HBVmountain_MPI-ESM1-2-HR_Youghiogheny_1975_2005.nc')\n",
    "# df585_bc.to_csv('Data/climate_simulations_MPI-ESM1-2-HR_youghiogheny_ssp585_bc.csv')"
   ]
  },
  {
   "cell_type": "markdown",
   "metadata": {},
   "source": [
    "### Load Forcing"
   ]
  },
  {
   "cell_type": "code",
   "execution_count": 27,
   "metadata": {},
   "outputs": [],
   "source": [
    "ERA5_forcing = nc.Dataset('Data/Youghiogheny/HBVmountain_ERA5_Youghiogheny_1986_2005.nc')\n",
    "ERA5_forcing = generate_forcing_from_NETCDF(ERA5_forcing)\n",
    "ERA5_forcing.index = pd.to_datetime(ERA5_forcing.index)\n",
    "\n",
    "hist_gfdl_forcing =  nc.Dataset('Data/Youghiogheny/HBVmountain_GFDL-CM4_Youghiogheny_1975_2005.nc')\n",
    "hist_gfdl_forcing = generate_forcing_from_NETCDF(hist_gfdl_forcing)\n",
    "hist_gfdl_forcing.index = pd.to_datetime(hist_gfdl_forcing.index)\n",
    "\n",
    "ssp245_gfdl_forcing =  nc.Dataset('Data/Youghiogheny/HBVmountain_GFDL-CM4_Youghiogheny_2067_2100_ssp245.nc')\n",
    "ssp245_gfdl_forcing = generate_forcing_from_NETCDF(ssp245_gfdl_forcing)\n",
    "ssp245_gfdl_forcing.index = pd.to_datetime(ssp245_gfdl_forcing.index)\n",
    "\n",
    "ssp585_gfdl_forcing =  nc.Dataset('Data/Youghiogheny/HBVmountain_GFDL-CM4_Youghiogheny_2067_2100_ssp245.nc')\n",
    "ssp585_gfdl_forcing = generate_forcing_from_NETCDF(ssp585_gfdl_forcing)\n",
    "ssp585_gfdl_forcing.index = pd.to_datetime(ssp585_gfdl_forcing.index)\n",
    "\n",
    "hist_mpi_forcing =  nc.Dataset('Data/Youghiogheny/HBVmountain_MPI-ESM1-2-HR_Youghiogheny_1975_2005.nc')\n",
    "hist_mpi_forcing = generate_forcing_from_NETCDF(hist_mpi_forcing)\n",
    "hist_mpi_forcing.index = pd.to_datetime(hist_mpi_forcing.index)\n",
    "\n",
    "ssp245_mpi_forcing =  nc.Dataset('Data/Youghiogheny/HBVmountain_MPI-ESM1-2-HR_Youghiogheny_2067_2100_ssp245.nc')\n",
    "ssp245_mpi_forcing = generate_forcing_from_NETCDF(ssp245_mpi_forcing)\n",
    "ssp245_mpi_forcing.index = pd.to_datetime(ssp245_mpi_forcing.index)\n",
    "\n",
    "ssp585_mpi_forcing =  nc.Dataset('Data/Youghiogheny/HBVmountain_MPI-ESM1-2-HR_Youghiogheny_2067_2100_ssp245.nc')\n",
    "ssp585_mpi_forcing = generate_forcing_from_NETCDF(ssp585_mpi_forcing)\n",
    "ssp585_mpi_forcing.index = pd.to_datetime(ssp585_mpi_forcing.index)"
   ]
  },
  {
   "cell_type": "markdown",
   "metadata": {},
   "source": [
    "### Load GRDC observations"
   ]
  },
  {
   "cell_type": "code",
   "execution_count": 10,
   "metadata": {},
   "outputs": [
    {
     "data": {
      "text/plain": [
       "streamflow    2.29571\n",
       "dtype: float64"
      ]
     },
     "execution_count": 10,
     "metadata": {},
     "output_type": "execute_result"
    }
   ],
   "source": [
    "observation = pd.read_csv('Data/Youghiogheny/Discharge_Youghiogheny.csv', index_col=0) /(347.1 * 1e6) * 1000 *86400\n",
    "observation.index = pd.to_datetime(observation.index)\n",
    "# observation = pd.DataFrame(observation['streamflow'].rolling(window=7).mean())\n",
    "\n",
    "observation.head(10)\n",
    "observation.mean()"
   ]
  },
  {
   "cell_type": "code",
   "execution_count": 11,
   "metadata": {},
   "outputs": [
    {
     "data": {
      "text/plain": [
       "(-2.438791513442993, 20.195327758789062)"
      ]
     },
     "execution_count": 11,
     "metadata": {},
     "output_type": "execute_result"
    }
   ],
   "source": [
    "forcing = nc.Dataset('Data/Youghiogheny/HBVmountain_ERA5_Youghiogheny_1986_2005.nc')\n",
    "forcing = generate_forcing_from_NETCDF(forcing)\n",
    "forcing.index = pd.to_datetime(forcing.index)\n",
    "an_forcing = forcing.groupby(forcing.index.strftime(\"%m\")).mean()\n",
    "\n",
    "an_forcing.temp.min(), an_forcing.temp.max()"
   ]
  },
  {
   "cell_type": "markdown",
   "metadata": {},
   "source": [
    "### Load climate simulations\n"
   ]
  },
  {
   "cell_type": "code",
   "execution_count": 12,
   "metadata": {},
   "outputs": [],
   "source": [
    "simulations_GFDL_CM4_historical = pd.read_csv('Data/Youghiogheny/climate_simulations_GFDL-CM4_youghiogheny_hist.csv', index_col=[0])\n",
    "simulations_GFDL_CM4_historical.index = pd.to_datetime(simulations_GFDL_CM4_historical.index)\n",
    "simulations_GFDL_CM4_historical = pd.DataFrame(simulations_GFDL_CM4_historical.rolling(window=7).mean())\n",
    "\n",
    "simulations_GFDL_CM4_ssp245 = pd.read_csv('Data/Youghiogheny/climate_simulations_GFDL-CM4_youghiogheny_ssp245.csv', index_col=[0])\n",
    "simulations_GFDL_CM4_ssp245.index = pd.to_datetime(simulations_GFDL_CM4_ssp245.index)\n",
    "simulations_GFDL_CM4_ssp245 = pd.DataFrame(simulations_GFDL_CM4_ssp245.rolling(window=7).mean())\n",
    "\n",
    "simulations_GFDL_CM4_ssp585 = pd.read_csv('Data/Youghiogheny/climate_simulations_GFDL-CM4_youghiogheny_ssp585.csv', index_col=[0])\n",
    "simulations_GFDL_CM4_ssp585.index = pd.to_datetime(simulations_GFDL_CM4_ssp585.index)\n",
    "simulations_GFDL_CM4_ssp585 = pd.DataFrame(simulations_GFDL_CM4_ssp585.rolling(window=7).mean())\n",
    "\n",
    "simulations_MPI_ESM1_2_HR_historical = pd.read_csv('Data/Youghiogheny/climate_simulations_MPI-ESM1-2-HR_youghiogheny_hist.csv', index_col=[0])\n",
    "simulations_MPI_ESM1_2_HR_historical.index = pd.to_datetime(simulations_MPI_ESM1_2_HR_historical.index)\n",
    "simulations_MPI_ESM1_2_HR_historical = pd.DataFrame(simulations_MPI_ESM1_2_HR_historical.rolling(window=7).mean())\n",
    "\n",
    "simulations_MPI_ESM1_2_HR_ssp245 = pd.read_csv('Data/Youghiogheny/climate_simulations_MPI-ESM1-2-HR_youghiogheny_ssp245.csv', index_col=[0])\n",
    "simulations_MPI_ESM1_2_HR_ssp245.index = pd.to_datetime(simulations_MPI_ESM1_2_HR_ssp245.index)\n",
    "simulations_MPI_ESM1_2_HR_ssp245 = pd.DataFrame(simulations_MPI_ESM1_2_HR_ssp245.rolling(window=7).mean())\n",
    "\n",
    "simulations_MPI_ESM1_2_HR_ssp585 = pd.read_csv('Data/Youghiogheny/climate_simulations_MPI-ESM1-2-HR_youghiogheny_ssp585.csv', index_col=[0])\n",
    "simulations_MPI_ESM1_2_HR_ssp585.index = pd.to_datetime(simulations_MPI_ESM1_2_HR_ssp585.index)\n",
    "simulations_MPI_ESM1_2_HR_ssp585 = pd.DataFrame(simulations_MPI_ESM1_2_HR_ssp585.rolling(window=7).mean())"
   ]
  },
  {
   "cell_type": "code",
   "execution_count": 13,
   "metadata": {},
   "outputs": [],
   "source": [
    "simulations_GFDL_CM4_historical_bc = pd.read_csv('Data/Youghiogheny/climate_simulations_GFDL-CM4_youghiogheny_hist_bc.csv', index_col=[0])\n",
    "simulations_GFDL_CM4_historical_bc.index = pd.to_datetime(simulations_GFDL_CM4_historical_bc.index)\n",
    "simulations_GFDL_CM4_historical_bc = pd.DataFrame(simulations_GFDL_CM4_historical_bc.rolling(window=7).mean())\n",
    "\n",
    "simulations_GFDL_CM4_ssp245_bc = pd.read_csv('Data/Youghiogheny/climate_simulations_GFDL-CM4_youghiogheny_ssp245_bc.csv', index_col=[0])\n",
    "simulations_GFDL_CM4_ssp245_bc.index = pd.to_datetime(simulations_GFDL_CM4_ssp245_bc.index)\n",
    "simulations_GFDL_CM4_ssp245_bc = pd.DataFrame(simulations_GFDL_CM4_ssp245_bc.rolling(window=7).mean())\n",
    "\n",
    "simulations_GFDL_CM4_ssp585_bc = pd.read_csv('Data/Youghiogheny/climate_simulations_GFDL-CM4_youghiogheny_ssp585_bc.csv', index_col=[0])\n",
    "simulations_GFDL_CM4_ssp585_bc.index = pd.to_datetime(simulations_GFDL_CM4_ssp585_bc.index)\n",
    "simulations_GFDL_CM4_ssp585_bc = pd.DataFrame(simulations_GFDL_CM4_ssp585_bc.rolling(window=7).mean())\n",
    "\n",
    "simulations_MPI_ESM1_2_HR_historical_bc = pd.read_csv('Data/Youghiogheny/climate_simulations_MPI-ESM1-2-HR_youghiogheny_hist_bc.csv', index_col=[0])\n",
    "simulations_MPI_ESM1_2_HR_historical_bc.index = pd.to_datetime(simulations_MPI_ESM1_2_HR_historical_bc.index)\n",
    "simulations_MPI_ESM1_2_HR_historical_bc = pd.DataFrame(simulations_MPI_ESM1_2_HR_historical_bc.rolling(window=7).mean())\n",
    "\n",
    "simulations_MPI_ESM1_2_HR_ssp245_bc = pd.read_csv('Data/Youghiogheny/climate_simulations_MPI-ESM1-2-HR_youghiogheny_ssp245_bc.csv', index_col=[0])\n",
    "simulations_MPI_ESM1_2_HR_ssp245_bc.index = pd.to_datetime(simulations_MPI_ESM1_2_HR_ssp245_bc.index)\n",
    "simulations_MPI_ESM1_2_HR_ssp245_bc = pd.DataFrame(simulations_MPI_ESM1_2_HR_ssp245_bc.rolling(window=7).mean())\n",
    "\n",
    "simulations_MPI_ESM1_2_HR_ssp585_bc = pd.read_csv('Data/Youghiogheny/climate_simulations_MPI-ESM1-2-HR_youghiogheny_ssp585_bc.csv', index_col=[0])\n",
    "simulations_MPI_ESM1_2_HR_ssp585_bc.index = pd.to_datetime(simulations_MPI_ESM1_2_HR_ssp585_bc.index)\n",
    "simulations_MPI_ESM1_2_HR_ssp585_bc = pd.DataFrame(simulations_MPI_ESM1_2_HR_ssp585_bc.rolling(window=7).mean())"
   ]
  },
  {
   "cell_type": "markdown",
   "metadata": {},
   "source": [
    "## Cal/val results"
   ]
  },
  {
   "cell_type": "code",
   "execution_count": 14,
   "metadata": {},
   "outputs": [
    {
     "data": {
      "text/plain": [
       "(0.618282219810733, 0.5231154522708933)"
      ]
     },
     "execution_count": 14,
     "metadata": {},
     "output_type": "execute_result"
    }
   ],
   "source": [
    "calval_paramsets = calval_paramsets.loc[calval_paramsets.ED_val < 0.50]\n",
    "# print(calval_paramsets.iloc[0])\n",
    "calval_paramsets.mean(), calval_results.NSErunoff.mean()\n",
    "1-calval_paramsets.ED.mean(), 1-calval_paramsets.ED_val.mean()\n",
    "# calval_paramsets.logNSE.mean(), calval_paramsets.logNSE_val.mean()"
   ]
  },
  {
   "cell_type": "markdown",
   "metadata": {},
   "source": [
    "# Analysis"
   ]
  },
  {
   "cell_type": "code",
   "execution_count": 15,
   "metadata": {},
   "outputs": [],
   "source": [
    "daily_simulations_GFDL_CM4_historical_bc = simulations_GFDL_CM4_historical_bc.groupby(simulations_GFDL_CM4_historical_bc.index.strftime(\"%m-%d\")).mean()\n",
    "daily_simulations_GFDL_CM4_historical = simulations_GFDL_CM4_historical.groupby(simulations_GFDL_CM4_historical.index.strftime(\"%m-%d\")).mean()\n",
    "daily_simulations_MPI_ESM1_2_HR_historical = simulations_MPI_ESM1_2_HR_historical.groupby(simulations_MPI_ESM1_2_HR_historical.index.strftime(\"%m-%d\")).mean()\n",
    "daily_simulations_MPI_ESM1_2_HR_historical_bc = simulations_MPI_ESM1_2_HR_historical_bc.groupby(simulations_MPI_ESM1_2_HR_historical_bc.index.strftime(\"%m-%d\")).mean()\n",
    "\n",
    "\n",
    "daily_observation = observation.groupby(observation.index.strftime(\"%m-%d\")).mean()\n",
    "daily_era5_simulation = era5_simulation.groupby(era5_simulation.index.strftime(\"%m-%d\")).mean()\n",
    "\n",
    "daily_simulations_GFDL_CM4_ssp245_bc = simulations_GFDL_CM4_ssp245_bc.groupby(simulations_GFDL_CM4_ssp245_bc.index.strftime(\"%m-%d\")).mean()\n",
    "daily_simulations_GFDL_CM4_ssp245 = simulations_GFDL_CM4_ssp245.groupby(simulations_GFDL_CM4_ssp245.index.strftime(\"%m-%d\")).mean()\n",
    "daily_simulations_MPI_ESM1_2_HR_ssp245 = simulations_MPI_ESM1_2_HR_ssp245.groupby(simulations_MPI_ESM1_2_HR_ssp245.index.strftime(\"%m-%d\")).mean()\n",
    "\n",
    "daily_simulations_GFDL_CM4_ssp585_bc = simulations_GFDL_CM4_ssp585_bc.groupby(simulations_GFDL_CM4_ssp585_bc.index.strftime(\"%m-%d\")).mean()\n",
    "daily_simulations_GFDL_CM4_ssp585 = simulations_GFDL_CM4_ssp585.groupby(simulations_GFDL_CM4_ssp585.index.strftime(\"%m-%d\")).mean()\n",
    "daily_simulations_MPI_ESM1_2_HR_ssp585 = simulations_MPI_ESM1_2_HR_ssp585.groupby(simulations_MPI_ESM1_2_HR_ssp585.index.strftime(\"%m-%d\")).mean()"
   ]
  },
  {
   "cell_type": "code",
   "execution_count": 16,
   "metadata": {},
   "outputs": [
    {
     "data": {
      "text/plain": [
       "('01-01', '01-01')"
      ]
     },
     "execution_count": 16,
     "metadata": {},
     "output_type": "execute_result"
    },
    {
     "data": {
      "image/png": "[encoded data removed]",
      "text/plain": [
       "<Figure size 720x360 with 1 Axes>"
      ]
     },
     "metadata": {
      "needs_background": "light"
     },
     "output_type": "display_data"
    }
   ],
   "source": [
    "plt.rcParams[\"figure.figsize\"] = (10, 5)\n",
    "\n",
    "daily_simulations_GFDL_CM4_historical.mean(axis=1).plot(color='r', linestyle='--', alpha=0.4, label='GFDL-CM4')\n",
    "daily_simulations_GFDL_CM4_historical_bc.mean(axis=1).plot(color='r', label='GFDL-CM4, Bias corrected')\n",
    "\n",
    "daily_simulations_MPI_ESM1_2_HR_historical.mean(axis=1).plot(color='b' , linestyle='--' , alpha=0.4, label='MPI-ESM1-2-HR')\n",
    "daily_simulations_MPI_ESM1_2_HR_historical_bc.mean(axis=1).plot(color='b', label='MPI-ESM1-2-HR, Bias corrected')\n",
    "daily_era5_simulation.mean(axis=1).plot(color='grey', label='ERA5 Simulation')\n",
    "\n",
    "\n",
    "# daily_observation.mean(axis=1).plot(color='k', label='Observation')\n",
    "plt.legend()\n",
    "\n",
    "# plt.plot(daily_simulations_GFDL_CM4_historical_bc)\n",
    "plt.legend()\n",
    "plt.ylabel('mm day-1')\n",
    "plt.xlabel(' (month-day)')\n",
    "daily_observation.index[0], daily_era5_simulation.index[0]"
   ]
  },
  {
   "cell_type": "code",
   "execution_count": 17,
   "metadata": {},
   "outputs": [
    {
     "data": {
      "text/plain": [
       "(index            26.736842\n",
       " Unnamed: 0       26.736842\n",
       " ED                0.381718\n",
       " NSE               0.499396\n",
       " logNSE            0.770426\n",
       " NSEfdc            0.974381\n",
       " Unnamed: 0       26.736842\n",
       " ED_val            0.476885\n",
       " NSE_val           0.440672\n",
       " logNSE_val        0.727243\n",
       " NSEfdc_val        0.967045\n",
       " NSErunoff_val     0.279308\n",
       " dtype: float64,\n",
       " 0.472508940871456)"
      ]
     },
     "execution_count": 17,
     "metadata": {},
     "output_type": "execute_result"
    }
   ],
   "source": [
    "calval_paramsets = calval_paramsets.loc[calval_paramsets.ED_val < 0.50]\n",
    "calval_paramsets.mean() , calval_results.NSErunoff.mean()\n",
    "# 1-calval_paramsets.ED.mean(), 1-calval_paramsets.ED_val.mean()"
   ]
  },
  {
   "cell_type": "code",
   "execution_count": 18,
   "metadata": {},
   "outputs": [],
   "source": [
    "cumsum_obs = observation.streamflow.groupby(observation.index.strftime(\"%y\")).sum()\n",
    "cumsum_prec = ERA5_forcing.loc[ERA5_forcing.index.year<=2005].prec.groupby(ERA5_forcing.loc[ERA5_forcing.index.year<=2005].index.strftime(\"%y\")).sum()\n",
    "cumsum_evap = evaporation.mean(axis=1).groupby(evaporation.index.strftime(\"%y\")).sum()\n",
    "\n",
    "tot = cumsum_prec -cumsum_evap - cumsum_obs\n",
    "tot.to_csv('waterbalance_youghiogeny.csv')"
   ]
  },
  {
   "cell_type": "markdown",
   "metadata": {},
   "source": [
    "## modelled streamflow 2000"
   ]
  },
  {
   "cell_type": "code",
   "execution_count": 19,
   "metadata": {},
   "outputs": [
    {
     "data": {
      "text/plain": [
       "<matplotlib.legend.Legend at 0x23f14514888>"
      ]
     },
     "execution_count": 19,
     "metadata": {},
     "output_type": "execute_result"
    },
    {
     "data": {
      "image/png": "[encoded data removed]",
      "text/plain": [
       "<Figure size 432x216 with 1 Axes>"
      ]
     },
     "metadata": {
      "needs_background": "light"
     },
     "output_type": "display_data"
    }
   ],
   "source": [
    "plt.figure(figsize=[6,3])\n",
    "sim_2000 = era5_simulation.loc[era5_simulation.index.year == 2001]\n",
    "obs_2000 = observation.loc[observation.index.year == 2001]\n",
    "\n",
    "sim_2000.mean(axis=1).plot(color='r', label='ERA5 simulated')\n",
    "obs_2000.mean(axis=1).plot(color='b', label='Observed', alpha=0.7)\n",
    "plt.fill_between(sim_2000.index, sim_2000.min(axis=1), sim_2000.max(axis=1), color='r', alpha=0.3)\n",
    "plt.ylabel('mm day-1')\n",
    "plt.title('ERA5 simulated and observed streamflow Kawishiwi, 2001')\n",
    "plt.legend()"
   ]
  },
  {
   "cell_type": "markdown",
   "metadata": {},
   "source": [
    "## Boxplots"
   ]
  },
  {
   "cell_type": "code",
   "execution_count": 20,
   "metadata": {},
   "outputs": [],
   "source": [
    "def create_monthly_boxplots(simulations_hist, simulations_ssp245, simulations_ssp585):\n",
    "    fig, axarr = plt.subplots(figsize=(9,4))\n",
    "\n",
    "    hist = simulations_hist.groupby(simulations_hist.index.strftime(\"%y-%m\")).sum()\n",
    "    hist['mean'] = hist.mean(axis=1)\n",
    "    hist['month'] = hist.index.str[3:]\n",
    "    hist.boxplot(by='month', column='mean', ax=axarr, positions=np.array(range(12))*3.0-0.8, sym='', widths=0.6, color='k')\n",
    "\n",
    "    ssp245 = simulations_ssp245.groupby(simulations_ssp245.index.strftime(\"%y-%m\")).sum()\n",
    "    ssp245['mean'] = ssp245.mean(axis=1)\n",
    "    ssp245['month'] = ssp245.index.str[3:]\n",
    "    ssp245.boxplot(by='month', column='mean', ax=axarr, sym='', positions=np.array(range(12))*3.0, widths=0.6, color='b')\n",
    "\n",
    "    ssp585 = simulations_ssp585.groupby(simulations_ssp585.index.strftime(\"%y-%m\")).sum()\n",
    "    ssp585['mean'] = ssp585.mean(axis=1)\n",
    "    ssp585['month'] = ssp585.index.str[3:]\n",
    "    ssp585.boxplot(by='month', column='mean', ax=axarr, positions=np.array(range(12))*3.0+0.8, sym='', widths=0.6, color='r')\n",
    "    \n",
    "    ticks = ['Jan', 'Feb', 'Mar', 'Apr', 'May', 'Jun', 'Jul', 'Aug', 'Sep', 'Oct', 'Nov', 'Dec']\n",
    "    fig.suptitle('')\n",
    "    plt.xticks(range(0, 12 * 3, 3), ticks)"
   ]
  },
  {
   "cell_type": "code",
   "execution_count": 26,
   "metadata": {},
   "outputs": [
    {
     "data": {
      "text/plain": [
       "Text(0.5, 0, '')"
      ]
     },
     "execution_count": 26,
     "metadata": {},
     "output_type": "execute_result"
    },
    {
     "data": {
      "image/png": "[encoded data removed]",
      "text/plain": [
       "<Figure size 648x288 with 1 Axes>"
      ]
     },
     "metadata": {
      "needs_background": "light"
     },
     "output_type": "display_data"
    }
   ],
   "source": [
    "simulations_MPI_ESM1_2_HR_historical_bc = simulations_MPI_ESM1_2_HR_historical_bc.add_suffix('_MPI_ESM1_2_HR')\n",
    "simulations_MPI_ESM1_2_HR_ssp245_bc = simulations_MPI_ESM1_2_HR_ssp245_bc.add_suffix('_MPI_ESM1_2_HR')\n",
    "simulations_MPI_ESM1_2_HR_ssp585_bc = simulations_MPI_ESM1_2_HR_ssp585_bc.add_suffix('_MPI_ESM1_2_HR')\n",
    "\n",
    "hist = pd.concat([simulations_GFDL_CM4_historical_bc, simulations_MPI_ESM1_2_HR_historical_bc], axis=1)\n",
    "ssp245 = pd.concat([simulations_MPI_ESM1_2_HR_ssp245_bc, simulations_MPI_ESM1_2_HR_ssp245_bc], axis=1)\n",
    "ssp585 = pd.concat([simulations_GFDL_CM4_ssp585_bc, simulations_MPI_ESM1_2_HR_ssp585_bc], axis=1)\n",
    "\n",
    "create_monthly_boxplots(hist, ssp245,\n",
    "                        ssp585)\n",
    "plt.title('Youghiogheny', fontsize=16)\n",
    "plt.plot([], 'k', label='Historical')\n",
    "plt.plot([], 'b', label='SSP245')\n",
    "plt.plot([], 'r', label='SSP585')\n",
    "plt.ylabel('Streamflow [mm month-1]')\n",
    "plt.xlabel('')\n",
    "# plt.legend()"
   ]
  },
  {
   "cell_type": "code",
   "execution_count": 28,
   "metadata": {},
   "outputs": [],
   "source": [
    "def relative_change_monthly(reference, future):\n",
    "    months = np.arange(1,13)\n",
    "    index = np.arange(1,13)\n",
    "    change = []\n",
    "\n",
    "    for i in range(len(months)):\n",
    "        hist = reference.loc[reference.index.month == months[i]].mean(axis=1).sum()\n",
    "        projection = future.loc[future.index.month == months[i]].mean(axis=1).sum()\n",
    "        rel_change = (projection-hist) / hist * 100\n",
    "        change.append([index[i],rel_change])\n",
    "    return change "
   ]
  },
  {
   "cell_type": "code",
   "execution_count": 40,
   "metadata": {},
   "outputs": [],
   "source": [
    "simulations_MPI_ESM1_2_HR_historical_bc = simulations_MPI_ESM1_2_HR_historical_bc.add_suffix('_MPI_ESM1_2_HR')\n",
    "simulations_MPI_ESM1_2_HR_ssp245_bc = simulations_MPI_ESM1_2_HR_ssp245_bc.add_suffix('_MPI_ESM1_2_HR')\n",
    "simulations_MPI_ESM1_2_HR_ssp585_bc = simulations_MPI_ESM1_2_HR_ssp585_bc.add_suffix('_MPI_ESM1_2_HR')\n",
    "\n",
    "hist = pd.concat([simulations_GFDL_CM4_historical_bc, simulations_MPI_ESM1_2_HR_historical_bc], axis=1)\n",
    "ssp245 = pd.concat([simulations_MPI_ESM1_2_HR_ssp245_bc, simulations_MPI_ESM1_2_HR_ssp245_bc], axis=1)\n",
    "ssp585 = pd.concat([simulations_GFDL_CM4_ssp585_bc, simulations_MPI_ESM1_2_HR_ssp585_bc], axis=1)\n",
    "\n",
    "hist_prec = pd.concat([hist_gfdl_forcing.prec, hist_mpi_forcing.prec], axis=1)\n",
    "ssp245_prec = pd.concat([ssp245_gfdl_forcing.prec, ssp245_mpi_forcing.prec], axis=1)\n",
    "ssp585_prec = pd.concat([ssp585_gfdl_forcing.prec, ssp585_mpi_forcing.prec], axis=1)\n",
    "\n",
    "hist_temp = pd.concat([hist_gfdl_forcing.temp, hist_mpi_forcing.temp], axis=1)\n",
    "ssp245_temp = pd.concat([ssp245_gfdl_forcing.temp, ssp245_mpi_forcing.temp], axis=1)\n",
    "ssp585_temp = pd.concat([ssp585_gfdl_forcing.temp, ssp585_mpi_forcing.temp], axis=1)\n",
    "\n",
    "relative_change_streamflow_ssp245 = relative_change_monthly(hist, ssp245)\n",
    "relative_change_streamflow_ssp585 = relative_change_monthly(hist, ssp585)\n",
    "\n",
    "relative_change_prec_ssp245 = relative_change_monthly(hist_prec, ssp245_prec)\n",
    "relative_change_prec_ssp585 = relative_change_monthly(hist_prec, ssp585_prec)\n",
    "\n",
    "relative_change_temp_ssp245 = relative_change_monthly(hist_temp, ssp245_temp)\n",
    "relative_change_temp_ssp585 = relative_change_monthly(hist_temp, ssp585_temp)"
   ]
  },
  {
   "cell_type": "code",
   "execution_count": 35,
   "metadata": {},
   "outputs": [
    {
     "data": {
      "image/png": "[encoded data removed]",
      "text/plain": [
       "<Figure size 432x216 with 1 Axes>"
      ]
     },
     "metadata": {
      "needs_background": "light"
     },
     "output_type": "display_data"
    }
   ],
   "source": [
    "plt.figure(figsize=[6,3])\n",
    "\n",
    "x1,y1 = zip(*relative_change_streamflow_ssp585)\n",
    "x2,y2 = zip(*relative_change_prec_ssp585)\n",
    "x3,y3 = zip(*relative_change_temp_ssp585)\n",
    "\n",
    "plt.bar(np.array(x1)-0.15, y1, width = 0.3, label='Streamflow', color='grey')\n",
    "plt.bar(np.array(x2)+0.15, y2, width = 0.3, label='Precipitation', color='blue')\n",
    "# plt.bar(np.array(x3)+0.2, y3, width = 0.2, label='Temperature', color='r')\n",
    "#setting the xticks. Note x1 and x2 are tuples, thus + is concatenation\n",
    "plt.xticks(range(min(x1+x2), max(x1+x2)+1)) \n",
    "plt.grid()\n",
    "plt.title('Youghiogheny')\n",
    "# plt.ylim((-50,120))\n",
    "# plt.ylabel('Relative change [%]')\n",
    "# plt.xticks([1, 2, 3, 4], ['Winter', 'Spring', 'Summer', 'Autumn'])\n",
    "# plt.legend()\n",
    "plt.ylim((-70,260))\n",
    "ticks = ['Jan', 'Feb', 'Mar', 'Apr', 'May', 'Jun', 'Jul', 'Aug', 'Sep', 'Oct', 'Nov', 'Dec']\n",
    "plt.xticks(range(1, 13), ticks)\n",
    "plt.show()"
   ]
  },
  {
   "cell_type": "code",
   "execution_count": 36,
   "metadata": {},
   "outputs": [
    {
     "data": {
      "text/plain": [
       "[<matplotlib.lines.Line2D at 0x23f0f841748>]"
      ]
     },
     "execution_count": 36,
     "metadata": {},
     "output_type": "execute_result"
    },
    {
     "data": {
      "image/png": "[encoded data removed]",
      "text/plain": [
       "<Figure size 720x360 with 1 Axes>"
      ]
     },
     "metadata": {
      "needs_background": "light"
     },
     "output_type": "display_data"
    }
   ],
   "source": [
    "months = np.arange(1,13)\n",
    "index = np.arange(1,13)\n",
    "change = []\n",
    "\n",
    "for i in range(len(months)):\n",
    "    hist = hist_temp.loc[hist_temp.index.month == months[i]].mean(axis=1).mean()\n",
    "    projection = ssp585_temp.loc[ssp585_temp.index.month == months[i]].mean(axis=1).mean()\n",
    "    change.append(projection-hist)\n",
    "\n",
    "x, y = zip(*relative_change_streamflow_ssp585)\n",
    "\n",
    "plt.plot(change,y, 'o')"
   ]
  },
  {
   "cell_type": "code",
   "execution_count": 38,
   "metadata": {},
   "outputs": [
    {
     "data": {
      "text/html": [
       "<div>\n",
       "<style scoped>\n",
       "    .dataframe tbody tr th:only-of-type {\n",
       "        vertical-align: middle;\n",
       "    }\n",
       "\n",
       "    .dataframe tbody tr th {\n",
       "        vertical-align: top;\n",
       "    }\n",
       "\n",
       "    .dataframe thead th {\n",
       "        text-align: right;\n",
       "    }\n",
       "</style>\n",
       "<table border=\"1\" class=\"dataframe\">\n",
       "  <thead>\n",
       "    <tr style=\"text-align: right;\">\n",
       "      <th></th>\n",
       "      <th>streamflow_change</th>\n",
       "      <th>dprec</th>\n",
       "      <th>dT</th>\n",
       "    </tr>\n",
       "  </thead>\n",
       "  <tbody>\n",
       "    <tr>\n",
       "      <th>0</th>\n",
       "      <td>57.784872</td>\n",
       "      <td>33.576146</td>\n",
       "      <td>5.227313</td>\n",
       "    </tr>\n",
       "    <tr>\n",
       "      <th>1</th>\n",
       "      <td>21.332038</td>\n",
       "      <td>15.552843</td>\n",
       "      <td>4.836261</td>\n",
       "    </tr>\n",
       "    <tr>\n",
       "      <th>2</th>\n",
       "      <td>3.024708</td>\n",
       "      <td>26.846412</td>\n",
       "      <td>5.321446</td>\n",
       "    </tr>\n",
       "    <tr>\n",
       "      <th>3</th>\n",
       "      <td>-5.401892</td>\n",
       "      <td>19.958150</td>\n",
       "      <td>4.795394</td>\n",
       "    </tr>\n",
       "    <tr>\n",
       "      <th>4</th>\n",
       "      <td>-23.760717</td>\n",
       "      <td>12.381364</td>\n",
       "      <td>4.153914</td>\n",
       "    </tr>\n",
       "    <tr>\n",
       "      <th>5</th>\n",
       "      <td>-24.764673</td>\n",
       "      <td>1.569742</td>\n",
       "      <td>3.007504</td>\n",
       "    </tr>\n",
       "    <tr>\n",
       "      <th>6</th>\n",
       "      <td>-12.078779</td>\n",
       "      <td>-1.424159</td>\n",
       "      <td>1.995413</td>\n",
       "    </tr>\n",
       "    <tr>\n",
       "      <th>7</th>\n",
       "      <td>-8.935372</td>\n",
       "      <td>8.341061</td>\n",
       "      <td>1.074274</td>\n",
       "    </tr>\n",
       "    <tr>\n",
       "      <th>8</th>\n",
       "      <td>-10.532828</td>\n",
       "      <td>15.390946</td>\n",
       "      <td>1.227308</td>\n",
       "    </tr>\n",
       "    <tr>\n",
       "      <th>9</th>\n",
       "      <td>-9.337876</td>\n",
       "      <td>2.321259</td>\n",
       "      <td>1.874798</td>\n",
       "    </tr>\n",
       "    <tr>\n",
       "      <th>10</th>\n",
       "      <td>6.374669</td>\n",
       "      <td>16.397156</td>\n",
       "      <td>3.079395</td>\n",
       "    </tr>\n",
       "    <tr>\n",
       "      <th>11</th>\n",
       "      <td>42.836277</td>\n",
       "      <td>33.317648</td>\n",
       "      <td>4.697516</td>\n",
       "    </tr>\n",
       "  </tbody>\n",
       "</table>\n",
       "</div>"
      ],
      "text/plain": [
       "    streamflow_change      dprec        dT\n",
       "0           57.784872  33.576146  5.227313\n",
       "1           21.332038  15.552843  4.836261\n",
       "2            3.024708  26.846412  5.321446\n",
       "3           -5.401892  19.958150  4.795394\n",
       "4          -23.760717  12.381364  4.153914\n",
       "5          -24.764673   1.569742  3.007504\n",
       "6          -12.078779  -1.424159  1.995413\n",
       "7           -8.935372   8.341061  1.074274\n",
       "8          -10.532828  15.390946  1.227308\n",
       "9           -9.337876   2.321259  1.874798\n",
       "10           6.374669  16.397156  3.079395\n",
       "11          42.836277  33.317648  4.697516"
      ]
     },
     "execution_count": 38,
     "metadata": {},
     "output_type": "execute_result"
    }
   ],
   "source": [
    "months = np.arange(1,13)\n",
    "index = np.arange(1,13)\n",
    "change = []\n",
    "\n",
    "for i in range(len(months)):\n",
    "    hist = hist_temp.loc[hist_temp.index.month == months[i]].mean(axis=1).mean()\n",
    "    projection = ssp585_temp.loc[ssp585_temp.index.month == months[i]].mean(axis=1).mean()\n",
    "    change.append(projection-hist)\n",
    "\n",
    "x, y = zip(*relative_change_streamflow_ssp585)\n",
    "x, dprec = zip(*relative_change_prec_ssp585)\n",
    "\n",
    "output = pd.DataFrame({'streamflow_change': y, 'dprec': dprec, 'dT': change})\n",
    "\n",
    "output.to_csv('streamflow_vs_temp_youghiogheny.csv')\n",
    "# plt.plot(change,y, 'o')\n",
    "output"
   ]
  },
  {
   "cell_type": "markdown",
   "metadata": {},
   "source": [
    "## FDC"
   ]
  },
  {
   "cell_type": "code",
   "execution_count": 51,
   "metadata": {},
   "outputs": [
    {
     "data": {
      "text/plain": [
       "Text(0.5, 1.0, 'Youghiogheny')"
      ]
     },
     "execution_count": 51,
     "metadata": {},
     "output_type": "execute_result"
    },
    {
     "data": {
      "image/png": "[encoded data removed]",
      "text/plain": [
       "<Figure size 288x216 with 1 Axes>"
      ]
     },
     "metadata": {
      "needs_background": "light"
     },
     "output_type": "display_data"
    }
   ],
   "source": [
    "plt.figure(figsize=[4,3])\n",
    "SortedQ_hist, ExcProb_hist = flowdurationcurve(hist.mean(axis=1).values)\n",
    "SortedQ_ssp245, ExcProb_ssp245 = flowdurationcurve(ssp245.mean(axis=1).values)\n",
    "SortedQ_ssp585, ExcProb_ssp585 = flowdurationcurve(ssp585.mean(axis=1).values)\n",
    "\n",
    "plt.plot(ExcProb_hist, SortedQ_hist, color='k', label='Historical')\n",
    "plt.plot(ExcProb_ssp245, SortedQ_ssp245, color='b', label='SSP245')\n",
    "plt.plot(ExcProb_ssp585, SortedQ_ssp585, color='r', label='SSP585')\n",
    "\n",
    "\n",
    "plt.xscale('log')\n",
    "plt.grid()\n",
    "# plt.legend()\n",
    "# plt.ylabel('Streamflow [mm d-1]')\n",
    "plt.xlabel('Exceedance probability [-]')\n",
    "plt.title('Youghiogheny', fontsize=15)"
   ]
  },
  {
   "cell_type": "markdown",
   "metadata": {},
   "source": [
    "## Changes in extremes"
   ]
  },
  {
   "cell_type": "code",
   "execution_count": 52,
   "metadata": {},
   "outputs": [],
   "source": [
    "hist_14day = hist.mean(axis=1).groupby(pd.Grouper(freq='14D')).mean()\n",
    "ssp245_14day = ssp245.mean(axis=1).groupby(pd.Grouper(freq='14D')).mean()\n",
    "ssp585_14day = ssp585.mean(axis=1).groupby(pd.Grouper(freq='14D')).mean()"
   ]
  },
  {
   "cell_type": "code",
   "execution_count": 63,
   "metadata": {},
   "outputs": [
    {
     "data": {
      "text/plain": [
       "Text(0.5, 1.0, 'Youghiogheny')"
      ]
     },
     "execution_count": 63,
     "metadata": {},
     "output_type": "execute_result"
    },
    {
     "data": {
      "image/png": "[encoded data removed]",
      "text/plain": [
       "<Figure size 288x216 with 1 Axes>"
      ]
     },
     "metadata": {
      "needs_background": "light"
     },
     "output_type": "display_data"
    }
   ],
   "source": [
    "min_hist_14day = hist_14day.loc[hist_14day.index.year> hist_14day.index[0].year].groupby(hist_14day.loc[hist_14day.index.year> hist_14day.index[0].year].index.strftime(\"%y\")).min()\n",
    "min_ssp245_14day = ssp245_14day.loc[ssp245_14day.index.year> ssp245_14day.index[0].year].groupby(ssp245_14day.loc[ssp245_14day.index.year> ssp245_14day.index[0].year].index.strftime(\"%y\")).min()\n",
    "min_ssp585_14day = ssp585_14day.loc[ssp585_14day.index.year> ssp585_14day.index[0].year].groupby(ssp585_14day.loc[ssp585_14day.index.year> ssp585_14day.index[0].year].index.strftime(\"%y\")).min()\n",
    "\n",
    "\n",
    "plt.figure(figsize=[4,3])\n",
    "\n",
    "bplot1 = plt.boxplot(min_hist_14day, patch_artist=True,  positions=np.array(range(1))*3.0-0.4)\n",
    "bplot2 = plt.boxplot(min_ssp245_14day, patch_artist=True,  positions=np.array(range(1))*3.0)\n",
    "bplot3 = plt.boxplot(min_ssp585_14day, patch_artist=True, positions=np.array(range(1))*3.0+0.4)\n",
    "\n",
    "colors = ['black', 'blue', 'red']\n",
    "\n",
    "for patch, color in zip(bplot1['boxes'], colors):\n",
    "    patch.set_facecolor('black') \n",
    "for patch, color in zip(bplot2['boxes'], colors):\n",
    "    patch.set_facecolor('blue') \n",
    "for patch, color in zip(bplot3['boxes'], colors):\n",
    "    patch.set_facecolor('red') \n",
    "    \n",
    "ticks = ['Hist', 'SSP245', 'SSP585']\n",
    "plt.xticks([-0.4, 0, 0.4], ticks)\n",
    "plt.grid(axis='y')\n",
    "plt.title('Youghiogheny', fontsize=15)\n",
    "# plt.ylabel('min streamflow [mm day-1]')"
   ]
  },
  {
   "cell_type": "code",
   "execution_count": 62,
   "metadata": {},
   "outputs": [
    {
     "data": {
      "text/plain": [
       "Text(0.5, 1.0, 'Youghiogheny')"
      ]
     },
     "execution_count": 62,
     "metadata": {},
     "output_type": "execute_result"
    },
    {
     "data": {
      "image/png": "[encoded data removed]",
      "text/plain": [
       "<Figure size 288x216 with 1 Axes>"
      ]
     },
     "metadata": {
      "needs_background": "light"
     },
     "output_type": "display_data"
    }
   ],
   "source": [
    "max_hist_14day = hist_14day.loc[hist_14day.index.year> hist_14day.index[0].year].groupby(hist_14day.loc[hist_14day.index.year> hist_14day.index[0].year].index.strftime(\"%y\")).max()\n",
    "max_ssp245_14day = ssp245_14day.loc[ssp245_14day.index.year> ssp245_14day.index[0].year].groupby(ssp245_14day.loc[ssp245_14day.index.year> ssp245_14day.index[0].year].index.strftime(\"%y\")).max()\n",
    "max_ssp585_14day = ssp585_14day.loc[ssp585_14day.index.year> ssp585_14day.index[0].year].groupby(ssp585_14day.loc[ssp585_14day.index.year> ssp585_14day.index[0].year].index.strftime(\"%y\")).max()\n",
    "\n",
    "plt.figure(figsize=[4,3])\n",
    "\n",
    "bplot1 = plt.boxplot(max_hist_14day, patch_artist=True,  positions=np.array(range(1))*3.0-0.4)\n",
    "bplot2 = plt.boxplot(max_ssp245_14day, patch_artist=True,  positions=np.array(range(1))*3.0)\n",
    "bplot3 = plt.boxplot(max_ssp585_14day, patch_artist=True, positions=np.array(range(1))*3.0+0.4)\n",
    "\n",
    "for patch, color in zip(bplot1['boxes'], colors):\n",
    "    patch.set_facecolor('black') \n",
    "for patch, color in zip(bplot2['boxes'], colors):\n",
    "    patch.set_facecolor('blue') \n",
    "for patch, color in zip(bplot3['boxes'], colors):\n",
    "    patch.set_facecolor('red') \n",
    "    \n",
    "ticks = ['Hist', 'SSP245', 'SSP585']\n",
    "plt.xticks([-0.4, 0, 0.4], ticks)\n",
    "plt.grid(axis='y')\n",
    "plt.title('Youghiogheny', fontsize=15)\n",
    "# plt.ylabel('max streamflow [mm day-1]')"
   ]
  },
  {
   "cell_type": "markdown",
   "metadata": {},
   "source": [
    "### Timing"
   ]
  },
  {
   "cell_type": "code",
   "execution_count": 60,
   "metadata": {},
   "outputs": [
    {
     "name": "stdout",
     "output_type": "stream",
     "text": [
      "[64.38188929287229, 44.03746564856386] [63.05047719412574, 50.97968462081978] [27.798661588433838, 32.42143052461354]\n"
     ]
    }
   ],
   "source": [
    "hist_yearly_max = pd.to_datetime(pd.DataFrame(hist_14day.loc[(hist_14day.index.year>hist_14day.index[0].year)]).resample('1y')[0].idxmax().values)\n",
    "hist_yearly_max_doy = np.array([dt.timetuple().tm_yday for dt in hist_yearly_max])\n",
    "hist_max_doy_stat = [stats.circmean(hist_yearly_max_doy, high=365), stats.circstd(hist_yearly_max_doy, high=365)]\n",
    "\n",
    "ssp245_yearly_max = pd.to_datetime(pd.DataFrame(ssp245_14day.loc[(ssp245_14day.index.year>ssp245_14day.index[0].year)]).resample('1y')[0].idxmax().values)\n",
    "ssp245_yearly_max_doy = np.array([dt.timetuple().tm_yday for dt in ssp245_yearly_max])\n",
    "ssp245_max_doy_stat = [stats.circmean(ssp245_yearly_max_doy, high=365), stats.circstd(ssp245_yearly_max_doy, high=365)]\n",
    "\n",
    "ssp585_yearly_max = pd.to_datetime(pd.DataFrame(ssp585_14day.loc[(ssp585_14day.index.year>ssp585_14day.index[0].year)]).resample('1y')[0].idxmax().values)\n",
    "ssp585_yearly_max_doy = np.array([dt.timetuple().tm_yday for dt in ssp585_yearly_max])\n",
    "ssp585_max_doy_stat = [stats.circmean(ssp585_yearly_max_doy, high=365), stats.circstd(ssp585_yearly_max_doy, high=365)]\n",
    "print(hist_max_doy_stat, ssp245_max_doy_stat, ssp585_max_doy_stat)"
   ]
  },
  {
   "cell_type": "code",
   "execution_count": 61,
   "metadata": {},
   "outputs": [
    {
     "name": "stdout",
     "output_type": "stream",
     "text": [
      "[253.96952604366012, 38.403846800675325] [258.7706201596346, 32.760519453292645] [238.86904447699015, 36.8301937733113]\n"
     ]
    }
   ],
   "source": [
    "hist_yearly_min = pd.to_datetime(pd.DataFrame(hist_14day.loc[(hist_14day.index.year>hist_14day.index[0].year)]).resample('1y')[0].idxmin().values)\n",
    "hist_yearly_min_doy = np.array([dt.timetuple().tm_yday for dt in hist_yearly_min])\n",
    "hist_min_doy_stat = [stats.circmean(hist_yearly_min_doy, high=365), stats.circstd(hist_yearly_min_doy, high=365)]\n",
    "\n",
    "ssp245_yearly_min = pd.to_datetime(pd.DataFrame(ssp245_14day.loc[(ssp245_14day.index.year>ssp245_14day.index[0].year)]).resample('1y')[0].idxmin().values)\n",
    "ssp245_yearly_min_doy = np.array([dt.timetuple().tm_yday for dt in ssp245_yearly_min])\n",
    "ssp245_min_doy_stat = [stats.circmean(ssp245_yearly_min_doy, high=365), stats.circstd(ssp245_yearly_min_doy, high=365)]\n",
    "\n",
    "ssp585_yearly_min = pd.to_datetime(pd.DataFrame(ssp585_14day.loc[(ssp585_14day.index.year>ssp585_14day.index[0].year)]).resample('1y')[0].idxmin().values)\n",
    "ssp585_yearly_min_doy = np.array([dt.timetuple().tm_yday for dt in ssp585_yearly_min])\n",
    "ssp585_min_doy_stat = [stats.circmean(ssp585_yearly_min_doy, high=365), stats.circstd(ssp585_yearly_min_doy, high=365)]\n",
    "print(hist_min_doy_stat, ssp245_min_doy_stat, ssp585_min_doy_stat)"
   ]
  },
  {
   "cell_type": "code",
   "execution_count": null,
   "metadata": {},
   "outputs": [],
   "source": []
  }
 ],
 "metadata": {
  "kernelspec": {
   "display_name": "Python 3",
   "language": "python",
   "name": "python3"
  },
  "language_info": {
   "codemirror_mode": {
    "name": "ipython",
    "version": 3
   },
   "file_extension": ".py",
   "mimetype": "text/x-python",
   "name": "python",
   "nbconvert_exporter": "python",
   "pygments_lexer": "ipython3",
   "version": "3.7.6"
  }
 },
 "nbformat": 4,
 "nbformat_minor": 4
}
