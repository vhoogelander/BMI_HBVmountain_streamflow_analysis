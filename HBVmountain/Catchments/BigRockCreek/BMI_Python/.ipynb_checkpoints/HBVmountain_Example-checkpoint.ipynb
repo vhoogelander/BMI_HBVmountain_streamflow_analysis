{
 "cells": [
  {
   "cell_type": "code",
   "execution_count": 15,
   "metadata": {},
   "outputs": [],
   "source": [
    "from BMI_HBVmountain_Python import *\n",
    "from Calibration import *"
   ]
  },
  {
   "cell_type": "markdown",
   "metadata": {},
   "source": [
    "## Load forcing data"
   ]
  },
  {
   "cell_type": "code",
   "execution_count": 20,
   "metadata": {},
   "outputs": [
    {
     "name": "stderr",
     "output_type": "stream",
     "text": [
      "C:\\Users\\Vincent Hoogelander\\anaconda3\\lib\\site-packages\\ipykernel_launcher.py:12: SettingWithCopyWarning: \n",
      "A value is trying to be set on a copy of a slice from a DataFrame\n",
      "\n",
      "See the caveats in the documentation: https://pandas.pydata.org/pandas-docs/stable/user_guide/indexing.html#returning-a-view-versus-a-copy\n",
      "  if sys.path[0] == '':\n"
     ]
    }
   ],
   "source": [
    "# forcing = read_csv(\"Refactoring/Forcing/forcingWark.csv\"); #Example dataset, observation data\n",
    "\n",
    "# for i in range(len(forcing)):\n",
    "#     forcing['DATE'][i] = datetime.datetime.strptime(forcing['DATE'][i], '%Y-%m-%d')\n",
    "#     forcing['DATE'][i] = forcing['DATE'][i].date()\n",
    "# forcing.set_index('DATE', inplace=True)\n",
    "\n",
    "forcing = pd.read_csv('Data/BigCreek/forcing_bigrockcreek.csv', index_col=[0], parse_dates=True)\n",
    "pd.to_datetime(forcing.index);\n",
    "forcing = forcing.reset_index(level=0)\n",
    "for i in range(len(forcing)):\n",
    "    forcing['Date'][i] = forcing['Date'][i].date()\n",
    "forcing.set_index('Date', inplace=True)\n",
    "forcing.loc[forcing['prec_era5'] > 500, 'prec_era5'] = 0"
   ]
  },
  {
   "cell_type": "markdown",
   "metadata": {},
   "source": [
    "## Setting up the model"
   ]
  },
  {
   "cell_type": "code",
   "execution_count": 14,
   "metadata": {},
   "outputs": [],
   "source": [
    "index = forcing.index.values\n",
    "streamflow = forcing.streamflow.values\n",
    "\n",
    "df = pd.DataFrame({'time': index, 'streamflow': streamflow})\n",
    "df.set_index('time', inplace=True)\n",
    "df\n",
    "df.to_csv('Data/BigCreek/Discharge_BigRockCreek.csv')"
   ]
  },
  {
   "cell_type": "code",
   "execution_count": 23,
   "metadata": {},
   "outputs": [],
   "source": [
    "model = BMI_HBVmountain()"
   ]
  },
  {
   "cell_type": "code",
   "execution_count": 24,
   "metadata": {},
   "outputs": [],
   "source": [
    "config_file = model.setup()"
   ]
  },
  {
   "cell_type": "code",
   "execution_count": 25,
   "metadata": {},
   "outputs": [],
   "source": [
    "model.initialize(config_file)"
   ]
  },
  {
   "cell_type": "markdown",
   "metadata": {},
   "source": [
    "### Parameters"
   ]
  },
  {
   "cell_type": "code",
   "execution_count": 26,
   "metadata": {},
   "outputs": [],
   "source": [
    "bare_parameters, forest_parameters, grass_parameters, rip_parameters,  slow_parameters, parameters_array =  Main.parameter_selection()\n",
    "model.set_value('bare_parameters', bare_parameters)\n",
    "model.set_value('forest_parameters', forest_parameters)\n",
    "model.set_value('grass_parameters', grass_parameters)\n",
    "model.set_value('rip_parameters', rip_parameters)\n",
    "model.set_value('slow_parameters', slow_parameters)"
   ]
  },
  {
   "cell_type": "code",
   "execution_count": 27,
   "metadata": {},
   "outputs": [],
   "source": [
    "param_list = parameter_conversion('output', nsmallest=16)\n",
    "\n",
    "model.set_value('bare_parameters', param_list[0][0])\n",
    "model.set_value('forest_parameters', param_list[0][1])\n",
    "model.set_value('grass_parameters', param_list[0][2])\n",
    "model.set_value('rip_parameters', param_list[0][3])\n",
    "model.set_value('slow_parameters', param_list[0][4])"
   ]
  },
  {
   "cell_type": "markdown",
   "metadata": {},
   "source": [
    "### Forcings"
   ]
  },
  {
   "cell_type": "code",
   "execution_count": 28,
   "metadata": {},
   "outputs": [],
   "source": [
    "model.set_value('Temperature', (forcing['temp_era5'].values).reshape(len(forcing),1))\n",
    "model.set_value('Precipitation', (forcing['prec_era5'].values).reshape(len(forcing),1))\n",
    "\n",
    "model.set_value('Date', list(forcing.index.values))\n",
    "model.set_value('Current_Date', forcing.index.values[0])"
   ]
  },
  {
   "cell_type": "markdown",
   "metadata": {},
   "source": [
    "### Initial settings"
   ]
  },
  {
   "cell_type": "code",
   "execution_count": 29,
   "metadata": {},
   "outputs": [],
   "source": [
    "model.set_value('Elevation', Main.Elevations(50, 200, 450, 280, 280))\n",
    "\n",
    "model.set_value('Glacier', [0.0, 0.0, 0.0, 0.0])\n",
    "model.set_value('Sunhours', [8.83, 10.26, 11.95, 13.75, 15.28, 16.11, 15.75, 14.36, 12.63, 10.9, 9.28, 8.43])\n",
    "model.set_value('bare_input', Main.HRU_Input([0,0,0,0], 0, np.zeros(4), [1,2,3,4], 4, (0,), (0,), 0, np.zeros(4), 0.01, np.zeros(4), 0, 0.0))\n",
    "model.set_value('forest_input', Main.HRU_Input([0.8,0.1,0.1,0.0], 0.4,np.zeros(4), [1,2,3,4], 4, (0,), (0,), 0, np.zeros(4), 0.01, np.zeros(4), 0, 0.0))\n",
    "model.set_value('grass_input', Main.HRU_Input([0.3,0.3,0.2,0.2], 0.3,np.zeros(4), [1,2,3,4], 4, (0,), (0,), 0, np.zeros(4), 0.01, np.zeros(4), 0, 0.0))\n",
    "model.set_value('rip_input', Main.HRU_Input([0.0,0.1,0.3,0.6], 0.3,np.zeros(4), [1,2,3,4], 4, (0,), (0,), 0, np.zeros(4), 0.01, np.zeros(4), 0, 0.0))\n",
    "model.set_value('Total_Elevationbands', 4)\n",
    "model.set_value('Elevation_Percentage', [0.2,0.2,0.3,0.3])\n",
    "model.set_value('bare_storage', Main.Storages(0,np.zeros(4),np.zeros(4),np.zeros(4),0))\n",
    "model.set_value('forest_storage', Main.Storages(0,np.zeros(4),np.zeros(4),np.zeros(4),0))\n",
    "model.set_value('grass_storage', Main.Storages(0,np.zeros(4),np.zeros(4),np.zeros(4),0))\n",
    "model.set_value('rip_storage', Main.Storages(0,np.zeros(4),np.zeros(4),np.zeros(4),0))"
   ]
  },
  {
   "cell_type": "markdown",
   "metadata": {},
   "source": [
    "## Running the model"
   ]
  },
  {
   "cell_type": "code",
   "execution_count": 30,
   "metadata": {},
   "outputs": [],
   "source": [
    "Discharge = []\n",
    "timestamp = []\n",
    "ETP = []\n",
    "while (model.get_value_ptr('Current_Date') < (model.get_value_ptr('Date')[-1])):  \n",
    "    model.update()\n",
    "    timestamp.append(model.get_value_ptr('Current_Date'))\n",
    "    Discharge.append(model.get_value_ptr('Discharge'))\n",
    "    ETP.append(model.get_value_ptr('Total_Evaporation'))"
   ]
  },
  {
   "cell_type": "markdown",
   "metadata": {},
   "source": [
    "## Analysis"
   ]
  },
  {
   "cell_type": "code",
   "execution_count": 31,
   "metadata": {},
   "outputs": [
    {
     "data": {
      "text/html": [
       "<div>\n",
       "<style scoped>\n",
       "    .dataframe tbody tr th:only-of-type {\n",
       "        vertical-align: middle;\n",
       "    }\n",
       "\n",
       "    .dataframe tbody tr th {\n",
       "        vertical-align: top;\n",
       "    }\n",
       "\n",
       "    .dataframe thead th {\n",
       "        text-align: right;\n",
       "    }\n",
       "</style>\n",
       "<table border=\"1\" class=\"dataframe\">\n",
       "  <thead>\n",
       "    <tr style=\"text-align: right;\">\n",
       "      <th></th>\n",
       "      <th>simulation</th>\n",
       "      <th>streamflow</th>\n",
       "    </tr>\n",
       "  </thead>\n",
       "  <tbody>\n",
       "    <tr>\n",
       "      <th>1986-01-02</th>\n",
       "      <td>0.000000</td>\n",
       "      <td>0.317567</td>\n",
       "    </tr>\n",
       "    <tr>\n",
       "      <th>1986-01-03</th>\n",
       "      <td>0.000000</td>\n",
       "      <td>0.305913</td>\n",
       "    </tr>\n",
       "    <tr>\n",
       "      <th>1986-01-04</th>\n",
       "      <td>0.000000</td>\n",
       "      <td>0.301543</td>\n",
       "    </tr>\n",
       "    <tr>\n",
       "      <th>1986-01-05</th>\n",
       "      <td>0.000635</td>\n",
       "      <td>0.308826</td>\n",
       "    </tr>\n",
       "    <tr>\n",
       "      <th>1986-01-06</th>\n",
       "      <td>0.002411</td>\n",
       "      <td>0.367095</td>\n",
       "    </tr>\n",
       "    <tr>\n",
       "      <th>...</th>\n",
       "      <td>...</td>\n",
       "      <td>...</td>\n",
       "    </tr>\n",
       "    <tr>\n",
       "      <th>2005-12-27</th>\n",
       "      <td>0.052122</td>\n",
       "      <td>0.301543</td>\n",
       "    </tr>\n",
       "    <tr>\n",
       "      <th>2005-12-28</th>\n",
       "      <td>0.051354</td>\n",
       "      <td>0.301543</td>\n",
       "    </tr>\n",
       "    <tr>\n",
       "      <th>2005-12-29</th>\n",
       "      <td>0.050593</td>\n",
       "      <td>0.301543</td>\n",
       "    </tr>\n",
       "    <tr>\n",
       "      <th>2005-12-30</th>\n",
       "      <td>0.049845</td>\n",
       "      <td>0.301543</td>\n",
       "    </tr>\n",
       "    <tr>\n",
       "      <th>2005-12-31</th>\n",
       "      <td>0.049113</td>\n",
       "      <td>0.313197</td>\n",
       "    </tr>\n",
       "  </tbody>\n",
       "</table>\n",
       "<p>7304 rows × 2 columns</p>\n",
       "</div>"
      ],
      "text/plain": [
       "            simulation  streamflow\n",
       "1986-01-02    0.000000    0.317567\n",
       "1986-01-03    0.000000    0.305913\n",
       "1986-01-04    0.000000    0.301543\n",
       "1986-01-05    0.000635    0.308826\n",
       "1986-01-06    0.002411    0.367095\n",
       "...                ...         ...\n",
       "2005-12-27    0.052122    0.301543\n",
       "2005-12-28    0.051354    0.301543\n",
       "2005-12-29    0.050593    0.301543\n",
       "2005-12-30    0.049845    0.301543\n",
       "2005-12-31    0.049113    0.313197\n",
       "\n",
       "[7304 rows x 2 columns]"
      ]
     },
     "execution_count": 31,
     "metadata": {},
     "output_type": "execute_result"
    }
   ],
   "source": [
    "simulated_discharge_df = pd.DataFrame(\n",
    "    {'simulation': Discharge},\n",
    "    index=pd.to_datetime(timestamp)\n",
    ")\n",
    "combined_discharge = pd.merge(simulated_discharge_df, forcing['streamflow'], left_index=True, right_index=True)\n",
    "combined_discharge"
   ]
  },
  {
   "cell_type": "code",
   "execution_count": 32,
   "metadata": {},
   "outputs": [
    {
     "data": {
      "image/png": "[encoded data removed]",
      "text/plain": [
       "<Figure size 1152x576 with 1 Axes>"
      ]
     },
     "metadata": {
      "needs_background": "light"
     },
     "output_type": "display_data"
    }
   ],
   "source": [
    "plt.figure(figsize=[16,8])\n",
    "combined_discharge.simulation.plot(label='Simulation')\n",
    "combined_discharge.streamflow.plot(label='Observation')\n",
    "plt.legend();"
   ]
  },
  {
   "cell_type": "markdown",
   "metadata": {},
   "source": [
    "## Clean up"
   ]
  },
  {
   "cell_type": "code",
   "execution_count": 21,
   "metadata": {},
   "outputs": [],
   "source": [
    "model.finalize()"
   ]
  },
  {
   "cell_type": "code",
   "execution_count": 33,
   "metadata": {},
   "outputs": [
    {
     "name": "stdout",
     "output_type": "stream",
     "text": [
      "<BMI_HBVmountain_Python.BMI_HBVmountain object at 0x000001CA1F2893C8>\n"
     ]
    }
   ],
   "source": [
    "print(model)"
   ]
  },
  {
   "cell_type": "code",
   "execution_count": 33,
   "metadata": {},
   "outputs": [],
   "source": [
    "sim, streamflow, prec, ETP = combined_discharge.simulation.sum(), forcing.streamflow.sum(), forcing.prec_era5.sum(), np.sum(ETP)"
   ]
  },
  {
   "cell_type": "code",
   "execution_count": 44,
   "metadata": {},
   "outputs": [
    {
     "data": {
      "text/plain": [
       "13.868311746967265"
      ]
     },
     "execution_count": 44,
     "metadata": {},
     "output_type": "execute_result"
    }
   ],
   "source": [
    "streamflow - sim + prec - streamflow - ETP"
   ]
  },
  {
   "cell_type": "code",
   "execution_count": 27,
   "metadata": {},
   "outputs": [
    {
     "data": {
      "text/plain": [
       "Text(0, 0.5, 'mm day-1')"
      ]
     },
     "execution_count": 27,
     "metadata": {},
     "output_type": "execute_result"
    },
    {
     "data": {
      "image/png": "[encoded data removed]",
      "text/plain": [
       "<Figure size 432x288 with 1 Axes>"
      ]
     },
     "metadata": {
      "needs_background": "light"
     },
     "output_type": "display_data"
    }
   ],
   "source": [
    "forcing.index = pd.to_datetime(forcing.index)\n",
    "forcing.streamflow.loc[forcing.index.year == 1996].plot()\n",
    "plt.title('GRDC Discharge observations Big Rock Creek, 1996')\n",
    "plt.ylabel('mm day-1')"
   ]
  },
  {
   "cell_type": "code",
   "execution_count": null,
   "metadata": {},
   "outputs": [],
   "source": []
  }
 ],
 "metadata": {
  "kernelspec": {
   "display_name": "Python 3",
   "language": "python",
   "name": "python3"
  },
  "language_info": {
   "codemirror_mode": {
    "name": "ipython",
    "version": 3
   },
   "file_extension": ".py",
   "mimetype": "text/x-python",
   "name": "python",
   "nbconvert_exporter": "python",
   "pygments_lexer": "ipython3",
   "version": "3.7.6"
  }
 },
 "nbformat": 4,
 "nbformat_minor": 4
}
