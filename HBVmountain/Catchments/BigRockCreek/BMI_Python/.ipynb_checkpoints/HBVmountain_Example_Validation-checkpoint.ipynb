{
 "cells": [
  {
   "cell_type": "code",
   "execution_count": 1,
   "metadata": {},
   "outputs": [],
   "source": [
    "from BMI_HBVmountain_Python import *\n",
    "from Calibration_BRC import *\n",
    "import os"
   ]
  },
  {
   "cell_type": "markdown",
   "metadata": {},
   "source": [
    "## Load forcing and observation data"
   ]
  },
  {
   "cell_type": "code",
   "execution_count": null,
   "metadata": {},
   "outputs": [
    {
     "name": "stderr",
     "output_type": "stream",
     "text": [
      "C:\\Users\\Vincent Hoogelander\\anaconda3\\lib\\site-packages\\ipykernel_launcher.py:5: SettingWithCopyWarning: \n",
      "A value is trying to be set on a copy of a slice from a DataFrame\n",
      "\n",
      "See the caveats in the documentation: https://pandas.pydata.org/pandas-docs/stable/user_guide/indexing.html#returning-a-view-versus-a-copy\n",
      "  \"\"\"\n"
     ]
    }
   ],
   "source": [
    "forcing = pd.read_csv('Data/BigCreek/forcing_bigrockcreek.csv', index_col=[0], parse_dates=True)\n",
    "pd.to_datetime(forcing.index);\n",
    "forcing = forcing.reset_index(level=0)\n",
    "for i in range(len(forcing)):\n",
    "    forcing['Date'][i] = forcing['Date'][i].date()\n",
    "forcing.set_index('Date', inplace=True)\n"
   ]
  },
  {
   "cell_type": "markdown",
   "metadata": {},
   "source": [
    "## Setting up the model"
   ]
  },
  {
   "cell_type": "code",
   "execution_count": null,
   "metadata": {},
   "outputs": [],
   "source": [
    "model = BMI_HBVmountain()"
   ]
  },
  {
   "cell_type": "code",
   "execution_count": null,
   "metadata": {},
   "outputs": [],
   "source": [
    "config_file = model.setup()"
   ]
  },
  {
   "cell_type": "code",
   "execution_count": null,
   "metadata": {},
   "outputs": [],
   "source": [
    "model.initialize(config_file)"
   ]
  },
  {
   "cell_type": "markdown",
   "metadata": {},
   "source": [
    "### Parameters"
   ]
  },
  {
   "cell_type": "code",
   "execution_count": 27,
   "metadata": {},
   "outputs": [
    {
     "ename": "KeyError",
     "evalue": "0",
     "output_type": "error",
     "traceback": [
      "\u001b[1;31m---------------------------------------------------------------------------\u001b[0m",
      "\u001b[1;31mKeyError\u001b[0m                                  Traceback (most recent call last)",
      "\u001b[1;32m~\\anaconda3\\lib\\site-packages\\pandas\\core\\indexes\\base.py\u001b[0m in \u001b[0;36mget_loc\u001b[1;34m(self, key, method, tolerance)\u001b[0m\n\u001b[0;32m   3079\u001b[0m             \u001b[1;32mtry\u001b[0m\u001b[1;33m:\u001b[0m\u001b[1;33m\u001b[0m\u001b[1;33m\u001b[0m\u001b[0m\n\u001b[1;32m-> 3080\u001b[1;33m                 \u001b[1;32mreturn\u001b[0m \u001b[0mself\u001b[0m\u001b[1;33m.\u001b[0m\u001b[0m_engine\u001b[0m\u001b[1;33m.\u001b[0m\u001b[0mget_loc\u001b[0m\u001b[1;33m(\u001b[0m\u001b[0mcasted_key\u001b[0m\u001b[1;33m)\u001b[0m\u001b[1;33m\u001b[0m\u001b[1;33m\u001b[0m\u001b[0m\n\u001b[0m\u001b[0;32m   3081\u001b[0m             \u001b[1;32mexcept\u001b[0m \u001b[0mKeyError\u001b[0m \u001b[1;32mas\u001b[0m \u001b[0merr\u001b[0m\u001b[1;33m:\u001b[0m\u001b[1;33m\u001b[0m\u001b[1;33m\u001b[0m\u001b[0m\n",
      "\u001b[1;32mpandas\\_libs\\index.pyx\u001b[0m in \u001b[0;36mpandas._libs.index.IndexEngine.get_loc\u001b[1;34m()\u001b[0m\n",
      "\u001b[1;32mpandas\\_libs\\index.pyx\u001b[0m in \u001b[0;36mpandas._libs.index.IndexEngine.get_loc\u001b[1;34m()\u001b[0m\n",
      "\u001b[1;32mpandas\\_libs\\hashtable_class_helper.pxi\u001b[0m in \u001b[0;36mpandas._libs.hashtable.Int64HashTable.get_item\u001b[1;34m()\u001b[0m\n",
      "\u001b[1;32mpandas\\_libs\\hashtable_class_helper.pxi\u001b[0m in \u001b[0;36mpandas._libs.hashtable.Int64HashTable.get_item\u001b[1;34m()\u001b[0m\n",
      "\u001b[1;31mKeyError\u001b[0m: 0",
      "\nThe above exception was the direct cause of the following exception:\n",
      "\u001b[1;31mKeyError\u001b[0m                                  Traceback (most recent call last)",
      "\u001b[1;32m<ipython-input-27-f7202e7674ec>\u001b[0m in \u001b[0;36m<module>\u001b[1;34m\u001b[0m\n\u001b[1;32m----> 1\u001b[1;33m \u001b[0mparam_list\u001b[0m \u001b[1;33m=\u001b[0m \u001b[0mparameter_conversion\u001b[0m\u001b[1;33m(\u001b[0m\u001b[1;34m'output'\u001b[0m\u001b[1;33m,\u001b[0m \u001b[0mnsmallest\u001b[0m\u001b[1;33m=\u001b[0m\u001b[1;36m25\u001b[0m\u001b[1;33m)\u001b[0m\u001b[1;33m\u001b[0m\u001b[1;33m\u001b[0m\u001b[0m\n\u001b[0m\u001b[0;32m      2\u001b[0m \u001b[0mmodel\u001b[0m\u001b[1;33m.\u001b[0m\u001b[0mset_value\u001b[0m\u001b[1;33m(\u001b[0m\u001b[1;34m'bare_parameters'\u001b[0m\u001b[1;33m,\u001b[0m \u001b[0mparam_list\u001b[0m\u001b[1;33m[\u001b[0m\u001b[1;36m0\u001b[0m\u001b[1;33m]\u001b[0m\u001b[1;33m[\u001b[0m\u001b[1;36m0\u001b[0m\u001b[1;33m]\u001b[0m\u001b[1;33m)\u001b[0m\u001b[1;33m\u001b[0m\u001b[1;33m\u001b[0m\u001b[0m\n\u001b[0;32m      3\u001b[0m \u001b[0mmodel\u001b[0m\u001b[1;33m.\u001b[0m\u001b[0mset_value\u001b[0m\u001b[1;33m(\u001b[0m\u001b[1;34m'forest_parameters'\u001b[0m\u001b[1;33m,\u001b[0m \u001b[0mparam_list\u001b[0m\u001b[1;33m[\u001b[0m\u001b[1;36m0\u001b[0m\u001b[1;33m]\u001b[0m\u001b[1;33m[\u001b[0m\u001b[1;36m1\u001b[0m\u001b[1;33m]\u001b[0m\u001b[1;33m)\u001b[0m\u001b[1;33m\u001b[0m\u001b[1;33m\u001b[0m\u001b[0m\n\u001b[0;32m      4\u001b[0m \u001b[0mmodel\u001b[0m\u001b[1;33m.\u001b[0m\u001b[0mset_value\u001b[0m\u001b[1;33m(\u001b[0m\u001b[1;34m'grass_parameters'\u001b[0m\u001b[1;33m,\u001b[0m \u001b[0mparam_list\u001b[0m\u001b[1;33m[\u001b[0m\u001b[1;36m0\u001b[0m\u001b[1;33m]\u001b[0m\u001b[1;33m[\u001b[0m\u001b[1;36m2\u001b[0m\u001b[1;33m]\u001b[0m\u001b[1;33m)\u001b[0m\u001b[1;33m\u001b[0m\u001b[1;33m\u001b[0m\u001b[0m\n\u001b[0;32m      5\u001b[0m \u001b[0mmodel\u001b[0m\u001b[1;33m.\u001b[0m\u001b[0mset_value\u001b[0m\u001b[1;33m(\u001b[0m\u001b[1;34m'rip_parameters'\u001b[0m\u001b[1;33m,\u001b[0m \u001b[0mparam_list\u001b[0m\u001b[1;33m[\u001b[0m\u001b[1;36m0\u001b[0m\u001b[1;33m]\u001b[0m\u001b[1;33m[\u001b[0m\u001b[1;36m3\u001b[0m\u001b[1;33m]\u001b[0m\u001b[1;33m)\u001b[0m\u001b[1;33m\u001b[0m\u001b[1;33m\u001b[0m\u001b[0m\n",
      "\u001b[1;32m~\\Thesis\\HBVmountain\\Python\\Calibration_BRC.py\u001b[0m in \u001b[0;36mparameter_conversion\u001b[1;34m(directory, nsmallest)\u001b[0m\n\u001b[0;32m     75\u001b[0m     \u001b[0mparam_list\u001b[0m \u001b[1;33m=\u001b[0m \u001b[1;33m[\u001b[0m\u001b[1;33m]\u001b[0m\u001b[1;33m\u001b[0m\u001b[1;33m\u001b[0m\u001b[0m\n\u001b[0;32m     76\u001b[0m     \u001b[1;32mfor\u001b[0m \u001b[0mi\u001b[0m \u001b[1;32min\u001b[0m \u001b[0mrange\u001b[0m\u001b[1;33m(\u001b[0m\u001b[0mlen\u001b[0m\u001b[1;33m(\u001b[0m\u001b[0mbare_parametersets\u001b[0m\u001b[1;33m)\u001b[0m\u001b[1;33m)\u001b[0m\u001b[1;33m:\u001b[0m\u001b[1;33m\u001b[0m\u001b[1;33m\u001b[0m\u001b[0m\n\u001b[1;32m---> 77\u001b[1;33m         bare = Parameters(bare_parametersets.beta[i], bare_parametersets.Ce.iloc[i], bare_parametersets.Drainagecapacity.iloc[i], \n\u001b[0m\u001b[0;32m     78\u001b[0m                                              \u001b[0mbare_parametersets\u001b[0m\u001b[1;33m.\u001b[0m\u001b[0mInterceptionstoragecapacity\u001b[0m\u001b[1;33m.\u001b[0m\u001b[0miloc\u001b[0m\u001b[1;33m[\u001b[0m\u001b[0mi\u001b[0m\u001b[1;33m]\u001b[0m\u001b[1;33m,\u001b[0m \u001b[0mbare_parametersets\u001b[0m\u001b[1;33m.\u001b[0m\u001b[0mKf\u001b[0m\u001b[1;33m.\u001b[0m\u001b[0miloc\u001b[0m\u001b[1;33m[\u001b[0m\u001b[0mi\u001b[0m\u001b[1;33m]\u001b[0m\u001b[1;33m,\u001b[0m\u001b[1;33m\u001b[0m\u001b[1;33m\u001b[0m\u001b[0m\n\u001b[0;32m     79\u001b[0m                                              \u001b[0mbare_parametersets\u001b[0m\u001b[1;33m.\u001b[0m\u001b[0mMeltfactor\u001b[0m\u001b[1;33m.\u001b[0m\u001b[0miloc\u001b[0m\u001b[1;33m[\u001b[0m\u001b[0mi\u001b[0m\u001b[1;33m]\u001b[0m\u001b[1;33m,\u001b[0m \u001b[0mbare_parametersets\u001b[0m\u001b[1;33m.\u001b[0m\u001b[0mMm\u001b[0m\u001b[1;33m.\u001b[0m\u001b[0miloc\u001b[0m\u001b[1;33m[\u001b[0m\u001b[0mi\u001b[0m\u001b[1;33m]\u001b[0m\u001b[1;33m,\u001b[0m \u001b[0mbare_parametersets\u001b[0m\u001b[1;33m.\u001b[0m\u001b[0mRatio_Pref\u001b[0m\u001b[1;33m.\u001b[0m\u001b[0miloc\u001b[0m\u001b[1;33m[\u001b[0m\u001b[0mi\u001b[0m\u001b[1;33m]\u001b[0m\u001b[1;33m,\u001b[0m\u001b[1;33m\u001b[0m\u001b[1;33m\u001b[0m\u001b[0m\n",
      "\u001b[1;32m~\\anaconda3\\lib\\site-packages\\pandas\\core\\series.py\u001b[0m in \u001b[0;36m__getitem__\u001b[1;34m(self, key)\u001b[0m\n\u001b[0;32m    851\u001b[0m \u001b[1;33m\u001b[0m\u001b[0m\n\u001b[0;32m    852\u001b[0m         \u001b[1;32melif\u001b[0m \u001b[0mkey_is_scalar\u001b[0m\u001b[1;33m:\u001b[0m\u001b[1;33m\u001b[0m\u001b[1;33m\u001b[0m\u001b[0m\n\u001b[1;32m--> 853\u001b[1;33m             \u001b[1;32mreturn\u001b[0m \u001b[0mself\u001b[0m\u001b[1;33m.\u001b[0m\u001b[0m_get_value\u001b[0m\u001b[1;33m(\u001b[0m\u001b[0mkey\u001b[0m\u001b[1;33m)\u001b[0m\u001b[1;33m\u001b[0m\u001b[1;33m\u001b[0m\u001b[0m\n\u001b[0m\u001b[0;32m    854\u001b[0m \u001b[1;33m\u001b[0m\u001b[0m\n\u001b[0;32m    855\u001b[0m         \u001b[1;32mif\u001b[0m \u001b[0mis_hashable\u001b[0m\u001b[1;33m(\u001b[0m\u001b[0mkey\u001b[0m\u001b[1;33m)\u001b[0m\u001b[1;33m:\u001b[0m\u001b[1;33m\u001b[0m\u001b[1;33m\u001b[0m\u001b[0m\n",
      "\u001b[1;32m~\\anaconda3\\lib\\site-packages\\pandas\\core\\series.py\u001b[0m in \u001b[0;36m_get_value\u001b[1;34m(self, label, takeable)\u001b[0m\n\u001b[0;32m    959\u001b[0m \u001b[1;33m\u001b[0m\u001b[0m\n\u001b[0;32m    960\u001b[0m         \u001b[1;31m# Similar to Index.get_value, but we do not fall back to positional\u001b[0m\u001b[1;33m\u001b[0m\u001b[1;33m\u001b[0m\u001b[1;33m\u001b[0m\u001b[0m\n\u001b[1;32m--> 961\u001b[1;33m         \u001b[0mloc\u001b[0m \u001b[1;33m=\u001b[0m \u001b[0mself\u001b[0m\u001b[1;33m.\u001b[0m\u001b[0mindex\u001b[0m\u001b[1;33m.\u001b[0m\u001b[0mget_loc\u001b[0m\u001b[1;33m(\u001b[0m\u001b[0mlabel\u001b[0m\u001b[1;33m)\u001b[0m\u001b[1;33m\u001b[0m\u001b[1;33m\u001b[0m\u001b[0m\n\u001b[0m\u001b[0;32m    962\u001b[0m         \u001b[1;32mreturn\u001b[0m \u001b[0mself\u001b[0m\u001b[1;33m.\u001b[0m\u001b[0mindex\u001b[0m\u001b[1;33m.\u001b[0m\u001b[0m_get_values_for_loc\u001b[0m\u001b[1;33m(\u001b[0m\u001b[0mself\u001b[0m\u001b[1;33m,\u001b[0m \u001b[0mloc\u001b[0m\u001b[1;33m,\u001b[0m \u001b[0mlabel\u001b[0m\u001b[1;33m)\u001b[0m\u001b[1;33m\u001b[0m\u001b[1;33m\u001b[0m\u001b[0m\n\u001b[0;32m    963\u001b[0m \u001b[1;33m\u001b[0m\u001b[0m\n",
      "\u001b[1;32m~\\anaconda3\\lib\\site-packages\\pandas\\core\\indexes\\base.py\u001b[0m in \u001b[0;36mget_loc\u001b[1;34m(self, key, method, tolerance)\u001b[0m\n\u001b[0;32m   3080\u001b[0m                 \u001b[1;32mreturn\u001b[0m \u001b[0mself\u001b[0m\u001b[1;33m.\u001b[0m\u001b[0m_engine\u001b[0m\u001b[1;33m.\u001b[0m\u001b[0mget_loc\u001b[0m\u001b[1;33m(\u001b[0m\u001b[0mcasted_key\u001b[0m\u001b[1;33m)\u001b[0m\u001b[1;33m\u001b[0m\u001b[1;33m\u001b[0m\u001b[0m\n\u001b[0;32m   3081\u001b[0m             \u001b[1;32mexcept\u001b[0m \u001b[0mKeyError\u001b[0m \u001b[1;32mas\u001b[0m \u001b[0merr\u001b[0m\u001b[1;33m:\u001b[0m\u001b[1;33m\u001b[0m\u001b[1;33m\u001b[0m\u001b[0m\n\u001b[1;32m-> 3082\u001b[1;33m                 \u001b[1;32mraise\u001b[0m \u001b[0mKeyError\u001b[0m\u001b[1;33m(\u001b[0m\u001b[0mkey\u001b[0m\u001b[1;33m)\u001b[0m \u001b[1;32mfrom\u001b[0m \u001b[0merr\u001b[0m\u001b[1;33m\u001b[0m\u001b[1;33m\u001b[0m\u001b[0m\n\u001b[0m\u001b[0;32m   3083\u001b[0m \u001b[1;33m\u001b[0m\u001b[0m\n\u001b[0;32m   3084\u001b[0m         \u001b[1;32mif\u001b[0m \u001b[0mtolerance\u001b[0m \u001b[1;32mis\u001b[0m \u001b[1;32mnot\u001b[0m \u001b[1;32mNone\u001b[0m\u001b[1;33m:\u001b[0m\u001b[1;33m\u001b[0m\u001b[1;33m\u001b[0m\u001b[0m\n",
      "\u001b[1;31mKeyError\u001b[0m: 0"
     ]
    }
   ],
   "source": [
    "param_list = parameter_conversion('output', nsmallest=25)\n",
    "model.set_value('bare_parameters', param_list[0][0])\n",
    "model.set_value('forest_parameters', param_list[0][1])\n",
    "model.set_value('grass_parameters', param_list[0][2])\n",
    "model.set_value('rip_parameters', param_list[0][3])\n",
    "model.set_value('slow_parameters', param_list[0][4])\n"
   ]
  },
  {
   "cell_type": "code",
   "execution_count": 26,
   "metadata": {},
   "outputs": [
    {
     "data": {
      "text/html": [
       "<div>\n",
       "<style scoped>\n",
       "    .dataframe tbody tr th:only-of-type {\n",
       "        vertical-align: middle;\n",
       "    }\n",
       "\n",
       "    .dataframe tbody tr th {\n",
       "        vertical-align: top;\n",
       "    }\n",
       "\n",
       "    .dataframe thead th {\n",
       "        text-align: right;\n",
       "    }\n",
       "</style>\n",
       "<table border=\"1\" class=\"dataframe\">\n",
       "  <thead>\n",
       "    <tr style=\"text-align: right;\">\n",
       "      <th></th>\n",
       "      <th>Unnamed: 0</th>\n",
       "      <th>ED</th>\n",
       "      <th>NSE</th>\n",
       "      <th>logNSE</th>\n",
       "      <th>NSEfdc</th>\n",
       "      <th>NSErunoff</th>\n",
       "      <th>beta</th>\n",
       "      <th>Ce</th>\n",
       "      <th>Drainagecapacity</th>\n",
       "      <th>Interceptionstoragecapacity</th>\n",
       "      <th>Kf</th>\n",
       "      <th>Meltfactor</th>\n",
       "      <th>Mm</th>\n",
       "      <th>Ratio_Pref</th>\n",
       "      <th>Soilstoragecapacity</th>\n",
       "      <th>Temp_Thresh</th>\n",
       "    </tr>\n",
       "  </thead>\n",
       "  <tbody>\n",
       "    <tr>\n",
       "      <th>176</th>\n",
       "      <td>176</td>\n",
       "      <td>0.301559</td>\n",
       "      <td>0.429852</td>\n",
       "      <td>0.869417</td>\n",
       "      <td>0.925185</td>\n",
       "      <td>0.873379</td>\n",
       "      <td>1.860</td>\n",
       "      <td>0.558</td>\n",
       "      <td>0.0</td>\n",
       "      <td>1.997</td>\n",
       "      <td>0.807</td>\n",
       "      <td>2.364</td>\n",
       "      <td>0.9439</td>\n",
       "      <td>0.269</td>\n",
       "      <td>16.19</td>\n",
       "      <td>1.072</td>\n",
       "    </tr>\n",
       "    <tr>\n",
       "      <th>115</th>\n",
       "      <td>115</td>\n",
       "      <td>0.315681</td>\n",
       "      <td>0.422090</td>\n",
       "      <td>0.833859</td>\n",
       "      <td>0.890303</td>\n",
       "      <td>0.841885</td>\n",
       "      <td>0.650</td>\n",
       "      <td>0.737</td>\n",
       "      <td>0.0</td>\n",
       "      <td>1.324</td>\n",
       "      <td>0.765</td>\n",
       "      <td>1.961</td>\n",
       "      <td>0.6718</td>\n",
       "      <td>0.235</td>\n",
       "      <td>16.07</td>\n",
       "      <td>-0.493</td>\n",
       "    </tr>\n",
       "    <tr>\n",
       "      <th>48</th>\n",
       "      <td>48</td>\n",
       "      <td>0.322106</td>\n",
       "      <td>0.409424</td>\n",
       "      <td>0.802818</td>\n",
       "      <td>0.890832</td>\n",
       "      <td>0.875783</td>\n",
       "      <td>0.889</td>\n",
       "      <td>0.788</td>\n",
       "      <td>0.0</td>\n",
       "      <td>0.851</td>\n",
       "      <td>0.434</td>\n",
       "      <td>1.862</td>\n",
       "      <td>0.1827</td>\n",
       "      <td>0.465</td>\n",
       "      <td>13.53</td>\n",
       "      <td>1.092</td>\n",
       "    </tr>\n",
       "    <tr>\n",
       "      <th>25</th>\n",
       "      <td>25</td>\n",
       "      <td>0.327975</td>\n",
       "      <td>0.376018</td>\n",
       "      <td>0.875149</td>\n",
       "      <td>0.925494</td>\n",
       "      <td>0.859367</td>\n",
       "      <td>1.214</td>\n",
       "      <td>0.661</td>\n",
       "      <td>0.0</td>\n",
       "      <td>1.052</td>\n",
       "      <td>0.119</td>\n",
       "      <td>1.798</td>\n",
       "      <td>0.4212</td>\n",
       "      <td>0.245</td>\n",
       "      <td>5.52</td>\n",
       "      <td>1.349</td>\n",
       "    </tr>\n",
       "    <tr>\n",
       "      <th>39</th>\n",
       "      <td>39</td>\n",
       "      <td>0.332262</td>\n",
       "      <td>0.388956</td>\n",
       "      <td>0.801921</td>\n",
       "      <td>0.902919</td>\n",
       "      <td>0.860158</td>\n",
       "      <td>1.987</td>\n",
       "      <td>0.625</td>\n",
       "      <td>0.0</td>\n",
       "      <td>2.273</td>\n",
       "      <td>0.321</td>\n",
       "      <td>4.601</td>\n",
       "      <td>0.8077</td>\n",
       "      <td>0.429</td>\n",
       "      <td>6.51</td>\n",
       "      <td>1.282</td>\n",
       "    </tr>\n",
       "    <tr>\n",
       "      <th>151</th>\n",
       "      <td>151</td>\n",
       "      <td>0.334483</td>\n",
       "      <td>0.352218</td>\n",
       "      <td>0.912203</td>\n",
       "      <td>0.943962</td>\n",
       "      <td>0.869439</td>\n",
       "      <td>1.893</td>\n",
       "      <td>0.792</td>\n",
       "      <td>0.0</td>\n",
       "      <td>2.957</td>\n",
       "      <td>0.509</td>\n",
       "      <td>2.615</td>\n",
       "      <td>0.7872</td>\n",
       "      <td>0.101</td>\n",
       "      <td>12.38</td>\n",
       "      <td>1.647</td>\n",
       "    </tr>\n",
       "    <tr>\n",
       "      <th>19</th>\n",
       "      <td>19</td>\n",
       "      <td>0.338692</td>\n",
       "      <td>0.353821</td>\n",
       "      <td>0.910241</td>\n",
       "      <td>0.933561</td>\n",
       "      <td>0.830203</td>\n",
       "      <td>1.586</td>\n",
       "      <td>0.541</td>\n",
       "      <td>0.0</td>\n",
       "      <td>0.180</td>\n",
       "      <td>0.184</td>\n",
       "      <td>1.131</td>\n",
       "      <td>0.2032</td>\n",
       "      <td>0.109</td>\n",
       "      <td>72.22</td>\n",
       "      <td>-0.510</td>\n",
       "    </tr>\n",
       "    <tr>\n",
       "      <th>28</th>\n",
       "      <td>28</td>\n",
       "      <td>0.339144</td>\n",
       "      <td>0.365436</td>\n",
       "      <td>0.876806</td>\n",
       "      <td>0.934367</td>\n",
       "      <td>0.805275</td>\n",
       "      <td>1.002</td>\n",
       "      <td>0.583</td>\n",
       "      <td>0.0</td>\n",
       "      <td>1.394</td>\n",
       "      <td>0.766</td>\n",
       "      <td>1.781</td>\n",
       "      <td>0.1395</td>\n",
       "      <td>0.224</td>\n",
       "      <td>12.68</td>\n",
       "      <td>0.122</td>\n",
       "    </tr>\n",
       "    <tr>\n",
       "      <th>148</th>\n",
       "      <td>148</td>\n",
       "      <td>0.339337</td>\n",
       "      <td>0.415242</td>\n",
       "      <td>0.832217</td>\n",
       "      <td>0.877353</td>\n",
       "      <td>0.725294</td>\n",
       "      <td>1.622</td>\n",
       "      <td>0.741</td>\n",
       "      <td>0.0</td>\n",
       "      <td>1.212</td>\n",
       "      <td>0.519</td>\n",
       "      <td>1.171</td>\n",
       "      <td>0.7453</td>\n",
       "      <td>0.334</td>\n",
       "      <td>34.16</td>\n",
       "      <td>0.828</td>\n",
       "    </tr>\n",
       "    <tr>\n",
       "      <th>123</th>\n",
       "      <td>123</td>\n",
       "      <td>0.343707</td>\n",
       "      <td>0.353598</td>\n",
       "      <td>0.894425</td>\n",
       "      <td>0.937039</td>\n",
       "      <td>0.801020</td>\n",
       "      <td>1.534</td>\n",
       "      <td>0.515</td>\n",
       "      <td>0.0</td>\n",
       "      <td>1.880</td>\n",
       "      <td>0.247</td>\n",
       "      <td>1.963</td>\n",
       "      <td>0.9695</td>\n",
       "      <td>0.188</td>\n",
       "      <td>7.87</td>\n",
       "      <td>0.681</td>\n",
       "    </tr>\n",
       "    <tr>\n",
       "      <th>27</th>\n",
       "      <td>27</td>\n",
       "      <td>0.344014</td>\n",
       "      <td>0.368838</td>\n",
       "      <td>0.860128</td>\n",
       "      <td>0.937633</td>\n",
       "      <td>0.772927</td>\n",
       "      <td>1.635</td>\n",
       "      <td>0.420</td>\n",
       "      <td>0.0</td>\n",
       "      <td>0.225</td>\n",
       "      <td>0.658</td>\n",
       "      <td>4.900</td>\n",
       "      <td>0.9022</td>\n",
       "      <td>0.269</td>\n",
       "      <td>33.66</td>\n",
       "      <td>-1.045</td>\n",
       "    </tr>\n",
       "    <tr>\n",
       "      <th>32</th>\n",
       "      <td>32</td>\n",
       "      <td>0.347424</td>\n",
       "      <td>0.464040</td>\n",
       "      <td>0.690002</td>\n",
       "      <td>0.717301</td>\n",
       "      <td>0.860198</td>\n",
       "      <td>0.418</td>\n",
       "      <td>0.729</td>\n",
       "      <td>0.0</td>\n",
       "      <td>0.828</td>\n",
       "      <td>0.981</td>\n",
       "      <td>2.370</td>\n",
       "      <td>0.3663</td>\n",
       "      <td>0.128</td>\n",
       "      <td>67.31</td>\n",
       "      <td>0.299</td>\n",
       "    </tr>\n",
       "    <tr>\n",
       "      <th>79</th>\n",
       "      <td>79</td>\n",
       "      <td>0.348877</td>\n",
       "      <td>0.408456</td>\n",
       "      <td>0.735680</td>\n",
       "      <td>0.815932</td>\n",
       "      <td>0.817815</td>\n",
       "      <td>1.034</td>\n",
       "      <td>0.574</td>\n",
       "      <td>0.0</td>\n",
       "      <td>2.711</td>\n",
       "      <td>0.195</td>\n",
       "      <td>2.939</td>\n",
       "      <td>0.6566</td>\n",
       "      <td>0.465</td>\n",
       "      <td>14.78</td>\n",
       "      <td>0.118</td>\n",
       "    </tr>\n",
       "    <tr>\n",
       "      <th>41</th>\n",
       "      <td>41</td>\n",
       "      <td>0.350189</td>\n",
       "      <td>0.407020</td>\n",
       "      <td>0.812637</td>\n",
       "      <td>0.880677</td>\n",
       "      <td>0.700731</td>\n",
       "      <td>0.996</td>\n",
       "      <td>0.414</td>\n",
       "      <td>0.0</td>\n",
       "      <td>0.630</td>\n",
       "      <td>0.265</td>\n",
       "      <td>2.671</td>\n",
       "      <td>0.9022</td>\n",
       "      <td>0.409</td>\n",
       "      <td>31.42</td>\n",
       "      <td>0.306</td>\n",
       "    </tr>\n",
       "    <tr>\n",
       "      <th>119</th>\n",
       "      <td>119</td>\n",
       "      <td>0.354279</td>\n",
       "      <td>0.374799</td>\n",
       "      <td>0.803996</td>\n",
       "      <td>0.937403</td>\n",
       "      <td>0.737620</td>\n",
       "      <td>0.339</td>\n",
       "      <td>0.643</td>\n",
       "      <td>0.0</td>\n",
       "      <td>0.070</td>\n",
       "      <td>0.245</td>\n",
       "      <td>3.147</td>\n",
       "      <td>0.8333</td>\n",
       "      <td>0.527</td>\n",
       "      <td>22.35</td>\n",
       "      <td>1.916</td>\n",
       "    </tr>\n",
       "    <tr>\n",
       "      <th>101</th>\n",
       "      <td>101</td>\n",
       "      <td>0.357471</td>\n",
       "      <td>0.439288</td>\n",
       "      <td>0.710410</td>\n",
       "      <td>0.727273</td>\n",
       "      <td>0.803781</td>\n",
       "      <td>1.971</td>\n",
       "      <td>0.738</td>\n",
       "      <td>0.0</td>\n",
       "      <td>1.054</td>\n",
       "      <td>0.511</td>\n",
       "      <td>1.405</td>\n",
       "      <td>0.2678</td>\n",
       "      <td>0.264</td>\n",
       "      <td>29.12</td>\n",
       "      <td>1.071</td>\n",
       "    </tr>\n",
       "    <tr>\n",
       "      <th>72</th>\n",
       "      <td>72</td>\n",
       "      <td>0.360058</td>\n",
       "      <td>0.328189</td>\n",
       "      <td>0.815973</td>\n",
       "      <td>0.899647</td>\n",
       "      <td>0.847361</td>\n",
       "      <td>0.145</td>\n",
       "      <td>0.774</td>\n",
       "      <td>0.0</td>\n",
       "      <td>2.702</td>\n",
       "      <td>0.879</td>\n",
       "      <td>4.695</td>\n",
       "      <td>0.2565</td>\n",
       "      <td>0.387</td>\n",
       "      <td>17.78</td>\n",
       "      <td>1.421</td>\n",
       "    </tr>\n",
       "    <tr>\n",
       "      <th>163</th>\n",
       "      <td>163</td>\n",
       "      <td>0.363380</td>\n",
       "      <td>0.420164</td>\n",
       "      <td>0.797763</td>\n",
       "      <td>0.818195</td>\n",
       "      <td>0.656465</td>\n",
       "      <td>0.742</td>\n",
       "      <td>0.442</td>\n",
       "      <td>0.0</td>\n",
       "      <td>2.320</td>\n",
       "      <td>0.539</td>\n",
       "      <td>2.831</td>\n",
       "      <td>0.9974</td>\n",
       "      <td>0.157</td>\n",
       "      <td>10.63</td>\n",
       "      <td>-1.577</td>\n",
       "    </tr>\n",
       "    <tr>\n",
       "      <th>145</th>\n",
       "      <td>145</td>\n",
       "      <td>0.365007</td>\n",
       "      <td>0.411800</td>\n",
       "      <td>0.740520</td>\n",
       "      <td>0.775172</td>\n",
       "      <td>0.737200</td>\n",
       "      <td>1.506</td>\n",
       "      <td>0.769</td>\n",
       "      <td>0.0</td>\n",
       "      <td>1.505</td>\n",
       "      <td>0.260</td>\n",
       "      <td>3.618</td>\n",
       "      <td>0.7421</td>\n",
       "      <td>0.281</td>\n",
       "      <td>6.75</td>\n",
       "      <td>-0.318</td>\n",
       "    </tr>\n",
       "    <tr>\n",
       "      <th>112</th>\n",
       "      <td>112</td>\n",
       "      <td>0.373137</td>\n",
       "      <td>0.376368</td>\n",
       "      <td>0.733260</td>\n",
       "      <td>0.837795</td>\n",
       "      <td>0.734395</td>\n",
       "      <td>1.425</td>\n",
       "      <td>0.752</td>\n",
       "      <td>0.0</td>\n",
       "      <td>0.589</td>\n",
       "      <td>0.280</td>\n",
       "      <td>4.093</td>\n",
       "      <td>0.2947</td>\n",
       "      <td>0.577</td>\n",
       "      <td>92.59</td>\n",
       "      <td>1.840</td>\n",
       "    </tr>\n",
       "    <tr>\n",
       "      <th>111</th>\n",
       "      <td>111</td>\n",
       "      <td>0.376716</td>\n",
       "      <td>0.321812</td>\n",
       "      <td>0.782263</td>\n",
       "      <td>0.922529</td>\n",
       "      <td>0.766960</td>\n",
       "      <td>0.762</td>\n",
       "      <td>0.505</td>\n",
       "      <td>0.0</td>\n",
       "      <td>1.712</td>\n",
       "      <td>0.629</td>\n",
       "      <td>1.143</td>\n",
       "      <td>0.3167</td>\n",
       "      <td>0.518</td>\n",
       "      <td>6.19</td>\n",
       "      <td>0.654</td>\n",
       "    </tr>\n",
       "    <tr>\n",
       "      <th>77</th>\n",
       "      <td>77</td>\n",
       "      <td>0.377028</td>\n",
       "      <td>0.438942</td>\n",
       "      <td>0.641619</td>\n",
       "      <td>0.677382</td>\n",
       "      <td>0.854073</td>\n",
       "      <td>1.666</td>\n",
       "      <td>0.414</td>\n",
       "      <td>0.0</td>\n",
       "      <td>0.453</td>\n",
       "      <td>0.163</td>\n",
       "      <td>4.469</td>\n",
       "      <td>0.7577</td>\n",
       "      <td>0.256</td>\n",
       "      <td>48.20</td>\n",
       "      <td>-0.329</td>\n",
       "    </tr>\n",
       "    <tr>\n",
       "      <th>116</th>\n",
       "      <td>116</td>\n",
       "      <td>0.379511</td>\n",
       "      <td>0.431351</td>\n",
       "      <td>0.681087</td>\n",
       "      <td>0.691309</td>\n",
       "      <td>0.763868</td>\n",
       "      <td>0.123</td>\n",
       "      <td>0.658</td>\n",
       "      <td>0.0</td>\n",
       "      <td>1.081</td>\n",
       "      <td>0.152</td>\n",
       "      <td>1.525</td>\n",
       "      <td>0.7965</td>\n",
       "      <td>0.192</td>\n",
       "      <td>25.90</td>\n",
       "      <td>0.585</td>\n",
       "    </tr>\n",
       "    <tr>\n",
       "      <th>144</th>\n",
       "      <td>144</td>\n",
       "      <td>0.384723</td>\n",
       "      <td>0.362823</td>\n",
       "      <td>0.827354</td>\n",
       "      <td>0.908698</td>\n",
       "      <td>0.615410</td>\n",
       "      <td>1.469</td>\n",
       "      <td>0.714</td>\n",
       "      <td>0.0</td>\n",
       "      <td>1.615</td>\n",
       "      <td>0.800</td>\n",
       "      <td>1.943</td>\n",
       "      <td>0.6776</td>\n",
       "      <td>0.362</td>\n",
       "      <td>69.42</td>\n",
       "      <td>1.427</td>\n",
       "    </tr>\n",
       "    <tr>\n",
       "      <th>40</th>\n",
       "      <td>40</td>\n",
       "      <td>0.393868</td>\n",
       "      <td>0.384197</td>\n",
       "      <td>0.643427</td>\n",
       "      <td>0.705062</td>\n",
       "      <td>0.835128</td>\n",
       "      <td>0.443</td>\n",
       "      <td>0.791</td>\n",
       "      <td>0.0</td>\n",
       "      <td>0.420</td>\n",
       "      <td>0.642</td>\n",
       "      <td>3.752</td>\n",
       "      <td>0.1012</td>\n",
       "      <td>0.363</td>\n",
       "      <td>7.87</td>\n",
       "      <td>-1.036</td>\n",
       "    </tr>\n",
       "  </tbody>\n",
       "</table>\n",
       "</div>"
      ],
      "text/plain": [
       "     Unnamed: 0        ED       NSE    logNSE    NSEfdc  NSErunoff   beta  \\\n",
       "176         176  0.301559  0.429852  0.869417  0.925185   0.873379  1.860   \n",
       "115         115  0.315681  0.422090  0.833859  0.890303   0.841885  0.650   \n",
       "48           48  0.322106  0.409424  0.802818  0.890832   0.875783  0.889   \n",
       "25           25  0.327975  0.376018  0.875149  0.925494   0.859367  1.214   \n",
       "39           39  0.332262  0.388956  0.801921  0.902919   0.860158  1.987   \n",
       "151         151  0.334483  0.352218  0.912203  0.943962   0.869439  1.893   \n",
       "19           19  0.338692  0.353821  0.910241  0.933561   0.830203  1.586   \n",
       "28           28  0.339144  0.365436  0.876806  0.934367   0.805275  1.002   \n",
       "148         148  0.339337  0.415242  0.832217  0.877353   0.725294  1.622   \n",
       "123         123  0.343707  0.353598  0.894425  0.937039   0.801020  1.534   \n",
       "27           27  0.344014  0.368838  0.860128  0.937633   0.772927  1.635   \n",
       "32           32  0.347424  0.464040  0.690002  0.717301   0.860198  0.418   \n",
       "79           79  0.348877  0.408456  0.735680  0.815932   0.817815  1.034   \n",
       "41           41  0.350189  0.407020  0.812637  0.880677   0.700731  0.996   \n",
       "119         119  0.354279  0.374799  0.803996  0.937403   0.737620  0.339   \n",
       "101         101  0.357471  0.439288  0.710410  0.727273   0.803781  1.971   \n",
       "72           72  0.360058  0.328189  0.815973  0.899647   0.847361  0.145   \n",
       "163         163  0.363380  0.420164  0.797763  0.818195   0.656465  0.742   \n",
       "145         145  0.365007  0.411800  0.740520  0.775172   0.737200  1.506   \n",
       "112         112  0.373137  0.376368  0.733260  0.837795   0.734395  1.425   \n",
       "111         111  0.376716  0.321812  0.782263  0.922529   0.766960  0.762   \n",
       "77           77  0.377028  0.438942  0.641619  0.677382   0.854073  1.666   \n",
       "116         116  0.379511  0.431351  0.681087  0.691309   0.763868  0.123   \n",
       "144         144  0.384723  0.362823  0.827354  0.908698   0.615410  1.469   \n",
       "40           40  0.393868  0.384197  0.643427  0.705062   0.835128  0.443   \n",
       "\n",
       "        Ce  Drainagecapacity  Interceptionstoragecapacity     Kf  Meltfactor  \\\n",
       "176  0.558               0.0                        1.997  0.807       2.364   \n",
       "115  0.737               0.0                        1.324  0.765       1.961   \n",
       "48   0.788               0.0                        0.851  0.434       1.862   \n",
       "25   0.661               0.0                        1.052  0.119       1.798   \n",
       "39   0.625               0.0                        2.273  0.321       4.601   \n",
       "151  0.792               0.0                        2.957  0.509       2.615   \n",
       "19   0.541               0.0                        0.180  0.184       1.131   \n",
       "28   0.583               0.0                        1.394  0.766       1.781   \n",
       "148  0.741               0.0                        1.212  0.519       1.171   \n",
       "123  0.515               0.0                        1.880  0.247       1.963   \n",
       "27   0.420               0.0                        0.225  0.658       4.900   \n",
       "32   0.729               0.0                        0.828  0.981       2.370   \n",
       "79   0.574               0.0                        2.711  0.195       2.939   \n",
       "41   0.414               0.0                        0.630  0.265       2.671   \n",
       "119  0.643               0.0                        0.070  0.245       3.147   \n",
       "101  0.738               0.0                        1.054  0.511       1.405   \n",
       "72   0.774               0.0                        2.702  0.879       4.695   \n",
       "163  0.442               0.0                        2.320  0.539       2.831   \n",
       "145  0.769               0.0                        1.505  0.260       3.618   \n",
       "112  0.752               0.0                        0.589  0.280       4.093   \n",
       "111  0.505               0.0                        1.712  0.629       1.143   \n",
       "77   0.414               0.0                        0.453  0.163       4.469   \n",
       "116  0.658               0.0                        1.081  0.152       1.525   \n",
       "144  0.714               0.0                        1.615  0.800       1.943   \n",
       "40   0.791               0.0                        0.420  0.642       3.752   \n",
       "\n",
       "         Mm  Ratio_Pref  Soilstoragecapacity  Temp_Thresh  \n",
       "176  0.9439       0.269                16.19        1.072  \n",
       "115  0.6718       0.235                16.07       -0.493  \n",
       "48   0.1827       0.465                13.53        1.092  \n",
       "25   0.4212       0.245                 5.52        1.349  \n",
       "39   0.8077       0.429                 6.51        1.282  \n",
       "151  0.7872       0.101                12.38        1.647  \n",
       "19   0.2032       0.109                72.22       -0.510  \n",
       "28   0.1395       0.224                12.68        0.122  \n",
       "148  0.7453       0.334                34.16        0.828  \n",
       "123  0.9695       0.188                 7.87        0.681  \n",
       "27   0.9022       0.269                33.66       -1.045  \n",
       "32   0.3663       0.128                67.31        0.299  \n",
       "79   0.6566       0.465                14.78        0.118  \n",
       "41   0.9022       0.409                31.42        0.306  \n",
       "119  0.8333       0.527                22.35        1.916  \n",
       "101  0.2678       0.264                29.12        1.071  \n",
       "72   0.2565       0.387                17.78        1.421  \n",
       "163  0.9974       0.157                10.63       -1.577  \n",
       "145  0.7421       0.281                 6.75       -0.318  \n",
       "112  0.2947       0.577                92.59        1.840  \n",
       "111  0.3167       0.518                 6.19        0.654  \n",
       "77   0.7577       0.256                48.20       -0.329  \n",
       "116  0.7965       0.192                25.90        0.585  \n",
       "144  0.6776       0.362                69.42        1.427  \n",
       "40   0.1012       0.363                 7.87       -1.036  "
      ]
     },
     "execution_count": 26,
     "metadata": {},
     "output_type": "execute_result"
    }
   ],
   "source": []
  },
  {
   "cell_type": "markdown",
   "metadata": {},
   "source": [
    "### Forcings"
   ]
  },
  {
   "cell_type": "code",
   "execution_count": 24,
   "metadata": {},
   "outputs": [],
   "source": [
    "model.set_value('Temperature', (forcing['temp_era5'].values).reshape(len(forcing),1))\n",
    "model.set_value('Precipitation', (forcing['prec_REGEN'].values).reshape(len(forcing),1))\n",
    "\n",
    "model.set_value('Date', list(forcing.index.values))\n",
    "model.set_value('Current_Date', forcing.index.values[0])"
   ]
  },
  {
   "cell_type": "markdown",
   "metadata": {},
   "source": [
    "### Initial settings"
   ]
  },
  {
   "cell_type": "code",
   "execution_count": 25,
   "metadata": {},
   "outputs": [],
   "source": [
    "model.set_value('Elevation', Main.Elevations(270, 1250, 2600, 1250, 1250))\n",
    "model.set_value('Glacier', [0.0, 0.0, 0.0, 0.0])\n",
    "model.set_value('Sunhours', [10.18, 10.90, 12.0, 13.10, 14.0, 14.45, 14.08, 13.31, 12.24, 11.25, 10.31, 9.85])\n",
    "model.set_value('bare_input', Main.HRU_Input([0,0,0,0], 0, np.zeros(4), [1,2,3,4], 4, (0,), (0,), 0, np.zeros(4), 0.2, np.zeros(4), 0, 0.0))\n",
    "model.set_value('forest_input', Main.HRU_Input([0.0,0.20,0.73,0.07], 0.64,np.zeros(4), [1,2,3,4], 4, (0,), (0,), 0, np.zeros(4), 0.2, np.zeros(4), 0, 0.0))\n",
    "model.set_value('grass_input', Main.HRU_Input([0.1,0.8,0.1,0.0], 0.35,np.zeros(4), [1,2,3,4], 4, (0,), (0,), 0, np.zeros(4), 0.2, np.zeros(4), 0, 0.0))\n",
    "model.set_value('rip_input', Main.HRU_Input([1.0,0,0,0], 0.01,np.zeros(4), [1,2,3,4], 4, (0,), (0,), 0, np.zeros(4), 0.2, np.zeros(4), 0, 0.0))\n",
    "model.set_value('Total_Elevationbands', 4)\n",
    "model.set_value('Elevation_Percentage', [0.16,0.46,0.33,0.05])\n",
    "model.set_value('bare_storage', Main.Storages(0,np.zeros(4),np.zeros(4),np.zeros(4),0))\n",
    "model.set_value('forest_storage', Main.Storages(0,np.zeros(4),np.zeros(4),np.zeros(4),0))\n",
    "model.set_value('grass_storage', Main.Storages(0,np.zeros(4),np.zeros(4),np.zeros(4),0))\n",
    "model.set_value('rip_storage', Main.Storages(0,np.zeros(4),np.zeros(4),np.zeros(4),0))"
   ]
  },
  {
   "cell_type": "markdown",
   "metadata": {},
   "source": [
    "## Running the model"
   ]
  },
  {
   "cell_type": "code",
   "execution_count": 26,
   "metadata": {},
   "outputs": [],
   "source": [
    "Discharge = []\n",
    "timestamp = []\n",
    "while (model.get_value_ptr('Current_Date') < (model.get_value_ptr('Date')[-1])):  \n",
    "# while (model.get_value_ptr('Current_Date') < (datetime.date(1996, 1, 1))):  \n",
    "    model.update()\n",
    "    timestamp.append(model.get_value_ptr('Current_Date'))\n",
    "    Discharge.append(model.get_value_ptr('Discharge'))"
   ]
  },
  {
   "cell_type": "markdown",
   "metadata": {},
   "source": [
    "## Analysis"
   ]
  },
  {
   "cell_type": "code",
   "execution_count": 27,
   "metadata": {},
   "outputs": [
    {
     "data": {
      "text/html": [
       "<div>\n",
       "<style scoped>\n",
       "    .dataframe tbody tr th:only-of-type {\n",
       "        vertical-align: middle;\n",
       "    }\n",
       "\n",
       "    .dataframe tbody tr th {\n",
       "        vertical-align: top;\n",
       "    }\n",
       "\n",
       "    .dataframe thead th {\n",
       "        text-align: right;\n",
       "    }\n",
       "</style>\n",
       "<table border=\"1\" class=\"dataframe\">\n",
       "  <thead>\n",
       "    <tr style=\"text-align: right;\">\n",
       "      <th></th>\n",
       "      <th>simulation</th>\n",
       "      <th>streamflow</th>\n",
       "    </tr>\n",
       "  </thead>\n",
       "  <tbody>\n",
       "    <tr>\n",
       "      <th>1986-01-02</th>\n",
       "      <td>0.030747</td>\n",
       "      <td>0.317567</td>\n",
       "    </tr>\n",
       "    <tr>\n",
       "      <th>1986-01-03</th>\n",
       "      <td>0.005934</td>\n",
       "      <td>0.305913</td>\n",
       "    </tr>\n",
       "    <tr>\n",
       "      <th>1986-01-04</th>\n",
       "      <td>0.001145</td>\n",
       "      <td>0.301543</td>\n",
       "    </tr>\n",
       "    <tr>\n",
       "      <th>1986-01-05</th>\n",
       "      <td>0.036315</td>\n",
       "      <td>0.308826</td>\n",
       "    </tr>\n",
       "    <tr>\n",
       "      <th>1986-01-06</th>\n",
       "      <td>0.078950</td>\n",
       "      <td>0.367095</td>\n",
       "    </tr>\n",
       "    <tr>\n",
       "      <th>...</th>\n",
       "      <td>...</td>\n",
       "      <td>...</td>\n",
       "    </tr>\n",
       "    <tr>\n",
       "      <th>2005-12-27</th>\n",
       "      <td>0.253516</td>\n",
       "      <td>0.301543</td>\n",
       "    </tr>\n",
       "    <tr>\n",
       "      <th>2005-12-28</th>\n",
       "      <td>0.251217</td>\n",
       "      <td>0.301543</td>\n",
       "    </tr>\n",
       "    <tr>\n",
       "      <th>2005-12-29</th>\n",
       "      <td>0.248938</td>\n",
       "      <td>0.301543</td>\n",
       "    </tr>\n",
       "    <tr>\n",
       "      <th>2005-12-30</th>\n",
       "      <td>0.246678</td>\n",
       "      <td>0.301543</td>\n",
       "    </tr>\n",
       "    <tr>\n",
       "      <th>2005-12-31</th>\n",
       "      <td>0.244447</td>\n",
       "      <td>0.313197</td>\n",
       "    </tr>\n",
       "  </tbody>\n",
       "</table>\n",
       "<p>7304 rows × 2 columns</p>\n",
       "</div>"
      ],
      "text/plain": [
       "            simulation  streamflow\n",
       "1986-01-02    0.030747    0.317567\n",
       "1986-01-03    0.005934    0.305913\n",
       "1986-01-04    0.001145    0.301543\n",
       "1986-01-05    0.036315    0.308826\n",
       "1986-01-06    0.078950    0.367095\n",
       "...                ...         ...\n",
       "2005-12-27    0.253516    0.301543\n",
       "2005-12-28    0.251217    0.301543\n",
       "2005-12-29    0.248938    0.301543\n",
       "2005-12-30    0.246678    0.301543\n",
       "2005-12-31    0.244447    0.313197\n",
       "\n",
       "[7304 rows x 2 columns]"
      ]
     },
     "execution_count": 27,
     "metadata": {},
     "output_type": "execute_result"
    }
   ],
   "source": [
    "simulated_discharge_df = pd.DataFrame(\n",
    "    {'simulation': Discharge},\n",
    "    index=pd.to_datetime(timestamp)\n",
    ")\n",
    "combined_discharge = pd.merge(simulated_discharge_df, forcing['streamflow'], left_index=True, right_index=True)\n",
    "combined_discharge"
   ]
  },
  {
   "cell_type": "code",
   "execution_count": 28,
   "metadata": {},
   "outputs": [
    {
     "data": {
      "text/plain": [
       "<Figure size 1152x576 with 0 Axes>"
      ]
     },
     "execution_count": 28,
     "metadata": {},
     "output_type": "execute_result"
    },
    {
     "data": {
      "image/png": "[encoded data removed]",
      "text/plain": [
       "<Figure size 1152x576 with 1 Axes>"
      ]
     },
     "metadata": {
      "needs_background": "light"
     },
     "output_type": "display_data"
    },
    {
     "data": {
      "text/plain": [
       "<Figure size 1152x576 with 0 Axes>"
      ]
     },
     "metadata": {},
     "output_type": "display_data"
    }
   ],
   "source": [
    "plt.figure(figsize=[16,8])\n",
    "combined_discharge.simulation.plot(label='Simulation')\n",
    "combined_discharge.streamflow.plot(label='Observation')\n",
    "plt.legend();\n",
    "plt.figure(figsize=[16,8])\n"
   ]
  },
  {
   "cell_type": "code",
   "execution_count": 30,
   "metadata": {},
   "outputs": [],
   "source": []
  },
  {
   "cell_type": "code",
   "execution_count": 31,
   "metadata": {},
   "outputs": [
    {
     "name": "stdout",
     "output_type": "stream",
     "text": [
      "NSE = 0.4108129300043927\n"
     ]
    }
   ],
   "source": []
  },
  {
   "cell_type": "markdown",
   "metadata": {},
   "source": [
    "## Clean up"
   ]
  },
  {
   "cell_type": "code",
   "execution_count": null,
   "metadata": {},
   "outputs": [],
   "source": [
    "model.finalize()"
   ]
  },
  {
   "cell_type": "code",
   "execution_count": null,
   "metadata": {},
   "outputs": [],
   "source": [
    "print(model)"
   ]
  },
  {
   "cell_type": "code",
   "execution_count": 64,
   "metadata": {},
   "outputs": [],
   "source": [
    "directory = 'output'\n",
    "\n",
    "bare_parametersets = pd.read_csv(os.path.join(directory, 'bare_paramsets.csv')).sort_values(by=['ED'])\n",
    "# bare_parametersets = bare_parametersets.loc[bare_parametersets['ED'].isin(bare_parametersets.ED.nsmallest(25))]\n",
    "forest_parametersets = pd.read_csv(os.path.join(directory, 'forest_paramsets.csv')).loc[bare_parametersets.index].sort_values(by=['ED'])\n",
    "grass_parametersets = pd.read_csv(os.path.join(directory, 'grass_paramsets.csv')).loc[bare_parametersets.index].sort_values(by=['ED'])\n",
    "rip_parametersets = pd.read_csv(os.path.join(directory, 'rip_paramsets.csv')).loc[bare_parametersets.index].sort_values(by=['ED'])\n",
    "slow_parametersets = pd.read_csv(os.path.join(directory, 'slow_paramsets.csv')).loc[bare_parametersets.index].sort_values(by=['ED'])"
   ]
  },
  {
   "cell_type": "code",
   "execution_count": 65,
   "metadata": {},
   "outputs": [
    {
     "data": {
      "image/png": "[encoded data removed]",
      "text/plain": [
       "<Figure size 432x288 with 1 Axes>"
      ]
     },
     "metadata": {
      "needs_background": "light"
     },
     "output_type": "display_data"
    },
    {
     "data": {
      "image/png": "[encoded data removed]",
      "text/plain": [
       "<Figure size 432x288 with 1 Axes>"
      ]
     },
     "metadata": {
      "needs_background": "light"
     },
     "output_type": "display_data"
    },
    {
     "data": {
      "image/png": "[encoded data removed]",
      "text/plain": [
       "<Figure size 432x288 with 1 Axes>"
      ]
     },
     "metadata": {
      "needs_background": "light"
     },
     "output_type": "display_data"
    },
    {
     "data": {
      "image/png": "[encoded data removed]",
      "text/plain": [
       "<Figure size 432x288 with 1 Axes>"
      ]
     },
     "metadata": {
      "needs_background": "light"
     },
     "output_type": "display_data"
    },
    {
     "data": {
      "image/png": "[encoded data removed]",
      "text/plain": [
       "<Figure size 432x288 with 1 Axes>"
      ]
     },
     "metadata": {
      "needs_background": "light"
     },
     "output_type": "display_data"
    },
    {
     "data": {
      "image/png": "[encoded data removed]",
      "text/plain": [
       "<Figure size 432x288 with 1 Axes>"
      ]
     },
     "metadata": {
      "needs_background": "light"
     },
     "output_type": "display_data"
    },
    {
     "data": {
      "image/png": "[encoded data removed]",
      "text/plain": [
       "<Figure size 432x288 with 1 Axes>"
      ]
     },
     "metadata": {
      "needs_background": "light"
     },
     "output_type": "display_data"
    },
    {
     "data": {
      "image/png": "[encoded data removed]",
      "text/plain": [
       "<Figure size 432x288 with 1 Axes>"
      ]
     },
     "metadata": {
      "needs_background": "light"
     },
     "output_type": "display_data"
    },
    {
     "data": {
      "image/png": "[encoded data removed]",
      "text/plain": [
       "<Figure size 432x288 with 1 Axes>"
      ]
     },
     "metadata": {
      "needs_background": "light"
     },
     "output_type": "display_data"
    },
    {
     "data": {
      "image/png": "[encoded data removed]",
      "text/plain": [
       "<Figure size 432x288 with 1 Axes>"
      ]
     },
     "metadata": {
      "needs_background": "light"
     },
     "output_type": "display_data"
    }
   ],
   "source": [
    "for i in np.arange(6, 16, 1):\n",
    "    plt.figure()\n",
    "    plt.xlabel='ED'\n",
    "    for j in range(len(forest_parametersets)):\n",
    "        plt.plot(forest_parametersets.iloc[j, 1], forest_parametersets.iloc[j, i], '.', color='blue')"
   ]
  },
  {
   "cell_type": "code",
   "execution_count": 56,
   "metadata": {},
   "outputs": [
    {
     "data": {
      "text/plain": [
       "array([ 6,  7,  8,  9, 10, 11, 12, 13, 14, 15])"
      ]
     },
     "execution_count": 56,
     "metadata": {},
     "output_type": "execute_result"
    }
   ],
   "source": []
  },
  {
   "cell_type": "code",
   "execution_count": null,
   "metadata": {},
   "outputs": [],
   "source": []
  },
  {
   "cell_type": "code",
   "execution_count": null,
   "metadata": {},
   "outputs": [],
   "source": []
  },
  {
   "cell_type": "code",
   "execution_count": null,
   "metadata": {},
   "outputs": [],
   "source": []
  },
  {
   "cell_type": "code",
   "execution_count": null,
   "metadata": {},
   "outputs": [],
   "source": []
  },
  {
   "cell_type": "code",
   "execution_count": null,
   "metadata": {},
   "outputs": [],
   "source": []
  },
  {
   "cell_type": "code",
   "execution_count": null,
   "metadata": {},
   "outputs": [],
   "source": []
  }
 ],
 "metadata": {
  "kernelspec": {
   "display_name": "Python 3",
   "language": "python",
   "name": "python3"
  },
  "language_info": {
   "codemirror_mode": {
    "name": "ipython",
    "version": 3
   },
   "file_extension": ".py",
   "mimetype": "text/x-python",
   "name": "python",
   "nbconvert_exporter": "python",
   "pygments_lexer": "ipython3",
   "version": "3.7.6"
  }
 },
 "nbformat": 4,
 "nbformat_minor": 4
}
