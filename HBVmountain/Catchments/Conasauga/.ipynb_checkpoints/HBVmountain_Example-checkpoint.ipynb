{
 "cells": [
  {
   "cell_type": "code",
   "execution_count": 9,
   "metadata": {},
   "outputs": [],
   "source": [
    "from BMI_HBVmountain_Python import *"
   ]
  },
  {
   "cell_type": "markdown",
   "metadata": {},
   "source": [
    "## Load forcing data"
   ]
  },
  {
   "cell_type": "code",
   "execution_count": 6,
   "metadata": {},
   "outputs": [],
   "source": [
    "# obs = pd.read_csv('Data/BigCreek/forcing_bigrockcreek.csv', index_col=[0], parse_dates=True)\n",
    "# pd.to_datetime(obs.index);\n",
    "# obs = obs.reset_index(level=0)\n",
    "# for i in range(len(obs)):\n",
    "#     obs['time'][i] = obs['time'][i].date()\n",
    "# obs.set_index('time', inplace=True)\n",
    "forcing = pd.read_csv('Data/Kawishiwi/Discharge_Kawishiwi.csv', index_col=[0], parse_dates=True)\n",
    "forcing = forcing /(657.9 * 1e6) * 1000 *86400\n",
    "# forcing = nc.Dataset('Data/BigCreek/HBVmountain_ERA5_BigRockCreek_1986_2015.nc')\n",
    "# generate_forcing_from_NETCDF(forcing)"
   ]
  },
  {
   "cell_type": "markdown",
   "metadata": {},
   "source": [
    "## Setting up the model"
   ]
  },
  {
   "cell_type": "code",
   "execution_count": 4,
   "metadata": {},
   "outputs": [],
   "source": [
    "model = BMI_HBVmountain(forcing_netcdf=forcing)"
   ]
  },
  {
   "cell_type": "code",
   "execution_count": 5,
   "metadata": {},
   "outputs": [],
   "source": [
    "config_file = model.setup()"
   ]
  },
  {
   "cell_type": "code",
   "execution_count": 6,
   "metadata": {},
   "outputs": [],
   "source": [
    "model.initialize(config_file)"
   ]
  },
  {
   "cell_type": "markdown",
   "metadata": {},
   "source": [
    "### Parameters => implement in model.setup()"
   ]
  },
  {
   "cell_type": "code",
   "execution_count": 6,
   "metadata": {},
   "outputs": [],
   "source": [
    "# bare_parameters, forest_parameters, grass_parameters, rip_parameters,  slow_parameters, parameters_array =  Main.parameter_selection() #Generate random parameterset\n",
    "# model.set_value('bare_parameters', bare_parameters)\n",
    "# model.set_value('forest_parameters', forest_parameters)\n",
    "# model.set_value('grass_parameters', grass_parameters)\n",
    "# model.set_value('rip_parameters', rip_parameters)\n",
    "# model.set_value('slow_parameters', slow_parameters)"
   ]
  },
  {
   "cell_type": "markdown",
   "metadata": {},
   "source": [
    "### Forcings"
   ]
  },
  {
   "cell_type": "code",
   "execution_count": 7,
   "metadata": {},
   "outputs": [],
   "source": [
    "model.set_value('Temperature', (forcing['temp_era5'].values.reshape(len(forcing),1)))\n",
    "model.set_value('Precipitation', (forcing['prec_era5'].values.reshape(len(forcing),1)))\n",
    "\n",
    "model.set_value('Date', list(forcing.index.values))\n",
    "model.set_value('Current_Date', forcing.index.values[0])"
   ]
  },
  {
   "cell_type": "markdown",
   "metadata": {},
   "source": [
    "### Initial settings => implement in model.setup()"
   ]
  },
  {
   "cell_type": "code",
   "execution_count": 22,
   "metadata": {},
   "outputs": [],
   "source": [
    "# model.set_value('Elevation', Main.Elevations(500, 500, 2500, 1500, 1500)) # 4 Elevation bands\n",
    "\n",
    "# model.set_value('Glacier', [0.0, 0.0, 0.0, 0.6]) # 60% of the area glacier at highest elevation band\n",
    "# model.set_value('Sunhours', [8.87, 10.30, 11.88, 13.65, 15.13, 15.97, 15.58, 14.25, 12.62, 11.87, 9.28, 8.45]) #Seattle\n",
    "# model.set_value('bare_input', Main.HRU_Input([0.0,0.0,0.3,0.7], 0.32, [0.0, 0.0, 0.0, 0.6], [1,2,3,4], 4, (0,), (0,), 0, np.zeros(4), 0.01, np.zeros(4), 0, 0.0))\n",
    "# model.set_value('forest_input', Main.HRU_Input([0.0,0.7,0.3,0.0], 0.45,np.zeros(4), [1,2,3,4], 4, (0,), (0,), 0, np.zeros(4), 0.01, np.zeros(4), 0, 0.0))\n",
    "# model.set_value('grass_input', Main.HRU_Input([0.7,0.3,0.0,0.0], 0.21,np.zeros(4), [1,2,3,4], 4, (0,), (0,), 0, np.zeros(4), 0.01, np.zeros(4), 0, 0.0))\n",
    "# model.set_value('rip_input', Main.HRU_Input([1.0,0.0,0.0,0.0], 0.02,np.zeros(4), [1,2,3,4], 4, (0,), (0,), 0, np.zeros(4), 0.01, np.zeros(4), 0, 0.0))\n",
    "# model.set_value('Total_Elevationbands', 4)\n",
    "# model.set_value('Elevation_Percentage', [0.15,0.26,0.36,0.23])\n",
    "# model.set_value('bare_storage', Main.Storages(0,np.zeros(4),np.zeros(4),np.zeros(4),0))\n",
    "# model.set_value('forest_storage', Main.Storages(0,np.zeros(4),np.zeros(4),np.zeros(4),0))\n",
    "# model.set_value('grass_storage', Main.Storages(0,np.zeros(4),np.zeros(4),np.zeros(4),0))\n",
    "# model.set_value('rip_storage', Main.Storages(0,np.zeros(4),np.zeros(4),np.zeros(4),0))"
   ]
  },
  {
   "cell_type": "markdown",
   "metadata": {},
   "source": [
    "## Running the model"
   ]
  },
  {
   "cell_type": "code",
   "execution_count": 7,
   "metadata": {},
   "outputs": [],
   "source": [
    "Discharge = []\n",
    "timestamp = []\n",
    "while (model.get_value_ptr('Current_Date') < (model.get_value_ptr('Date')[-1])):  \n",
    "    model.update()\n",
    "    timestamp.append(model.get_value_ptr('Current_Date'))\n",
    "    Discharge.append(model.get_value_ptr('Discharge'))"
   ]
  },
  {
   "cell_type": "markdown",
   "metadata": {},
   "source": [
    "## Analysis"
   ]
  },
  {
   "cell_type": "code",
   "execution_count": 13,
   "metadata": {},
   "outputs": [
    {
     "data": {
      "text/html": [
       "<div>\n",
       "<style scoped>\n",
       "    .dataframe tbody tr th:only-of-type {\n",
       "        vertical-align: middle;\n",
       "    }\n",
       "\n",
       "    .dataframe tbody tr th {\n",
       "        vertical-align: top;\n",
       "    }\n",
       "\n",
       "    .dataframe thead th {\n",
       "        text-align: right;\n",
       "    }\n",
       "</style>\n",
       "<table border=\"1\" class=\"dataframe\">\n",
       "  <thead>\n",
       "    <tr style=\"text-align: right;\">\n",
       "      <th></th>\n",
       "      <th>simulation</th>\n",
       "      <th>streamflow</th>\n",
       "    </tr>\n",
       "  </thead>\n",
       "  <tbody>\n",
       "    <tr>\n",
       "      <th>1986-01-02</th>\n",
       "      <td>0.000000</td>\n",
       "      <td>0.971722</td>\n",
       "    </tr>\n",
       "    <tr>\n",
       "      <th>1986-01-03</th>\n",
       "      <td>0.000000</td>\n",
       "      <td>0.953927</td>\n",
       "    </tr>\n",
       "    <tr>\n",
       "      <th>1986-01-04</th>\n",
       "      <td>0.000000</td>\n",
       "      <td>0.944712</td>\n",
       "    </tr>\n",
       "    <tr>\n",
       "      <th>1986-01-05</th>\n",
       "      <td>0.000000</td>\n",
       "      <td>0.944712</td>\n",
       "    </tr>\n",
       "    <tr>\n",
       "      <th>1986-01-06</th>\n",
       "      <td>0.000022</td>\n",
       "      <td>0.962825</td>\n",
       "    </tr>\n",
       "    <tr>\n",
       "      <th>...</th>\n",
       "      <td>...</td>\n",
       "      <td>...</td>\n",
       "    </tr>\n",
       "    <tr>\n",
       "      <th>2005-12-27</th>\n",
       "      <td>0.005196</td>\n",
       "      <td>6.451560</td>\n",
       "    </tr>\n",
       "    <tr>\n",
       "      <th>2005-12-28</th>\n",
       "      <td>0.004961</td>\n",
       "      <td>5.173832</td>\n",
       "    </tr>\n",
       "    <tr>\n",
       "      <th>2005-12-29</th>\n",
       "      <td>0.004737</td>\n",
       "      <td>4.535126</td>\n",
       "    </tr>\n",
       "    <tr>\n",
       "      <th>2005-12-30</th>\n",
       "      <td>0.004523</td>\n",
       "      <td>4.067060</td>\n",
       "    </tr>\n",
       "    <tr>\n",
       "      <th>2005-12-31</th>\n",
       "      <td>0.004319</td>\n",
       "      <td>3.806176</td>\n",
       "    </tr>\n",
       "  </tbody>\n",
       "</table>\n",
       "<p>7304 rows × 2 columns</p>\n",
       "</div>"
      ],
      "text/plain": [
       "            simulation  streamflow\n",
       "1986-01-02    0.000000    0.971722\n",
       "1986-01-03    0.000000    0.953927\n",
       "1986-01-04    0.000000    0.944712\n",
       "1986-01-05    0.000000    0.944712\n",
       "1986-01-06    0.000022    0.962825\n",
       "...                ...         ...\n",
       "2005-12-27    0.005196    6.451560\n",
       "2005-12-28    0.004961    5.173832\n",
       "2005-12-29    0.004737    4.535126\n",
       "2005-12-30    0.004523    4.067060\n",
       "2005-12-31    0.004319    3.806176\n",
       "\n",
       "[7304 rows x 2 columns]"
      ]
     },
     "execution_count": 13,
     "metadata": {},
     "output_type": "execute_result"
    }
   ],
   "source": [
    "simulated_discharge_df = pd.DataFrame(\n",
    "    {'simulation': Discharge},\n",
    "    index=pd.to_datetime(timestamp)\n",
    ")\n",
    "combined_discharge = pd.merge(simulated_discharge_df, obs['streamflow'], left_index=True, right_index=True)\n",
    "combined_discharge"
   ]
  },
  {
   "cell_type": "code",
   "execution_count": 14,
   "metadata": {},
   "outputs": [
    {
     "data": {
      "image/png": "[encoded data removed]",
      "text/plain": [
       "<Figure size 1152x576 with 1 Axes>"
      ]
     },
     "metadata": {
      "needs_background": "light"
     },
     "output_type": "display_data"
    }
   ],
   "source": [
    "plt.figure(figsize=[16,8])\n",
    "combined_discharge.simulation.iloc[1000:2600].plot(label='Simulation')\n",
    "combined_discharge.streamflow.iloc[1000:2600].plot(label='Observation')\n",
    "plt.legend();"
   ]
  },
  {
   "cell_type": "markdown",
   "metadata": {},
   "source": [
    "## Clean up"
   ]
  },
  {
   "cell_type": "code",
   "execution_count": 42,
   "metadata": {},
   "outputs": [],
   "source": [
    "model.finalize()"
   ]
  },
  {
   "cell_type": "code",
   "execution_count": 7,
   "metadata": {},
   "outputs": [
    {
     "data": {
      "text/plain": [
       "Text(0, 0.5, 'mm day-1')"
      ]
     },
     "execution_count": 7,
     "metadata": {},
     "output_type": "execute_result"
    },
    {
     "data": {
      "image/png": "[encoded data removed]",
      "text/plain": [
       "<Figure size 432x288 with 1 Axes>"
      ]
     },
     "metadata": {
      "needs_background": "light"
     },
     "output_type": "display_data"
    }
   ],
   "source": [
    "forcing.loc[forcing.index.year==1996].plot()\n",
    "plt.title('GRDC Discharge observations Kawishiwi River, 1996')\n",
    "plt.ylabel('mm day-1')"
   ]
  },
  {
   "cell_type": "code",
   "execution_count": 2,
   "metadata": {},
   "outputs": [],
   "source": []
  },
  {
   "cell_type": "code",
   "execution_count": 5,
   "metadata": {},
   "outputs": [],
   "source": [
    "raster = rasterio.open('dem_conasauga.tif')"
   ]
  },
  {
   "cell_type": "code",
   "execution_count": 22,
   "metadata": {},
   "outputs": [
    {
     "data": {
      "image/png": "[encoded data removed]",
      "text/plain": [
       "<Figure size 432x288 with 1 Axes>"
      ]
     },
     "metadata": {
      "needs_background": "light"
     },
     "output_type": "display_data"
    }
   ],
   "source": [
    "from rasterio.plot import show_hist\n",
    "# ax = plt.figure\n",
    "show_hist(source=raster, bins=4, title='Histogram of all bands', \n",
    "          histtype='stepfilled', alpha=0.5)"
   ]
  },
  {
   "cell_type": "code",
   "execution_count": 115,
   "metadata": {},
   "outputs": [],
   "source": [
    "arr = np.expand_dims(arr.flatten(), 0).T"
   ]
  },
  {
   "cell_type": "code",
   "execution_count": 114,
   "metadata": {},
   "outputs": [],
   "source": [
    "arr = raster.read(masked=True)"
   ]
  },
  {
   "cell_type": "code",
   "execution_count": 116,
   "metadata": {},
   "outputs": [
    {
     "data": {
      "image/png": "[encoded data removed]",
      "text/plain": [
       "<Figure size 432x288 with 1 Axes>"
      ]
     },
     "metadata": {
      "needs_background": "light"
     },
     "output_type": "display_data"
    }
   ],
   "source": [
    "n, bins, patches = plt.hist(arr, bins=4)"
   ]
  },
  {
   "cell_type": "code",
   "execution_count": 2,
   "metadata": {},
   "outputs": [],
   "source": [
    "def generate_array_from_raster(str_path_to_rasterfile):\n",
    "    raster = rasterio.open(str_path_to_rasterfile)\n",
    "    arr = raster.read(masked=True)\n",
    "    arr = np.expand_dims(arr.flatten(), 0).T\n",
    "    \n",
    "    return arr"
   ]
  },
  {
   "cell_type": "code",
   "execution_count": 3,
   "metadata": {},
   "outputs": [],
   "source": [
    "def get_elevations_from_raster(raster_array_flattened, nbands=4):\n",
    "   \n",
    "    n, bins, patches = plt.hist(raster_array_flattened, bins=nbands)\n",
    "    plt.close()\n",
    "    tot_pixels = n.sum()\n",
    "    \n",
    "    elevation_list = []\n",
    "    for i in range(nbands):\n",
    "        elevation_percentage = n[i] / tot_pixels\n",
    "        elevation_list.append(round(elevation_percentage, 3))\n",
    "    min_elevation = np.min(bins)\n",
    "    max_elevation = np.max(bins)\n",
    "    return elevation_list, bins, min_elevation, max_elevation"
   ]
  },
  {
   "cell_type": "code",
   "execution_count": 4,
   "metadata": {},
   "outputs": [],
   "source": [
    "def get_landuse_from_raster(raster_array_flattened):\n",
    "    n, bins, patches = plt.hist(raster_array_flattened, bins=np.arange(96))\n",
    "    plt.close()\n",
    "    \n",
    "    tot_pixels = n.sum()\n",
    "    \n",
    "    bare = np.sum(n[[11, 21, 22, 23, 30]]) / tot_pixels \n",
    "    forest = np.sum(n[40:44]) / tot_pixels \n",
    "    grass = (np.sum(n[50:82])+ n[20]) /tot_pixels \n",
    "    rip = np.sum(n[[10, 89, 94]]) /tot_pixels  \n",
    "    \n",
    "    landuse_list = [bare, forest, grass, rip] \n",
    "    return landuse_list"
   ]
  },
  {
   "cell_type": "code",
   "execution_count": 680,
   "metadata": {},
   "outputs": [],
   "source": [
    "# def generate_shapefile_per_elevation(min_elevation, max_elevation):\n",
    "#     with rasterio.Env():\n",
    "#         with rasterio.open('dem_conasauga.tif') as src:\n",
    "#             image = src.read(masked=True) # first band\n",
    "#             image[(image > min_elevation) & (image <= max_elevation)] = -9999\n",
    "#             results = (\n",
    "#             {'properties': {'raster_val': v}, 'geometry': s}\n",
    "#             for i, (s, v) \n",
    "#             in enumerate(\n",
    "#                 shapes(image, mask=(image ==-9999), transform=src.transform)))\n",
    "#     geoms = list(results)\n",
    "#     gpd_polygonized_raster  = gp.GeoDataFrame.from_features(geoms, crs='epsg:4326')\n",
    "#     return gpd_polygonized_raster"
   ]
  },
  {
   "cell_type": "code",
   "execution_count": 5,
   "metadata": {},
   "outputs": [],
   "source": [
    "def generate_shapefiles_per_landuse(landuse, str_path_to_nlcd):\n",
    "    with rasterio.Env():\n",
    "        with rasterio.open(str_path_to_nlcd) as src:\n",
    "            image = src.read(masked=True) # first band\n",
    "                    \n",
    "            if landuse == 'bare':\n",
    "                image[(image == 12) | (image == 22) | (image == 23)  | (image == 24) | (image == 31)] = -9999\n",
    "            if landuse == 'forest':\n",
    "                image[(image == 41) | (image == 42) | (image == 43)] = -9999\n",
    "            if landuse == 'grass':\n",
    "                image[(image == 21) | (image == 51) | (image == 52) | (image == 71) | (image == 72) | (image == 73) | (image == 74) | (image == 81) | (image == 82)] = -9999\n",
    "            if landuse == 'rip':\n",
    "                image[(image == 11) | (image == 90) | (image == 95)] = -9999\n",
    "                \n",
    "            results = (\n",
    "            {'properties': {'raster_val': v}, 'geometry': s}\n",
    "            for i, (s, v) \n",
    "            in enumerate(\n",
    "                shapes(image, mask=(image ==-9999), transform=src.transform)))\n",
    "    geoms = list(results)\n",
    "    gpd_polygonized_raster  = gp.GeoDataFrame.from_features(geoms, crs='epsg:4326')\n",
    "    return gpd_polygonized_raster\n"
   ]
  },
  {
   "cell_type": "code",
   "execution_count": 6,
   "metadata": {},
   "outputs": [],
   "source": [
    "def clip_elevation_per_landuse(gpd_polygonized_raster, str_path_to_elevation, export_tif=False):\n",
    "    gdf = gpd_polygonized_raster.dissolve()\n",
    "    coords = [json.loads(gdf.to_json())['features'][0]['geometry']] #parse features from GeoDataFrame in such a manner that rasterio wants them\n",
    "\n",
    "\n",
    "    data = rasterio.open(str_path_to_elevation, masked=True)\n",
    "    out_img, out_transform = mask(data, shapes=coords)\n",
    "    out_img = np.expand_dims(out_img.flatten(), 0).T\n",
    "    out_img = ma.masked_values(out_img, data.nodata)\n",
    "    if export_tif == True:\n",
    "        out_meta = data.meta.copy()\n",
    "        with rasterio.open('elevationlanduse.tif', \"w\", **out_meta) as dest:\n",
    "            dest.write(out_img)\n",
    "    \n",
    "    return out_img "
   ]
  },
  {
   "cell_type": "code",
   "execution_count": 7,
   "metadata": {},
   "outputs": [],
   "source": [
    "def generate_landuse_per_elevation(str_path_to_elevation, str_path_to_landuse):\n",
    "    elevation_array = generate_array_from_raster(str_path_to_elevation)\n",
    "    landuse_array = generate_array_from_raster(str_path_to_landuse)\n",
    "    \n",
    "    elevation_list, bins, min_elevation, max_elevation = get_elevations_from_raster(elevation_array, nbands=4)\n",
    "    landuse_catchment = get_landuse_from_raster(landuse_array)\n",
    "    \n",
    "    tot_elevations = [elevation_list]\n",
    "    landuse = ['bare', 'forest', 'grass', 'rip']\n",
    "    for x in landuse:\n",
    "        gpd_polygonized_raster = generate_shapefiles_per_landuse(x, str_path_to_landuse)\n",
    "        arr = clip_elevation_per_landuse(gpd_polygonized_raster, str_path_to_elevation)\n",
    "        raster_array_flattened = np.expand_dims(arr.flatten(), 0).T\n",
    "        elevation_list, bins, min_elevation, max_elevation = get_elevations_from_raster(raster_array_flattened, nbands=4)\n",
    "        tot_elevations.append([elevation_list, min_elevation])\n",
    "    return tot_elevations"
   ]
  },
  {
   "cell_type": "code",
   "execution_count": 10,
   "metadata": {},
   "outputs": [
    {
     "data": {
      "text/plain": [
       "[[0.68, 0.168, 0.125, 0.027],\n",
       " [[0.998, 0.001, 0.0, 0.001], 207.0],\n",
       " [[0.579, 0.216, 0.17, 0.036], 206.0],\n",
       " [[0.968, 0.014, 0.014, 0.004], 204.0],\n",
       " [[0.989, 0.009, 0.001, 0.001], 187.0]]"
      ]
     },
     "execution_count": 10,
     "metadata": {},
     "output_type": "execute_result"
    }
   ],
   "source": [
    "generate_landuse_per_elevation('dem_conasauga.tif', 'nlcd_conasauga.tif')"
   ]
  },
  {
   "cell_type": "code",
   "execution_count": null,
   "metadata": {},
   "outputs": [],
   "source": []
  },
  {
   "cell_type": "code",
   "execution_count": 11,
   "metadata": {},
   "outputs": [],
   "source": [
    "# msk = out_img.read_masks(1)\n"
   ]
  },
  {
   "cell_type": "code",
   "execution_count": 733,
   "metadata": {},
   "outputs": [],
   "source": []
  },
  {
   "cell_type": "code",
   "execution_count": 746,
   "metadata": {},
   "outputs": [
    {
     "data": {
      "text/plain": [
       "11.0"
      ]
     },
     "execution_count": 746,
     "metadata": {},
     "output_type": "execute_result"
    }
   ],
   "source": []
  },
  {
   "cell_type": "code",
   "execution_count": null,
   "metadata": {},
   "outputs": [],
   "source": []
  },
  {
   "cell_type": "code",
   "execution_count": null,
   "metadata": {},
   "outputs": [],
   "source": []
  },
  {
   "cell_type": "code",
   "execution_count": null,
   "metadata": {},
   "outputs": [],
   "source": []
  },
  {
   "cell_type": "code",
   "execution_count": null,
   "metadata": {},
   "outputs": [],
   "source": []
  }
 ],
 "metadata": {
  "kernelspec": {
   "display_name": "Python 3",
   "language": "python",
   "name": "python3"
  },
  "language_info": {
   "codemirror_mode": {
    "name": "ipython",
    "version": 3
   },
   "file_extension": ".py",
   "mimetype": "text/x-python",
   "name": "python",
   "nbconvert_exporter": "python",
   "pygments_lexer": "ipython3",
   "version": "3.7.6"
  }
 },
 "nbformat": 4,
 "nbformat_minor": 4
}
