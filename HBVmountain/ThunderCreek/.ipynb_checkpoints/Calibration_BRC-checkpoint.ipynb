{
 "cells": [
  {
   "cell_type": "code",
   "execution_count": 1,
   "metadata": {},
   "outputs": [],
   "source": [
    "from BMI_HBVmountain_Python import *\n",
    "import netCDF4 as nc\n"
   ]
  },
  {
   "cell_type": "markdown",
   "metadata": {},
   "source": [
    "## Load forcing and observation data"
   ]
  },
  {
   "cell_type": "code",
   "execution_count": 2,
   "metadata": {},
   "outputs": [
    {
     "name": "stderr",
     "output_type": "stream",
     "text": [
      "C:\\Users\\Vincent Hoogelander\\anaconda3\\lib\\site-packages\\ipykernel_launcher.py:6: SettingWithCopyWarning: \n",
      "A value is trying to be set on a copy of a slice from a DataFrame.\n",
      "Try using .loc[row_indexer,col_indexer] = value instead\n",
      "\n",
      "See the caveats in the documentation: https://pandas.pydata.org/pandas-docs/stable/user_guide/indexing.html#returning-a-view-versus-a-copy\n",
      "  \n",
      "C:\\Users\\Vincent Hoogelander\\anaconda3\\lib\\site-packages\\ipykernel_launcher.py:10: SettingWithCopyWarning: \n",
      "A value is trying to be set on a copy of a slice from a DataFrame\n",
      "\n",
      "See the caveats in the documentation: https://pandas.pydata.org/pandas-docs/stable/user_guide/indexing.html#returning-a-view-versus-a-copy\n",
      "  # Remove the CWD from sys.path while we load stuff.\n",
      "C:\\Users\\Vincent Hoogelander\\anaconda3\\lib\\site-packages\\ipykernel_launcher.py:11: SettingWithCopyWarning: \n",
      "A value is trying to be set on a copy of a slice from a DataFrame\n",
      "\n",
      "See the caveats in the documentation: https://pandas.pydata.org/pandas-docs/stable/user_guide/indexing.html#returning-a-view-versus-a-copy\n",
      "  # This is added back by InteractiveShellApp.init_path()\n"
     ]
    }
   ],
   "source": [
    "grdc = pd.read_csv('Data/BigCreek/4118220_Q_Day.csv', sep=';', index_col=[0])\n",
    "grdc.rename(columns={' Value':'streamflow'}, inplace=True)\n",
    "pd.to_datetime(grdc.index);\n",
    "forcing = grdc.loc[\"1-1-1985\":\"31-12-2005\"]\n",
    "\n",
    "forcing['streamflow'] = forcing['streamflow'] / 59311000 * 1000 *86400 #area * convertion mm * convertion /day\n",
    "forcing = forcing.reset_index(level=0)\n",
    "\n",
    "for i in range(len(forcing)):\n",
    "    forcing['Date'][i] = datetime.datetime.strptime(forcing['Date'][i], '%d-%m-%Y')\n",
    "    forcing['Date'][i] = forcing['Date'][i].date()\n",
    "forcing.set_index('Date', inplace=True)"
   ]
  },
  {
   "cell_type": "code",
   "execution_count": 3,
   "metadata": {},
   "outputs": [],
   "source": [
    "path = 'Data/BigCreek/HBVmountain_REGEN_BigCreek_1985_2005.nc'\n",
    "dsregen = nc.Dataset(path)\n",
    "\n",
    "regen = (dsregen['pr'][:])*86400\n",
    "\n",
    "preclist = []\n",
    "for i in range(len(regen)):\n",
    "    preclist.append(regen[i])\n",
    "\n",
    "\n",
    "forcing['prec_REGEN'] = np.float64(preclist)\n"
   ]
  },
  {
   "cell_type": "code",
   "execution_count": 4,
   "metadata": {},
   "outputs": [],
   "source": [
    "path = 'Data/BigCreek/HBVmountain_CRU_BigCreek_1985_2005.nc'\n",
    "dscru = nc.Dataset(path)\n",
    "\n",
    "\n",
    "monthly_data = forcing.groupby(pd.PeriodIndex(forcing.index, freq=\"M\"))['prec_REGEN'].mean()\n",
    "monthly_data.index = monthly_data.index.to_timestamp()\n",
    "\n",
    "temp = (dscru['tas'][:])\n",
    "\n",
    "tlist = []\n",
    "for i in range(len(temp)):\n",
    "    tlist.append(temp[i])\n",
    "\n",
    "df_tlist = pd.DataFrame(tlist)\n",
    "df_tlist.index = monthly_data.index\n",
    "\n",
    "# df_tlist.index = df_tlist.index.to_timestamp()\n",
    "\n",
    "\n",
    "start_date = forcing.index.min() \n",
    "end_date = forcing.index[-1]\n",
    "\n",
    "dates = pd.date_range(start_date, end_date, freq='D')\n",
    "dates.name = 'date'\n",
    "df_tlist = df_tlist.reindex(dates, method='ffill')\n",
    "\n",
    "forcing['monthly_temp_cru'] = df_tlist.values -273\n"
   ]
  },
  {
   "cell_type": "code",
   "execution_count": null,
   "metadata": {},
   "outputs": [],
   "source": []
  },
  {
   "cell_type": "markdown",
   "metadata": {},
   "source": [
    "## Setting up the model"
   ]
  },
  {
   "cell_type": "code",
   "execution_count": 30,
   "metadata": {},
   "outputs": [],
   "source": [
    "model = BMI_HBVmountain()"
   ]
  },
  {
   "cell_type": "code",
   "execution_count": 31,
   "metadata": {},
   "outputs": [],
   "source": [
    "config_file = model.setup()"
   ]
  },
  {
   "cell_type": "code",
   "execution_count": 32,
   "metadata": {},
   "outputs": [],
   "source": [
    "model.initialize(config_file)"
   ]
  },
  {
   "cell_type": "markdown",
   "metadata": {},
   "source": [
    "### Parameters"
   ]
  },
  {
   "cell_type": "code",
   "execution_count": 33,
   "metadata": {},
   "outputs": [],
   "source": [
    "# bare_parameters, forest_parameters, grass_parameters, rip_parameters,  slow_parameters, parameters_array =  Main.parameter_selection()\n",
    "model.set_value('bare_parameters', bare_parameters)\n",
    "model.set_value('forest_parameters', forest_parameters)\n",
    "model.set_value('grass_parameters', grass_parameters)\n",
    "model.set_value('rip_parameters', rip_parameters)\n",
    "model.set_value('slow_parameters', slow_parameters)\n",
    "\n",
    "\n"
   ]
  },
  {
   "cell_type": "code",
   "execution_count": 34,
   "metadata": {},
   "outputs": [],
   "source": [
    "\n",
    "# model.set_value('bare_parameters', bare_parameters)\n",
    "# model.set_value('forest_parameters', Main.Parameters(0.131, 0.944, 0, 0.822, 0.282, 1.779, 0.906, 0.1, 80.81, -0.446))\n",
    "# model.set_value('grass_parameters', Main.Parameters(0.625, 0.944, 0, 0.38, 0.282, 1.779, 0.906, 0.1, 10.15, -0.446))\n",
    "# model.set_value('rip_parameters', Main.Parameters(0.591, 0.944, 0, 0.7, 0.282, 1.779, 0.906, 0.1, 8.95, -0.446))\n",
    "# model.set_value('slow_parameters', Main.Slow_Paramters(0.0000172, 0.8))\n",
    "\n",
    "\n",
    "#     beta:: Float64\n",
    "#     Ce:: Float64\n",
    "#     Drainagecapacity:: Float64 #only necessary for riparian HRU\n",
    "#     Interceptionstoragecapacity:: Float64\n",
    "#     Kf:: Float64\n",
    "#     Meltfactor:: Float64\n",
    "#     Mm:: Float64\n",
    "#     #Percolationcapacity:: Float64 #only necessary for hillslope HRU\n",
    "#     Ratio_Pref:: Float64 #only necessary for hillslope HRU\n",
    "#     Soilstoragecapacity:: Float64\n",
    "#     Temp_Thresh:: Float64"
   ]
  },
  {
   "cell_type": "markdown",
   "metadata": {},
   "source": [
    "### Forcings"
   ]
  },
  {
   "cell_type": "code",
   "execution_count": 35,
   "metadata": {},
   "outputs": [],
   "source": [
    "model.set_value('Temperature', (forcing['monthly_temp_cru'].values).reshape(len(forcing),1))\n",
    "model.set_value('Precipitation', (forcing['prec_REGEN'].values).reshape(len(forcing),1))\n",
    "\n",
    "\n",
    "model.set_value('Date', list(forcing.index.values))\n",
    "model.set_value('Current_Date', forcing.index.values[0])"
   ]
  },
  {
   "cell_type": "markdown",
   "metadata": {},
   "source": [
    "### Initial settings"
   ]
  },
  {
   "cell_type": "code",
   "execution_count": 38,
   "metadata": {},
   "outputs": [],
   "source": [
    "model.set_value('Elevation', Main.Elevations(270, 1250, 2600, 1250, 1250))\n",
    "\n",
    "model.set_value('Glacier', [0.0, 0.0, 0.0, 0.0])\n",
    "model.set_value('Sunhours', [10.18, 10.90, 12.0, 13.10, 14.0, 14.45, 14.08, 13.31, 12.24, 11.25, 10.31, 9.85])\n",
    "model.set_value('bare_input', Main.HRU_Input([0,0,0,0], 0, np.zeros(4), [1,2,3,4], 4, (0,), (0,), 0, np.zeros(4), 0.2, np.zeros(4), 0, 0.0))\n",
    "model.set_value('forest_input', Main.HRU_Input([0.0,0.20,0.73,0.07], 0.64,np.zeros(4), [1,2,3,4], 4, (0,), (0,), 0, np.zeros(4), 0.2, np.zeros(4), 0, 0.0))\n",
    "model.set_value('grass_input', Main.HRU_Input([0.1,0.8,0.1,0.0], 0.35,np.zeros(4), [1,2,3,4], 4, (0,), (0,), 0, np.zeros(4), 0.2, np.zeros(4), 0, 0.0))\n",
    "model.set_value('rip_input', Main.HRU_Input([1.0,0,0,0], 0.01,np.zeros(4), [1,2,3,4], 4, (0,), (0,), 0, np.zeros(4), 0.2, np.zeros(4), 0, 0.0))\n",
    "model.set_value('Total_Elevationbands', 4)\n",
    "model.set_value('Elevation_Percentage', [0.16,0.46,0.33,0.05])\n",
    "model.set_value('bare_storage', Main.Storages(0,np.zeros(4),np.zeros(4),np.zeros(4),0))\n",
    "model.set_value('forest_storage', Main.Storages(0,np.zeros(4),np.zeros(4),np.zeros(4),0))\n",
    "model.set_value('grass_storage', Main.Storages(0,np.zeros(4),np.zeros(4),np.zeros(4),0))\n",
    "model.set_value('rip_storage', Main.Storages(0,np.zeros(4),np.zeros(4),np.zeros(4),0))"
   ]
  },
  {
   "cell_type": "markdown",
   "metadata": {},
   "source": [
    "## Running the model"
   ]
  },
  {
   "cell_type": "code",
   "execution_count": 39,
   "metadata": {},
   "outputs": [],
   "source": [
    "Discharge = []\n",
    "timestamp = []\n",
    "while (model.get_value_ptr('Current_Date') < (datetime.date(1996, 1, 1))):  \n",
    "    model.update()\n",
    "    timestamp.append(model.get_value_ptr('Current_Date'))\n",
    "    Discharge.append(model.get_value_ptr('Discharge'))"
   ]
  },
  {
   "cell_type": "markdown",
   "metadata": {},
   "source": [
    "## Analysis"
   ]
  },
  {
   "cell_type": "code",
   "execution_count": 40,
   "metadata": {},
   "outputs": [
    {
     "data": {
      "text/html": [
       "<div>\n",
       "<style scoped>\n",
       "    .dataframe tbody tr th:only-of-type {\n",
       "        vertical-align: middle;\n",
       "    }\n",
       "\n",
       "    .dataframe tbody tr th {\n",
       "        vertical-align: top;\n",
       "    }\n",
       "\n",
       "    .dataframe thead th {\n",
       "        text-align: right;\n",
       "    }\n",
       "</style>\n",
       "<table border=\"1\" class=\"dataframe\">\n",
       "  <thead>\n",
       "    <tr style=\"text-align: right;\">\n",
       "      <th></th>\n",
       "      <th>simulation</th>\n",
       "      <th>streamflow</th>\n",
       "    </tr>\n",
       "  </thead>\n",
       "  <tbody>\n",
       "    <tr>\n",
       "      <th>1985-01-02</th>\n",
       "      <td>0.000000</td>\n",
       "      <td>0.333591</td>\n",
       "    </tr>\n",
       "    <tr>\n",
       "      <th>1985-01-03</th>\n",
       "      <td>0.000000</td>\n",
       "      <td>0.326307</td>\n",
       "    </tr>\n",
       "    <tr>\n",
       "      <th>1985-01-04</th>\n",
       "      <td>0.000000</td>\n",
       "      <td>0.321937</td>\n",
       "    </tr>\n",
       "    <tr>\n",
       "      <th>1985-01-05</th>\n",
       "      <td>0.000000</td>\n",
       "      <td>0.321937</td>\n",
       "    </tr>\n",
       "    <tr>\n",
       "      <th>1985-01-06</th>\n",
       "      <td>0.000000</td>\n",
       "      <td>0.321937</td>\n",
       "    </tr>\n",
       "    <tr>\n",
       "      <th>...</th>\n",
       "      <td>...</td>\n",
       "      <td>...</td>\n",
       "    </tr>\n",
       "    <tr>\n",
       "      <th>1995-12-28</th>\n",
       "      <td>0.058229</td>\n",
       "      <td>0.243274</td>\n",
       "    </tr>\n",
       "    <tr>\n",
       "      <th>1995-12-29</th>\n",
       "      <td>0.043184</td>\n",
       "      <td>0.243274</td>\n",
       "    </tr>\n",
       "    <tr>\n",
       "      <th>1995-12-30</th>\n",
       "      <td>0.032517</td>\n",
       "      <td>0.243274</td>\n",
       "    </tr>\n",
       "    <tr>\n",
       "      <th>1995-12-31</th>\n",
       "      <td>0.024943</td>\n",
       "      <td>0.243274</td>\n",
       "    </tr>\n",
       "    <tr>\n",
       "      <th>1996-01-01</th>\n",
       "      <td>0.019554</td>\n",
       "      <td>0.238903</td>\n",
       "    </tr>\n",
       "  </tbody>\n",
       "</table>\n",
       "<p>4017 rows × 2 columns</p>\n",
       "</div>"
      ],
      "text/plain": [
       "            simulation  streamflow\n",
       "1985-01-02    0.000000    0.333591\n",
       "1985-01-03    0.000000    0.326307\n",
       "1985-01-04    0.000000    0.321937\n",
       "1985-01-05    0.000000    0.321937\n",
       "1985-01-06    0.000000    0.321937\n",
       "...                ...         ...\n",
       "1995-12-28    0.058229    0.243274\n",
       "1995-12-29    0.043184    0.243274\n",
       "1995-12-30    0.032517    0.243274\n",
       "1995-12-31    0.024943    0.243274\n",
       "1996-01-01    0.019554    0.238903\n",
       "\n",
       "[4017 rows x 2 columns]"
      ]
     },
     "execution_count": 40,
     "metadata": {},
     "output_type": "execute_result"
    }
   ],
   "source": [
    "simulated_discharge_df = pd.DataFrame(\n",
    "    {'simulation': Discharge},\n",
    "    index=pd.to_datetime(timestamp)\n",
    ")\n",
    "combined_discharge = pd.merge(simulated_discharge_df, forcing['streamflow'], left_index=True, right_index=True)\n",
    "combined_discharge"
   ]
  },
  {
   "cell_type": "code",
   "execution_count": 41,
   "metadata": {},
   "outputs": [
    {
     "data": {
      "image/png": "[encoded data removed]",
      "text/plain": [
       "<Figure size 1152x576 with 1 Axes>"
      ]
     },
     "metadata": {
      "needs_background": "light"
     },
     "output_type": "display_data"
    },
    {
     "data": {
      "image/png": "[encoded data removed]",
      "text/plain": [
       "<Figure size 1152x576 with 1 Axes>"
      ]
     },
     "metadata": {
      "needs_background": "light"
     },
     "output_type": "display_data"
    }
   ],
   "source": [
    "plt.figure(figsize=[16,8])\n",
    "combined_discharge.simulation.plot(label='Simulation')\n",
    "combined_discharge.streamflow.plot(label='Observation')\n",
    "plt.legend();\n",
    "plt.figure(figsize=[16,8])\n",
    "# plt.plot(forcing.prec_REGEN.values[0:1000], label='prec')\n",
    "plt.legend();"
   ]
  },
  {
   "cell_type": "code",
   "execution_count": 42,
   "metadata": {},
   "outputs": [],
   "source": [
    "def NSE(Qmodelled, Qobserved):    \n",
    "    QobservedAverage = np.ones(len(Qobserved)) * np.mean(Qobserved)\n",
    "    Nominator = np.sum((Qmodelled - Qobserved)**2)\n",
    "    Denominator = np.sum((Qobserved - QobservedAverage)**2)\n",
    "    NashSutcliffe = 1 - (Nominator / Denominator)\n",
    "    return NashSutcliffe"
   ]
  },
  {
   "cell_type": "code",
   "execution_count": 49,
   "metadata": {},
   "outputs": [
    {
     "name": "stdout",
     "output_type": "stream",
     "text": [
      "NSE = 0.3362895590711106\n"
     ]
    }
   ],
   "source": [
    "nse = NSE(combined_discharge['simulation'].values[1500:-1], combined_discharge['streamflow'].values[1500:-1])\n",
    "print(f'NSE = {nse}')"
   ]
  },
  {
   "cell_type": "markdown",
   "metadata": {},
   "source": [
    "## Clean up"
   ]
  },
  {
   "cell_type": "code",
   "execution_count": null,
   "metadata": {},
   "outputs": [],
   "source": [
    "model.finalize()"
   ]
  },
  {
   "cell_type": "code",
   "execution_count": null,
   "metadata": {},
   "outputs": [],
   "source": [
    "print(model)"
   ]
  },
  {
   "cell_type": "markdown",
   "metadata": {},
   "source": [
    "## Other analysis"
   ]
  },
  {
   "cell_type": "code",
   "execution_count": 19,
   "metadata": {},
   "outputs": [
    {
     "data": {
      "text/plain": [
       "True"
      ]
     },
     "execution_count": 19,
     "metadata": {},
     "output_type": "execute_result"
    }
   ],
   "source": [
    "model.get_value_ptr('Current_Date') < datetime.date(1995, 1, 1)"
   ]
  },
  {
   "cell_type": "code",
   "execution_count": 44,
   "metadata": {},
   "outputs": [
    {
     "data": {
      "text/plain": [
       "array([0.0035219 , 0.00290959, 0.00246824, ..., 0.04318375, 0.03251735,\n",
       "       0.02494338])"
      ]
     },
     "execution_count": 44,
     "metadata": {},
     "output_type": "execute_result"
    }
   ],
   "source": [
    "combined_discharge['simulation'].values[1000:-1]"
   ]
  },
  {
   "cell_type": "code",
   "execution_count": 78,
   "metadata": {},
   "outputs": [
    {
     "ename": "RuntimeError",
     "evalue": "<PyCall.jlwrap (in a Julia function called from Python)\nJULIA: type HBVmountain_model has no field beta\nStacktrace:\n [1] set_value(model::HBVmountain_model, name::String, value::Float64)\n   @ Main C:\\Users\\Vincent Hoogelander\\Thesis\\HBVmountain\\Python\\Refactoring\\Julia_BMI_model.jl:202\n [2] invokelatest(::Any, ::Any, ::Vararg{Any}; kwargs::Base.Pairs{Symbol, Union{}, Tuple{}, NamedTuple{(), Tuple{}}})\n   @ Base .\\essentials.jl:716\n [3] invokelatest(::Any, ::Any, ::Vararg{Any})\n   @ Base .\\essentials.jl:714\n [4] _pyjlwrap_call(f::Function, args_::Ptr{PyCall.PyObject_struct}, kw_::Ptr{PyCall.PyObject_struct})\n   @ PyCall C:\\Users\\Vincent Hoogelander\\.julia\\packages\\PyCall\\7a7w0\\src\\callback.jl:28\n [5] pyjlwrap_call(self_::Ptr{PyCall.PyObject_struct}, args_::Ptr{PyCall.PyObject_struct}, kw_::Ptr{PyCall.PyObject_struct})\n   @ PyCall C:\\Users\\Vincent Hoogelander\\.julia\\packages\\PyCall\\7a7w0\\src\\callback.jl:44>",
     "output_type": "error",
     "traceback": [
      "\u001b[1;31m---------------------------------------------------------------------------\u001b[0m",
      "\u001b[1;31mRuntimeError\u001b[0m                              Traceback (most recent call last)",
      "\u001b[1;32m<ipython-input-78-cd98987ec104>\u001b[0m in \u001b[0;36m<module>\u001b[1;34m\u001b[0m\n\u001b[1;32m----> 1\u001b[1;33m \u001b[0mmodel\u001b[0m\u001b[1;33m.\u001b[0m\u001b[0mset_value\u001b[0m\u001b[1;33m(\u001b[0m\u001b[1;34m'beta'\u001b[0m\u001b[1;33m,\u001b[0m \u001b[1;36m1.97\u001b[0m\u001b[1;33m)\u001b[0m\u001b[1;33m\u001b[0m\u001b[1;33m\u001b[0m\u001b[0m\n\u001b[0m",
      "\u001b[1;32m~\\Thesis\\HBVmountain\\Python\\BMI_HBVmountain_Python.py\u001b[0m in \u001b[0;36mset_value\u001b[1;34m(self, name, value)\u001b[0m\n\u001b[0;32m    110\u001b[0m     \u001b[1;31m# setter\u001b[0m\u001b[1;33m\u001b[0m\u001b[1;33m\u001b[0m\u001b[1;33m\u001b[0m\u001b[0m\n\u001b[0;32m    111\u001b[0m     \u001b[1;32mdef\u001b[0m \u001b[0mset_value\u001b[0m\u001b[1;33m(\u001b[0m\u001b[0mself\u001b[0m\u001b[1;33m,\u001b[0m \u001b[0mname\u001b[0m\u001b[1;33m,\u001b[0m \u001b[0mvalue\u001b[0m\u001b[1;33m)\u001b[0m\u001b[1;33m:\u001b[0m\u001b[1;33m\u001b[0m\u001b[1;33m\u001b[0m\u001b[0m\n\u001b[1;32m--> 112\u001b[1;33m         \u001b[0mMain\u001b[0m\u001b[1;33m.\u001b[0m\u001b[0mset_value\u001b[0m\u001b[1;33m(\u001b[0m\u001b[0mself\u001b[0m\u001b[1;33m.\u001b[0m\u001b[0mmodel\u001b[0m\u001b[1;33m,\u001b[0m \u001b[0mname\u001b[0m\u001b[1;33m,\u001b[0m \u001b[0mvalue\u001b[0m\u001b[1;33m)\u001b[0m\u001b[1;33m\u001b[0m\u001b[1;33m\u001b[0m\u001b[0m\n\u001b[0m\u001b[0;32m    113\u001b[0m \u001b[1;33m\u001b[0m\u001b[0m\n\u001b[0;32m    114\u001b[0m \u001b[1;33m\u001b[0m\u001b[0m\n",
      "\u001b[1;31mRuntimeError\u001b[0m: <PyCall.jlwrap (in a Julia function called from Python)\nJULIA: type HBVmountain_model has no field beta\nStacktrace:\n [1] set_value(model::HBVmountain_model, name::String, value::Float64)\n   @ Main C:\\Users\\Vincent Hoogelander\\Thesis\\HBVmountain\\Python\\Refactoring\\Julia_BMI_model.jl:202\n [2] invokelatest(::Any, ::Any, ::Vararg{Any}; kwargs::Base.Pairs{Symbol, Union{}, Tuple{}, NamedTuple{(), Tuple{}}})\n   @ Base .\\essentials.jl:716\n [3] invokelatest(::Any, ::Any, ::Vararg{Any})\n   @ Base .\\essentials.jl:714\n [4] _pyjlwrap_call(f::Function, args_::Ptr{PyCall.PyObject_struct}, kw_::Ptr{PyCall.PyObject_struct})\n   @ PyCall C:\\Users\\Vincent Hoogelander\\.julia\\packages\\PyCall\\7a7w0\\src\\callback.jl:28\n [5] pyjlwrap_call(self_::Ptr{PyCall.PyObject_struct}, args_::Ptr{PyCall.PyObject_struct}, kw_::Ptr{PyCall.PyObject_struct})\n   @ PyCall C:\\Users\\Vincent Hoogelander\\.julia\\packages\\PyCall\\7a7w0\\src\\callback.jl:44>"
     ]
    }
   ],
   "source": []
  },
  {
   "cell_type": "code",
   "execution_count": 86,
   "metadata": {},
   "outputs": [
    {
     "data": {
      "text/plain": [
       "(<PyCall.jlwrap Parameters(0.131, 0.544, 0.0, 2.822, 0.282, 1.779, 0.0906, 0.44, 252.81, -0.446)>,\n",
       " <PyCall.jlwrap Parameters(0.625, 0.544, 0.0, 0.38, 0.282, 1.779, 0.0906, 0.44, 45.15, -0.446)>,\n",
       " <PyCall.jlwrap Parameters(1.591, 0.544, 0.0, 1.842, 0.282, 1.779, 0.0906, 0.44, 40.95, -0.446)>,\n",
       " <PyCall.jlwrap Slow_Paramters(0.0172, 0.396)>)"
      ]
     },
     "execution_count": 86,
     "metadata": {},
     "output_type": "execute_result"
    }
   ],
   "source": [
    "\n",
    "forest_parameters, grass_parameters, rip_parameters, slow_parameters"
   ]
  },
  {
   "cell_type": "code",
   "execution_count": 28,
   "metadata": {},
   "outputs": [
    {
     "data": {
      "text/plain": [
       "<PyCall.jlwrap HRU_Input([0.3, 0.3, 0.2, 0.2], 0.4, [0.0, 0.0, 0.0, 0.0], [1, 2, 3, 4], 4, (0,), (0,), 0.8354920895893646, [0.0, 0.0, 0.0, 0.0], 0.2, [7.9399999999999995, 6.32, 4.7, 3.08], 0.0, 0.0)>"
      ]
     },
     "execution_count": 28,
     "metadata": {},
     "output_type": "execute_result"
    }
   ],
   "source": [
    "model.get_value_ptr('grass_input')"
   ]
  },
  {
   "cell_type": "code",
   "execution_count": null,
   "metadata": {},
   "outputs": [],
   "source": []
  }
 ],
 "metadata": {
  "kernelspec": {
   "display_name": "Python 3",
   "language": "python",
   "name": "python3"
  },
  "language_info": {
   "codemirror_mode": {
    "name": "ipython",
    "version": 3
   },
   "file_extension": ".py",
   "mimetype": "text/x-python",
   "name": "python",
   "nbconvert_exporter": "python",
   "pygments_lexer": "ipython3",
   "version": "3.7.6"
  }
 },
 "nbformat": 4,
 "nbformat_minor": 4
}
