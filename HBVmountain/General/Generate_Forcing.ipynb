{
 "cells": [
  {
   "cell_type": "code",
   "execution_count": 6,
   "id": "a0d7e2c5-113b-46ee-8d19-d9f892965267",
   "metadata": {},
   "outputs": [],
   "source": [
    "import numpy as np\n",
    "import esmvalcore.experimental as esmvaltool\n",
    "import netCDF4 as nc\n",
    "import warnings\n",
    "import os\n",
    "from ruamel.yaml import YAML\n",
    "import yaml\n",
    "import logging\n",
    "\n",
    "warnings.filterwarnings(\"ignore\", category=UserWarning, module='esmvalcore')\n"
   ]
  },
  {
   "cell_type": "markdown",
   "id": "a9765906-4e1a-4975-a611-e734fe6e1789",
   "metadata": {},
   "source": [
    "## Get HBVmountain recipe"
   ]
  },
  {
   "cell_type": "code",
   "execution_count": 7,
   "id": "a7fb5a71-e636-4ac7-9bf4-c43fa24c2d2b",
   "metadata": {},
   "outputs": [],
   "source": [
    "recipe = esmvaltool.get_recipe('~/ESMValTool/esmvaltool/recipes/hydrology/recipe_newHBVmountain.yml')"
   ]
  },
  {
   "cell_type": "markdown",
   "id": "34384d5c-e7ad-4ead-bf92-4f607f27dbcd",
   "metadata": {},
   "source": [
    "## Functions"
   ]
  },
  {
   "cell_type": "code",
   "execution_count": 8,
   "id": "725adaff-7ed6-4711-a69b-f794432a43ed",
   "metadata": {},
   "outputs": [],
   "source": [
    "def select_cmip6_models(str_path_to_models, model_list=None, ignore_models=None, select_all=False):\n",
    "    #Hier moet commentaar over wat deze functie in doet\n",
    "    model_file = yaml.safe_load(open(str_path_to_models))\n",
    "            \n",
    "    if ignore_models != None:\n",
    "        selected_CMIP6_models = dict((k, model_file[k]) for k in model_file\n",
    "           if k not in ignore_models)\n",
    "        selected_CMIP6_models = tuple(selected_CMIP6_models.values()) \n",
    "    if select_all == True and model_list == None:\n",
    "        selected_CMIP6_models = dict((k, model_file[k]) for k in model_file.keys()\n",
    "               if k in model_file)\n",
    "        selected_CMIP6_models = tuple(selected_CMIP6_models.values()) \n",
    "    if model_list != None:\n",
    "        selected_CMIP6_models = dict((k, model_file[k]) for k in model_list\n",
    "               if k in model_file)\n",
    "        selected_CMIP6_models = tuple(selected_CMIP6_models.values())\n",
    "    return selected_CMIP6_models"
   ]
  },
  {
   "cell_type": "code",
   "execution_count": 9,
   "id": "c104fa29-3226-433c-bb6f-cb327e0f719d",
   "metadata": {},
   "outputs": [],
   "source": [
    "def run_recipe_HBVmountain(recipe, catchment_name, scenario, CMIP6_models, start_year, end_year, catchment_id=None):\n",
    "    recipe.data[\"preprocessors\"][\"daily\"][\"extract_shape\"][\"shapefile\"] = os.path.join(catchment_name, catchment_name + '.' + 'shp') #shape\n",
    "    recipe.data[\"diagnostics\"][\"diagnostic_daily\"][\"scripts\"][\"script\"][\n",
    "        \"basin\"\n",
    "    ] = catchment_name #basin\n",
    "    \n",
    "    recipe.data[\"diagnostics\"][\"diagnostic_daily\"][\"additional_datasets\"] = [\n",
    "    *CMIP6_models\n",
    "]\n",
    "    variables = recipe.data[\"diagnostics\"][\"diagnostic_daily\"][\"variables\"]\n",
    "    var_names = \"tas\", \"pr\"\n",
    "    \n",
    "    for var_name in var_names:\n",
    "        variables[var_name][\"exp\"] = scenario\n",
    "        \n",
    "        \n",
    "    startyear = start_year #get_time(start_time).year\n",
    "    for var_name in var_names:\n",
    "        variables[var_name][\"start_year\"] = startyear\n",
    "\n",
    "    endyear = end_year # get_time(end_time).year\n",
    "    for var_name in var_names:\n",
    "        variables[var_name][\"end_year\"] = endyear\n",
    "    recipe_output = recipe.run()\n",
    "    print(f'recipe stored in {os.path.dirname(str(list(recipe_output.values())[0].files[0].path))}')\n",
    "    return recipe_output"
   ]
  },
  {
   "cell_type": "markdown",
   "id": "2f63d56b-69c7-4164-86b6-1cbb1a031c71",
   "metadata": {},
   "source": [
    "## Select CMIP6 models"
   ]
  },
  {
   "cell_type": "code",
   "execution_count": 11,
   "id": "49385fe7-c4f8-4ccc-9cf7-61a5af72c6d7",
   "metadata": {},
   "outputs": [],
   "source": [
    "CMIP6_models = select_cmip6_models('climate_models.yml', select_all=True)\n"
   ]
  },
  {
   "cell_type": "markdown",
   "id": "c319b5e0-32a1-4886-ba67-a5748efeb09c",
   "metadata": {},
   "source": [
    "## Run recipe"
   ]
  },
  {
   "cell_type": "code",
   "execution_count": 12,
   "id": "c42b706c-dcbb-472f-a8e0-f89334bdface",
   "metadata": {},
   "outputs": [],
   "source": [
    "recipe_output = run_recipe_HBVmountain(recipe, catchment_name='Conasauga', scenario='historical',\n",
    "                                       CMIP6_models=CMIP6_models, start_year=1975, end_year=1978, catchment_id=None)"
   ]
  },
  {
   "cell_type": "code",
   "execution_count": null,
   "id": "d8bb1f33-99ad-4604-ba1c-912616eb4737",
   "metadata": {},
   "outputs": [],
   "source": []
  }
 ],
 "metadata": {
  "kernelspec": {
   "display_name": "ESMValTool (based on the latest module esmvaltool)",
   "language": "python",
   "name": "esmvaltool"
  },
  "language_info": {
   "codemirror_mode": {
    "name": "ipython",
    "version": 3
   },
   "file_extension": ".py",
   "mimetype": "text/x-python",
   "name": "python",
   "nbconvert_exporter": "python",
   "pygments_lexer": "ipython3",
   "version": "3.10.6"
  }
 },
 "nbformat": 4,
 "nbformat_minor": 5
}
