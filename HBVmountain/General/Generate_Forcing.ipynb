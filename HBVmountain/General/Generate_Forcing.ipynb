{
 "cells": [
  {
   "cell_type": "code",
   "execution_count": 1,
   "metadata": {},
   "outputs": [
    {
     "name": "stderr",
     "output_type": "stream",
     "text": [
      "/sw/spack-levante/mambaforge-22.9.0-2-Linux-x86_64-ze6txd/lib/python3.10/site-packages/esmvalcore/experimental/_warnings.py:13: UserWarning: \n",
      "  Thank you for trying out the new ESMValCore API.\n",
      "  Note that this API is experimental and may be subject to change.\n",
      "  More info: https://github.com/ESMValGroup/ESMValCore/issues/498\n"
     ]
    }
   ],
   "source": [
    "import numpy as np\n",
    "import esmvalcore.experimental as esmvaltool\n",
    "import netCDF4 as nc\n",
    "import warnings\n",
    "import os\n",
    "from ruamel.yaml import YAML\n",
    "import yaml\n",
    "import logging\n",
    "\n",
    "warnings.filterwarnings(\"ignore\", category=UserWarning, module='esmvalcore')\n"
   ]
  },
  {
   "cell_type": "markdown",
   "metadata": {},
   "source": [
    "## Get HBVmountain recipe"
   ]
  },
  {
   "cell_type": "code",
   "execution_count": 2,
   "metadata": {},
   "outputs": [],
   "source": [
    "recipe = esmvaltool.get_recipe('~/ESMValTool/esmvaltool/recipes/hydrology/recipe_newHBVmountain.yml')"
   ]
  },
  {
   "cell_type": "markdown",
   "metadata": {},
   "source": [
    "## Functions"
   ]
  },
  {
   "cell_type": "code",
   "execution_count": 3,
   "metadata": {},
   "outputs": [],
   "source": [
    "def select_cmip6_models(str_path_to_models, model_list=None, ignore_models=None, select_all=False):\n",
    "    #Hier moet commentaar over wat deze functie in doet\n",
    "    model_file = yaml.safe_load(open(str_path_to_models))\n",
    "            \n",
    "    if ignore_models != None:\n",
    "        selected_CMIP6_models = dict((k, model_file[k]) for k in model_file\n",
    "           if k not in ignore_models)\n",
    "        selected_CMIP6_models = tuple(selected_CMIP6_models.values()) \n",
    "    if select_all == True and model_list == None:\n",
    "        selected_CMIP6_models = dict((k, model_file[k]) for k in model_file.keys()\n",
    "               if k in model_file)\n",
    "        selected_CMIP6_models = tuple(selected_CMIP6_models.values()) \n",
    "    if model_list != None:\n",
    "        selected_CMIP6_models = dict((k, model_file[k]) for k in model_list\n",
    "               if k in model_file)\n",
    "        selected_CMIP6_models = tuple(selected_CMIP6_models.values())\n",
    "    return selected_CMIP6_models"
   ]
  },
  {
   "cell_type": "code",
   "execution_count": 5,
   "metadata": {},
   "outputs": [],
   "source": [
    "def run_recipe_HBVmountain(recipe, catchment_name, scenario, CMIP6_models, start_year, end_year, catchment_id=None):\n",
    "    recipe.data[\"preprocessors\"][\"daily\"][\"extract_shape\"][\"shapefile\"] = os.path.join(catchment_name, catchment_name + '.' + 'shp') #shape\n",
    "    recipe.data[\"diagnostics\"][\"diagnostic_daily\"][\"scripts\"][\"script\"][\n",
    "        \"basin\"\n",
    "    ] = catchment_name #basin\n",
    "    \n",
    "    recipe.data[\"diagnostics\"][\"diagnostic_daily\"][\"additional_datasets\"] = [\n",
    "    *CMIP6_models\n",
    "]\n",
    "    variables = recipe.data[\"diagnostics\"][\"diagnostic_daily\"][\"variables\"]\n",
    "    var_names = \"tas\", \"pr\"\n",
    "    \n",
    "    for var_name in var_names:\n",
    "        variables[var_name][\"exp\"] = scenario\n",
    "        \n",
    "        \n",
    "    startyear = start_year #get_time(start_time).year\n",
    "    for var_name in var_names:\n",
    "        variables[var_name][\"start_year\"] = startyear\n",
    "\n",
    "    endyear = end_year # get_time(end_time).year\n",
    "    for var_name in var_names:\n",
    "        variables[var_name][\"end_year\"] = endyear\n",
    "    recipe_output = recipe.run()\n",
    "    print(f'recipe stored in {os.path.dirname(str(list(recipe_output.values())[0].files[0].path))}')\n",
    "    return recipe_output"
   ]
  },
  {
   "cell_type": "markdown",
   "metadata": {},
   "source": [
    "## Select CMIP6 models"
   ]
  },
  {
   "cell_type": "code",
   "execution_count": 6,
   "metadata": {},
   "outputs": [],
   "source": [
    "CMIP6_models = select_cmip6_models('climate_models.yml', ignore_models=['AWI-CM-1-1-MR','HadGEM3-GC31-LL', 'KACE-1-0-G'])\n",
    "CMIP6_models = select_cmip6_models('climate_models.yml', model_list=['AWI-CM-1-1-MR','HadGEM3-GC31-LL', 'KACE-1-0-G'])\n"
   ]
  },
  {
   "cell_type": "markdown",
   "metadata": {},
   "source": [
    "## Run recipe"
   ]
  },
  {
   "cell_type": "code",
   "execution_count": 7,
   "metadata": {},
   "outputs": [
    {
     "name": "stderr",
     "output_type": "stream",
     "text": [
      "ERROR:esmvalcore._recipe_checks:No input files found for variable {'mip': 'day', 'project': 'CMIP6', 'exp': 'historical', 'preprocessor': 'daily', 'variable_group': 'pr', 'short_name': 'pr', 'diagnostic': 'diagnostic_daily', 'dataset': 'AWI-CM-1-1-MR', 'ensemble': 'r1i1p1f1', 'grid': 'gn', 'recipe_dataset_index': 0, 'timerange': '1975/1978', 'institute': ['AWI'], 'activity': 'CMIP', 'alias': 'AWI-CM-1-1-MR', 'original_short_name': 'pr', 'standard_name': 'precipitation_flux', 'long_name': 'Precipitation', 'units': 'kg m-2 s-1', 'modeling_realm': ['atmos'], 'frequency': 'day', 'start_year': 1975, 'end_year': 1978}\n",
      "ERROR:esmvalcore._recipe_checks:Looked for files matching ['pr_day_AWI-CM-1-1-MR_historical_r1i1p1f1_gn*.nc'], but did not find any existing input directory\n",
      "ERROR:esmvalcore._recipe_checks:Set 'log_level' to 'debug' to get more information\n",
      "ERROR:esmvalcore._recipe:Could not create all tasks\n",
      "ERROR:esmvalcore._recipe:Missing data for preprocessor diagnostic_daily/pr:\n",
      "- Missing data for AWI-CM-1-1-MR: pr\n",
      "ERROR:esmvalcore._recipe:Not all input files required to run the recipe could be found.\n",
      "ERROR:esmvalcore._recipe:If the files are available locally, please check your `rootpath` and `drs` settings in your user configuration file /home/b/b382028/.esmvaltool/config-user.yml\n",
      "ERROR:esmvalcore._recipe:To automatically download the required files to `download_dir: /home/b/b382028/climate_data`, set `offline: false` in /home/b/b382028/.esmvaltool/config-user.yml or run the recipe with the extra command line argument --offline=False\n"
     ]
    },
    {
     "ename": "RecipeError",
     "evalue": "Could not create all tasks",
     "output_type": "error",
     "traceback": [
      "\u001b[0;31m---------------------------------------------------------------------------\u001b[0m",
      "\u001b[0;31mRecipeError\u001b[0m                               Traceback (most recent call last)",
      "Cell \u001b[0;32mIn [7], line 1\u001b[0m\n\u001b[0;32m----> 1\u001b[0m recipe_output \u001b[38;5;241m=\u001b[39m \u001b[43mrun_recipe_HBVmountain\u001b[49m\u001b[43m(\u001b[49m\u001b[43mrecipe\u001b[49m\u001b[43m,\u001b[49m\u001b[43m \u001b[49m\u001b[43mcatchment_name\u001b[49m\u001b[38;5;241;43m=\u001b[39;49m\u001b[38;5;124;43m'\u001b[39;49m\u001b[38;5;124;43mConasauga\u001b[39;49m\u001b[38;5;124;43m'\u001b[39;49m\u001b[43m,\u001b[49m\u001b[43m \u001b[49m\u001b[43mscenario\u001b[49m\u001b[38;5;241;43m=\u001b[39;49m\u001b[38;5;124;43m'\u001b[39;49m\u001b[38;5;124;43mhistorical\u001b[39;49m\u001b[38;5;124;43m'\u001b[39;49m\u001b[43m,\u001b[49m\n\u001b[1;32m      2\u001b[0m \u001b[43m                                       \u001b[49m\u001b[43mCMIP6_models\u001b[49m\u001b[38;5;241;43m=\u001b[39;49m\u001b[43mCMIP6_models\u001b[49m\u001b[43m,\u001b[49m\u001b[43m \u001b[49m\u001b[43mstart_year\u001b[49m\u001b[38;5;241;43m=\u001b[39;49m\u001b[38;5;241;43m1975\u001b[39;49m\u001b[43m,\u001b[49m\u001b[43m \u001b[49m\u001b[43mend_year\u001b[49m\u001b[38;5;241;43m=\u001b[39;49m\u001b[38;5;241;43m1978\u001b[39;49m\u001b[43m,\u001b[49m\u001b[43m \u001b[49m\u001b[43mcatchment_id\u001b[49m\u001b[38;5;241;43m=\u001b[39;49m\u001b[38;5;28;43;01mNone\u001b[39;49;00m\u001b[43m)\u001b[49m\n",
      "Cell \u001b[0;32mIn [5], line 24\u001b[0m, in \u001b[0;36mrun_recipe_HBVmountain\u001b[0;34m(recipe, catchment_name, scenario, CMIP6_models, start_year, end_year, catchment_id)\u001b[0m\n\u001b[1;32m     22\u001b[0m \u001b[38;5;28;01mfor\u001b[39;00m var_name \u001b[38;5;129;01min\u001b[39;00m var_names:\n\u001b[1;32m     23\u001b[0m     variables[var_name][\u001b[38;5;124m\"\u001b[39m\u001b[38;5;124mend_year\u001b[39m\u001b[38;5;124m\"\u001b[39m] \u001b[38;5;241m=\u001b[39m endyear\n\u001b[0;32m---> 24\u001b[0m recipe_output \u001b[38;5;241m=\u001b[39m \u001b[43mrecipe\u001b[49m\u001b[38;5;241;43m.\u001b[39;49m\u001b[43mrun\u001b[49m\u001b[43m(\u001b[49m\u001b[43m)\u001b[49m\n\u001b[1;32m     25\u001b[0m \u001b[38;5;28mprint\u001b[39m(\u001b[38;5;124mf\u001b[39m\u001b[38;5;124m'\u001b[39m\u001b[38;5;124mrecipe stored in \u001b[39m\u001b[38;5;132;01m{\u001b[39;00mos\u001b[38;5;241m.\u001b[39mpath\u001b[38;5;241m.\u001b[39mdirname(\u001b[38;5;28mstr\u001b[39m(\u001b[38;5;28mlist\u001b[39m(recipe_output\u001b[38;5;241m.\u001b[39mvalues())[\u001b[38;5;241m0\u001b[39m]\u001b[38;5;241m.\u001b[39mfiles[\u001b[38;5;241m0\u001b[39m]\u001b[38;5;241m.\u001b[39mpath))\u001b[38;5;132;01m}\u001b[39;00m\u001b[38;5;124m'\u001b[39m)\n\u001b[1;32m     26\u001b[0m \u001b[38;5;28;01mreturn\u001b[39;00m recipe_output\n",
      "File \u001b[0;32m/sw/spack-levante/mambaforge-22.9.0-2-Linux-x86_64-ze6txd/lib/python3.10/site-packages/esmvalcore/experimental/recipe.py:134\u001b[0m, in \u001b[0;36mRecipe.run\u001b[0;34m(self, task, session)\u001b[0m\n\u001b[1;32m    131\u001b[0m     session[\u001b[38;5;124m'\u001b[39m\u001b[38;5;124mdiagnostics\u001b[39m\u001b[38;5;124m'\u001b[39m] \u001b[38;5;241m=\u001b[39m task\n\u001b[1;32m    133\u001b[0m \u001b[38;5;28;01mwith\u001b[39;00m log_to_dir(session\u001b[38;5;241m.\u001b[39mrun_dir):\n\u001b[0;32m--> 134\u001b[0m     \u001b[38;5;28mself\u001b[39m\u001b[38;5;241m.\u001b[39m_engine \u001b[38;5;241m=\u001b[39m \u001b[38;5;28;43mself\u001b[39;49m\u001b[38;5;241;43m.\u001b[39;49m\u001b[43m_load\u001b[49m\u001b[43m(\u001b[49m\u001b[43msession\u001b[49m\u001b[38;5;241;43m=\u001b[39;49m\u001b[43msession\u001b[49m\u001b[43m)\u001b[49m\n\u001b[1;32m    135\u001b[0m     \u001b[38;5;28mself\u001b[39m\u001b[38;5;241m.\u001b[39m_engine\u001b[38;5;241m.\u001b[39mrun()\n\u001b[1;32m    137\u001b[0m shutil\u001b[38;5;241m.\u001b[39mcopy2(\u001b[38;5;28mself\u001b[39m\u001b[38;5;241m.\u001b[39mpath, session\u001b[38;5;241m.\u001b[39mrun_dir)\n",
      "File \u001b[0;32m/sw/spack-levante/mambaforge-22.9.0-2-Linux-x86_64-ze6txd/lib/python3.10/site-packages/esmvalcore/experimental/recipe.py:99\u001b[0m, in \u001b[0;36mRecipe._load\u001b[0;34m(self, session)\u001b[0m\n\u001b[1;32m     95\u001b[0m config_user \u001b[38;5;241m=\u001b[39m session\u001b[38;5;241m.\u001b[39mto_config_user()\n\u001b[1;32m     97\u001b[0m logger\u001b[38;5;241m.\u001b[39minfo(pprint\u001b[38;5;241m.\u001b[39mpformat(config_user))\n\u001b[0;32m---> 99\u001b[0m \u001b[38;5;28;01mreturn\u001b[39;00m \u001b[43mRecipeEngine\u001b[49m\u001b[43m(\u001b[49m\u001b[43mraw_recipe\u001b[49m\u001b[38;5;241;43m=\u001b[39;49m\u001b[38;5;28;43mself\u001b[39;49m\u001b[38;5;241;43m.\u001b[39;49m\u001b[43mdata\u001b[49m\u001b[43m,\u001b[49m\n\u001b[1;32m    100\u001b[0m \u001b[43m                    \u001b[49m\u001b[43mconfig_user\u001b[49m\u001b[38;5;241;43m=\u001b[39;49m\u001b[43mconfig_user\u001b[49m\u001b[43m,\u001b[49m\n\u001b[1;32m    101\u001b[0m \u001b[43m                    \u001b[49m\u001b[43mrecipe_file\u001b[49m\u001b[38;5;241;43m=\u001b[39;49m\u001b[38;5;28;43mself\u001b[39;49m\u001b[38;5;241;43m.\u001b[39;49m\u001b[43mpath\u001b[49m\u001b[43m)\u001b[49m\n",
      "File \u001b[0;32m/sw/spack-levante/mambaforge-22.9.0-2-Linux-x86_64-ze6txd/lib/python3.10/site-packages/esmvalcore/_recipe.py:1283\u001b[0m, in \u001b[0;36mRecipe.__init__\u001b[0;34m(self, raw_recipe, config_user, initialize_tasks, recipe_file)\u001b[0m\n\u001b[1;32m   1280\u001b[0m \u001b[38;5;28mself\u001b[39m\u001b[38;5;241m.\u001b[39mentity \u001b[38;5;241m=\u001b[39m \u001b[38;5;28mself\u001b[39m\u001b[38;5;241m.\u001b[39m_initialize_provenance(\n\u001b[1;32m   1281\u001b[0m     raw_recipe\u001b[38;5;241m.\u001b[39mget(\u001b[38;5;124m'\u001b[39m\u001b[38;5;124mdocumentation\u001b[39m\u001b[38;5;124m'\u001b[39m, {}))\n\u001b[1;32m   1282\u001b[0m \u001b[38;5;28;01mtry\u001b[39;00m:\n\u001b[0;32m-> 1283\u001b[0m     \u001b[38;5;28mself\u001b[39m\u001b[38;5;241m.\u001b[39mtasks \u001b[38;5;241m=\u001b[39m \u001b[38;5;28;43mself\u001b[39;49m\u001b[38;5;241;43m.\u001b[39;49m\u001b[43minitialize_tasks\u001b[49m\u001b[43m(\u001b[49m\u001b[43m)\u001b[49m \u001b[38;5;28;01mif\u001b[39;00m initialize_tasks \u001b[38;5;28;01melse\u001b[39;00m \u001b[38;5;28;01mNone\u001b[39;00m\n\u001b[1;32m   1284\u001b[0m \u001b[38;5;28;01mexcept\u001b[39;00m RecipeError \u001b[38;5;28;01mas\u001b[39;00m exc:\n\u001b[1;32m   1285\u001b[0m     \u001b[38;5;28mself\u001b[39m\u001b[38;5;241m.\u001b[39m_log_recipe_errors(exc)\n",
      "File \u001b[0;32m/sw/spack-levante/mambaforge-22.9.0-2-Linux-x86_64-ze6txd/lib/python3.10/site-packages/esmvalcore/_recipe.py:1892\u001b[0m, in \u001b[0;36mRecipe.initialize_tasks\u001b[0;34m(self)\u001b[0m\n\u001b[1;32m   1890\u001b[0m \u001b[38;5;28;01mdef\u001b[39;00m \u001b[38;5;21minitialize_tasks\u001b[39m(\u001b[38;5;28mself\u001b[39m):\n\u001b[1;32m   1891\u001b[0m     \u001b[38;5;124;03m\"\"\"Define tasks in recipe.\"\"\"\u001b[39;00m\n\u001b[0;32m-> 1892\u001b[0m     tasks \u001b[38;5;241m=\u001b[39m \u001b[38;5;28;43mself\u001b[39;49m\u001b[38;5;241;43m.\u001b[39;49m\u001b[43m_create_tasks\u001b[49m\u001b[43m(\u001b[49m\u001b[43m)\u001b[49m\n\u001b[1;32m   1893\u001b[0m     tasks \u001b[38;5;241m=\u001b[39m tasks\u001b[38;5;241m.\u001b[39mflatten()\n\u001b[1;32m   1894\u001b[0m     logger\u001b[38;5;241m.\u001b[39minfo(\u001b[38;5;124m\"\u001b[39m\u001b[38;5;124mThese tasks will be executed: \u001b[39m\u001b[38;5;132;01m%s\u001b[39;00m\u001b[38;5;124m\"\u001b[39m,\n\u001b[1;32m   1895\u001b[0m                 \u001b[38;5;124m'\u001b[39m\u001b[38;5;124m, \u001b[39m\u001b[38;5;124m'\u001b[39m\u001b[38;5;241m.\u001b[39mjoin(t\u001b[38;5;241m.\u001b[39mname \u001b[38;5;28;01mfor\u001b[39;00m t \u001b[38;5;129;01min\u001b[39;00m tasks))\n",
      "File \u001b[0;32m/sw/spack-levante/mambaforge-22.9.0-2-Linux-x86_64-ze6txd/lib/python3.10/site-packages/esmvalcore/_recipe.py:1880\u001b[0m, in \u001b[0;36mRecipe._create_tasks\u001b[0;34m(self)\u001b[0m\n\u001b[1;32m   1878\u001b[0m     recipe_error \u001b[38;5;241m=\u001b[39m RecipeError(\u001b[38;5;124m'\u001b[39m\u001b[38;5;124mCould not create all tasks\u001b[39m\u001b[38;5;124m'\u001b[39m)\n\u001b[1;32m   1879\u001b[0m     recipe_error\u001b[38;5;241m.\u001b[39mfailed_tasks\u001b[38;5;241m.\u001b[39mextend(failed_tasks)\n\u001b[0;32m-> 1880\u001b[0m     \u001b[38;5;28;01mraise\u001b[39;00m recipe_error\n\u001b[1;32m   1882\u001b[0m check\u001b[38;5;241m.\u001b[39mtasks_valid(tasks)\n\u001b[1;32m   1884\u001b[0m \u001b[38;5;66;03m# Resolve diagnostic ancestors\u001b[39;00m\n",
      "\u001b[0;31mRecipeError\u001b[0m: Could not create all tasks"
     ]
    }
   ],
   "source": [
    "recipe_output = run_recipe_HBVmountain(recipe, catchment_name='Conasauga', scenario='historical',\n",
    "                                       CMIP6_models=CMIP6_models, start_year=1975, end_year=1978, catchment_id=None)"
   ]
  },
  {
   "cell_type": "code",
   "execution_count": null,
   "metadata": {},
   "outputs": [],
   "source": []
  }
 ],
 "metadata": {
  "kernelspec": {
   "display_name": "Python 3",
   "language": "python",
   "name": "python3"
  },
  "language_info": {
   "codemirror_mode": {
    "name": "ipython",
    "version": 3
   },
   "file_extension": ".py",
   "mimetype": "text/x-python",
   "name": "python",
   "nbconvert_exporter": "python",
   "pygments_lexer": "ipython3",
   "version": "3.7.6"
  }
 },
 "nbformat": 4,
 "nbformat_minor": 5
}
