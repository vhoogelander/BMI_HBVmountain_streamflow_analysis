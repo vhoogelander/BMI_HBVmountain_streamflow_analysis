{
 "cells": [
  {
   "cell_type": "code",
   "execution_count": 1,
   "metadata": {},
   "outputs": [],
   "source": [
    "from Calibration import *\n",
    "from Validation import *"
   ]
  },
  {
   "cell_type": "markdown",
   "metadata": {},
   "source": [
    "## Load forcing data "
   ]
  },
  {
   "cell_type": "markdown",
   "metadata": {},
   "source": [
    "#### Generated on Levante using ESMValTool"
   ]
  },
  {
   "cell_type": "code",
   "execution_count": 2,
   "metadata": {},
   "outputs": [],
   "source": [
    "forcing = nc.Dataset('Data/ThunderCreek/HBVmountain_ERA5_ThunderCreek_1986_2005.nc')"
   ]
  },
  {
   "cell_type": "markdown",
   "metadata": {},
   "source": [
    "## Calibration settings"
   ]
  },
  {
   "cell_type": "code",
   "execution_count": 3,
   "metadata": {},
   "outputs": [],
   "source": [
    "ntimes = 1\n",
    "MAXITER = 3\n",
    "path_to_observation = 'Data/ThunderCreek/Discharge_ThunderCreek.csv' #GRDC observation data\n",
    "path_to_shapefile = 'Data/ThunderCreek/Shapes/Thundercreek.shp' #Catchment shapefile from GRDC\n",
    "path_to_dem = 'Data/ThunderCreek/dem_thundercreek_full.tif' #DEM tiles over the catchment area\n",
    "path_to_nlcd = 'Data/NLCD_2001_Landuse.tif' \n",
    "start_year = 1986\n",
    "years_warming_up = 2\n",
    "end_year_calibration = 1995\n",
    "end_year_validation = 2004"
   ]
  },
  {
   "cell_type": "markdown",
   "metadata": {},
   "source": [
    "## Run Calibration"
   ]
  },
  {
   "cell_type": "code",
   "execution_count": 4,
   "metadata": {},
   "outputs": [
    {
     "name": "stdout",
     "output_type": "stream",
     "text": [
      "Calibration results saved in cma_calibration_thundercreek.yml\n",
      "Calibration is completed in 139.95422792434692 seconds\n"
     ]
    }
   ],
   "source": [
    "calibration_results = full_calibration(ntimes, path_to_observation, MAXITER, forcing, path_to_shapefile, path_to_dem, path_to_nlcd, start_year, years_warming_up, end_year_calibration)"
   ]
  },
  {
   "cell_type": "markdown",
   "metadata": {},
   "source": [
    "## Run Validation"
   ]
  },
  {
   "cell_type": "code",
   "execution_count": 5,
   "metadata": {},
   "outputs": [],
   "source": [
    "validation_results, simulations, evaporation = run_validation(calibration_results, path_to_observation, forcing, path_to_shapefile, path_to_dem, path_to_nlcd, end_year_calibration, end_year_validation)"
   ]
  },
  {
   "cell_type": "markdown",
   "metadata": {},
   "source": [
    "### Merge calibration and validation results"
   ]
  },
  {
   "cell_type": "code",
   "execution_count": 10,
   "metadata": {},
   "outputs": [],
   "source": [
    "calval_paramsets =  pd.concat([calibration_results.iloc[: , :6], validation_results], axis=1) #.loc[calibration_results['ED'].isin(calibration_results.ED.nsmallest(20))]\n",
    "# calval_paramsets.to_csv('Data/ThunderCreek/calval_results.csv')"
   ]
  },
  {
   "cell_type": "code",
   "execution_count": 11,
   "metadata": {},
   "outputs": [],
   "source": [
    "# calval_paramsets.to_csv('Data/ThunderCreek/calval_results.csv')\n",
    "# simulations.to_csv('Data/ThunderCreek/Simulations/HBVmountain_ERA5_simulations_1986_2004.csv')\n",
    "# evaporation.to_csv('Data/ThunderCreek/Simulations/HBVmountain_ERA5_evaporation_1986_2004.csv')\n"
   ]
  },
  {
   "cell_type": "code",
   "execution_count": 13,
   "metadata": {},
   "outputs": [],
   "source": []
  },
  {
   "cell_type": "code",
   "execution_count": null,
   "metadata": {},
   "outputs": [],
   "source": []
  }
 ],
 "metadata": {
  "kernelspec": {
   "display_name": "Python 3",
   "language": "python",
   "name": "python3"
  },
  "language_info": {
   "codemirror_mode": {
    "name": "ipython",
    "version": 3
   },
   "file_extension": ".py",
   "mimetype": "text/x-python",
   "name": "python",
   "nbconvert_exporter": "python",
   "pygments_lexer": "ipython3",
   "version": "3.7.6"
  }
 },
 "nbformat": 4,
 "nbformat_minor": 4
}
