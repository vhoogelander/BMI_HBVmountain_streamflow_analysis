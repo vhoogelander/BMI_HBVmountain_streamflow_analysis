{
 "cells": [
  {
   "cell_type": "code",
   "execution_count": 1,
   "metadata": {},
   "outputs": [],
   "source": [
    "from Calibration import *"
   ]
  },
  {
   "cell_type": "markdown",
   "metadata": {},
   "source": [
    "## Load forcing data "
   ]
  },
  {
   "cell_type": "markdown",
   "metadata": {},
   "source": [
    "#### Generated on Levante using ESMValTool"
   ]
  },
  {
   "cell_type": "code",
   "execution_count": 2,
   "metadata": {},
   "outputs": [],
   "source": [
    "forcing = nc.Dataset('Data/ThunderCreek/HBVmountain_ERA5_ThunderCreek_1986_2005.nc')"
   ]
  },
  {
   "cell_type": "markdown",
   "metadata": {},
   "source": [
    "## Calibration settings"
   ]
  },
  {
   "cell_type": "code",
   "execution_count": 3,
   "metadata": {},
   "outputs": [],
   "source": [
    "ntimes = 1\n",
    "MAXITER = 5\n",
    "observation = 'Data/ThunderCreek/Discharge_ThunderCreek.csv' #GRDC observation data\n",
    "path_to_shapefile = 'Data/ThunderCreek/Shapes/Thundercreek.shp' #Catchment shapefile from GRDC\n",
    "path_to_dem = 'Data/ThunderCreek/dem_thundercreek_full.tif' #DEM tiles over the catchment area\n",
    "path_to_nlcd = 'Data/NLCD_2001_Landuse.tif' \n",
    "start_year = 1986\n",
    "years_warming_up = 2\n",
    "end_year = 1995"
   ]
  },
  {
   "cell_type": "markdown",
   "metadata": {},
   "source": [
    "## Run Calibration"
   ]
  },
  {
   "cell_type": "code",
   "execution_count": 4,
   "metadata": {},
   "outputs": [
    {
     "name": "stdout",
     "output_type": "stream",
     "text": [
      "Calibration results saved in cma_calibration_thundercreek.yml\n",
      "Calibration is completed in 223.70938849449158 seconds\n"
     ]
    }
   ],
   "source": [
    "paramsets = full_calibration(ntimes, observation, MAXITER, forcing, path_to_shapefile, path_to_dem, path_to_nlcd, start_year, years_warming_up, end_year)"
   ]
  },
  {
   "cell_type": "code",
   "execution_count": 5,
   "metadata": {},
   "outputs": [
    {
     "data": {
      "text/plain": [
       "3.716666666666667"
      ]
     },
     "execution_count": 5,
     "metadata": {},
     "output_type": "execute_result"
    }
   ],
   "source": []
  },
  {
   "cell_type": "markdown",
   "metadata": {},
   "source": [
    "## Setting up the model"
   ]
  },
  {
   "cell_type": "code",
   "execution_count": 23,
   "metadata": {},
   "outputs": [],
   "source": [
    "forcing = nc.Dataset('Data/ThunderCreek/HBVmountain_ERA5_ThunderCreek_1986_2005.nc')\n",
    "model = BMI_HBVmountain(forcing_netcdf=forcing, path_to_shapefile='Data/Shapes/Thundercreek.shp', \n",
    "                        path_to_dem='Data/ThunderCreek/dem_thundercreek_full.tif', path_to_nlcd='Data/NLCD_2001_Landuse.tif')"
   ]
  },
  {
   "cell_type": "code",
   "execution_count": 24,
   "metadata": {},
   "outputs": [
    {
     "ename": "RuntimeError",
     "evalue": "<PyCall.jlwrap (in a Julia function called from Python)\nJULIA: MethodError: no method matching Vector{Float64}(::Matrix{Float64})\n\nYou might have used a 2d row vector where a 1d column vector was required.\nNote the difference between 1d column vector [1,2,3] and 2d row vector [1 2 3].\nYou can convert to a column vector with the vec() function.\nClosest candidates are:\n  Array{T, N}(::AbstractArray{S, N}) where {T, N, S} at C:\\Users\\Vincent Hoogelander\\AppData\\Local\\Programs\\Julia-1.7.3\\share\\julia\\base\\array.jl:563\n  Vector{T}() where T at C:\\Users\\Vincent Hoogelander\\AppData\\Local\\Programs\\Julia-1.7.3\\share\\julia\\base\\boot.jl:476\n  Vector{T}(!Matched::Core.Compiler.AbstractRange{T}) where T at C:\\Users\\Vincent Hoogelander\\AppData\\Local\\Programs\\Julia-1.7.3\\share\\julia\\base\\range.jl:1286\n  ...\nStacktrace:\n [1] convert(#unused#::Type{Vector{Float64}}, a::Matrix{Float64})\n   @ Base .\\array.jl:554\n [2] HRU_Input(Area_Elevations::Matrix{Float64}, Area_HRU::Float64, Area_Glacier::Vector{Float64}, Elevation_Count::Vector{Int64}, Nr_Elevationbands::Int64, Catchment_Elevation::Tuple{Int64}, Snow_Redistribution::Tuple{Int64}, Potential_Evaporation_Mean::Int64, Precipitation::Vector{Float64}, Riparian_Discharge::Float64, Temp_Elevation::Vector{Float64}, Total_Effective_Precipitation::Int64, Total_Interception_Evaporation::Float64)\n   @ Main C:\\Users\\Vincent Hoogelander\\Thesis\\HBVmountain\\General\\Refactoring\\structs.jl:5\n [3] invokelatest(::Any, ::Any, ::Vararg{Any}; kwargs::Base.Pairs{Symbol, Union{}, Tuple{}, NamedTuple{(), Tuple{}}})\n   @ Base .\\essentials.jl:716\n [4] invokelatest(::Any, ::Any, ::Vararg{Any})\n   @ Base .\\essentials.jl:714\n [5] _pyjlwrap_call(f::Type, args_::Ptr{PyCall.PyObject_struct}, kw_::Ptr{PyCall.PyObject_struct})\n   @ PyCall C:\\Users\\Vincent Hoogelander\\.julia\\packages\\PyCall\\7a7w0\\src\\callback.jl:28\n [6] pyjlwrap_call(self_::Ptr{PyCall.PyObject_struct}, args_::Ptr{PyCall.PyObject_struct}, kw_::Ptr{PyCall.PyObject_struct})\n   @ PyCall C:\\Users\\Vincent Hoogelander\\.julia\\packages\\PyCall\\7a7w0\\src\\callback.jl:44>",
     "output_type": "error",
     "traceback": [
      "\u001b[1;31m---------------------------------------------------------------------------\u001b[0m",
      "\u001b[1;31mRuntimeError\u001b[0m                              Traceback (most recent call last)",
      "\u001b[1;32m<ipython-input-24-baab665b74ff>\u001b[0m in \u001b[0;36m<module>\u001b[1;34m\u001b[0m\n\u001b[1;32m----> 1\u001b[1;33m \u001b[0mconfig_file\u001b[0m \u001b[1;33m=\u001b[0m \u001b[0mmodel\u001b[0m\u001b[1;33m.\u001b[0m\u001b[0msetup\u001b[0m\u001b[1;33m(\u001b[0m\u001b[1;33m)\u001b[0m\u001b[1;33m\u001b[0m\u001b[1;33m\u001b[0m\u001b[0m\n\u001b[0m",
      "\u001b[1;32m~\\Thesis\\HBVmountain\\General\\BMI_HBVmountain_Python.py\u001b[0m in \u001b[0;36msetup\u001b[1;34m(self, forcing_netcdf, path_to_shapefile, path_to_dem, path_to_nlcd, Discharge, Total_Evaporation, Snow_Extend, bare_storage, forest_storage, grass_storage, rip_storage, Slowstorage, Waterbalance, Glacier, Area, bare_parameters, forest_parameters, grass_parameters, rip_parameters, slow_parameters, Temp_Thresh, Meltfactor, Mm, Ratio_Pref, Kf, Ks, Ce, Soilstoragecapacity_Bare, beta_Bare, Interceptioncapacity_Forest, Soilstoragecapacity_Forest, beta_Forest, Interceptioncapacity_Grass, Soilstoragecapacity_Grass, beta_Grass, Interceptioncapacity_Rip, Soilstoragecapacity_Rip, beta_Rip, Kf_Rip, Ratio_Riparian, Elevation, Total_Elevationbands, Precipitation_gradient, Elevation_Percentage, bare_input, forest_input, grass_input, rip_input, Precipitation, Temperature, ETP, Date, Current_Date, Sunhours, Units)\u001b[0m\n\u001b[0;32m    113\u001b[0m             \u001b[0mGlacier\u001b[0m \u001b[1;33m=\u001b[0m \u001b[0mlanduse_elevation\u001b[0m\u001b[1;33m[\u001b[0m\u001b[1;36m1\u001b[0m\u001b[1;33m]\u001b[0m\u001b[1;33m[\u001b[0m\u001b[1;36m0\u001b[0m\u001b[1;33m]\u001b[0m\u001b[1;33m\u001b[0m\u001b[1;33m\u001b[0m\u001b[0m\n\u001b[0;32m    114\u001b[0m \u001b[1;33m\u001b[0m\u001b[0m\n\u001b[1;32m--> 115\u001b[1;33m             \u001b[0mbare_input\u001b[0m \u001b[1;33m=\u001b[0m \u001b[0mHRU_Input\u001b[0m\u001b[1;33m(\u001b[0m\u001b[0mlanduse_elevation\u001b[0m\u001b[1;33m[\u001b[0m\u001b[1;36m2\u001b[0m\u001b[1;33m]\u001b[0m\u001b[1;33m,\u001b[0m \u001b[0mlanduse_elevation\u001b[0m\u001b[1;33m[\u001b[0m\u001b[1;36m0\u001b[0m\u001b[1;33m]\u001b[0m\u001b[1;33m[\u001b[0m\u001b[1;36m1\u001b[0m\u001b[1;33m]\u001b[0m\u001b[1;33m[\u001b[0m\u001b[1;36m0\u001b[0m\u001b[1;33m]\u001b[0m\u001b[1;33m,\u001b[0m \u001b[0mlanduse_elevation\u001b[0m\u001b[1;33m[\u001b[0m\u001b[1;36m1\u001b[0m\u001b[1;33m]\u001b[0m\u001b[1;33m[\u001b[0m\u001b[1;36m1\u001b[0m\u001b[1;33m]\u001b[0m\u001b[1;33m,\u001b[0m \u001b[1;33m[\u001b[0m\u001b[1;36m1\u001b[0m\u001b[1;33m,\u001b[0m\u001b[1;36m2\u001b[0m\u001b[1;33m,\u001b[0m\u001b[1;36m3\u001b[0m\u001b[1;33m,\u001b[0m\u001b[1;36m4\u001b[0m\u001b[1;33m]\u001b[0m\u001b[1;33m,\u001b[0m \u001b[1;36m4\u001b[0m\u001b[1;33m,\u001b[0m \u001b[1;33m(\u001b[0m\u001b[1;36m0\u001b[0m\u001b[1;33m,\u001b[0m\u001b[1;33m)\u001b[0m\u001b[1;33m,\u001b[0m \u001b[1;33m(\u001b[0m\u001b[1;36m0\u001b[0m\u001b[1;33m,\u001b[0m\u001b[1;33m)\u001b[0m\u001b[1;33m,\u001b[0m \u001b[1;36m0\u001b[0m\u001b[1;33m,\u001b[0m \u001b[0mnp\u001b[0m\u001b[1;33m.\u001b[0m\u001b[0mzeros\u001b[0m\u001b[1;33m(\u001b[0m\u001b[1;36m4\u001b[0m\u001b[1;33m)\u001b[0m\u001b[1;33m,\u001b[0m \u001b[1;36m0.01\u001b[0m\u001b[1;33m,\u001b[0m \u001b[0mnp\u001b[0m\u001b[1;33m.\u001b[0m\u001b[0mzeros\u001b[0m\u001b[1;33m(\u001b[0m\u001b[1;36m4\u001b[0m\u001b[1;33m)\u001b[0m\u001b[1;33m,\u001b[0m \u001b[1;36m0\u001b[0m\u001b[1;33m,\u001b[0m \u001b[1;36m0.0\u001b[0m\u001b[1;33m)\u001b[0m\u001b[1;33m\u001b[0m\u001b[1;33m\u001b[0m\u001b[0m\n\u001b[0m\u001b[0;32m    116\u001b[0m             \u001b[0mforest_input\u001b[0m \u001b[1;33m=\u001b[0m \u001b[0mHRU_Input\u001b[0m\u001b[1;33m(\u001b[0m\u001b[0mlanduse_elevation\u001b[0m\u001b[1;33m[\u001b[0m\u001b[1;36m3\u001b[0m\u001b[1;33m]\u001b[0m\u001b[1;33m,\u001b[0m \u001b[0mlanduse_elevation\u001b[0m\u001b[1;33m[\u001b[0m\u001b[1;36m0\u001b[0m\u001b[1;33m]\u001b[0m\u001b[1;33m[\u001b[0m\u001b[1;36m1\u001b[0m\u001b[1;33m]\u001b[0m\u001b[1;33m[\u001b[0m\u001b[1;36m1\u001b[0m\u001b[1;33m]\u001b[0m\u001b[1;33m,\u001b[0m \u001b[0mnp\u001b[0m\u001b[1;33m.\u001b[0m\u001b[0mzeros\u001b[0m\u001b[1;33m(\u001b[0m\u001b[1;36m4\u001b[0m\u001b[1;33m)\u001b[0m\u001b[1;33m,\u001b[0m \u001b[1;33m[\u001b[0m\u001b[1;36m1\u001b[0m\u001b[1;33m,\u001b[0m\u001b[1;36m2\u001b[0m\u001b[1;33m,\u001b[0m\u001b[1;36m3\u001b[0m\u001b[1;33m,\u001b[0m\u001b[1;36m4\u001b[0m\u001b[1;33m]\u001b[0m\u001b[1;33m,\u001b[0m \u001b[1;36m4\u001b[0m\u001b[1;33m,\u001b[0m \u001b[1;33m(\u001b[0m\u001b[1;36m0\u001b[0m\u001b[1;33m,\u001b[0m\u001b[1;33m)\u001b[0m\u001b[1;33m,\u001b[0m \u001b[1;33m(\u001b[0m\u001b[1;36m0\u001b[0m\u001b[1;33m,\u001b[0m\u001b[1;33m)\u001b[0m\u001b[1;33m,\u001b[0m \u001b[1;36m0\u001b[0m\u001b[1;33m,\u001b[0m \u001b[0mnp\u001b[0m\u001b[1;33m.\u001b[0m\u001b[0mzeros\u001b[0m\u001b[1;33m(\u001b[0m\u001b[1;36m4\u001b[0m\u001b[1;33m)\u001b[0m\u001b[1;33m,\u001b[0m \u001b[1;36m0.01\u001b[0m\u001b[1;33m,\u001b[0m \u001b[0mnp\u001b[0m\u001b[1;33m.\u001b[0m\u001b[0mzeros\u001b[0m\u001b[1;33m(\u001b[0m\u001b[1;36m4\u001b[0m\u001b[1;33m)\u001b[0m\u001b[1;33m,\u001b[0m \u001b[1;36m0\u001b[0m\u001b[1;33m,\u001b[0m \u001b[1;36m0.0\u001b[0m\u001b[1;33m)\u001b[0m\u001b[1;33m\u001b[0m\u001b[1;33m\u001b[0m\u001b[0m\n\u001b[0;32m    117\u001b[0m             \u001b[0mgrass_input\u001b[0m \u001b[1;33m=\u001b[0m \u001b[0mHRU_Input\u001b[0m\u001b[1;33m(\u001b[0m\u001b[0mlanduse_elevation\u001b[0m\u001b[1;33m[\u001b[0m\u001b[1;36m4\u001b[0m\u001b[1;33m]\u001b[0m\u001b[1;33m,\u001b[0m \u001b[0mlanduse_elevation\u001b[0m\u001b[1;33m[\u001b[0m\u001b[1;36m0\u001b[0m\u001b[1;33m]\u001b[0m\u001b[1;33m[\u001b[0m\u001b[1;36m1\u001b[0m\u001b[1;33m]\u001b[0m\u001b[1;33m[\u001b[0m\u001b[1;36m2\u001b[0m\u001b[1;33m]\u001b[0m\u001b[1;33m,\u001b[0m \u001b[0mnp\u001b[0m\u001b[1;33m.\u001b[0m\u001b[0mzeros\u001b[0m\u001b[1;33m(\u001b[0m\u001b[1;36m4\u001b[0m\u001b[1;33m)\u001b[0m\u001b[1;33m,\u001b[0m \u001b[1;33m[\u001b[0m\u001b[1;36m1\u001b[0m\u001b[1;33m,\u001b[0m\u001b[1;36m2\u001b[0m\u001b[1;33m,\u001b[0m\u001b[1;36m3\u001b[0m\u001b[1;33m,\u001b[0m\u001b[1;36m4\u001b[0m\u001b[1;33m]\u001b[0m\u001b[1;33m,\u001b[0m \u001b[1;36m4\u001b[0m\u001b[1;33m,\u001b[0m \u001b[1;33m(\u001b[0m\u001b[1;36m0\u001b[0m\u001b[1;33m,\u001b[0m\u001b[1;33m)\u001b[0m\u001b[1;33m,\u001b[0m \u001b[1;33m(\u001b[0m\u001b[1;36m0\u001b[0m\u001b[1;33m,\u001b[0m\u001b[1;33m)\u001b[0m\u001b[1;33m,\u001b[0m \u001b[1;36m0\u001b[0m\u001b[1;33m,\u001b[0m \u001b[0mnp\u001b[0m\u001b[1;33m.\u001b[0m\u001b[0mzeros\u001b[0m\u001b[1;33m(\u001b[0m\u001b[1;36m4\u001b[0m\u001b[1;33m)\u001b[0m\u001b[1;33m,\u001b[0m \u001b[1;36m0.01\u001b[0m\u001b[1;33m,\u001b[0m \u001b[0mnp\u001b[0m\u001b[1;33m.\u001b[0m\u001b[0mzeros\u001b[0m\u001b[1;33m(\u001b[0m\u001b[1;36m4\u001b[0m\u001b[1;33m)\u001b[0m\u001b[1;33m,\u001b[0m \u001b[1;36m0\u001b[0m\u001b[1;33m,\u001b[0m \u001b[1;36m0.0\u001b[0m\u001b[1;33m)\u001b[0m\u001b[1;33m\u001b[0m\u001b[1;33m\u001b[0m\u001b[0m\n",
      "\u001b[1;31mRuntimeError\u001b[0m: <PyCall.jlwrap (in a Julia function called from Python)\nJULIA: MethodError: no method matching Vector{Float64}(::Matrix{Float64})\n\nYou might have used a 2d row vector where a 1d column vector was required.\nNote the difference between 1d column vector [1,2,3] and 2d row vector [1 2 3].\nYou can convert to a column vector with the vec() function.\nClosest candidates are:\n  Array{T, N}(::AbstractArray{S, N}) where {T, N, S} at C:\\Users\\Vincent Hoogelander\\AppData\\Local\\Programs\\Julia-1.7.3\\share\\julia\\base\\array.jl:563\n  Vector{T}() where T at C:\\Users\\Vincent Hoogelander\\AppData\\Local\\Programs\\Julia-1.7.3\\share\\julia\\base\\boot.jl:476\n  Vector{T}(!Matched::Core.Compiler.AbstractRange{T}) where T at C:\\Users\\Vincent Hoogelander\\AppData\\Local\\Programs\\Julia-1.7.3\\share\\julia\\base\\range.jl:1286\n  ...\nStacktrace:\n [1] convert(#unused#::Type{Vector{Float64}}, a::Matrix{Float64})\n   @ Base .\\array.jl:554\n [2] HRU_Input(Area_Elevations::Matrix{Float64}, Area_HRU::Float64, Area_Glacier::Vector{Float64}, Elevation_Count::Vector{Int64}, Nr_Elevationbands::Int64, Catchment_Elevation::Tuple{Int64}, Snow_Redistribution::Tuple{Int64}, Potential_Evaporation_Mean::Int64, Precipitation::Vector{Float64}, Riparian_Discharge::Float64, Temp_Elevation::Vector{Float64}, Total_Effective_Precipitation::Int64, Total_Interception_Evaporation::Float64)\n   @ Main C:\\Users\\Vincent Hoogelander\\Thesis\\HBVmountain\\General\\Refactoring\\structs.jl:5\n [3] invokelatest(::Any, ::Any, ::Vararg{Any}; kwargs::Base.Pairs{Symbol, Union{}, Tuple{}, NamedTuple{(), Tuple{}}})\n   @ Base .\\essentials.jl:716\n [4] invokelatest(::Any, ::Any, ::Vararg{Any})\n   @ Base .\\essentials.jl:714\n [5] _pyjlwrap_call(f::Type, args_::Ptr{PyCall.PyObject_struct}, kw_::Ptr{PyCall.PyObject_struct})\n   @ PyCall C:\\Users\\Vincent Hoogelander\\.julia\\packages\\PyCall\\7a7w0\\src\\callback.jl:28\n [6] pyjlwrap_call(self_::Ptr{PyCall.PyObject_struct}, args_::Ptr{PyCall.PyObject_struct}, kw_::Ptr{PyCall.PyObject_struct})\n   @ PyCall C:\\Users\\Vincent Hoogelander\\.julia\\packages\\PyCall\\7a7w0\\src\\callback.jl:44>"
     ]
    }
   ],
   "source": [
    "config_file = model.setup()"
   ]
  },
  {
   "cell_type": "code",
   "execution_count": 22,
   "metadata": {},
   "outputs": [
    {
     "ename": "NameError",
     "evalue": "name 'config_file' is not defined",
     "output_type": "error",
     "traceback": [
      "\u001b[1;31m---------------------------------------------------------------------------\u001b[0m",
      "\u001b[1;31mNameError\u001b[0m                                 Traceback (most recent call last)",
      "\u001b[1;32m<ipython-input-22-c446a58f9d12>\u001b[0m in \u001b[0;36m<module>\u001b[1;34m\u001b[0m\n\u001b[1;32m----> 1\u001b[1;33m \u001b[0mmodel\u001b[0m\u001b[1;33m.\u001b[0m\u001b[0minitialize\u001b[0m\u001b[1;33m(\u001b[0m\u001b[0mconfig_file\u001b[0m\u001b[1;33m)\u001b[0m\u001b[1;33m\u001b[0m\u001b[1;33m\u001b[0m\u001b[0m\n\u001b[0m",
      "\u001b[1;31mNameError\u001b[0m: name 'config_file' is not defined"
     ]
    }
   ],
   "source": [
    "model.initialize(config_file)"
   ]
  },
  {
   "cell_type": "code",
   "execution_count": 10,
   "metadata": {},
   "outputs": [
    {
     "data": {
      "text/plain": [
       "1999"
      ]
     },
     "execution_count": 10,
     "metadata": {},
     "output_type": "execute_result"
    }
   ],
   "source": [
    "model.get_value_ptr('Current_Date').year"
   ]
  },
  {
   "cell_type": "code",
   "execution_count": 6,
   "metadata": {},
   "outputs": [
    {
     "data": {
      "text/plain": [
       "1.0"
      ]
     },
     "execution_count": 6,
     "metadata": {},
     "output_type": "execute_result"
    }
   ],
   "source": [
    "np.sum([0.077466593, 0.263523033, 0.545702942, 0.113307433])\n",
    "np.sum([0.07746659266532895, 0.26352303291636425, 0.5457029415531742, 0.11330743286513256])"
   ]
  },
  {
   "cell_type": "markdown",
   "metadata": {},
   "source": [
    "### Parameters"
   ]
  },
  {
   "cell_type": "code",
   "execution_count": 50,
   "metadata": {},
   "outputs": [],
   "source": [
    "bare_parameters, forest_parameters, grass_parameters, rip_parameters,  slow_parameters, parameters_array =  Main.parameter_selection()\n",
    "model.set_value('bare_parameters', bare_parameters)\n",
    "model.set_value('forest_parameters', forest_parameters)\n",
    "model.set_value('grass_parameters', grass_parameters)\n",
    "model.set_value('rip_parameters', rip_parameters)\n",
    "model.set_value('slow_parameters', slow_parameters)"
   ]
  },
  {
   "cell_type": "code",
   "execution_count": 11,
   "metadata": {},
   "outputs": [],
   "source": [
    "# param_list = parameter_conversion('output_tc', nsmallest=10)\n",
    "\n",
    "# model.set_value('bare_parameters', param_list[0][0])\n",
    "# model.set_value('forest_parameters', param_list[0][1])\n",
    "# model.set_value('grass_parameters', param_list[0][2])\n",
    "# model.set_value('rip_parameters', param_list[0][3])\n",
    "# model.set_value('slow_parameters', param_list[0][4])\n"
   ]
  },
  {
   "cell_type": "markdown",
   "metadata": {},
   "source": [
    "### Forcings"
   ]
  },
  {
   "cell_type": "code",
   "execution_count": 12,
   "metadata": {},
   "outputs": [],
   "source": [
    "model.set_value('Temperature', (forcing['temp_era5'].values).reshape(len(forcing),1))\n",
    "model.set_value('Precipitation', (forcing['prec_era5'].values).reshape(len(forcing),1))\n",
    "\n",
    "model.set_value('Date', list(forcing.index.values))\n",
    "model.set_value('Current_Date', forcing.index.values[0])"
   ]
  },
  {
   "cell_type": "markdown",
   "metadata": {},
   "source": [
    "### Initial settings"
   ]
  },
  {
   "cell_type": "code",
   "execution_count": 13,
   "metadata": {},
   "outputs": [],
   "source": [
    "model.set_value('Elevation', Elevations(500, 500, 2500, 1500, 1500)) # 4 Elevation bands\n",
    "\n",
    "model.set_value('Glacier', [0.0, 0.0, 0.0, 0.6]) # 60% of the area glacier at highest elevation band\n",
    "model.set_value('Sunhours', [8.87, 10.30, 11.88, 13.65, 15.13, 15.97, 15.58, 14.25, 12.62, 11.87, 9.28, 8.45]) #Seattle\n",
    "model.set_value('bare_input', HRU_Input([0.0,0.0,0.3,0.7], 0.32, [0.0, 0.0, 0.0, 0.6], [1,2,3,4], 4, (0,), (0,), 0, np.zeros(4), 0.01, np.zeros(4), 0, 0.0))\n",
    "model.set_value('forest_input', HRU_Input([0.0,0.7,0.3,0.0], 0.45,np.zeros(4), [1,2,3,4], 4, (0,), (0,), 0, np.zeros(4), 0.01, np.zeros(4), 0, 0.0))\n",
    "model.set_value('grass_input', HRU_Input([0.7,0.3,0.0,0.0], 0.21,np.zeros(4), [1,2,3,4], 4, (0,), (0,), 0, np.zeros(4), 0.01, np.zeros(4), 0, 0.0))\n",
    "model.set_value('rip_input', HRU_Input([1.0,0.0,0.0,0.0], 0.02,np.zeros(4), [1,2,3,4], 4, (0,), (0,), 0, np.zeros(4), 0.01, np.zeros(4), 0, 0.0))\n",
    "model.set_value('Total_Elevationbands', 4)\n",
    "model.set_value('Elevation_Percentage', [0.15,0.26,0.36,0.23])\n",
    "model.set_value('bare_storage', Storages(0,np.zeros(4),np.zeros(4),np.zeros(4),0))\n",
    "model.set_value('forest_storage', Storages(0,np.zeros(4),np.zeros(4),np.zeros(4),0))\n",
    "model.set_value('grass_storage', Storages(0,np.zeros(4),np.zeros(4),np.zeros(4),0))\n",
    "model.set_value('rip_storage', Storages(0,np.zeros(4),np.zeros(4),np.zeros(4),0))"
   ]
  },
  {
   "cell_type": "code",
   "execution_count": 91,
   "metadata": {},
   "outputs": [],
   "source": [
    "# model.set_value('Elevation', Main.Elevations(587.5, 396.0, 2746.0, 1572.36, 1572.36))\n",
    "# model.set_value('Glacier', [0.0, 0.066, 0.7, 0.234])\n",
    "# model.set_value('Sunhours', [8.87, 10.30, 11.88, 13.65, 15.13, 15.97, 15.58, 14.25, 12.62, 11.87, 9.28, 8.45]) #Seattle\n",
    "# model.set_value('bare_input', Main.HRU_Input([0.001, 0.083, 0.636, 0.28], 0.32, [0.0, 0.021, 0.222, 0.074], [1,2,3,4], 4, (0,), (0,), 0, np.zeros(4), 0.01, np.zeros(4), 0, 0.0))\n",
    "# model.set_value('forest_input', Main.HRU_Input([0.216, 0.396, 0.368, 0.02], 0.46,np.zeros(4), [1,2,3,4], 4, (0,), (0,), 0, np.zeros(4), 0.01, np.zeros(4), 0, 0.0))\n",
    "model.set_value('grass_input', Main.HRU_Input([0.077466593, 0.263523033, 0.545702942, 0.113307432], 0.21,np.zeros(4), [1,2,3,4], 4, (0,), (0,), 0, np.zeros(4), 0.01, np.zeros(4), 0, 0.0))\n",
    "# model.set_value('rip_input', Main.HRU_Input([0.65, 0.096, 0.232, 0.022], 0.01,np.zeros(4), [1,2,3,4], 4, (0,), (0,), 0, np.zeros(4), 0.01, np.zeros(4), 0, 0.0))\n",
    "# model.set_value('Total_Elevationbands', 4)\n",
    "# model.set_value('Elevation_Percentage', [0.15, 0.312, 0.416, 0.122])"
   ]
  },
  {
   "cell_type": "markdown",
   "metadata": {},
   "source": [
    "## Running the model"
   ]
  },
  {
   "cell_type": "code",
   "execution_count": 7,
   "metadata": {},
   "outputs": [],
   "source": [
    "Discharge = []\n",
    "timestamp = []\n",
    "while (model.get_value_ptr('Current_Date') < (datetime.date(1999, 1, 1))):  \n",
    "    model.update()\n",
    "    timestamp.append(model.get_value_ptr('Current_Date'))\n",
    "    Discharge.append(model.get_value_ptr('Discharge'))"
   ]
  },
  {
   "cell_type": "markdown",
   "metadata": {},
   "source": [
    "## Analysis"
   ]
  },
  {
   "cell_type": "code",
   "execution_count": 22,
   "metadata": {},
   "outputs": [
    {
     "data": {
      "text/html": [
       "<div>\n",
       "<style scoped>\n",
       "    .dataframe tbody tr th:only-of-type {\n",
       "        vertical-align: middle;\n",
       "    }\n",
       "\n",
       "    .dataframe tbody tr th {\n",
       "        vertical-align: top;\n",
       "    }\n",
       "\n",
       "    .dataframe thead th {\n",
       "        text-align: right;\n",
       "    }\n",
       "</style>\n",
       "<table border=\"1\" class=\"dataframe\">\n",
       "  <thead>\n",
       "    <tr style=\"text-align: right;\">\n",
       "      <th></th>\n",
       "      <th>simulation</th>\n",
       "      <th>streamflow</th>\n",
       "    </tr>\n",
       "  </thead>\n",
       "  <tbody>\n",
       "    <tr>\n",
       "      <th>1986-01-02</th>\n",
       "      <td>0.000000</td>\n",
       "      <td>0.971722</td>\n",
       "    </tr>\n",
       "    <tr>\n",
       "      <th>1986-01-03</th>\n",
       "      <td>0.003807</td>\n",
       "      <td>0.953927</td>\n",
       "    </tr>\n",
       "    <tr>\n",
       "      <th>1986-01-04</th>\n",
       "      <td>0.006294</td>\n",
       "      <td>0.944712</td>\n",
       "    </tr>\n",
       "    <tr>\n",
       "      <th>1986-01-05</th>\n",
       "      <td>0.000164</td>\n",
       "      <td>0.944712</td>\n",
       "    </tr>\n",
       "    <tr>\n",
       "      <th>1986-01-06</th>\n",
       "      <td>0.015295</td>\n",
       "      <td>0.962825</td>\n",
       "    </tr>\n",
       "    <tr>\n",
       "      <th>...</th>\n",
       "      <td>...</td>\n",
       "      <td>...</td>\n",
       "    </tr>\n",
       "    <tr>\n",
       "      <th>1998-12-28</th>\n",
       "      <td>2.915435</td>\n",
       "      <td>3.302202</td>\n",
       "    </tr>\n",
       "    <tr>\n",
       "      <th>1998-12-29</th>\n",
       "      <td>3.730603</td>\n",
       "      <td>6.505580</td>\n",
       "    </tr>\n",
       "    <tr>\n",
       "      <th>1998-12-30</th>\n",
       "      <td>9.206945</td>\n",
       "      <td>8.332087</td>\n",
       "    </tr>\n",
       "    <tr>\n",
       "      <th>1998-12-31</th>\n",
       "      <td>4.039074</td>\n",
       "      <td>6.001606</td>\n",
       "    </tr>\n",
       "    <tr>\n",
       "      <th>1999-01-01</th>\n",
       "      <td>4.026673</td>\n",
       "      <td>4.948855</td>\n",
       "    </tr>\n",
       "  </tbody>\n",
       "</table>\n",
       "<p>4748 rows × 2 columns</p>\n",
       "</div>"
      ],
      "text/plain": [
       "            simulation  streamflow\n",
       "1986-01-02    0.000000    0.971722\n",
       "1986-01-03    0.003807    0.953927\n",
       "1986-01-04    0.006294    0.944712\n",
       "1986-01-05    0.000164    0.944712\n",
       "1986-01-06    0.015295    0.962825\n",
       "...                ...         ...\n",
       "1998-12-28    2.915435    3.302202\n",
       "1998-12-29    3.730603    6.505580\n",
       "1998-12-30    9.206945    8.332087\n",
       "1998-12-31    4.039074    6.001606\n",
       "1999-01-01    4.026673    4.948855\n",
       "\n",
       "[4748 rows x 2 columns]"
      ]
     },
     "execution_count": 22,
     "metadata": {},
     "output_type": "execute_result"
    }
   ],
   "source": [
    "simulated_discharge_df = pd.DataFrame(\n",
    "    {'simulation': Discharge},\n",
    "    index=pd.to_datetime(timestamp)\n",
    ")\n",
    "combined_discharge = pd.merge(simulated_discharge_df, forcing['streamflow'], left_index=True, right_index=True)\n",
    "combined_discharge"
   ]
  },
  {
   "cell_type": "markdown",
   "metadata": {},
   "source": [
    "## Clean up"
   ]
  },
  {
   "cell_type": "code",
   "execution_count": 17,
   "metadata": {},
   "outputs": [],
   "source": [
    "model.finalize()"
   ]
  },
  {
   "cell_type": "code",
   "execution_count": 18,
   "metadata": {},
   "outputs": [
    {
     "name": "stdout",
     "output_type": "stream",
     "text": [
      "<BMI_HBVmountain_Python.BMI_HBVmountain object at 0x0000016BD9FDD888>\n"
     ]
    }
   ],
   "source": [
    "print(model)"
   ]
  },
  {
   "cell_type": "code",
   "execution_count": 4,
   "metadata": {},
   "outputs": [
    {
     "data": {
      "text/plain": [
       "[[[0.15, 0.312, 0.416, 0.122],\n",
       "  [0.317, 0.456, 0.214, 0.013],\n",
       "  587.5,\n",
       "  396.0,\n",
       "  2746.0,\n",
       "  1572.355],\n",
       " [[0.001, 0.067, 0.706, 0.227], [0.0, 0.021, 0.224, 0.072]],\n",
       " [[0.001, 0.083, 0.636, 0.28]],\n",
       " [[0.217, 0.396, 0.368, 0.02]],\n",
       " [[0.077, 0.263, 0.546, 0.114]],\n",
       " [[0.65, 0.096, 0.232, 0.023]]]"
      ]
     },
     "execution_count": 4,
     "metadata": {},
     "output_type": "execute_result"
    }
   ],
   "source": [
    "generate_landuse_per_elevation('Data/dem_thundercreek.tif', 'Data/nlcd_thundercreek.tif')"
   ]
  },
  {
   "cell_type": "code",
   "execution_count": 7,
   "metadata": {},
   "outputs": [],
   "source": [
    "bounds = gpd.read_file('Data/Shapes/Thundercreek.shp').bounds"
   ]
  },
  {
   "cell_type": "code",
   "execution_count": 9,
   "metadata": {},
   "outputs": [],
   "source": [
    "west, south, east, north = bounds = bounds.loc[0]"
   ]
  },
  {
   "cell_type": "code",
   "execution_count": 10,
   "metadata": {},
   "outputs": [],
   "source": [
    "west, south, east, north = bounds  = west - .05, south - .05, east + .05, north + .05"
   ]
  },
  {
   "cell_type": "code",
   "execution_count": 33,
   "metadata": {},
   "outputs": [],
   "source": [
    "import elevation"
   ]
  },
  {
   "cell_type": "code",
   "execution_count": 34,
   "metadata": {},
   "outputs": [],
   "source": [
    "dem_path = 'ThunderCreek_DEM.tif'\n",
    "output = os.getcwd() + dem_path"
   ]
  },
  {
   "cell_type": "code",
   "execution_count": null,
   "metadata": {},
   "outputs": [],
   "source": []
  },
  {
   "cell_type": "code",
   "execution_count": 42,
   "metadata": {},
   "outputs": [],
   "source": [
    "# elevation.clip(bounds=bounds, output=dem_path, product='SRTM3')"
   ]
  },
  {
   "cell_type": "code",
   "execution_count": 114,
   "metadata": {},
   "outputs": [],
   "source": [
    "# from elevation import cli\n",
    "# cli.selfcheck()"
   ]
  },
  {
   "cell_type": "code",
   "execution_count": 83,
   "metadata": {},
   "outputs": [
    {
     "name": "stderr",
     "output_type": "stream",
     "text": [
      "ERROR:fiona._env:PROJ: proj_identify: C:\\Users\\Vincent Hoogelander\\anaconda3\\Library\\share\\proj\\proj.db lacks DATABASE.LAYOUT.VERSION.MAJOR / DATABASE.LAYOUT.VERSION.MINOR metadata. It comes from another PROJ installation.\n"
     ]
    }
   ],
   "source": [
    "soa_shape_map_path = \"Data/Shapes/Thundercreek.shp\"\n",
    "soa_shape_map = gpd.read_file(soa_shape_map_path)\n",
    "\n",
    "# soa_shape_map_geo = soa_shape_map.to_crs(epsg=4326)  # EPSG 4326 = WGS84 = https://epsg.io/4326\n",
    "# print(soa_shape_map.iloc[0].geometry.centroid.x, soa_shape_map_geo.iloc[0].geometry.centroid.y)\n"
   ]
  },
  {
   "cell_type": "code",
   "execution_count": 66,
   "metadata": {},
   "outputs": [],
   "source": [
    "lon, lat = soa_shape_map_geo.iloc[0].geometry.centroid.x, soa_shape_map_geo.iloc[0].geometry.centroid.y"
   ]
  },
  {
   "cell_type": "code",
   "execution_count": 63,
   "metadata": {},
   "outputs": [],
   "source": [
    "from suntime import Sun, SunTimeException"
   ]
  },
  {
   "cell_type": "code",
   "execution_count": 80,
   "metadata": {},
   "outputs": [],
   "source": [
    "sun = Sun(lat, lon)"
   ]
  },
  {
   "cell_type": "code",
   "execution_count": 81,
   "metadata": {},
   "outputs": [],
   "source": [
    "abd = datetime.date(2005, 12, 14)\n",
    "abd_sr = sun.get_local_sunrise_time(abd)\n",
    "abd_ss = sun.get_local_sunset_time(abd)"
   ]
  },
  {
   "cell_type": "code",
   "execution_count": 82,
   "metadata": {},
   "outputs": [
    {
     "data": {
      "text/plain": [
       "8.316666666666666"
      ]
     },
     "execution_count": 82,
     "metadata": {},
     "output_type": "execute_result"
    }
   ],
   "source": [
    "(abd_ss - abd_sr).seconds / 3600"
   ]
  },
  {
   "cell_type": "code",
   "execution_count": 111,
   "metadata": {},
   "outputs": [],
   "source": [
    "def get_monthly_sunhours(lat, lon):\n",
    "    sunhours = []\n",
    "    sun = Sun(lat, lon)\n",
    "    for i in range(1,13):\n",
    "        timedelta = sun.get_local_sunset_time(datetime.date(2005, i, 14)) - sun.get_local_sunrise_time(datetime.date(2005, i, 14))\n",
    "        sunhours.append(np.round(timedelta.seconds / 3600,2))\n",
    "    return sunhours"
   ]
  },
  {
   "cell_type": "code",
   "execution_count": 112,
   "metadata": {},
   "outputs": [
    {
     "data": {
      "text/plain": [
       "[8.72, 10.17, 11.8, 13.63, 15.2, 16.08, 15.75, 14.42, 12.67, 10.9, 9.25, 8.32]"
      ]
     },
     "execution_count": 112,
     "metadata": {},
     "output_type": "execute_result"
    }
   ],
   "source": [
    "get_monthly_sunhours(lat, lon)"
   ]
  },
  {
   "cell_type": "code",
   "execution_count": 2,
   "metadata": {},
   "outputs": [],
   "source": []
  },
  {
   "cell_type": "code",
   "execution_count": 123,
   "metadata": {},
   "outputs": [],
   "source": [
    "# from rasterio.warp import calculate_default_transform, reproject, Resampling\n",
    "\n",
    "# dst_crs = 'EPSG:4326'\n",
    "\n",
    "# with rasterio.open('Data/NLCD_2001_Landuse.tif') as src:\n",
    "#     transform, width, height = calculate_default_transform(\n",
    "#         src.crs, dst_crs, src.width, src.height, *src.bounds)\n",
    "#     kwargs = src.meta.copy()\n",
    "#     kwargs.update({\n",
    "#         'crs': dst_crs,\n",
    "#         'transform': transform,\n",
    "#         'width': width,\n",
    "#         'height': height\n",
    "#     })\n",
    "\n",
    "# with rasterio.open('/tmp/Data/NLCD_2001_Landuse.tif', 'w', **kwargs) as dst:\n",
    "#     for i in range(1, src.count + 1):\n",
    "#         reproject(\n",
    "#             source=rasterio.band(src, i),\n",
    "#             destination=rasterio.band(dst, i),\n",
    "#             src_transform=src.transform,\n",
    "#             src_crs=src.crs,\n",
    "#             dst_transform=transform,\n",
    "#             dst_crs=dst_crs,\n",
    "#             resampling=Resampling.nearest)"
   ]
  },
  {
   "cell_type": "code",
   "execution_count": 17,
   "metadata": {},
   "outputs": [
    {
     "name": "stderr",
     "output_type": "stream",
     "text": [
      "ERROR:fiona._env:PROJ: proj_identify: C:\\Users\\Vincent Hoogelander\\anaconda3\\Library\\share\\proj\\proj.db lacks DATABASE.LAYOUT.VERSION.MAJOR / DATABASE.LAYOUT.VERSION.MINOR metadata. It comes from another PROJ installation.\n",
      "WARNING:rasterio._env:CPLE_AppDefined in PROJ: proj_create_from_database: C:\\Users\\Vincent Hoogelander\\anaconda3\\Library\\share\\proj\\proj.db lacks DATABASE.LAYOUT.VERSION.MAJOR / DATABASE.LAYOUT.VERSION.MINOR metadata. It comes from another PROJ installation.\n"
     ]
    }
   ],
   "source": [
    "import fiona\n",
    "import rasterio\n",
    "import rasterio.mask\n",
    "\n"
   ]
  },
  {
   "cell_type": "code",
   "execution_count": 3,
   "metadata": {},
   "outputs": [
    {
     "ename": "TypeError",
     "evalue": "wrapped_objective_function() missing 1 required positional argument: 'iterations'",
     "output_type": "error",
     "traceback": [
      "\u001b[1;31m---------------------------------------------------------------------------\u001b[0m",
      "\u001b[1;31mTypeError\u001b[0m                                 Traceback (most recent call last)",
      "\u001b[1;32m<ipython-input-3-62b1436c9876>\u001b[0m in \u001b[0;36m<module>\u001b[1;34m\u001b[0m\n\u001b[1;32m----> 1\u001b[1;33m \u001b[0mfull_calibration\u001b[0m\u001b[1;33m(\u001b[0m\u001b[1;36m1\u001b[0m\u001b[1;33m,\u001b[0m \u001b[1;36m20\u001b[0m\u001b[1;33m)\u001b[0m\u001b[1;33m\u001b[0m\u001b[1;33m\u001b[0m\u001b[0m\n\u001b[0m",
      "\u001b[1;32m~\\Thesis\\HBVmountain\\General\\Calibration.py\u001b[0m in \u001b[0;36mfull_calibration\u001b[1;34m(ntimes, iterations)\u001b[0m\n\u001b[0;32m    238\u001b[0m     \u001b[0mresults_doc_list\u001b[0m \u001b[1;33m=\u001b[0m \u001b[1;33m[\u001b[0m\u001b[1;33m]\u001b[0m\u001b[1;33m\u001b[0m\u001b[1;33m\u001b[0m\u001b[0m\n\u001b[0;32m    239\u001b[0m     \u001b[1;32mfor\u001b[0m \u001b[0mn\u001b[0m \u001b[1;32min\u001b[0m \u001b[0mrange\u001b[0m\u001b[1;33m(\u001b[0m\u001b[0mntimes\u001b[0m\u001b[1;33m)\u001b[0m\u001b[1;33m:\u001b[0m\u001b[1;33m\u001b[0m\u001b[1;33m\u001b[0m\u001b[0m\n\u001b[1;32m--> 240\u001b[1;33m         \u001b[0mfull_output\u001b[0m \u001b[1;33m=\u001b[0m \u001b[0mcma_calibration\u001b[0m\u001b[1;33m(\u001b[0m\u001b[0mPARAMETERS_BOUNDS\u001b[0m\u001b[1;33m,\u001b[0m \u001b[0mobservation\u001b[0m\u001b[1;33m,\u001b[0m \u001b[0miterations\u001b[0m\u001b[1;33m)\u001b[0m\u001b[1;33m\u001b[0m\u001b[1;33m\u001b[0m\u001b[0m\n\u001b[0m\u001b[0;32m    241\u001b[0m         \u001b[0mbest_par\u001b[0m\u001b[1;33m,\u001b[0m \u001b[0mbest_score\u001b[0m\u001b[1;33m,\u001b[0m \u001b[0mpars\u001b[0m\u001b[1;33m,\u001b[0m \u001b[0mscores\u001b[0m \u001b[1;33m=\u001b[0m \u001b[0mfull_output\u001b[0m\u001b[1;33m\u001b[0m\u001b[1;33m\u001b[0m\u001b[0m\n\u001b[0;32m    242\u001b[0m \u001b[1;33m\u001b[0m\u001b[0m\n",
      "\u001b[1;32m~\\Thesis\\HBVmountain\\General\\Calibration.py\u001b[0m in \u001b[0;36mcma_calibration\u001b[1;34m(parameter_bounds, observation, MAXITER)\u001b[0m\n\u001b[0;32m    194\u001b[0m             \u001b[0msolutions\u001b[0m\u001b[1;33m,\u001b[0m\u001b[1;33m\u001b[0m\u001b[1;33m\u001b[0m\u001b[0m\n\u001b[0;32m    195\u001b[0m \u001b[1;33m\u001b[0m\u001b[0m\n\u001b[1;32m--> 196\u001b[1;33m             \u001b[1;33m[\u001b[0m\u001b[0mwrapped_objective_function\u001b[0m\u001b[1;33m(\u001b[0m\u001b[0mx\u001b[0m\u001b[1;33m,\u001b[0m \u001b[0mobservation\u001b[0m\u001b[1;33m)\u001b[0m \u001b[1;32mfor\u001b[0m \u001b[0mx\u001b[0m \u001b[1;32min\u001b[0m \u001b[0msolutions\u001b[0m\u001b[1;33m]\u001b[0m\u001b[1;33m\u001b[0m\u001b[1;33m\u001b[0m\u001b[0m\n\u001b[0m\u001b[0;32m    197\u001b[0m                 \u001b[1;31m#function_values=wrapped_objective_function(solutions, observation, area)\u001b[0m\u001b[1;33m\u001b[0m\u001b[1;33m\u001b[0m\u001b[1;33m\u001b[0m\u001b[0m\n\u001b[0;32m    198\u001b[0m             )#,\n",
      "\u001b[1;32m~\\Thesis\\HBVmountain\\General\\Calibration.py\u001b[0m in \u001b[0;36m<listcomp>\u001b[1;34m(.0)\u001b[0m\n\u001b[0;32m    194\u001b[0m             \u001b[0msolutions\u001b[0m\u001b[1;33m,\u001b[0m\u001b[1;33m\u001b[0m\u001b[1;33m\u001b[0m\u001b[0m\n\u001b[0;32m    195\u001b[0m \u001b[1;33m\u001b[0m\u001b[0m\n\u001b[1;32m--> 196\u001b[1;33m             \u001b[1;33m[\u001b[0m\u001b[0mwrapped_objective_function\u001b[0m\u001b[1;33m(\u001b[0m\u001b[0mx\u001b[0m\u001b[1;33m,\u001b[0m \u001b[0mobservation\u001b[0m\u001b[1;33m)\u001b[0m \u001b[1;32mfor\u001b[0m \u001b[0mx\u001b[0m \u001b[1;32min\u001b[0m \u001b[0msolutions\u001b[0m\u001b[1;33m]\u001b[0m\u001b[1;33m\u001b[0m\u001b[1;33m\u001b[0m\u001b[0m\n\u001b[0m\u001b[0;32m    197\u001b[0m                 \u001b[1;31m#function_values=wrapped_objective_function(solutions, observation, area)\u001b[0m\u001b[1;33m\u001b[0m\u001b[1;33m\u001b[0m\u001b[1;33m\u001b[0m\u001b[0m\n\u001b[0;32m    198\u001b[0m             )#,\n",
      "\u001b[1;31mTypeError\u001b[0m: wrapped_objective_function() missing 1 required positional argument: 'iterations'"
     ]
    }
   ],
   "source": [
    "full_calibration(1, 20)"
   ]
  },
  {
   "cell_type": "code",
   "execution_count": 8,
   "metadata": {},
   "outputs": [
    {
     "data": {
      "text/plain": [
       "<open DatasetReader name='Data/dem_thundercreek.tif' mode='r'>"
      ]
     },
     "execution_count": 8,
     "metadata": {},
     "output_type": "execute_result"
    }
   ],
   "source": [
    "import fiona\n",
    "with fiona.open(\"Data/Shapes/Thundercreek.shp\", \"r\") as shapefile:\n",
    "    shapes = [feature[\"geometry\"] for feature in shapefile]\n",
    "\n",
    "with rasterio.open(\"Data/NLCD_2001_Landuse.tif\") as src:\n",
    "    out_image, out_transform = rasterio.mask.mask(src, shapes, crop=True, nodata=-9999)\n",
    "    out_image = out_image[out_image != -9999]\n",
    "    out_meta = src.meta\n",
    "    arr = np.expand_dims(out_image.flatten(), 0).T\n",
    "\n",
    "    \n",
    "    \n",
    "get_landuse_from_raster(arr)\n",
    "# arr = out_image.read(masked=True)\n",
    "data = rasterio.open('Data/dem_thundercreek.tif', shapefile=shapes, masked=True)\n",
    "data"
   ]
  },
  {
   "cell_type": "code",
   "execution_count": 14,
   "metadata": {},
   "outputs": [],
   "source": [
    "\n",
    "def generate_array_from_raster(str_path_to_rasterfile, str_path_to_shapefile=None):\n",
    "    if str_path_to_shapefile != None:\n",
    "        with fiona.open(str_path_to_shapefile, \"r\") as shapefile:\n",
    "            shapefile = [feature[\"geometry\"] for feature in shapefile]\n",
    "\n",
    "        with rasterio.open(str_path_to_rasterfile) as src:\n",
    "            out_image, out_transform = rasterio.mask.mask(src, shapefile, crop=True)\n",
    "#             out_image = out_image[out_image <97]\n",
    "            out_image = ma.masked_values(out_image, 0)\n",
    "            arr = np.expand_dims(out_image.flatten(), 0).T    \n",
    "    else:\n",
    "        raster = rasterio.open(str_path_to_rasterfile)\n",
    "        arr = raster.read(masked=True)\n",
    "        arr = np.expand_dims(arr.flatten(), 0).T    \n",
    "    return arr\n",
    "\n",
    "def get_elevations_from_raster(raster_array_flattened, nbands):\n",
    "   \n",
    "    n, bins, patches = plt.hist(raster_array_flattened, bins=nbands)\n",
    "    plt.close()\n",
    "    tot_pixels = n.sum()\n",
    "#     print(raster_array_flattened.max())\n",
    "#     raster_array_flattened = raster_array_flattened.filled(np.nan)\n",
    "    av_elevation = round(raster_array_flattened.mean(),3)\n",
    "#     av_elevation = raster_array_flattened.mean()\n",
    "    elevation_list = []\n",
    "    for i in range(nbands):\n",
    "        elevation_percentage = n[i] / tot_pixels\n",
    "        elevation_list.append(round(elevation_percentage, 3))\n",
    "    min_elevation = np.min(bins)\n",
    "    max_elevation = np.max(bins)\n",
    "    return elevation_list, bins, min_elevation, max_elevation, av_elevation\n",
    "\n",
    "def get_landuse_from_raster(raster_array_flattened):\n",
    "    n, bins, patches = plt.hist(raster_array_flattened, bins=np.arange(96))\n",
    "    plt.close()\n",
    "    \n",
    "    tot_pixels = n.sum()\n",
    "    \n",
    "    bare = np.sum(n[[12, 22, 22, 24, 31]]) / tot_pixels \n",
    "    forest = np.sum(n[40:46]) / tot_pixels \n",
    "    grass = (np.sum(n[50:83])+ n[21]) /tot_pixels \n",
    "    rip = np.sum(n[[11, 90, 94]]) /tot_pixels  \n",
    "    \n",
    "    \n",
    "\n",
    "    landuse_list = [round(bare,3), round(forest,3), round(grass,3), round(rip,3)] \n",
    "    return landuse_list\n",
    "\n",
    "def generate_shapefiles_per_landuse(landuse, str_path_to_rasterfile, str_path_to_shapefile=None):  \n",
    "        \n",
    "    with rasterio.Env():\n",
    "        if str_path_to_shapefile != None:\n",
    "            with fiona.open(str_path_to_shapefile, crs='epsg:4326') as shapefile:\n",
    "                shapefile = [feature[\"geometry\"] for feature in shapefile]\n",
    "            with rasterio.open(str_path_to_rasterfile) as src:\n",
    "                image, out_transform = rasterio.mask.mask(src, shapefile, crop=True)\n",
    "                image = ma.masked_values(image, 0)\n",
    "                image = image.astype(np.float32)\n",
    "                image = image.filled(np.nan)\n",
    "\n",
    "        else:\n",
    "            with rasterio.open(str_path_to_rasterfile) as src:\n",
    "                image = src.read() # first band\n",
    "        if landuse == 'glacier':\n",
    "            image[(image == 12)] = -9999\n",
    "        if landuse == 'bare':\n",
    "            image[(image == 12) | (image == 22) | (image == 23)  | (image == 24) | (image == 31)] = -9999\n",
    "        if landuse == 'forest':\n",
    "            image[(image == 41) | (image == 42) | (image == 43)] = -9999\n",
    "        if landuse == 'grass':\n",
    "            image[(image == 21) | (image == 51) | (image == 52) | (image == 71) | (image == 72) | (image == 73) | (image == 74) | (image == 81) | (image == 82)] = -9999\n",
    "        if landuse == 'rip':\n",
    "            image[(image == 11) | (image == 90) | (image == 95)] = -9999\n",
    "\n",
    "\n",
    "        if str_path_to_shapefile != None:\n",
    "            results = (\n",
    "            {'properties': {'raster_val': v}, 'geometry': s}\n",
    "            for i, (s, v) \n",
    "            in enumerate(\n",
    "                shapes(image, mask=(image ==-9999), transform= out_transform)))\n",
    "        else:\n",
    "            results = (\n",
    "            {'properties': {'raster_val': v}, 'geometry': s}\n",
    "            for i, (s, v) \n",
    "            in enumerate(\n",
    "                shapes(image, mask=(image ==-9999), transform= src.transform)))            \n",
    "    geoms = list(results)\n",
    "    gpd_polygonized_raster  = gp.GeoDataFrame.from_features(geoms, crs='epsg:4326')\n",
    "    return gpd_polygonized_raster\n",
    "\n",
    "def clip_elevation_per_landuse(gpd_polygonized_raster, str_path_to_elevation, str_path_to_shapefile=None, export_tif=False):\n",
    "    gdf = gpd_polygonized_raster.dissolve()\n",
    "    coords = [json.loads(gdf.to_json())['features'][0]['geometry']] \n",
    "    if str_path_to_shapefile != None:\n",
    "\n",
    "        with fiona.open(str_path_to_shapefile) as shapefile:\n",
    "            shapefile = [feature[\"geometry\"] for feature in shapefile]\n",
    "        with rasterio.open(str_path_to_elevation) as src:\n",
    "#             out_img, out_transform = rasterio.mask.mask(src, shapefile, crop=True)\n",
    "            out_img, out_transform = rasterio.mask.mask(src, coords, crop=True)\n",
    "            out_img = ma.masked_values(out_img, 0)\n",
    "            out_img = out_img.astype(np.float32)\n",
    "            out_img = out_img.filled(np.nan) \n",
    "    \n",
    "    else:\n",
    "        data = rasterio.open(str_path_to_elevation, shapefile=None)\n",
    "        out_img, out_transform = mask(data, shapes=coords)\n",
    "        out_img = np.expand_dims(out_img.flatten(), 0).T\n",
    "        out_img = ma.masked_values(out_img, data.nodata)\n",
    "    \n",
    "    if export_tif == True:\n",
    "        out_meta = data.meta.copy()\n",
    "        with rasterio.open('elevationlanduse.tif', \"w\", **out_meta) as dest:\n",
    "            dest.write(out_img)\n",
    "    \n",
    "    return out_img \n",
    "\n",
    "def generate_landuse_per_elevation(str_path_to_elevation, str_path_to_landuse, str_path_to_shapefile=None, nbands=4):\n",
    "    elevation_array = generate_array_from_raster(str_path_to_elevation, str_path_to_shapefile)\n",
    "    landuse_array = generate_array_from_raster(str_path_to_landuse, str_path_to_shapefile)\n",
    "    \n",
    "    elevation_list, bins, min_elevation, max_elevation, av_elevation = get_elevations_from_raster(elevation_array, nbands=nbands)\n",
    "    landuse_catchment = get_landuse_from_raster(landuse_array)\n",
    "    \n",
    "    tot_elevations = [[elevation_list, landuse_catchment, (max_elevation-min_elevation)/nbands, min_elevation, max_elevation, av_elevation]]\n",
    "    landuse = ['glacier', 'bare', 'forest', 'grass', 'rip']\n",
    "    for x in landuse:\n",
    "        gpd_polygonized_raster = generate_shapefiles_per_landuse(x, str_path_to_landuse, str_path_to_shapefile)\n",
    "        if not gpd_polygonized_raster.empty:\n",
    "            arr = clip_elevation_per_landuse(gpd_polygonized_raster, str_path_to_elevation, str_path_to_shapefile)\n",
    "            raster_array_flattened = np.expand_dims(arr.flatten(), 0).T\n",
    "            elevation_list, bins, min_elevation, max_elevation, av_elevation = get_elevations_from_raster(raster_array_flattened, nbands=nbands)\n",
    "\n",
    "            if x == 'glacier':\n",
    "                tot_elevations.append([elevation_list, list(np.around(np.array(elevation_list)*landuse_catchment[0], 3))]) \n",
    "            else:\n",
    "                tot_elevations.append([elevation_list])\n",
    "\n",
    "#         tot_elevations.append([elevation_list])\n",
    "    return tot_elevations"
   ]
  },
  {
   "cell_type": "code",
   "execution_count": 25,
   "metadata": {},
   "outputs": [],
   "source": [
    "el = generate_landuse_per_elevation(path_to_dem, 'Data/NLCD_2001_Landuse.tif', 'Data/Shapes/Thundercreek.shp')"
   ]
  },
  {
   "cell_type": "code",
   "execution_count": 145,
   "metadata": {},
   "outputs": [
    {
     "data": {
      "text/plain": [
       "[[[0.15, 0.312, 0.416, 0.122],\n",
       "  [0.145, 0.209, 0.098, 0.006],\n",
       "  587.5,\n",
       "  396.0,\n",
       "  2746.0,\n",
       "  1572.369],\n",
       " [[0.001, 0.067, 0.705, 0.227], [0.0, 0.01, 0.102, 0.033]],\n",
       " [[0.001, 0.083, 0.634, 0.281]],\n",
       " [[0.216, 0.395, 0.37, 0.019]],\n",
       " [[0.077, 0.264, 0.546, 0.113]],\n",
       " [[0.645, 0.101, 0.232, 0.023]]]"
      ]
     },
     "execution_count": 145,
     "metadata": {},
     "output_type": "execute_result"
    }
   ],
   "source": [
    "el"
   ]
  },
  {
   "cell_type": "code",
   "execution_count": 6,
   "metadata": {},
   "outputs": [
    {
     "data": {
      "text/plain": [
       "[[[0.15, 0.312, 0.416, 0.122],\n",
       "  [0.317, 0.456, 0.214, 0.013],\n",
       "  587.5,\n",
       "  396.0,\n",
       "  2746.0,\n",
       "  1572.355],\n",
       " [[0.001, 0.067, 0.706, 0.227], [0.0, 0.021, 0.224, 0.072]],\n",
       " [[0.001, 0.083, 0.636, 0.28]],\n",
       " [[0.217, 0.396, 0.368, 0.02]],\n",
       " [[0.077, 0.263, 0.546, 0.114]],\n",
       " [[0.65, 0.096, 0.232, 0.023]]]"
      ]
     },
     "execution_count": 6,
     "metadata": {},
     "output_type": "execute_result"
    }
   ],
   "source": [
    "generate_landuse_per_elevation(\"Data/dem_thundercreek.tif\", \"Data/nlcd_thundercreek.tif\", nbands=4)"
   ]
  },
  {
   "cell_type": "code",
   "execution_count": 82,
   "metadata": {},
   "outputs": [
    {
     "ename": "NameError",
     "evalue": "name 'generate_shapefiles_per_elevation' is not defined",
     "output_type": "error",
     "traceback": [
      "\u001b[1;31m---------------------------------------------------------------------------\u001b[0m",
      "\u001b[1;31mNameError\u001b[0m                                 Traceback (most recent call last)",
      "\u001b[1;32m<ipython-input-82-d0e243d556bb>\u001b[0m in \u001b[0;36m<module>\u001b[1;34m\u001b[0m\n\u001b[1;32m----> 1\u001b[1;33m \u001b[0mgenerate_shapefiles_per_elevation\u001b[0m\u001b[1;33m(\u001b[0m\u001b[1;34m'bare'\u001b[0m\u001b[1;33m,\u001b[0m \u001b[1;34m\"Data/nlcd_thundercreek.tif\"\u001b[0m\u001b[1;33m)\u001b[0m\u001b[1;33m\u001b[0m\u001b[1;33m\u001b[0m\u001b[0m\n\u001b[0m",
      "\u001b[1;31mNameError\u001b[0m: name 'generate_shapefiles_per_elevation' is not defined"
     ]
    }
   ],
   "source": [
    "clip_elevation_per_landuse"
   ]
  },
  {
   "cell_type": "code",
   "execution_count": 83,
   "metadata": {},
   "outputs": [],
   "source": [
    "# generate_landuse_per_elevation(\"Data/dem_thundercreek.tif\", \"Data/nlcd_thundercreek.tif\", nbands=4)"
   ]
  },
  {
   "cell_type": "code",
   "execution_count": 140,
   "metadata": {},
   "outputs": [],
   "source": [
    "# x, = generate_shapefiles_per_landuse('bare', \"Data/NLCD_2001_Landuse.tif\", \"Data/Shapes/Thundercreek.shp\")\n",
    "# s.to_file('MyGeometries.shp', driver='ESRI Shapefile')\n"
   ]
  },
  {
   "cell_type": "code",
   "execution_count": 87,
   "metadata": {},
   "outputs": [],
   "source": [
    "y = generate_shapefiles_per_landuse('bare', \"Data/nlcd_thundercreek.tif\")\n",
    "y.to_file('MyGeometries2.shp', driver='ESRI Shapefile')"
   ]
  },
  {
   "cell_type": "code",
   "execution_count": null,
   "metadata": {},
   "outputs": [],
   "source": []
  },
  {
   "cell_type": "code",
   "execution_count": 40,
   "metadata": {},
   "outputs": [
    {
     "data": {
      "text/plain": [
       "(755465, 695520)"
      ]
     },
     "execution_count": 40,
     "metadata": {},
     "output_type": "execute_result"
    }
   ],
   "source": [
    "len(generate_array_from_raster(\"Data/nlcd_thundercreek.tif\")), len(generate_array_from_raster(\"Data/NLCD_2001_Landuse.tif\", \"Data/Shapes/Thundercreek.shp\"))\n"
   ]
  },
  {
   "cell_type": "code",
   "execution_count": 199,
   "metadata": {},
   "outputs": [
    {
     "data": {
      "text/plain": [
       "[{'type': 'Polygon',\n",
       "  'coordinates': [[[-121.0375, 48.4958],\n",
       "    [-121.056, 48.5106],\n",
       "    [-121.0994, 48.5161],\n",
       "    [-121.1258, 48.5316],\n",
       "    [-121.131, 48.544],\n",
       "    [-121.1368, 48.5537],\n",
       "    [-121.1731, 48.5685],\n",
       "    [-121.1875, 48.575],\n",
       "    [-121.1856, 48.594],\n",
       "    [-121.1727, 48.5977],\n",
       "    [-121.1653, 48.6069],\n",
       "    [-121.156, 48.6144],\n",
       "    [-121.1429, 48.636],\n",
       "    [-121.15, 48.6417],\n",
       "    [-121.1386, 48.6549],\n",
       "    [-121.1231, 48.6606],\n",
       "    [-121.08, 48.6671],\n",
       "    [-121.0641, 48.6808],\n",
       "    [-121.0495, 48.6978],\n",
       "    [-121.035, 48.6883],\n",
       "    [-121.0366, 48.6691],\n",
       "    [-121.0304, 48.6486],\n",
       "    [-121.015, 48.6308],\n",
       "    [-121.0061, 48.6231],\n",
       "    [-120.9815, 48.5945],\n",
       "    [-120.9391, 48.5888],\n",
       "    [-120.9252, 48.5899],\n",
       "    [-120.9061, 48.5856],\n",
       "    [-120.8944, 48.579],\n",
       "    [-120.8583, 48.5819],\n",
       "    [-120.8324, 48.5704],\n",
       "    [-120.8232, 48.5539],\n",
       "    [-120.8227, 48.5478],\n",
       "    [-120.825, 48.5458],\n",
       "    [-120.8526, 48.5515],\n",
       "    [-120.8622, 48.5317],\n",
       "    [-120.8886, 48.5407],\n",
       "    [-120.9005, 48.5283],\n",
       "    [-120.907, 48.523],\n",
       "    [-120.9419, 48.5319],\n",
       "    [-120.9604, 48.5308],\n",
       "    [-120.952, 48.5146],\n",
       "    [-120.948, 48.4983],\n",
       "    [-121.0375, 48.4958]]]}]"
      ]
     },
     "execution_count": 199,
     "metadata": {},
     "output_type": "execute_result"
    }
   ],
   "source": [
    "with fiona.open(\"Data/Shapes/Thundercreek.shp\", crs='epsg:4326') as shapefile:\n",
    "    shapefile = [feature[\"geometry\"] for feature in shapefile]\n",
    "y = gpd.read_file(\"Data/Shapes/Thundercreek.shp\")\n",
    "# y = y.to_crs(crs='epsg:4326')\n",
    "# f = [json.loads(y.to_json())['features'][0]['geometry']]\n",
    "# f\n",
    "def getFeatures(gdf):\n",
    "    \"\"\"Function to parse features from GeoDataFrame in such a manner that rasterio wants them\"\"\"\n",
    "    import json\n",
    "    return [json.loads(gdf.to_json())['features'][0]['geometry']]\n",
    "getFeatures(y)"
   ]
  },
  {
   "cell_type": "code",
   "execution_count": 99,
   "metadata": {},
   "outputs": [],
   "source": [
    "with rasterio.Env():\n",
    "\n",
    "    with fiona.open(\"Data/Shapes/Thundercreek.shp\", \"r\") as shapefile:\n",
    "        shapefile = [feature[\"geometry\"] for feature in shapefile]\n",
    "    with rasterio.open(\"Data/NLCD_2001_Landuse.tif\") as src:\n",
    "        image, out_transform = rasterio.mask.mask(src, shapefile, crop=True, nodata=-111)\n",
    "        out_meta = src.meta\n",
    "#         image = image[image != -99999]  \n",
    "    out_meta.update({\"driver\": \"GTiff\",\n",
    "                     \"height\": image.shape[1],\n",
    "                     \"width\": image.shape[2],\n",
    "                     \"transform\": out_transform})\n",
    "\n",
    "#     with rasterio.open(\"masked_image.tif\", \"w\", **out_meta, crs='epsg:4326') as dest:\n",
    "#         dest.write(image)\n",
    "\n",
    "    with rasterio.open(\"Data/nlcd_thundercreek.tif\") as src:\n",
    "        image2 = src.read() # first band"
   ]
  },
  {
   "cell_type": "code",
   "execution_count": 132,
   "metadata": {},
   "outputs": [
    {
     "data": {
      "text/plain": [
       "{'driver': 'GTiff',\n",
       " 'dtype': 'uint8',\n",
       " 'nodata': None,\n",
       " 'width': 1120,\n",
       " 'height': 621,\n",
       " 'count': 1,\n",
       " 'crs': CRS.from_wkt('GEOGCS[\"WGS 84\",DATUM[\"World Geodetic System 1984\",SPHEROID[\"WGS 84\",6378137,298.257223563]],PRIMEM[\"Greenwich\",0],UNIT[\"degree\",0.0174532925199433,AUTHORITY[\"EPSG\",\"9122\"]],AXIS[\"Latitude\",NORTH],AXIS[\"Longitude\",EAST]]'),\n",
       " 'transform': Affine(0.0003258720163717725, 0.0, -121.18759845756873,\n",
       "        0.0, -0.0003258720163695927, 48.69795605607634)}"
      ]
     },
     "execution_count": 132,
     "metadata": {},
     "output_type": "execute_result"
    }
   ],
   "source": [
    "out_meta"
   ]
  },
  {
   "cell_type": "code",
   "execution_count": 125,
   "metadata": {},
   "outputs": [
    {
     "data": {
      "text/plain": [
       "((1, 621, 1120), (1, 695, 1087), (1, 621, 1120))"
      ]
     },
     "execution_count": 125,
     "metadata": {},
     "output_type": "execute_result"
    }
   ],
   "source": [
    "image.shape, image2.shape, image3.shape"
   ]
  },
  {
   "cell_type": "code",
   "execution_count": 101,
   "metadata": {},
   "outputs": [],
   "source": [
    "image3 = image.astype(np.float32)"
   ]
  },
  {
   "cell_type": "code",
   "execution_count": 90,
   "metadata": {},
   "outputs": [
    {
     "data": {
      "image/png": "[encoded data removed]",
      "text/plain": [
       "<Figure size 432x288 with 1 Axes>"
      ]
     },
     "metadata": {
      "needs_background": "light"
     },
     "output_type": "display_data"
    }
   ],
   "source": [
    "n, bins, patches = plt.hist(image2[image2>0], bins=np.arange(96))"
   ]
  },
  {
   "cell_type": "code",
   "execution_count": 102,
   "metadata": {},
   "outputs": [
    {
     "data": {
      "text/plain": [
       "array([[[145., 145., 145., ..., 145., 145., 145.],\n",
       "        [145., 145., 145., ..., 145., 145., 145.],\n",
       "        [145., 145., 145., ..., 145., 145., 145.],\n",
       "        ...,\n",
       "        [145., 145., 145., ..., 145., 145., 145.],\n",
       "        [145., 145., 145., ..., 145., 145., 145.],\n",
       "        [145., 145., 145., ..., 145., 145., 145.]]], dtype=float32)"
      ]
     },
     "execution_count": 102,
     "metadata": {},
     "output_type": "execute_result"
    }
   ],
   "source": [
    "image3"
   ]
  },
  {
   "cell_type": "code",
   "execution_count": null,
   "metadata": {},
   "outputs": [],
   "source": []
  }
 ],
 "metadata": {
  "kernelspec": {
   "display_name": "Python 3",
   "language": "python",
   "name": "python3"
  },
  "language_info": {
   "codemirror_mode": {
    "name": "ipython",
    "version": 3
   },
   "file_extension": ".py",
   "mimetype": "text/x-python",
   "name": "python",
   "nbconvert_exporter": "python",
   "pygments_lexer": "ipython3",
   "version": "3.7.6"
  }
 },
 "nbformat": 4,
 "nbformat_minor": 4
}
