{
 "cells": [
  {
   "cell_type": "code",
   "execution_count": 2,
   "metadata": {},
   "outputs": [],
   "source": [
    "from Climate_analysis import *\n",
    "from warnings import filterwarnings\n",
    "from scipy import stats\n",
    "\n",
    "filterwarnings(action='ignore', category=DeprecationWarning, message='`np.bool` is a deprecated alias')"
   ]
  },
  {
   "cell_type": "markdown",
   "metadata": {},
   "source": [
    "## Load Calibration results\n"
   ]
  },
  {
   "cell_type": "code",
   "execution_count": 3,
   "metadata": {},
   "outputs": [],
   "source": [
    "calibration_results = pd.read_csv('output_kawishiwi/paramsets_kawishiwi.csv', index_col=0)\n",
    "parameters = calibration_results.iloc[0, -20:]\n"
   ]
  },
  {
   "cell_type": "markdown",
   "metadata": {},
   "source": [
    "## Run Validation"
   ]
  },
  {
   "cell_type": "code",
   "execution_count": 4,
   "metadata": {},
   "outputs": [],
   "source": [
    "# validation_results, simulations, evaporation = run_validation(calibration_results)\n",
    "# validation_results.to_csv('output_kawishiwi/validation_era5.csv')\n",
    "# simulations.to_csv('Data/Kawishiwi/HBVmountain_simulations_ERA5_kawishiwi.csv')\n",
    "# evaporation.to_csv('Data/Kawishiwi/HBVmountain_evaporation_ERA5_kawishiwi.csv')\n",
    "\n",
    "era5_simulation = pd.read_csv('Data/Kawishiwi/HBVmountain_simulations_ERA5_kawishiwi.csv', index_col=0)\n",
    "era5_simulation.index = pd.to_datetime(era5_simulation.index)\n",
    "era5_simulation = pd.DataFrame(era5_simulation.rolling(window=7).mean())\n",
    "\n",
    "evaporation = pd.read_csv('Data/Kawishiwi/HBVmountain_evaporation_ERA5_kawishiwi.csv', index_col=0, parse_dates=True)\n",
    "evaporation.index = pd.to_datetime(evaporation.index)"
   ]
  },
  {
   "cell_type": "code",
   "execution_count": 5,
   "metadata": {},
   "outputs": [],
   "source": [
    "calibration = pd.read_csv('output_kawishiwi/paramsets_kawishiwi.csv')\n",
    "calibration.reset_index(inplace=True)\n",
    "\n",
    "validation  = pd.read_csv('output_kawishiwi/validation_era5.csv').iloc[: , :6]\n",
    "validation.rename(columns={\"ED\": \"ED_val\", \"NSE\": \"NSE_val\", \"logNSE\": \"logNSE_val\", \"NSEfdc\": \"NSEfdc_val\", \"NSErunoff\": \"NSErunoff_val\"}, inplace=True)\n",
    "\n",
    "calval_paramsets =  pd.concat([calibration.iloc[: , :6], validation], axis=1)\n",
    "\n",
    "# calval_paramsets = calval_paramsets.loc[calval_paramsets.ED_val <=0.4]\n",
    "\n",
    "calval_results = calibration_results.loc[calibration.index.isin(calval_paramsets.loc[calval_paramsets.ED_val < 0.66].index)]\n",
    "calval_results.to_csv('calval_results.csv')\n",
    "\n",
    "calval_results = pd.read_csv('calval_results.csv', index_col=0)\n",
    "era5_simulation = era5_simulation.iloc[:, calval_results.index.values]\n",
    "evaporation = evaporation.iloc[:, calval_results.index.values]"
   ]
  },
  {
   "cell_type": "code",
   "execution_count": 32,
   "metadata": {},
   "outputs": [
    {
     "data": {
      "text/plain": [
       "4.266039544793438"
      ]
     },
     "execution_count": 32,
     "metadata": {},
     "output_type": "execute_result"
    }
   ],
   "source": [
    "# era5_simulation.mean(axis=1).max()\n",
    "hist.mean(axis=1).max()"
   ]
  },
  {
   "cell_type": "markdown",
   "metadata": {},
   "source": [
    "### Run climate simulations"
   ]
  },
  {
   "cell_type": "code",
   "execution_count": 6,
   "metadata": {},
   "outputs": [],
   "source": [
    "# dfhist = run_climate_simulations(calval_results, 'Data/Kawishiwi/HBVmountain_GFDL-CM4_Kawishiwi_1975_2005.nc')\n",
    "# df245 = run_climate_simulations(calval_results, 'Data/Kawishiwi/HBVmountain_GFDL-CM4_Kawishiwi_2067_2100_ssp245.nc')\n",
    "# df585 = run_climate_simulations(calval_results, 'Data/Kawishiwi/HBVmountain_GFDL-CM4_Kawishiwi_2067_2100_ssp585.nc')\n",
    "\n",
    "# dfhist.to_csv('Data/climate_simulations_GFDL-CM4_kawishiwi_hist.csv')\n",
    "# df245.to_csv('Data/climate_simulations_GFDL-CM4_kawishiwi_ssp245.csv')\n",
    "# df585.to_csv('Data/climate_simulations_GfDL-CM4_kawishiwi_ssp585.csv')\n",
    "\n",
    "# dfhist = run_climate_simulations(calval_results, 'Data/Kawishiwi/HBVmountain_MPI-ESM1-2-HR_Kawishiwi_1975_2005.nc')\n",
    "# df245 = run_climate_simulations(calval_results, 'Data/Kawishiwi/HBVmountain_MPI-ESM1-2-HR_Kawishiwi_2067_2100_ssp245.nc')\n",
    "# df585 = run_climate_simulations(calval_results, 'Data/Kawishiwi/HBVmountain_MPI-ESM1-2-HR_Kawishiwi_2067_2100_ssp585.nc')\n",
    "\n",
    "# dfhist.to_csv('Data/climate_simulations_MPI-ESM1-2-HR_kawishiwi_hist.csv')\n",
    "# df245.to_csv('Data/climate_simulations_MPI-ESM1-2-HR_kawishiwi_ssp245.csv')\n",
    "# df585.to_csv('Data/climate_simulations_MPI-ESM1-2-HR_kawishiwi_ssp585.csv')"
   ]
  },
  {
   "cell_type": "code",
   "execution_count": 7,
   "metadata": {},
   "outputs": [],
   "source": [
    "# dfhist_bc = run_climate_simulations_biascorrected(calval_results, 'Data/Kawishiwi/HBVmountain_GFDL-CM4_Kawishiwi_1975_2005.nc',\n",
    "#                                            'Data/Kawishiwi/HBVmountain_ERA5_Kawishiwi_1986_2005.nc', 'Data/Kawishiwi/HBVmountain_GFDL-CM4_Kawishiwi_1975_2005.nc')\n",
    "# dfhist_bc.to_csv('Data/climate_simulations_GFDL-CM4_kawishiwi_hist_bc.csv')\n",
    "# df245_bc = run_climate_simulations_biascorrected(calval_results, 'Data/Kawishiwi/HBVmountain_GFDL-CM4_Kawishiwi_2067_2100_ssp245.nc',\n",
    "#                                            'Data/Kawishiwi/HBVmountain_ERA5_Kawishiwi_1986_2005.nc', 'Data/Kawishiwi/HBVmountain_GFDL-CM4_Kawishiwi_1975_2005.nc')\n",
    "# df245_bc.to_csv('Data/climate_simulations_GFDL-CM4_kawishiwi_ssp245_bc.csv')\n",
    "\n",
    "# df585_bc = run_climate_simulations_biascorrected(calval_results, 'Data/Kawishiwi/HBVmountain_GFDL-CM4_Kawishiwi_2067_2100_ssp585.nc',\n",
    "#                                            'Data/Kawishiwi/HBVmountain_ERA5_Kawishiwi_1986_2005.nc', 'Data/Kawishiwi/HBVmountain_GFDL-CM4_Kawishiwi_1975_2005.nc')\n",
    "# df585_bc.to_csv('Data/climate_simulations_GFDL-CM4_kawishiwi_ssp585_bc.csv')\n",
    "\n",
    "\n",
    "\n",
    "\n",
    "# dfhist_bc = run_climate_simulations_biascorrected(calval_results, 'Data/Kawishiwi/HBVmountain_MPI-ESM1-2-HR_Kawishiwi_1975_2005.nc',\n",
    "#                                            'Data/Kawishiwi/HBVmountain_ERA5_Kawishiwi_1986_2005.nc', 'Data/Kawishiwi/HBVmountain_MPI-ESM1-2-HR_Kawishiwi_1975_2005.nc')\n",
    "# dfhist_bc.to_csv('Data/climate_simulations_MPI-ESM1-2-HR_kawishiwi_hist_bc.csv')\n",
    "\n",
    "# df245_bc = run_climate_simulations_biascorrected(calval_results, 'Data/Kawishiwi/HBVmountain_MPI-ESM1-2-HR_Kawishiwi_2067_2100_ssp245.nc',\n",
    "#                                            'Data/Kawishiwi/HBVmountain_ERA5_Kawishiwi_1986_2005.nc', 'Data/Kawishiwi/HBVmountain_MPI-ESM1-2-HR_Kawishiwi_1975_2005.nc')\n",
    "# df245_bc.to_csv('Data/climate_simulations_MPI-ESM1-2-HR_kawishiwi_ssp245_bc.csv')\n",
    "\n",
    "# df585_bc = run_climate_simulations_biascorrected(calval_results, 'Data/Kawishiwi/HBVmountain_MPI-ESM1-2-HR_Kawishiwi_2067_2100_ssp585.nc',\n",
    "#                                            'Data/Kawishiwi/HBVmountain_ERA5_Kawishiwi_1986_2005.nc', 'Data/Kawishiwi/HBVmountain_MPI-ESM1-2-HR_Kawishiwi_1975_2005.nc')\n",
    "# df585_bc.to_csv('Data/climate_simulations_MPI-ESM1-2-HR_kawishiwi_ssp585_bc.csv')"
   ]
  },
  {
   "cell_type": "markdown",
   "metadata": {},
   "source": [
    "### Load Forcing"
   ]
  },
  {
   "cell_type": "code",
   "execution_count": 8,
   "metadata": {},
   "outputs": [],
   "source": [
    "ERA5_forcing = nc.Dataset('Data/Kawishiwi/HBVmountain_ERA5_Kawishiwi_1986_2005.nc')\n",
    "ERA5_forcing = generate_forcing_from_NETCDF(ERA5_forcing)\n",
    "ERA5_forcing.index = pd.to_datetime(ERA5_forcing.index)\n",
    "\n",
    "hist_gfdl_forcing =  nc.Dataset('Data/Kawishiwi/HBVmountain_GFDL-CM4_Kawishiwi_1975_2005.nc')\n",
    "hist_gfdl_forcing = generate_forcing_from_NETCDF(hist_gfdl_forcing)\n",
    "hist_gfdl_forcing.index = pd.to_datetime(hist_gfdl_forcing.index)\n",
    "\n",
    "ssp245_gfdl_forcing =  nc.Dataset('Data/Kawishiwi/HBVmountain_GFDL-CM4_Kawishiwi_2067_2100_ssp245.nc')\n",
    "ssp245_gfdl_forcing = generate_forcing_from_NETCDF(ssp245_gfdl_forcing)\n",
    "ssp245_gfdl_forcing.index = pd.to_datetime(ssp245_gfdl_forcing.index)\n",
    "\n",
    "ssp585_gfdl_forcing =  nc.Dataset('Data/Kawishiwi/HBVmountain_GFDL-CM4_Kawishiwi_2067_2100_ssp585.nc')\n",
    "ssp585_gfdl_forcing = generate_forcing_from_NETCDF(ssp585_gfdl_forcing)\n",
    "ssp585_gfdl_forcing.index = pd.to_datetime(ssp585_gfdl_forcing.index)\n",
    "\n",
    "hist_mpi_forcing =  nc.Dataset('Data/Kawishiwi/HBVmountain_MPI-ESM1-2-HR_Kawishiwi_1975_2005.nc')\n",
    "hist_mpi_forcing = generate_forcing_from_NETCDF(hist_mpi_forcing)\n",
    "hist_mpi_forcing.index = pd.to_datetime(hist_mpi_forcing.index)\n",
    "\n",
    "ssp245_mpi_forcing =  nc.Dataset('Data/Kawishiwi/HBVmountain_MPI-ESM1-2-HR_Kawishiwi_2067_2100_ssp245.nc')\n",
    "ssp245_mpi_forcing = generate_forcing_from_NETCDF(ssp245_mpi_forcing)\n",
    "ssp245_mpi_forcing.index = pd.to_datetime(ssp245_mpi_forcing.index)\n",
    "\n",
    "ssp585_mpi_forcing =  nc.Dataset('Data/Kawishiwi/HBVmountain_MPI-ESM1-2-HR_Kawishiwi_2067_2100_ssp585.nc')\n",
    "ssp585_mpi_forcing = generate_forcing_from_NETCDF(ssp585_mpi_forcing)\n",
    "ssp585_mpi_forcing.index = pd.to_datetime(ssp585_mpi_forcing.index)"
   ]
  },
  {
   "cell_type": "markdown",
   "metadata": {},
   "source": [
    "### Load GRDC observations"
   ]
  },
  {
   "cell_type": "code",
   "execution_count": 9,
   "metadata": {},
   "outputs": [
    {
     "data": {
      "text/plain": [
       "streamflow    4829.057663\n",
       "dtype: float64"
      ]
     },
     "execution_count": 9,
     "metadata": {},
     "output_type": "execute_result"
    }
   ],
   "source": [
    "observation = pd.read_csv('Data/Kawishiwi/Discharge_Kawishiwi.csv', index_col=0) /(657.9 * 1e6) * 1000 *86400\n",
    "observation.index = pd.to_datetime(observation.index)\n",
    "# observation = pd.DataFrame(observation['streamflow'].rolling(window=7).mean())\n",
    "\n",
    "observation.head(10)\n",
    "observation.sum()"
   ]
  },
  {
   "cell_type": "code",
   "execution_count": 10,
   "metadata": {},
   "outputs": [
    {
     "data": {
      "text/plain": [
       "(-13.460875511169434, 18.425024032592773)"
      ]
     },
     "execution_count": 10,
     "metadata": {},
     "output_type": "execute_result"
    }
   ],
   "source": [
    "forcing = nc.Dataset('Data/Kawishiwi/HBVmountain_ERA5_Kawishiwi_1986_2005.nc')\n",
    "forcing = generate_forcing_from_NETCDF(forcing)\n",
    "forcing.index = pd.to_datetime(forcing.index)\n",
    "an_forcing = forcing.groupby(forcing.index.strftime(\"%m\")).mean()\n",
    "\n",
    "an_forcing.temp.min(), an_forcing.temp.max()"
   ]
  },
  {
   "cell_type": "markdown",
   "metadata": {},
   "source": [
    "### Load climate simulations\n"
   ]
  },
  {
   "cell_type": "code",
   "execution_count": 11,
   "metadata": {},
   "outputs": [],
   "source": [
    "simulations_GFDL_CM4_historical = pd.read_csv('Data/Kawishiwi/climate_simulations_GFDL-CM4_kawishiwi_hist.csv', index_col=[0])\n",
    "simulations_GFDL_CM4_historical.index = pd.to_datetime(simulations_GFDL_CM4_historical.index)\n",
    "simulations_GFDL_CM4_historical = pd.DataFrame(simulations_GFDL_CM4_historical.rolling(window=7).mean())\n",
    "\n",
    "simulations_GFDL_CM4_ssp245 = pd.read_csv('Data/Kawishiwi/climate_simulations_GFDL-CM4_kawishiwi_ssp245.csv', index_col=[0])\n",
    "simulations_GFDL_CM4_ssp245.index = pd.to_datetime(simulations_GFDL_CM4_ssp245.index)\n",
    "simulations_GFDL_CM4_ssp245 = pd.DataFrame(simulations_GFDL_CM4_ssp245.rolling(window=7).mean())\n",
    "\n",
    "simulations_GFDL_CM4_ssp585 = pd.read_csv('Data/Kawishiwi/climate_simulations_GFDL-CM4_kawishiwi_ssp585.csv', index_col=[0])\n",
    "simulations_GFDL_CM4_ssp585.index = pd.to_datetime(simulations_GFDL_CM4_ssp585.index)\n",
    "simulations_GFDL_CM4_ssp585 = pd.DataFrame(simulations_GFDL_CM4_ssp585.rolling(window=7).mean())\n",
    "\n",
    "simulations_MPI_ESM1_2_HR_historical = pd.read_csv('Data/Kawishiwi/climate_simulations_MPI-ESM1-2-HR_kawishiwi_hist.csv', index_col=[0])\n",
    "simulations_MPI_ESM1_2_HR_historical.index = pd.to_datetime(simulations_MPI_ESM1_2_HR_historical.index)\n",
    "simulations_MPI_ESM1_2_HR_historical = pd.DataFrame(simulations_MPI_ESM1_2_HR_historical.rolling(window=7).mean())\n",
    "\n",
    "simulations_MPI_ESM1_2_HR_ssp245 = pd.read_csv('Data/Kawishiwi/climate_simulations_MPI-ESM1-2-HR_kawishiwi_ssp245.csv', index_col=[0])\n",
    "simulations_MPI_ESM1_2_HR_ssp245.index = pd.to_datetime(simulations_MPI_ESM1_2_HR_ssp245.index)\n",
    "simulations_MPI_ESM1_2_HR_ssp245 = pd.DataFrame(simulations_MPI_ESM1_2_HR_ssp245.rolling(window=7).mean())\n",
    "\n",
    "simulations_MPI_ESM1_2_HR_ssp585 = pd.read_csv('Data/Kawishiwi/climate_simulations_MPI-ESM1-2-HR_kawishiwi_ssp585.csv', index_col=[0])\n",
    "simulations_MPI_ESM1_2_HR_ssp585.index = pd.to_datetime(simulations_MPI_ESM1_2_HR_ssp585.index)\n",
    "simulations_MPI_ESM1_2_HR_ssp585 = pd.DataFrame(simulations_MPI_ESM1_2_HR_ssp585.rolling(window=7).mean())"
   ]
  },
  {
   "cell_type": "code",
   "execution_count": 12,
   "metadata": {},
   "outputs": [],
   "source": [
    "simulations_GFDL_CM4_historical_bc = pd.read_csv('Data/Kawishiwi/climate_simulations_GFDL-CM4_kawishiwi_hist_bc.csv', index_col=[0])\n",
    "simulations_GFDL_CM4_historical_bc.index = pd.to_datetime(simulations_GFDL_CM4_historical_bc.index)\n",
    "simulations_GFDL_CM4_historical_bc = pd.DataFrame(simulations_GFDL_CM4_historical_bc.rolling(window=7).mean())\n",
    "\n",
    "simulations_GFDL_CM4_ssp245_bc = pd.read_csv('Data/Kawishiwi/climate_simulations_GFDL-CM4_kawishiwi_ssp245_bc.csv', index_col=[0])\n",
    "simulations_GFDL_CM4_ssp245_bc.index = pd.to_datetime(simulations_GFDL_CM4_ssp245_bc.index)\n",
    "simulations_GFDL_CM4_ssp245_bc = pd.DataFrame(simulations_GFDL_CM4_ssp245_bc.rolling(window=7).mean())\n",
    "\n",
    "simulations_GFDL_CM4_ssp585_bc = pd.read_csv('Data/Kawishiwi/climate_simulations_GFDL-CM4_kawishiwi_ssp585_bc.csv', index_col=[0])\n",
    "simulations_GFDL_CM4_ssp585_bc.index = pd.to_datetime(simulations_GFDL_CM4_ssp585_bc.index)\n",
    "simulations_GFDL_CM4_ssp585_bc = pd.DataFrame(simulations_GFDL_CM4_ssp585_bc.rolling(window=7).mean())\n",
    "\n",
    "simulations_MPI_ESM1_2_HR_historical_bc = pd.read_csv('Data/Kawishiwi/climate_simulations_MPI-ESM1-2-HR_kawishiwi_hist_bc.csv', index_col=[0])\n",
    "simulations_MPI_ESM1_2_HR_historical_bc.index = pd.to_datetime(simulations_MPI_ESM1_2_HR_historical_bc.index)\n",
    "simulations_MPI_ESM1_2_HR_historical_bc = pd.DataFrame(simulations_MPI_ESM1_2_HR_historical_bc.rolling(window=7).mean())\n",
    "\n",
    "simulations_MPI_ESM1_2_HR_ssp245_bc = pd.read_csv('Data/Kawishiwi/climate_simulations_MPI-ESM1-2-HR_kawishiwi_ssp245_bc.csv', index_col=[0])\n",
    "simulations_MPI_ESM1_2_HR_ssp245_bc.index = pd.to_datetime(simulations_MPI_ESM1_2_HR_ssp245_bc.index)\n",
    "simulations_MPI_ESM1_2_HR_ssp245_bc = pd.DataFrame(simulations_MPI_ESM1_2_HR_ssp245_bc.rolling(window=7).mean())\n",
    "\n",
    "simulations_MPI_ESM1_2_HR_ssp585_bc = pd.read_csv('Data/Kawishiwi/climate_simulations_MPI-ESM1-2-HR_kawishiwi_ssp585_bc.csv', index_col=[0])\n",
    "simulations_MPI_ESM1_2_HR_ssp585_bc.index = pd.to_datetime(simulations_MPI_ESM1_2_HR_ssp585_bc.index)\n",
    "simulations_MPI_ESM1_2_HR_ssp585_bc = pd.DataFrame(simulations_MPI_ESM1_2_HR_ssp585_bc.rolling(window=7).mean())"
   ]
  },
  {
   "cell_type": "markdown",
   "metadata": {},
   "source": [
    "## Cal/val results"
   ]
  },
  {
   "cell_type": "code",
   "execution_count": 13,
   "metadata": {},
   "outputs": [
    {
     "data": {
      "text/plain": [
       "(0.5909339633221078, 0.36092193072794776)"
      ]
     },
     "execution_count": 13,
     "metadata": {},
     "output_type": "execute_result"
    }
   ],
   "source": [
    "calval_paramsets = calval_paramsets.loc[calval_paramsets.ED_val < 0.66]\n",
    "calval_paramsets.mean() , calval_results.NSErunoff.mean()\n",
    "1-calval_paramsets.ED.mean(), 1-calval_paramsets.ED_val.mean()"
   ]
  },
  {
   "cell_type": "markdown",
   "metadata": {},
   "source": [
    "# Analysis"
   ]
  },
  {
   "cell_type": "code",
   "execution_count": 14,
   "metadata": {},
   "outputs": [],
   "source": [
    "daily_simulations_GFDL_CM4_historical_bc = simulations_GFDL_CM4_historical_bc.groupby(simulations_GFDL_CM4_historical_bc.index.strftime(\"%m-%d\")).mean()\n",
    "daily_simulations_GFDL_CM4_historical = simulations_GFDL_CM4_historical.groupby(simulations_GFDL_CM4_historical.index.strftime(\"%m-%d\")).mean()\n",
    "daily_simulations_MPI_ESM1_2_HR_historical = simulations_MPI_ESM1_2_HR_historical.groupby(simulations_MPI_ESM1_2_HR_historical.index.strftime(\"%m-%d\")).mean()\n",
    "daily_simulations_MPI_ESM1_2_HR_historical_bc = simulations_MPI_ESM1_2_HR_historical_bc.groupby(simulations_MPI_ESM1_2_HR_historical_bc.index.strftime(\"%m-%d\")).mean()\n",
    "\n",
    "\n",
    "daily_observation = observation.groupby(observation.index.strftime(\"%m-%d\")).mean()\n",
    "daily_era5_simulation = era5_simulation.groupby(era5_simulation.index.strftime(\"%m-%d\")).mean()\n",
    "\n",
    "daily_simulations_GFDL_CM4_ssp245_bc = simulations_GFDL_CM4_ssp245_bc.groupby(simulations_GFDL_CM4_ssp245_bc.index.strftime(\"%m-%d\")).mean()\n",
    "daily_simulations_GFDL_CM4_ssp245 = simulations_GFDL_CM4_ssp245.groupby(simulations_GFDL_CM4_ssp245.index.strftime(\"%m-%d\")).mean()\n",
    "daily_simulations_MPI_ESM1_2_HR_ssp245 = simulations_MPI_ESM1_2_HR_ssp245.groupby(simulations_MPI_ESM1_2_HR_ssp245.index.strftime(\"%m-%d\")).mean()\n",
    "\n",
    "daily_simulations_GFDL_CM4_ssp585_bc = simulations_GFDL_CM4_ssp585_bc.groupby(simulations_GFDL_CM4_ssp585_bc.index.strftime(\"%m-%d\")).mean()\n",
    "daily_simulations_GFDL_CM4_ssp585 = simulations_GFDL_CM4_ssp585.groupby(simulations_GFDL_CM4_ssp585.index.strftime(\"%m-%d\")).mean()\n",
    "daily_simulations_MPI_ESM1_2_HR_ssp585 = simulations_MPI_ESM1_2_HR_ssp585.groupby(simulations_MPI_ESM1_2_HR_ssp585.index.strftime(\"%m-%d\")).mean()"
   ]
  },
  {
   "cell_type": "code",
   "execution_count": 35,
   "metadata": {},
   "outputs": [
    {
     "data": {
      "text/plain": [
       "(241.62987906976747, 225.43354009898636)"
      ]
     },
     "execution_count": 35,
     "metadata": {},
     "output_type": "execute_result"
    },
    {
     "data": {
      "image/png": "[encoded data removed]",
      "text/plain": [
       "<Figure size 360x216 with 1 Axes>"
      ]
     },
     "metadata": {
      "needs_background": "light"
     },
     "output_type": "display_data"
    }
   ],
   "source": [
    "plt.rcParams[\"figure.figsize\"] = (5, 3)\n",
    "\n",
    "# daily_simulations_GFDL_CM4_historical.mean(axis=1).plot(color='r', linestyle='--', alpha=0.4, label='GFDL-CM4')\n",
    "# daily_simulations_GFDL_CM4_historical_bc.mean(axis=1).plot(color='r', label='GFDL-CM4, Bias corrected')\n",
    "\n",
    "# daily_simulations_MPI_ESM1_2_HR_historical.mean(axis=1).plot(color='b' , linestyle='--' , alpha=0.4, label='MPI-ESM1-2-HR')\n",
    "# daily_simulations_MPI_ESM1_2_HR_historical_bc.mean(axis=1).plot(color='b', label='MPI-ESM1-2-HR, Bias corrected')\n",
    "daily_era5_simulation.mean(axis=1).plot(color='grey', label='ERA5 Simulation')\n",
    "\n",
    "\n",
    "daily_observation.mean(axis=1).plot(color='k', label='Observation')\n",
    "plt.legend()\n",
    "\n",
    "# plt.plot(daily_simulations_GFDL_CM4_historical_bc)\n",
    "plt.legend()\n",
    "plt.ylabel('mm day-1')\n",
    "plt.xlabel(' (month-day)')\n",
    "daily_observation.mean(axis=1).sum(), daily_era5_simulation.mean(axis=1).sum()"
   ]
  },
  {
   "cell_type": "code",
   "execution_count": 16,
   "metadata": {},
   "outputs": [
    {
     "name": "stdout",
     "output_type": "stream",
     "text": [
      "0.5387927880864949 0.4846167666064867 0.9299586996271582 0.42866263764876883 0.5482732798153818\n",
      "0.47493962985438753 0.3244340023655424 0.9470759089943115 0.17209550017432923 0.402572307361193\n"
     ]
    }
   ],
   "source": [
    "cal_df = pd.DataFrame(columns=['ED','nse','lognse', 'nseFDC', 'nse_runoff'])\n",
    "val_df = pd.DataFrame(columns=['ED','nse','lognse', 'nseFDC', 'nse_runoff'])\n",
    "for i in range(len(era5_simulation.columns)):\n",
    "    cal_list = multi_objective(era5_simulation.loc[(era5_simulation.index.year > 1988) & (era5_simulation.index.year < 1999)].iloc[:,i], \n",
    "                                                          observation.loc[(observation.index.year > 1988) & (observation.index.year < 1999)].streamflow, ERA5_forcing.prec)\n",
    "    val_list = multi_objective(era5_simulation.loc[(era5_simulation.index.year >= 1999)].iloc[:,i], \n",
    "                                                      observation.loc[(observation.index.year >= 1999)].streamflow, ERA5_forcing.prec)\n",
    "    cal_df.loc[len(cal_df)] = cal_list\n",
    "    val_df.loc[len(val_df)] = val_list\n",
    "print(cal_df.nse.mean(), cal_df.lognse.mean(), cal_df.nseFDC.mean(), cal_df.nse_runoff.mean(),1-cal_df.ED.mean())\n",
    "print(val_df.nse.mean(), val_df.lognse.mean(), val_df.nseFDC.mean(), val_df.nse_runoff.mean(),1-val_df.ED.mean())"
   ]
  },
  {
   "cell_type": "code",
   "execution_count": 24,
   "metadata": {},
   "outputs": [
    {
     "data": {
      "text/plain": [
       "<matplotlib.axes._subplots.AxesSubplot at 0x19fe76fd188>"
      ]
     },
     "execution_count": 24,
     "metadata": {},
     "output_type": "execute_result"
    },
    {
     "data": {
      "image/png": "[encoded data removed]",
      "text/plain": [
       "<Figure size 360x216 with 1 Axes>"
      ]
     },
     "metadata": {
      "needs_background": "light"
     },
     "output_type": "display_data"
    }
   ],
   "source": [
    "era5_simulation.loc[(era5_simulation.index.year>1990) & (era5_simulation.index.year<1999) ].mean(axis=1).plot()\n",
    "observation.loc[(observation.index.year>1990) & (observation.index.year<1999) ].mean(axis=1).plot()"
   ]
  },
  {
   "cell_type": "code",
   "execution_count": 27,
   "metadata": {},
   "outputs": [
    {
     "data": {
      "text/plain": [
       "<matplotlib.legend.Legend at 0x1a0001bd788>"
      ]
     },
     "execution_count": 27,
     "metadata": {},
     "output_type": "execute_result"
    },
    {
     "data": {
      "image/png": "[encoded data removed]",
      "text/plain": [
       "<Figure size 360x216 with 1 Axes>"
      ]
     },
     "metadata": {
      "needs_background": "light"
     },
     "output_type": "display_data"
    }
   ],
   "source": [
    "era5_simulation.loc[era5_simulation.index.year>1998].mean(axis=1).plot(label='sim')\n",
    "observation.loc[observation.index.year>1998].mean(axis=1).plot(label='obs')\n",
    "plt.legend()"
   ]
  },
  {
   "cell_type": "code",
   "execution_count": 26,
   "metadata": {},
   "outputs": [],
   "source": [
    "cumsum_obs = observation.streamflow.groupby(observation.index.strftime(\"%y\")).sum()\n",
    "cumsum_prec = ERA5_forcing.loc[ERA5_forcing.index.year<=2005].prec.groupby(ERA5_forcing.loc[ERA5_forcing.index.year<=2005].index.strftime(\"%y\")).sum()\n",
    "cumsum_evap = evaporation.mean(axis=1).groupby(evaporation.index.strftime(\"%y\")).sum()\n",
    "\n",
    "tot = cumsum_prec -cumsum_evap - cumsum_obs\n",
    "tot.to_csv('waterbalance_kawishiwi.csv')"
   ]
  },
  {
   "cell_type": "markdown",
   "metadata": {},
   "source": [
    "## modelled streamflow 2000"
   ]
  },
  {
   "cell_type": "code",
   "execution_count": null,
   "metadata": {},
   "outputs": [],
   "source": [
    "plt.figure(figsize=[5,3])\n",
    "sim_2000 = era5_simulation.loc[era5_simulation.index.year == 2001]\n",
    "obs_2000 = observation.loc[observation.index.year == 2001]\n",
    "\n",
    "sim_2000.mean(axis=1).plot(color='r', label='ERA5 simulated')\n",
    "obs_2000.mean(axis=1).plot(color='b', label='Observed', alpha=0.7)\n",
    "plt.fill_between(sim_2000.index, sim_2000.min(axis=1), sim_2000.max(axis=1), color='r', alpha=0.3)\n",
    "# plt.ylabel('mm day-1', fontsize=13)\n",
    "plt.title('Kawishiwi', fontsize=15)\n",
    "plt.xlabel('')\n",
    "# plt.legend()"
   ]
  },
  {
   "cell_type": "markdown",
   "metadata": {},
   "source": [
    "## Boxplots"
   ]
  },
  {
   "cell_type": "code",
   "execution_count": null,
   "metadata": {},
   "outputs": [],
   "source": [
    "def create_monthly_boxplots(simulations_hist, simulations_ssp245, simulations_ssp585):\n",
    "    fig, axarr = plt.subplots(figsize=(7,4))\n",
    "\n",
    "    hist = simulations_hist.groupby(simulations_hist.index.strftime(\"%y-%m\")).sum()\n",
    "    hist['mean'] = hist.mean(axis=1)\n",
    "    hist['month'] = hist.index.str[3:]\n",
    "    hist.boxplot(by='month', column='mean', ax=axarr, positions=np.array(range(12))*3.0-0.8, sym='', widths=0.6, color='k')\n",
    "\n",
    "    ssp245 = simulations_ssp245.groupby(simulations_ssp245.index.strftime(\"%y-%m\")).sum()\n",
    "    ssp245['mean'] = ssp245.mean(axis=1)\n",
    "    ssp245['month'] = ssp245.index.str[3:]\n",
    "    ssp245.boxplot(by='month', column='mean', ax=axarr, sym='', positions=np.array(range(12))*3.0, widths=0.6, color='b')\n",
    "\n",
    "    ssp585 = simulations_ssp585.groupby(simulations_ssp585.index.strftime(\"%y-%m\")).sum()\n",
    "    ssp585['mean'] = ssp585.mean(axis=1)\n",
    "    ssp585['month'] = ssp585.index.str[3:]\n",
    "    ssp585.boxplot(by='month', column='mean', ax=axarr, positions=np.array(range(12))*3.0+0.8, sym='', widths=0.6, color='r')\n",
    "    \n",
    "    ticks = ['Jan', 'Feb', 'Mar', 'Apr', 'May', 'Jun', 'Jul', 'Aug', 'Sep', 'Oct', 'Nov', 'Dec']\n",
    "    fig.suptitle('')\n",
    "    plt.xticks(range(0, 12 * 3, 3), ticks)"
   ]
  },
  {
   "cell_type": "code",
   "execution_count": null,
   "metadata": {},
   "outputs": [],
   "source": [
    "simulations_MPI_ESM1_2_HR_historical_bc = simulations_MPI_ESM1_2_HR_historical_bc.add_suffix('_MPI_ESM1_2_HR')\n",
    "simulations_MPI_ESM1_2_HR_ssp245_bc = simulations_MPI_ESM1_2_HR_ssp245_bc.add_suffix('_MPI_ESM1_2_HR')\n",
    "simulations_MPI_ESM1_2_HR_ssp585_bc = simulations_MPI_ESM1_2_HR_ssp585_bc.add_suffix('_MPI_ESM1_2_HR')\n",
    "\n",
    "hist = pd.concat([simulations_GFDL_CM4_historical_bc, simulations_MPI_ESM1_2_HR_historical_bc], axis=1)\n",
    "ssp245 = pd.concat([simulations_MPI_ESM1_2_HR_ssp245_bc, simulations_MPI_ESM1_2_HR_ssp245_bc], axis=1)\n",
    "ssp585 = pd.concat([simulations_GFDL_CM4_ssp585_bc, simulations_MPI_ESM1_2_HR_ssp585_bc], axis=1)\n",
    "\n",
    "create_monthly_boxplots(hist, ssp245,\n",
    "                        ssp585)\n",
    "plt.title('Kawishiwi', fontsize=16)\n",
    "plt.plot([], 'k', label='Historical')\n",
    "plt.plot([], 'b', label='SSP245')\n",
    "plt.plot([], 'r', label='SSP585')\n",
    "plt.xlabel('')\n",
    "plt.ylabel('Streamflow [mm month-1]')\n",
    "# plt.xticks([])\n",
    "# plt.legend()"
   ]
  },
  {
   "cell_type": "code",
   "execution_count": 29,
   "metadata": {},
   "outputs": [],
   "source": [
    "def relative_change_monthly(reference, future):\n",
    "    months = np.arange(1,13)\n",
    "    index = np.arange(1,13)\n",
    "    change = []\n",
    "\n",
    "    for i in range(len(months)):\n",
    "        hist = reference.loc[reference.index.month == months[i]].mean(axis=1).sum()\n",
    "        projection = future.loc[future.index.month == months[i]].mean(axis=1).sum()\n",
    "        rel_change = (projection-hist) / hist * 100\n",
    "        change.append([index[i],rel_change])\n",
    "    return change "
   ]
  },
  {
   "cell_type": "code",
   "execution_count": 30,
   "metadata": {},
   "outputs": [],
   "source": [
    "simulations_MPI_ESM1_2_HR_historical_bc = simulations_MPI_ESM1_2_HR_historical_bc.add_suffix('_MPI_ESM1_2_HR')\n",
    "simulations_MPI_ESM1_2_HR_ssp245_bc = simulations_MPI_ESM1_2_HR_ssp245_bc.add_suffix('_MPI_ESM1_2_HR')\n",
    "simulations_MPI_ESM1_2_HR_ssp585_bc = simulations_MPI_ESM1_2_HR_ssp585_bc.add_suffix('_MPI_ESM1_2_HR')\n",
    "\n",
    "hist = pd.concat([simulations_GFDL_CM4_historical_bc, simulations_MPI_ESM1_2_HR_historical_bc], axis=1)\n",
    "ssp245 = pd.concat([simulations_MPI_ESM1_2_HR_ssp245_bc, simulations_MPI_ESM1_2_HR_ssp245_bc], axis=1)\n",
    "ssp585 = pd.concat([simulations_GFDL_CM4_ssp585_bc, simulations_MPI_ESM1_2_HR_ssp585_bc], axis=1)\n",
    "\n",
    "hist_prec = pd.concat([hist_gfdl_forcing.prec, hist_mpi_forcing.prec], axis=1)\n",
    "ssp245_prec = pd.concat([ssp245_gfdl_forcing.prec, ssp245_mpi_forcing.prec], axis=1)\n",
    "ssp585_prec = pd.concat([ssp585_gfdl_forcing.prec, ssp585_mpi_forcing.prec], axis=1)\n",
    "\n",
    "hist_temp = pd.concat([hist_gfdl_forcing.temp, hist_mpi_forcing.temp], axis=1)\n",
    "ssp245_temp = pd.concat([ssp245_gfdl_forcing.temp, ssp245_mpi_forcing.temp], axis=1)\n",
    "ssp585_temp = pd.concat([ssp585_gfdl_forcing.temp, ssp585_mpi_forcing.temp], axis=1)\n",
    "\n",
    "relative_change_streamflow_ssp245 = relative_change_monthly(hist, ssp245)\n",
    "relative_change_streamflow_ssp585 = relative_change_monthly(hist, ssp585)\n",
    "\n",
    "relative_change_prec_ssp245 = relative_change_monthly(hist_prec, ssp245_prec)\n",
    "relative_change_prec_ssp585 = relative_change_monthly(hist_prec, ssp585_prec)\n",
    "\n",
    "relative_change_temp_ssp245 = relative_change_monthly(hist_temp, ssp245_temp)\n",
    "relative_change_temp_ssp585 = relative_change_monthly(hist_temp, ssp585_temp)"
   ]
  },
  {
   "cell_type": "code",
   "execution_count": null,
   "metadata": {},
   "outputs": [],
   "source": [
    "plt.figure(figsize=[6,3])\n",
    "\n",
    "x1,y1 = zip(*relative_change_streamflow_ssp585)\n",
    "x2,y2 = zip(*relative_change_prec_ssp585)\n",
    "x3,y3 = zip(*relative_change_temp_ssp585)\n",
    "\n",
    "plt.bar(np.array(x1)-0.15, y1, width = 0.3, label='Streamflow', color='grey')\n",
    "plt.bar(np.array(x2)+0.15, y2, width = 0.3, label='Precipitation', color='blue')\n",
    "# plt.bar(np.array(x3)+0.2, y3, width = 0.2, label='Temperature', color='r')\n",
    "#setting the xticks. Note x1 and x2 are tuples, thus + is concatenation\n",
    "plt.xticks(range(min(x1+x2), max(x1+x2)+1)) \n",
    "plt.grid()\n",
    "plt.title('Kawishiwi')\n",
    "# plt.ylim((-50,120))\n",
    "plt.ylabel('Relative change [%]')\n",
    "# plt.xticks([1, 2, 3, 4], ['Winter', 'Spring', 'Summer', 'Autumn'])\n",
    "# plt.legend()\n",
    "plt.ylim((-70,260))\n",
    "ticks = ['Jan', 'Feb', 'Mar', 'Apr', 'May', 'Jun', 'Jul', 'Aug', 'Sep', 'Oct', 'Nov', 'Dec']\n",
    "plt.xticks(range(1, 13), ticks)\n",
    "plt.show()"
   ]
  },
  {
   "cell_type": "code",
   "execution_count": null,
   "metadata": {},
   "outputs": [],
   "source": [
    "months = np.arange(1,13)\n",
    "index = np.arange(1,13)\n",
    "change = []\n",
    "\n",
    "for i in range(len(months)):\n",
    "    ref = hist_temp.loc[hist_temp.index.month == months[i]].mean(axis=1).mean()\n",
    "    projection = ssp585_temp.loc[ssp585_temp.index.month == months[i]].mean(axis=1).mean()\n",
    "    change.append(projection-ref)\n",
    "\n",
    "x, y = zip(*relative_change_streamflow_ssp585)\n",
    "\n",
    "plt.plot(change,y, 'o')"
   ]
  },
  {
   "cell_type": "code",
   "execution_count": null,
   "metadata": {},
   "outputs": [],
   "source": [
    "months = np.arange(1,13)\n",
    "index = np.arange(1,13)\n",
    "change = []\n",
    "\n",
    "for i in range(len(months)):\n",
    "    ref = hist_temp.loc[hist_temp.index.month == months[i]].mean(axis=1).mean()\n",
    "    projection = ssp585_temp.loc[ssp585_temp.index.month == months[i]].mean(axis=1).mean()\n",
    "    change.append(projection-ref)\n",
    "\n",
    "x, y = zip(*relative_change_streamflow_ssp585)\n",
    "x, dprec = zip(*relative_change_prec_ssp585)\n",
    "\n",
    "output = pd.DataFrame({'streamflow_change': y, 'dprec': dprec, 'dT': change})\n",
    "\n",
    "output.to_csv('streamflow_vs_temp_kawishiwi.csv')\n",
    "# plt.plot(change,y, 'o')\n",
    "output"
   ]
  },
  {
   "cell_type": "markdown",
   "metadata": {},
   "source": [
    "## FDC"
   ]
  },
  {
   "cell_type": "code",
   "execution_count": null,
   "metadata": {},
   "outputs": [],
   "source": [
    "plt.figure(figsize=[4,3])\n",
    "SortedQ_hist, ExcProb_hist = flowdurationcurve(hist.mean(axis=1).values)\n",
    "SortedQ_ssp245, ExcProb_ssp245 = flowdurationcurve(ssp245.mean(axis=1).values)\n",
    "SortedQ_ssp585, ExcProb_ssp585 = flowdurationcurve(ssp585.mean(axis=1).values)\n",
    "\n",
    "plt.plot(ExcProb_hist, SortedQ_hist, color='k', label='Historical')\n",
    "plt.plot(ExcProb_ssp245, SortedQ_ssp245, color='b', label='SSP245')\n",
    "plt.plot(ExcProb_ssp585, SortedQ_ssp585, color='r', label='SSP585')\n",
    "\n",
    "\n",
    "# plt.xscale('log')\n",
    "plt.grid()\n",
    "# plt.legend()\n",
    "plt.ylabel('Streamflow [mm d-1]')\n",
    "plt.xlabel('Exceedance probability [-]')\n",
    "plt.title('Kawishiwi', fontsize=15)"
   ]
  },
  {
   "cell_type": "markdown",
   "metadata": {},
   "source": [
    "## Relative change seasonal prec + temp"
   ]
  },
  {
   "cell_type": "code",
   "execution_count": null,
   "metadata": {},
   "outputs": [],
   "source": [
    "prec_hist_bothmodels = (hist_gfdl_forcing.prec.groupby(hist_gfdl_forcing.index.month).mean() +hist_mpi_forcing.prec.groupby(hist_mpi_forcing.index.month).mean()) / 2\n",
    "prec_ssp245_bothmodels = (ssp245_gfdl_forcing.prec.groupby(ssp245_gfdl_forcing.index.month).mean() +ssp245_mpi_forcing.prec.groupby(ssp245_mpi_forcing.index.month).mean()) / 2\n",
    "prec_ssp585_bothmodels = (ssp585_gfdl_forcing.prec.groupby(ssp585_gfdl_forcing.index.month).mean() +ssp585_mpi_forcing.prec.groupby(ssp585_mpi_forcing.index.month).mean()) / 2\n",
    "\n",
    "\n",
    "rel_dif_prec_ssp245 = (prec_ssp245_bothmodels - prec_hist_bothmodels) / prec_hist_bothmodels*100\n",
    "rel_dif_prec_ssp585 = (prec_ssp585_bothmodels - prec_hist_bothmodels) / prec_hist_bothmodels*100\n",
    "\n",
    "\n",
    "\n",
    "temp_hist_bothmodels = (hist_gfdl_forcing.temp.groupby(hist_gfdl_forcing.index.month).mean() +hist_mpi_forcing.temp.groupby(hist_mpi_forcing.index.month).mean()) / 2\n",
    "temp_ssp245_bothmodels = (ssp245_gfdl_forcing.temp.groupby(ssp245_gfdl_forcing.index.month).mean() +ssp245_mpi_forcing.temp.groupby(ssp245_mpi_forcing.index.month).mean()) / 2\n",
    "temp_ssp585_bothmodels = (ssp585_gfdl_forcing.temp.groupby(ssp585_gfdl_forcing.index.month).mean() +ssp585_mpi_forcing.temp.groupby(ssp585_mpi_forcing.index.month).mean()) / 2\n",
    "\n",
    "abs_dif_temp_ssp245 = (temp_ssp245_bothmodels - temp_hist_bothmodels) \n",
    "abs_dif_temp_ssp585 = (temp_ssp585_bothmodels - temp_hist_bothmodels) "
   ]
  },
  {
   "cell_type": "code",
   "execution_count": null,
   "metadata": {},
   "outputs": [],
   "source": [
    "fig = plt.figure(figsize=[4,3]) # Create matplotlib figure\n",
    "\n",
    "ax = fig.add_subplot(111) # Create matplotlib axes\n",
    "\n",
    "plt.plot(rel_dif_prec_ssp245, color='b', linestyle='--', alpha=0.6)\n",
    "plt.plot(rel_dif_prec_ssp585, color='b', alpha=0.6)\n",
    "\n",
    "\n",
    "ax2=ax.twinx()\n",
    "ax2.plot(abs_dif_temp_ssp245,color=\"r\", linestyle='--', alpha=0.6, label='SSP245')\n",
    "ax2.plot(abs_dif_temp_ssp585,color=\"r\", alpha=0.6, label='SSP585')\n",
    "ax2.set_ylabel(\"ΔT [°C]\",color=\"r\")\n",
    "ax.set_ylabel('ΔP [%]', color='b')\n",
    "ticks = ['J', 'F', 'M', 'A', 'M', 'J', 'J', 'A', 'S', 'O', 'N', 'D']\n",
    "plt.xticks(range(1, 13), ticks)\n",
    "plt.grid()\n",
    "plt.title(\"Kawishiwi\", fontsize=12)\n",
    "plt.show()"
   ]
  },
  {
   "cell_type": "markdown",
   "metadata": {},
   "source": [
    "## Changes in extremes"
   ]
  },
  {
   "cell_type": "code",
   "execution_count": null,
   "metadata": {},
   "outputs": [],
   "source": [
    "hist_14day = hist.mean(axis=1).groupby(pd.Grouper(freq='7D')).mean()\n",
    "ssp245_14day = ssp245.mean(axis=1).groupby(pd.Grouper(freq='7D')).mean()\n",
    "ssp585_14day = ssp585.mean(axis=1).groupby(pd.Grouper(freq='7D')).mean()"
   ]
  },
  {
   "cell_type": "code",
   "execution_count": null,
   "metadata": {},
   "outputs": [],
   "source": [
    "min_hist_14day = hist_14day.loc[hist_14day.index.year> hist_14day.index[0].year].groupby(hist_14day.loc[hist_14day.index.year> hist_14day.index[0].year].index.strftime(\"%y\")).min()\n",
    "min_ssp245_14day = ssp245_14day.loc[ssp245_14day.index.year> ssp245_14day.index[0].year].groupby(ssp245_14day.loc[ssp245_14day.index.year> ssp245_14day.index[0].year].index.strftime(\"%y\")).min()\n",
    "min_ssp585_14day = ssp585_14day.loc[ssp585_14day.index.year> ssp585_14day.index[0].year].groupby(ssp585_14day.loc[ssp585_14day.index.year> ssp585_14day.index[0].year].index.strftime(\"%y\")).min()\n",
    "\n",
    "\n",
    "plt.figure(figsize=[4,3])\n",
    "\n",
    "bplot1 = plt.boxplot(min_hist_14day, patch_artist=True,  positions=np.array(range(1))*3.0-0.4)\n",
    "bplot2 = plt.boxplot(min_ssp245_14day, patch_artist=True,  positions=np.array(range(1))*3.0)\n",
    "bplot3 = plt.boxplot(min_ssp585_14day, patch_artist=True, positions=np.array(range(1))*3.0+0.4)\n",
    "\n",
    "\n",
    "colors = ['black', 'blue', 'red']\n",
    "for patch, color in zip(bplot1['boxes'], colors):\n",
    "    patch.set_facecolor('black') \n",
    "for patch, color in zip(bplot2['boxes'], colors):\n",
    "    patch.set_facecolor('blue') \n",
    "for patch, color in zip(bplot3['boxes'], colors):\n",
    "    patch.set_facecolor('red') \n",
    "    \n",
    "ticks = ['Hist', 'SSP245', 'SSP585']\n",
    "plt.xticks([-0.4, 0, 0.4], ticks)\n",
    "plt.grid(axis='y')\n",
    "plt.title('Kawishiwi', fontsize=15)\n",
    "plt.ylabel('min streamflow [mm day-1]')"
   ]
  },
  {
   "cell_type": "code",
   "execution_count": null,
   "metadata": {},
   "outputs": [],
   "source": [
    "max_hist_14day = hist_14day.loc[hist_14day.index.year> hist_14day.index[0].year].groupby(hist_14day.loc[hist_14day.index.year> hist_14day.index[0].year].index.strftime(\"%y\")).max()\n",
    "max_ssp245_14day = ssp245_14day.loc[ssp245_14day.index.year> ssp245_14day.index[0].year].groupby(ssp245_14day.loc[ssp245_14day.index.year> ssp245_14day.index[0].year].index.strftime(\"%y\")).max()\n",
    "max_ssp585_14day = ssp585_14day.loc[ssp585_14day.index.year> ssp585_14day.index[0].year].groupby(ssp585_14day.loc[ssp585_14day.index.year> ssp585_14day.index[0].year].index.strftime(\"%y\")).max()\n",
    "\n",
    "\n",
    "plt.figure(figsize=[4,3])\n",
    "\n",
    "bplot1 = plt.boxplot(max_hist_14day, patch_artist=True,  positions=np.array(range(1))*3.0-0.4)\n",
    "bplot2 = plt.boxplot(max_ssp245_14day, patch_artist=True,  positions=np.array(range(1))*3.0)\n",
    "bplot3 = plt.boxplot(max_ssp585_14day, patch_artist=True, positions=np.array(range(1))*3.0+0.4)\n",
    "\n",
    "for patch, color in zip(bplot1['boxes'], colors):\n",
    "    patch.set_facecolor('black') \n",
    "for patch, color in zip(bplot2['boxes'], colors):\n",
    "    patch.set_facecolor('blue') \n",
    "for patch, color in zip(bplot3['boxes'], colors):\n",
    "    patch.set_facecolor('red') \n",
    "    \n",
    "ticks = ['Hist', 'SSP245', 'SSP585']\n",
    "plt.xticks([-0.4, 0, 0.4], ticks)\n",
    "plt.grid(axis='y')\n",
    "plt.title('Kawishiwi', fontsize=15)\n",
    "plt.ylabel('max streamflow [mm day-1]')"
   ]
  },
  {
   "cell_type": "code",
   "execution_count": null,
   "metadata": {},
   "outputs": [],
   "source": [
    "(max_ssp245_14day.median() - max_hist_14day.median()) / max_hist_14day.median() * 100, (max_ssp585_14day.median() - max_hist_14day.median()) / max_hist_14day.median() * 100"
   ]
  },
  {
   "cell_type": "markdown",
   "metadata": {},
   "source": [
    "### Timing"
   ]
  },
  {
   "cell_type": "code",
   "execution_count": null,
   "metadata": {},
   "outputs": [],
   "source": [
    "hist_yearly_max = pd.to_datetime(pd.DataFrame(hist_14day.loc[(hist_14day.index.year>hist_14day.index[0].year)]).resample('1y')[0].idxmax().values)\n",
    "hist_yearly_max_doy = np.array([dt.timetuple().tm_yday for dt in hist_yearly_max])\n",
    "hist_max_doy_stat = [stats.circmean(hist_yearly_max_doy, high=365), stats.circstd(hist_yearly_max_doy, high=365)]\n",
    "\n",
    "ssp245_yearly_max = pd.to_datetime(pd.DataFrame(ssp245_14day.loc[(ssp245_14day.index.year>ssp245_14day.index[0].year)]).resample('1y')[0].idxmax().values)\n",
    "ssp245_yearly_max_doy = np.array([dt.timetuple().tm_yday for dt in ssp245_yearly_max])\n",
    "ssp245_max_doy_stat = [stats.circmean(ssp245_yearly_max_doy, high=365), stats.circstd(ssp245_yearly_max_doy, high=365)]\n",
    "\n",
    "ssp585_yearly_max = pd.to_datetime(pd.DataFrame(ssp585_14day.loc[(ssp585_14day.index.year>ssp585_14day.index[0].year)]).resample('1y')[0].idxmax().values)\n",
    "ssp585_yearly_max_doy = np.array([dt.timetuple().tm_yday for dt in ssp585_yearly_max])\n",
    "ssp585_max_doy_stat = [stats.circmean(ssp585_yearly_max_doy, high=365), stats.circstd(ssp585_yearly_max_doy, high=365)]\n",
    "print(hist_max_doy_stat, ssp245_max_doy_stat, ssp585_max_doy_stat)"
   ]
  },
  {
   "cell_type": "code",
   "execution_count": null,
   "metadata": {},
   "outputs": [],
   "source": [
    "hist_yearly_min = pd.to_datetime(pd.DataFrame(hist_14day.loc[(hist_14day.index.year>hist_14day.index[0].year)]).resample('1y')[0].idxmin().values)\n",
    "hist_yearly_min_doy = np.array([dt.timetuple().tm_yday for dt in hist_yearly_min])\n",
    "hist_min_doy_stat = [stats.circmean(hist_yearly_min_doy, high=365), stats.circstd(hist_yearly_min_doy, high=365)]\n",
    "\n",
    "ssp245_yearly_min = pd.to_datetime(pd.DataFrame(ssp245_14day.loc[(ssp245_14day.index.year>ssp245_14day.index[0].year)]).resample('1y')[0].idxmin().values)\n",
    "ssp245_yearly_min_doy = np.array([dt.timetuple().tm_yday for dt in ssp245_yearly_min])\n",
    "ssp245_min_doy_stat = [stats.circmean(ssp245_yearly_min_doy, high=365), stats.circstd(ssp245_yearly_min_doy, high=365)]\n",
    "\n",
    "ssp585_yearly_min = pd.to_datetime(pd.DataFrame(ssp585_14day.loc[(ssp585_14day.index.year>ssp585_14day.index[0].year)]).resample('1y')[0].idxmin().values)\n",
    "ssp585_yearly_min_doy = np.array([dt.timetuple().tm_yday for dt in ssp585_yearly_min])\n",
    "ssp585_min_doy_stat = [stats.circmean(ssp585_yearly_min_doy, high=365), stats.circstd(ssp585_yearly_min_doy, high=365)]\n",
    "print(hist_min_doy_stat, ssp245_min_doy_stat, ssp585_min_doy_stat)"
   ]
  },
  {
   "cell_type": "code",
   "execution_count": null,
   "metadata": {},
   "outputs": [],
   "source": [
    "reference = stats.circmean(hist_yearly_min_doy, high=365)\n",
    "delta_ssp245 = stats.circmean(ssp245_yearly_min_doy, high=365) - reference\n",
    "delta_ssp585 = stats.circmean(ssp585_yearly_min_doy, high=365) - reference\n",
    "\n",
    "delta_ssp245, delta_ssp585"
   ]
  },
  {
   "cell_type": "code",
   "execution_count": null,
   "metadata": {},
   "outputs": [],
   "source": [
    "reference = stats.circmean(hist_yearly_max_doy, high=365)\n",
    "delta_ssp245 = stats.circmean(ssp245_yearly_max_doy, high=365) - reference\n",
    "delta_ssp585 = stats.circmean(ssp585_yearly_max_doy, high=365) - reference\n",
    "\n",
    "delta_ssp245, delta_ssp585"
   ]
  },
  {
   "cell_type": "code",
   "execution_count": null,
   "metadata": {},
   "outputs": [],
   "source": [
    "def distance(len_my_list, idx_1, idx_2):\n",
    "    i = (idx_1 - idx_2) % len_my_list\n",
    "    j = (idx_2 - idx_1) % len_my_list\n",
    "    return min(i, j)\n",
    "distance(365, reference, stats.circmean(ssp245_yearly_min_doy, high=365)), distance(365, reference, stats.circmean(ssp585_yearly_min_doy, high=365))"
   ]
  },
  {
   "cell_type": "code",
   "execution_count": null,
   "metadata": {},
   "outputs": [],
   "source": []
  },
  {
   "cell_type": "code",
   "execution_count": null,
   "metadata": {},
   "outputs": [],
   "source": []
  }
 ],
 "metadata": {
  "kernelspec": {
   "display_name": "Python 3",
   "language": "python",
   "name": "python3"
  },
  "language_info": {
   "codemirror_mode": {
    "name": "ipython",
    "version": 3
   },
   "file_extension": ".py",
   "mimetype": "text/x-python",
   "name": "python",
   "nbconvert_exporter": "python",
   "pygments_lexer": "ipython3",
   "version": "3.7.6"
  }
 },
 "nbformat": 4,
 "nbformat_minor": 4
}
