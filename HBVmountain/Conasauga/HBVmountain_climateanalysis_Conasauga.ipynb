{
 "cells": [
  {
   "cell_type": "code",
   "execution_count": 1,
   "metadata": {},
   "outputs": [],
   "source": [
    "from Climate_analysis import *\n",
    "from warnings import filterwarnings\n",
    "from scipy import stats\n",
    "\n",
    "\n",
    "filterwarnings(action='ignore', category=DeprecationWarning, message='`np.bool` is a deprecated alias')"
   ]
  },
  {
   "cell_type": "markdown",
   "metadata": {},
   "source": [
    "## Load Calibration results\n"
   ]
  },
  {
   "cell_type": "code",
   "execution_count": 5,
   "metadata": {},
   "outputs": [],
   "source": [
    "calibration_results = pd.read_csv('output_conasauga/paramsets_conasauga_era5.csv', index_col=0)\n",
    "parameters = calibration_results.iloc[0, -20:]"
   ]
  },
  {
   "cell_type": "markdown",
   "metadata": {},
   "source": [
    "## Run Validation"
   ]
  },
  {
   "cell_type": "code",
   "execution_count": 6,
   "metadata": {},
   "outputs": [],
   "source": [
    "# validation_results, simulations, evaporation = run_validation(calibration_results)\n",
    "# validation_results.to_csv('output_conasauga/validation_era5.csv')\n",
    "# simulations.to_csv('Data/Conasauga/HBVmountain_simulations_ERA5_conasauga.csv')\n",
    "# evaporation.to_csv('Data/Conasauga/HBVmountain_evaporation_ERA5_conasauga.csv')\n",
    "\n",
    "\n",
    "validation_simulation = pd.read_csv('Data/Conasauga/HBVmountain_simulations_ERA5_conasauga.csv', index_col=0)\n",
    "validation_simulation.index = pd.to_datetime(validation_simulation.index)\n",
    "validation_simulation = pd.DataFrame(validation_simulation.rolling(window=7).mean())\n",
    "\n",
    "validation_evaporation = pd.read_csv('Data/Conasauga/HBVmountain_evaporation_ERA5_conasauga.csv', index_col=0, parse_dates=True)\n",
    "validation_evaporation.index = pd.to_datetime(validation_evaporation.index)"
   ]
  },
  {
   "cell_type": "code",
   "execution_count": 7,
   "metadata": {},
   "outputs": [],
   "source": [
    "# calibration = pd.read_csv('output_conasauga/paramsets_conasauga_era5.csv')\n",
    "# calibration.reset_index(inplace=True)\n",
    "\n",
    "# validation  = pd.read_csv('output_conasauga/validation_era5.csv').iloc[: , :6]\n",
    "# validation.rename(columns={\"ED\": \"ED_val\", \"NSE\": \"NSE_val\", \"logNSE\": \"logNSE_val\", \"NSEfdc\": \"NSEfdc_val\", \"NSErunoff\": \"NSErunoff_val\"}, inplace=True)\n",
    "\n",
    "# calval_paramsets =  pd.concat([calibration.iloc[: , :6], validation], axis=1)\n",
    "\n",
    "\n",
    "# calval_results = calibration.loc[calibration.index.isin(calval_paramsets.loc[calval_paramsets.ED_val < 0.4].index)]\n",
    "# calval_results = calibration.loc[calibration['ED'].isin(calibration.ED.nsmallest(20))]\n",
    "# calval_results.to_csv('Data/Conasauga/calval_results.csv')\n",
    "\n",
    "\n",
    "calval_results = pd.read_csv('Data/Conasauga/calval_results.csv', index_col=0)\n",
    "era5_simulation = validation_simulation.iloc[:, calval_results.index.values]\n",
    "evaporation = validation_evaporation.iloc[:, calval_results.index.values]"
   ]
  },
  {
   "cell_type": "markdown",
   "metadata": {},
   "source": [
    "## Run Climate simulations"
   ]
  },
  {
   "cell_type": "code",
   "execution_count": 6,
   "metadata": {},
   "outputs": [],
   "source": [
    "# dfhist = run_climate_simulations(calval_results, 'Data/Conasauga/HBVmountain_GFDL-CM4_Conasauga_1975_2005.nc')\n",
    "# df245 = run_climate_simulations(calval_results, 'Data/Conasauga/HBVmountain_GFDL-CM4_Conasauga_2067_2100_ssp245.nc')\n",
    "# df585 = run_climate_simulations(calval_results, 'Data/Conasauga/HBVmountain_GFDL-CM4_Conasauga_2067_2100_ssp585.nc')\n",
    "\n",
    "# dfhist.to_csv('climate_simulations_GFDL-CM4_conasauga_hist_bc.csv')\n",
    "# df245.to_csv('climate_simulations_GFDL-CM4_conasauga_ssp245_bc.csv')\n",
    "# df585.to_csv('climate_simulations_GFDL-CM4_conasauga_ssp585_bc.csv')\n",
    "\n",
    "# dfhist = run_climate_simulations(calval_results, 'Data/Conasauga/HBVmountain_MPI-ESM1-2-HR_Conasauga_1975_2005.nc')\n",
    "# df245 = run_climate_simulations(calval_results, 'Data/Conasauga/HBVmountain_MPI-ESM1-2-HR_Conasauga_2067_2100_ssp245.nc')\n",
    "# df585 = run_climate_simulations(calval_results, 'Data/Conasauga/HBVmountain_MPI-ESM1-2-HR_Conasauga_2067_2100_ssp585.nc')\n",
    "\n",
    "# dfhist.to_csv('climate_simulations_MPI-ESM1-2-HR_conasauga_hist_bc.csv')\n",
    "# df245.to_csv('climate_simulations_MPI-ESM1-2-HR_conasauga_ssp245_bc.csv')\n",
    "# df585.to_csv('climate_simulations_MPI-ESM1-2-HR_conasauga_ssp585_bc.csv')"
   ]
  },
  {
   "cell_type": "code",
   "execution_count": 7,
   "metadata": {},
   "outputs": [],
   "source": [
    "dfhist_bc = run_climate_simulations_biascorrected(calval_results, 'Data/Conasauga/HBVmountain_GFDL-CM4_Conasauga_1975_2005.nc',\n",
    "                                           'Data/Conasauga/HBVmountain_ERA5_Conasauga_1986_2005.nc', 'Data/Conasauga/HBVmountain_GFDL-CM4_Conasauga_1975_2005.nc')\n",
    "dfhist_bc.to_csv('Data/climate_simulations_GFDL-CM4_conasauga_hist_bc.csv')\n",
    "df245_bc = run_climate_simulations_biascorrected(calval_results, 'Data/Conasauga/HBVmountain_GFDL-CM4_Conasauga_2067_2100_ssp245.nc',\n",
    "                                           'Data/Conasauga/HBVmountain_ERA5_Conasauga_1986_2005.nc', 'Data/Conasauga/HBVmountain_GFDL-CM4_Conasauga_1975_2005.nc')\n",
    "df245_bc.to_csv('Data/climate_simulations_GFDL-CM4_conasauga_ssp245_bc.csv')\n",
    "\n",
    "df585_bc = run_climate_simulations_biascorrected(calval_results, 'Data/Conasauga/HBVmountain_GFDL-CM4_Conasauga_2067_2100_ssp585.nc',\n",
    "                                           'Data/Conasauga/HBVmountain_ERA5_Conasauga_1986_2005.nc', 'Data/Conasauga/HBVmountain_GFDL-CM4_Conasauga_1975_2005.nc')\n",
    "df585_bc.to_csv('Data/climate_simulations_GFDL-CM4_conasauga_ssp585_bc.csv')\n",
    "\n",
    "\n",
    "\n",
    "dfhist_bc = run_climate_simulations_biascorrected(calval_results, 'Data/Conasauga/HBVmountain_MPI-ESM1-2-HR_Conasauga_1975_2005.nc',\n",
    "                                           'Data/Conasauga/HBVmountain_ERA5_Conasauga_1986_2005.nc', 'Data/Conasauga/HBVmountain_MPI-ESM1-2-HR_Conasauga_1975_2005.nc')\n",
    "dfhist_bc.to_csv('Data/climate_simulations_MPI-ESM1-2-HR_conasauga_hist_bc.csv')\n",
    "\n",
    "df245_bc = run_climate_simulations_biascorrected(calval_results, 'Data/Conasauga/HBVmountain_MPI-ESM1-2-HR_Conasauga_2067_2100_ssp245.nc',\n",
    "                                           'Data/Conasauga/HBVmountain_ERA5_Conasauga_1986_2005.nc', 'Data/Conasauga/HBVmountain_MPI-ESM1-2-HR_Conasauga_1975_2005.nc')\n",
    "df245_bc.to_csv('Data/climate_simulations_MPI-ESM1-2-HR_conasauga_ssp245_bc.csv')\n",
    "\n",
    "df585_bc = run_climate_simulations_biascorrected(calval_results, 'Data/Conasauga/HBVmountain_MPI-ESM1-2-HR_Conasauga_2067_2100_ssp585.nc',\n",
    "                                           'Data/Conasauga/HBVmountain_ERA5_Conasauga_1986_2005.nc', 'Data/Conasauga/HBVmountain_MPI-ESM1-2-HR_Conasauga_1975_2005.nc')\n",
    "df585_bc.to_csv('Data/climate_simulations_MPI-ESM1-2-HR_conasauga_ssp585_bc.csv')"
   ]
  },
  {
   "cell_type": "code",
   "execution_count": 9,
   "metadata": {},
   "outputs": [],
   "source": [
    "hist_dir = ['Data/Conasauga/HBVmountain_BCC-CSM2-MR_Conasauga_1975_2005.nc', 'Data/Conasauga/HBVmountain_EC-Earth3_Conasauga_1975_2005.nc',\n",
    "            'Data/Conasauga/HBVmountain_MIROC6_Conasauga_1975_2005.nc']\n",
    "ssp245_dir = ['Data/Conasauga/HBVmountain_BCC-CSM2-MR_Conasauga_2067_2100_ssp245.nc', 'Data/Conasauga/HBVmountain_EC-Earth3_Conasauga_2067_2100_ssp245.nc', \n",
    "             'Data/Conasauga/HBVmountain_MIROC6_Conasauga_2067_2100_ssp245.nc'] \n",
    "ssp585_dir = ['Data/Conasauga/HBVmountain_BCC-CSM2-MR_Conasauga_2067_2100_ssp585.nc', 'Data/Conasauga/HBVmountain_EC-Earth3_Conasauga_2067_2100_ssp585.nc', \n",
    "             'Data/Conasauga/HBVmountain_MIROC6_Conasauga_2067_2100_ssp585.nc']\n",
    "\n",
    "for i in range(3):\n",
    "    dfhist_bc = run_climate_simulations_biascorrected(calval_results, hist_dir[i],\n",
    "                                               'Data/Conasauga/HBVmountain_ERA5_Conasauga_1986_2005.nc', hist_dir[i])\n",
    "    if i == 0:\n",
    "        dfhist_bc.to_csv('Data/climate_simulations_BCC-CSM2-MR_conasauga_hist_bc.csv')\n",
    "    if i == 1:\n",
    "        dfhist_bc.to_csv('Data/climate_simulations_EC-Earth3_conasauga_hist_bc.csv')\n",
    "    if i == 2:\n",
    "        dfhist_bc.to_csv('Data/climate_simulations_MIROC6_conasauga_hist_bc.csv')\n",
    "\n",
    "    df245_bc = run_climate_simulations_biascorrected(calval_results, ssp245_dir[i],\n",
    "                                               'Data/Conasauga/HBVmountain_ERA5_Conasauga_1986_2005.nc', hist_dir[i])\n",
    "    if i == 0:\n",
    "        df245_bc.to_csv('Data/climate_simulations_BCC-CSM2-MR_conasauga_ssp245_bc.csv')\n",
    "    if i == 1:\n",
    "        df245_bc.to_csv('Data/climate_simulations_EC-Earth3_conasauga_ssp245_bc.csv')\n",
    "    if i == 2:\n",
    "        df245_bc.to_csv('Data/climate_simulations_MIROC6_conasauga_ssp245_bc.csv')\n",
    "\n",
    "    df585_bc = run_climate_simulations_biascorrected(calval_results, ssp585_dir[i],\n",
    "                                               'Data/Conasauga/HBVmountain_ERA5_Conasauga_1986_2005.nc', hist_dir[i])\n",
    "    if i == 0:\n",
    "        df585_bc.to_csv('Data/climate_simulations_BCC-CSM2-MR_conasauga_ssp585_bc.csv')\n",
    "    if i == 1:\n",
    "        df585_bc.to_csv('Data/climate_simulations_EC-Earth3_conasauga_ssp585_bc.csv')\n",
    "    if i == 2:\n",
    "        df585_bc.to_csv('Data/climate_simulations_MIROC6_conasauga_ssp585.csv')"
   ]
  },
  {
   "cell_type": "markdown",
   "metadata": {},
   "source": [
    "### Load GRDC Observations"
   ]
  },
  {
   "cell_type": "code",
   "execution_count": 8,
   "metadata": {},
   "outputs": [],
   "source": [
    "ERA5_forcing = nc.Dataset('Data/Conasauga/HBVmountain_ERA5_Conasauga_1986_2005.nc')\n",
    "ERA5_forcing = generate_forcing_from_NETCDF(ERA5_forcing)\n",
    "ERA5_forcing.index = pd.to_datetime(ERA5_forcing.index)\n",
    "\n",
    "hist_gfdl_forcing =  nc.Dataset('Data/Conasauga/HBVmountain_GFDL-CM4_Conasauga_1975_2005.nc')\n",
    "hist_gfdl_forcing = generate_forcing_from_NETCDF(hist_gfdl_forcing)\n",
    "hist_gfdl_forcing.index = pd.to_datetime(hist_gfdl_forcing.index)\n",
    "\n",
    "ssp245_gfdl_forcing =  nc.Dataset('Data/Conasauga/HBVmountain_GFDL-CM4_Conasauga_2067_2100_ssp245.nc')\n",
    "ssp245_gfdl_forcing = generate_forcing_from_NETCDF(ssp245_gfdl_forcing)\n",
    "ssp245_gfdl_forcing.index = pd.to_datetime(ssp245_gfdl_forcing.index)\n",
    "\n",
    "ssp585_gfdl_forcing =  nc.Dataset('Data/Conasauga/HBVmountain_GFDL-CM4_Conasauga_2067_2100_ssp585.nc')\n",
    "ssp585_gfdl_forcing = generate_forcing_from_NETCDF(ssp585_gfdl_forcing)\n",
    "ssp585_gfdl_forcing.index = pd.to_datetime(ssp585_gfdl_forcing.index)\n",
    "\n",
    "hist_mpi_forcing =  nc.Dataset('Data/Conasauga/HBVmountain_MPI-ESM1-2-HR_Conasauga_1975_2005.nc')\n",
    "hist_mpi_forcing = generate_forcing_from_NETCDF(hist_mpi_forcing)\n",
    "hist_mpi_forcing.index = pd.to_datetime(hist_mpi_forcing.index)\n",
    "\n",
    "ssp245_mpi_forcing =  nc.Dataset('Data/Conasauga/HBVmountain_MPI-ESM1-2-HR_Conasauga_2067_2100_ssp245.nc')\n",
    "ssp245_mpi_forcing = generate_forcing_from_NETCDF(ssp245_mpi_forcing)\n",
    "ssp245_mpi_forcing.index = pd.to_datetime(ssp245_mpi_forcing.index)\n",
    "\n",
    "ssp585_mpi_forcing =  nc.Dataset('Data/Conasauga/HBVmountain_MPI-ESM1-2-HR_Conasauga_2067_2100_ssp585.nc')\n",
    "ssp585_mpi_forcing = generate_forcing_from_NETCDF(ssp585_mpi_forcing)\n",
    "ssp585_mpi_forcing.index = pd.to_datetime(ssp585_mpi_forcing.index)"
   ]
  },
  {
   "cell_type": "markdown",
   "metadata": {},
   "source": [
    "### Load GRDC Observations"
   ]
  },
  {
   "cell_type": "code",
   "execution_count": 9,
   "metadata": {},
   "outputs": [
    {
     "data": {
      "text/plain": [
       "streamflow    13307.497761\n",
       "dtype: float64"
      ]
     },
     "execution_count": 9,
     "metadata": {},
     "output_type": "execute_result"
    }
   ],
   "source": [
    "observation = pd.read_csv('Data/Conasauga/Discharge_Conasauga.csv', index_col=0) /(652.68 * 1e6) * 1000 *86400\n",
    "observation.index = pd.to_datetime(observation.index)\n",
    "# observation = pd.DataFrame(observation['streamflow'].rolling(window=7).mean())\n",
    "\n",
    "observation.head(10)\n",
    "observation.sum()"
   ]
  },
  {
   "cell_type": "code",
   "execution_count": 10,
   "metadata": {},
   "outputs": [
    {
     "data": {
      "text/plain": [
       "(3.448495626449585, 25.3040771484375)"
      ]
     },
     "execution_count": 10,
     "metadata": {},
     "output_type": "execute_result"
    }
   ],
   "source": [
    "forcing = nc.Dataset('Data/Conasauga/HBVmountain_ERA5_Conasauga_1986_2005.nc')\n",
    "forcing = generate_forcing_from_NETCDF(forcing)\n",
    "forcing.index = pd.to_datetime(forcing.index)\n",
    "an_forcing = forcing.groupby(forcing.index.strftime(\"%m\")).mean()\n",
    "\n",
    "an_forcing.temp.min(), an_forcing.temp.max()"
   ]
  },
  {
   "cell_type": "markdown",
   "metadata": {},
   "source": [
    "### Load climate simulations\n"
   ]
  },
  {
   "cell_type": "code",
   "execution_count": 11,
   "metadata": {},
   "outputs": [],
   "source": [
    "simulations_GFDL_CM4_historical = pd.read_csv('Data/Conasauga/climate_simulations_GFDL-CM4_conasauga_hist.csv', index_col=[0])\n",
    "simulations_GFDL_CM4_historical.index = pd.to_datetime(simulations_GFDL_CM4_historical.index)\n",
    "simulations_GFDL_CM4_historical = pd.DataFrame(simulations_GFDL_CM4_historical.rolling(window=7).mean())\n",
    "\n",
    "simulations_GFDL_CM4_ssp245 = pd.read_csv('Data/Conasauga/climate_simulations_GFDL-CM4_conasauga_ssp245.csv', index_col=[0])\n",
    "simulations_GFDL_CM4_ssp245.index = pd.to_datetime(simulations_GFDL_CM4_ssp245.index)\n",
    "simulations_GFDL_CM4_ssp245 = pd.DataFrame(simulations_GFDL_CM4_ssp245.rolling(window=7).mean())\n",
    "\n",
    "simulations_GFDL_CM4_ssp585 = pd.read_csv('Data/Conasauga/climate_simulations_GFDL-CM4_conasauga_ssp585.csv', index_col=[0])\n",
    "simulations_GFDL_CM4_ssp585.index = pd.to_datetime(simulations_GFDL_CM4_ssp585.index)\n",
    "simulations_GFDL_CM4_ssp585 = pd.DataFrame(simulations_GFDL_CM4_ssp585.rolling(window=7).mean())\n",
    "\n",
    "simulations_MPI_ESM1_2_HR_historical = pd.read_csv('Data/Conasauga/climate_simulations_MPI-ESM1-2-HR_conasauga_hist.csv', index_col=[0])\n",
    "simulations_MPI_ESM1_2_HR_historical.index = pd.to_datetime(simulations_MPI_ESM1_2_HR_historical.index)\n",
    "simulations_MPI_ESM1_2_HR_historical = pd.DataFrame(simulations_MPI_ESM1_2_HR_historical.rolling(window=7).mean())\n",
    "\n",
    "simulations_MPI_ESM1_2_HR_ssp245 = pd.read_csv('Data/Conasauga/climate_simulations_MPI-ESM1-2-HR_conasauga_ssp245.csv', index_col=[0])\n",
    "simulations_MPI_ESM1_2_HR_ssp245.index = pd.to_datetime(simulations_MPI_ESM1_2_HR_ssp245.index)\n",
    "simulations_MPI_ESM1_2_HR_ssp245 = pd.DataFrame(simulations_MPI_ESM1_2_HR_ssp245.rolling(window=7).mean())\n",
    "\n",
    "simulations_MPI_ESM1_2_HR_ssp585 = pd.read_csv('Data/Conasauga/climate_simulations_MPI-ESM1-2-HR_conasauga_ssp585.csv', index_col=[0])\n",
    "simulations_MPI_ESM1_2_HR_ssp585.index = pd.to_datetime(simulations_MPI_ESM1_2_HR_ssp585.index)\n",
    "simulations_MPI_ESM1_2_HR_ssp585 = pd.DataFrame(simulations_MPI_ESM1_2_HR_ssp585.rolling(window=7).mean())"
   ]
  },
  {
   "cell_type": "code",
   "execution_count": 12,
   "metadata": {},
   "outputs": [],
   "source": [
    "simulations_GFDL_CM4_historical_bc = pd.read_csv('Data/Conasauga/climate_simulations_GFDL-CM4_conasauga_hist_bc.csv', index_col=[0])\n",
    "simulations_GFDL_CM4_historical_bc.index = pd.to_datetime(simulations_GFDL_CM4_historical_bc.index)\n",
    "simulations_GFDL_CM4_historical_bc = pd.DataFrame(simulations_GFDL_CM4_historical_bc.rolling(window=7).mean())\n",
    "\n",
    "simulations_GFDL_CM4_ssp245_bc = pd.read_csv('Data/Conasauga/climate_simulations_GFDL-CM4_conasauga_ssp245_bc.csv', index_col=[0])\n",
    "simulations_GFDL_CM4_ssp245_bc.index = pd.to_datetime(simulations_GFDL_CM4_ssp245_bc.index)\n",
    "simulations_GFDL_CM4_ssp245_bc = pd.DataFrame(simulations_GFDL_CM4_ssp245_bc.rolling(window=7).mean())\n",
    "\n",
    "simulations_GFDL_CM4_ssp585_bc = pd.read_csv('Data/Conasauga/climate_simulations_GFDL-CM4_conasauga_ssp585_bc.csv', index_col=[0])\n",
    "simulations_GFDL_CM4_ssp585_bc.index = pd.to_datetime(simulations_GFDL_CM4_ssp585_bc.index)\n",
    "simulations_GFDL_CM4_ssp585_bc = pd.DataFrame(simulations_GFDL_CM4_ssp585_bc.rolling(window=7).mean())\n",
    "\n",
    "simulations_MPI_ESM1_2_HR_historical_bc = pd.read_csv('Data/Conasauga/climate_simulations_MPI-ESM1-2-HR_conasauga_hist_bc.csv', index_col=[0])\n",
    "simulations_MPI_ESM1_2_HR_historical_bc.index = pd.to_datetime(simulations_MPI_ESM1_2_HR_historical_bc.index)\n",
    "simulations_MPI_ESM1_2_HR_historical_bc = pd.DataFrame(simulations_MPI_ESM1_2_HR_historical_bc.rolling(window=7).mean())\n",
    "\n",
    "simulations_MPI_ESM1_2_HR_ssp245_bc = pd.read_csv('Data/Conasauga/climate_simulations_MPI-ESM1-2-HR_conasauga_ssp245_bc.csv', index_col=[0])\n",
    "simulations_MPI_ESM1_2_HR_ssp245_bc.index = pd.to_datetime(simulations_MPI_ESM1_2_HR_ssp245_bc.index)\n",
    "simulations_MPI_ESM1_2_HR_ssp245_bc = pd.DataFrame(simulations_MPI_ESM1_2_HR_ssp245_bc.rolling(window=7).mean())\n",
    "\n",
    "simulations_MPI_ESM1_2_HR_ssp585_bc = pd.read_csv('Data/Conasauga/climate_simulations_MPI-ESM1-2-HR_conasauga_ssp585_bc.csv', index_col=[0])\n",
    "simulations_MPI_ESM1_2_HR_ssp585_bc.index = pd.to_datetime(simulations_MPI_ESM1_2_HR_ssp585_bc.index)\n",
    "simulations_MPI_ESM1_2_HR_ssp585_bc = pd.DataFrame(simulations_MPI_ESM1_2_HR_ssp585_bc.rolling(window=7).mean())"
   ]
  },
  {
   "cell_type": "markdown",
   "metadata": {},
   "source": [
    "# Analysis\n"
   ]
  },
  {
   "cell_type": "code",
   "execution_count": 21,
   "metadata": {},
   "outputs": [],
   "source": [
    "daily_simulations_GFDL_CM4_historical_bc = simulations_GFDL_CM4_historical_bc.groupby(simulations_GFDL_CM4_historical_bc.index.strftime(\"%m-%d\")).mean()\n",
    "daily_simulations_GFDL_CM4_historical = simulations_GFDL_CM4_historical.groupby(simulations_GFDL_CM4_historical.index.strftime(\"%m-%d\")).mean()\n",
    "daily_simulations_MPI_ESM1_2_HR_historical = simulations_MPI_ESM1_2_HR_historical.groupby(simulations_MPI_ESM1_2_HR_historical.index.strftime(\"%m-%d\")).mean()\n",
    "daily_simulations_MPI_ESM1_2_HR_historical_bc = simulations_MPI_ESM1_2_HR_historical_bc.groupby(simulations_MPI_ESM1_2_HR_historical_bc.index.strftime(\"%m-%d\")).mean()\n",
    "\n",
    "\n",
    "daily_observation = observation.groupby(observation.index.strftime(\"%m-%d\")).mean()\n",
    "daily_era5_simulation = era5_simulation.groupby(era5_simulation.index.strftime(\"%m-%d\")).mean()\n",
    "\n",
    "daily_simulations_GFDL_CM4_ssp245_bc = simulations_GFDL_CM4_ssp245_bc.groupby(simulations_GFDL_CM4_ssp245_bc.index.strftime(\"%m-%d\")).mean()\n",
    "daily_simulations_GFDL_CM4_ssp245 = simulations_GFDL_CM4_ssp245.groupby(simulations_GFDL_CM4_ssp245.index.strftime(\"%m-%d\")).mean()\n",
    "daily_simulations_MPI_ESM1_2_HR_ssp245 = simulations_MPI_ESM1_2_HR_ssp245.groupby(simulations_MPI_ESM1_2_HR_ssp245.index.strftime(\"%m-%d\")).mean()\n",
    "\n",
    "daily_simulations_GFDL_CM4_ssp585_bc = simulations_GFDL_CM4_ssp585_bc.groupby(simulations_GFDL_CM4_ssp585_bc.index.strftime(\"%m-%d\")).mean()\n",
    "daily_simulations_GFDL_CM4_ssp585 = simulations_GFDL_CM4_ssp585.groupby(simulations_GFDL_CM4_ssp585.index.strftime(\"%m-%d\")).mean()\n",
    "daily_simulations_MPI_ESM1_2_HR_ssp585 = simulations_MPI_ESM1_2_HR_ssp585.groupby(simulations_MPI_ESM1_2_HR_ssp585.index.strftime(\"%m-%d\")).mean()"
   ]
  },
  {
   "cell_type": "code",
   "execution_count": 22,
   "metadata": {},
   "outputs": [
    {
     "data": {
      "text/plain": [
       "('01-01', '01-01')"
      ]
     },
     "execution_count": 22,
     "metadata": {},
     "output_type": "execute_result"
    },
    {
     "data": {
      "image/png": "[encoded data removed]",
      "text/plain": [
       "<Figure size 432x216 with 1 Axes>"
      ]
     },
     "metadata": {
      "needs_background": "light"
     },
     "output_type": "display_data"
    }
   ],
   "source": [
    "plt.rcParams[\"figure.figsize\"] = (6, 3)\n",
    "\n",
    "daily_simulations_GFDL_CM4_historical.mean(axis=1).plot(color='r', linestyle='--', alpha=0.4, label='GFDL-CM4')\n",
    "daily_simulations_GFDL_CM4_historical_bc.mean(axis=1).plot(color='r', label='GFDL-CM4, Bias corrected')\n",
    "\n",
    "daily_simulations_MPI_ESM1_2_HR_historical.mean(axis=1).plot(color='b' , linestyle='--' , alpha=0.4, label='MPI-ESM1-2-HR')\n",
    "daily_simulations_MPI_ESM1_2_HR_historical_bc.mean(axis=1).plot(color='b', label='MPI-ESM1-2-HR, Bias corrected')\n",
    "daily_era5_simulation.mean(axis=1).plot(color='grey', label='ERA5 Simulation')\n",
    "\n",
    "\n",
    "# daily_observation.mean(axis=1).plot(color='k', label='Observation')\n",
    "# plt.legend()\n",
    "\n",
    "# plt.plot(daily_simulations_GFDL_CM4_historical_bc)\n",
    "plt.grid()\n",
    "plt.ylabel('mm day-1', fontsize=12)\n",
    "plt.xlabel(' (month-day)', fontsize=12)\n",
    "plt.title('Conasauga', fontsize=16)\n",
    "daily_observation.index[0], daily_era5_simulation.index[0]"
   ]
  },
  {
   "cell_type": "code",
   "execution_count": 23,
   "metadata": {},
   "outputs": [
    {
     "name": "stdout",
     "output_type": "stream",
     "text": [
      "0.18740691781137522 0.6280939900251025 0.8865953987657939 0.16014287705697577 0.38383564555698313\n",
      "0.18670288784322991 0.5952644516821207 0.8779540171527082 0.3883277950146007 0.44826791153744305\n"
     ]
    }
   ],
   "source": [
    "cal_df = pd.DataFrame(columns=['ED','nse','lognse', 'nseFDC', 'nse_runoff'])\n",
    "val_df = pd.DataFrame(columns=['ED','nse','lognse', 'nseFDC', 'nse_runoff'])\n",
    "for i in range(len(era5_simulation.columns)):\n",
    "    cal_list = multi_objective(era5_simulation.loc[(era5_simulation.index.year > 1988) & (era5_simulation.index.year < 1999)].iloc[:,i], \n",
    "                                                          observation.loc[(observation.index.year > 1988) & (observation.index.year < 1999)].streamflow, ERA5_forcing.prec)\n",
    "    val_list = multi_objective(era5_simulation.loc[(era5_simulation.index.year >= 1999)].iloc[:,i], \n",
    "                                                      observation.loc[(observation.index.year >= 1999)].streamflow, ERA5_forcing.prec)\n",
    "    cal_df.loc[len(cal_df)] = cal_list\n",
    "    val_df.loc[len(val_df)] = val_list\n",
    "print(cal_df.nse.mean(), cal_df.lognse.mean(), cal_df.nseFDC.mean(), cal_df.nse_runoff.mean(),1-cal_df.ED.mean())\n",
    "print(val_df.nse.mean(), val_df.lognse.mean(), val_df.nseFDC.mean(), val_df.nse_runoff.mean(),1-val_df.ED.mean())"
   ]
  },
  {
   "cell_type": "markdown",
   "metadata": {},
   "source": [
    "### Cum sum"
   ]
  },
  {
   "cell_type": "code",
   "execution_count": 24,
   "metadata": {},
   "outputs": [
    {
     "data": {
      "text/plain": [
       "1005.7671773918884"
      ]
     },
     "execution_count": 24,
     "metadata": {},
     "output_type": "execute_result"
    }
   ],
   "source": [
    "cumsum_obs = observation.streamflow.groupby(observation.index.strftime(\"%y\")).sum()\n",
    "cumsum_prec = ERA5_forcing.loc[ERA5_forcing.index.year<=2005].prec.groupby(ERA5_forcing.loc[ERA5_forcing.index.year<=2005].index.strftime(\"%y\")).sum()\n",
    "cumsum_evap = evaporation.mean(axis=1).groupby(evaporation.index.strftime(\"%y\")).sum()\n",
    "\n",
    "tot = cumsum_prec -cumsum_evap - cumsum_obs\n",
    "tot.to_csv('waterbalance_conasauga.csv')\n",
    "np.sum(tot)"
   ]
  },
  {
   "cell_type": "markdown",
   "metadata": {},
   "source": [
    "## modelled streamflow 2000"
   ]
  },
  {
   "cell_type": "code",
   "execution_count": 25,
   "metadata": {},
   "outputs": [
    {
     "data": {
      "text/plain": [
       "Text(0.5, 0, '')"
      ]
     },
     "execution_count": 25,
     "metadata": {},
     "output_type": "execute_result"
    },
    {
     "data": {
      "image/png": "[encoded data removed]",
      "text/plain": [
       "<Figure size 360x216 with 1 Axes>"
      ]
     },
     "metadata": {
      "needs_background": "light"
     },
     "output_type": "display_data"
    }
   ],
   "source": [
    "plt.figure(figsize=[5,3])\n",
    "sim_2000 = era5_simulation.loc[era5_simulation.index.year == 2001]\n",
    "obs_2000 = observation.loc[observation.index.year == 2001]\n",
    "\n",
    "sim_2000.mean(axis=1).plot(color='r', label='ERA5 simulated')\n",
    "obs_2000.mean(axis=1).plot(color='b', label='Observed', alpha=0.7)\n",
    "plt.fill_between(sim_2000.index, sim_2000.min(axis=1), sim_2000.max(axis=1), color='r', alpha=0.3)\n",
    "plt.ylabel('mm day-1', fontsize=13)\n",
    "plt.title('Conasauga', fontsize=15)\n",
    "plt.xlabel('')\n",
    "# plt.legend()"
   ]
  },
  {
   "cell_type": "code",
   "execution_count": 26,
   "metadata": {},
   "outputs": [
    {
     "data": {
      "text/plain": [
       "('01-01', '01-01')"
      ]
     },
     "execution_count": 26,
     "metadata": {},
     "output_type": "execute_result"
    },
    {
     "data": {
      "image/png": "[encoded data removed]",
      "text/plain": [
       "<Figure size 720x360 with 1 Axes>"
      ]
     },
     "metadata": {
      "needs_background": "light"
     },
     "output_type": "display_data"
    }
   ],
   "source": [
    "plt.rcParams[\"figure.figsize\"] = (10, 5)\n",
    "\n",
    "daily_simulations_GFDL_CM4_historical.mean(axis=1).plot(color='r', linestyle='--', alpha=0.4, label='GFDL-CM4')\n",
    "daily_simulations_GFDL_CM4_historical_bc.mean(axis=1).plot(color='r', label='GFDL-CM4, Bias corrected')\n",
    "\n",
    "daily_simulations_MPI_ESM1_2_HR_historical.mean(axis=1).plot(color='b' , linestyle='--' , alpha=0.4, label='MPI-ESM1-2-HR')\n",
    "daily_simulations_MPI_ESM1_2_HR_historical_bc.mean(axis=1).plot(color='b', label='MPI-ESM1-2-HR, Bias corrected')\n",
    "daily_era5_simulation.mean(axis=1).plot(color='grey', label='ERA5 Simulation')\n",
    "\n",
    "\n",
    "# daily_observation.mean(axis=1).plot(color='k', label='Observation')\n",
    "plt.legend()\n",
    "\n",
    "# plt.plot(daily_simulations_GFDL_CM4_historical_bc)\n",
    "plt.legend()\n",
    "plt.ylabel('mm day-1')\n",
    "plt.xlabel(' (month-day)')\n",
    "daily_observation.index[0], daily_era5_simulation.index[0]"
   ]
  },
  {
   "cell_type": "code",
   "execution_count": null,
   "metadata": {},
   "outputs": [],
   "source": []
  },
  {
   "cell_type": "code",
   "execution_count": 27,
   "metadata": {},
   "outputs": [],
   "source": [
    "def create_monthly_boxplots(simulations_hist, simulations_ssp245, simulations_ssp585):\n",
    "    fig, axarr = plt.subplots(figsize=(9,4))\n",
    "\n",
    "    hist = simulations_hist.groupby(simulations_hist.index.strftime(\"%y-%m\")).sum()\n",
    "    hist['mean'] = hist.mean(axis=1)\n",
    "    hist['month'] = hist.index.str[3:]\n",
    "    hist.boxplot(by='month', column='mean', ax=axarr, positions=np.array(range(12))*3.0-0.8, sym='', widths=0.6, color='k')\n",
    "\n",
    "    ssp245 = simulations_ssp245.groupby(simulations_ssp245.index.strftime(\"%y-%m\")).sum()\n",
    "    ssp245['mean'] = ssp245.mean(axis=1)\n",
    "    ssp245['month'] = ssp245.index.str[3:]\n",
    "    ssp245.boxplot(by='month', column='mean', ax=axarr, sym='', positions=np.array(range(12))*3.0, widths=0.6, color='b')\n",
    "\n",
    "    ssp585 = simulations_ssp585.groupby(simulations_ssp585.index.strftime(\"%y-%m\")).sum()\n",
    "    ssp585['mean'] = ssp585.mean(axis=1)\n",
    "    ssp585['month'] = ssp585.index.str[3:]\n",
    "    ssp585.boxplot(by='month', column='mean', ax=axarr, positions=np.array(range(12))*3.0+0.8, sym='', widths=0.6, color='r')\n",
    "    \n",
    "    ticks = ['Jan', 'Feb', 'Mar', 'Apr', 'May', 'Jun', 'Jul', 'Aug', 'Sep', 'Oct', 'Nov', 'Dec']\n",
    "    fig.suptitle('')\n",
    "    plt.xticks(range(0, 12 * 3, 3), ticks)"
   ]
  },
  {
   "cell_type": "code",
   "execution_count": 28,
   "metadata": {},
   "outputs": [
    {
     "data": {
      "text/plain": [
       "Text(0, 0.5, 'mm month-1')"
      ]
     },
     "execution_count": 28,
     "metadata": {},
     "output_type": "execute_result"
    },
    {
     "data": {
      "image/png": "[encoded data removed]",
      "text/plain": [
       "<Figure size 648x288 with 1 Axes>"
      ]
     },
     "metadata": {
      "needs_background": "light"
     },
     "output_type": "display_data"
    }
   ],
   "source": [
    "create_monthly_boxplots(simulations_GFDL_CM4_historical_bc, simulations_GFDL_CM4_ssp245_bc,\n",
    "                    simulations_GFDL_CM4_ssp585_bc)\n",
    "plt.title('Thunder Creek', fontsize=16)\n",
    "plt.plot([], 'k', label='Historical')\n",
    "plt.plot([], 'b', label='SSP245')\n",
    "plt.plot([], 'r', label='SSP585')\n",
    "plt.ylabel('mm month-1')\n",
    "# plt.legend()"
   ]
  },
  {
   "cell_type": "markdown",
   "metadata": {},
   "source": [
    "## Boxplots"
   ]
  },
  {
   "cell_type": "code",
   "execution_count": 29,
   "metadata": {},
   "outputs": [],
   "source": [
    "def create_monthly_boxplots(simulations_hist, simulations_ssp245, simulations_ssp585):\n",
    "    fig, axarr = plt.subplots(figsize=(7,4))\n",
    "\n",
    "    hist = simulations_hist.groupby(simulations_hist.index.strftime(\"%y-%m\")).sum()\n",
    "    hist['mean'] = hist.mean(axis=1)\n",
    "    hist['month'] = hist.index.str[3:]\n",
    "    hist.boxplot(by='month', column='mean', ax=axarr, positions=np.array(range(12))*3.0-0.8, sym='', widths=0.6, color='k')\n",
    "\n",
    "    ssp245 = simulations_ssp245.groupby(simulations_ssp245.index.strftime(\"%y-%m\")).sum()\n",
    "    ssp245['mean'] = ssp245.mean(axis=1)\n",
    "    ssp245['month'] = ssp245.index.str[3:]\n",
    "    ssp245.boxplot(by='month', column='mean', ax=axarr, sym='', positions=np.array(range(12))*3.0, widths=0.6, color='b')\n",
    "\n",
    "    ssp585 = simulations_ssp585.groupby(simulations_ssp585.index.strftime(\"%y-%m\")).sum()\n",
    "    ssp585['mean'] = ssp585.mean(axis=1)\n",
    "    ssp585['month'] = ssp585.index.str[3:]\n",
    "    ssp585.boxplot(by='month', column='mean', ax=axarr, positions=np.array(range(12))*3.0+0.8, sym='', widths=0.6, color='r')\n",
    "    \n",
    "    ticks = ['Jan', 'Feb', 'Mar', 'Apr', 'May', 'Jun', 'Jul', 'Aug', 'Sep', 'Oct', 'Nov', 'Dec']\n",
    "    fig.suptitle('')\n",
    "    plt.xticks(range(0, 12 * 3, 3), ticks)"
   ]
  },
  {
   "cell_type": "code",
   "execution_count": 30,
   "metadata": {},
   "outputs": [
    {
     "data": {
      "text/plain": [
       "Text(0.5, 0, '')"
      ]
     },
     "execution_count": 30,
     "metadata": {},
     "output_type": "execute_result"
    },
    {
     "data": {
      "image/png": "[encoded data removed]",
      "text/plain": [
       "<Figure size 504x288 with 1 Axes>"
      ]
     },
     "metadata": {
      "needs_background": "light"
     },
     "output_type": "display_data"
    }
   ],
   "source": [
    "simulations_MPI_ESM1_2_HR_historical_bc = simulations_MPI_ESM1_2_HR_historical_bc.add_suffix('_MPI_ESM1_2_HR')\n",
    "simulations_MPI_ESM1_2_HR_ssp245_bc = simulations_MPI_ESM1_2_HR_ssp245_bc.add_suffix('_MPI_ESM1_2_HR')\n",
    "simulations_MPI_ESM1_2_HR_ssp585_bc = simulations_MPI_ESM1_2_HR_ssp585_bc.add_suffix('_MPI_ESM1_2_HR')\n",
    "\n",
    "hist = pd.concat([simulations_GFDL_CM4_historical_bc, simulations_MPI_ESM1_2_HR_historical_bc], axis=1)\n",
    "ssp245 = pd.concat([simulations_MPI_ESM1_2_HR_ssp245_bc, simulations_MPI_ESM1_2_HR_ssp245_bc], axis=1)\n",
    "ssp585 = pd.concat([simulations_GFDL_CM4_ssp585_bc, simulations_MPI_ESM1_2_HR_ssp585_bc], axis=1)\n",
    "\n",
    "create_monthly_boxplots(hist, ssp245,\n",
    "                        ssp585)\n",
    "plt.title('Conasauga', fontsize=16)\n",
    "plt.plot([], 'k', label='Historical')\n",
    "plt.plot([], 'b', label='SSP245')\n",
    "plt.plot([], 'r', label='SSP585')\n",
    "plt.ylabel('Streamflow [mm month-1]')\n",
    "# plt.legend()\n",
    "# plt.ylabel('Streamflow [mm month-1]')\n",
    "# plt.xticks([])\n",
    "plt.xlabel('')\n",
    "# plt.legend()"
   ]
  },
  {
   "cell_type": "code",
   "execution_count": 31,
   "metadata": {},
   "outputs": [],
   "source": [
    "def relative_change_monthly(reference, future):\n",
    "    months = np.arange(1,13)\n",
    "    index = np.arange(1,13)\n",
    "    change = []\n",
    "\n",
    "    for i in range(len(months)):\n",
    "        hist = reference.loc[reference.index.month == months[i]].mean(axis=1).sum()\n",
    "        projection = future.loc[future.index.month == months[i]].mean(axis=1).sum()\n",
    "        rel_change = (projection-hist) / hist * 100\n",
    "        change.append([index[i],rel_change])\n",
    "    return change "
   ]
  },
  {
   "cell_type": "code",
   "execution_count": 32,
   "metadata": {},
   "outputs": [],
   "source": [
    "simulations_MPI_ESM1_2_HR_historical_bc = simulations_MPI_ESM1_2_HR_historical_bc.add_suffix('_MPI_ESM1_2_HR')\n",
    "simulations_MPI_ESM1_2_HR_ssp245_bc = simulations_MPI_ESM1_2_HR_ssp245_bc.add_suffix('_MPI_ESM1_2_HR')\n",
    "simulations_MPI_ESM1_2_HR_ssp585_bc = simulations_MPI_ESM1_2_HR_ssp585_bc.add_suffix('_MPI_ESM1_2_HR')\n",
    "\n",
    "hist = pd.concat([simulations_GFDL_CM4_historical_bc, simulations_MPI_ESM1_2_HR_historical_bc], axis=1)\n",
    "ssp245 = pd.concat([simulations_MPI_ESM1_2_HR_ssp245_bc, simulations_MPI_ESM1_2_HR_ssp245_bc], axis=1)\n",
    "ssp585 = pd.concat([simulations_GFDL_CM4_ssp585_bc, simulations_MPI_ESM1_2_HR_ssp585_bc], axis=1)\n",
    "\n",
    "hist_prec = pd.concat([hist_gfdl_forcing.prec, hist_mpi_forcing.prec], axis=1)\n",
    "ssp245_prec = pd.concat([ssp245_gfdl_forcing.prec, ssp245_mpi_forcing.prec], axis=1)\n",
    "ssp585_prec = pd.concat([ssp585_gfdl_forcing.prec, ssp585_mpi_forcing.prec], axis=1)\n",
    "\n",
    "hist_temp = pd.concat([hist_gfdl_forcing.temp, hist_mpi_forcing.temp], axis=1)\n",
    "ssp245_temp = pd.concat([ssp245_gfdl_forcing.temp, ssp245_mpi_forcing.temp], axis=1)\n",
    "ssp585_temp = pd.concat([ssp585_gfdl_forcing.temp, ssp585_mpi_forcing.temp], axis=1)\n",
    "\n",
    "relative_change_streamflow_ssp245 = relative_change_monthly(hist, ssp245)\n",
    "relative_change_streamflow_ssp585 = relative_change_monthly(hist, ssp585)\n",
    "\n",
    "relative_change_prec_ssp245 = relative_change_monthly(hist_prec, ssp245_prec)\n",
    "relative_change_prec_ssp585 = relative_change_monthly(hist_prec, ssp585_prec)\n",
    "\n",
    "relative_change_temp_ssp245 = relative_change_monthly(hist_temp, ssp245_temp)\n",
    "relative_change_temp_ssp585 = relative_change_monthly(hist_temp, ssp585_temp)"
   ]
  },
  {
   "cell_type": "code",
   "execution_count": 60,
   "metadata": {},
   "outputs": [
    {
     "data": {
      "image/png": "[encoded data removed]",
      "text/plain": [
       "<Figure size 432x216 with 1 Axes>"
      ]
     },
     "metadata": {
      "needs_background": "light"
     },
     "output_type": "display_data"
    }
   ],
   "source": [
    "plt.figure(figsize=[6,3])\n",
    "\n",
    "x1,y1 = zip(*relative_change_streamflow_ssp245)\n",
    "x2,y2 = zip(*relative_change_prec_ssp245)\n",
    "# x3,y3 = zip(*relative_change_temp_ssp585)\n",
    "\n",
    "plt.bar(np.array(x1)-0.15, y1, width = 0.3, label='Streamflow', color='grey')\n",
    "plt.bar(np.array(x2)+0.15, y2, width = 0.3, label='Precipitation', color='blue')\n",
    "# plt.bar(np.array(x3)+0.2, y3, width = 0.2, label='Temperature', color='r')\n",
    "#setting the xticks. Note x1 and x2 are tuples, thus + is concatenation\n",
    "plt.xticks(range(min(x1+x2), max(x1+x2)+1)) \n",
    "# plt.grid()\n",
    "plt.axhline(0, color='k')\n",
    "plt.title('Conasauga')\n",
    "# plt.ylim((-50,120))\n",
    "plt.ylabel('Relative change [%]')\n",
    "# plt.xticks([1, 2, 3, 4], ['Winter', 'Spring', 'Summer', 'Autumn'])\n",
    "# plt.legend()\n",
    "# plt.ylim((-70,260))\n",
    "ticks = ['Jan', 'Feb', 'Mar', 'Apr', 'May', 'Jun', 'Jul', 'Aug', 'Sep', 'Oct', 'Nov', 'Dec']\n",
    "plt.xticks(range(1, 13), ticks)\n",
    "\n",
    "plt.show()"
   ]
  },
  {
   "cell_type": "code",
   "execution_count": 37,
   "metadata": {},
   "outputs": [],
   "source": [
    "months = np.arange(1,13)\n",
    "index = np.arange(1,13)\n",
    "change = []\n",
    "\n",
    "for i in range(len(months)):\n",
    "    ref = hist_temp.loc[hist_temp.index.month == months[i]].mean(axis=1).mean()\n",
    "    projection = ssp245_temp.loc[ssp245_temp.index.month == months[i]].mean(axis=1).mean()\n",
    "    change.append(projection-ref)\n",
    "\n",
    "x, y = zip(*relative_change_streamflow_ssp245)\n",
    "x, dprec = zip(*relative_change_prec_ssp245)\n",
    "\n",
    "output = pd.DataFrame({'streamflow_change': y, 'dprec': dprec, 'dT': change})"
   ]
  },
  {
   "cell_type": "code",
   "execution_count": 59,
   "metadata": {},
   "outputs": [
    {
     "data": {
      "image/png": "[encoded data removed]",
      "text/plain": [
       "<Figure size 432x216 with 2 Axes>"
      ]
     },
     "metadata": {
      "needs_background": "light"
     },
     "output_type": "display_data"
    }
   ],
   "source": [
    "fig = plt.figure(figsize=[6,3]) # Create matplotlib figure\n",
    "\n",
    "ax = fig.add_subplot(111) # Create matplotlib axes\n",
    "ax2 = ax.twinx() # Create another axes that shares the same x-axis as ax.\n",
    "\n",
    "width = 0.3\n",
    "\n",
    "output.streamflow_change.plot(kind='bar', color='grey', ax=ax, width=width, position=1)\n",
    "# plt.axhline(0)\n",
    "output.dT.plot(kind='bar', color='r', ax=ax2, width=width, position=0,  label='Temperature')\n",
    "\n",
    "# ax.set_ylabel('Relative change in streamflow [%]')\n",
    "ax2.set_ylabel('ΔT [°C]')# plt.grid()\n",
    "# plt.plot(y=0)\n",
    "# ax2.set_yticks(np.linspace(ax.get_yticks()[0], ax.get_yticks()[-1], len(ax.get_yticks())))\n",
    "ax2.set_ylim((-1.4, 5.5))\n",
    "ax.set_ylim((-25, 100))\n",
    "ticks = ['Jan', 'Feb', 'Mar', 'Apr', 'May', 'Jun', 'Jul', 'Aug', 'Sep', 'Oct', 'Nov', 'Dec']\n",
    "plt.xticks(range(0, 12), ticks)\n",
    "plt.axhline(0, color='k')\n",
    "# plt.legend()\n",
    "plt.title('Conasauga')\n",
    "plt.show()"
   ]
  },
  {
   "cell_type": "code",
   "execution_count": 26,
   "metadata": {},
   "outputs": [
    {
     "data": {
      "text/plain": [
       "[<matplotlib.lines.Line2D at 0x237f0ed4188>]"
      ]
     },
     "execution_count": 26,
     "metadata": {},
     "output_type": "execute_result"
    },
    {
     "data": {
      "image/png": "[encoded data removed]",
      "text/plain": [
       "<Figure size 720x360 with 1 Axes>"
      ]
     },
     "metadata": {
      "needs_background": "light"
     },
     "output_type": "display_data"
    }
   ],
   "source": [
    "months = np.arange(1,13)\n",
    "index = np.arange(1,13)\n",
    "change = []\n",
    "\n",
    "for i in range(len(months)):\n",
    "    ref = hist_temp.loc[hist_temp.index.month == months[i]].mean(axis=1).mean()\n",
    "    projection = ssp585_temp.loc[ssp585_temp.index.month == months[i]].mean(axis=1).mean()\n",
    "    change.append(projection-ref)\n",
    "\n",
    "x, y = zip(*relative_change_streamflow_ssp585)\n",
    "\n",
    "plt.plot(change,y, 'o')"
   ]
  },
  {
   "cell_type": "code",
   "execution_count": 27,
   "metadata": {},
   "outputs": [
    {
     "data": {
      "text/html": [
       "<div>\n",
       "<style scoped>\n",
       "    .dataframe tbody tr th:only-of-type {\n",
       "        vertical-align: middle;\n",
       "    }\n",
       "\n",
       "    .dataframe tbody tr th {\n",
       "        vertical-align: top;\n",
       "    }\n",
       "\n",
       "    .dataframe thead th {\n",
       "        text-align: right;\n",
       "    }\n",
       "</style>\n",
       "<table border=\"1\" class=\"dataframe\">\n",
       "  <thead>\n",
       "    <tr style=\"text-align: right;\">\n",
       "      <th></th>\n",
       "      <th>streamflow_change</th>\n",
       "      <th>dprec</th>\n",
       "      <th>dT</th>\n",
       "    </tr>\n",
       "  </thead>\n",
       "  <tbody>\n",
       "    <tr>\n",
       "      <th>0</th>\n",
       "      <td>43.498029</td>\n",
       "      <td>34.869094</td>\n",
       "      <td>5.255233</td>\n",
       "    </tr>\n",
       "    <tr>\n",
       "      <th>1</th>\n",
       "      <td>25.712746</td>\n",
       "      <td>22.994126</td>\n",
       "      <td>5.286033</td>\n",
       "    </tr>\n",
       "    <tr>\n",
       "      <th>2</th>\n",
       "      <td>-1.676713</td>\n",
       "      <td>4.056078</td>\n",
       "      <td>6.592263</td>\n",
       "    </tr>\n",
       "    <tr>\n",
       "      <th>3</th>\n",
       "      <td>-6.167389</td>\n",
       "      <td>10.471550</td>\n",
       "      <td>5.589909</td>\n",
       "    </tr>\n",
       "    <tr>\n",
       "      <th>4</th>\n",
       "      <td>-19.076688</td>\n",
       "      <td>8.259982</td>\n",
       "      <td>5.516884</td>\n",
       "    </tr>\n",
       "    <tr>\n",
       "      <th>5</th>\n",
       "      <td>-21.955409</td>\n",
       "      <td>12.859970</td>\n",
       "      <td>4.581066</td>\n",
       "    </tr>\n",
       "    <tr>\n",
       "      <th>6</th>\n",
       "      <td>-26.098642</td>\n",
       "      <td>0.298371</td>\n",
       "      <td>3.758156</td>\n",
       "    </tr>\n",
       "    <tr>\n",
       "      <th>7</th>\n",
       "      <td>-28.522042</td>\n",
       "      <td>11.421388</td>\n",
       "      <td>2.234539</td>\n",
       "    </tr>\n",
       "    <tr>\n",
       "      <th>8</th>\n",
       "      <td>45.274688</td>\n",
       "      <td>40.228834</td>\n",
       "      <td>2.853498</td>\n",
       "    </tr>\n",
       "    <tr>\n",
       "      <th>9</th>\n",
       "      <td>39.205183</td>\n",
       "      <td>18.165690</td>\n",
       "      <td>3.610847</td>\n",
       "    </tr>\n",
       "    <tr>\n",
       "      <th>10</th>\n",
       "      <td>31.885076</td>\n",
       "      <td>34.006781</td>\n",
       "      <td>4.750026</td>\n",
       "    </tr>\n",
       "    <tr>\n",
       "      <th>11</th>\n",
       "      <td>38.972476</td>\n",
       "      <td>38.401021</td>\n",
       "      <td>5.421193</td>\n",
       "    </tr>\n",
       "  </tbody>\n",
       "</table>\n",
       "</div>"
      ],
      "text/plain": [
       "    streamflow_change      dprec        dT\n",
       "0           43.498029  34.869094  5.255233\n",
       "1           25.712746  22.994126  5.286033\n",
       "2           -1.676713   4.056078  6.592263\n",
       "3           -6.167389  10.471550  5.589909\n",
       "4          -19.076688   8.259982  5.516884\n",
       "5          -21.955409  12.859970  4.581066\n",
       "6          -26.098642   0.298371  3.758156\n",
       "7          -28.522042  11.421388  2.234539\n",
       "8           45.274688  40.228834  2.853498\n",
       "9           39.205183  18.165690  3.610847\n",
       "10          31.885076  34.006781  4.750026\n",
       "11          38.972476  38.401021  5.421193"
      ]
     },
     "execution_count": 27,
     "metadata": {},
     "output_type": "execute_result"
    }
   ],
   "source": [
    "months = np.arange(1,13)\n",
    "index = np.arange(1,13)\n",
    "change = []\n",
    "\n",
    "for i in range(len(months)):\n",
    "    ref = hist_temp.loc[hist_temp.index.month == months[i]].mean(axis=1).mean()\n",
    "    projection = ssp585_temp.loc[ssp585_temp.index.month == months[i]].mean(axis=1).mean()\n",
    "    change.append(projection-ref)\n",
    "\n",
    "x, y = zip(*relative_change_streamflow_ssp585)\n",
    "x, dprec = zip(*relative_change_prec_ssp585)\n",
    "\n",
    "output = pd.DataFrame({'streamflow_change': y, 'dprec': dprec, 'dT': change})\n",
    "\n",
    "output.to_csv('streamflow_vs_temp_conasauga.csv')\n",
    "# plt.plot(change,y, 'o')\n",
    "output"
   ]
  },
  {
   "cell_type": "markdown",
   "metadata": {},
   "source": [
    "## FDC"
   ]
  },
  {
   "cell_type": "code",
   "execution_count": 61,
   "metadata": {},
   "outputs": [
    {
     "data": {
      "text/plain": [
       "Text(0.5, 1.0, 'Conasauga')"
      ]
     },
     "execution_count": 61,
     "metadata": {},
     "output_type": "execute_result"
    },
    {
     "data": {
      "image/png": "[encoded data removed]",
      "text/plain": [
       "<Figure size 288x216 with 1 Axes>"
      ]
     },
     "metadata": {
      "needs_background": "light"
     },
     "output_type": "display_data"
    }
   ],
   "source": [
    "plt.figure(figsize=[4,3])\n",
    "SortedQ_hist, ExcProb_hist = flowdurationcurve(hist.loc[hist.index.year > hist.index.year[1]].mean(axis=1).values)\n",
    "SortedQ_ssp245, ExcProb_ssp245 = flowdurationcurve(ssp245.loc[ssp245.index.year > ssp245.index.year[1]].mean(axis=1).values)\n",
    "SortedQ_ssp585, ExcProb_ssp585 = flowdurationcurve(ssp585.loc[ssp585.index.year > ssp585.index.year[1]].mean(axis=1).values)\n",
    "\n",
    "plt.plot(ExcProb_hist, SortedQ_hist, color='k', label='Historical')\n",
    "plt.plot(ExcProb_ssp245, SortedQ_ssp245, color='b', label='SSP245')\n",
    "plt.plot(ExcProb_ssp585, SortedQ_ssp585, color='r', label='SSP585')\n",
    "\n",
    "\n",
    "plt.xscale('log')\n",
    "plt.grid()\n",
    "# plt.legend()\n",
    "plt.ylabel('Streamflow [mm d-1]')\n",
    "# plt.xlabel('Exceedance probability [-]')\n",
    "plt.title('Conasauga', fontsize=15)"
   ]
  },
  {
   "cell_type": "markdown",
   "metadata": {},
   "source": [
    "## Relative change seasonal prec + temp"
   ]
  },
  {
   "cell_type": "code",
   "execution_count": 29,
   "metadata": {},
   "outputs": [],
   "source": [
    "prec_hist_bothmodels = (hist_gfdl_forcing.prec.groupby(hist_gfdl_forcing.index.month).mean() +hist_mpi_forcing.prec.groupby(hist_mpi_forcing.index.month).mean()) / 2\n",
    "prec_ssp245_bothmodels = (ssp245_gfdl_forcing.prec.groupby(ssp245_gfdl_forcing.index.month).mean() +ssp245_mpi_forcing.prec.groupby(ssp245_mpi_forcing.index.month).mean()) / 2\n",
    "prec_ssp585_bothmodels = (ssp585_gfdl_forcing.prec.groupby(ssp585_gfdl_forcing.index.month).mean() +ssp585_mpi_forcing.prec.groupby(ssp585_mpi_forcing.index.month).mean()) / 2\n",
    "\n",
    "\n",
    "rel_dif_prec_ssp245 = (prec_ssp245_bothmodels - prec_hist_bothmodels) / prec_hist_bothmodels*100\n",
    "rel_dif_prec_ssp585 = (prec_ssp585_bothmodels - prec_hist_bothmodels) / prec_hist_bothmodels*100\n",
    "\n",
    "\n",
    "\n",
    "temp_hist_bothmodels = (hist_gfdl_forcing.temp.groupby(hist_gfdl_forcing.index.month).mean() +hist_mpi_forcing.temp.groupby(hist_mpi_forcing.index.month).mean()) / 2\n",
    "temp_ssp245_bothmodels = (ssp245_gfdl_forcing.temp.groupby(ssp245_gfdl_forcing.index.month).mean() +ssp245_mpi_forcing.temp.groupby(ssp245_mpi_forcing.index.month).mean()) / 2\n",
    "temp_ssp585_bothmodels = (ssp585_gfdl_forcing.temp.groupby(ssp585_gfdl_forcing.index.month).mean() +ssp585_mpi_forcing.temp.groupby(ssp585_mpi_forcing.index.month).mean()) / 2\n",
    "\n",
    "abs_dif_temp_ssp245 = (temp_ssp245_bothmodels - temp_hist_bothmodels) \n",
    "abs_dif_temp_ssp585 = (temp_ssp585_bothmodels - temp_hist_bothmodels) "
   ]
  },
  {
   "cell_type": "code",
   "execution_count": 30,
   "metadata": {},
   "outputs": [
    {
     "data": {
      "image/png": "[encoded data removed]",
      "text/plain": [
       "<Figure size 288x216 with 2 Axes>"
      ]
     },
     "metadata": {
      "needs_background": "light"
     },
     "output_type": "display_data"
    }
   ],
   "source": [
    "fig = plt.figure(figsize=[4,3]) # Create matplotlib figure\n",
    "\n",
    "ax = fig.add_subplot(111) # Create matplotlib axes\n",
    "\n",
    "plt.plot(rel_dif_prec_ssp245, color='b', linestyle='--', alpha=0.6)\n",
    "plt.plot(rel_dif_prec_ssp585, color='b', alpha=0.6)\n",
    "\n",
    "\n",
    "ax2=ax.twinx()\n",
    "ax2.plot(abs_dif_temp_ssp245,color=\"r\", linestyle='--', alpha=0.6, label='SSP245')\n",
    "ax2.plot(abs_dif_temp_ssp585,color=\"r\", alpha=0.6, label='SSP585')\n",
    "ax2.set_ylabel(\"ΔT [°C]\",color=\"r\")\n",
    "ax.set_ylabel('ΔP [%]', color='b')\n",
    "ticks = ['J', 'F', 'M', 'A', 'M', 'J', 'J', 'A', 'S', 'O', 'N', 'D']\n",
    "plt.xticks(range(1, 13), ticks)\n",
    "plt.title('Conasauga',fontsize=12)\n",
    "plt.grid()\n",
    "plt.show()"
   ]
  },
  {
   "cell_type": "code",
   "execution_count": 31,
   "metadata": {},
   "outputs": [
    {
     "data": {
      "text/plain": [
       "array([0.1, 1.1, 2.1, 3.1])"
      ]
     },
     "execution_count": 31,
     "metadata": {},
     "output_type": "execute_result"
    }
   ],
   "source": [
    "np.array(range(4))+0.1"
   ]
  },
  {
   "cell_type": "markdown",
   "metadata": {},
   "source": [
    "## Changes in extremes"
   ]
  },
  {
   "cell_type": "code",
   "execution_count": 32,
   "metadata": {},
   "outputs": [],
   "source": [
    "hist_14day = hist.mean(axis=1).groupby(pd.Grouper(freq='7D')).mean()\n",
    "ssp245_14day = ssp245.mean(axis=1).groupby(pd.Grouper(freq='7D')).mean()\n",
    "ssp585_14day = ssp585.mean(axis=1).groupby(pd.Grouper(freq='7D')).mean()"
   ]
  },
  {
   "cell_type": "code",
   "execution_count": 33,
   "metadata": {},
   "outputs": [
    {
     "data": {
      "text/plain": [
       "Text(0.5, 1.0, 'Conasauga')"
      ]
     },
     "execution_count": 33,
     "metadata": {},
     "output_type": "execute_result"
    },
    {
     "data": {
      "image/png": "[encoded data removed]",
      "text/plain": [
       "<Figure size 288x216 with 1 Axes>"
      ]
     },
     "metadata": {
      "needs_background": "light"
     },
     "output_type": "display_data"
    }
   ],
   "source": [
    "min_hist_14day = hist_14day.loc[hist_14day.index.year> hist_14day.index[0].year].groupby(hist_14day.loc[hist_14day.index.year> hist_14day.index[0].year].index.strftime(\"%y\")).min()\n",
    "min_ssp245_14day = ssp245_14day.loc[ssp245_14day.index.year> ssp245_14day.index[0].year].groupby(ssp245_14day.loc[ssp245_14day.index.year> ssp245_14day.index[0].year].index.strftime(\"%y\")).min()\n",
    "min_ssp585_14day = ssp585_14day.loc[ssp585_14day.index.year> ssp585_14day.index[0].year].groupby(ssp585_14day.loc[ssp585_14day.index.year> ssp585_14day.index[0].year].index.strftime(\"%y\")).min()\n",
    "\n",
    "\n",
    "plt.figure(figsize=[4,3])\n",
    "\n",
    "bplot1 = plt.boxplot(min_hist_14day, patch_artist=True,  positions=np.array(range(1))*3.0-0.4)\n",
    "bplot2 = plt.boxplot(min_ssp245_14day, patch_artist=True,  positions=np.array(range(1))*3.0)\n",
    "bplot3 = plt.boxplot(min_ssp585_14day, patch_artist=True, positions=np.array(range(1))*3.0+0.4)\n",
    "\n",
    "colors = ['black', 'blue', 'red']\n",
    "for patch, color in zip(bplot1['boxes'], colors):\n",
    "    patch.set_facecolor('black') \n",
    "for patch, color in zip(bplot2['boxes'], colors):\n",
    "    patch.set_facecolor('blue') \n",
    "for patch, color in zip(bplot3['boxes'], colors):\n",
    "    patch.set_facecolor('red') \n",
    "    \n",
    "ticks = ['Hist', 'SSP245', 'SSP585']\n",
    "plt.xticks([-0.4, 0, 0.4], ticks)\n",
    "plt.grid(axis='y')\n",
    "plt.title('Conasauga', fontsize=15)\n",
    "# plt.ylabel('min streamflow [mm day-1]')"
   ]
  },
  {
   "cell_type": "code",
   "execution_count": 34,
   "metadata": {},
   "outputs": [
    {
     "data": {
      "text/plain": [
       "-24.562855721127388"
      ]
     },
     "execution_count": 34,
     "metadata": {},
     "output_type": "execute_result"
    }
   ],
   "source": [
    "(min_ssp585_14day.median() - min_hist_14day.median()) / min_hist_14day.median() * 100"
   ]
  },
  {
   "cell_type": "code",
   "execution_count": 35,
   "metadata": {},
   "outputs": [
    {
     "data": {
      "text/plain": [
       "Text(0.5, 1.0, 'Conasauga')"
      ]
     },
     "execution_count": 35,
     "metadata": {},
     "output_type": "execute_result"
    },
    {
     "data": {
      "image/png": "[encoded data removed]",
      "text/plain": [
       "<Figure size 288x216 with 1 Axes>"
      ]
     },
     "metadata": {
      "needs_background": "light"
     },
     "output_type": "display_data"
    }
   ],
   "source": [
    "max_hist_14day = hist_14day.loc[hist_14day.index.year> hist_14day.index[0].year].groupby(hist_14day.loc[hist_14day.index.year> hist_14day.index[0].year].index.strftime(\"%y\")).max()\n",
    "max_ssp245_14day = ssp245_14day.loc[ssp245_14day.index.year> ssp245_14day.index[0].year].groupby(ssp245_14day.loc[ssp245_14day.index.year> ssp245_14day.index[0].year].index.strftime(\"%y\")).max()\n",
    "max_ssp585_14day = ssp585_14day.loc[ssp585_14day.index.year> ssp585_14day.index[0].year].groupby(ssp585_14day.loc[ssp585_14day.index.year> ssp585_14day.index[0].year].index.strftime(\"%y\")).max()\n",
    "\n",
    "\n",
    "plt.figure(figsize=[4,3])\n",
    "\n",
    "bplot1 = plt.boxplot(max_hist_14day, patch_artist=True,  positions=np.array(range(1))*3.0-0.4)\n",
    "bplot2 = plt.boxplot(max_ssp245_14day, patch_artist=True,  positions=np.array(range(1))*3.0)\n",
    "bplot3 = plt.boxplot(max_ssp585_14day, patch_artist=True, positions=np.array(range(1))*3.0+0.4)\n",
    "\n",
    "for patch, color in zip(bplot1['boxes'], colors):\n",
    "    patch.set_facecolor('black') \n",
    "for patch, color in zip(bplot2['boxes'], colors):\n",
    "    patch.set_facecolor('blue') \n",
    "for patch, color in zip(bplot3['boxes'], colors):\n",
    "    patch.set_facecolor('red') \n",
    "    \n",
    "ticks = ['Hist', 'SSP245', 'SSP585']\n",
    "plt.xticks([-0.4, 0, 0.4], ticks)\n",
    "plt.grid(axis='y')\n",
    "plt.title('Conasauga', fontsize=15)\n",
    "# plt.ylabel('max streamflow [mm day-1]')"
   ]
  },
  {
   "cell_type": "code",
   "execution_count": 36,
   "metadata": {},
   "outputs": [
    {
     "data": {
      "text/plain": [
       "(27.314743981736385, 17.237581798044324)"
      ]
     },
     "execution_count": 36,
     "metadata": {},
     "output_type": "execute_result"
    }
   ],
   "source": [
    "(max_ssp245_14day.median() - max_hist_14day.median()) / max_hist_14day.median() * 100, (max_ssp585_14day.median() - max_hist_14day.median()) / max_hist_14day.median() * 100"
   ]
  },
  {
   "cell_type": "markdown",
   "metadata": {},
   "source": [
    "### Timing"
   ]
  },
  {
   "cell_type": "code",
   "execution_count": 37,
   "metadata": {},
   "outputs": [
    {
     "name": "stdout",
     "output_type": "stream",
     "text": [
      "[58.389915525211705, 34.968189552244766] [46.0348353094447, 49.34060728271416] [20.343236530003736, 32.20978831301673]\n"
     ]
    }
   ],
   "source": [
    "hist_yearly_max = pd.to_datetime(pd.DataFrame(hist_14day.loc[(hist_14day.index.year>hist_14day.index[0].year)]).resample('1y')[0].idxmax().values)\n",
    "hist_yearly_max_doy = np.array([dt.timetuple().tm_yday for dt in hist_yearly_max])\n",
    "hist_max_doy_stat = [stats.circmean(hist_yearly_max_doy, high=365), stats.circstd(hist_yearly_max_doy, high=365)]\n",
    "\n",
    "ssp245_yearly_max = pd.to_datetime(pd.DataFrame(ssp245_14day.loc[(ssp245_14day.index.year>ssp245_14day.index[0].year)]).resample('1y')[0].idxmax().values)\n",
    "ssp245_yearly_max_doy = np.array([dt.timetuple().tm_yday for dt in ssp245_yearly_max])\n",
    "ssp245_max_doy_stat = [stats.circmean(ssp245_yearly_max_doy, high=365), stats.circstd(ssp245_yearly_max_doy, high=365)]\n",
    "\n",
    "ssp585_yearly_max = pd.to_datetime(pd.DataFrame(ssp585_14day.loc[(ssp585_14day.index.year>ssp585_14day.index[0].year)]).resample('1y')[0].idxmax().values)\n",
    "ssp585_yearly_max_doy = np.array([dt.timetuple().tm_yday for dt in ssp585_yearly_max])\n",
    "ssp585_max_doy_stat = [stats.circmean(ssp585_yearly_max_doy, high=365), stats.circstd(ssp585_yearly_max_doy, high=365)]\n",
    "print(hist_max_doy_stat, ssp245_max_doy_stat, ssp585_max_doy_stat)"
   ]
  },
  {
   "cell_type": "code",
   "execution_count": 38,
   "metadata": {},
   "outputs": [
    {
     "name": "stdout",
     "output_type": "stream",
     "text": [
      "[276.43071244384413, 36.00731021521249] [282.55388890894403, 41.8575771317574] [243.9089955271476, 40.6587662414735]\n"
     ]
    }
   ],
   "source": [
    "hist_yearly_min = pd.to_datetime(pd.DataFrame(hist_14day.loc[(hist_14day.index.year>hist_14day.index[0].year)]).resample('1y')[0].idxmin().values)\n",
    "hist_yearly_min_doy = np.array([dt.timetuple().tm_yday for dt in hist_yearly_min])\n",
    "hist_min_doy_stat = [stats.circmean(hist_yearly_min_doy, high=365), stats.circstd(hist_yearly_min_doy, high=365)]\n",
    "\n",
    "ssp245_yearly_min = pd.to_datetime(pd.DataFrame(ssp245_14day.loc[(ssp245_14day.index.year>ssp245_14day.index[0].year)]).resample('1y')[0].idxmin().values)\n",
    "ssp245_yearly_min_doy = np.array([dt.timetuple().tm_yday for dt in ssp245_yearly_min])\n",
    "ssp245_min_doy_stat = [stats.circmean(ssp245_yearly_min_doy, high=365), stats.circstd(ssp245_yearly_min_doy, high=365)]\n",
    "\n",
    "ssp585_yearly_min = pd.to_datetime(pd.DataFrame(ssp585_14day.loc[(ssp585_14day.index.year>ssp585_14day.index[0].year)]).resample('1y')[0].idxmin().values)\n",
    "ssp585_yearly_min_doy = np.array([dt.timetuple().tm_yday for dt in ssp585_yearly_min])\n",
    "ssp585_min_doy_stat = [stats.circmean(ssp585_yearly_min_doy, high=365), stats.circstd(ssp585_yearly_min_doy, high=365)]\n",
    "print(hist_min_doy_stat, ssp245_min_doy_stat, ssp585_min_doy_stat)"
   ]
  },
  {
   "cell_type": "code",
   "execution_count": 39,
   "metadata": {},
   "outputs": [
    {
     "data": {
      "text/plain": [
       "(6.1231764650999025, -32.52171691669653)"
      ]
     },
     "execution_count": 39,
     "metadata": {},
     "output_type": "execute_result"
    }
   ],
   "source": [
    "reference = stats.circmean(hist_yearly_min_doy, high=365)\n",
    "delta_ssp245 = stats.circmean(ssp245_yearly_min_doy, high=365) - reference\n",
    "delta_ssp585 = stats.circmean(ssp585_yearly_min_doy, high=365) - reference\n",
    "\n",
    "delta_ssp245, delta_ssp585"
   ]
  },
  {
   "cell_type": "code",
   "execution_count": 40,
   "metadata": {},
   "outputs": [
    {
     "data": {
      "text/plain": [
       "(-12.355080215767003, -38.04667899520797)"
      ]
     },
     "execution_count": 40,
     "metadata": {},
     "output_type": "execute_result"
    }
   ],
   "source": [
    "reference = stats.circmean(hist_yearly_max_doy, high=365)\n",
    "delta_ssp245 = stats.circmean(ssp245_yearly_max_doy, high=365) - reference\n",
    "delta_ssp585 = stats.circmean(ssp585_yearly_max_doy, high=365) - reference\n",
    "\n",
    "delta_ssp245, delta_ssp585"
   ]
  },
  {
   "cell_type": "markdown",
   "metadata": {},
   "source": [
    "## Yearly runoff"
   ]
  },
  {
   "cell_type": "code",
   "execution_count": null,
   "metadata": {},
   "outputs": [],
   "source": []
  }
 ],
 "metadata": {
  "kernelspec": {
   "display_name": "Python 3",
   "language": "python",
   "name": "python3"
  },
  "language_info": {
   "codemirror_mode": {
    "name": "ipython",
    "version": 3
   },
   "file_extension": ".py",
   "mimetype": "text/x-python",
   "name": "python",
   "nbconvert_exporter": "python",
   "pygments_lexer": "ipython3",
   "version": "3.7.6"
  }
 },
 "nbformat": 4,
 "nbformat_minor": 4
}
