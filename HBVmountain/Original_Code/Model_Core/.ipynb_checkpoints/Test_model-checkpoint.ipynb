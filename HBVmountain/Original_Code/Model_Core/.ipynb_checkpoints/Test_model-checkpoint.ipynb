{
 "cells": [
  {
   "cell_type": "code",
   "execution_count": 7,
   "metadata": {},
   "outputs": [
    {
     "name": "stderr",
     "output_type": "stream",
     "text": [
      "\u001b[32m\u001b[1m   Resolving\u001b[22m\u001b[39m package versions...\n",
      "\u001b[32m\u001b[1m  No Changes\u001b[22m\u001b[39m to `C:\\Users\\Vincent Hoogelander\\.julia\\environments\\v1.7\\Project.toml`\n",
      "\u001b[32m\u001b[1m  No Changes\u001b[22m\u001b[39m to `C:\\Users\\Vincent Hoogelander\\.julia\\environments\\v1.7\\Manifest.toml`\n"
     ]
    }
   ],
   "source": [
    "import Pkg; Pkg.add(\"DocStringExtensions\")\n",
    "include(\"structs.jl\");\n",
    "include(\"Preprocessing.jl\");\n",
    "include(\"Potential_Evaporation.jl\");\n",
    "include(\"processes_buckets.jl\");\n",
    "include(\"elevations.jl\");\n",
    "include(\"allHRU.jl\")\n",
    "include(\"run_model.jl\");\n",
    "\n",
    "\n"
   ]
  },
  {
   "cell_type": "code",
   "execution_count": 4,
   "metadata": {},
   "outputs": [
    {
     "name": "stdout",
     "output_type": "stream",
     "text": [
      "\u001b[0m\u001b[1mTest Summary: | \u001b[22m\u001b[32m\u001b[1m Pass  \u001b[22m\u001b[39m\u001b[36m\u001b[1mTotal\u001b[22m\u001b[39m\n",
      "intercpetion  | \u001b[32m20841  \u001b[39m\u001b[36m20841\u001b[39m\n"
     ]
    },
    {
     "data": {
      "text/plain": [
       "Test.DefaultTestSet(\"intercpetion\", Any[], 20841, false, false)"
      ]
     },
     "execution_count": 4,
     "metadata": {},
     "output_type": "execute_result"
    }
   ],
   "source": [
    "function allHRU(bare_input::HRU_Input, forest_input::HRU_Input, grass_input::HRU_Input, rip_input::HRU_Input,\n",
    "                bare_storage::Storages, forest_storage::Storages, grass_storage::Storages, rip_storage::Storages,\n",
    "                bare_parameters::Parameters, forest_parameters::Parameters, grass_parameters::Parameters, rip_parameters::Parameters,\n",
    "                Slowstorage::Float64, slow_parameters::Slow_Paramters)\n",
    "    #this function runs thy model for different HRUs\n",
    "    #bare rock HRU\n",
    "    bare_outflow::Outflows, bare_storage::Storages, Bare_precipitation::Float64, Bare_Storages::Float64 = hillslopeHRU(bare_input, bare_storage, bare_parameters)\n",
    "    # forest HRU\n",
    "    forest_outflow::Outflows, forest_storage::Storages, Forest_precipitation::Float64, Forest_Storages::Float64= hillslopeHRU(forest_input, forest_storage, forest_parameters)\n",
    "    # Grassland HRU\n",
    "    grass_outflow::Outflows, grass_storage::Storages, Grass_precipitation::Float64, Grass_Storages::Float64= hillslopeHRU(grass_input, grass_storage, grass_parameters)\n",
    "    # riparian HRU\n",
    "    rip_outflow::Outflows, rip_storage::Storages, Rip_precipitation::Float64, Rip_Storages::Float64= riparianHRU(rip_input, rip_storage, rip_parameters)\n",
    "    # total flow into groundwater is the weighted sum of the HRUs according to areal extent (this was already done in hillslopeHRU)\n",
    "    Total_GWflow = bare_outflow.GWflow + forest_outflow.GWflow  + grass_outflow.GWflow\n",
    "    # Groundwater storage\n",
    "    Riparian_Discharge::Float64, Slow_Discharge::Float64, Slowstorage_New::Float64 = slowstorage(Total_GWflow, Slowstorage, rip_input.Area_HRU, slow_parameters.Ks, slow_parameters.Ratio_Riparian)\n",
    "    #return all storage values, all evaporation values, Fast_Discharge and Slow_Discharge\n",
    "    # calculate total discharge of the timestep using weighted sum of each HRU\n",
    "    Total_Discharge::Float64 = bare_outflow.Fast_Discharge  + forest_outflow.Fast_Discharge + grass_outflow.Fast_Discharge  + rip_outflow.Fast_Discharge  + Slow_Discharge\n",
    "    Total_Soil_Evaporation::Float64 = bare_outflow.Soil_Evaporation + forest_outflow.Soil_Evaporation + grass_outflow.Soil_Evaporation  + rip_outflow.Soil_Evaporation\n",
    "    Total_Interception_Evaporation::Float64 = bare_outflow.Interception_Evaporation  + forest_outflow.Interception_Evaporation + grass_outflow.Interception_Evaporation + rip_outflow.Interception_Evaporation\n",
    "    @assert Riparian_Discharge >= 0\n",
    "    @assert Total_Discharge >= 0\n",
    "    @assert Total_Interception_Evaporation >= 0\n",
    "    @assert Total_Soil_Evaporation >= 0\n",
    "    @assert Slowstorage_New >= 0\n",
    "    Total_Flows = Total_Discharge + Total_Soil_Evaporation + Total_Interception_Evaporation + Riparian_Discharge\n",
    "    Total_Storages = Bare_Storages * bare_input.Area_HRU + Forest_Storages * forest_input.Area_HRU + Grass_Storages * grass_input.Area_HRU + Rip_Storages * rip_input.Area_HRU + Slowstorage_New - Slowstorage\n",
    "    Precipitation = Bare_precipitation * bare_input.Area_HRU + Forest_precipitation * forest_input.Area_HRU + Grass_precipitation * grass_input.Area_HRU + Rip_precipitation * rip_input.Area_HRU\n",
    "    #@assert -0.00000001 <= Precipitation + rip_input.Riparian_Discharge - (Total_Flows + Total_Storages) <= 0.00000001\n",
    "    Waterbalance = Precipitation + rip_input.Riparian_Discharge - (Total_Flows + Total_Storages)\n",
    "    return Riparian_Discharge::Float64, Total_Discharge::Float64, Total_Interception_Evaporation::Float64, Total_Soil_Evaporation::Float64, bare_storage::Storages, forest_storage::Storages, grass_storage::Storages, rip_storage::Storages, Slowstorage_New::Float64, Waterbalance::Float64, Precipitation::Float64\n",
    "end"
   ]
  },
  {
   "cell_type": "code",
   "execution_count": 12,
   "metadata": {},
   "outputs": [
    {
     "data": {
      "text/plain": [
       "(0.0, 0.6, 0.5000000000000001)"
      ]
     },
     "execution_count": 12,
     "metadata": {},
     "output_type": "execute_result"
    }
   ],
   "source": [
    "function allHRU(bare_input::HRU_Input, forest_input::HRU_Input, grass_input::HRU_Input, rip_input::HRU_Input,\n",
    "                bare_storage::Storages, forest_storage::Storages, grass_storage::Storages, rip_storage::Storages,\n",
    "                bare_parameters::Parameters, forest_parameters::Parameters, grass_parameters::Parameters, rip_parameters::Parameters,\n",
    "                Slowstorage::Float64, slow_parameters::Slow_Paramters)\n",
    "    #this function runs thy model for different HRUs\n",
    "    #bare rock HRU\n",
    "    bare_outflow::Outflows, bare_storage::Storages, Bare_precipitation::Float64, Bare_Storages::Float64 = hillslopeHRU(bare_input, bare_storage, bare_parameters)\n",
    "    # forest HRU\n",
    "    forest_outflow::Outflows, forest_storage::Storages, Forest_precipitation::Float64, Forest_Storages::Float64= hillslopeHRU(forest_input, forest_storage, forest_parameters)\n",
    "    # Grassland HRU\n",
    "    grass_outflow::Outflows, grass_storage::Storages, Grass_precipitation::Float64, Grass_Storages::Float64= hillslopeHRU(grass_input, grass_storage, grass_parameters)\n",
    "    # riparian HRU\n",
    "    rip_outflow::Outflows, rip_storage::Storages, Rip_precipitation::Float64, Rip_Storages::Float64= riparianHRU(rip_input, rip_storage, rip_parameters)\n",
    "    # total flow into groundwater is the weighted sum of the HRUs according to areal extent (this was already done in hillslopeHRU)\n",
    "    Total_GWflow = bare_outflow.GWflow + forest_outflow.GWflow  + grass_outflow.GWflow\n",
    "    # Groundwater storage\n",
    "    Riparian_Discharge::Float64, Slow_Discharge::Float64, Slowstorage_New::Float64 = slowstorage(Total_GWflow, Slowstorage, rip_input.Area_HRU, slow_parameters.Ks, slow_parameters.Ratio_Riparian)\n",
    "    #return all storage values, all evaporation values, Fast_Discharge and Slow_Discharge\n",
    "    # calculate total discharge of the timestep using weighted sum of each HRU\n",
    "    Total_Discharge::Float64 = bare_outflow.Fast_Discharge  + forest_outflow.Fast_Discharge + grass_outflow.Fast_Discharge  + rip_outflow.Fast_Discharge  + Slow_Discharge\n",
    "    Total_Soil_Evaporation::Float64 = bare_outflow.Soil_Evaporation + forest_outflow.Soil_Evaporation + grass_outflow.Soil_Evaporation  + rip_outflow.Soil_Evaporation\n",
    "    Total_Interception_Evaporation::Float64 = bare_outflow.Interception_Evaporation  + forest_outflow.Interception_Evaporation + grass_outflow.Interception_Evaporation + rip_outflow.Interception_Evaporation\n",
    "    @assert Riparian_Discharge >= 0\n",
    "    @assert Total_Discharge >= 0\n",
    "    @assert Total_Interception_Evaporation >= 0\n",
    "    @assert Total_Soil_Evaporation >= 0\n",
    "    @assert Slowstorage_New >= 0\n",
    "    Total_Flows = Total_Discharge + Total_Soil_Evaporation + Total_Interception_Evaporation + Riparian_Discharge\n",
    "    Total_Storages = Bare_Storages * bare_input.Area_HRU + Forest_Storages * forest_input.Area_HRU + Grass_Storages * grass_input.Area_HRU + Rip_Storages * rip_input.Area_HRU + Slowstorage_New - Slowstorage\n",
    "    Precipitation = Bare_precipitation * bare_input.Area_HRU + Forest_precipitation * forest_input.Area_HRU + Grass_precipitation * grass_input.Area_HRU + Rip_precipitation * rip_input.Area_HRU\n",
    "    #@assert -0.00000001 <= Precipitation + rip_input.Riparian_Discharge - (Total_Flows + Total_Storages) <= 0.00000001\n",
    "    Waterbalance = Precipitation + rip_input.Riparian_Discharge - (Total_Flows + Total_Storages)\n",
    "    return Riparian_Discharge::Float64, Total_Discharge::Float64, Total_Interception_Evaporation::Float64, Total_Soil_Evaporation::Float64, bare_storage::Storages, forest_storage::Storages, grass_storage::Storages, rip_storage::Storages, Slowstorage_New::Float64, Waterbalance::Float64, Precipitation::Float64\n",
    "end"
   ]
  },
  {
   "cell_type": "code",
   "execution_count": null,
   "metadata": {},
   "outputs": [],
   "source": []
  }
 ],
 "metadata": {
  "kernelspec": {
   "display_name": "Julia 1.7.2",
   "language": "julia",
   "name": "julia-1.7"
  },
  "language_info": {
   "file_extension": ".jl",
   "mimetype": "application/julia",
   "name": "julia",
   "version": "1.7.2"
  }
 },
 "nbformat": 4,
 "nbformat_minor": 4
}
