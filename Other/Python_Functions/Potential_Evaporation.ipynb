{
 "cells": [
  {
   "cell_type": "code",
   "execution_count": 13,
   "metadata": {},
   "outputs": [],
   "source": [
    "import numpy as np\n",
    "import pandas as pd"
   ]
  },
  {
   "cell_type": "code",
   "execution_count": 22,
   "metadata": {},
   "outputs": [
    {
     "ename": "SyntaxError",
     "evalue": "invalid syntax (<ipython-input-22-2640f355d712>, line 1)",
     "output_type": "error",
     "traceback": [
      "\u001b[1;36m  File \u001b[1;32m\"<ipython-input-22-2640f355d712>\"\u001b[1;36m, line \u001b[1;32m1\u001b[0m\n\u001b[1;33m    def monthlytemp(Timeseries, Temp)\u001b[0m\n\u001b[1;37m                                     ^\u001b[0m\n\u001b[1;31mSyntaxError\u001b[0m\u001b[1;31m:\u001b[0m invalid syntax\n"
     ]
    }
   ],
   "source": [
    "def monthlytemp(Timeseries, Temp):\n",
    "    #calculates the mean monthly temperatures of months in the timeseries\n",
    "    assert len(Timeseries[:,0]) == len(Temp)\n",
    "    sum_Temp = 0\n",
    "    monthly_Temp = []\n",
    "    for (i, current_date) in enumerate(Timeseries):\n",
    "        sum_Temp += Temp[i]\n",
    "        #current_date = Date(current_date, dateformat\"y,m,d\")\n",
    "        day =  pd.DatetimeIndex(current_date).day\n",
    "        if day == pd.Period(current_date).days_in_month:\n",
    "            monthly_Temp_current = sum_Temp / pd.Period(current_date).days_in_month\n",
    "            monthly_Temp.append(monthly_Temp_current)\n",
    "            sum_Temp = 0\n",
    " \n",
    "    #print(length(monthly_Temp))\n",
    "    return monthly_Temp\n"
   ]
  },
  {
   "cell_type": "code",
   "execution_count": 10,
   "metadata": {},
   "outputs": [],
   "source": [
    "def heatindex(monthly_Temp):\n",
    "#     assert mod(length(monthly_Temp), 12) == 0\n",
    "\n",
    "    #calculates the annual heat index\n",
    "    Heatindex = []\n",
    "    sum = 0\n",
    "    for (index, current_Temp) in enumerate(monthly_Temp):\n",
    "        I = np.imag(current_Temp/ 5)**1.514\n",
    "        I = np.real(I)\n",
    "#         assert imag.(I) == 0im\n",
    "        s += I\n",
    "        #at the end of each year the annual heat index is given as an output\n",
    "        if index > 2 & (index%12)  == 0:\n",
    "            \n",
    "            Heatindex.append(s)\n",
    "            s = 0\n",
    "\n",
    "    return Heatindex\n"
   ]
  },
  {
   "cell_type": "code",
   "execution_count": 3,
   "metadata": {},
   "outputs": [],
   "source": [
    "def epot_thornthwaite(Temp_daily, Heatindex, daysinmonth, sunhours):\n",
    "    #calculates the potential evaporation by Thornthwaite method\n",
    "    # Thornthwaite method assumes no evaporation below zero degrees (COMPUTER PROGRAM FOR ESTIMATING EVAPOTRANSPIRATION USING THE THORNTHWAITE METHOD)\n",
    "    a = 675 * 10**(-9) * Heatindex**3 - 771 * 10**(-7) * Heatindex**2 + 1792 * 10**(-5) * Heatindex + 0.49239\n",
    "    if Temp_daily < 0:\n",
    "        Temp_daily = 0\n",
    "\n",
    "    E_gross = 16 * (10 * Temp_daily / Heatindex)**a\n",
    "    Epot = E_gross * (sunhours * daysinmonth / 360)\n",
    "    Epot_daily = Epot / daysinmonth\n",
    "    # if 16 * (10 * Temp_daily / Heatindex) <= 0\n",
    "    #     Epot_daily = 0\n",
    "    # else\n",
    "    #     E_gross = 16 * (10 * Temp_daily / Heatindex)^a\n",
    "    #     Epot = E_gross * (sunhours * daysinmonth / 360)\n",
    "    #     Epot_daily = Epot/daysinmonth\n",
    "    # end\n",
    "    return Epot_daily\n"
   ]
  },
  {
   "cell_type": "code",
   "execution_count": 21,
   "metadata": {},
   "outputs": [],
   "source": [
    "def getEpot_thornthwaite(Temp, Timeseries, sunhours):\n",
    "    # assertion for that the timeseries contain whole years\n",
    "    assert length(Timeseries) == length(Temp)\n",
    "    Evaporation = []\n",
    "    # calculate the mean monthly temperatures of the timeseries\n",
    "    Temp_month = monthlytemp(Timeseries, Temp)\n",
    "    #calculate the annual heat indices of the timeseries\n",
    "    annual_heatindex = heatindex(Temp_month)\n",
    "    first_year = pd.DatetimeIndex(Timeseries[0]).year\n",
    "    for (i, current_date) in enumerate(Timeseries):\n",
    "        #current_date = Date(current_date, dateformat\"y,m,d\")\n",
    "        #get the number of days of the current month\n",
    "        daysinmonth = pd.Period(current_date).days_in_month\n",
    "        #print(daysinmonth)\n",
    "        datetuple = pd.Timestamp.timetuple(current_date)\n",
    "        #print(datetuple[2])\n",
    "        #get the sunhours of the current month\n",
    "        sunhours_current = sunhours[datetuple[1]]\n",
    "        # get the monthly evaporation for current month in the timeseries\n",
    "        j = 12 * abs(datetuple[0]- first_year) + datetuple[1]\n",
    "        Temp_monthly_current = Temp_month[j]\n",
    "        # get the annual heat index of the current year\n",
    "        current_annual_heatindex = annual_heatindex[abs(datetuple[0]-first_year) + 1]\n",
    "        Epot = epot_thornthwaite(Temp_monthly_current, current_annual_heatindex, daysinmonth, sunhours_current)\n",
    "        #Epot = Epot/daysinmonth\n",
    "        Evaporation.append(Epot)\n",
    "    \n",
    "    return Evaporation\n",
    "# pandas.Timestamp.timetuple"
   ]
  },
  {
   "cell_type": "code",
   "execution_count": 25,
   "metadata": {},
   "outputs": [],
   "source": [
    "def getEpot_Daily_thornthwaite(Temp, Timeseries, sunhours):\n",
    "    # assertion for that the timeseries contain whole years\n",
    "    assert len(Timeseries) == len(Temp)\n",
    "    Evaporation = []\n",
    "    #calculate the annual heat indices of the timeseries\n",
    "    Temp_month = monthlytemp(Timeseries, Temp)\n",
    "    annual_heatindex = heatindex(Temp_month)\n",
    "    first_year = pd.DatetimeIndex(Timeseries[0]).year\n",
    "    for (i, current_date) in enumerate(Timeseries):\n",
    "        #current_date = Date(current_date, dateformat\"y,m,d\")\n",
    "        #get the number of days of the current month\n",
    "        daysinmonth = pd.Period(current_date).days_in_month\n",
    "        #print(daysinmonth)\n",
    "        datetuple = pd.Timestamp.timetuple(current_date)\n",
    "        #print(datetuple[2])\n",
    "        #get the sunhours of the current month\n",
    "        sunhours_current = sunhours[datetuple[1]]\n",
    "        # get the annual heat index of the current year\n",
    "        current_annual_heatindex = annual_heatindex[abs(datetuple[0]-first_year) + 1]\n",
    "        Epot = epot_thornthwaite(Temp[i], current_annual_heatindex, daysinmonth, sunhours_current)\n",
    "        #Epot = Epot/daysinmonth\n",
    "        Evaporation.append(Epot)\n",
    "        \n",
    "    return Evaporation"
   ]
  },
  {
   "cell_type": "code",
   "execution_count": 19,
   "metadata": {},
   "outputs": [
    {
     "data": {
      "text/plain": [
       "time.struct_time(tm_year=2019, tm_mon=2, tm_mday=4, tm_hour=0, tm_min=0, tm_sec=0, tm_wday=0, tm_yday=35, tm_isdst=-1)"
      ]
     },
     "execution_count": 19,
     "metadata": {},
     "output_type": "execute_result"
    }
   ],
   "source": [
    " pd.Timestamp.timetuple(date)"
   ]
  },
  {
   "cell_type": "code",
   "execution_count": null,
   "metadata": {},
   "outputs": [],
   "source": []
  }
 ],
 "metadata": {
  "kernelspec": {
   "display_name": "Python 3",
   "language": "python",
   "name": "python3"
  },
  "language_info": {
   "codemirror_mode": {
    "name": "ipython",
    "version": 3
   },
   "file_extension": ".py",
   "mimetype": "text/x-python",
   "name": "python",
   "nbconvert_exporter": "python",
   "pygments_lexer": "ipython3",
   "version": "3.7.6"
  }
 },
 "nbformat": 4,
 "nbformat_minor": 4
}
