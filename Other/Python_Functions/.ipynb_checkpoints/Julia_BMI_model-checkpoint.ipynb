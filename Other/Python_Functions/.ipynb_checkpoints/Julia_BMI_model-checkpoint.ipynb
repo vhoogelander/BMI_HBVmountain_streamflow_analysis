{
 "cells": [
  {
   "cell_type": "code",
   "execution_count": 1,
   "metadata": {},
   "outputs": [
    {
     "name": "stderr",
     "output_type": "stream",
     "text": [
      "\n",
      "(process:18608): GLib-GIO-WARNING **: 14:06:08.090: Unexpectedly, UWP app `Clipchamp.Clipchamp_2.3.4.0_neutral__yxz26nhyzhsrt' (AUMId `Clipchamp.Clipchamp_yxz26nhyzhsrt!App') supports 41 extensions but has no verbs\n"
     ]
    }
   ],
   "source": [
    "using DataFrames\n",
    "using CSV\n",
    "using Plots\n",
    "using DocStringExtensions\n",
    "using Dates\n",
    "using NetCDF\n",
    "using Statistics\n",
    "using Pkg\n",
    "# Pkg.add(\"PyCall\")"
   ]
  },
  {
   "cell_type": "code",
   "execution_count": 2,
   "metadata": {},
   "outputs": [],
   "source": [
    "forcing = CSV.read(\"Refactoring/Forcing/forcingWark.csv\", DataFrame); #Example dataset, observation data"
   ]
  },
  {
   "cell_type": "markdown",
   "metadata": {},
   "source": [
    "## NETCDF Dataset"
   ]
  },
  {
   "cell_type": "code",
   "execution_count": 3,
   "metadata": {},
   "outputs": [],
   "source": [
    "# ERA5 simulated data\n",
    "prec = ncread(\"Refactoring/Forcing/HBVmountain_ERA5_Wark_2000_2003.nc\", \"pr\")\n",
    "temp = ncread(\"Refactoring/Forcing/HBVmountain_ERA5_Wark_2000_2003.nc\", \"tas\")\n",
    "\n",
    "\n",
    "# temp = temp[2,1,:][213:942] - 273*ones(730)\n",
    "# prec = prec[2,1,:][213:942] *86400\n",
    "\n",
    "temp = temp[213:942]  # August 2001 until 2003\n",
    "prec = prec[213:942] *86400\n",
    "\n",
    "# forcing.T = temp #Overwrite observation data\n",
    "# forcing.prec = prec;"
   ]
  },
  {
   "cell_type": "code",
   "execution_count": 4,
   "metadata": {},
   "outputs": [
    {
     "data": {
      "text/plain": [
       "\"C:\\\\Users\\\\Vincent Hoogelander\\\\Thesis\\\\Julia_Model\\\\BMI_HBVmountain\""
      ]
     },
     "execution_count": 4,
     "metadata": {},
     "output_type": "execute_result"
    }
   ],
   "source": [
    "pwd()"
   ]
  },
  {
   "cell_type": "markdown",
   "metadata": {},
   "source": [
    "## Dependencies"
   ]
  },
  {
   "cell_type": "code",
   "execution_count": 5,
   "metadata": {},
   "outputs": [
    {
     "data": {
      "text/plain": [
       "HBVmountain_units (generic function with 1 method)"
      ]
     },
     "execution_count": 5,
     "metadata": {},
     "output_type": "execute_result"
    }
   ],
   "source": [
    "include(\"Refactoring/structs.jl\")\n",
    "include(\"Refactoring/parameterselection.jl\")\n",
    "include(\"Refactoring/processes_buckets.jl\")\n",
    "include(\"Refactoring/elevations.jl\")\n",
    "include(\"Refactoring/allHRU.jl\")\n",
    "include(\"Refactoring/run_model.jl\");\n",
    "include(\"Refactoring/Config_model.jl\")\n",
    "include(\"Refactoring/Finalize_Model.jl\")\n",
    "include(\"Refactoring/Potential_Evaporation.jl\")\n",
    "include(\"Refactoring/Preprocessing.jl\")\n",
    "include(\"Refactoring/Units.jl\")"
   ]
  },
  {
   "cell_type": "markdown",
   "metadata": {},
   "source": [
    "## Model structure"
   ]
  },
  {
   "cell_type": "code",
   "execution_count": 6,
   "metadata": {},
   "outputs": [],
   "source": [
    "# module BasicModelInterface, also integrated in Structs.jl\n",
    "mutable struct HBVmountain_model\n",
    "    Discharge::Union{Nothing, Float64}\n",
    "    Snow_Extend::Union{Nothing, Array{Float64,1}}\n",
    "    bare_storage::Union{Nothing, Storages}\n",
    "    forest_storage::Union{Nothing, Storages}\n",
    "    grass_storage::Union{Nothing, Storages}\n",
    "    rip_storage::Union{Nothing, Storages}\n",
    "    Slowstorage::Union{Nothing, Float64}\n",
    "    Waterbalance::Union{Nothing, Float64}\n",
    "    Glacier::Union{Nothing, Array{Float64,1}}\n",
    "    #Model settings\n",
    "    Area\n",
    "    bare_parameters::Union{Nothing, Parameters}\n",
    "    forest_parameters::Union{Nothing, Parameters}\n",
    "    grass_parameters::Union{Nothing, Parameters}\n",
    "    rip_parameters::Union{Nothing, Parameters}\n",
    "    slow_parameters::Union{Nothing, Slow_Paramters}\n",
    "    Elevation::Union{Nothing, Elevations}\n",
    "    Total_Elevationbands ::Union{Nothing, Int8}\n",
    "    Precipitation_gradient ::Union{Nothing, Float64}\n",
    "    Elevation_Percentage \n",
    "    #Initial input settings\n",
    "    bare_input::Union{Nothing, HRU_Input}\n",
    "    forest_input::Union{Nothing, HRU_Input}\n",
    "    grass_input::Union{Nothing, HRU_Input}\n",
    "    rip_input::Union{Nothing, HRU_Input}\n",
    "    #Forcing\n",
    "    Precipitation::Union{Nothing, Array{Float64,2}}\n",
    "    Temperature::Union{Nothing, Array{Float64,2}}\n",
    "    ETP::Union{Nothing, Array{Float64,1}}\n",
    "    Date::Union{Nothing, Array{Date,1}}\n",
    "    Current_Date::Union{Nothing, Date}\n",
    "    Sunhours::Union{Nothing, Array{Float64, 1}}\n",
    "    Units::Union{Nothing, HBVmountain_model_units} # Not completely implemented in the right way yet\n",
    "end"
   ]
  },
  {
   "cell_type": "markdown",
   "metadata": {},
   "source": [
    "## Generate empty model"
   ]
  },
  {
   "cell_type": "code",
   "execution_count": 7,
   "metadata": {},
   "outputs": [],
   "source": [
    "model = HBVmountain_model(nothing,\n",
    "    nothing,\n",
    "    nothing,\n",
    "    nothing,\n",
    "    nothing,\n",
    "    nothing,\n",
    "    nothing,\n",
    "    nothing,\n",
    "    nothing,\n",
    "    #Model settings\n",
    "    nothing,\n",
    "    nothing,\n",
    "    nothing,\n",
    "    nothing,\n",
    "    nothing,\n",
    "    nothing,\n",
    "    nothing,\n",
    "    nothing,\n",
    "    nothing,\n",
    "    nothing,\n",
    "    #Initial input settings\n",
    "    nothing,\n",
    "    nothing,\n",
    "    nothing,\n",
    "    nothing,\n",
    "    #Forcing\n",
    "    nothing,\n",
    "    nothing,\n",
    "    nothing,\n",
    "    nothing,\n",
    "    nothing,\n",
    "    nothing,\n",
    "    nothing);"
   ]
  },
  {
   "cell_type": "markdown",
   "metadata": {},
   "source": [
    "#### Setup Model"
   ]
  },
  {
   "cell_type": "code",
   "execution_count": 8,
   "metadata": {},
   "outputs": [
    {
     "data": {
      "text/plain": [
       "setup (generic function with 31 methods)"
      ]
     },
     "execution_count": 8,
     "metadata": {},
     "output_type": "execute_result"
    }
   ],
   "source": [
    "# Create configuration file which can be used for initialization of the model\n",
    "function setup(Discharge=0.0, Snow_Extend=zeros(1), bare_storage=Storages(0, zeros(1), zeros(1), zeros(1), 0), forest_storage=Storages(0, zeros(1), zeros(1), zeros(1), 0), \n",
    "        grass_storage=Storages(0, zeros(1), zeros(1), zeros(1), 0), rip_storage=Storages(0, zeros(1), zeros(1), zeros(1), 0), Slowstorage=0.0, Waterbalance=0.0, Glacier=zeros(1), Area=0, \n",
    "        bare_parameters=Parameters(0.0, 0.0, 0.0, 0.0, 0.0, 0.0, 0.0, 0.0, 0.0, 0.0), forest_parameters=Parameters(0.0, 0.0, 0.0, 0.0, 0.0, 0.0, 0.0, 0.0, 0.0, 0.0), \n",
    "        grass_parameters=Parameters(0.0, 0.0, 0.0, 0.0, 0.0, 0.0, 0.0, 0.0, 0.0, 0.0), rip_parameters=Parameters(0.0, 0.0, 0.0, 0.0, 0.0, 0.0, 0.0, 0.0, 0.0, 0.0), \n",
    "        slow_parameters=Slow_Paramters(0.0, 0.0), Elevation=Elevations(0,0,0,0,0),Total_Elevationbands=0, Precipitation_gradient=0, Elevation_Percentage=0, bare_input=HRU_Input([1], 0.0, [0], [1], 1, Tuple(0), Tuple(0), 0, [0], 0.0, [0], 0, 0.0), \n",
    "        forest_input=HRU_Input([1], 0.0, [0], [1], 1, Tuple(0), Tuple(0), 0, [0], 0.0, [0], 0, 0.0), \n",
    "        grass_input=HRU_Input([1], 0.0, [0], [1], 1, Tuple(0), Tuple(0), 0, [0], 0.0, [0], 0, 0.0), \n",
    "        rip_input=HRU_Input([1], 0.0, [0], [1], 1, Tuple(0), Tuple(0), 0, [0], 0.0, [0], 0, 0.0), \n",
    "        Precipitation=zeros(0,0), Temperature=zeros(0,0), ETP=zeros(0), Date=Date[], Current_Date=DateTime(0), Sunhours = [0], Units=HBVmountain_units())\n",
    "    \n",
    "    config_file = HBVmountain_model(Discharge, Snow_Extend, bare_storage,forest_storage, grass_storage, rip_storage,\n",
    "        Slowstorage, Waterbalance, Glacier, Area, bare_parameters, forest_parameters, grass_parameters, rip_parameters, slow_parameters,\n",
    "        Elevation, Total_Elevationbands, Precipitation_gradient, Elevation_Percentage, bare_input, forest_input, grass_input, rip_input, Precipitation, Temperature, ETP, Date, Current_Date, Sunhours, Units);\n",
    "    return config_file\n",
    "end"
   ]
  },
  {
   "cell_type": "markdown",
   "metadata": {},
   "source": [
    "## BMI Functions"
   ]
  },
  {
   "cell_type": "code",
   "execution_count": 9,
   "metadata": {},
   "outputs": [
    {
     "data": {
      "text/plain": [
       "initialize (generic function with 2 methods)"
      ]
     },
     "execution_count": 9,
     "metadata": {},
     "output_type": "execute_result"
    }
   ],
   "source": [
    "# uses function in Config_model.jl file\n",
    "function initialize(model, config_file = nothing)\n",
    "    if config_file == nothing\n",
    "        error(\"must give config_file\"::AbstractString) \n",
    "    else\n",
    "        replace_HBVmountainmodel(model, config_file)\n",
    "    end\n",
    "end"
   ]
  },
  {
   "cell_type": "code",
   "execution_count": 10,
   "metadata": {},
   "outputs": [
    {
     "data": {
      "text/plain": [
       "update (generic function with 1 method)"
      ]
     },
     "execution_count": 10,
     "metadata": {},
     "output_type": "execute_result"
    }
   ],
   "source": [
    "# Updates model for one time step, uses the function in Refactoring/run_model \n",
    "function update(model::HBVmountain_model)\n",
    "    #Update model for next timestep\n",
    "    t = findall(x -> x == model.Current_Date, model.Date)[1]\n",
    "    \n",
    "    # Without Epot observations\n",
    "    if sum(model.ETP) == 0\n",
    "        model.ETP = getEpot_Daily_thornthwaite(model.Temperature[:,1], model.Date, model.Sunhours) \n",
    "    end\n",
    "    \n",
    "    #Without multiple Elevations\n",
    "    if model.Elevation.Max_elevation == 0\n",
    "        Discharge, Snow_Extend, Waterbalance, bare_storage, forest_storage, grass_storage, rip_storage, Slowstorage =  run_model_glacier(model.Area, model.ETP[t], model.Glacier, model.Precipitation[t,:], model.Temperature[t,:],\n",
    "                        model.bare_input, model.forest_input, model.grass_input, model.rip_input,\n",
    "                        model.bare_storage, model.forest_storage, model.grass_storage, model.rip_storage, model.Slowstorage,\n",
    "                        model.bare_parameters, model.forest_parameters, model.grass_parameters, model.rip_parameters, model.slow_parameters, model.Total_Elevationbands, model.Elevation_Percentage)\n",
    "    #With Elevations\n",
    "    else\n",
    "        Precipitation = getprecipitationatelevation(model.Elevation, model.Precipitation_gradient, model.Precipitation[t,:])[2][1,:]\n",
    "        Temperature = gettemperatureatelevation(model.Elevation, model.Temperature[t,:])[2][1,:]\n",
    "        Discharge, Snow_Extend, Waterbalance, bare_storage, forest_storage, grass_storage, rip_storage, Slowstorage =  run_model_glacier(model.Area, model.ETP[t], model.Glacier, Precipitation, Temperature,\n",
    "                        model.bare_input, model.forest_input, model.grass_input, model.rip_input,\n",
    "                        model.bare_storage, model.forest_storage, model.grass_storage, model.rip_storage, model.Slowstorage,\n",
    "                        model.bare_parameters, model.forest_parameters, model.grass_parameters, model.rip_parameters, model.slow_parameters, model.Total_Elevationbands, model.Elevation_Percentage)\n",
    "    end \n",
    "    \n",
    "    #Update model state\n",
    "    model.Discharge = Discharge\n",
    "    model.Snow_Extend = Snow_Extend\n",
    "    model.Waterbalance = Waterbalance\n",
    "    model.bare_storage = bare_storage::Storages\n",
    "    model.forest_storage = forest_storage::Storages\n",
    "    model.grass_storage = grass_storage::Storages\n",
    "    model.rip_storage = rip_storage::Storages\n",
    "    model.Slowstorage = Slowstorage::Float64\n",
    "    \n",
    "    #update current date\n",
    "    model.Current_Date = model.Date[t+1]\n",
    "\n",
    "end "
   ]
  },
  {
   "cell_type": "code",
   "execution_count": 11,
   "metadata": {},
   "outputs": [
    {
     "data": {
      "text/plain": [
       "update_until (generic function with 1 method)"
      ]
     },
     "execution_count": 11,
     "metadata": {},
     "output_type": "execute_result"
    }
   ],
   "source": [
    "# Updates model until indicated time step\n",
    "function update_until(model::HBVmountain_model, time::String)\n",
    "    update_time = length(model.Date[model.Date .<= DateTime(time)])\n",
    "    tmax::Int128 = length(model.Precipitation[1:update_time])\n",
    "    for t in 1:tmax\n",
    "        update(model)\n",
    "    end\n",
    "end"
   ]
  },
  {
   "cell_type": "code",
   "execution_count": 12,
   "metadata": {},
   "outputs": [
    {
     "data": {
      "text/plain": [
       "finalize (generic function with 1 method)"
      ]
     },
     "execution_count": 12,
     "metadata": {},
     "output_type": "execute_result"
    }
   ],
   "source": [
    "# Returns empty model\n",
    "function finalize(model) \n",
    "    finalize_HBVmountainmodel(model)\n",
    "end"
   ]
  },
  {
   "cell_type": "code",
   "execution_count": 13,
   "metadata": {},
   "outputs": [
    {
     "data": {
      "text/plain": [
       "get_component_name (generic function with 1 method)"
      ]
     },
     "execution_count": 13,
     "metadata": {},
     "output_type": "execute_result"
    }
   ],
   "source": [
    "function get_component_name(model)\n",
    "    return string(typeof(model))\n",
    "end"
   ]
  },
  {
   "cell_type": "code",
   "execution_count": 14,
   "metadata": {},
   "outputs": [
    {
     "data": {
      "text/plain": [
       "get_input_item_count (generic function with 1 method)"
      ]
     },
     "execution_count": 14,
     "metadata": {},
     "output_type": "execute_result"
    }
   ],
   "source": [
    "function get_input_item_count(model)\n",
    "    return length(fieldnames(typeof(model)))\n",
    "end"
   ]
  },
  {
   "cell_type": "code",
   "execution_count": 15,
   "metadata": {},
   "outputs": [
    {
     "data": {
      "text/plain": [
       "get_output_item_count (generic function with 1 method)"
      ]
     },
     "execution_count": 15,
     "metadata": {},
     "output_type": "execute_result"
    }
   ],
   "source": [
    "function get_output_item_count(model)\n",
    "    return length(fieldnames(typeof(model)))\n",
    "end"
   ]
  },
  {
   "cell_type": "code",
   "execution_count": 16,
   "metadata": {},
   "outputs": [
    {
     "data": {
      "text/plain": [
       "get_input_var_names (generic function with 1 method)"
      ]
     },
     "execution_count": 16,
     "metadata": {},
     "output_type": "execute_result"
    }
   ],
   "source": [
    "function get_input_var_names(model)\n",
    "    return string(fieldnames(typeof(model)))\n",
    "end"
   ]
  },
  {
   "cell_type": "code",
   "execution_count": 17,
   "metadata": {},
   "outputs": [
    {
     "data": {
      "text/plain": [
       "get_output_var_names (generic function with 1 method)"
      ]
     },
     "execution_count": 17,
     "metadata": {},
     "output_type": "execute_result"
    }
   ],
   "source": [
    "function get_output_var_names(model)\n",
    "    return string(fieldnames(typeof(model)))\n",
    "end"
   ]
  },
  {
   "cell_type": "code",
   "execution_count": 18,
   "metadata": {},
   "outputs": [
    {
     "data": {
      "text/plain": [
       "get_var_type (generic function with 1 method)"
      ]
     },
     "execution_count": 18,
     "metadata": {},
     "output_type": "execute_result"
    }
   ],
   "source": [
    "function get_var_type(model, name::String)\n",
    "    return String(typeof(getfield(model, Symbol(name))))\n",
    "end"
   ]
  },
  {
   "cell_type": "code",
   "execution_count": 19,
   "metadata": {},
   "outputs": [
    {
     "data": {
      "text/plain": [
       "get_var_units (generic function with 1 method)"
      ]
     },
     "execution_count": 19,
     "metadata": {},
     "output_type": "execute_result"
    }
   ],
   "source": [
    "function get_var_units(model, name::String)\n",
    "    return getfield(model.Units, Symbol(name))\n",
    "end"
   ]
  },
  {
   "cell_type": "code",
   "execution_count": 20,
   "metadata": {},
   "outputs": [
    {
     "data": {
      "text/plain": [
       "get_var_itemsize (generic function with 1 method)"
      ]
     },
     "execution_count": 20,
     "metadata": {},
     "output_type": "execute_result"
    }
   ],
   "source": [
    "function get_var_itemsize(model, name::String)\n",
    "    return Int(sizeof(getfield(model, Symbol(name)))/ length(getfield(model, Symbol(name))))\n",
    "end"
   ]
  },
  {
   "cell_type": "code",
   "execution_count": 21,
   "metadata": {},
   "outputs": [
    {
     "data": {
      "text/plain": [
       "get_var_nbytes (generic function with 1 method)"
      ]
     },
     "execution_count": 21,
     "metadata": {},
     "output_type": "execute_result"
    }
   ],
   "source": [
    "function get_var_nbytes(model, name::String)\n",
    "    return sizeof(getfield(model, Symbol(name)))\n",
    "end"
   ]
  },
  {
   "cell_type": "code",
   "execution_count": 22,
   "metadata": {},
   "outputs": [
    {
     "data": {
      "text/plain": [
       "get_current_time (generic function with 1 method)"
      ]
     },
     "execution_count": 22,
     "metadata": {},
     "output_type": "execute_result"
    }
   ],
   "source": [
    "function get_current_time(model)\n",
    "    return model.Current_Date\n",
    "end"
   ]
  },
  {
   "cell_type": "code",
   "execution_count": 23,
   "metadata": {},
   "outputs": [
    {
     "data": {
      "text/plain": [
       "get_start_time (generic function with 1 method)"
      ]
     },
     "execution_count": 23,
     "metadata": {},
     "output_type": "execute_result"
    }
   ],
   "source": [
    "function get_start_time(model)\n",
    "    return model.Date[1]\n",
    "end"
   ]
  },
  {
   "cell_type": "code",
   "execution_count": 24,
   "metadata": {},
   "outputs": [
    {
     "data": {
      "text/plain": [
       "get_end_time (generic function with 1 method)"
      ]
     },
     "execution_count": 24,
     "metadata": {},
     "output_type": "execute_result"
    }
   ],
   "source": [
    "function get_end_time(model)\n",
    "    return last(model.Date)\n",
    "end"
   ]
  },
  {
   "cell_type": "code",
   "execution_count": 25,
   "metadata": {},
   "outputs": [
    {
     "data": {
      "text/plain": [
       "get_time_units (generic function with 1 method)"
      ]
     },
     "execution_count": 25,
     "metadata": {},
     "output_type": "execute_result"
    }
   ],
   "source": [
    "function get_time_units(model)\n",
    "    return dump(model.Date[2] - model.Date[1], maxdepth=0)\n",
    "end"
   ]
  },
  {
   "cell_type": "code",
   "execution_count": 26,
   "metadata": {},
   "outputs": [
    {
     "data": {
      "text/plain": [
       "get_time_step (generic function with 1 method)"
      ]
     },
     "execution_count": 26,
     "metadata": {},
     "output_type": "execute_result"
    }
   ],
   "source": [
    "function get_time_step(model)\n",
    "    return (model.Date[2] - model.Date[1])::Float64\n",
    "end"
   ]
  },
  {
   "cell_type": "code",
   "execution_count": 27,
   "metadata": {},
   "outputs": [
    {
     "data": {
      "text/plain": [
       "get_value (generic function with 2 methods)"
      ]
     },
     "execution_count": 27,
     "metadata": {},
     "output_type": "execute_result"
    }
   ],
   "source": [
    "function get_value(model, name, dest=nothing)\n",
    "    if dest != nothing \n",
    "        empty!(dest)\n",
    "        push!(dest, getfield(model, Symbol(name)))\n",
    "    else   \n",
    "        return getfield(model, Symbol(name))\n",
    "    end \n",
    "end"
   ]
  },
  {
   "cell_type": "code",
   "execution_count": 28,
   "metadata": {},
   "outputs": [
    {
     "data": {
      "text/plain": [
       "get_value_ptr (generic function with 1 method)"
      ]
     },
     "execution_count": 28,
     "metadata": {},
     "output_type": "execute_result"
    }
   ],
   "source": [
    "# Not sure if this is correct\n",
    "function get_value_ptr(model, name)\n",
    "    return getfield(model, Symbol(name))\n",
    "end"
   ]
  },
  {
   "cell_type": "code",
   "execution_count": 29,
   "metadata": {},
   "outputs": [
    {
     "data": {
      "text/plain": [
       "get_value_at_indices (generic function with 1 method)"
      ]
     },
     "execution_count": 29,
     "metadata": {},
     "output_type": "execute_result"
    }
   ],
   "source": [
    "function get_value_at_indices(model, name, dest, inds)\n",
    "    getfield(model, Symbol(name))[inds]\n",
    "end"
   ]
  },
  {
   "cell_type": "code",
   "execution_count": 30,
   "metadata": {},
   "outputs": [
    {
     "data": {
      "text/plain": [
       "set_value (generic function with 1 method)"
      ]
     },
     "execution_count": 30,
     "metadata": {},
     "output_type": "execute_result"
    }
   ],
   "source": [
    "function set_value(model::HBVmountain_model, name::String, value)\n",
    "    setfield!(model, Symbol(name), value)\n",
    "end"
   ]
  },
  {
   "cell_type": "code",
   "execution_count": 31,
   "metadata": {},
   "outputs": [
    {
     "data": {
      "text/plain": [
       "set_value_at_indices (generic function with 1 method)"
      ]
     },
     "execution_count": 31,
     "metadata": {},
     "output_type": "execute_result"
    }
   ],
   "source": [
    "function set_value_at_indices(model, name, inds, value)\n",
    "    model.name[inds] = value\n",
    "end"
   ]
  },
  {
   "cell_type": "code",
   "execution_count": 32,
   "metadata": {},
   "outputs": [
    {
     "data": {
      "text/plain": [
       "get_grid_nodes_per_face (generic function with 1 method)"
      ]
     },
     "execution_count": 32,
     "metadata": {},
     "output_type": "execute_result"
    }
   ],
   "source": [
    "function get_var_grid(model, name)\n",
    "    error(\"BMI Function not implemented\"::AbstractString) \n",
    "end\n",
    "\n",
    "function get_var_location(model, name)\n",
    "    error(\"BMI Function not implemented\"::AbstractString) \n",
    "end\n",
    "\n",
    "function get_grid_rank(model, grid)\n",
    "    error(\"BMI Function not implemented\"::AbstractString) \n",
    "end\n",
    "\n",
    "function get_grid_size(model, grid)\n",
    "    error(\"BMI Function not implemented\"::AbstractString) \n",
    "end\n",
    "\n",
    "function get_grid_type(model, grid)\n",
    "    error(\"BMI Function not implemented\"::AbstractString) \n",
    "end\n",
    "\n",
    "function get_grid_shape(model, grid)\n",
    "    error(\"BMI Function not implemented\"::AbstractString) \n",
    "end\n",
    "\n",
    "function get_grid_spacing(model, grid, spacing)\n",
    "    error(\"BMI Function not implemented\"::AbstractString) \n",
    "end\n",
    "\n",
    "function get_grid_origin(model, grid, origin)\n",
    "    error(\"BMI Function not implemented\"::AbstractString) \n",
    "end\n",
    "\n",
    "function get_grid_x(model, grid, x)\n",
    "    error(\"BMI Function not implemented\"::AbstractString) \n",
    "end\n",
    "\n",
    "function get_grid_y(model, grid, y)\n",
    "    error(\"BMI Function not implemented\"::AbstractString) \n",
    "end\n",
    "\n",
    "function get_grid_z(model, grid, z)\n",
    "    error(\"BMI Function not implemented\"::AbstractString) \n",
    "end\n",
    "\n",
    "function get_grid_node_count(model, grid)\n",
    "    error(\"BMI Function not implemented\"::AbstractString) \n",
    "end\n",
    "\n",
    "function get_grid_edge_count(model, grid)\n",
    "    error(\"BMI Function not implemented\"::AbstractString) \n",
    "end\n",
    "\n",
    "function get_grid_face_count(model, grid)\n",
    "    error(\"BMI Function not implemented\"::AbstractString) \n",
    "end\n",
    "\n",
    "function get_grid_edge_nodes(model, grid, edge_nodes)\n",
    "    error(\"BMI Function not implemented\"::AbstractString) \n",
    "end\n",
    "\n",
    "function get_grid_face_edges(model, grid, face_edges)\n",
    "    error(\"BMI Function not implemented\"::AbstractString) \n",
    "end\n",
    "\n",
    "function get_grid_face_nodes(model, grid, face_nodes)\n",
    "    error(\"BMI Function not implemented\"::AbstractString) \n",
    "end\n",
    "\n",
    "function get_grid_nodes_per_face(model, grid, nodes_per_face)\n",
    "    error(\"BMI Function not implemented\"::AbstractString) \n",
    "end"
   ]
  },
  {
   "cell_type": "markdown",
   "metadata": {},
   "source": [
    "## Test"
   ]
  },
  {
   "cell_type": "code",
   "execution_count": 33,
   "metadata": {},
   "outputs": [],
   "source": [
    "config_file = setup()\n",
    "initialize(model, config_file);"
   ]
  },
  {
   "cell_type": "code",
   "execution_count": 34,
   "metadata": {},
   "outputs": [
    {
     "data": {
      "text/plain": [
       "Slow_Paramters(0.0614, 0.131)"
      ]
     },
     "execution_count": 34,
     "metadata": {},
     "output_type": "execute_result"
    }
   ],
   "source": [
    "parameters, slow_parameters,parameters_array =  parameter_selection()\n",
    "model.bare_parameters = parameters[1]\n",
    "model.forest_parameters = parameters[2]\n",
    "model.grass_parameters = parameters[3]\n",
    "model.rip_parameters = parameters[4]\n",
    "model.slow_parameters = slow_parameters"
   ]
  },
  {
   "cell_type": "code",
   "execution_count": 35,
   "metadata": {},
   "outputs": [
    {
     "data": {
      "text/plain": [
       "Storages(0.0, [0.0, 0.0, 0.0, 0.0], [0.0, 0.0, 0.0, 0.0], [0.0, 0.0, 0.0, 0.0], 0.0)"
      ]
     },
     "execution_count": 35,
     "metadata": {},
     "output_type": "execute_result"
    }
   ],
   "source": [
    "model.Elevation = Elevations(50, 200, 450, 280, 280)\n",
    "\n",
    "model.Precipitation = forcing.prec * ones(1,1)\n",
    "# model.Precipitation = getprecipitationatelevation(Elevation, 0.00, model.Precipitation[:,1])[2]\n",
    "# model.ETP = forcing.ETP\n",
    "model.Temperature = forcing.T* ones(1,1)\n",
    "# model.Temperature = gettemperatureatelevation(Elevation, model.Temperature[:,1])[2]\n",
    "model.Date = forcing.DATE\n",
    "model.Glacier = [0, 0, 0, 0]\n",
    "model.Sunhours = [8.83, 10.26, 11.95, 13.75, 15.28, 16.11, 15.75, 14.36, 12.63, 10.9, 9.28, 8.43]\n",
    "model.Current_Date = model.Date[1]\n",
    "# model.ETP = getEpot_Daily_thornthwaite(model.Temperature[:,1], model.Date, model.Sunhours)\n",
    "model.bare_input = HRU_Input([0,0,0,0], 0, zeros(4), [1,2,3,4], 4, Tuple(0), Tuple(0), 0, zeros(4), 0.01, zeros(4), 0, 0.0)\n",
    "model.forest_input = HRU_Input([0.8,0.1,0.1,0.0], 0.4,zeros(4), [1,2,3,4], 4, Tuple(0), Tuple(0), 0, zeros(4), 0.01, zeros(4), 0, 0.0)\n",
    "model.grass_input = HRU_Input([0.3,0.3,0.2,0.2], 0.3,zeros(4), [1,2,3,4], 4, Tuple(0), Tuple(0), 0, zeros(4), 0.01, zeros(4), 0, 0.0)\n",
    "model.rip_input = HRU_Input([0.0,0.1,0.3,0.6], 0.3,zeros(4), [1,2,3,4], 4, Tuple(0), Tuple(0), 0, zeros(4), 0.01, zeros(4), 0, 0.0)\n",
    "model.Total_Elevationbands = 4\n",
    "model.Elevation_Percentage = [0.2,0.2,0.3,0.3]\n",
    "model.bare_storage = Storages(0,zeros(4),zeros(4),zeros(4),0)\n",
    "model.forest_storage = Storages(0,zeros(4),zeros(4),zeros(4),0)\n",
    "model.grass_storage = Storages(0,zeros(4),zeros(4),zeros(4),0)\n",
    "model.rip_storage = Storages(0,zeros(4),zeros(4),zeros(4),0)"
   ]
  },
  {
   "cell_type": "code",
   "execution_count": 36,
   "metadata": {},
   "outputs": [],
   "source": [
    "#Using Thornwaite Epot\n",
    "Snow1 = Float64[]\n",
    "Snow2 = Float64[]\n",
    "Snow3 = Float64[]\n",
    "Snow4 = Float64[]\n",
    "Discharge = Float64[]\n",
    "Glacier = Float64[]\n",
    "while (model.Current_Date < last(model.Date))  \n",
    "    update(model)\n",
    "    append!(Discharge, model.Discharge)\n",
    "    append!(Snow1, model.Snow_Extend[1])\n",
    "    append!(Snow2, model.Snow_Extend[2])\n",
    "    append!(Snow3, model.Snow_Extend[3])\n",
    "    append!(Snow4, model.Snow_Extend[4])\n",
    "    append!(Glacier, model.Glacier[1])\n",
    "end"
   ]
  },
  {
   "cell_type": "code",
   "execution_count": 37,
   "metadata": {},
   "outputs": [
    {
     "data": {
      "image/svg+xml": [
       "<?xml version=\"1.0\" encoding=\"utf-8\"?>\n",
       "<svg xmlns=\"http://www.w3.org/2000/svg\" xmlns:xlink=\"http://www.w3.org/1999/xlink\" width=\"600\" height=\"300\" viewBox=\"0 0 2400 1200\">\n",
       "<defs>\n",
       "  <clipPath id=\"clip300\">\n",
       "    <rect x=\"0\" y=\"0\" width=\"2400\" height=\"1200\"/>\n",
       "  </clipPath>\n",
       "</defs>\n",
       "<path clip-path=\"url(#clip300)\" d=\"\n",
       "M0 1200 L2400 1200 L2400 0 L0 0  Z\n",
       "  \" fill=\"#ffffff\" fill-rule=\"evenodd\" fill-opacity=\"1\"/>\n",
       "<defs>\n",
       "  <clipPath id=\"clip301\">\n",
       "    <rect x=\"480\" y=\"0\" width=\"1681\" height=\"1200\"/>\n",
       "  </clipPath>\n",
       "</defs>\n",
       "<path clip-path=\"url(#clip300)\" d=\"\n",
       "M140.696 1099.09 L2352.76 1099.09 L2352.76 82.4321 L140.696 82.4321  Z\n",
       "  \" fill=\"#ffffff\" fill-rule=\"evenodd\" fill-opacity=\"1\"/>\n",
       "<defs>\n",
       "  <clipPath id=\"clip302\">\n",
       "    <rect x=\"140\" y=\"82\" width=\"2213\" height=\"1018\"/>\n",
       "  </clipPath>\n",
       "</defs>\n",
       "<polyline clip-path=\"url(#clip302)\" style=\"stroke:#000000; stroke-linecap:butt; stroke-linejoin:round; stroke-width:2; stroke-opacity:0.1; fill:none\" points=\"\n",
       "  200.438,1099.09 200.438,82.4321 \n",
       "  \"/>\n",
       "<polyline clip-path=\"url(#clip302)\" style=\"stroke:#000000; stroke-linecap:butt; stroke-linejoin:round; stroke-width:2; stroke-opacity:0.1; fill:none\" points=\"\n",
       "  772.962,1099.09 772.962,82.4321 \n",
       "  \"/>\n",
       "<polyline clip-path=\"url(#clip302)\" style=\"stroke:#000000; stroke-linecap:butt; stroke-linejoin:round; stroke-width:2; stroke-opacity:0.1; fill:none\" points=\"\n",
       "  1345.49,1099.09 1345.49,82.4321 \n",
       "  \"/>\n",
       "<polyline clip-path=\"url(#clip302)\" style=\"stroke:#000000; stroke-linecap:butt; stroke-linejoin:round; stroke-width:2; stroke-opacity:0.1; fill:none\" points=\"\n",
       "  1918.01,1099.09 1918.01,82.4321 \n",
       "  \"/>\n",
       "<polyline clip-path=\"url(#clip300)\" style=\"stroke:#000000; stroke-linecap:butt; stroke-linejoin:round; stroke-width:4; stroke-opacity:1; fill:none\" points=\"\n",
       "  140.696,1099.09 2352.76,1099.09 \n",
       "  \"/>\n",
       "<polyline clip-path=\"url(#clip300)\" style=\"stroke:#000000; stroke-linecap:butt; stroke-linejoin:round; stroke-width:4; stroke-opacity:1; fill:none\" points=\"\n",
       "  200.438,1099.09 200.438,1080.19 \n",
       "  \"/>\n",
       "<polyline clip-path=\"url(#clip300)\" style=\"stroke:#000000; stroke-linecap:butt; stroke-linejoin:round; stroke-width:4; stroke-opacity:1; fill:none\" points=\"\n",
       "  772.962,1099.09 772.962,1080.19 \n",
       "  \"/>\n",
       "<polyline clip-path=\"url(#clip300)\" style=\"stroke:#000000; stroke-linecap:butt; stroke-linejoin:round; stroke-width:4; stroke-opacity:1; fill:none\" points=\"\n",
       "  1345.49,1099.09 1345.49,1080.19 \n",
       "  \"/>\n",
       "<polyline clip-path=\"url(#clip300)\" style=\"stroke:#000000; stroke-linecap:butt; stroke-linejoin:round; stroke-width:4; stroke-opacity:1; fill:none\" points=\"\n",
       "  1918.01,1099.09 1918.01,1080.19 \n",
       "  \"/>\n",
       "<path clip-path=\"url(#clip300)\" d=\"M200.438 1130.01 Q196.827 1130.01 194.999 1133.57 Q193.193 1137.11 193.193 1144.24 Q193.193 1151.35 194.999 1154.91 Q196.827 1158.46 200.438 1158.46 Q204.073 1158.46 205.878 1154.91 Q207.707 1151.35 207.707 1144.24 Q207.707 1137.11 205.878 1133.57 Q204.073 1130.01 200.438 1130.01 M200.438 1126.3 Q206.249 1126.3 209.304 1130.91 Q212.383 1135.49 212.383 1144.24 Q212.383 1152.97 209.304 1157.58 Q206.249 1162.16 200.438 1162.16 Q194.628 1162.16 191.55 1157.58 Q188.494 1152.97 188.494 1144.24 Q188.494 1135.49 191.55 1130.91 Q194.628 1126.3 200.438 1126.3 Z\" fill=\"#000000\" fill-rule=\"evenodd\" fill-opacity=\"1\" /><path clip-path=\"url(#clip300)\" d=\"M736.655 1157.55 L752.974 1157.55 L752.974 1161.49 L731.03 1161.49 L731.03 1157.55 Q733.692 1154.8 738.275 1150.17 Q742.881 1145.52 744.062 1144.17 Q746.307 1141.65 747.187 1139.91 Q748.09 1138.15 748.09 1136.46 Q748.09 1133.71 746.145 1131.97 Q744.224 1130.24 741.122 1130.24 Q738.923 1130.24 736.469 1131 Q734.039 1131.77 731.261 1133.32 L731.261 1128.59 Q734.085 1127.46 736.539 1126.88 Q738.993 1126.3 741.03 1126.3 Q746.4 1126.3 749.594 1128.99 Q752.789 1131.67 752.789 1136.16 Q752.789 1138.29 751.979 1140.21 Q751.192 1142.11 749.085 1144.71 Q748.506 1145.38 745.405 1148.59 Q742.303 1151.79 736.655 1157.55 Z\" fill=\"#000000\" fill-rule=\"evenodd\" fill-opacity=\"1\" /><path clip-path=\"url(#clip300)\" d=\"M772.789 1130.01 Q769.178 1130.01 767.349 1133.57 Q765.543 1137.11 765.543 1144.24 Q765.543 1151.35 767.349 1154.91 Q769.178 1158.46 772.789 1158.46 Q776.423 1158.46 778.228 1154.91 Q780.057 1151.35 780.057 1144.24 Q780.057 1137.11 778.228 1133.57 Q776.423 1130.01 772.789 1130.01 M772.789 1126.3 Q778.599 1126.3 781.654 1130.91 Q784.733 1135.49 784.733 1144.24 Q784.733 1152.97 781.654 1157.58 Q778.599 1162.16 772.789 1162.16 Q766.978 1162.16 763.9 1157.58 Q760.844 1152.97 760.844 1144.24 Q760.844 1135.49 763.9 1130.91 Q766.978 1126.3 772.789 1126.3 Z\" fill=\"#000000\" fill-rule=\"evenodd\" fill-opacity=\"1\" /><path clip-path=\"url(#clip300)\" d=\"M802.951 1130.01 Q799.339 1130.01 797.511 1133.57 Q795.705 1137.11 795.705 1144.24 Q795.705 1151.35 797.511 1154.91 Q799.339 1158.46 802.951 1158.46 Q806.585 1158.46 808.39 1154.91 Q810.219 1151.35 810.219 1144.24 Q810.219 1137.11 808.39 1133.57 Q806.585 1130.01 802.951 1130.01 M802.951 1126.3 Q808.761 1126.3 811.816 1130.91 Q814.895 1135.49 814.895 1144.24 Q814.895 1152.97 811.816 1157.58 Q808.761 1162.16 802.951 1162.16 Q797.14 1162.16 794.062 1157.58 Q791.006 1152.97 791.006 1144.24 Q791.006 1135.49 794.062 1130.91 Q797.14 1126.3 802.951 1126.3 Z\" fill=\"#000000\" fill-rule=\"evenodd\" fill-opacity=\"1\" /><path clip-path=\"url(#clip300)\" d=\"M1318.58 1131 L1306.77 1149.45 L1318.58 1149.45 L1318.58 1131 M1317.35 1126.93 L1323.23 1126.93 L1323.23 1149.45 L1328.16 1149.45 L1328.16 1153.34 L1323.23 1153.34 L1323.23 1161.49 L1318.58 1161.49 L1318.58 1153.34 L1302.97 1153.34 L1302.97 1148.83 L1317.35 1126.93 Z\" fill=\"#000000\" fill-rule=\"evenodd\" fill-opacity=\"1\" /><path clip-path=\"url(#clip300)\" d=\"M1345.89 1130.01 Q1342.28 1130.01 1340.45 1133.57 Q1338.65 1137.11 1338.65 1144.24 Q1338.65 1151.35 1340.45 1154.91 Q1342.28 1158.46 1345.89 1158.46 Q1349.53 1158.46 1351.33 1154.91 Q1353.16 1151.35 1353.16 1144.24 Q1353.16 1137.11 1351.33 1133.57 Q1349.53 1130.01 1345.89 1130.01 M1345.89 1126.3 Q1351.7 1126.3 1354.76 1130.91 Q1357.84 1135.49 1357.84 1144.24 Q1357.84 1152.97 1354.76 1157.58 Q1351.7 1162.16 1345.89 1162.16 Q1340.08 1162.16 1337 1157.58 Q1333.95 1152.97 1333.95 1144.24 Q1333.95 1135.49 1337 1130.91 Q1340.08 1126.3 1345.89 1126.3 Z\" fill=\"#000000\" fill-rule=\"evenodd\" fill-opacity=\"1\" /><path clip-path=\"url(#clip300)\" d=\"M1376.05 1130.01 Q1372.44 1130.01 1370.61 1133.57 Q1368.81 1137.11 1368.81 1144.24 Q1368.81 1151.35 1370.61 1154.91 Q1372.44 1158.46 1376.05 1158.46 Q1379.69 1158.46 1381.49 1154.91 Q1383.32 1151.35 1383.32 1144.24 Q1383.32 1137.11 1381.49 1133.57 Q1379.69 1130.01 1376.05 1130.01 M1376.05 1126.3 Q1381.86 1126.3 1384.92 1130.91 Q1388 1135.49 1388 1144.24 Q1388 1152.97 1384.92 1157.58 Q1381.86 1162.16 1376.05 1162.16 Q1370.24 1162.16 1367.16 1157.58 Q1364.11 1152.97 1364.11 1144.24 Q1364.11 1135.49 1367.16 1130.91 Q1370.24 1126.3 1376.05 1126.3 Z\" fill=\"#000000\" fill-rule=\"evenodd\" fill-opacity=\"1\" /><path clip-path=\"url(#clip300)\" d=\"M1888.33 1142.34 Q1885.19 1142.34 1883.33 1144.5 Q1881.51 1146.65 1881.51 1150.4 Q1881.51 1154.13 1883.33 1156.3 Q1885.19 1158.46 1888.33 1158.46 Q1891.48 1158.46 1893.31 1156.3 Q1895.16 1154.13 1895.16 1150.4 Q1895.16 1146.65 1893.31 1144.5 Q1891.48 1142.34 1888.33 1142.34 M1897.62 1127.69 L1897.62 1131.95 Q1895.86 1131.12 1894.05 1130.68 Q1892.27 1130.24 1890.51 1130.24 Q1885.88 1130.24 1883.43 1133.36 Q1881 1136.49 1880.65 1142.81 Q1882.01 1140.79 1884.07 1139.73 Q1886.14 1138.64 1888.61 1138.64 Q1893.82 1138.64 1896.83 1141.81 Q1899.86 1144.96 1899.86 1150.4 Q1899.86 1155.72 1896.71 1158.94 Q1893.57 1162.16 1888.33 1162.16 Q1882.34 1162.16 1879.17 1157.58 Q1876 1152.97 1876 1144.24 Q1876 1136.05 1879.89 1131.19 Q1883.77 1126.3 1890.32 1126.3 Q1892.08 1126.3 1893.87 1126.65 Q1895.67 1127 1897.62 1127.69 Z\" fill=\"#000000\" fill-rule=\"evenodd\" fill-opacity=\"1\" /><path clip-path=\"url(#clip300)\" d=\"M1917.92 1130.01 Q1914.31 1130.01 1912.48 1133.57 Q1910.67 1137.11 1910.67 1144.24 Q1910.67 1151.35 1912.48 1154.91 Q1914.31 1158.46 1917.92 1158.46 Q1921.55 1158.46 1923.36 1154.91 Q1925.19 1151.35 1925.19 1144.24 Q1925.19 1137.11 1923.36 1133.57 Q1921.55 1130.01 1917.92 1130.01 M1917.92 1126.3 Q1923.73 1126.3 1926.78 1130.91 Q1929.86 1135.49 1929.86 1144.24 Q1929.86 1152.97 1926.78 1157.58 Q1923.73 1162.16 1917.92 1162.16 Q1912.11 1162.16 1909.03 1157.58 Q1905.97 1152.97 1905.97 1144.24 Q1905.97 1135.49 1909.03 1130.91 Q1912.11 1126.3 1917.92 1126.3 Z\" fill=\"#000000\" fill-rule=\"evenodd\" fill-opacity=\"1\" /><path clip-path=\"url(#clip300)\" d=\"M1948.08 1130.01 Q1944.47 1130.01 1942.64 1133.57 Q1940.83 1137.11 1940.83 1144.24 Q1940.83 1151.35 1942.64 1154.91 Q1944.47 1158.46 1948.08 1158.46 Q1951.71 1158.46 1953.52 1154.91 Q1955.35 1151.35 1955.35 1144.24 Q1955.35 1137.11 1953.52 1133.57 Q1951.71 1130.01 1948.08 1130.01 M1948.08 1126.3 Q1953.89 1126.3 1956.94 1130.91 Q1960.02 1135.49 1960.02 1144.24 Q1960.02 1152.97 1956.94 1157.58 Q1953.89 1162.16 1948.08 1162.16 Q1942.27 1162.16 1939.19 1157.58 Q1936.13 1152.97 1936.13 1144.24 Q1936.13 1135.49 1939.19 1130.91 Q1942.27 1126.3 1948.08 1126.3 Z\" fill=\"#000000\" fill-rule=\"evenodd\" fill-opacity=\"1\" /><polyline clip-path=\"url(#clip302)\" style=\"stroke:#000000; stroke-linecap:butt; stroke-linejoin:round; stroke-width:2; stroke-opacity:0.1; fill:none\" points=\"\n",
       "  140.696,1070.31 2352.76,1070.31 \n",
       "  \"/>\n",
       "<polyline clip-path=\"url(#clip302)\" style=\"stroke:#000000; stroke-linecap:butt; stroke-linejoin:round; stroke-width:2; stroke-opacity:0.1; fill:none\" points=\"\n",
       "  140.696,864.937 2352.76,864.937 \n",
       "  \"/>\n",
       "<polyline clip-path=\"url(#clip302)\" style=\"stroke:#000000; stroke-linecap:butt; stroke-linejoin:round; stroke-width:2; stroke-opacity:0.1; fill:none\" points=\"\n",
       "  140.696,659.559 2352.76,659.559 \n",
       "  \"/>\n",
       "<polyline clip-path=\"url(#clip302)\" style=\"stroke:#000000; stroke-linecap:butt; stroke-linejoin:round; stroke-width:2; stroke-opacity:0.1; fill:none\" points=\"\n",
       "  140.696,454.181 2352.76,454.181 \n",
       "  \"/>\n",
       "<polyline clip-path=\"url(#clip302)\" style=\"stroke:#000000; stroke-linecap:butt; stroke-linejoin:round; stroke-width:2; stroke-opacity:0.1; fill:none\" points=\"\n",
       "  140.696,248.803 2352.76,248.803 \n",
       "  \"/>\n",
       "<polyline clip-path=\"url(#clip300)\" style=\"stroke:#000000; stroke-linecap:butt; stroke-linejoin:round; stroke-width:4; stroke-opacity:1; fill:none\" points=\"\n",
       "  140.696,1099.09 140.696,82.4321 \n",
       "  \"/>\n",
       "<polyline clip-path=\"url(#clip300)\" style=\"stroke:#000000; stroke-linecap:butt; stroke-linejoin:round; stroke-width:4; stroke-opacity:1; fill:none\" points=\"\n",
       "  140.696,1070.31 159.593,1070.31 \n",
       "  \"/>\n",
       "<polyline clip-path=\"url(#clip300)\" style=\"stroke:#000000; stroke-linecap:butt; stroke-linejoin:round; stroke-width:4; stroke-opacity:1; fill:none\" points=\"\n",
       "  140.696,864.937 159.593,864.937 \n",
       "  \"/>\n",
       "<polyline clip-path=\"url(#clip300)\" style=\"stroke:#000000; stroke-linecap:butt; stroke-linejoin:round; stroke-width:4; stroke-opacity:1; fill:none\" points=\"\n",
       "  140.696,659.559 159.593,659.559 \n",
       "  \"/>\n",
       "<polyline clip-path=\"url(#clip300)\" style=\"stroke:#000000; stroke-linecap:butt; stroke-linejoin:round; stroke-width:4; stroke-opacity:1; fill:none\" points=\"\n",
       "  140.696,454.181 159.593,454.181 \n",
       "  \"/>\n",
       "<polyline clip-path=\"url(#clip300)\" style=\"stroke:#000000; stroke-linecap:butt; stroke-linejoin:round; stroke-width:4; stroke-opacity:1; fill:none\" points=\"\n",
       "  140.696,248.803 159.593,248.803 \n",
       "  \"/>\n",
       "<path clip-path=\"url(#clip300)\" d=\"M92.7512 1056.11 Q89.1401 1056.11 87.3114 1059.68 Q85.5058 1063.22 85.5058 1070.35 Q85.5058 1077.46 87.3114 1081.02 Q89.1401 1084.56 92.7512 1084.56 Q96.3854 1084.56 98.1909 1081.02 Q100.02 1077.46 100.02 1070.35 Q100.02 1063.22 98.1909 1059.68 Q96.3854 1056.11 92.7512 1056.11 M92.7512 1052.41 Q98.5613 1052.41 101.617 1057.02 Q104.696 1061.6 104.696 1070.35 Q104.696 1079.08 101.617 1083.68 Q98.5613 1088.27 92.7512 1088.27 Q86.941 1088.27 83.8623 1083.68 Q80.8068 1079.08 80.8068 1070.35 Q80.8068 1061.6 83.8623 1057.02 Q86.941 1052.41 92.7512 1052.41 Z\" fill=\"#000000\" fill-rule=\"evenodd\" fill-opacity=\"1\" /><path clip-path=\"url(#clip300)\" d=\"M83.7929 847.657 L102.149 847.657 L102.149 851.592 L88.0753 851.592 L88.0753 860.064 Q89.0938 859.717 90.1123 859.555 Q91.1308 859.37 92.1493 859.37 Q97.9363 859.37 101.316 862.541 Q104.696 865.712 104.696 871.129 Q104.696 876.708 101.223 879.809 Q97.7511 882.888 91.4317 882.888 Q89.2558 882.888 86.9873 882.518 Q84.7419 882.147 82.3346 881.407 L82.3346 876.708 Q84.4179 877.842 86.6401 878.397 Q88.8623 878.953 91.3391 878.953 Q95.3437 878.953 97.6817 876.846 Q100.02 874.74 100.02 871.129 Q100.02 867.518 97.6817 865.411 Q95.3437 863.305 91.3391 863.305 Q89.4641 863.305 87.5892 863.721 Q85.7373 864.138 83.7929 865.018 L83.7929 847.657 Z\" fill=\"#000000\" fill-rule=\"evenodd\" fill-opacity=\"1\" /><path clip-path=\"url(#clip300)\" d=\"M53.3995 672.904 L61.0384 672.904 L61.0384 646.538 L52.7282 648.205 L52.7282 643.946 L60.9921 642.279 L65.668 642.279 L65.668 672.904 L73.3068 672.904 L73.3068 676.839 L53.3995 676.839 L53.3995 672.904 Z\" fill=\"#000000\" fill-rule=\"evenodd\" fill-opacity=\"1\" /><path clip-path=\"url(#clip300)\" d=\"M92.7512 645.358 Q89.1401 645.358 87.3114 648.922 Q85.5058 652.464 85.5058 659.594 Q85.5058 666.7 87.3114 670.265 Q89.1401 673.807 92.7512 673.807 Q96.3854 673.807 98.1909 670.265 Q100.02 666.7 100.02 659.594 Q100.02 652.464 98.1909 648.922 Q96.3854 645.358 92.7512 645.358 M92.7512 641.654 Q98.5613 641.654 101.617 646.26 Q104.696 650.844 104.696 659.594 Q104.696 668.32 101.617 672.927 Q98.5613 677.51 92.7512 677.51 Q86.941 677.51 83.8623 672.927 Q80.8068 668.32 80.8068 659.594 Q80.8068 650.844 83.8623 646.26 Q86.941 641.654 92.7512 641.654 Z\" fill=\"#000000\" fill-rule=\"evenodd\" fill-opacity=\"1\" /><path clip-path=\"url(#clip300)\" d=\"M54.3949 467.526 L62.0337 467.526 L62.0337 441.16 L53.7236 442.827 L53.7236 438.568 L61.9874 436.901 L66.6633 436.901 L66.6633 467.526 L74.3022 467.526 L74.3022 471.461 L54.3949 471.461 L54.3949 467.526 Z\" fill=\"#000000\" fill-rule=\"evenodd\" fill-opacity=\"1\" /><path clip-path=\"url(#clip300)\" d=\"M83.7929 436.901 L102.149 436.901 L102.149 440.836 L88.0753 440.836 L88.0753 449.308 Q89.0938 448.961 90.1123 448.799 Q91.1308 448.614 92.1493 448.614 Q97.9363 448.614 101.316 451.785 Q104.696 454.957 104.696 460.373 Q104.696 465.952 101.223 469.054 Q97.7511 472.132 91.4317 472.132 Q89.2558 472.132 86.9873 471.762 Q84.7419 471.392 82.3346 470.651 L82.3346 465.952 Q84.4179 467.086 86.6401 467.642 Q88.8623 468.197 91.3391 468.197 Q95.3437 468.197 97.6817 466.091 Q100.02 463.984 100.02 460.373 Q100.02 456.762 97.6817 454.656 Q95.3437 452.549 91.3391 452.549 Q89.4641 452.549 87.5892 452.966 Q85.7373 453.382 83.7929 454.262 L83.7929 436.901 Z\" fill=\"#000000\" fill-rule=\"evenodd\" fill-opacity=\"1\" /><path clip-path=\"url(#clip300)\" d=\"M56.6171 262.148 L72.9365 262.148 L72.9365 266.083 L50.9921 266.083 L50.9921 262.148 Q53.6541 259.393 58.2375 254.764 Q62.8439 250.111 64.0245 248.768 Q66.2698 246.245 67.1494 244.509 Q68.0522 242.75 68.0522 241.06 Q68.0522 238.306 66.1078 236.569 Q64.1865 234.833 61.0847 234.833 Q58.8856 234.833 56.4319 235.597 Q54.0014 236.361 51.2236 237.912 L51.2236 233.19 Q54.0477 232.056 56.5014 231.477 Q58.955 230.898 60.9921 230.898 Q66.3624 230.898 69.5568 233.583 Q72.7513 236.269 72.7513 240.759 Q72.7513 242.889 71.9411 244.81 Q71.1541 246.708 69.0476 249.301 Q68.4689 249.972 65.367 253.19 Q62.2652 256.384 56.6171 262.148 Z\" fill=\"#000000\" fill-rule=\"evenodd\" fill-opacity=\"1\" /><path clip-path=\"url(#clip300)\" d=\"M92.7512 234.602 Q89.1401 234.602 87.3114 238.167 Q85.5058 241.708 85.5058 248.838 Q85.5058 255.944 87.3114 259.509 Q89.1401 263.051 92.7512 263.051 Q96.3854 263.051 98.1909 259.509 Q100.02 255.944 100.02 248.838 Q100.02 241.708 98.1909 238.167 Q96.3854 234.602 92.7512 234.602 M92.7512 230.898 Q98.5613 230.898 101.617 235.505 Q104.696 240.088 104.696 248.838 Q104.696 257.565 101.617 262.171 Q98.5613 266.755 92.7512 266.755 Q86.941 266.755 83.8623 262.171 Q80.8068 257.565 80.8068 248.838 Q80.8068 240.088 83.8623 235.505 Q86.941 230.898 92.7512 230.898 Z\" fill=\"#000000\" fill-rule=\"evenodd\" fill-opacity=\"1\" /><path clip-path=\"url(#clip300)\" d=\"M278.276 5.184 L281.783 5.184 L281.783 15.8089 L294.526 15.8089 L294.526 5.184 L298.033 5.184 L298.033 31.104 L294.526 31.104 L294.526 18.7603 L281.783 18.7603 L281.783 31.104 L278.276 31.104 L278.276 5.184 Z\" fill=\"#000000\" fill-rule=\"evenodd\" fill-opacity=\"1\" /><path clip-path=\"url(#clip300)\" d=\"M308.519 18.7256 L308.519 28.2221 L314.144 28.2221 Q316.974 28.2221 318.328 27.0589 Q319.699 25.8783 319.699 23.4652 Q319.699 21.0346 318.328 19.8888 Q316.974 18.7256 314.144 18.7256 L308.519 18.7256 M308.519 8.06593 L308.519 15.8784 L313.71 15.8784 Q316.279 15.8784 317.529 14.9235 Q318.797 13.9513 318.797 11.9722 Q318.797 10.0104 317.529 9.03815 Q316.279 8.06593 313.71 8.06593 L308.519 8.06593 M305.012 5.184 L313.97 5.184 Q317.981 5.184 320.151 6.85066 Q322.321 8.51732 322.321 11.5902 Q322.321 13.9687 321.21 15.3749 Q320.099 16.7812 317.946 17.1284 Q320.533 17.6839 321.956 19.4548 Q323.397 21.2082 323.397 23.8471 Q323.397 27.3193 321.036 29.2116 Q318.675 31.104 314.318 31.104 L305.012 31.104 L305.012 5.184 Z\" fill=\"#000000\" fill-rule=\"evenodd\" fill-opacity=\"1\" /><path clip-path=\"url(#clip300)\" d=\"M334.994 31.104 L325.099 5.184 L328.762 5.184 L336.974 27.0068 L345.203 5.184 L348.849 5.184 L338.97 31.104 L334.994 31.104 Z\" fill=\"#000000\" fill-rule=\"evenodd\" fill-opacity=\"1\" /><path clip-path=\"url(#clip300)\" d=\"M367.633 15.3923 Q368.831 13.2395 370.498 12.2152 Q372.164 11.1909 374.421 11.1909 Q377.46 11.1909 379.109 13.3263 Q380.758 15.4444 380.758 19.368 L380.758 31.104 L377.546 31.104 L377.546 19.4721 Q377.546 16.677 376.557 15.3228 Q375.567 13.9687 373.536 13.9687 Q371.053 13.9687 369.612 15.618 Q368.171 17.2673 368.171 20.1145 L368.171 31.104 L364.96 31.104 L364.96 19.4721 Q364.96 16.6596 363.97 15.3228 Q362.98 13.9687 360.914 13.9687 Q358.467 13.9687 357.026 15.6353 Q355.585 17.2846 355.585 20.1145 L355.585 31.104 L352.373 31.104 L352.373 11.6597 L355.585 11.6597 L355.585 14.6805 Q356.678 12.8923 358.206 12.0416 Q359.734 11.1909 361.835 11.1909 Q363.953 11.1909 365.428 12.2673 Q366.921 13.3437 367.633 15.3923 Z\" fill=\"#000000\" fill-rule=\"evenodd\" fill-opacity=\"1\" /><path clip-path=\"url(#clip300)\" d=\"M394.664 13.8992 Q392.095 13.8992 390.602 15.9131 Q389.109 17.9096 389.109 21.3992 Q389.109 24.8888 390.584 26.9026 Q392.078 28.8992 394.664 28.8992 Q397.216 28.8992 398.709 26.8853 Q400.202 24.8714 400.202 21.3992 Q400.202 17.9443 398.709 15.9305 Q397.216 13.8992 394.664 13.8992 M394.664 11.1909 Q398.831 11.1909 401.209 13.8992 Q403.588 16.6075 403.588 21.3992 Q403.588 26.1735 401.209 28.8992 Q398.831 31.6075 394.664 31.6075 Q390.48 31.6075 388.102 28.8992 Q385.741 26.1735 385.741 21.3992 Q385.741 16.6075 388.102 13.8992 Q390.48 11.1909 394.664 11.1909 Z\" fill=\"#000000\" fill-rule=\"evenodd\" fill-opacity=\"1\" /><path clip-path=\"url(#clip300)\" d=\"M408.553 23.4304 L408.553 11.6597 L411.748 11.6597 L411.748 23.3089 Q411.748 26.0693 412.824 27.4582 Q413.9 28.8297 416.053 28.8297 Q418.64 28.8297 420.133 27.1804 Q421.643 25.5311 421.643 22.6839 L421.643 11.6597 L424.838 11.6597 L424.838 31.104 L421.643 31.104 L421.643 28.1179 Q420.48 29.8887 418.935 30.7568 Q417.407 31.6075 415.376 31.6075 Q412.025 31.6075 410.289 29.5241 Q408.553 27.4408 408.553 23.4304 M416.591 11.1909 L416.591 11.1909 Z\" fill=\"#000000\" fill-rule=\"evenodd\" fill-opacity=\"1\" /><path clip-path=\"url(#clip300)\" d=\"M447.581 19.368 L447.581 31.104 L444.386 31.104 L444.386 19.4721 Q444.386 16.7117 443.31 15.3402 Q442.234 13.9687 440.081 13.9687 Q437.494 13.9687 436.001 15.618 Q434.508 17.2673 434.508 20.1145 L434.508 31.104 L431.296 31.104 L431.296 11.6597 L434.508 11.6597 L434.508 14.6805 Q435.654 12.927 437.199 12.059 Q438.761 11.1909 440.793 11.1909 Q444.143 11.1909 445.862 13.2742 Q447.581 15.3402 447.581 19.368 Z\" fill=\"#000000\" fill-rule=\"evenodd\" fill-opacity=\"1\" /><path clip-path=\"url(#clip300)\" d=\"M457.112 6.13886 L457.112 11.6597 L463.692 11.6597 L463.692 14.1423 L457.112 14.1423 L457.112 24.6978 Q457.112 27.0762 457.754 27.7533 Q458.414 28.4304 460.41 28.4304 L463.692 28.4304 L463.692 31.104 L460.41 31.104 Q456.713 31.104 455.306 29.7325 Q453.9 28.3436 453.9 24.6978 L453.9 14.1423 L451.556 14.1423 L451.556 11.6597 L453.9 11.6597 L453.9 6.13886 L457.112 6.13886 Z\" fill=\"#000000\" fill-rule=\"evenodd\" fill-opacity=\"1\" /><path clip-path=\"url(#clip300)\" d=\"M476.73 21.3297 Q472.858 21.3297 471.365 22.2152 Q469.872 23.1006 469.872 25.236 Q469.872 26.9374 470.983 27.9443 Q472.112 28.9339 474.039 28.9339 Q476.695 28.9339 478.292 27.0589 Q479.907 25.1665 479.907 22.0415 L479.907 21.3297 L476.73 21.3297 M483.101 20.0103 L483.101 31.104 L479.907 31.104 L479.907 28.1526 Q478.813 29.9235 477.181 30.7741 Q475.549 31.6075 473.188 31.6075 Q470.202 31.6075 468.431 29.9408 Q466.678 28.2568 466.678 25.4443 Q466.678 22.1631 468.865 20.4964 Q471.07 18.8298 475.428 18.8298 L479.907 18.8298 L479.907 18.5173 Q479.907 16.3124 478.449 15.1145 Q477.008 13.8992 474.386 13.8992 Q472.719 13.8992 471.14 14.2985 Q469.56 14.6978 468.101 15.4964 L468.101 12.5451 Q469.855 11.868 471.504 11.5381 Q473.153 11.1909 474.716 11.1909 Q478.935 11.1909 481.018 13.3784 Q483.101 15.5659 483.101 20.0103 Z\" fill=\"#000000\" fill-rule=\"evenodd\" fill-opacity=\"1\" /><path clip-path=\"url(#clip300)\" d=\"M489.681 11.6597 L492.876 11.6597 L492.876 31.104 L489.681 31.104 L489.681 11.6597 M489.681 4.09026 L492.876 4.09026 L492.876 8.13537 L489.681 8.13537 L489.681 4.09026 Z\" fill=\"#000000\" fill-rule=\"evenodd\" fill-opacity=\"1\" /><path clip-path=\"url(#clip300)\" d=\"M515.723 19.368 L515.723 31.104 L512.528 31.104 L512.528 19.4721 Q512.528 16.7117 511.452 15.3402 Q510.376 13.9687 508.223 13.9687 Q505.636 13.9687 504.143 15.618 Q502.65 17.2673 502.65 20.1145 L502.65 31.104 L499.438 31.104 L499.438 11.6597 L502.65 11.6597 L502.65 14.6805 Q503.796 12.927 505.341 12.059 Q506.903 11.1909 508.935 11.1909 Q512.285 11.1909 514.004 13.2742 Q515.723 15.3402 515.723 19.368 Z\" fill=\"#000000\" fill-rule=\"evenodd\" fill-opacity=\"1\" /><path clip-path=\"url(#clip300)\" d=\"M548.535 15.3923 Q549.733 13.2395 551.4 12.2152 Q553.066 11.1909 555.323 11.1909 Q558.361 11.1909 560.011 13.3263 Q561.66 15.4444 561.66 19.368 L561.66 31.104 L558.448 31.104 L558.448 19.4721 Q558.448 16.677 557.459 15.3228 Q556.469 13.9687 554.438 13.9687 Q551.955 13.9687 550.514 15.618 Q549.073 17.2673 549.073 20.1145 L549.073 31.104 L545.861 31.104 L545.861 19.4721 Q545.861 16.6596 544.872 15.3228 Q543.882 13.9687 541.816 13.9687 Q539.368 13.9687 537.927 15.6353 Q536.486 17.2846 536.486 20.1145 L536.486 31.104 L533.275 31.104 L533.275 11.6597 L536.486 11.6597 L536.486 14.6805 Q537.58 12.8923 539.108 12.0416 Q540.636 11.1909 542.736 11.1909 Q544.854 11.1909 546.33 12.2673 Q547.823 13.3437 548.535 15.3923 Z\" fill=\"#000000\" fill-rule=\"evenodd\" fill-opacity=\"1\" /><path clip-path=\"url(#clip300)\" d=\"M575.566 13.8992 Q572.997 13.8992 571.504 15.9131 Q570.011 17.9096 570.011 21.3992 Q570.011 24.8888 571.486 26.9026 Q572.979 28.8992 575.566 28.8992 Q578.118 28.8992 579.611 26.8853 Q581.104 24.8714 581.104 21.3992 Q581.104 17.9443 579.611 15.9305 Q578.118 13.8992 575.566 13.8992 M575.566 11.1909 Q579.733 11.1909 582.111 13.8992 Q584.49 16.6075 584.49 21.3992 Q584.49 26.1735 582.111 28.8992 Q579.733 31.6075 575.566 31.6075 Q571.382 31.6075 569.004 28.8992 Q566.643 26.1735 566.643 21.3992 Q566.643 16.6075 569.004 13.8992 Q571.382 11.1909 575.566 11.1909 Z\" fill=\"#000000\" fill-rule=\"evenodd\" fill-opacity=\"1\" /><path clip-path=\"url(#clip300)\" d=\"M602.58 14.611 L602.58 4.09026 L605.774 4.09026 L605.774 31.104 L602.58 31.104 L602.58 28.1873 Q601.573 29.9235 600.028 30.7741 Q598.5 31.6075 596.347 31.6075 Q592.823 31.6075 590.601 28.795 Q588.396 25.9825 588.396 21.3992 Q588.396 16.8159 590.601 14.0034 Q592.823 11.1909 596.347 11.1909 Q598.5 11.1909 600.028 12.0416 Q601.573 12.8749 602.58 14.611 M591.695 21.3992 Q591.695 24.9235 593.135 26.9374 Q594.594 28.9339 597.129 28.9339 Q599.663 28.9339 601.122 26.9374 Q602.58 24.9235 602.58 21.3992 Q602.58 17.8749 601.122 15.8784 Q599.663 13.8645 597.129 13.8645 Q594.594 13.8645 593.135 15.8784 Q591.695 17.8749 591.695 21.3992 Z\" fill=\"#000000\" fill-rule=\"evenodd\" fill-opacity=\"1\" /><path clip-path=\"url(#clip300)\" d=\"M628.986 20.5832 L628.986 22.1457 L614.299 22.1457 Q614.507 25.4443 616.278 27.1804 Q618.066 28.8992 621.243 28.8992 Q623.083 28.8992 624.802 28.4478 Q626.538 27.9964 628.239 27.0936 L628.239 30.1144 Q626.521 30.8436 624.715 31.2255 Q622.91 31.6075 621.052 31.6075 Q616.399 31.6075 613.674 28.8992 Q610.965 26.1908 610.965 21.5728 Q610.965 16.7985 613.535 14.0034 Q616.121 11.1909 620.496 11.1909 Q624.42 11.1909 626.694 13.7256 Q628.986 16.243 628.986 20.5832 M625.792 19.6457 Q625.757 17.0242 624.316 15.4617 Q622.892 13.8992 620.531 13.8992 Q617.858 13.8992 616.243 15.4096 Q614.646 16.92 614.403 19.6631 L625.792 19.6457 Z\" fill=\"#000000\" fill-rule=\"evenodd\" fill-opacity=\"1\" /><path clip-path=\"url(#clip300)\" d=\"M634.229 4.09026 L637.423 4.09026 L637.423 31.104 L634.229 31.104 L634.229 4.09026 Z\" fill=\"#000000\" fill-rule=\"evenodd\" fill-opacity=\"1\" /><path clip-path=\"url(#clip300)\" d=\"M662.944 13.8992 Q660.375 13.8992 658.882 15.9131 Q657.389 17.9096 657.389 21.3992 Q657.389 24.8888 658.864 26.9026 Q660.357 28.8992 662.944 28.8992 Q665.496 28.8992 666.989 26.8853 Q668.482 24.8714 668.482 21.3992 Q668.482 17.9443 666.989 15.9305 Q665.496 13.8992 662.944 13.8992 M662.944 11.1909 Q667.111 11.1909 669.489 13.8992 Q671.868 16.6075 671.868 21.3992 Q671.868 26.1735 669.489 28.8992 Q667.111 31.6075 662.944 31.6075 Q658.76 31.6075 656.382 28.8992 Q654.021 26.1735 654.021 21.3992 Q654.021 16.6075 656.382 13.8992 Q658.76 11.1909 662.944 11.1909 Z\" fill=\"#000000\" fill-rule=\"evenodd\" fill-opacity=\"1\" /><path clip-path=\"url(#clip300)\" d=\"M687.007 4.09026 L687.007 6.74649 L683.951 6.74649 Q682.232 6.74649 681.555 7.44093 Q680.895 8.13537 680.895 9.94092 L680.895 11.6597 L686.156 11.6597 L686.156 14.1423 L680.895 14.1423 L680.895 31.104 L677.684 31.104 L677.684 14.1423 L674.628 14.1423 L674.628 11.6597 L677.684 11.6597 L677.684 10.3055 Q677.684 7.05899 679.194 5.5833 Q680.704 4.09026 683.986 4.09026 L687.007 4.09026 Z\" fill=\"#000000\" fill-rule=\"evenodd\" fill-opacity=\"1\" /><path clip-path=\"url(#clip300)\" d=\"M701.121 5.184 L704.628 5.184 L704.628 15.8089 L717.371 15.8089 L717.371 5.184 L720.878 5.184 L720.878 31.104 L717.371 31.104 L717.371 18.7603 L704.628 18.7603 L704.628 31.104 L701.121 31.104 L701.121 5.184 Z\" fill=\"#000000\" fill-rule=\"evenodd\" fill-opacity=\"1\" /><path clip-path=\"url(#clip300)\" d=\"M736.555 21.3297 Q732.683 21.3297 731.19 22.2152 Q729.697 23.1006 729.697 25.236 Q729.697 26.9374 730.808 27.9443 Q731.937 28.9339 733.864 28.9339 Q736.52 28.9339 738.117 27.0589 Q739.732 25.1665 739.732 22.0415 L739.732 21.3297 L736.555 21.3297 M742.926 20.0103 L742.926 31.104 L739.732 31.104 L739.732 28.1526 Q738.638 29.9235 737.006 30.7741 Q735.374 31.6075 733.013 31.6075 Q730.027 31.6075 728.256 29.9408 Q726.503 28.2568 726.503 25.4443 Q726.503 22.1631 728.69 20.4964 Q730.895 18.8298 735.253 18.8298 L739.732 18.8298 L739.732 18.5173 Q739.732 16.3124 738.274 15.1145 Q736.833 13.8992 734.211 13.8992 Q732.544 13.8992 730.965 14.2985 Q729.385 14.6978 727.926 15.4964 L727.926 12.5451 Q729.68 11.868 731.329 11.5381 Q732.978 11.1909 734.541 11.1909 Q738.76 11.1909 740.843 13.3784 Q742.926 15.5659 742.926 20.0103 Z\" fill=\"#000000\" fill-rule=\"evenodd\" fill-opacity=\"1\" /><path clip-path=\"url(#clip300)\" d=\"M765.669 19.368 L765.669 31.104 L762.475 31.104 L762.475 19.4721 Q762.475 16.7117 761.398 15.3402 Q760.322 13.9687 758.169 13.9687 Q755.583 13.9687 754.089 15.618 Q752.596 17.2673 752.596 20.1145 L752.596 31.104 L749.385 31.104 L749.385 11.6597 L752.596 11.6597 L752.596 14.6805 Q753.742 12.927 755.287 12.059 Q756.85 11.1909 758.881 11.1909 Q762.232 11.1909 763.951 13.2742 Q765.669 15.3402 765.669 19.368 Z\" fill=\"#000000\" fill-rule=\"evenodd\" fill-opacity=\"1\" /><path clip-path=\"url(#clip300)\" d=\"M771.711 23.4304 L771.711 11.6597 L774.905 11.6597 L774.905 23.3089 Q774.905 26.0693 775.982 27.4582 Q777.058 28.8297 779.211 28.8297 Q781.798 28.8297 783.291 27.1804 Q784.801 25.5311 784.801 22.6839 L784.801 11.6597 L787.996 11.6597 L787.996 31.104 L784.801 31.104 L784.801 28.1179 Q783.638 29.8887 782.093 30.7568 Q780.565 31.6075 778.534 31.6075 Q775.183 31.6075 773.447 29.5241 Q771.711 27.4408 771.711 23.4304 M779.749 11.1909 L779.749 11.1909 Z\" fill=\"#000000\" fill-rule=\"evenodd\" fill-opacity=\"1\" /><path clip-path=\"url(#clip300)\" d=\"M806.971 12.2326 L806.971 15.2534 Q805.617 14.5589 804.159 14.2117 Q802.7 13.8645 801.138 13.8645 Q798.759 13.8645 797.561 14.5937 Q796.381 15.3228 796.381 16.7812 Q796.381 17.8923 797.232 18.5346 Q798.082 19.1596 800.652 19.7325 L801.745 19.9756 Q805.148 20.7048 806.572 22.0415 Q808.013 23.361 808.013 25.7394 Q808.013 28.4478 805.86 30.0276 Q803.725 31.6075 799.975 31.6075 Q798.412 31.6075 796.711 31.295 Q795.027 30.9998 793.152 30.3922 L793.152 27.0936 Q794.923 28.0137 796.641 28.4825 Q798.36 28.9339 800.044 28.9339 Q802.301 28.9339 803.516 28.17 Q804.732 27.3887 804.732 25.9825 Q804.732 24.6804 803.846 23.986 Q802.978 23.2915 800.009 22.6492 L798.898 22.3888 Q795.93 21.7638 794.61 20.4791 Q793.291 19.177 793.291 16.92 Q793.291 14.177 795.235 12.684 Q797.18 11.1909 800.756 11.1909 Q802.527 11.1909 804.089 11.4513 Q805.652 11.7117 806.971 12.2326 Z\" fill=\"#000000\" fill-rule=\"evenodd\" fill-opacity=\"1\" /><path clip-path=\"url(#clip300)\" d=\"M841.033 20.5832 L841.033 22.1457 L826.346 22.1457 Q826.554 25.4443 828.325 27.1804 Q830.113 28.8992 833.29 28.8992 Q835.131 28.8992 836.849 28.4478 Q838.586 27.9964 840.287 27.0936 L840.287 30.1144 Q838.568 30.8436 836.763 31.2255 Q834.957 31.6075 833.099 31.6075 Q828.447 31.6075 825.721 28.8992 Q823.013 26.1908 823.013 21.5728 Q823.013 16.7985 825.582 14.0034 Q828.169 11.1909 832.544 11.1909 Q836.468 11.1909 838.742 13.7256 Q841.033 16.243 841.033 20.5832 M837.839 19.6457 Q837.804 17.0242 836.363 15.4617 Q834.94 13.8992 832.579 13.8992 Q829.905 13.8992 828.29 15.4096 Q826.693 16.92 826.45 19.6631 L837.839 19.6457 Z\" fill=\"#000000\" fill-rule=\"evenodd\" fill-opacity=\"1\" /><path clip-path=\"url(#clip300)\" d=\"M849.436 6.13886 L849.436 11.6597 L856.016 11.6597 L856.016 14.1423 L849.436 14.1423 L849.436 24.6978 Q849.436 27.0762 850.079 27.7533 Q850.738 28.4304 852.735 28.4304 L856.016 28.4304 L856.016 31.104 L852.735 31.104 Q849.037 31.104 847.631 29.7325 Q846.224 28.3436 846.224 24.6978 L846.224 14.1423 L843.881 14.1423 L843.881 11.6597 L846.224 11.6597 L846.224 6.13886 L849.436 6.13886 Z\" fill=\"#000000\" fill-rule=\"evenodd\" fill-opacity=\"1\" /><path clip-path=\"url(#clip300)\" d=\"M880.356 21.3297 Q876.485 21.3297 874.992 22.2152 Q873.499 23.1006 873.499 25.236 Q873.499 26.9374 874.61 27.9443 Q875.738 28.9339 877.665 28.9339 Q880.321 28.9339 881.919 27.0589 Q883.533 25.1665 883.533 22.0415 L883.533 21.3297 L880.356 21.3297 M886.728 20.0103 L886.728 31.104 L883.533 31.104 L883.533 28.1526 Q882.439 29.9235 880.808 30.7741 Q879.176 31.6075 876.815 31.6075 Q873.828 31.6075 872.058 29.9408 Q870.304 28.2568 870.304 25.4443 Q870.304 22.1631 872.492 20.4964 Q874.696 18.8298 879.054 18.8298 L883.533 18.8298 L883.533 18.5173 Q883.533 16.3124 882.075 15.1145 Q880.634 13.8992 878.012 13.8992 Q876.346 13.8992 874.766 14.2985 Q873.186 14.6978 871.728 15.4964 L871.728 12.5451 Q873.481 11.868 875.13 11.5381 Q876.78 11.1909 878.342 11.1909 Q882.561 11.1909 884.644 13.3784 Q886.728 15.5659 886.728 20.0103 Z\" fill=\"#000000\" fill-rule=\"evenodd\" fill-opacity=\"1\" /><path clip-path=\"url(#clip300)\" d=\"M893.307 4.09026 L896.502 4.09026 L896.502 31.104 L893.307 31.104 L893.307 4.09026 Z\" fill=\"#000000\" fill-rule=\"evenodd\" fill-opacity=\"1\" /><path clip-path=\"url(#clip300)\" d=\"M903.637 26.6943 L907.3 26.6943 L907.3 31.104 L903.637 31.104 L903.637 26.6943 Z\" fill=\"#000000\" fill-rule=\"evenodd\" fill-opacity=\"1\" /><path clip-path=\"url(#clip300)\" d=\"M933.464 4.12498 Q931.137 8.11801 930.009 12.0242 Q928.88 15.9305 928.88 19.9409 Q928.88 23.9513 930.009 27.8922 Q931.154 31.8158 933.464 35.7915 L930.686 35.7915 Q928.082 31.7116 926.78 27.7707 Q925.495 23.8297 925.495 19.9409 Q925.495 16.0694 926.78 12.1458 Q928.064 8.22218 930.686 4.12498 L933.464 4.12498 Z\" fill=\"#000000\" fill-rule=\"evenodd\" fill-opacity=\"1\" /><path clip-path=\"url(#clip300)\" d=\"M943.134 28.1526 L955.373 28.1526 L955.373 31.104 L938.915 31.104 L938.915 28.1526 Q940.911 26.0867 944.349 22.6145 Q947.804 19.1249 948.689 18.118 Q950.373 16.2256 951.033 14.9235 Q951.71 13.6041 951.71 12.3367 Q951.71 10.2708 950.252 8.9687 Q948.811 7.66663 946.484 7.66663 Q944.835 7.66663 942.995 8.23954 Q941.172 8.81245 939.088 9.97564 L939.088 6.43399 Q941.207 5.5833 943.047 5.14928 Q944.887 4.71525 946.415 4.71525 Q950.443 4.71525 952.838 6.72913 Q955.234 8.74301 955.234 12.111 Q955.234 13.7083 954.627 15.1492 Q954.036 16.5728 952.456 18.5173 Q952.022 19.0207 949.696 21.4339 Q947.37 23.8297 943.134 28.1526 Z\" fill=\"#000000\" fill-rule=\"evenodd\" fill-opacity=\"1\" /><path clip-path=\"url(#clip300)\" d=\"M970.234 7.49302 Q967.526 7.49302 966.154 10.1666 Q964.8 12.8228 964.8 18.17 Q964.8 23.4999 966.154 26.1735 Q967.526 28.8297 970.234 28.8297 Q972.96 28.8297 974.314 26.1735 Q975.686 23.4999 975.686 18.17 Q975.686 12.8228 974.314 10.1666 Q972.96 7.49302 970.234 7.49302 M970.234 4.71525 Q974.592 4.71525 976.883 8.1701 Q979.192 11.6076 979.192 18.17 Q979.192 24.7151 976.883 28.17 Q974.592 31.6075 970.234 31.6075 Q965.877 31.6075 963.568 28.17 Q961.276 24.7151 961.276 18.17 Q961.276 11.6076 963.568 8.1701 Q965.877 4.71525 970.234 4.71525 Z\" fill=\"#000000\" fill-rule=\"evenodd\" fill-opacity=\"1\" /><path clip-path=\"url(#clip300)\" d=\"M988.376 28.1526 L1000.62 28.1526 L1000.62 31.104 L984.158 31.104 L984.158 28.1526 Q986.154 26.0867 989.592 22.6145 Q993.047 19.1249 993.932 18.118 Q995.616 16.2256 996.276 14.9235 Q996.953 13.6041 996.953 12.3367 Q996.953 10.2708 995.494 8.9687 Q994.053 7.66663 991.727 7.66663 Q990.078 7.66663 988.238 8.23954 Q986.415 8.81245 984.331 9.97564 L984.331 6.43399 Q986.449 5.5833 988.29 5.14928 Q990.13 4.71525 991.658 4.71525 Q995.685 4.71525 998.081 6.72913 Q1000.48 8.74301 1000.48 12.111 Q1000.48 13.7083 999.869 15.1492 Q999.279 16.5728 997.699 18.5173 Q997.265 19.0207 994.939 21.4339 Q992.613 23.8297 988.376 28.1526 Z\" fill=\"#000000\" fill-rule=\"evenodd\" fill-opacity=\"1\" /><path clip-path=\"url(#clip300)\" d=\"M1008.58 28.1526 L1014.31 28.1526 L1014.31 8.37843 L1008.08 9.62842 L1008.08 6.43399 L1014.28 5.184 L1017.79 5.184 L1017.79 28.1526 L1023.52 28.1526 L1023.52 31.104 L1008.58 31.104 L1008.58 28.1526 Z\" fill=\"#000000\" fill-rule=\"evenodd\" fill-opacity=\"1\" /><path clip-path=\"url(#clip300)\" d=\"M1029.64 4.12498 L1032.42 4.12498 Q1035.03 8.22218 1036.31 12.1458 Q1037.61 16.0694 1037.61 19.9409 Q1037.61 23.8297 1036.31 27.7707 Q1035.03 31.7116 1032.42 35.7915 L1029.64 35.7915 Q1031.95 31.8158 1033.08 27.8922 Q1034.23 23.9513 1034.23 19.9409 Q1034.23 15.9305 1033.08 12.0242 Q1031.95 8.11801 1029.64 4.12498 Z\" fill=\"#000000\" fill-rule=\"evenodd\" fill-opacity=\"1\" /><path clip-path=\"url(#clip300)\" d=\"M1064.16 21.3297 Q1060.29 21.3297 1058.79 22.2152 Q1057.3 23.1006 1057.3 25.236 Q1057.3 26.9374 1058.41 27.9443 Q1059.54 28.9339 1061.47 28.9339 Q1064.12 28.9339 1065.72 27.0589 Q1067.33 25.1665 1067.33 22.0415 L1067.33 21.3297 L1064.16 21.3297 M1070.53 20.0103 L1070.53 31.104 L1067.33 31.104 L1067.33 28.1526 Q1066.24 29.9235 1064.61 30.7741 Q1062.98 31.6075 1060.62 31.6075 Q1057.63 31.6075 1055.86 29.9408 Q1054.11 28.2568 1054.11 25.4443 Q1054.11 22.1631 1056.29 20.4964 Q1058.5 18.8298 1062.86 18.8298 L1067.33 18.8298 L1067.33 18.5173 Q1067.33 16.3124 1065.88 15.1145 Q1064.44 13.8992 1061.81 13.8992 Q1060.15 13.8992 1058.57 14.2985 Q1056.99 14.6978 1055.53 15.4964 L1055.53 12.5451 Q1057.28 11.868 1058.93 11.5381 Q1060.58 11.1909 1062.14 11.1909 Q1066.36 11.1909 1068.45 13.3784 Q1070.53 15.5659 1070.53 20.0103 Z\" fill=\"#000000\" fill-rule=\"evenodd\" fill-opacity=\"1\" /><path clip-path=\"url(#clip300)\" d=\"M1080.2 28.1873 L1080.2 38.4998 L1076.99 38.4998 L1076.99 11.6597 L1080.2 11.6597 L1080.2 14.611 Q1081.21 12.8749 1082.73 12.0416 Q1084.28 11.1909 1086.41 11.1909 Q1089.96 11.1909 1092.16 14.0034 Q1094.38 16.8159 1094.38 21.3992 Q1094.38 25.9825 1092.16 28.795 Q1089.96 31.6075 1086.41 31.6075 Q1084.28 31.6075 1082.73 30.7741 Q1081.21 29.9235 1080.2 28.1873 M1091.07 21.3992 Q1091.07 17.8749 1089.61 15.8784 Q1088.17 13.8645 1085.63 13.8645 Q1083.1 13.8645 1081.64 15.8784 Q1080.2 17.8749 1080.2 21.3992 Q1080.2 24.9235 1081.64 26.9374 Q1083.1 28.9339 1085.63 28.9339 Q1088.17 28.9339 1089.61 26.9374 Q1091.07 24.9235 1091.07 21.3992 Z\" fill=\"#000000\" fill-rule=\"evenodd\" fill-opacity=\"1\" /><path clip-path=\"url(#clip300)\" d=\"M1102.77 28.1873 L1102.77 38.4998 L1099.56 38.4998 L1099.56 11.6597 L1102.77 11.6597 L1102.77 14.611 Q1103.78 12.8749 1105.3 12.0416 Q1106.85 11.1909 1108.98 11.1909 Q1112.53 11.1909 1114.73 14.0034 Q1116.95 16.8159 1116.95 21.3992 Q1116.95 25.9825 1114.73 28.795 Q1112.53 31.6075 1108.98 31.6075 Q1106.85 31.6075 1105.3 30.7741 Q1103.78 29.9235 1102.77 28.1873 M1113.64 21.3992 Q1113.64 17.8749 1112.18 15.8784 Q1110.74 13.8645 1108.2 13.8645 Q1105.67 13.8645 1104.21 15.8784 Q1102.77 17.8749 1102.77 21.3992 Q1102.77 24.9235 1104.21 26.9374 Q1105.67 28.9339 1108.2 28.9339 Q1110.74 28.9339 1112.18 26.9374 Q1113.64 24.9235 1113.64 21.3992 Z\" fill=\"#000000\" fill-rule=\"evenodd\" fill-opacity=\"1\" /><path clip-path=\"url(#clip300)\" d=\"M1122.25 4.09026 L1125.44 4.09026 L1125.44 31.104 L1122.25 31.104 L1122.25 4.09026 Z\" fill=\"#000000\" fill-rule=\"evenodd\" fill-opacity=\"1\" /><path clip-path=\"url(#clip300)\" d=\"M1132.13 11.6597 L1135.32 11.6597 L1135.32 31.104 L1132.13 31.104 L1132.13 11.6597 M1132.13 4.09026 L1135.32 4.09026 L1135.32 8.13537 L1132.13 8.13537 L1132.13 4.09026 Z\" fill=\"#000000\" fill-rule=\"evenodd\" fill-opacity=\"1\" /><path clip-path=\"url(#clip300)\" d=\"M1158.64 20.5832 L1158.64 22.1457 L1143.95 22.1457 Q1144.16 25.4443 1145.93 27.1804 Q1147.72 28.8992 1150.89 28.8992 Q1152.73 28.8992 1154.45 28.4478 Q1156.19 27.9964 1157.89 27.0936 L1157.89 30.1144 Q1156.17 30.8436 1154.37 31.2255 Q1152.56 31.6075 1150.7 31.6075 Q1146.05 31.6075 1143.32 28.8992 Q1140.62 26.1908 1140.62 21.5728 Q1140.62 16.7985 1143.18 14.0034 Q1145.77 11.1909 1150.15 11.1909 Q1154.07 11.1909 1156.34 13.7256 Q1158.64 16.243 1158.64 20.5832 M1155.44 19.6457 Q1155.41 17.0242 1153.97 15.4617 Q1152.54 13.8992 1150.18 13.8992 Q1147.51 13.8992 1145.89 15.4096 Q1144.3 16.92 1144.05 19.6631 L1155.44 19.6457 Z\" fill=\"#000000\" fill-rule=\"evenodd\" fill-opacity=\"1\" /><path clip-path=\"url(#clip300)\" d=\"M1176.67 14.611 L1176.67 4.09026 L1179.87 4.09026 L1179.87 31.104 L1176.67 31.104 L1176.67 28.1873 Q1175.67 29.9235 1174.12 30.7741 Q1172.59 31.6075 1170.44 31.6075 Q1166.92 31.6075 1164.69 28.795 Q1162.49 25.9825 1162.49 21.3992 Q1162.49 16.8159 1164.69 14.0034 Q1166.92 11.1909 1170.44 11.1909 Q1172.59 11.1909 1174.12 12.0416 Q1175.67 12.8749 1176.67 14.611 M1165.79 21.3992 Q1165.79 24.9235 1167.23 26.9374 Q1168.69 28.9339 1171.22 28.9339 Q1173.76 28.9339 1175.22 26.9374 Q1176.67 24.9235 1176.67 21.3992 Q1176.67 17.8749 1175.22 15.8784 Q1173.76 13.8645 1171.22 13.8645 Q1168.69 13.8645 1167.23 15.8784 Q1165.79 17.8749 1165.79 21.3992 Z\" fill=\"#000000\" fill-rule=\"evenodd\" fill-opacity=\"1\" /><path clip-path=\"url(#clip300)\" d=\"M1197.75 11.6597 L1200.94 11.6597 L1200.94 31.104 L1197.75 31.104 L1197.75 11.6597 M1197.75 4.09026 L1200.94 4.09026 L1200.94 8.13537 L1197.75 8.13537 L1197.75 4.09026 Z\" fill=\"#000000\" fill-rule=\"evenodd\" fill-opacity=\"1\" /><path clip-path=\"url(#clip300)\" d=\"M1223.79 19.368 L1223.79 31.104 L1220.6 31.104 L1220.6 19.4721 Q1220.6 16.7117 1219.52 15.3402 Q1218.44 13.9687 1216.29 13.9687 Q1213.71 13.9687 1212.21 15.618 Q1210.72 17.2673 1210.72 20.1145 L1210.72 31.104 L1207.51 31.104 L1207.51 11.6597 L1210.72 11.6597 L1210.72 14.6805 Q1211.86 12.927 1213.41 12.059 Q1214.97 11.1909 1217 11.1909 Q1220.35 11.1909 1222.07 13.2742 Q1223.79 15.3402 1223.79 19.368 Z\" fill=\"#000000\" fill-rule=\"evenodd\" fill-opacity=\"1\" /><path clip-path=\"url(#clip300)\" d=\"M1241.6 5.184 L1245.11 5.184 L1245.11 28.1526 L1257.73 28.1526 L1257.73 31.104 L1241.6 31.104 L1241.6 5.184 Z\" fill=\"#000000\" fill-rule=\"evenodd\" fill-opacity=\"1\" /><path clip-path=\"url(#clip300)\" d=\"M1260.32 23.4304 L1260.32 11.6597 L1263.51 11.6597 L1263.51 23.3089 Q1263.51 26.0693 1264.59 27.4582 Q1265.67 28.8297 1267.82 28.8297 Q1270.41 28.8297 1271.9 27.1804 Q1273.41 25.5311 1273.41 22.6839 L1273.41 11.6597 L1276.6 11.6597 L1276.6 31.104 L1273.41 31.104 L1273.41 28.1179 Q1272.25 29.8887 1270.7 30.7568 Q1269.17 31.6075 1267.14 31.6075 Q1263.79 31.6075 1262.06 29.5241 Q1260.32 27.4408 1260.32 23.4304 M1268.36 11.1909 L1268.36 11.1909 Z\" fill=\"#000000\" fill-rule=\"evenodd\" fill-opacity=\"1\" /><path clip-path=\"url(#clip300)\" d=\"M1299.35 11.6597 L1292.32 21.1214 L1299.71 31.104 L1295.94 31.104 L1290.28 23.4652 L1284.62 31.104 L1280.86 31.104 L1288.41 20.9304 L1281.5 11.6597 L1285.27 11.6597 L1290.42 18.5867 L1295.58 11.6597 L1299.35 11.6597 Z\" fill=\"#000000\" fill-rule=\"evenodd\" fill-opacity=\"1\" /><path clip-path=\"url(#clip300)\" d=\"M1319.76 20.5832 L1319.76 22.1457 L1305.08 22.1457 Q1305.28 25.4443 1307.06 27.1804 Q1308.84 28.8992 1312.02 28.8992 Q1313.86 28.8992 1315.58 28.4478 Q1317.32 27.9964 1319.02 27.0936 L1319.02 30.1144 Q1317.3 30.8436 1315.49 31.2255 Q1313.69 31.6075 1311.83 31.6075 Q1307.18 31.6075 1304.45 28.8992 Q1301.74 26.1908 1301.74 21.5728 Q1301.74 16.7985 1304.31 14.0034 Q1306.9 11.1909 1311.27 11.1909 Q1315.2 11.1909 1317.47 13.7256 Q1319.76 16.243 1319.76 20.5832 M1316.57 19.6457 Q1316.53 17.0242 1315.09 15.4617 Q1313.67 13.8992 1311.31 13.8992 Q1308.64 13.8992 1307.02 15.4096 Q1305.42 16.92 1305.18 19.6631 L1316.57 19.6457 Z\" fill=\"#000000\" fill-rule=\"evenodd\" fill-opacity=\"1\" /><path clip-path=\"url(#clip300)\" d=\"M1340.15 15.3923 Q1341.34 13.2395 1343.01 12.2152 Q1344.68 11.1909 1346.93 11.1909 Q1349.97 11.1909 1351.62 13.3263 Q1353.27 15.4444 1353.27 19.368 L1353.27 31.104 L1350.06 31.104 L1350.06 19.4721 Q1350.06 16.677 1349.07 15.3228 Q1348.08 13.9687 1346.05 13.9687 Q1343.57 13.9687 1342.12 15.618 Q1340.68 17.2673 1340.68 20.1145 L1340.68 31.104 L1337.47 31.104 L1337.47 19.4721 Q1337.47 16.6596 1336.48 15.3228 Q1335.49 13.9687 1333.43 13.9687 Q1330.98 13.9687 1329.54 15.6353 Q1328.1 17.2846 1328.1 20.1145 L1328.1 31.104 L1324.89 31.104 L1324.89 11.6597 L1328.1 11.6597 L1328.1 14.6805 Q1329.19 12.8923 1330.72 12.0416 Q1332.25 11.1909 1334.35 11.1909 Q1336.46 11.1909 1337.94 12.2673 Q1339.43 13.3437 1340.15 15.3923 Z\" fill=\"#000000\" fill-rule=\"evenodd\" fill-opacity=\"1\" /><path clip-path=\"url(#clip300)\" d=\"M1373.6 21.3992 Q1373.6 17.8749 1372.14 15.8784 Q1370.7 13.8645 1368.17 13.8645 Q1365.63 13.8645 1364.17 15.8784 Q1362.73 17.8749 1362.73 21.3992 Q1362.73 24.9235 1364.17 26.9374 Q1365.63 28.9339 1368.17 28.9339 Q1370.7 28.9339 1372.14 26.9374 Q1373.6 24.9235 1373.6 21.3992 M1362.73 14.611 Q1363.74 12.8749 1365.27 12.0416 Q1366.81 11.1909 1368.95 11.1909 Q1372.49 11.1909 1374.69 14.0034 Q1376.92 16.8159 1376.92 21.3992 Q1376.92 25.9825 1374.69 28.795 Q1372.49 31.6075 1368.95 31.6075 Q1366.81 31.6075 1365.27 30.7741 Q1363.74 29.9235 1362.73 28.1873 L1362.73 31.104 L1359.52 31.104 L1359.52 4.09026 L1362.73 4.09026 L1362.73 14.611 Z\" fill=\"#000000\" fill-rule=\"evenodd\" fill-opacity=\"1\" /><path clip-path=\"url(#clip300)\" d=\"M1389.75 13.8992 Q1387.18 13.8992 1385.68 15.9131 Q1384.19 17.9096 1384.19 21.3992 Q1384.19 24.8888 1385.67 26.9026 Q1387.16 28.8992 1389.75 28.8992 Q1392.3 28.8992 1393.79 26.8853 Q1395.28 24.8714 1395.28 21.3992 Q1395.28 17.9443 1393.79 15.9305 Q1392.3 13.8992 1389.75 13.8992 M1389.75 11.1909 Q1393.91 11.1909 1396.29 13.8992 Q1398.67 16.6075 1398.67 21.3992 Q1398.67 26.1735 1396.29 28.8992 Q1393.91 31.6075 1389.75 31.6075 Q1385.56 31.6075 1383.18 28.8992 Q1380.82 26.1735 1380.82 21.3992 Q1380.82 16.6075 1383.18 13.8992 Q1385.56 11.1909 1389.75 11.1909 Z\" fill=\"#000000\" fill-rule=\"evenodd\" fill-opacity=\"1\" /><path clip-path=\"url(#clip300)\" d=\"M1403.63 23.4304 L1403.63 11.6597 L1406.83 11.6597 L1406.83 23.3089 Q1406.83 26.0693 1407.91 27.4582 Q1408.98 28.8297 1411.13 28.8297 Q1413.72 28.8297 1415.21 27.1804 Q1416.72 25.5311 1416.72 22.6839 L1416.72 11.6597 L1419.92 11.6597 L1419.92 31.104 L1416.72 31.104 L1416.72 28.1179 Q1415.56 29.8887 1414.02 30.7568 Q1412.49 31.6075 1410.46 31.6075 Q1407.11 31.6075 1405.37 29.5241 Q1403.63 27.4408 1403.63 23.4304 M1411.67 11.1909 L1411.67 11.1909 Z\" fill=\"#000000\" fill-rule=\"evenodd\" fill-opacity=\"1\" /><path clip-path=\"url(#clip300)\" d=\"M1437.77 14.6458 Q1437.23 14.3333 1436.59 14.1944 Q1435.96 14.0381 1435.2 14.0381 Q1432.49 14.0381 1431.03 15.8089 Q1429.59 17.5624 1429.59 20.861 L1429.59 31.104 L1426.38 31.104 L1426.38 11.6597 L1429.59 11.6597 L1429.59 14.6805 Q1430.6 12.9097 1432.21 12.059 Q1433.83 11.1909 1436.13 11.1909 Q1436.46 11.1909 1436.86 11.243 Q1437.26 11.2777 1437.75 11.3645 L1437.77 14.6458 Z\" fill=\"#000000\" fill-rule=\"evenodd\" fill-opacity=\"1\" /><path clip-path=\"url(#clip300)\" d=\"M1453.29 21.1561 Q1453.29 17.6839 1451.85 15.7742 Q1450.42 13.8645 1447.84 13.8645 Q1445.27 13.8645 1443.83 15.7742 Q1442.4 17.6839 1442.4 21.1561 Q1442.4 24.611 1443.83 26.5207 Q1445.27 28.4304 1447.84 28.4304 Q1450.42 28.4304 1451.85 26.5207 Q1453.29 24.611 1453.29 21.1561 M1456.48 28.6908 Q1456.48 33.6561 1454.28 36.0693 Q1452.07 38.4998 1447.52 38.4998 Q1445.84 38.4998 1444.35 38.2394 Q1442.85 37.9963 1441.45 37.4755 L1441.45 34.3679 Q1442.85 35.1318 1444.22 35.4963 Q1445.6 35.8609 1447.02 35.8609 Q1450.16 35.8609 1451.72 34.2116 Q1453.29 32.5797 1453.29 29.2637 L1453.29 27.6839 Q1452.3 29.4026 1450.75 30.2533 Q1449.21 31.104 1447.05 31.104 Q1443.48 31.104 1441.29 28.3783 Q1439.1 25.6526 1439.1 21.1561 Q1439.1 16.6423 1441.29 13.9166 Q1443.48 11.1909 1447.05 11.1909 Q1449.21 11.1909 1450.75 12.0416 Q1452.3 12.8923 1453.29 14.611 L1453.29 11.6597 L1456.48 11.6597 L1456.48 28.6908 Z\" fill=\"#000000\" fill-rule=\"evenodd\" fill-opacity=\"1\" /><path clip-path=\"url(#clip300)\" d=\"M1488.36 12.4062 L1488.36 15.3923 Q1487 14.6458 1485.63 14.2812 Q1484.28 13.8992 1482.89 13.8992 Q1479.78 13.8992 1478.06 15.8784 Q1476.34 17.8402 1476.34 21.3992 Q1476.34 24.9582 1478.06 26.9374 Q1479.78 28.8992 1482.89 28.8992 Q1484.28 28.8992 1485.63 28.5346 Q1487 28.1526 1488.36 27.4061 L1488.36 30.3575 Q1487.02 30.9825 1485.58 31.295 Q1484.16 31.6075 1482.54 31.6075 Q1478.15 31.6075 1475.56 28.8471 Q1472.97 26.0867 1472.97 21.3992 Q1472.97 16.6423 1475.58 13.9166 Q1478.2 11.1909 1482.75 11.1909 Q1484.22 11.1909 1485.63 11.5034 Q1487.04 11.7985 1488.36 12.4062 Z\" fill=\"#000000\" fill-rule=\"evenodd\" fill-opacity=\"1\" /><path clip-path=\"url(#clip300)\" d=\"M1502.75 21.3297 Q1498.88 21.3297 1497.38 22.2152 Q1495.89 23.1006 1495.89 25.236 Q1495.89 26.9374 1497 27.9443 Q1498.13 28.9339 1500.06 28.9339 Q1502.71 28.9339 1504.31 27.0589 Q1505.93 25.1665 1505.93 22.0415 L1505.93 21.3297 L1502.75 21.3297 M1509.12 20.0103 L1509.12 31.104 L1505.93 31.104 L1505.93 28.1526 Q1504.83 29.9235 1503.2 30.7741 Q1501.57 31.6075 1499.21 31.6075 Q1496.22 31.6075 1494.45 29.9408 Q1492.7 28.2568 1492.7 25.4443 Q1492.7 22.1631 1494.88 20.4964 Q1497.09 18.8298 1501.45 18.8298 L1505.93 18.8298 L1505.93 18.5173 Q1505.93 16.3124 1504.47 15.1145 Q1503.03 13.8992 1500.4 13.8992 Q1498.74 13.8992 1497.16 14.2985 Q1495.58 14.6978 1494.12 15.4964 L1494.12 12.5451 Q1495.87 11.868 1497.52 11.5381 Q1499.17 11.1909 1500.73 11.1909 Q1504.95 11.1909 1507.04 13.3784 Q1509.12 15.5659 1509.12 20.0103 Z\" fill=\"#000000\" fill-rule=\"evenodd\" fill-opacity=\"1\" /><path clip-path=\"url(#clip300)\" d=\"M1518.86 6.13886 L1518.86 11.6597 L1525.44 11.6597 L1525.44 14.1423 L1518.86 14.1423 L1518.86 24.6978 Q1518.86 27.0762 1519.5 27.7533 Q1520.16 28.4304 1522.16 28.4304 L1525.44 28.4304 L1525.44 31.104 L1522.16 31.104 Q1518.46 31.104 1517.05 29.7325 Q1515.65 28.3436 1515.65 24.6978 L1515.65 14.1423 L1513.3 14.1423 L1513.3 11.6597 L1515.65 11.6597 L1515.65 6.13886 L1518.86 6.13886 Z\" fill=\"#000000\" fill-rule=\"evenodd\" fill-opacity=\"1\" /><path clip-path=\"url(#clip300)\" d=\"M1543.63 12.4062 L1543.63 15.3923 Q1542.28 14.6458 1540.91 14.2812 Q1539.55 13.8992 1538.17 13.8992 Q1535.06 13.8992 1533.34 15.8784 Q1531.62 17.8402 1531.62 21.3992 Q1531.62 24.9582 1533.34 26.9374 Q1535.06 28.8992 1538.17 28.8992 Q1539.55 28.8992 1540.91 28.5346 Q1542.28 28.1526 1543.63 27.4061 L1543.63 30.3575 Q1542.3 30.9825 1540.86 31.295 Q1539.43 31.6075 1537.82 31.6075 Q1533.43 31.6075 1530.84 28.8471 Q1528.25 26.0867 1528.25 21.3992 Q1528.25 16.6423 1530.86 13.9166 Q1533.48 11.1909 1538.03 11.1909 Q1539.5 11.1909 1540.91 11.5034 Q1542.31 11.7985 1543.63 12.4062 Z\" fill=\"#000000\" fill-rule=\"evenodd\" fill-opacity=\"1\" /><path clip-path=\"url(#clip300)\" d=\"M1565.35 19.368 L1565.35 31.104 L1562.16 31.104 L1562.16 19.4721 Q1562.16 16.7117 1561.08 15.3402 Q1560.01 13.9687 1557.85 13.9687 Q1555.27 13.9687 1553.77 15.618 Q1552.28 17.2673 1552.28 20.1145 L1552.28 31.104 L1549.07 31.104 L1549.07 4.09026 L1552.28 4.09026 L1552.28 14.6805 Q1553.43 12.927 1554.97 12.059 Q1556.53 11.1909 1558.56 11.1909 Q1561.92 11.1909 1563.63 13.2742 Q1565.35 15.3402 1565.35 19.368 Z\" fill=\"#000000\" fill-rule=\"evenodd\" fill-opacity=\"1\" /><path clip-path=\"url(#clip300)\" d=\"M1586.86 15.3923 Q1588.06 13.2395 1589.73 12.2152 Q1591.39 11.1909 1593.65 11.1909 Q1596.69 11.1909 1598.34 13.3263 Q1599.99 15.4444 1599.99 19.368 L1599.99 31.104 L1596.78 31.104 L1596.78 19.4721 Q1596.78 16.677 1595.79 15.3228 Q1594.8 13.9687 1592.77 13.9687 Q1590.28 13.9687 1588.84 15.618 Q1587.4 17.2673 1587.4 20.1145 L1587.4 31.104 L1584.19 31.104 L1584.19 19.4721 Q1584.19 16.6596 1583.2 15.3228 Q1582.21 13.9687 1580.14 13.9687 Q1577.7 13.9687 1576.26 15.6353 Q1574.81 17.2846 1574.81 20.1145 L1574.81 31.104 L1571.6 31.104 L1571.6 11.6597 L1574.81 11.6597 L1574.81 14.6805 Q1575.91 12.8923 1577.44 12.0416 Q1578.96 11.1909 1581.06 11.1909 Q1583.18 11.1909 1584.66 12.2673 Q1586.15 13.3437 1586.86 15.3923 Z\" fill=\"#000000\" fill-rule=\"evenodd\" fill-opacity=\"1\" /><path clip-path=\"url(#clip300)\" d=\"M1622.99 20.5832 L1622.99 22.1457 L1608.3 22.1457 Q1608.51 25.4443 1610.28 27.1804 Q1612.07 28.8992 1615.25 28.8992 Q1617.09 28.8992 1618.81 28.4478 Q1620.54 27.9964 1622.24 27.0936 L1622.24 30.1144 Q1620.53 30.8436 1618.72 31.2255 Q1616.91 31.6075 1615.06 31.6075 Q1610.4 31.6075 1607.68 28.8992 Q1604.97 26.1908 1604.97 21.5728 Q1604.97 16.7985 1607.54 14.0034 Q1610.13 11.1909 1614.5 11.1909 Q1618.43 11.1909 1620.7 13.7256 Q1622.99 16.243 1622.99 20.5832 M1619.8 19.6457 Q1619.76 17.0242 1618.32 15.4617 Q1616.9 13.8992 1614.54 13.8992 Q1611.86 13.8992 1610.25 15.4096 Q1608.65 16.92 1608.41 19.6631 L1619.8 19.6457 Z\" fill=\"#000000\" fill-rule=\"evenodd\" fill-opacity=\"1\" /><path clip-path=\"url(#clip300)\" d=\"M1644.4 19.368 L1644.4 31.104 L1641.2 31.104 L1641.2 19.4721 Q1641.2 16.7117 1640.13 15.3402 Q1639.05 13.9687 1636.9 13.9687 Q1634.31 13.9687 1632.82 15.618 Q1631.32 17.2673 1631.32 20.1145 L1631.32 31.104 L1628.11 31.104 L1628.11 11.6597 L1631.32 11.6597 L1631.32 14.6805 Q1632.47 12.927 1634.02 12.059 Q1635.58 11.1909 1637.61 11.1909 Q1640.96 11.1909 1642.68 13.2742 Q1644.4 15.3402 1644.4 19.368 Z\" fill=\"#000000\" fill-rule=\"evenodd\" fill-opacity=\"1\" /><path clip-path=\"url(#clip300)\" d=\"M1653.93 6.13886 L1653.93 11.6597 L1660.51 11.6597 L1660.51 14.1423 L1653.93 14.1423 L1653.93 24.6978 Q1653.93 27.0762 1654.57 27.7533 Q1655.23 28.4304 1657.23 28.4304 L1660.51 28.4304 L1660.51 31.104 L1657.23 31.104 Q1653.53 31.104 1652.12 29.7325 Q1650.72 28.3436 1650.72 24.6978 L1650.72 14.1423 L1648.37 14.1423 L1648.37 11.6597 L1650.72 11.6597 L1650.72 6.13886 L1653.93 6.13886 Z\" fill=\"#000000\" fill-rule=\"evenodd\" fill-opacity=\"1\" /><path clip-path=\"url(#clip300)\" d=\"M1683.69 4.12498 Q1681.36 8.11801 1680.23 12.0242 Q1679.1 15.9305 1679.1 19.9409 Q1679.1 23.9513 1680.23 27.8922 Q1681.38 31.8158 1683.69 35.7915 L1680.91 35.7915 Q1678.3 31.7116 1677 27.7707 Q1675.72 23.8297 1675.72 19.9409 Q1675.72 16.0694 1677 12.1458 Q1678.29 8.22218 1680.91 4.12498 L1683.69 4.12498 Z\" fill=\"#000000\" fill-rule=\"evenodd\" fill-opacity=\"1\" /><path clip-path=\"url(#clip300)\" d=\"M1701.15 14.6458 Q1700.61 14.3333 1699.97 14.1944 Q1699.34 14.0381 1698.58 14.0381 Q1695.87 14.0381 1694.41 15.8089 Q1692.97 17.5624 1692.97 20.861 L1692.97 31.104 L1689.76 31.104 L1689.76 11.6597 L1692.97 11.6597 L1692.97 14.6805 Q1693.98 12.9097 1695.59 12.059 Q1697.21 11.1909 1699.52 11.1909 Q1699.85 11.1909 1700.25 11.243 Q1700.65 11.2777 1701.13 11.3645 L1701.15 14.6458 Z\" fill=\"#000000\" fill-rule=\"evenodd\" fill-opacity=\"1\" /><path clip-path=\"url(#clip300)\" d=\"M1713.34 21.3297 Q1709.47 21.3297 1707.97 22.2152 Q1706.48 23.1006 1706.48 25.236 Q1706.48 26.9374 1707.59 27.9443 Q1708.72 28.9339 1710.65 28.9339 Q1713.3 28.9339 1714.9 27.0589 Q1716.51 25.1665 1716.51 22.0415 L1716.51 21.3297 L1713.34 21.3297 M1719.71 20.0103 L1719.71 31.104 L1716.51 31.104 L1716.51 28.1526 Q1715.42 29.9235 1713.79 30.7741 Q1712.16 31.6075 1709.8 31.6075 Q1706.81 31.6075 1705.04 29.9408 Q1703.29 28.2568 1703.29 25.4443 Q1703.29 22.1631 1705.47 20.4964 Q1707.68 18.8298 1712.04 18.8298 L1716.51 18.8298 L1716.51 18.5173 Q1716.51 16.3124 1715.06 15.1145 Q1713.62 13.8992 1710.99 13.8992 Q1709.33 13.8992 1707.75 14.2985 Q1706.17 14.6978 1704.71 15.4964 L1704.71 12.5451 Q1706.46 11.868 1708.11 11.5381 Q1709.76 11.1909 1711.32 11.1909 Q1715.54 11.1909 1717.63 13.3784 Q1719.71 15.5659 1719.71 20.0103 Z\" fill=\"#000000\" fill-rule=\"evenodd\" fill-opacity=\"1\" /><path clip-path=\"url(#clip300)\" d=\"M1742.45 19.368 L1742.45 31.104 L1739.26 31.104 L1739.26 19.4721 Q1739.26 16.7117 1738.18 15.3402 Q1737.11 13.9687 1734.95 13.9687 Q1732.37 13.9687 1730.87 15.618 Q1729.38 17.2673 1729.38 20.1145 L1729.38 31.104 L1726.17 31.104 L1726.17 11.6597 L1729.38 11.6597 L1729.38 14.6805 Q1730.53 12.927 1732.07 12.059 Q1733.63 11.1909 1735.66 11.1909 Q1739.01 11.1909 1740.73 13.2742 Q1742.45 15.3402 1742.45 19.368 Z\" fill=\"#000000\" fill-rule=\"evenodd\" fill-opacity=\"1\" /><path clip-path=\"url(#clip300)\" d=\"M1761.62 14.611 L1761.62 4.09026 L1764.81 4.09026 L1764.81 31.104 L1761.62 31.104 L1761.62 28.1873 Q1760.61 29.9235 1759.07 30.7741 Q1757.54 31.6075 1755.39 31.6075 Q1751.86 31.6075 1749.64 28.795 Q1747.43 25.9825 1747.43 21.3992 Q1747.43 16.8159 1749.64 14.0034 Q1751.86 11.1909 1755.39 11.1909 Q1757.54 11.1909 1759.07 12.0416 Q1760.61 12.8749 1761.62 14.611 M1750.73 21.3992 Q1750.73 24.9235 1752.17 26.9374 Q1753.63 28.9339 1756.17 28.9339 Q1758.7 28.9339 1760.16 26.9374 Q1761.62 24.9235 1761.62 21.3992 Q1761.62 17.8749 1760.16 15.8784 Q1758.7 13.8645 1756.17 13.8645 Q1753.63 13.8645 1752.17 15.8784 Q1750.73 17.8749 1750.73 21.3992 Z\" fill=\"#000000\" fill-rule=\"evenodd\" fill-opacity=\"1\" /><path clip-path=\"url(#clip300)\" d=\"M1778.93 13.8992 Q1776.36 13.8992 1774.87 15.9131 Q1773.37 17.9096 1773.37 21.3992 Q1773.37 24.8888 1774.85 26.9026 Q1776.34 28.8992 1778.93 28.8992 Q1781.48 28.8992 1782.97 26.8853 Q1784.47 24.8714 1784.47 21.3992 Q1784.47 17.9443 1782.97 15.9305 Q1781.48 13.8992 1778.93 13.8992 M1778.93 11.1909 Q1783.09 11.1909 1785.47 13.8992 Q1787.85 16.6075 1787.85 21.3992 Q1787.85 26.1735 1785.47 28.8992 Q1783.09 31.6075 1778.93 31.6075 Q1774.74 31.6075 1772.37 28.8992 Q1770 26.1735 1770 21.3992 Q1770 16.6075 1772.37 13.8992 Q1774.74 11.1909 1778.93 11.1909 Z\" fill=\"#000000\" fill-rule=\"evenodd\" fill-opacity=\"1\" /><path clip-path=\"url(#clip300)\" d=\"M1808.29 15.3923 Q1809.48 13.2395 1811.15 12.2152 Q1812.82 11.1909 1815.07 11.1909 Q1818.11 11.1909 1819.76 13.3263 Q1821.41 15.4444 1821.41 19.368 L1821.41 31.104 L1818.2 31.104 L1818.2 19.4721 Q1818.2 16.677 1817.21 15.3228 Q1816.22 13.9687 1814.19 13.9687 Q1811.71 13.9687 1810.26 15.618 Q1808.82 17.2673 1808.82 20.1145 L1808.82 31.104 L1805.61 31.104 L1805.61 19.4721 Q1805.61 16.6596 1804.62 15.3228 Q1803.63 13.9687 1801.57 13.9687 Q1799.12 13.9687 1797.68 15.6353 Q1796.24 17.2846 1796.24 20.1145 L1796.24 31.104 L1793.02 31.104 L1793.02 11.6597 L1796.24 11.6597 L1796.24 14.6805 Q1797.33 12.8923 1798.86 12.0416 Q1800.39 11.1909 1802.49 11.1909 Q1804.6 11.1909 1806.08 12.2673 Q1807.57 13.3437 1808.29 15.3923 Z\" fill=\"#000000\" fill-rule=\"evenodd\" fill-opacity=\"1\" /><path clip-path=\"url(#clip300)\" d=\"M1842.17 28.1873 L1842.17 38.4998 L1838.96 38.4998 L1838.96 11.6597 L1842.17 11.6597 L1842.17 14.611 Q1843.18 12.8749 1844.71 12.0416 Q1846.25 11.1909 1848.39 11.1909 Q1851.93 11.1909 1854.14 14.0034 Q1856.36 16.8159 1856.36 21.3992 Q1856.36 25.9825 1854.14 28.795 Q1851.93 31.6075 1848.39 31.6075 Q1846.25 31.6075 1844.71 30.7741 Q1843.18 29.9235 1842.17 28.1873 M1853.04 21.3992 Q1853.04 17.8749 1851.58 15.8784 Q1850.14 13.8645 1847.61 13.8645 Q1845.07 13.8645 1843.61 15.8784 Q1842.17 17.8749 1842.17 21.3992 Q1842.17 24.9235 1843.61 26.9374 Q1845.07 28.9339 1847.61 28.9339 Q1850.14 28.9339 1851.58 26.9374 Q1853.04 24.9235 1853.04 21.3992 Z\" fill=\"#000000\" fill-rule=\"evenodd\" fill-opacity=\"1\" /><path clip-path=\"url(#clip300)\" d=\"M1870.49 21.3297 Q1866.62 21.3297 1865.13 22.2152 Q1863.63 23.1006 1863.63 25.236 Q1863.63 26.9374 1864.74 27.9443 Q1865.87 28.9339 1867.8 28.9339 Q1870.46 28.9339 1872.05 27.0589 Q1873.67 25.1665 1873.67 22.0415 L1873.67 21.3297 L1870.49 21.3297 M1876.86 20.0103 L1876.86 31.104 L1873.67 31.104 L1873.67 28.1526 Q1872.57 29.9235 1870.94 30.7741 Q1869.31 31.6075 1866.95 31.6075 Q1863.96 31.6075 1862.19 29.9408 Q1860.44 28.2568 1860.44 25.4443 Q1860.44 22.1631 1862.63 20.4964 Q1864.83 18.8298 1869.19 18.8298 L1873.67 18.8298 L1873.67 18.5173 Q1873.67 16.3124 1872.21 15.1145 Q1870.77 13.8992 1868.15 13.8992 Q1866.48 13.8992 1864.9 14.2985 Q1863.32 14.6978 1861.86 15.4964 L1861.86 12.5451 Q1863.61 11.868 1865.26 11.5381 Q1866.91 11.1909 1868.48 11.1909 Q1872.69 11.1909 1874.78 13.3784 Q1876.86 15.5659 1876.86 20.0103 Z\" fill=\"#000000\" fill-rule=\"evenodd\" fill-opacity=\"1\" /><path clip-path=\"url(#clip300)\" d=\"M1894.71 14.6458 Q1894.17 14.3333 1893.53 14.1944 Q1892.9 14.0381 1892.14 14.0381 Q1889.43 14.0381 1887.97 15.8089 Q1886.53 17.5624 1886.53 20.861 L1886.53 31.104 L1883.32 31.104 L1883.32 11.6597 L1886.53 11.6597 L1886.53 14.6805 Q1887.54 12.9097 1889.15 12.059 Q1890.77 11.1909 1893.08 11.1909 Q1893.41 11.1909 1893.81 11.243 Q1894.2 11.2777 1894.69 11.3645 L1894.71 14.6458 Z\" fill=\"#000000\" fill-rule=\"evenodd\" fill-opacity=\"1\" /><path clip-path=\"url(#clip300)\" d=\"M1906.9 21.3297 Q1903.02 21.3297 1901.53 22.2152 Q1900.04 23.1006 1900.04 25.236 Q1900.04 26.9374 1901.15 27.9443 Q1902.28 28.9339 1904.2 28.9339 Q1906.86 28.9339 1908.46 27.0589 Q1910.07 25.1665 1910.07 22.0415 L1910.07 21.3297 L1906.9 21.3297 M1913.27 20.0103 L1913.27 31.104 L1910.07 31.104 L1910.07 28.1526 Q1908.98 29.9235 1907.35 30.7741 Q1905.72 31.6075 1903.35 31.6075 Q1900.37 31.6075 1898.6 29.9408 Q1896.84 28.2568 1896.84 25.4443 Q1896.84 22.1631 1899.03 20.4964 Q1901.24 18.8298 1905.59 18.8298 L1910.07 18.8298 L1910.07 18.5173 Q1910.07 16.3124 1908.61 15.1145 Q1907.17 13.8992 1904.55 13.8992 Q1902.89 13.8992 1901.31 14.2985 Q1899.73 14.6978 1898.27 15.4964 L1898.27 12.5451 Q1900.02 11.868 1901.67 11.5381 Q1903.32 11.1909 1904.88 11.1909 Q1909.1 11.1909 1911.18 13.3784 Q1913.27 15.5659 1913.27 20.0103 Z\" fill=\"#000000\" fill-rule=\"evenodd\" fill-opacity=\"1\" /><path clip-path=\"url(#clip300)\" d=\"M1934.99 15.3923 Q1936.18 13.2395 1937.85 12.2152 Q1939.52 11.1909 1941.77 11.1909 Q1944.81 11.1909 1946.46 13.3263 Q1948.11 15.4444 1948.11 19.368 L1948.11 31.104 L1944.9 31.104 L1944.9 19.4721 Q1944.9 16.677 1943.91 15.3228 Q1942.92 13.9687 1940.89 13.9687 Q1938.41 13.9687 1936.97 15.618 Q1935.52 17.2673 1935.52 20.1145 L1935.52 31.104 L1932.31 31.104 L1932.31 19.4721 Q1932.31 16.6596 1931.32 15.3228 Q1930.33 13.9687 1928.27 13.9687 Q1925.82 13.9687 1924.38 15.6353 Q1922.94 17.2846 1922.94 20.1145 L1922.94 31.104 L1919.73 31.104 L1919.73 11.6597 L1922.94 11.6597 L1922.94 14.6805 Q1924.03 12.8923 1925.56 12.0416 Q1927.09 11.1909 1929.19 11.1909 Q1931.31 11.1909 1932.78 12.2673 Q1934.27 13.3437 1934.99 15.3923 Z\" fill=\"#000000\" fill-rule=\"evenodd\" fill-opacity=\"1\" /><path clip-path=\"url(#clip300)\" d=\"M1971.11 20.5832 L1971.11 22.1457 L1956.43 22.1457 Q1956.64 25.4443 1958.41 27.1804 Q1960.19 28.8992 1963.37 28.8992 Q1965.21 28.8992 1966.93 28.4478 Q1968.67 27.9964 1970.37 27.0936 L1970.37 30.1144 Q1968.65 30.8436 1966.84 31.2255 Q1965.04 31.6075 1963.18 31.6075 Q1958.53 31.6075 1955.8 28.8992 Q1953.09 26.1908 1953.09 21.5728 Q1953.09 16.7985 1955.66 14.0034 Q1958.25 11.1909 1962.62 11.1909 Q1966.55 11.1909 1968.82 13.7256 Q1971.11 16.243 1971.11 20.5832 M1967.92 19.6457 Q1967.89 17.0242 1966.44 15.4617 Q1965.02 13.8992 1962.66 13.8992 Q1959.99 13.8992 1958.37 15.4096 Q1956.77 16.92 1956.53 19.6631 L1967.92 19.6457 Z\" fill=\"#000000\" fill-rule=\"evenodd\" fill-opacity=\"1\" /><path clip-path=\"url(#clip300)\" d=\"M1979.52 6.13886 L1979.52 11.6597 L1986.1 11.6597 L1986.1 14.1423 L1979.52 14.1423 L1979.52 24.6978 Q1979.52 27.0762 1980.16 27.7533 Q1980.82 28.4304 1982.82 28.4304 L1986.1 28.4304 L1986.1 31.104 L1982.82 31.104 Q1979.12 31.104 1977.71 29.7325 Q1976.31 28.3436 1976.31 24.6978 L1976.31 14.1423 L1973.96 14.1423 L1973.96 11.6597 L1976.31 11.6597 L1976.31 6.13886 L1979.52 6.13886 Z\" fill=\"#000000\" fill-rule=\"evenodd\" fill-opacity=\"1\" /><path clip-path=\"url(#clip300)\" d=\"M2006.93 20.5832 L2006.93 22.1457 L1992.24 22.1457 Q1992.45 25.4443 1994.22 27.1804 Q1996.01 28.8992 1999.19 28.8992 Q2001.03 28.8992 2002.75 28.4478 Q2004.48 27.9964 2006.18 27.0936 L2006.18 30.1144 Q2004.46 30.8436 2002.66 31.2255 Q2000.85 31.6075 1999 31.6075 Q1994.34 31.6075 1991.62 28.8992 Q1988.91 26.1908 1988.91 21.5728 Q1988.91 16.7985 1991.48 14.0034 Q1994.07 11.1909 1998.44 11.1909 Q2002.36 11.1909 2004.64 13.7256 Q2006.93 16.243 2006.93 20.5832 M2003.74 19.6457 Q2003.7 17.0242 2002.26 15.4617 Q2000.84 13.8992 1998.48 13.8992 Q1995.8 13.8992 1994.19 15.4096 Q1992.59 16.92 1992.35 19.6631 L2003.74 19.6457 Z\" fill=\"#000000\" fill-rule=\"evenodd\" fill-opacity=\"1\" /><path clip-path=\"url(#clip300)\" d=\"M2023.44 14.6458 Q2022.9 14.3333 2022.26 14.1944 Q2021.63 14.0381 2020.87 14.0381 Q2018.16 14.0381 2016.7 15.8089 Q2015.26 17.5624 2015.26 20.861 L2015.26 31.104 L2012.05 31.104 L2012.05 11.6597 L2015.26 11.6597 L2015.26 14.6805 Q2016.27 12.9097 2017.88 12.059 Q2019.5 11.1909 2021.81 11.1909 Q2022.14 11.1909 2022.54 11.243 Q2022.94 11.2777 2023.42 11.3645 L2023.44 14.6458 Z\" fill=\"#000000\" fill-rule=\"evenodd\" fill-opacity=\"1\" /><path clip-path=\"url(#clip300)\" d=\"M2050.49 12.2326 L2050.49 15.2534 Q2049.13 14.5589 2047.68 14.2117 Q2046.22 13.8645 2044.66 13.8645 Q2042.28 13.8645 2041.08 14.5937 Q2039.9 15.3228 2039.9 16.7812 Q2039.9 17.8923 2040.75 18.5346 Q2041.6 19.1596 2044.17 19.7325 L2045.26 19.9756 Q2048.67 20.7048 2050.09 22.0415 Q2051.53 23.361 2051.53 25.7394 Q2051.53 28.4478 2049.38 30.0276 Q2047.24 31.6075 2043.49 31.6075 Q2041.93 31.6075 2040.23 31.295 Q2038.54 30.9998 2036.67 30.3922 L2036.67 27.0936 Q2038.44 28.0137 2040.16 28.4825 Q2041.88 28.9339 2043.56 28.9339 Q2045.82 28.9339 2047.03 28.17 Q2048.25 27.3887 2048.25 25.9825 Q2048.25 24.6804 2047.36 23.986 Q2046.5 23.2915 2043.53 22.6492 L2042.42 22.3888 Q2039.45 21.7638 2038.13 20.4791 Q2036.81 19.177 2036.81 16.92 Q2036.81 14.177 2038.75 12.684 Q2040.7 11.1909 2044.27 11.1909 Q2046.04 11.1909 2047.61 11.4513 Q2049.17 11.7117 2050.49 12.2326 Z\" fill=\"#000000\" fill-rule=\"evenodd\" fill-opacity=\"1\" /><path clip-path=\"url(#clip300)\" d=\"M2073.25 20.5832 L2073.25 22.1457 L2058.56 22.1457 Q2058.77 25.4443 2060.54 27.1804 Q2062.33 28.8992 2065.51 28.8992 Q2067.35 28.8992 2069.07 28.4478 Q2070.8 27.9964 2072.5 27.0936 L2072.5 30.1144 Q2070.78 30.8436 2068.98 31.2255 Q2067.17 31.6075 2065.32 31.6075 Q2060.66 31.6075 2057.94 28.8992 Q2055.23 26.1908 2055.23 21.5728 Q2055.23 16.7985 2057.8 14.0034 Q2060.38 11.1909 2064.76 11.1909 Q2068.68 11.1909 2070.96 13.7256 Q2073.25 16.243 2073.25 20.5832 M2070.05 19.6457 Q2070.02 17.0242 2068.58 15.4617 Q2067.16 13.8992 2064.79 13.8992 Q2062.12 13.8992 2060.51 15.4096 Q2058.91 16.92 2058.67 19.6631 L2070.05 19.6457 Z\" fill=\"#000000\" fill-rule=\"evenodd\" fill-opacity=\"1\" /><path clip-path=\"url(#clip300)\" d=\"M2081.65 6.13886 L2081.65 11.6597 L2088.23 11.6597 L2088.23 14.1423 L2081.65 14.1423 L2081.65 24.6978 Q2081.65 27.0762 2082.29 27.7533 Q2082.95 28.4304 2084.95 28.4304 L2088.23 28.4304 L2088.23 31.104 L2084.95 31.104 Q2081.25 31.104 2079.85 29.7325 Q2078.44 28.3436 2078.44 24.6978 L2078.44 14.1423 L2076.1 14.1423 L2076.1 11.6597 L2078.44 11.6597 L2078.44 6.13886 L2081.65 6.13886 Z\" fill=\"#000000\" fill-rule=\"evenodd\" fill-opacity=\"1\" /><path clip-path=\"url(#clip300)\" d=\"M2093.25 26.6943 L2096.91 26.6943 L2096.91 29.6804 L2094.06 35.2359 L2091.83 35.2359 L2093.25 29.6804 L2093.25 26.6943 Z\" fill=\"#000000\" fill-rule=\"evenodd\" fill-opacity=\"1\" /><path clip-path=\"url(#clip300)\" d=\"M2115.18 5.184 L2131.56 5.184 L2131.56 8.13537 L2118.68 8.13537 L2118.68 15.8089 L2131.03 15.8089 L2131.03 18.7603 L2118.68 18.7603 L2118.68 28.1526 L2131.88 28.1526 L2131.88 31.104 L2115.18 31.104 L2115.18 5.184 Z\" fill=\"#000000\" fill-rule=\"evenodd\" fill-opacity=\"1\" /><path clip-path=\"url(#clip300)\" d=\"M2149.93 18.9513 Q2151.06 19.3332 2152.12 20.5832 Q2153.2 21.8332 2154.27 24.0207 L2157.83 31.104 L2154.06 31.104 L2150.75 24.4547 Q2149.46 21.8506 2148.25 20.9999 Q2147.05 20.1492 2144.97 20.1492 L2141.15 20.1492 L2141.15 31.104 L2137.64 31.104 L2137.64 5.184 L2145.56 5.184 Q2150 5.184 2152.19 7.04163 Q2154.38 8.89926 2154.38 12.6492 Q2154.38 15.0971 2153.23 16.7117 Q2152.1 18.3263 2149.93 18.9513 M2141.15 8.06593 L2141.15 17.2673 L2145.56 17.2673 Q2148.09 17.2673 2149.38 16.1041 Q2150.68 14.9235 2150.68 12.6492 Q2150.68 10.3749 2149.38 9.22912 Q2148.09 8.06593 2145.56 8.06593 L2141.15 8.06593 Z\" fill=\"#000000\" fill-rule=\"evenodd\" fill-opacity=\"1\" /><path clip-path=\"url(#clip300)\" d=\"M2169.57 8.63884 L2164.81 21.5381 L2174.34 21.5381 L2169.57 8.63884 M2167.59 5.184 L2171.56 5.184 L2181.44 31.104 L2177.8 31.104 L2175.44 24.4547 L2163.75 24.4547 L2161.39 31.104 L2157.69 31.104 L2167.59 5.184 Z\" fill=\"#000000\" fill-rule=\"evenodd\" fill-opacity=\"1\" /><path clip-path=\"url(#clip300)\" d=\"M2185.57 5.184 L2199.34 5.184 L2199.34 8.13537 L2188.79 8.13537 L2188.79 14.4895 Q2189.55 14.2291 2190.31 14.1076 Q2191.08 13.9687 2191.84 13.9687 Q2196.18 13.9687 2198.72 16.3471 Q2201.25 18.7256 2201.25 22.7881 Q2201.25 26.9721 2198.65 29.2985 Q2196.04 31.6075 2191.3 31.6075 Q2189.67 31.6075 2187.97 31.3297 Q2186.29 31.0519 2184.48 30.4964 L2184.48 26.9721 Q2186.04 27.8228 2187.71 28.2394 Q2189.38 28.6561 2191.23 28.6561 Q2194.24 28.6561 2195.99 27.0762 Q2197.74 25.4964 2197.74 22.7881 Q2197.74 20.0798 2195.99 18.4999 Q2194.24 16.92 2191.23 16.92 Q2189.83 16.92 2188.42 17.2325 Q2187.03 17.545 2185.57 18.2048 L2185.57 5.184 Z\" fill=\"#000000\" fill-rule=\"evenodd\" fill-opacity=\"1\" /><path clip-path=\"url(#clip300)\" d=\"M2207.21 4.12498 L2209.98 4.12498 Q2212.59 8.22218 2213.87 12.1458 Q2215.18 16.0694 2215.18 19.9409 Q2215.18 23.8297 2213.87 27.7707 Q2212.59 31.7116 2209.98 35.7915 L2207.21 35.7915 Q2209.52 31.8158 2210.64 27.8922 Q2211.79 23.9513 2211.79 19.9409 Q2211.79 15.9305 2210.64 12.0242 Q2209.52 8.11801 2207.21 4.12498 Z\" fill=\"#000000\" fill-rule=\"evenodd\" fill-opacity=\"1\" /><polyline clip-path=\"url(#clip302)\" style=\"stroke:#009af9; stroke-linecap:butt; stroke-linejoin:round; stroke-width:6; stroke-opacity:1; fill:none\" points=\"\n",
       "  203.301,1070.31 206.164,1070.31 209.026,1070.31 211.889,1070.31 214.752,1070.31 217.614,1068.66 220.477,1060.03 223.339,1041.58 226.202,1048.12 229.065,1052.26 \n",
       "  231.927,1056.2 234.79,1059.2 237.652,1061.48 240.515,1063.23 243.378,1064.57 246.24,1065.47 249.103,1066.29 251.966,1066.94 254.828,1065.52 257.691,1066.34 \n",
       "  260.553,1066.97 263.416,1067.47 266.279,1067.86 269.141,1068.18 272.004,1068.43 274.867,1068.64 277.729,1068.81 280.592,1068.95 283.454,1069.07 286.317,1069.17 \n",
       "  289.18,1069.2 292.042,1069.29 294.905,1069.37 297.767,1068.82 300.63,1067.74 303.493,1067.99 306.355,1061.05 309.218,1062.95 312.081,1062.8 314.943,1062.8 \n",
       "  317.806,1062.13 320.668,1063.74 323.531,1064.97 326.394,1060.98 329.256,1062.1 332.119,1061.13 334.982,1045.73 337.844,1047.91 340.707,1052.59 343.569,1007.36 \n",
       "  346.432,1019.11 349.295,1029.99 352.157,1038.28 355.02,1044.62 357.882,1049.48 360.745,1037.36 363.608,1034.49 366.47,1036.61 369.333,1043.13 372.196,1048.13 \n",
       "  375.058,1052 377.921,1040.3 380.783,1045.92 383.646,988.95 386.509,1005.98 389.371,1018.97 392.234,1010.32 395.097,1004.22 397.959,1014.73 400.822,1025.31 \n",
       "  403.684,1033.45 406.547,1039.75 409.41,1044.66 412.272,1048.5 415.135,1051.54 417.997,1053.94 420.86,1055.9 423.723,1057.49 426.585,1058.66 429.448,1059.78 \n",
       "  432.311,1060.72 435.173,1061.53 438.036,1062.22 440.898,1050.39 443.761,1048.32 446.624,1041.4 449.486,1046.65 452.349,1050.7 455.212,1053.86 458.074,1056.33 \n",
       "  460.937,1058.28 463.799,1059.65 466.662,1060.94 469.525,1061.98 472.387,1062.84 475.25,1063.55 478.112,1064.16 480.975,1063.45 483.838,1058.99 486.7,999.887 \n",
       "  489.563,1014.59 492.426,1025.81 495.288,1034.4 498.151,1034.82 501.013,1034.53 503.876,1041.05 506.739,1046.09 509.601,1050.01 512.464,1053.08 515.327,1055.49 \n",
       "  518.189,1057.42 521.052,1058.96 523.914,1060.22 526.777,1032.48 529.64,1036.96 532.502,1034.74 535.365,1034.94 538.227,1011.02 541.09,1016.22 543.953,1014.6 \n",
       "  546.815,991.837 549.678,971.498 552.541,987.071 555.403,1001.24 558.266,1014.41 561.128,1001.44 563.991,997.8 566.854,1000.7 569.716,1013.66 572.579,1023.66 \n",
       "  575.442,1031.41 578.304,1037.46 581.167,1042.21 584.029,1045.98 586.892,1048.99 589.755,1051.43 592.617,1053.42 595.48,1055.07 598.342,1056.45 601.205,1057.31 \n",
       "  604.068,1057.81 606.93,1058.87 609.793,1059.78 612.656,1060.58 615.518,1061.28 618.381,1061.9 621.243,991.735 624.106,1007.9 626.969,1020.25 629.831,941.05 \n",
       "  632.694,928.325 635.557,957.432 638.419,979.683 641.282,996.751 644.144,1009.9 647.007,1020.08 649.87,1028.01 652.732,1034.23 655.595,1039.15 658.457,1043.08 \n",
       "  661.32,1046.25 664.183,1048.83 667.045,1050.97 669.908,1052.75 672.771,1054.26 675.633,1055.55 678.496,1056.68 681.358,1057.66 684.221,1058.54 687.084,1059.33 \n",
       "  689.946,1060.04 692.809,1016.91 695.672,975.824 698.534,976.229 701.397,990.827 704.259,975.82 707.122,961.374 709.985,980.225 712.847,976.985 715.71,899.409 \n",
       "  718.572,923.836 721.435,953.07 724.298,975.473 727.16,992.709 730.023,1006.04 732.886,1016.4 735.748,1024.51 738.611,1030.91 741.473,1011.15 744.336,1016.11 \n",
       "  747.199,1024.09 750.061,1003.06 752.924,947.19 755.787,902.764 758.649,923.791 761.512,908.029 764.374,835.574 767.237,861.35 770.1,902.276 772.962,933.708 \n",
       "  775.825,957.94 778.687,959.791 781.55,937.269 784.413,818.297 787.275,847.061 790.138,857.666 793.001,841.913 795.863,870.958 798.726,866.508 801.588,825.922 \n",
       "  804.451,779.747 807.314,826.808 810.176,871.423 813.039,905.888 815.902,932.659 818.764,953.589 821.627,970.081 824.489,983.191 827.352,989.572 830.215,999.026 \n",
       "  833.077,1006.73 835.94,1013.09 838.802,1018.41 841.665,1022.9 844.528,1026.76 847.39,1011.94 850.253,1014.44 853.116,1021.04 855.978,1026.41 858.841,983.588 \n",
       "  861.703,960.557 864.566,893.426 867.429,903.029 870.291,908.3 873.154,938.284 876.017,961.423 878.879,979.377 881.742,993.397 884.604,1004.43 887.467,1013.18 \n",
       "  890.33,1020.19 893.192,1025.87 896.055,1030.52 898.917,1034.39 901.78,1037.64 904.643,1040.41 907.505,1042.81 910.368,1044.91 913.231,1046.76 916.093,1048.4 \n",
       "  918.956,1049.88 921.818,1051.21 924.681,1052.43 927.544,1053.54 930.406,1054.57 933.269,1055.53 936.132,1056.41 938.994,1057.23 941.857,1025.37 944.719,1031.25 \n",
       "  947.582,1029.61 950.445,1018.43 953.307,1027.58 956.17,1034.68 959.032,1040.22 961.895,1044.58 964.758,1048.04 967.62,1050.82 970.483,1046.86 973.346,1030.66 \n",
       "  976.208,1028.5 979.071,1014.74 981.933,1024.81 984.796,1025.88 987.659,1033.4 990.521,1039.26 993.384,1018.83 996.247,976.827 999.109,994.14 1001.97,1008.3 \n",
       "  1004.83,1019.22 1007.7,1027.71 1010.56,1034.34 1013.42,1039.56 1016.28,1043.71 1019.15,1047.03 1022.01,1036.28 1024.87,1041.36 1027.74,1045.37 1030.6,1048.58 \n",
       "  1033.46,1037.49 1036.32,1042.51 1039.19,1046.46 1042.05,1049.61 1044.91,1052.14 1047.77,1053.93 1050.64,1055.66 1053.5,1057.07 1056.36,1058.28 1059.22,1059.3 \n",
       "  1062.09,1060.19 1064.95,1060.85 1067.81,1061.55 1070.67,1062.16 1073.54,1062.72 1076.4,1063.21 1079.26,1062.7 1082.13,1057.91 1084.99,1059.57 1087.85,1060.8 \n",
       "  1090.71,1061.9 1093.58,1062.79 1096.44,1063.53 1099.3,1063.99 1102.16,1063.88 1105.03,1064.5 1107.89,1065.02 1110.75,1065.46 1113.61,1063.53 1116.48,1064.35 \n",
       "  1119.34,1065.01 1122.2,1065.55 1125.06,1066.01 1127.93,1066.39 1130.79,1066.72 1133.65,1067 1136.51,1067.24 1139.38,1067.46 1142.24,1067.66 1145.1,1067.83 \n",
       "  1147.97,1067.99 1150.83,1068.13 1153.69,1068.27 1156.55,1068.39 1159.42,1068.5 1162.28,1068.61 1165.14,1064.11 1168,1061.98 1170.87,1063.48 1173.73,1064.64 \n",
       "  1176.59,1065.54 1179.45,1066.25 1182.32,1066.81 1185.18,1050.7 1188.04,1054.66 1190.9,1057.69 1193.77,1043.18 1196.63,1048.73 1199.49,1052.98 1202.36,1056.24 \n",
       "  1205.22,1058.76 1208.08,1060.71 1210.94,1062.23 1213.81,1063.42 1216.67,1064.37 1219.53,1065.12 1222.39,1065.73 1225.26,1066.23 1228.12,1066.64 1230.98,1066.98 \n",
       "  1233.84,1067.27 1236.71,1067.52 1239.57,1067.73 1242.43,1067.92 1245.29,1068.09 1248.16,1068.18 1251.02,1066.08 1253.88,1061.48 1256.74,1063.09 1259.61,1064.34 \n",
       "  1262.47,1065.3 1265.33,1064 1268.2,1065.05 1271.06,1065.03 1273.92,1065.85 1276.78,1066.5 1279.65,1067.01 1282.51,1067.42 1285.37,1067.75 1288.23,1068.03 \n",
       "  1291.1,1068.25 1293.96,1068.44 1296.82,1068.6 1299.68,1066.27 1302.55,1066.86 1305.41,1065.66 1308.27,1066.44 1311.13,1067.05 1314,1058.19 1316.86,1060.61 \n",
       "  1319.72,1062.46 1322.59,1053.23 1325.45,1056.7 1328.31,1059.36 1331.17,1061.41 1334.04,1062.99 1336.9,1064.21 1339.76,1065.16 1342.62,1065.91 1345.49,1066.31 \n",
       "  1348.35,1066.83 1351.21,1067.24 1354.07,1067.58 1356.94,1063.83 1359.8,1064.92 1362.66,1065.74 1365.52,1066.4 1368.39,1066.94 1371.25,1067.37 1374.11,1067.71 \n",
       "  1376.97,1068 1379.84,1068.23 1382.7,1068.42 1385.56,1068.59 1388.43,1068.73 1391.29,1068.85 1394.15,1068.96 1397.01,1066.89 1399.88,1067.44 1402.74,1067.86 \n",
       "  1405.6,1066.69 1408.46,1057.96 1411.33,1060.48 1414.19,1062.4 1417.05,1063.88 1419.91,1065.02 1422.78,1065.91 1425.64,1066.6 1428.5,1067.14 1431.36,1067.57 \n",
       "  1434.23,1067.91 1437.09,1061.5 1439.95,1063.2 1442.82,1064.51 1445.68,1065.52 1448.54,1066.3 1451.4,1066.92 1454.27,1067.4 1457.13,1067.78 1459.99,1068.09 \n",
       "  1462.85,1064.55 1465.72,1056.05 1468.58,1044.17 1471.44,1045.8 1474.3,1049.48 1477.17,1053.7 1480.03,1048.83 1482.89,1027.09 1485.75,987.239 1488.62,987.959 \n",
       "  1491.48,950.637 1494.34,947.4 1497.2,911.208 1500.07,944.983 1502.93,970.726 1505.79,990.403 1508.66,1005.5 1511.52,1017.13 1514.38,960.068 1517.24,927.398 \n",
       "  1520.11,952.557 1522.97,975.446 1525.83,993.029 1528.69,970.681 1531.56,964.109 1534.42,963.009 1537.28,965.269 1540.14,936.86 1543.01,962.456 1545.87,969.621 \n",
       "  1548.73,978.644 1551.59,986.166 1554.46,970.286 1557.32,987.786 1560.18,1001.64 1563.05,1012.43 1565.91,1020.9 1568.77,1013.48 1571.63,1021.98 1574.5,1022.51 \n",
       "  1577.36,1029.23 1580.22,1009.57 1583.08,1019.41 1585.95,1027.12 1588.81,1033.19 1591.67,1038.02 1594.53,1041.9 1597.4,1036.74 1600.26,1036.24 1603.12,1037.42 \n",
       "  1605.98,1041.9 1608.85,1045.48 1611.71,1048.37 1614.57,1050.72 1617.43,1052.67 1620.3,1054.29 1623.16,1055.67 1626.02,1056.85 1628.89,1057.87 1631.75,1058.77 \n",
       "  1634.61,1059.07 1637.47,1056.81 1640.34,1058.23 1643.2,1059.4 1646.06,1060.39 1648.92,1061.22 1651.79,1057.96 1654.65,1040.9 1657.51,979.145 1660.37,998.167 \n",
       "  1663.24,1012.69 1666.1,1019.67 1668.96,974.935 1671.82,990.937 1674.69,1003.6 1677.55,941.314 1680.41,944.982 1683.28,963.341 1686.14,909.459 1689,782.721 \n",
       "  1691.86,807.48 1694.73,830.185 1697.59,878.092 1700.45,914.802 1703.31,943.045 1706.18,964.88 1709.04,981.856 1711.9,995.145 1714.76,1005.63 1717.63,1013.97 \n",
       "  1720.49,1020.68 1723.35,999.638 1726.21,1001.87 1729.08,1000.98 1731.94,1011.3 1734.8,1019.45 1737.66,1018.65 1740.53,1002.82 1743.39,998.952 1746.25,968.428 \n",
       "  1749.12,969.536 1751.98,984.443 1754.84,996.27 1757.7,981.814 1760.57,996.05 1763.43,966.959 1766.29,945.023 1769.15,968.271 1772.02,986.206 1774.88,1000.12 \n",
       "  1777.74,1010.97 1780.6,907.06 1783.47,938.558 1786.33,926.072 1789.19,933.361 1792.05,958.183 1794.92,954.257 1797.78,973.779 1800.64,989.607 1803.51,1001.97 \n",
       "  1806.37,1011.71 1809.23,1019.43 1812.09,1025.63 1814.96,1030.65 1817.82,1034.77 1820.68,1038.18 1823.54,1041.05 1826.41,1043.5 1829.27,1042.8 1832.13,1040.45 \n",
       "  1834.99,1043.75 1837.86,1046.45 1840.72,1048.71 1843.58,1050.61 1846.44,1052.24 1849.31,1053.64 1852.17,1054.87 1855.03,1019.7 1857.89,981.143 1860.76,986.779 \n",
       "  1863.62,1002.78 1866.48,1015.08 1869.35,968.554 1872.21,988.316 1875.07,1003.5 1877.93,1015.21 1880.8,1024.3 1883.66,1031.4 1886.52,1036.94 1889.38,1041.38 \n",
       "  1892.25,1044.94 1895.11,1047.82 1897.97,1050.18 1900.83,1052.13 1903.7,1053.78 1906.56,1055.17 1909.42,1056.38 1912.28,1057.43 1915.15,1058.36 1918.01,1059.18 \n",
       "  1920.87,1059.92 1923.74,1017.96 1926.6,1024.79 1929.46,1033.13 1932.32,1039.58 1935.19,1044.59 1938.05,1048.51 1940.91,1051.6 1943.77,1048.37 1946.64,1016.7 \n",
       "  1949.5,1019.28 1952.36,1028.75 1955.22,1036.05 1958.09,1041.72 1960.95,1046.14 1963.81,1049.62 1966.67,1052.38 1969.54,1054.59 1972.4,1056.38 1975.26,1057.84 \n",
       "  1978.12,1059.05 1980.99,1060.07 1983.85,1060.94 1986.71,1061.7 1989.58,1062.36 1992.44,1062.94 1995.3,1063.46 1998.16,1063.92 2001.03,1064.34 2003.89,1064.72 \n",
       "  2006.75,1065.07 2009.61,1065.4 2012.48,1065.69 2015.34,1040.16 2018.2,1031.07 2021.06,1038.64 2023.93,1034.55 2026.79,1010.14 2029.65,1015.53 2032.51,1025.26 \n",
       "  2035.38,1033.55 2038.24,1039.95 2041.1,1044.92 2043.97,1048.82 2046.83,1051.89 2049.69,1054.33 2052.55,1056.29 2055.42,1057.88 2058.28,1059.19 2061.14,1060.27 \n",
       "  2064,1060.75 2066.87,1054.02 2069.73,1056.36 2072.59,1058.22 2075.45,1058.42 2078.32,1041.44 2081.18,984.154 2084.04,990.839 2086.9,996.515 2089.77,993.231 \n",
       "  2092.63,1008.24 2095.49,1009.12 2098.35,1020.37 2101.22,1029.06 2104.08,1035.81 2106.94,1041.1 2109.81,1045.28 2112.67,1048.6 2115.53,1051.28 2118.39,1053.45 \n",
       "  2121.26,1051.94 2124.12,1054.11 2126.98,1055.89 2129.84,1052.62 2132.71,1054.84 2135.57,1056.63 2138.43,1057.3 2141.29,1058.68 2144.16,1050.67 2147.02,1053.55 \n",
       "  2149.88,1055.83 2152.74,1057.66 2155.61,1051.1 2158.47,1054 2161.33,1056.3 2164.2,1058.13 2167.06,1059.6 2169.92,1060.79 2172.78,1061.77 2175.65,1062.59 \n",
       "  2178.51,1063.28 2181.37,1063.86 2184.23,1064.37 2187.1,1064.81 2189.96,1065.21 2192.82,1065.55 2195.68,1065.87 2198.55,1066.15 2201.41,1066.41 2204.27,1066.62 \n",
       "  2207.13,1066.83 2210,1067.05 2212.86,1065.52 2215.72,1066.05 2218.58,1066.48 2221.45,1066.85 2224.31,1067.15 2227.17,1067.41 2230.04,1067.64 2232.9,1067.84 \n",
       "  2235.76,1068.01 2238.62,1068.17 2241.49,1068.31 2244.35,1068.44 2247.21,1068.55 2250.07,1068.66 2252.94,1068.76 2255.8,1068.85 2258.66,1068.94 2261.52,1069 \n",
       "  2264.39,1069.07 2267.25,1069.14 2270.11,1069.21 2272.97,1069.28 2275.84,1068.76 2278.7,1068.72 2281.56,1068.91 2284.43,1069.06 2287.29,1065.34 \n",
       "  \"/>\n",
       "<polyline clip-path=\"url(#clip302)\" style=\"stroke:#e26f46; stroke-linecap:butt; stroke-linejoin:round; stroke-width:4; stroke-opacity:1; fill:none\" points=\"\n",
       "  203.301,1066.5 206.164,1066.58 209.026,1066.09 211.889,1066.07 214.752,1066.13 217.614,1065.65 220.477,1064.59 223.339,1045.61 226.202,1058.5 229.065,1063.74 \n",
       "  231.927,1064.78 234.79,1065.45 237.652,1065.82 240.515,1065.82 243.378,1065.82 246.24,1065.83 249.103,1065.7 251.966,1065.82 254.828,1065.66 257.691,1066.33 \n",
       "  260.553,1066.65 263.416,1066.82 266.279,1067 269.141,1067.06 272.004,1067.26 274.867,1067.28 277.729,1067.29 280.592,1067.43 283.454,1067.48 286.317,1067.51 \n",
       "  289.18,1066.81 292.042,1066.52 294.905,1067.08 297.767,1066.9 300.63,1065.46 303.493,1066.33 306.355,1059.8 309.218,1063.62 312.081,1065.64 314.943,1066.16 \n",
       "  317.806,1066.29 320.668,1066.64 323.531,1066.61 326.394,1066.31 329.256,1065.85 332.119,1066.3 334.982,1061.29 337.844,1063.93 340.707,1065.55 343.569,1058.94 \n",
       "  346.432,1016.3 349.295,1045.53 352.157,1054.35 355.02,1059.4 357.882,1061.79 360.745,1063.26 363.608,1063.29 366.47,1060.95 369.333,1063.89 372.196,1064.59 \n",
       "  375.058,1064.25 377.921,1058.83 380.783,1052.92 383.646,998.273 386.509,1001.8 389.371,1025.83 392.234,1040.9 395.097,1016.73 397.959,1031.5 400.822,1038.55 \n",
       "  403.684,1046.74 406.547,1052.07 409.41,1055.24 412.272,1058.75 415.135,1060.56 417.997,1060.85 420.86,1062.22 423.723,1062.99 426.585,1063.45 429.448,1062.63 \n",
       "  432.311,1063.74 435.173,1063.82 438.036,1064.2 440.898,1064.11 443.761,1061.22 446.624,1060.4 449.486,1061.54 452.349,1062.98 455.212,1063.11 458.074,1063.44 \n",
       "  460.937,1063.78 463.799,1063.12 466.662,1063.36 469.525,1064.22 472.387,1064.56 475.25,1064.5 478.112,1064.53 480.975,1064.32 483.838,1063 486.7,1021.76 \n",
       "  489.563,1007.51 492.426,1023.3 495.288,1036.82 498.151,1044.47 501.013,1048.1 503.876,1054.14 506.739,1058.33 509.601,1060.28 512.464,1061.41 515.327,1061.77 \n",
       "  518.189,1061.86 521.052,1062.78 523.914,1063.31 526.777,1062.09 529.64,1059.17 532.502,1061.24 535.365,1059.84 538.227,1056.67 541.09,1042.66 543.953,1035.31 \n",
       "  546.815,1030.95 549.678,1003.41 552.541,983.219 555.403,988.992 558.266,1008.39 561.128,1011.36 563.991,1008.69 566.854,1004.58 569.716,1009.07 572.579,1017.82 \n",
       "  575.442,1028.79 578.304,1037.43 581.167,1043.61 584.029,1047.53 586.892,1050.48 589.755,1055.46 592.617,1057.78 595.48,1058.81 598.342,1060.34 601.205,1060.59 \n",
       "  604.068,1060.03 606.93,1060.44 609.793,1061.83 612.656,1061 615.518,1062.72 618.381,1063.9 621.243,1055.49 624.106,1050.96 626.969,1058.72 629.831,1030.87 \n",
       "  632.694,977.401 635.557,1002.14 638.419,1022.4 641.282,1033.42 644.144,1042.94 647.007,1043.99 649.87,1052.3 652.732,1051.87 655.595,1052.98 658.457,1047.56 \n",
       "  661.32,1053.57 664.183,1057.55 667.045,1059.85 669.908,1060.58 672.771,1060.59 675.633,1060.59 678.496,1061.49 681.358,1061.83 684.221,1061.83 687.084,1061.83 \n",
       "  689.946,1061.98 692.809,1059.11 695.672,1022.86 698.534,926.537 701.397,929.004 704.259,965.538 707.122,942.232 709.985,932.63 712.847,935.607 715.71,881.744 \n",
       "  718.572,823.316 721.435,902.261 724.298,961.925 727.16,917.356 730.023,998.514 732.886,1014.94 735.748,1025.04 738.611,1031.66 741.473,1023.7 744.336,1014.11 \n",
       "  747.199,1021.72 750.061,1015.83 752.924,996.858 755.787,843.409 758.649,825.396 761.512,875.924 764.374,865.965 767.237,778.622 770.1,842.637 772.962,928.502 \n",
       "  775.825,972.865 778.687,993.345 781.55,1003.79 784.413,917.533 787.275,827.024 790.138,875.841 793.001,897.501 795.863,907.291 798.726,895.165 801.588,805.624 \n",
       "  804.451,630.001 807.314,721.548 810.176,874.705 813.039,939.631 815.902,972.449 818.764,991.11 821.627,1003.41 824.489,1012.57 827.352,1016.57 830.215,1027.53 \n",
       "  833.077,1031.06 835.94,1035.21 838.802,1038.96 841.665,1041.39 844.528,1042.5 847.39,1041.16 850.253,1040.05 853.116,1045.36 855.978,1047.03 858.841,1046.48 \n",
       "  861.703,952.027 864.566,882.825 867.429,815.366 870.291,875.565 873.154,924.916 876.017,963.975 878.879,987.378 881.742,1003.61 884.604,1015.85 887.467,1024.43 \n",
       "  890.33,1030.23 893.192,1034.76 896.055,1038.12 898.917,1041.55 901.78,1044.5 904.643,1046.48 907.505,1047.94 910.368,1049.29 913.231,1051.84 916.093,1053.5 \n",
       "  918.956,1055.14 921.818,1055.24 924.681,1055.92 927.544,1057.07 930.406,1057.13 933.269,1057.15 936.132,1058.31 938.994,1059.15 941.857,1055.76 944.719,1057.2 \n",
       "  947.582,1058.92 950.445,1058.01 953.307,1057.42 956.17,1060.71 959.032,1061.75 961.895,1061.83 964.758,1061.88 967.62,1062.29 970.483,1062.27 973.346,1059.97 \n",
       "  976.208,1059.9 979.071,1057.01 981.933,1058.96 984.796,1060.8 987.659,1061.02 990.521,1061.9 993.384,1060.69 996.247,1032.23 999.109,1037.74 1001.97,1037.99 \n",
       "  1004.83,1041.25 1007.7,1044.69 1010.56,1048.38 1013.42,1051.62 1016.28,1053.85 1019.15,1056.2 1022.01,1055.28 1024.87,1049.85 1027.74,1058.03 1030.6,1059.73 \n",
       "  1033.46,1057.87 1036.32,1058.12 1039.19,1060.72 1042.05,1061.69 1044.91,1061.83 1047.77,1061.92 1050.64,1062.93 1053.5,1062.52 1056.36,1063.7 1059.22,1063.49 \n",
       "  1062.09,1063.94 1064.95,1064.24 1067.81,1064.59 1070.67,1064.88 1073.54,1065.27 1076.4,1065.27 1079.26,1065.39 1082.13,1065.31 1084.99,1063.37 1087.85,1064.3 \n",
       "  1090.71,1062.56 1093.58,1064.48 1096.44,1065.27 1099.3,1065.09 1102.16,1064.35 1105.03,1064.36 1107.89,1065.08 1110.75,1065.31 1113.61,1065.03 1116.48,1065.45 \n",
       "  1119.34,1065.82 1122.2,1066.01 1125.06,1066.27 1127.93,1066.32 1130.79,1066.34 1133.65,1066.45 1136.51,1066.69 1139.38,1066.76 1142.24,1067.03 1145.1,1067.17 \n",
       "  1147.97,1067.27 1150.83,1067.26 1153.69,1067.3 1156.55,1067.23 1159.42,1067.18 1162.28,1066.78 1165.14,1064.26 1168,1063.54 1170.87,1066.18 1173.73,1066.32 \n",
       "  1176.59,1066.12 1179.45,1066.66 1182.32,1066.97 1185.18,1058.44 1188.04,1063.71 1190.9,1066.13 1193.77,1063.62 1196.63,1046.3 1199.49,1063.68 1202.36,1064.99 \n",
       "  1205.22,1065.6 1208.08,1065.74 1210.94,1066.3 1213.81,1066.39 1216.67,1066.64 1219.53,1066.73 1222.39,1066.9 1225.26,1067.01 1228.12,1067.04 1230.98,1067.09 \n",
       "  1233.84,1067.11 1236.71,1067.51 1239.57,1067.67 1242.43,1067.68 1245.29,1066.93 1248.16,1067.1 1251.02,1067.43 1253.88,1064.71 1256.74,1066.13 1259.61,1066.74 \n",
       "  1262.47,1066.99 1265.33,1066.65 1268.2,1066.45 1271.06,1066.69 1273.92,1066.75 1276.78,1067.07 1279.65,1067.3 1282.51,1067.52 1285.37,1067.6 1288.23,1067.79 \n",
       "  1291.1,1067.86 1293.96,1067.96 1296.82,1067.99 1299.68,1068.01 1302.55,1066.28 1305.41,1066.76 1308.27,1066.88 1311.13,1067.33 1314,1061.66 1316.86,1065.86 \n",
       "  1319.72,1066.53 1322.59,1055.54 1325.45,1059.62 1328.31,1062.9 1331.17,1065.52 1334.04,1066.13 1336.9,1066.51 1339.76,1066.84 1342.62,1067.13 1345.49,1066.5 \n",
       "  1348.35,1066.44 1351.21,1066.93 1354.07,1067.19 1356.94,1067.3 1359.8,1066.47 1362.66,1066.81 1365.52,1064.21 1368.39,1066.83 1371.25,1067.27 1374.11,1067.53 \n",
       "  1376.97,1067.57 1379.84,1067.7 1382.7,1067.76 1385.56,1067.82 1388.43,1067.86 1391.29,1067.93 1394.15,1067.9 1397.01,1067.62 1399.88,1066.6 1402.74,1067.68 \n",
       "  1405.6,1067.81 1408.46,1066.88 1411.33,1066.69 1414.19,1067.38 1417.05,1067.57 1419.91,1067.73 1422.78,1067.8 1425.64,1067.8 1428.5,1067.77 1431.36,1067.78 \n",
       "  1434.23,1067.87 1437.09,1066.75 1439.95,1067.18 1442.82,1067.51 1445.68,1067.69 1448.54,1067.77 1451.4,1067.83 1454.27,1067.78 1457.13,1067.56 1459.99,1067.72 \n",
       "  1462.85,1067.71 1465.72,1066.5 1468.58,1059.34 1471.44,1064.67 1474.3,1065.75 1477.17,1066.58 1480.03,1066.34 1482.89,1064.86 1485.75,1032.85 1488.62,1038.1 \n",
       "  1491.48,1018.99 1494.34,937.131 1497.2,944.783 1500.07,977.646 1502.93,1012.42 1505.79,1034.17 1508.66,1045.35 1511.52,1052.94 1514.38,1019.2 1517.24,889.977 \n",
       "  1520.11,896.925 1522.97,975.116 1525.83,1012.21 1528.69,1013.6 1531.56,1020.32 1534.42,946.956 1537.28,949.179 1540.14,791.2 1543.01,846.436 1545.87,945.466 \n",
       "  1548.73,978.848 1551.59,989.742 1554.46,993.792 1557.32,973.422 1560.18,976.759 1563.05,994.399 1565.91,1012.75 1568.77,1022.72 1571.63,1027.72 1574.5,1037.33 \n",
       "  1577.36,1039.29 1580.22,1033 1583.08,1030.09 1585.95,1028.43 1588.81,1028.03 1591.67,1031.21 1594.53,1037.22 1597.4,1040.5 1600.26,1028.1 1603.12,1034.22 \n",
       "  1605.98,1037.54 1608.85,1036.9 1611.71,1039.86 1614.57,1042.21 1617.43,1045.54 1620.3,1049.06 1623.16,1051.95 1626.02,1054.62 1628.89,1056.48 1631.75,1057.02 \n",
       "  1634.61,1056.94 1637.47,1055.58 1640.34,1045.41 1643.2,1051.22 1646.06,1054.21 1648.92,1055.24 1651.79,1054.85 1654.65,1049.29 1657.51,1009.77 1660.37,952.536 \n",
       "  1663.24,966.002 1666.1,990.415 1668.96,970.389 1671.82,919.849 1674.69,934.981 1677.55,951.731 1680.41,878.298 1683.28,843.476 1686.14,865.425 1689,268.808 \n",
       "  1691.86,111.205 1694.73,680.625 1697.59,863.146 1700.45,932.695 1703.31,969.635 1706.18,993.19 1709.04,1008.57 1711.9,1020.99 1714.76,1028.87 1717.63,1035.41 \n",
       "  1720.49,1038.62 1723.35,1037.24 1726.21,1036.05 1729.08,1034.09 1731.94,1036.11 1734.8,1036.51 1737.66,1035.5 1740.53,1024.51 1743.39,1005.28 1746.25,986.799 \n",
       "  1749.12,963.922 1751.98,964.464 1754.84,981.193 1757.7,993.551 1760.57,1001 1763.43,1008.74 1766.29,985.215 1769.15,976.012 1772.02,989.98 1774.88,1003.22 \n",
       "  1777.74,1006.23 1780.6,966.03 1783.47,957.964 1786.33,969.869 1789.19,987.957 1792.05,1001.99 1794.92,1010.12 1797.78,1011.45 1800.64,1016.79 1803.51,1021.3 \n",
       "  1806.37,1024.18 1809.23,1029.78 1812.09,1033.21 1814.96,1037.27 1817.82,1041.18 1820.68,1044.83 1823.54,1046.81 1826.41,1047.8 1829.27,1048.37 1832.13,1050.58 \n",
       "  1834.99,1051.92 1837.86,1053.05 1840.72,1054.7 1843.58,1054.85 1846.44,1054.64 1849.31,1054.33 1852.17,1054.47 1855.03,1051.7 1857.89,1020.68 1860.76,1016.51 \n",
       "  1863.62,1018.74 1866.48,1022.27 1869.35,1002.86 1872.21,1002.07 1875.07,1001.31 1877.93,1010.3 1880.8,1020.37 1883.66,1027.45 1886.52,1032.41 1889.38,1039.43 \n",
       "  1892.25,1044.06 1895.11,1046.96 1897.97,1049.5 1900.83,1051.13 1903.7,1051.66 1906.56,1053.25 1909.42,1054.62 1912.28,1055.3 1915.15,1056.86 1918.01,1057.66 \n",
       "  1920.87,1058.85 1923.74,1058.94 1926.6,1058.48 1929.46,1057.91 1932.32,1059.51 1935.19,1060.18 1938.05,1059.34 1940.91,1058.98 1943.77,1061.54 1946.64,1057.23 \n",
       "  1949.5,1057.92 1952.36,1060.7 1955.22,1061.81 1958.09,1062.6 1960.95,1062.88 1963.81,1062.89 1966.67,1062.82 1969.54,1062.88 1972.4,1062.77 1975.26,1062.97 \n",
       "  1978.12,1063.72 1980.99,1063.76 1983.85,1064.05 1986.71,1064.37 1989.58,1064.59 1992.44,1064.57 1995.3,1064.59 1998.16,1064.53 2001.03,1064.55 2003.89,1063.88 \n",
       "  2006.75,1064.56 2009.61,1064.71 2012.48,1064.93 2015.34,1061.75 2018.2,1061.5 2021.06,1063.61 2023.93,1063.46 2026.79,1060.76 2029.65,1057.27 2032.51,1061.88 \n",
       "  2035.38,1062.78 2038.24,1063.79 2041.1,1063.82 2043.97,1063.82 2046.83,1063.85 2049.69,1064.35 2052.55,1064.45 2055.42,1064.39 2058.28,1064.59 2061.14,1064.61 \n",
       "  2064,1064.38 2066.87,1064.44 2069.73,1064.57 2072.59,1064.75 2075.45,1064.92 2078.32,1062.69 2081.18,1028.21 2084.04,1030.53 2086.9,1045.41 2089.77,1044.57 \n",
       "  2092.63,1049.05 2095.49,1052.72 2098.35,1049.4 2101.22,1055.92 2104.08,1058.68 2106.94,1060.15 2109.81,1060.9 2112.67,1059.63 2115.53,1062.04 2118.39,1062.94 \n",
       "  2121.26,1063.41 2124.12,1062.49 2126.98,1063.52 2129.84,1063.74 2132.71,1063.28 2135.57,1064.66 2138.43,1065.13 2141.29,1064.86 2144.16,1061.09 2147.02,1054.7 \n",
       "  2149.88,1063.83 2152.74,1064.73 2155.61,1061.62 2158.47,1062.22 2161.33,1064.5 2164.2,1064.58 2167.06,1065.22 2169.92,1065.34 2172.78,1065.75 2175.65,1066.12 \n",
       "  2178.51,1066.32 2181.37,1066.43 2184.23,1066.72 2187.1,1066.94 2189.96,1067.05 2192.82,1067.05 2195.68,1067.03 2198.55,1067.14 2201.41,1067.15 2204.27,1066.6 \n",
       "  2207.13,1066.56 2210,1066.72 2212.86,1066.32 2215.72,1065.09 2218.58,1066.5 2221.45,1066.9 2224.31,1067.28 2227.17,1067.46 2230.04,1067.65 2232.9,1067.8 \n",
       "  2235.76,1067.8 2238.62,1068 2241.49,1068.07 2244.35,1068.24 2247.21,1068.23 2250.07,1068.21 2252.94,1067.89 2255.8,1068.25 2258.66,1068.39 2261.52,1068.17 \n",
       "  2264.39,1057.94 2267.25,1067.11 2270.11,1067.68 2272.97,1067.88 2275.84,1067.77 2278.7,1066.61 2281.56,1067.54 2284.43,1067.77 2287.29,1066.7 2290.15,1060.91 \n",
       "  \n",
       "  \"/>\n",
       "<path clip-path=\"url(#clip300)\" d=\"\n",
       "M1299.56 271.841 L2279.02 271.841 L2279.02 116.321 L1299.56 116.321  Z\n",
       "  \" fill=\"#ffffff\" fill-rule=\"evenodd\" fill-opacity=\"1\"/>\n",
       "<polyline clip-path=\"url(#clip300)\" style=\"stroke:#000000; stroke-linecap:butt; stroke-linejoin:round; stroke-width:4; stroke-opacity:1; fill:none\" points=\"\n",
       "  1299.56,271.841 2279.02,271.841 2279.02,116.321 1299.56,116.321 1299.56,271.841 \n",
       "  \"/>\n",
       "<polyline clip-path=\"url(#clip300)\" style=\"stroke:#009af9; stroke-linecap:butt; stroke-linejoin:round; stroke-width:4; stroke-opacity:1; fill:none\" points=\"\n",
       "  1324.14,168.161 1471.61,168.161 \n",
       "  \"/>\n",
       "<path clip-path=\"url(#clip300)\" d=\"M1496.19 149.422 L1506 149.422 L1506 152.732 L1500.45 152.732 L1500.45 188.38 L1506 188.38 L1506 191.691 L1496.19 191.691 L1496.19 149.422 Z\" fill=\"#000000\" fill-rule=\"evenodd\" fill-opacity=\"1\" /><path clip-path=\"url(#clip300)\" d=\"M1519.1 150.881 L1519.1 163.728 L1515.17 163.728 L1515.17 150.881 L1519.1 150.881 M1527.85 150.881 L1527.85 163.728 L1523.92 163.728 L1523.92 150.881 L1527.85 150.881 Z\" fill=\"#000000\" fill-rule=\"evenodd\" fill-opacity=\"1\" /><path clip-path=\"url(#clip300)\" d=\"M1537.07 150.881 L1544.03 150.881 L1552.85 174.399 L1561.72 150.881 L1568.69 150.881 L1568.69 185.441 L1564.13 185.441 L1564.13 155.094 L1555.21 178.797 L1550.52 178.797 L1541.6 155.094 L1541.6 185.441 L1537.07 185.441 L1537.07 150.881 Z\" fill=\"#000000\" fill-rule=\"evenodd\" fill-opacity=\"1\" /><path clip-path=\"url(#clip300)\" d=\"M1587.83 162.501 Q1584.4 162.501 1582.41 165.186 Q1580.42 167.848 1580.42 172.501 Q1580.42 177.154 1582.39 179.839 Q1584.38 182.501 1587.83 182.501 Q1591.23 182.501 1593.22 179.816 Q1595.21 177.131 1595.21 172.501 Q1595.21 167.894 1593.22 165.209 Q1591.23 162.501 1587.83 162.501 M1587.83 158.89 Q1593.39 158.89 1596.56 162.501 Q1599.73 166.112 1599.73 172.501 Q1599.73 178.867 1596.56 182.501 Q1593.39 186.112 1587.83 186.112 Q1582.25 186.112 1579.08 182.501 Q1575.93 178.867 1575.93 172.501 Q1575.93 166.112 1579.08 162.501 Q1582.25 158.89 1587.83 158.89 Z\" fill=\"#000000\" fill-rule=\"evenodd\" fill-opacity=\"1\" /><path clip-path=\"url(#clip300)\" d=\"M1623.85 163.45 L1623.85 149.422 L1628.11 149.422 L1628.11 185.441 L1623.85 185.441 L1623.85 181.552 Q1622.51 183.867 1620.45 185.001 Q1618.41 186.112 1615.54 186.112 Q1610.84 186.112 1607.88 182.362 Q1604.94 178.612 1604.94 172.501 Q1604.94 166.39 1607.88 162.64 Q1610.84 158.89 1615.54 158.89 Q1618.41 158.89 1620.45 160.024 Q1622.51 161.135 1623.85 163.45 M1609.33 172.501 Q1609.33 177.2 1611.26 179.885 Q1613.2 182.547 1616.58 182.547 Q1619.96 182.547 1621.9 179.885 Q1623.85 177.2 1623.85 172.501 Q1623.85 167.802 1621.9 165.14 Q1619.96 162.455 1616.58 162.455 Q1613.2 162.455 1611.26 165.14 Q1609.33 167.802 1609.33 172.501 Z\" fill=\"#000000\" fill-rule=\"evenodd\" fill-opacity=\"1\" /><path clip-path=\"url(#clip300)\" d=\"M1659.06 171.413 L1659.06 173.496 L1639.47 173.496 Q1639.75 177.894 1642.11 180.209 Q1644.5 182.501 1648.73 182.501 Q1651.19 182.501 1653.48 181.899 Q1655.79 181.297 1658.06 180.093 L1658.06 184.121 Q1655.77 185.093 1653.36 185.603 Q1650.95 186.112 1648.48 186.112 Q1642.27 186.112 1638.64 182.501 Q1635.03 178.89 1635.03 172.732 Q1635.03 166.367 1638.45 162.64 Q1641.9 158.89 1647.74 158.89 Q1652.97 158.89 1656 162.269 Q1659.06 165.626 1659.06 171.413 M1654.8 170.163 Q1654.75 166.668 1652.83 164.584 Q1650.93 162.501 1647.78 162.501 Q1644.22 162.501 1642.07 164.515 Q1639.94 166.529 1639.61 170.186 L1654.8 170.163 Z\" fill=\"#000000\" fill-rule=\"evenodd\" fill-opacity=\"1\" /><path clip-path=\"url(#clip300)\" d=\"M1666.05 149.422 L1670.31 149.422 L1670.31 185.441 L1666.05 185.441 L1666.05 149.422 Z\" fill=\"#000000\" fill-rule=\"evenodd\" fill-opacity=\"1\" /><path clip-path=\"url(#clip300)\" d=\"M1691.81 159.515 L1696.07 159.515 L1701.39 179.746 L1706.7 159.515 L1711.72 159.515 L1717.04 179.746 L1722.34 159.515 L1726.6 159.515 L1719.82 185.441 L1714.8 185.441 L1709.22 164.191 L1703.62 185.441 L1698.59 185.441 L1691.81 159.515 Z\" fill=\"#000000\" fill-rule=\"evenodd\" fill-opacity=\"1\" /><path clip-path=\"url(#clip300)\" d=\"M1733.06 159.515 L1737.32 159.515 L1737.32 185.441 L1733.06 185.441 L1733.06 159.515 M1733.06 149.422 L1737.32 149.422 L1737.32 154.816 L1733.06 154.816 L1733.06 149.422 Z\" fill=\"#000000\" fill-rule=\"evenodd\" fill-opacity=\"1\" /><path clip-path=\"url(#clip300)\" d=\"M1750.44 152.154 L1750.44 159.515 L1759.22 159.515 L1759.22 162.825 L1750.44 162.825 L1750.44 176.899 Q1750.44 180.07 1751.3 180.973 Q1752.18 181.876 1754.84 181.876 L1759.22 181.876 L1759.22 185.441 L1754.84 185.441 Q1749.91 185.441 1748.04 183.612 Q1746.16 181.76 1746.16 176.899 L1746.16 162.825 L1743.04 162.825 L1743.04 159.515 L1746.16 159.515 L1746.16 152.154 L1750.44 152.154 Z\" fill=\"#000000\" fill-rule=\"evenodd\" fill-opacity=\"1\" /><path clip-path=\"url(#clip300)\" d=\"M1786.37 169.793 L1786.37 185.441 L1782.11 185.441 L1782.11 169.931 Q1782.11 166.251 1780.68 164.422 Q1779.24 162.594 1776.37 162.594 Q1772.92 162.594 1770.93 164.793 Q1768.94 166.992 1768.94 170.788 L1768.94 185.441 L1764.66 185.441 L1764.66 149.422 L1768.94 149.422 L1768.94 163.543 Q1770.47 161.205 1772.53 160.047 Q1774.61 158.89 1777.32 158.89 Q1781.79 158.89 1784.08 161.668 Q1786.37 164.422 1786.37 169.793 Z\" fill=\"#000000\" fill-rule=\"evenodd\" fill-opacity=\"1\" /><path clip-path=\"url(#clip300)\" d=\"M1805.33 150.881 L1834.56 150.881 L1834.56 154.816 L1822.3 154.816 L1822.3 185.441 L1817.6 185.441 L1817.6 154.816 L1805.33 154.816 L1805.33 150.881 Z\" fill=\"#000000\" fill-rule=\"evenodd\" fill-opacity=\"1\" /><path clip-path=\"url(#clip300)\" d=\"M1860.44 169.793 L1860.44 185.441 L1856.19 185.441 L1856.19 169.931 Q1856.19 166.251 1854.75 164.422 Q1853.31 162.594 1850.44 162.594 Q1847 162.594 1845 164.793 Q1843.01 166.992 1843.01 170.788 L1843.01 185.441 L1838.73 185.441 L1838.73 149.422 L1843.01 149.422 L1843.01 163.543 Q1844.54 161.205 1846.6 160.047 Q1848.69 158.89 1851.39 158.89 Q1855.86 158.89 1858.15 161.668 Q1860.44 164.422 1860.44 169.793 Z\" fill=\"#000000\" fill-rule=\"evenodd\" fill-opacity=\"1\" /><path clip-path=\"url(#clip300)\" d=\"M1878.99 162.501 Q1875.56 162.501 1873.57 165.186 Q1871.58 167.848 1871.58 172.501 Q1871.58 177.154 1873.55 179.839 Q1875.54 182.501 1878.99 182.501 Q1882.39 182.501 1884.38 179.816 Q1886.37 177.131 1886.37 172.501 Q1886.37 167.894 1884.38 165.209 Q1882.39 162.501 1878.99 162.501 M1878.99 158.89 Q1884.54 158.89 1887.71 162.501 Q1890.88 166.112 1890.88 172.501 Q1890.88 178.867 1887.71 182.501 Q1884.54 186.112 1878.99 186.112 Q1873.41 186.112 1870.24 182.501 Q1867.09 178.867 1867.09 172.501 Q1867.09 166.112 1870.24 162.501 Q1873.41 158.89 1878.99 158.89 Z\" fill=\"#000000\" fill-rule=\"evenodd\" fill-opacity=\"1\" /><path clip-path=\"url(#clip300)\" d=\"M1912.97 163.496 Q1912.25 163.08 1911.39 162.894 Q1910.56 162.686 1909.54 162.686 Q1905.93 162.686 1903.99 165.047 Q1902.06 167.385 1902.06 171.783 L1902.06 185.441 L1897.78 185.441 L1897.78 159.515 L1902.06 159.515 L1902.06 163.543 Q1903.41 161.182 1905.56 160.047 Q1907.71 158.89 1910.79 158.89 Q1911.23 158.89 1911.76 158.959 Q1912.3 159.006 1912.94 159.121 L1912.97 163.496 Z\" fill=\"#000000\" fill-rule=\"evenodd\" fill-opacity=\"1\" /><path clip-path=\"url(#clip300)\" d=\"M1938.15 169.793 L1938.15 185.441 L1933.89 185.441 L1933.89 169.931 Q1933.89 166.251 1932.46 164.422 Q1931.02 162.594 1928.15 162.594 Q1924.7 162.594 1922.71 164.793 Q1920.72 166.992 1920.72 170.788 L1920.72 185.441 L1916.44 185.441 L1916.44 159.515 L1920.72 159.515 L1920.72 163.543 Q1922.25 161.205 1924.31 160.047 Q1926.39 158.89 1929.1 158.89 Q1933.57 158.89 1935.86 161.668 Q1938.15 164.422 1938.15 169.793 Z\" fill=\"#000000\" fill-rule=\"evenodd\" fill-opacity=\"1\" /><path clip-path=\"url(#clip300)\" d=\"M1944.17 159.515 L1948.43 159.515 L1953.75 179.746 L1959.05 159.515 L1964.08 159.515 L1969.4 179.746 L1974.7 159.515 L1978.96 159.515 L1972.18 185.441 L1967.16 185.441 L1961.58 164.191 L1955.98 185.441 L1950.95 185.441 L1944.17 159.515 Z\" fill=\"#000000\" fill-rule=\"evenodd\" fill-opacity=\"1\" /><path clip-path=\"url(#clip300)\" d=\"M1997.2 172.408 Q1992.04 172.408 1990.05 173.589 Q1988.06 174.769 1988.06 177.617 Q1988.06 179.885 1989.54 181.228 Q1991.05 182.547 1993.61 182.547 Q1997.16 182.547 1999.29 180.047 Q2001.44 177.524 2001.44 173.357 L2001.44 172.408 L1997.2 172.408 M2005.7 170.649 L2005.7 185.441 L2001.44 185.441 L2001.44 181.505 Q1999.98 183.867 1997.8 185.001 Q1995.63 186.112 1992.48 186.112 Q1988.5 186.112 1986.14 183.89 Q1983.8 181.644 1983.8 177.894 Q1983.8 173.519 1986.72 171.297 Q1989.66 169.075 1995.47 169.075 L2001.44 169.075 L2001.44 168.658 Q2001.44 165.719 1999.49 164.121 Q1997.57 162.501 1994.08 162.501 Q1991.86 162.501 1989.75 163.033 Q1987.64 163.566 1985.7 164.631 L1985.7 160.695 Q1988.04 159.793 1990.24 159.353 Q1992.43 158.89 1994.52 158.89 Q2000.14 158.89 2002.92 161.807 Q2005.7 164.723 2005.7 170.649 Z\" fill=\"#000000\" fill-rule=\"evenodd\" fill-opacity=\"1\" /><path clip-path=\"url(#clip300)\" d=\"M2014.47 159.515 L2018.73 159.515 L2018.73 185.441 L2014.47 185.441 L2014.47 159.515 M2014.47 149.422 L2018.73 149.422 L2018.73 154.816 L2014.47 154.816 L2014.47 149.422 Z\" fill=\"#000000\" fill-rule=\"evenodd\" fill-opacity=\"1\" /><path clip-path=\"url(#clip300)\" d=\"M2031.86 152.154 L2031.86 159.515 L2040.63 159.515 L2040.63 162.825 L2031.86 162.825 L2031.86 176.899 Q2031.86 180.07 2032.71 180.973 Q2033.59 181.876 2036.25 181.876 L2040.63 181.876 L2040.63 185.441 L2036.25 185.441 Q2031.32 185.441 2029.45 183.612 Q2027.57 181.76 2027.57 176.899 L2027.57 162.825 L2024.45 162.825 L2024.45 159.515 L2027.57 159.515 L2027.57 152.154 L2031.86 152.154 Z\" fill=\"#000000\" fill-rule=\"evenodd\" fill-opacity=\"1\" /><path clip-path=\"url(#clip300)\" d=\"M2068.41 171.413 L2068.41 173.496 L2048.82 173.496 Q2049.1 177.894 2051.46 180.209 Q2053.85 182.501 2058.08 182.501 Q2060.54 182.501 2062.83 181.899 Q2065.14 181.297 2067.41 180.093 L2067.41 184.121 Q2065.12 185.093 2062.71 185.603 Q2060.3 186.112 2057.83 186.112 Q2051.62 186.112 2047.99 182.501 Q2044.38 178.89 2044.38 172.732 Q2044.38 166.367 2047.8 162.64 Q2051.25 158.89 2057.09 158.89 Q2062.32 158.89 2065.35 162.269 Q2068.41 165.626 2068.41 171.413 M2064.15 170.163 Q2064.1 166.668 2062.18 164.584 Q2060.28 162.501 2057.13 162.501 Q2053.57 162.501 2051.42 164.515 Q2049.29 166.529 2048.96 170.186 L2064.15 170.163 Z\" fill=\"#000000\" fill-rule=\"evenodd\" fill-opacity=\"1\" /><path clip-path=\"url(#clip300)\" d=\"M2090.65 150.881 L2112.5 150.881 L2112.5 154.816 L2095.33 154.816 L2095.33 165.047 L2111.79 165.047 L2111.79 168.982 L2095.33 168.982 L2095.33 181.505 L2112.92 181.505 L2112.92 185.441 L2090.65 185.441 L2090.65 150.881 Z\" fill=\"#000000\" fill-rule=\"evenodd\" fill-opacity=\"1\" /><path clip-path=\"url(#clip300)\" d=\"M2124.54 181.552 L2124.54 195.302 L2120.26 195.302 L2120.26 159.515 L2124.54 159.515 L2124.54 163.45 Q2125.88 161.135 2127.92 160.024 Q2129.98 158.89 2132.83 158.89 Q2137.55 158.89 2140.49 162.64 Q2143.45 166.39 2143.45 172.501 Q2143.45 178.612 2140.49 182.362 Q2137.55 186.112 2132.83 186.112 Q2129.98 186.112 2127.92 185.001 Q2125.88 183.867 2124.54 181.552 M2139.03 172.501 Q2139.03 167.802 2137.09 165.14 Q2135.17 162.455 2131.79 162.455 Q2128.41 162.455 2126.46 165.14 Q2124.54 167.802 2124.54 172.501 Q2124.54 177.2 2126.46 179.885 Q2128.41 182.547 2131.79 182.547 Q2135.17 182.547 2137.09 179.885 Q2139.03 177.2 2139.03 172.501 Z\" fill=\"#000000\" fill-rule=\"evenodd\" fill-opacity=\"1\" /><path clip-path=\"url(#clip300)\" d=\"M2160.56 162.501 Q2157.13 162.501 2155.14 165.186 Q2153.15 167.848 2153.15 172.501 Q2153.15 177.154 2155.12 179.839 Q2157.11 182.501 2160.56 182.501 Q2163.96 182.501 2165.95 179.816 Q2167.94 177.131 2167.94 172.501 Q2167.94 167.894 2165.95 165.209 Q2163.96 162.501 2160.56 162.501 M2160.56 158.89 Q2166.11 158.89 2169.29 162.501 Q2172.46 166.112 2172.46 172.501 Q2172.46 178.867 2169.29 182.501 Q2166.11 186.112 2160.56 186.112 Q2154.98 186.112 2151.81 182.501 Q2148.66 178.867 2148.66 172.501 Q2148.66 166.112 2151.81 162.501 Q2154.98 158.89 2160.56 158.89 Z\" fill=\"#000000\" fill-rule=\"evenodd\" fill-opacity=\"1\" /><path clip-path=\"url(#clip300)\" d=\"M2183.73 152.154 L2183.73 159.515 L2192.5 159.515 L2192.5 162.825 L2183.73 162.825 L2183.73 176.899 Q2183.73 180.07 2184.59 180.973 Q2185.47 181.876 2188.13 181.876 L2192.5 181.876 L2192.5 185.441 L2188.13 185.441 Q2183.2 185.441 2181.32 183.612 Q2179.45 181.76 2179.45 176.899 L2179.45 162.825 L2176.32 162.825 L2176.32 159.515 L2179.45 159.515 L2179.45 152.154 L2183.73 152.154 Z\" fill=\"#000000\" fill-rule=\"evenodd\" fill-opacity=\"1\" /><path clip-path=\"url(#clip300)\" d=\"M2202.13 150.881 L2202.13 163.728 L2198.2 163.728 L2198.2 150.881 L2202.13 150.881 M2210.88 150.881 L2210.88 163.728 L2206.95 163.728 L2206.95 150.881 L2210.88 150.881 Z\" fill=\"#000000\" fill-rule=\"evenodd\" fill-opacity=\"1\" /><path clip-path=\"url(#clip300)\" d=\"M2229.86 149.422 L2229.86 191.691 L2220.05 191.691 L2220.05 188.38 L2225.58 188.38 L2225.58 152.732 L2220.05 152.732 L2220.05 149.422 L2229.86 149.422 Z\" fill=\"#000000\" fill-rule=\"evenodd\" fill-opacity=\"1\" /><polyline clip-path=\"url(#clip300)\" style=\"stroke:#e26f46; stroke-linecap:butt; stroke-linejoin:round; stroke-width:4; stroke-opacity:1; fill:none\" points=\"\n",
       "  1324.14,220.001 1471.61,220.001 \n",
       "  \"/>\n",
       "<path clip-path=\"url(#clip300)\" d=\"M1496.19 201.262 L1506 201.262 L1506 204.572 L1500.45 204.572 L1500.45 240.22 L1506 240.22 L1506 243.531 L1496.19 243.531 L1496.19 201.262 Z\" fill=\"#000000\" fill-rule=\"evenodd\" fill-opacity=\"1\" /><path clip-path=\"url(#clip300)\" d=\"M1519.1 202.721 L1519.1 215.568 L1515.17 215.568 L1515.17 202.721 L1519.1 202.721 M1527.85 202.721 L1527.85 215.568 L1523.92 215.568 L1523.92 202.721 L1527.85 202.721 Z\" fill=\"#000000\" fill-rule=\"evenodd\" fill-opacity=\"1\" /><path clip-path=\"url(#clip300)\" d=\"M1551.09 205.892 Q1546 205.892 1542.99 209.688 Q1540.01 213.484 1540.01 220.035 Q1540.01 226.563 1542.99 230.359 Q1546 234.156 1551.09 234.156 Q1556.19 234.156 1559.15 230.359 Q1562.14 226.563 1562.14 220.035 Q1562.14 213.484 1559.15 209.688 Q1556.19 205.892 1551.09 205.892 M1551.09 202.096 Q1558.36 202.096 1562.71 206.98 Q1567.07 211.841 1567.07 220.035 Q1567.07 228.207 1562.71 233.091 Q1558.36 237.952 1551.09 237.952 Q1543.8 237.952 1539.43 233.091 Q1535.08 228.23 1535.08 220.035 Q1535.08 211.841 1539.43 206.98 Q1543.8 202.096 1551.09 202.096 Z\" fill=\"#000000\" fill-rule=\"evenodd\" fill-opacity=\"1\" /><path clip-path=\"url(#clip300)\" d=\"M1592.81 224.341 Q1592.81 219.642 1590.86 216.98 Q1588.94 214.295 1585.56 214.295 Q1582.18 214.295 1580.24 216.98 Q1578.32 219.642 1578.32 224.341 Q1578.32 229.04 1580.24 231.725 Q1582.18 234.387 1585.56 234.387 Q1588.94 234.387 1590.86 231.725 Q1592.81 229.04 1592.81 224.341 M1578.32 215.29 Q1579.66 212.975 1581.7 211.864 Q1583.76 210.73 1586.6 210.73 Q1591.33 210.73 1594.27 214.48 Q1597.23 218.23 1597.23 224.341 Q1597.23 230.452 1594.27 234.202 Q1591.33 237.952 1586.6 237.952 Q1583.76 237.952 1581.7 236.841 Q1579.66 235.707 1578.32 233.392 L1578.32 237.281 L1574.03 237.281 L1574.03 201.262 L1578.32 201.262 L1578.32 215.29 Z\" fill=\"#000000\" fill-rule=\"evenodd\" fill-opacity=\"1\" /><path clip-path=\"url(#clip300)\" d=\"M1620.82 212.119 L1620.82 216.147 Q1619.01 215.221 1617.07 214.758 Q1615.12 214.295 1613.04 214.295 Q1609.87 214.295 1608.27 215.267 Q1606.7 216.239 1606.7 218.184 Q1606.7 219.665 1607.83 220.521 Q1608.96 221.355 1612.39 222.119 L1613.85 222.443 Q1618.39 223.415 1620.28 225.197 Q1622.2 226.957 1622.2 230.128 Q1622.2 233.739 1619.33 235.845 Q1616.49 237.952 1611.49 237.952 Q1609.4 237.952 1607.14 237.535 Q1604.89 237.142 1602.39 236.332 L1602.39 231.933 Q1604.75 233.16 1607.04 233.785 Q1609.33 234.387 1611.58 234.387 Q1614.59 234.387 1616.21 233.369 Q1617.83 232.327 1617.83 230.452 Q1617.83 228.716 1616.65 227.79 Q1615.49 226.864 1611.53 226.008 L1610.05 225.66 Q1606.09 224.827 1604.33 223.114 Q1602.58 221.378 1602.58 218.369 Q1602.58 214.711 1605.17 212.721 Q1607.76 210.73 1612.53 210.73 Q1614.89 210.73 1616.97 211.077 Q1619.06 211.424 1620.82 212.119 Z\" fill=\"#000000\" fill-rule=\"evenodd\" fill-opacity=\"1\" /><path clip-path=\"url(#clip300)\" d=\"M1651.16 223.253 L1651.16 225.336 L1631.58 225.336 Q1631.86 229.734 1634.22 232.049 Q1636.6 234.341 1640.84 234.341 Q1643.29 234.341 1645.58 233.739 Q1647.9 233.137 1650.17 231.933 L1650.17 235.961 Q1647.88 236.933 1645.47 237.443 Q1643.06 237.952 1640.58 237.952 Q1634.38 237.952 1630.75 234.341 Q1627.14 230.73 1627.14 224.572 Q1627.14 218.207 1630.56 214.48 Q1634.01 210.73 1639.84 210.73 Q1645.08 210.73 1648.11 214.109 Q1651.16 217.466 1651.16 223.253 M1646.9 222.003 Q1646.86 218.508 1644.94 216.424 Q1643.04 214.341 1639.89 214.341 Q1636.33 214.341 1634.17 216.355 Q1632.04 218.369 1631.72 222.026 L1646.9 222.003 Z\" fill=\"#000000\" fill-rule=\"evenodd\" fill-opacity=\"1\" /><path clip-path=\"url(#clip300)\" d=\"M1673.18 215.336 Q1672.46 214.92 1671.6 214.734 Q1670.77 214.526 1669.75 214.526 Q1666.14 214.526 1664.2 216.887 Q1662.27 219.225 1662.27 223.623 L1662.27 237.281 L1657.99 237.281 L1657.99 211.355 L1662.27 211.355 L1662.27 215.383 Q1663.62 213.022 1665.77 211.887 Q1667.92 210.73 1671 210.73 Q1671.44 210.73 1671.97 210.799 Q1672.51 210.846 1673.15 210.961 L1673.18 215.336 Z\" fill=\"#000000\" fill-rule=\"evenodd\" fill-opacity=\"1\" /><path clip-path=\"url(#clip300)\" d=\"M1674.59 211.355 L1679.1 211.355 L1687.2 233.114 L1695.31 211.355 L1699.82 211.355 L1690.1 237.281 L1684.31 237.281 L1674.59 211.355 Z\" fill=\"#000000\" fill-rule=\"evenodd\" fill-opacity=\"1\" /><path clip-path=\"url(#clip300)\" d=\"M1717.48 224.248 Q1712.32 224.248 1710.33 225.429 Q1708.34 226.609 1708.34 229.457 Q1708.34 231.725 1709.82 233.068 Q1711.32 234.387 1713.89 234.387 Q1717.44 234.387 1719.57 231.887 Q1721.72 229.364 1721.72 225.197 L1721.72 224.248 L1717.48 224.248 M1725.98 222.489 L1725.98 237.281 L1721.72 237.281 L1721.72 233.345 Q1720.26 235.707 1718.08 236.841 Q1715.91 237.952 1712.76 237.952 Q1708.78 237.952 1706.42 235.73 Q1704.08 233.484 1704.08 229.734 Q1704.08 225.359 1707 223.137 Q1709.94 220.915 1715.75 220.915 L1721.72 220.915 L1721.72 220.498 Q1721.72 217.559 1719.77 215.961 Q1717.85 214.341 1714.36 214.341 Q1712.13 214.341 1710.03 214.873 Q1707.92 215.406 1705.98 216.471 L1705.98 212.535 Q1708.32 211.633 1710.51 211.193 Q1712.71 210.73 1714.8 210.73 Q1720.42 210.73 1723.2 213.647 Q1725.98 216.563 1725.98 222.489 Z\" fill=\"#000000\" fill-rule=\"evenodd\" fill-opacity=\"1\" /><path clip-path=\"url(#clip300)\" d=\"M1738.96 203.994 L1738.96 211.355 L1747.74 211.355 L1747.74 214.665 L1738.96 214.665 L1738.96 228.739 Q1738.96 231.91 1739.82 232.813 Q1740.7 233.716 1743.36 233.716 L1747.74 233.716 L1747.74 237.281 L1743.36 237.281 Q1738.43 237.281 1736.56 235.452 Q1734.68 233.6 1734.68 228.739 L1734.68 214.665 L1731.56 214.665 L1731.56 211.355 L1734.68 211.355 L1734.68 203.994 L1738.96 203.994 Z\" fill=\"#000000\" fill-rule=\"evenodd\" fill-opacity=\"1\" /><path clip-path=\"url(#clip300)\" d=\"M1753.34 211.355 L1757.6 211.355 L1757.6 237.281 L1753.34 237.281 L1753.34 211.355 M1753.34 201.262 L1757.6 201.262 L1757.6 206.656 L1753.34 206.656 L1753.34 201.262 Z\" fill=\"#000000\" fill-rule=\"evenodd\" fill-opacity=\"1\" /><path clip-path=\"url(#clip300)\" d=\"M1776.56 214.341 Q1773.13 214.341 1771.14 217.026 Q1769.15 219.688 1769.15 224.341 Q1769.15 228.994 1771.12 231.679 Q1773.11 234.341 1776.56 234.341 Q1779.96 234.341 1781.95 231.656 Q1783.94 228.971 1783.94 224.341 Q1783.94 219.734 1781.95 217.049 Q1779.96 214.341 1776.56 214.341 M1776.56 210.73 Q1782.11 210.73 1785.28 214.341 Q1788.45 217.952 1788.45 224.341 Q1788.45 230.707 1785.28 234.341 Q1782.11 237.952 1776.56 237.952 Q1770.98 237.952 1767.81 234.341 Q1764.66 230.707 1764.66 224.341 Q1764.66 217.952 1767.81 214.341 Q1770.98 210.73 1776.56 210.73 Z\" fill=\"#000000\" fill-rule=\"evenodd\" fill-opacity=\"1\" /><path clip-path=\"url(#clip300)\" d=\"M1817.06 221.633 L1817.06 237.281 L1812.81 237.281 L1812.81 221.771 Q1812.81 218.091 1811.37 216.262 Q1809.94 214.434 1807.07 214.434 Q1803.62 214.434 1801.63 216.633 Q1799.63 218.832 1799.63 222.628 L1799.63 237.281 L1795.35 237.281 L1795.35 211.355 L1799.63 211.355 L1799.63 215.383 Q1801.16 213.045 1803.22 211.887 Q1805.31 210.73 1808.01 210.73 Q1812.48 210.73 1814.77 213.508 Q1817.06 216.262 1817.06 221.633 Z\" fill=\"#000000\" fill-rule=\"evenodd\" fill-opacity=\"1\" /><path clip-path=\"url(#clip300)\" d=\"M1829.59 202.721 L1829.59 215.568 L1825.65 215.568 L1825.65 202.721 L1829.59 202.721 M1838.34 202.721 L1838.34 215.568 L1834.4 215.568 L1834.4 202.721 L1838.34 202.721 Z\" fill=\"#000000\" fill-rule=\"evenodd\" fill-opacity=\"1\" /><path clip-path=\"url(#clip300)\" d=\"M1857.32 201.262 L1857.32 243.531 L1847.5 243.531 L1847.5 240.22 L1853.04 240.22 L1853.04 204.572 L1847.5 204.572 L1847.5 201.262 L1857.32 201.262 Z\" fill=\"#000000\" fill-rule=\"evenodd\" fill-opacity=\"1\" /></svg>\n"
      ]
     },
     "execution_count": 37,
     "metadata": {},
     "output_type": "execute_result"
    }
   ],
   "source": [
    "plot(Discharge, label=[\"Model with Thornwaite Epot\"], lw=1.5,\n",
    "    title=\"HBVmountain model of Hanus et al. (2021) applied in Luxembourg catchment (random parameter set, ERA5)\", titlefontsize=6)\n",
    "plot!(forcing.Discharge, label=[\"Observation\"], lw=1)\n",
    "# plot!(Discharge2, label=[\"Model\"], lw=1.5)\n",
    "plot!(size=(600,300))"
   ]
  },
  {
   "cell_type": "code",
   "execution_count": 38,
   "metadata": {},
   "outputs": [
    {
     "data": {
      "image/svg+xml": [
       "<?xml version=\"1.0\" encoding=\"utf-8\"?>\n",
       "<svg xmlns=\"http://www.w3.org/2000/svg\" xmlns:xlink=\"http://www.w3.org/1999/xlink\" width=\"600\" height=\"400\" viewBox=\"0 0 2400 1600\">\n",
       "<defs>\n",
       "  <clipPath id=\"clip340\">\n",
       "    <rect x=\"0\" y=\"0\" width=\"2400\" height=\"1600\"/>\n",
       "  </clipPath>\n",
       "</defs>\n",
       "<path clip-path=\"url(#clip340)\" d=\"\n",
       "M0 1600 L2400 1600 L2400 0 L0 0  Z\n",
       "  \" fill=\"#ffffff\" fill-rule=\"evenodd\" fill-opacity=\"1\"/>\n",
       "<defs>\n",
       "  <clipPath id=\"clip341\">\n",
       "    <rect x=\"480\" y=\"0\" width=\"1681\" height=\"1600\"/>\n",
       "  </clipPath>\n",
       "</defs>\n",
       "<path clip-path=\"url(#clip340)\" d=\"\n",
       "M156.112 1486.45 L2352.76 1486.45 L2352.76 47.2441 L156.112 47.2441  Z\n",
       "  \" fill=\"#ffffff\" fill-rule=\"evenodd\" fill-opacity=\"1\"/>\n",
       "<defs>\n",
       "  <clipPath id=\"clip342\">\n",
       "    <rect x=\"156\" y=\"47\" width=\"2198\" height=\"1440\"/>\n",
       "  </clipPath>\n",
       "</defs>\n",
       "<polyline clip-path=\"url(#clip342)\" style=\"stroke:#000000; stroke-linecap:butt; stroke-linejoin:round; stroke-width:2; stroke-opacity:0.1; fill:none\" points=\"\n",
       "  215.435,1486.45 215.435,47.2441 \n",
       "  \"/>\n",
       "<polyline clip-path=\"url(#clip342)\" style=\"stroke:#000000; stroke-linecap:butt; stroke-linejoin:round; stroke-width:2; stroke-opacity:0.1; fill:none\" points=\"\n",
       "  784.749,1486.45 784.749,47.2441 \n",
       "  \"/>\n",
       "<polyline clip-path=\"url(#clip342)\" style=\"stroke:#000000; stroke-linecap:butt; stroke-linejoin:round; stroke-width:2; stroke-opacity:0.1; fill:none\" points=\"\n",
       "  1354.06,1486.45 1354.06,47.2441 \n",
       "  \"/>\n",
       "<polyline clip-path=\"url(#clip342)\" style=\"stroke:#000000; stroke-linecap:butt; stroke-linejoin:round; stroke-width:2; stroke-opacity:0.1; fill:none\" points=\"\n",
       "  1923.38,1486.45 1923.38,47.2441 \n",
       "  \"/>\n",
       "<polyline clip-path=\"url(#clip340)\" style=\"stroke:#000000; stroke-linecap:butt; stroke-linejoin:round; stroke-width:4; stroke-opacity:1; fill:none\" points=\"\n",
       "  156.112,1486.45 2352.76,1486.45 \n",
       "  \"/>\n",
       "<polyline clip-path=\"url(#clip340)\" style=\"stroke:#000000; stroke-linecap:butt; stroke-linejoin:round; stroke-width:4; stroke-opacity:1; fill:none\" points=\"\n",
       "  215.435,1486.45 215.435,1467.55 \n",
       "  \"/>\n",
       "<polyline clip-path=\"url(#clip340)\" style=\"stroke:#000000; stroke-linecap:butt; stroke-linejoin:round; stroke-width:4; stroke-opacity:1; fill:none\" points=\"\n",
       "  784.749,1486.45 784.749,1467.55 \n",
       "  \"/>\n",
       "<polyline clip-path=\"url(#clip340)\" style=\"stroke:#000000; stroke-linecap:butt; stroke-linejoin:round; stroke-width:4; stroke-opacity:1; fill:none\" points=\"\n",
       "  1354.06,1486.45 1354.06,1467.55 \n",
       "  \"/>\n",
       "<polyline clip-path=\"url(#clip340)\" style=\"stroke:#000000; stroke-linecap:butt; stroke-linejoin:round; stroke-width:4; stroke-opacity:1; fill:none\" points=\"\n",
       "  1923.38,1486.45 1923.38,1467.55 \n",
       "  \"/>\n",
       "<path clip-path=\"url(#clip340)\" d=\"M215.435 1517.37 Q211.824 1517.37 209.995 1520.93 Q208.189 1524.47 208.189 1531.6 Q208.189 1538.71 209.995 1542.27 Q211.824 1545.82 215.435 1545.82 Q219.069 1545.82 220.875 1542.27 Q222.703 1538.71 222.703 1531.6 Q222.703 1524.47 220.875 1520.93 Q219.069 1517.37 215.435 1517.37 M215.435 1513.66 Q221.245 1513.66 224.3 1518.27 Q227.379 1522.85 227.379 1531.6 Q227.379 1540.33 224.3 1544.94 Q221.245 1549.52 215.435 1549.52 Q209.625 1549.52 206.546 1544.94 Q203.49 1540.33 203.49 1531.6 Q203.49 1522.85 206.546 1518.27 Q209.625 1513.66 215.435 1513.66 Z\" fill=\"#000000\" fill-rule=\"evenodd\" fill-opacity=\"1\" /><path clip-path=\"url(#clip340)\" d=\"M748.442 1544.91 L764.761 1544.91 L764.761 1548.85 L742.817 1548.85 L742.817 1544.91 Q745.479 1542.16 750.062 1537.53 Q754.669 1532.88 755.849 1531.53 Q758.094 1529.01 758.974 1527.27 Q759.877 1525.51 759.877 1523.82 Q759.877 1521.07 757.932 1519.33 Q756.011 1517.6 752.909 1517.6 Q750.71 1517.6 748.257 1518.36 Q745.826 1519.13 743.048 1520.68 L743.048 1515.95 Q745.872 1514.82 748.326 1514.24 Q750.78 1513.66 752.817 1513.66 Q758.187 1513.66 761.381 1516.35 Q764.576 1519.03 764.576 1523.52 Q764.576 1525.65 763.766 1527.57 Q762.979 1529.47 760.872 1532.07 Q760.294 1532.74 757.192 1535.95 Q754.09 1539.15 748.442 1544.91 Z\" fill=\"#000000\" fill-rule=\"evenodd\" fill-opacity=\"1\" /><path clip-path=\"url(#clip340)\" d=\"M784.576 1517.37 Q780.965 1517.37 779.136 1520.93 Q777.33 1524.47 777.33 1531.6 Q777.33 1538.71 779.136 1542.27 Q780.965 1545.82 784.576 1545.82 Q788.21 1545.82 790.016 1542.27 Q791.844 1538.71 791.844 1531.6 Q791.844 1524.47 790.016 1520.93 Q788.21 1517.37 784.576 1517.37 M784.576 1513.66 Q790.386 1513.66 793.441 1518.27 Q796.52 1522.85 796.52 1531.6 Q796.52 1540.33 793.441 1544.94 Q790.386 1549.52 784.576 1549.52 Q778.766 1549.52 775.687 1544.94 Q772.631 1540.33 772.631 1531.6 Q772.631 1522.85 775.687 1518.27 Q778.766 1513.66 784.576 1513.66 Z\" fill=\"#000000\" fill-rule=\"evenodd\" fill-opacity=\"1\" /><path clip-path=\"url(#clip340)\" d=\"M814.738 1517.37 Q811.127 1517.37 809.298 1520.93 Q807.492 1524.47 807.492 1531.6 Q807.492 1538.71 809.298 1542.27 Q811.127 1545.82 814.738 1545.82 Q818.372 1545.82 820.177 1542.27 Q822.006 1538.71 822.006 1531.6 Q822.006 1524.47 820.177 1520.93 Q818.372 1517.37 814.738 1517.37 M814.738 1513.66 Q820.548 1513.66 823.603 1518.27 Q826.682 1522.85 826.682 1531.6 Q826.682 1540.33 823.603 1544.94 Q820.548 1549.52 814.738 1549.52 Q808.928 1549.52 805.849 1544.94 Q802.793 1540.33 802.793 1531.6 Q802.793 1522.85 805.849 1518.27 Q808.928 1513.66 814.738 1513.66 Z\" fill=\"#000000\" fill-rule=\"evenodd\" fill-opacity=\"1\" /><path clip-path=\"url(#clip340)\" d=\"M1327.15 1518.36 L1315.35 1536.81 L1327.15 1536.81 L1327.15 1518.36 M1325.93 1514.29 L1331.81 1514.29 L1331.81 1536.81 L1336.74 1536.81 L1336.74 1540.7 L1331.81 1540.7 L1331.81 1548.85 L1327.15 1548.85 L1327.15 1540.7 L1311.55 1540.7 L1311.55 1536.19 L1325.93 1514.29 Z\" fill=\"#000000\" fill-rule=\"evenodd\" fill-opacity=\"1\" /><path clip-path=\"url(#clip340)\" d=\"M1354.47 1517.37 Q1350.86 1517.37 1349.03 1520.93 Q1347.22 1524.47 1347.22 1531.6 Q1347.22 1538.71 1349.03 1542.27 Q1350.86 1545.82 1354.47 1545.82 Q1358.1 1545.82 1359.91 1542.27 Q1361.74 1538.71 1361.74 1531.6 Q1361.74 1524.47 1359.91 1520.93 Q1358.1 1517.37 1354.47 1517.37 M1354.47 1513.66 Q1360.28 1513.66 1363.33 1518.27 Q1366.41 1522.85 1366.41 1531.6 Q1366.41 1540.33 1363.33 1544.94 Q1360.28 1549.52 1354.47 1549.52 Q1348.66 1549.52 1345.58 1544.94 Q1342.52 1540.33 1342.52 1531.6 Q1342.52 1522.85 1345.58 1518.27 Q1348.66 1513.66 1354.47 1513.66 Z\" fill=\"#000000\" fill-rule=\"evenodd\" fill-opacity=\"1\" /><path clip-path=\"url(#clip340)\" d=\"M1384.63 1517.37 Q1381.02 1517.37 1379.19 1520.93 Q1377.39 1524.47 1377.39 1531.6 Q1377.39 1538.71 1379.19 1542.27 Q1381.02 1545.82 1384.63 1545.82 Q1388.27 1545.82 1390.07 1542.27 Q1391.9 1538.71 1391.9 1531.6 Q1391.9 1524.47 1390.07 1520.93 Q1388.27 1517.37 1384.63 1517.37 M1384.63 1513.66 Q1390.44 1513.66 1393.5 1518.27 Q1396.58 1522.85 1396.58 1531.6 Q1396.58 1540.33 1393.5 1544.94 Q1390.44 1549.52 1384.63 1549.52 Q1378.82 1549.52 1375.74 1544.94 Q1372.69 1540.33 1372.69 1531.6 Q1372.69 1522.85 1375.74 1518.27 Q1378.82 1513.66 1384.63 1513.66 Z\" fill=\"#000000\" fill-rule=\"evenodd\" fill-opacity=\"1\" /><path clip-path=\"url(#clip340)\" d=\"M1893.7 1529.7 Q1890.55 1529.7 1888.7 1531.86 Q1886.87 1534.01 1886.87 1537.76 Q1886.87 1541.49 1888.7 1543.66 Q1890.55 1545.82 1893.7 1545.82 Q1896.85 1545.82 1898.68 1543.66 Q1900.53 1541.49 1900.53 1537.76 Q1900.53 1534.01 1898.68 1531.86 Q1896.85 1529.7 1893.7 1529.7 M1902.99 1515.05 L1902.99 1519.31 Q1901.23 1518.48 1899.42 1518.04 Q1897.64 1517.6 1895.88 1517.6 Q1891.25 1517.6 1888.8 1520.72 Q1886.37 1523.85 1886.02 1530.17 Q1887.38 1528.15 1889.44 1527.09 Q1891.5 1526 1893.98 1526 Q1899.19 1526 1902.2 1529.17 Q1905.23 1532.32 1905.23 1537.76 Q1905.23 1543.08 1902.08 1546.3 Q1898.93 1549.52 1893.7 1549.52 Q1887.71 1549.52 1884.54 1544.94 Q1881.37 1540.33 1881.37 1531.6 Q1881.37 1523.41 1885.25 1518.55 Q1889.14 1513.66 1895.69 1513.66 Q1897.45 1513.66 1899.24 1514.01 Q1901.04 1514.36 1902.99 1515.05 Z\" fill=\"#000000\" fill-rule=\"evenodd\" fill-opacity=\"1\" /><path clip-path=\"url(#clip340)\" d=\"M1923.29 1517.37 Q1919.68 1517.37 1917.85 1520.93 Q1916.04 1524.47 1916.04 1531.6 Q1916.04 1538.71 1917.85 1542.27 Q1919.68 1545.82 1923.29 1545.82 Q1926.92 1545.82 1928.73 1542.27 Q1930.55 1538.71 1930.55 1531.6 Q1930.55 1524.47 1928.73 1520.93 Q1926.92 1517.37 1923.29 1517.37 M1923.29 1513.66 Q1929.1 1513.66 1932.15 1518.27 Q1935.23 1522.85 1935.23 1531.6 Q1935.23 1540.33 1932.15 1544.94 Q1929.1 1549.52 1923.29 1549.52 Q1917.48 1549.52 1914.4 1544.94 Q1911.34 1540.33 1911.34 1531.6 Q1911.34 1522.85 1914.4 1518.27 Q1917.48 1513.66 1923.29 1513.66 Z\" fill=\"#000000\" fill-rule=\"evenodd\" fill-opacity=\"1\" /><path clip-path=\"url(#clip340)\" d=\"M1953.45 1517.37 Q1949.84 1517.37 1948.01 1520.93 Q1946.2 1524.47 1946.2 1531.6 Q1946.2 1538.71 1948.01 1542.27 Q1949.84 1545.82 1953.45 1545.82 Q1957.08 1545.82 1958.89 1542.27 Q1960.72 1538.71 1960.72 1531.6 Q1960.72 1524.47 1958.89 1520.93 Q1957.08 1517.37 1953.45 1517.37 M1953.45 1513.66 Q1959.26 1513.66 1962.31 1518.27 Q1965.39 1522.85 1965.39 1531.6 Q1965.39 1540.33 1962.31 1544.94 Q1959.26 1549.52 1953.45 1549.52 Q1947.64 1549.52 1944.56 1544.94 Q1941.5 1540.33 1941.5 1531.6 Q1941.5 1522.85 1944.56 1518.27 Q1947.64 1513.66 1953.45 1513.66 Z\" fill=\"#000000\" fill-rule=\"evenodd\" fill-opacity=\"1\" /><polyline clip-path=\"url(#clip342)\" style=\"stroke:#000000; stroke-linecap:butt; stroke-linejoin:round; stroke-width:2; stroke-opacity:0.1; fill:none\" points=\"\n",
       "  156.112,1445.72 2352.76,1445.72 \n",
       "  \"/>\n",
       "<polyline clip-path=\"url(#clip342)\" style=\"stroke:#000000; stroke-linecap:butt; stroke-linejoin:round; stroke-width:2; stroke-opacity:0.1; fill:none\" points=\"\n",
       "  156.112,1114.56 2352.76,1114.56 \n",
       "  \"/>\n",
       "<polyline clip-path=\"url(#clip342)\" style=\"stroke:#000000; stroke-linecap:butt; stroke-linejoin:round; stroke-width:2; stroke-opacity:0.1; fill:none\" points=\"\n",
       "  156.112,783.404 2352.76,783.404 \n",
       "  \"/>\n",
       "<polyline clip-path=\"url(#clip342)\" style=\"stroke:#000000; stroke-linecap:butt; stroke-linejoin:round; stroke-width:2; stroke-opacity:0.1; fill:none\" points=\"\n",
       "  156.112,452.248 2352.76,452.248 \n",
       "  \"/>\n",
       "<polyline clip-path=\"url(#clip342)\" style=\"stroke:#000000; stroke-linecap:butt; stroke-linejoin:round; stroke-width:2; stroke-opacity:0.1; fill:none\" points=\"\n",
       "  156.112,121.092 2352.76,121.092 \n",
       "  \"/>\n",
       "<polyline clip-path=\"url(#clip340)\" style=\"stroke:#000000; stroke-linecap:butt; stroke-linejoin:round; stroke-width:4; stroke-opacity:1; fill:none\" points=\"\n",
       "  156.112,1486.45 156.112,47.2441 \n",
       "  \"/>\n",
       "<polyline clip-path=\"url(#clip340)\" style=\"stroke:#000000; stroke-linecap:butt; stroke-linejoin:round; stroke-width:4; stroke-opacity:1; fill:none\" points=\"\n",
       "  156.112,1445.72 175.01,1445.72 \n",
       "  \"/>\n",
       "<polyline clip-path=\"url(#clip340)\" style=\"stroke:#000000; stroke-linecap:butt; stroke-linejoin:round; stroke-width:4; stroke-opacity:1; fill:none\" points=\"\n",
       "  156.112,1114.56 175.01,1114.56 \n",
       "  \"/>\n",
       "<polyline clip-path=\"url(#clip340)\" style=\"stroke:#000000; stroke-linecap:butt; stroke-linejoin:round; stroke-width:4; stroke-opacity:1; fill:none\" points=\"\n",
       "  156.112,783.404 175.01,783.404 \n",
       "  \"/>\n",
       "<polyline clip-path=\"url(#clip340)\" style=\"stroke:#000000; stroke-linecap:butt; stroke-linejoin:round; stroke-width:4; stroke-opacity:1; fill:none\" points=\"\n",
       "  156.112,452.248 175.01,452.248 \n",
       "  \"/>\n",
       "<polyline clip-path=\"url(#clip340)\" style=\"stroke:#000000; stroke-linecap:butt; stroke-linejoin:round; stroke-width:4; stroke-opacity:1; fill:none\" points=\"\n",
       "  156.112,121.092 175.01,121.092 \n",
       "  \"/>\n",
       "<path clip-path=\"url(#clip340)\" d=\"M62.9365 1431.51 Q59.3254 1431.51 57.4967 1435.08 Q55.6912 1438.62 55.6912 1445.75 Q55.6912 1452.86 57.4967 1456.42 Q59.3254 1459.96 62.9365 1459.96 Q66.5707 1459.96 68.3763 1456.42 Q70.205 1452.86 70.205 1445.75 Q70.205 1438.62 68.3763 1435.08 Q66.5707 1431.51 62.9365 1431.51 M62.9365 1427.81 Q68.7467 1427.81 71.8022 1432.42 Q74.8809 1437 74.8809 1445.75 Q74.8809 1454.48 71.8022 1459.08 Q68.7467 1463.67 62.9365 1463.67 Q57.1264 1463.67 54.0477 1459.08 Q50.9921 1454.48 50.9921 1445.75 Q50.9921 1437 54.0477 1432.42 Q57.1264 1427.81 62.9365 1427.81 Z\" fill=\"#000000\" fill-rule=\"evenodd\" fill-opacity=\"1\" /><path clip-path=\"url(#clip340)\" d=\"M83.0984 1457.12 L87.9827 1457.12 L87.9827 1463 L83.0984 1463 L83.0984 1457.12 Z\" fill=\"#000000\" fill-rule=\"evenodd\" fill-opacity=\"1\" /><path clip-path=\"url(#clip340)\" d=\"M108.168 1431.51 Q104.557 1431.51 102.728 1435.08 Q100.922 1438.62 100.922 1445.75 Q100.922 1452.86 102.728 1456.42 Q104.557 1459.96 108.168 1459.96 Q111.802 1459.96 113.608 1456.42 Q115.436 1452.86 115.436 1445.75 Q115.436 1438.62 113.608 1435.08 Q111.802 1431.51 108.168 1431.51 M108.168 1427.81 Q113.978 1427.81 117.033 1432.42 Q120.112 1437 120.112 1445.75 Q120.112 1454.48 117.033 1459.08 Q113.978 1463.67 108.168 1463.67 Q102.358 1463.67 99.2789 1459.08 Q96.2234 1454.48 96.2234 1445.75 Q96.2234 1437 99.2789 1432.42 Q102.358 1427.81 108.168 1427.81 Z\" fill=\"#000000\" fill-rule=\"evenodd\" fill-opacity=\"1\" /><path clip-path=\"url(#clip340)\" d=\"M63.9319 1100.36 Q60.3208 1100.36 58.4921 1103.92 Q56.6865 1107.46 56.6865 1114.59 Q56.6865 1121.7 58.4921 1125.27 Q60.3208 1128.81 63.9319 1128.81 Q67.5661 1128.81 69.3717 1125.27 Q71.2004 1121.7 71.2004 1114.59 Q71.2004 1107.46 69.3717 1103.92 Q67.5661 1100.36 63.9319 1100.36 M63.9319 1096.65 Q69.742 1096.65 72.7976 1101.26 Q75.8763 1105.84 75.8763 1114.59 Q75.8763 1123.32 72.7976 1127.93 Q69.742 1132.51 63.9319 1132.51 Q58.1217 1132.51 55.043 1127.93 Q51.9875 1123.32 51.9875 1114.59 Q51.9875 1105.84 55.043 1101.26 Q58.1217 1096.65 63.9319 1096.65 Z\" fill=\"#000000\" fill-rule=\"evenodd\" fill-opacity=\"1\" /><path clip-path=\"url(#clip340)\" d=\"M84.0938 1125.96 L88.978 1125.96 L88.978 1131.84 L84.0938 1131.84 L84.0938 1125.96 Z\" fill=\"#000000\" fill-rule=\"evenodd\" fill-opacity=\"1\" /><path clip-path=\"url(#clip340)\" d=\"M99.2095 1097.28 L117.566 1097.28 L117.566 1101.21 L103.492 1101.21 L103.492 1109.69 Q104.51 1109.34 105.529 1109.18 Q106.547 1108.99 107.566 1108.99 Q113.353 1108.99 116.733 1112.16 Q120.112 1115.34 120.112 1120.75 Q120.112 1126.33 116.64 1129.43 Q113.168 1132.51 106.848 1132.51 Q104.672 1132.51 102.404 1132.14 Q100.159 1131.77 97.7511 1131.03 L97.7511 1126.33 Q99.8345 1127.46 102.057 1128.02 Q104.279 1128.58 106.756 1128.58 Q110.76 1128.58 113.098 1126.47 Q115.436 1124.36 115.436 1120.75 Q115.436 1117.14 113.098 1115.03 Q110.76 1112.93 106.756 1112.93 Q104.881 1112.93 103.006 1113.34 Q101.154 1113.76 99.2095 1114.64 L99.2095 1097.28 Z\" fill=\"#000000\" fill-rule=\"evenodd\" fill-opacity=\"1\" /><path clip-path=\"url(#clip340)\" d=\"M53.7467 796.749 L61.3856 796.749 L61.3856 770.383 L53.0754 772.05 L53.0754 767.79 L61.3393 766.124 L66.0152 766.124 L66.0152 796.749 L73.654 796.749 L73.654 800.684 L53.7467 800.684 L53.7467 796.749 Z\" fill=\"#000000\" fill-rule=\"evenodd\" fill-opacity=\"1\" /><path clip-path=\"url(#clip340)\" d=\"M83.0984 794.804 L87.9827 794.804 L87.9827 800.684 L83.0984 800.684 L83.0984 794.804 Z\" fill=\"#000000\" fill-rule=\"evenodd\" fill-opacity=\"1\" /><path clip-path=\"url(#clip340)\" d=\"M108.168 769.202 Q104.557 769.202 102.728 772.767 Q100.922 776.309 100.922 783.439 Q100.922 790.545 102.728 794.11 Q104.557 797.651 108.168 797.651 Q111.802 797.651 113.608 794.11 Q115.436 790.545 115.436 783.439 Q115.436 776.309 113.608 772.767 Q111.802 769.202 108.168 769.202 M108.168 765.499 Q113.978 765.499 117.033 770.105 Q120.112 774.689 120.112 783.439 Q120.112 792.165 117.033 796.772 Q113.978 801.355 108.168 801.355 Q102.358 801.355 99.2789 796.772 Q96.2234 792.165 96.2234 783.439 Q96.2234 774.689 99.2789 770.105 Q102.358 765.499 108.168 765.499 Z\" fill=\"#000000\" fill-rule=\"evenodd\" fill-opacity=\"1\" /><path clip-path=\"url(#clip340)\" d=\"M54.7421 465.593 L62.381 465.593 L62.381 439.227 L54.0708 440.894 L54.0708 436.634 L62.3347 434.968 L67.0106 434.968 L67.0106 465.593 L74.6494 465.593 L74.6494 469.528 L54.7421 469.528 L54.7421 465.593 Z\" fill=\"#000000\" fill-rule=\"evenodd\" fill-opacity=\"1\" /><path clip-path=\"url(#clip340)\" d=\"M84.0938 463.648 L88.978 463.648 L88.978 469.528 L84.0938 469.528 L84.0938 463.648 Z\" fill=\"#000000\" fill-rule=\"evenodd\" fill-opacity=\"1\" /><path clip-path=\"url(#clip340)\" d=\"M99.2095 434.968 L117.566 434.968 L117.566 438.903 L103.492 438.903 L103.492 447.375 Q104.51 447.028 105.529 446.866 Q106.547 446.681 107.566 446.681 Q113.353 446.681 116.733 449.852 Q120.112 453.023 120.112 458.44 Q120.112 464.019 116.64 467.12 Q113.168 470.199 106.848 470.199 Q104.672 470.199 102.404 469.829 Q100.159 469.458 97.7511 468.718 L97.7511 464.019 Q99.8345 465.153 102.057 465.708 Q104.279 466.264 106.756 466.264 Q110.76 466.264 113.098 464.157 Q115.436 462.051 115.436 458.44 Q115.436 454.829 113.098 452.722 Q110.76 450.616 106.756 450.616 Q104.881 450.616 103.006 451.033 Q101.154 451.449 99.2095 452.329 L99.2095 434.968 Z\" fill=\"#000000\" fill-rule=\"evenodd\" fill-opacity=\"1\" /><path clip-path=\"url(#clip340)\" d=\"M56.9643 134.437 L73.2837 134.437 L73.2837 138.372 L51.3393 138.372 L51.3393 134.437 Q54.0014 131.682 58.5847 127.052 Q63.1911 122.4 64.3717 121.057 Q66.617 118.534 67.4967 116.798 Q68.3994 115.039 68.3994 113.349 Q68.3994 110.594 66.455 108.858 Q64.5337 107.122 61.4319 107.122 Q59.2328 107.122 56.7791 107.886 Q54.3486 108.65 51.5708 110.201 L51.5708 105.479 Q54.3949 104.344 56.8486 103.766 Q59.3023 103.187 61.3393 103.187 Q66.7096 103.187 69.9041 105.872 Q73.0985 108.557 73.0985 113.048 Q73.0985 115.178 72.2883 117.099 Q71.5013 118.997 69.3948 121.59 Q68.8161 122.261 65.7143 125.478 Q62.6124 128.673 56.9643 134.437 Z\" fill=\"#000000\" fill-rule=\"evenodd\" fill-opacity=\"1\" /><path clip-path=\"url(#clip340)\" d=\"M83.0984 132.492 L87.9827 132.492 L87.9827 138.372 L83.0984 138.372 L83.0984 132.492 Z\" fill=\"#000000\" fill-rule=\"evenodd\" fill-opacity=\"1\" /><path clip-path=\"url(#clip340)\" d=\"M108.168 106.891 Q104.557 106.891 102.728 110.455 Q100.922 113.997 100.922 121.127 Q100.922 128.233 102.728 131.798 Q104.557 135.339 108.168 135.339 Q111.802 135.339 113.608 131.798 Q115.436 128.233 115.436 121.127 Q115.436 113.997 113.608 110.455 Q111.802 106.891 108.168 106.891 M108.168 103.187 Q113.978 103.187 117.033 107.793 Q120.112 112.377 120.112 121.127 Q120.112 129.853 117.033 134.46 Q113.978 139.043 108.168 139.043 Q102.358 139.043 99.2789 134.46 Q96.2234 129.853 96.2234 121.127 Q96.2234 112.377 99.2789 107.793 Q102.358 103.187 108.168 103.187 Z\" fill=\"#000000\" fill-rule=\"evenodd\" fill-opacity=\"1\" /><polyline clip-path=\"url(#clip342)\" style=\"stroke:#009af9; stroke-linecap:butt; stroke-linejoin:round; stroke-width:4; stroke-opacity:1; fill:none\" points=\"\n",
       "  218.281,1445.72 221.128,1445.72 223.974,1445.72 226.821,1445.72 229.668,1445.72 232.514,1445.72 235.361,1445.72 238.207,1445.72 241.054,1445.72 243.9,1445.72 \n",
       "  246.747,1445.72 249.594,1445.72 252.44,1445.72 255.287,1445.72 258.133,1445.72 260.98,1445.72 263.826,1445.72 266.673,1445.72 269.52,1445.72 272.366,1445.72 \n",
       "  275.213,1445.72 278.059,1445.72 280.906,1445.72 283.752,1445.72 286.599,1445.72 289.446,1445.72 292.292,1445.72 295.139,1445.72 297.985,1445.72 300.832,1445.72 \n",
       "  303.678,1445.72 306.525,1445.72 309.372,1445.72 312.218,1445.72 315.065,1445.72 317.911,1445.72 320.758,1445.72 323.605,1445.72 326.451,1445.72 329.298,1445.72 \n",
       "  332.144,1445.72 334.991,1445.72 337.837,1445.72 340.684,1445.72 343.531,1445.72 346.377,1445.72 349.224,1445.72 352.07,1445.72 354.917,1445.72 357.763,1445.72 \n",
       "  360.61,1445.72 363.457,1445.72 366.303,1445.72 369.15,1445.72 371.996,1445.72 374.843,1445.72 377.689,1445.72 380.536,1445.72 383.383,1445.72 386.229,1445.72 \n",
       "  389.076,1445.72 391.922,1445.72 394.769,1445.72 397.615,1445.72 400.462,1445.72 403.309,1445.72 406.155,1445.72 409.002,1445.72 411.848,1445.72 414.695,1445.72 \n",
       "  417.541,1445.72 420.388,1445.72 423.235,1445.72 426.081,1445.72 428.928,1445.72 431.774,1445.72 434.621,1445.72 437.467,1445.72 440.314,1445.72 443.161,1445.72 \n",
       "  446.007,1445.72 448.854,1445.72 451.7,1445.72 454.547,1445.72 457.393,1445.72 460.24,1445.72 463.087,1445.72 465.933,1445.72 468.78,1445.72 471.626,1445.72 \n",
       "  474.473,1445.72 477.319,1445.72 480.166,1445.72 483.013,1445.72 485.859,1445.72 488.706,1445.72 491.552,1445.72 494.399,1445.72 497.245,1445.72 500.092,1445.72 \n",
       "  502.939,1445.72 505.785,1445.72 508.632,1445.72 511.478,1445.72 514.325,1445.72 517.171,1445.72 520.018,1445.72 522.865,1445.72 525.711,1445.72 528.558,1445.72 \n",
       "  531.404,1445.72 534.251,1445.72 537.098,1445.72 539.944,1445.72 542.791,1445.72 545.637,1445.72 548.484,1445.72 551.33,1445.72 554.177,1445.72 557.024,1445.72 \n",
       "  559.87,1445.72 562.717,1445.72 565.563,1445.72 568.41,1445.72 571.256,1445.72 574.103,1445.72 576.95,1445.72 579.796,1445.72 582.643,1445.72 585.489,1445.72 \n",
       "  588.336,1445.72 591.182,1445.72 594.029,1445.72 596.876,1445.72 599.722,1445.72 602.569,1445.72 605.415,1445.72 608.262,1445.72 611.108,1445.72 613.955,1445.72 \n",
       "  616.802,1445.72 619.648,1445.72 622.495,87.9763 625.341,87.9763 628.188,87.9763 631.034,87.9763 633.881,87.9763 636.728,87.9763 639.574,87.9763 642.421,1445.72 \n",
       "  645.267,1445.72 648.114,87.9763 650.96,87.9763 653.807,87.9763 656.654,87.9763 659.5,87.9763 662.347,87.9763 665.193,87.9763 668.04,87.9763 670.886,87.9763 \n",
       "  673.733,87.9763 676.58,87.9763 679.426,87.9763 682.273,87.9763 685.119,87.9763 687.966,87.9763 690.812,87.9763 693.659,87.9763 696.506,87.9763 699.352,87.9763 \n",
       "  702.199,87.9763 705.045,87.9763 707.892,1445.72 710.738,1445.72 713.585,1445.72 716.432,1445.72 719.278,1445.72 722.125,1445.72 724.971,1445.72 727.818,1445.72 \n",
       "  730.665,1445.72 733.511,1445.72 736.358,1445.72 739.204,1445.72 742.051,1445.72 744.897,1445.72 747.744,1445.72 750.591,1445.72 753.437,1445.72 756.284,1445.72 \n",
       "  759.13,1445.72 761.977,1445.72 764.823,1445.72 767.67,1445.72 770.517,1445.72 773.363,1445.72 776.21,1445.72 779.056,1445.72 781.903,1445.72 784.749,1445.72 \n",
       "  787.596,1445.72 790.443,1445.72 793.289,1445.72 796.136,1445.72 798.982,1445.72 801.829,1445.72 804.675,1445.72 807.522,1445.72 810.369,1445.72 813.215,1445.72 \n",
       "  816.062,1445.72 818.908,1445.72 821.755,1445.72 824.601,1445.72 827.448,1445.72 830.295,1445.72 833.141,1445.72 835.988,1445.72 838.834,1445.72 841.681,1445.72 \n",
       "  844.527,1445.72 847.374,1445.72 850.221,1445.72 853.067,1445.72 855.914,1445.72 858.76,1445.72 861.607,1445.72 864.453,1445.72 867.3,1445.72 870.147,1445.72 \n",
       "  872.993,1445.72 875.84,1445.72 878.686,1445.72 881.533,1445.72 884.379,1445.72 887.226,1445.72 890.073,1445.72 892.919,1445.72 895.766,1445.72 898.612,1445.72 \n",
       "  901.459,1445.72 904.305,1445.72 907.152,1445.72 909.999,1445.72 912.845,1445.72 915.692,1445.72 918.538,1445.72 921.385,1445.72 924.231,1445.72 927.078,1445.72 \n",
       "  929.925,1445.72 932.771,1445.72 935.618,1445.72 938.464,1445.72 941.311,1445.72 944.158,1445.72 947.004,1445.72 949.851,1445.72 952.697,1445.72 955.544,1445.72 \n",
       "  958.39,1445.72 961.237,1445.72 964.084,1445.72 966.93,1445.72 969.777,1445.72 972.623,1445.72 975.47,1445.72 978.316,1445.72 981.163,1445.72 984.01,1445.72 \n",
       "  986.856,1445.72 989.703,1445.72 992.549,1445.72 995.396,1445.72 998.242,1445.72 1001.09,1445.72 1003.94,1445.72 1006.78,1445.72 1009.63,1445.72 1012.48,1445.72 \n",
       "  1015.32,1445.72 1018.17,1445.72 1021.01,1445.72 1023.86,1445.72 1026.71,1445.72 1029.55,1445.72 1032.4,1445.72 1035.25,1445.72 1038.09,1445.72 1040.94,1445.72 \n",
       "  1043.79,1445.72 1046.63,1445.72 1049.48,1445.72 1052.33,1445.72 1055.17,1445.72 1058.02,1445.72 1060.87,1445.72 1063.71,1445.72 1066.56,1445.72 1069.41,1445.72 \n",
       "  1072.25,1445.72 1075.1,1445.72 1077.95,1445.72 1080.79,1445.72 1083.64,1445.72 1086.49,1445.72 1089.33,1445.72 1092.18,1445.72 1095.03,1445.72 1097.87,1445.72 \n",
       "  1100.72,1445.72 1103.57,1445.72 1106.41,1445.72 1109.26,1445.72 1112.11,1445.72 1114.95,1445.72 1117.8,1445.72 1120.65,1445.72 1123.49,1445.72 1126.34,1445.72 \n",
       "  1129.18,1445.72 1132.03,1445.72 1134.88,1445.72 1137.72,1445.72 1140.57,1445.72 1143.42,1445.72 1146.26,1445.72 1149.11,1445.72 1151.96,1445.72 1154.8,1445.72 \n",
       "  1157.65,1445.72 1160.5,1445.72 1163.34,1445.72 1166.19,1445.72 1169.04,1445.72 1171.88,1445.72 1174.73,1445.72 1177.58,1445.72 1180.42,1445.72 1183.27,1445.72 \n",
       "  1186.12,1445.72 1188.96,1445.72 1191.81,1445.72 1194.66,1445.72 1197.5,1445.72 1200.35,1445.72 1203.2,1445.72 1206.04,1445.72 1208.89,1445.72 1211.74,1445.72 \n",
       "  1214.58,1445.72 1217.43,1445.72 1220.28,1445.72 1223.12,1445.72 1225.97,1445.72 1228.81,1445.72 1231.66,1445.72 1234.51,1445.72 1237.35,1445.72 1240.2,1445.72 \n",
       "  1243.05,1445.72 1245.89,1445.72 1248.74,1445.72 1251.59,1445.72 1254.43,1445.72 1257.28,1445.72 1260.13,1445.72 1262.97,1445.72 1265.82,1445.72 1268.67,1445.72 \n",
       "  1271.51,1445.72 1274.36,1445.72 1277.21,1445.72 1280.05,1445.72 1282.9,1445.72 1285.75,1445.72 1288.59,1445.72 1291.44,1445.72 1294.29,1445.72 1297.13,1445.72 \n",
       "  1299.98,1445.72 1302.83,1445.72 1305.67,1445.72 1308.52,1445.72 1311.37,1445.72 1314.21,1445.72 1317.06,1445.72 1319.91,1445.72 1322.75,1445.72 1325.6,1445.72 \n",
       "  1328.44,1445.72 1331.29,1445.72 1334.14,1445.72 1336.98,1445.72 1339.83,1445.72 1342.68,1445.72 1345.52,1445.72 1348.37,1445.72 1351.22,1445.72 1354.06,1445.72 \n",
       "  1356.91,1445.72 1359.76,1445.72 1362.6,1445.72 1365.45,1445.72 1368.3,1445.72 1371.14,1445.72 1373.99,1445.72 1376.84,1445.72 1379.68,1445.72 1382.53,1445.72 \n",
       "  1385.38,1445.72 1388.22,1445.72 1391.07,1445.72 1393.92,1445.72 1396.76,1445.72 1399.61,1445.72 1402.46,1445.72 1405.3,1445.72 1408.15,1445.72 1411,1445.72 \n",
       "  1413.84,1445.72 1416.69,1445.72 1419.54,1445.72 1422.38,1445.72 1425.23,1445.72 1428.07,1445.72 1430.92,1445.72 1433.77,1445.72 1436.61,1445.72 1439.46,1445.72 \n",
       "  1442.31,1445.72 1445.15,1445.72 1448,1445.72 1450.85,1445.72 1453.69,1445.72 1456.54,1445.72 1459.39,1445.72 1462.23,1445.72 1465.08,1445.72 1467.93,1445.72 \n",
       "  1470.77,1445.72 1473.62,1445.72 1476.47,1445.72 1479.31,1445.72 1482.16,1445.72 1485.01,1445.72 1487.85,1445.72 1490.7,1445.72 1493.55,1445.72 1496.39,1445.72 \n",
       "  1499.24,1445.72 1502.09,1445.72 1504.93,1445.72 1507.78,1445.72 1510.63,1445.72 1513.47,1445.72 1516.32,1445.72 1519.17,1445.72 1522.01,1445.72 1524.86,1445.72 \n",
       "  1527.71,1445.72 1530.55,1445.72 1533.4,1445.72 1536.24,1445.72 1539.09,1445.72 1541.94,1445.72 1544.78,1445.72 1547.63,1445.72 1550.48,1445.72 1553.32,1445.72 \n",
       "  1556.17,1445.72 1559.02,1445.72 1561.86,1445.72 1564.71,1445.72 1567.56,1445.72 1570.4,1445.72 1573.25,1445.72 1576.1,1445.72 1578.94,1445.72 1581.79,1445.72 \n",
       "  1584.64,1445.72 1587.48,1445.72 1590.33,1445.72 1593.18,1445.72 1596.02,1445.72 1598.87,1445.72 1601.72,1445.72 1604.56,1445.72 1607.41,1445.72 1610.26,1445.72 \n",
       "  1613.1,1445.72 1615.95,1445.72 1618.8,1445.72 1621.64,1445.72 1624.49,1445.72 1627.34,1445.72 1630.18,1445.72 1633.03,1445.72 1635.87,1445.72 1638.72,1445.72 \n",
       "  1641.57,1445.72 1644.41,1445.72 1647.26,1445.72 1650.11,1445.72 1652.95,1445.72 1655.8,1445.72 1658.65,1445.72 1661.49,1445.72 1664.34,1445.72 1667.19,1445.72 \n",
       "  1670.03,1445.72 1672.88,1445.72 1675.73,1445.72 1678.57,1445.72 1681.42,1445.72 1684.27,1445.72 1687.11,1445.72 1689.96,1445.72 1692.81,1445.72 1695.65,1445.72 \n",
       "  1698.5,1445.72 1701.35,1445.72 1704.19,87.9763 1707.04,87.9763 1709.89,87.9763 1712.73,87.9763 1715.58,87.9763 1718.43,87.9763 1721.27,87.9763 1724.12,87.9763 \n",
       "  1726.97,87.9763 1729.81,1445.72 1732.66,1445.72 1735.5,1445.72 1738.35,1445.72 1741.2,1445.72 1744.04,1445.72 1746.89,1445.72 1749.74,1445.72 1752.58,1445.72 \n",
       "  1755.43,1445.72 1758.28,1445.72 1761.12,1445.72 1763.97,1445.72 1766.82,1445.72 1769.66,1445.72 1772.51,1445.72 1775.36,87.9763 1778.2,87.9763 1781.05,87.9763 \n",
       "  1783.9,87.9763 1786.74,87.9763 1789.59,87.9763 1792.44,87.9763 1795.28,1445.72 1798.13,87.9763 1800.98,1445.72 1803.82,1445.72 1806.67,1445.72 1809.52,1445.72 \n",
       "  1812.36,1445.72 1815.21,1445.72 1818.06,1445.72 1820.9,1445.72 1823.75,1445.72 1826.6,1445.72 1829.44,1445.72 1832.29,1445.72 1835.13,1445.72 1837.98,1445.72 \n",
       "  1840.83,1445.72 1843.67,1445.72 1846.52,1445.72 1849.37,1445.72 1852.21,1445.72 1855.06,1445.72 1857.91,1445.72 1860.75,1445.72 1863.6,1445.72 1866.45,1445.72 \n",
       "  1869.29,1445.72 1872.14,1445.72 1874.99,1445.72 1877.83,1445.72 1880.68,1445.72 1883.53,1445.72 1886.37,1445.72 1889.22,1445.72 1892.07,1445.72 1894.91,1445.72 \n",
       "  1897.76,1445.72 1900.61,1445.72 1903.45,1445.72 1906.3,1445.72 1909.15,1445.72 1911.99,1445.72 1914.84,1445.72 1917.69,1445.72 1920.53,1445.72 1923.38,1445.72 \n",
       "  1926.23,1445.72 1929.07,1445.72 1931.92,1445.72 1934.77,1445.72 1937.61,1445.72 1940.46,1445.72 1943.3,1445.72 1946.15,1445.72 1949,1445.72 1951.84,1445.72 \n",
       "  1954.69,1445.72 1957.54,1445.72 1960.38,1445.72 1963.23,1445.72 1966.08,1445.72 1968.92,1445.72 1971.77,1445.72 1974.62,1445.72 1977.46,1445.72 1980.31,1445.72 \n",
       "  1983.16,1445.72 1986,1445.72 1988.85,1445.72 1991.7,1445.72 1994.54,1445.72 1997.39,1445.72 2000.24,1445.72 2003.08,1445.72 2005.93,1445.72 2008.78,1445.72 \n",
       "  2011.62,1445.72 2014.47,1445.72 2017.32,1445.72 2020.16,1445.72 2023.01,1445.72 2025.86,1445.72 2028.7,1445.72 2031.55,1445.72 2034.4,1445.72 2037.24,1445.72 \n",
       "  2040.09,1445.72 2042.93,1445.72 2045.78,1445.72 2048.63,1445.72 2051.47,1445.72 2054.32,1445.72 2057.17,1445.72 2060.01,1445.72 2062.86,1445.72 2065.71,1445.72 \n",
       "  2068.55,1445.72 2071.4,1445.72 2074.25,1445.72 2077.09,1445.72 2079.94,1445.72 2082.79,1445.72 2085.63,1445.72 2088.48,1445.72 2091.33,1445.72 2094.17,1445.72 \n",
       "  2097.02,1445.72 2099.87,1445.72 2102.71,1445.72 2105.56,1445.72 2108.41,1445.72 2111.25,1445.72 2114.1,1445.72 2116.95,1445.72 2119.79,1445.72 2122.64,1445.72 \n",
       "  2125.49,1445.72 2128.33,1445.72 2131.18,1445.72 2134.03,1445.72 2136.87,1445.72 2139.72,1445.72 2142.56,1445.72 2145.41,1445.72 2148.26,1445.72 2151.1,1445.72 \n",
       "  2153.95,1445.72 2156.8,1445.72 2159.64,1445.72 2162.49,1445.72 2165.34,1445.72 2168.18,1445.72 2171.03,1445.72 2173.88,1445.72 2176.72,1445.72 2179.57,1445.72 \n",
       "  2182.42,1445.72 2185.26,1445.72 2188.11,1445.72 2190.96,1445.72 2193.8,1445.72 2196.65,1445.72 2199.5,1445.72 2202.34,1445.72 2205.19,1445.72 2208.04,1445.72 \n",
       "  2210.88,1445.72 2213.73,1445.72 2216.58,1445.72 2219.42,1445.72 2222.27,1445.72 2225.12,1445.72 2227.96,1445.72 2230.81,1445.72 2233.66,1445.72 2236.5,1445.72 \n",
       "  2239.35,1445.72 2242.19,1445.72 2245.04,1445.72 2247.89,1445.72 2250.73,1445.72 2253.58,1445.72 2256.43,1445.72 2259.27,1445.72 2262.12,1445.72 2264.97,1445.72 \n",
       "  2267.81,1445.72 2270.66,1445.72 2273.51,1445.72 2276.35,1445.72 2279.2,1445.72 2282.05,1445.72 2284.89,1445.72 2287.74,1445.72 2290.59,1445.72 \n",
       "  \"/>\n",
       "<polyline clip-path=\"url(#clip342)\" style=\"stroke:#e26f46; stroke-linecap:butt; stroke-linejoin:round; stroke-width:4; stroke-opacity:1; fill:none\" points=\"\n",
       "  218.281,1445.72 221.128,1445.72 223.974,1445.72 226.821,1445.72 229.668,1445.72 232.514,1445.72 235.361,1445.72 238.207,1445.72 241.054,1445.72 243.9,1445.72 \n",
       "  246.747,1445.72 249.594,1445.72 252.44,1445.72 255.287,1445.72 258.133,1445.72 260.98,1445.72 263.826,1445.72 266.673,1445.72 269.52,1445.72 272.366,1445.72 \n",
       "  275.213,1445.72 278.059,1445.72 280.906,1445.72 283.752,1445.72 286.599,1445.72 289.446,1445.72 292.292,1445.72 295.139,1445.72 297.985,1445.72 300.832,1445.72 \n",
       "  303.678,1445.72 306.525,1445.72 309.372,1445.72 312.218,1445.72 315.065,1445.72 317.911,1445.72 320.758,1445.72 323.605,1445.72 326.451,1445.72 329.298,1445.72 \n",
       "  332.144,1445.72 334.991,1445.72 337.837,1445.72 340.684,1445.72 343.531,1445.72 346.377,1445.72 349.224,1445.72 352.07,1445.72 354.917,1445.72 357.763,1445.72 \n",
       "  360.61,1445.72 363.457,1445.72 366.303,1445.72 369.15,1445.72 371.996,1445.72 374.843,1445.72 377.689,1445.72 380.536,1445.72 383.383,1445.72 386.229,1445.72 \n",
       "  389.076,1445.72 391.922,1445.72 394.769,1445.72 397.615,1445.72 400.462,1445.72 403.309,1445.72 406.155,1445.72 409.002,1445.72 411.848,1445.72 414.695,1445.72 \n",
       "  417.541,1445.72 420.388,1445.72 423.235,1445.72 426.081,1445.72 428.928,1445.72 431.774,1445.72 434.621,1445.72 437.467,1445.72 440.314,1445.72 443.161,1445.72 \n",
       "  446.007,1445.72 448.854,1445.72 451.7,1445.72 454.547,1445.72 457.393,1445.72 460.24,1445.72 463.087,1445.72 465.933,1445.72 468.78,1445.72 471.626,1445.72 \n",
       "  474.473,1445.72 477.319,1445.72 480.166,1445.72 483.013,1445.72 485.859,1445.72 488.706,1445.72 491.552,1445.72 494.399,1445.72 497.245,1445.72 500.092,1445.72 \n",
       "  502.939,1445.72 505.785,1445.72 508.632,1445.72 511.478,1445.72 514.325,1445.72 517.171,1445.72 520.018,1445.72 522.865,1445.72 525.711,1445.72 528.558,1445.72 \n",
       "  531.404,1445.72 534.251,1445.72 537.098,1445.72 539.944,1445.72 542.791,1445.72 545.637,1445.72 548.484,1445.72 551.33,1445.72 554.177,1445.72 557.024,1445.72 \n",
       "  559.87,1445.72 562.717,1445.72 565.563,1445.72 568.41,1445.72 571.256,1445.72 574.103,1445.72 576.95,1445.72 579.796,1445.72 582.643,1445.72 585.489,1445.72 \n",
       "  588.336,1445.72 591.182,1445.72 594.029,1445.72 596.876,1445.72 599.722,1445.72 602.569,1445.72 605.415,1445.72 608.262,1445.72 611.108,1445.72 613.955,1445.72 \n",
       "  616.802,1445.72 619.648,1445.72 622.495,915.866 625.341,915.866 628.188,915.866 631.034,915.866 633.881,915.866 636.728,915.866 639.574,915.866 642.421,1445.72 \n",
       "  645.267,1445.72 648.114,915.866 650.96,915.866 653.807,915.866 656.654,915.866 659.5,915.866 662.347,915.866 665.193,915.866 668.04,915.866 670.886,915.866 \n",
       "  673.733,915.866 676.58,915.866 679.426,915.866 682.273,915.866 685.119,915.866 687.966,915.866 690.812,915.866 693.659,915.866 696.506,915.866 699.352,915.866 \n",
       "  702.199,915.866 705.045,915.866 707.892,1445.72 710.738,1445.72 713.585,1445.72 716.432,1445.72 719.278,1445.72 722.125,1445.72 724.971,1445.72 727.818,1445.72 \n",
       "  730.665,1445.72 733.511,1445.72 736.358,1445.72 739.204,1445.72 742.051,1445.72 744.897,1445.72 747.744,1445.72 750.591,1445.72 753.437,1445.72 756.284,1445.72 \n",
       "  759.13,1445.72 761.977,1445.72 764.823,1445.72 767.67,1445.72 770.517,1445.72 773.363,1445.72 776.21,1445.72 779.056,1445.72 781.903,1445.72 784.749,1445.72 \n",
       "  787.596,1445.72 790.443,1445.72 793.289,1445.72 796.136,1445.72 798.982,1445.72 801.829,1445.72 804.675,1445.72 807.522,1445.72 810.369,1445.72 813.215,1445.72 \n",
       "  816.062,1445.72 818.908,1445.72 821.755,1445.72 824.601,1445.72 827.448,1445.72 830.295,1445.72 833.141,1445.72 835.988,1445.72 838.834,1445.72 841.681,1445.72 \n",
       "  844.527,1445.72 847.374,1445.72 850.221,1445.72 853.067,1445.72 855.914,1445.72 858.76,1445.72 861.607,1445.72 864.453,1445.72 867.3,1445.72 870.147,1445.72 \n",
       "  872.993,1445.72 875.84,1445.72 878.686,1445.72 881.533,1445.72 884.379,1445.72 887.226,1445.72 890.073,1445.72 892.919,1445.72 895.766,1445.72 898.612,1445.72 \n",
       "  901.459,1445.72 904.305,1445.72 907.152,1445.72 909.999,1445.72 912.845,1445.72 915.692,1445.72 918.538,1445.72 921.385,1445.72 924.231,1445.72 927.078,1445.72 \n",
       "  929.925,1445.72 932.771,1445.72 935.618,1445.72 938.464,1445.72 941.311,1445.72 944.158,1445.72 947.004,1445.72 949.851,1445.72 952.697,1445.72 955.544,1445.72 \n",
       "  958.39,1445.72 961.237,1445.72 964.084,1445.72 966.93,1445.72 969.777,1445.72 972.623,1445.72 975.47,1445.72 978.316,1445.72 981.163,1445.72 984.01,1445.72 \n",
       "  986.856,1445.72 989.703,1445.72 992.549,1445.72 995.396,1445.72 998.242,1445.72 1001.09,1445.72 1003.94,1445.72 1006.78,1445.72 1009.63,1445.72 1012.48,1445.72 \n",
       "  1015.32,1445.72 1018.17,1445.72 1021.01,1445.72 1023.86,1445.72 1026.71,1445.72 1029.55,1445.72 1032.4,1445.72 1035.25,1445.72 1038.09,1445.72 1040.94,1445.72 \n",
       "  1043.79,1445.72 1046.63,1445.72 1049.48,1445.72 1052.33,1445.72 1055.17,1445.72 1058.02,1445.72 1060.87,1445.72 1063.71,1445.72 1066.56,1445.72 1069.41,1445.72 \n",
       "  1072.25,1445.72 1075.1,1445.72 1077.95,1445.72 1080.79,1445.72 1083.64,1445.72 1086.49,1445.72 1089.33,1445.72 1092.18,1445.72 1095.03,1445.72 1097.87,1445.72 \n",
       "  1100.72,1445.72 1103.57,1445.72 1106.41,1445.72 1109.26,1445.72 1112.11,1445.72 1114.95,1445.72 1117.8,1445.72 1120.65,1445.72 1123.49,1445.72 1126.34,1445.72 \n",
       "  1129.18,1445.72 1132.03,1445.72 1134.88,1445.72 1137.72,1445.72 1140.57,1445.72 1143.42,1445.72 1146.26,1445.72 1149.11,1445.72 1151.96,1445.72 1154.8,1445.72 \n",
       "  1157.65,1445.72 1160.5,1445.72 1163.34,1445.72 1166.19,1445.72 1169.04,1445.72 1171.88,1445.72 1174.73,1445.72 1177.58,1445.72 1180.42,1445.72 1183.27,1445.72 \n",
       "  1186.12,1445.72 1188.96,1445.72 1191.81,1445.72 1194.66,1445.72 1197.5,1445.72 1200.35,1445.72 1203.2,1445.72 1206.04,1445.72 1208.89,1445.72 1211.74,1445.72 \n",
       "  1214.58,1445.72 1217.43,1445.72 1220.28,1445.72 1223.12,1445.72 1225.97,1445.72 1228.81,1445.72 1231.66,1445.72 1234.51,1445.72 1237.35,1445.72 1240.2,1445.72 \n",
       "  1243.05,1445.72 1245.89,1445.72 1248.74,1445.72 1251.59,1445.72 1254.43,1445.72 1257.28,1445.72 1260.13,1445.72 1262.97,1445.72 1265.82,1445.72 1268.67,1445.72 \n",
       "  1271.51,1445.72 1274.36,1445.72 1277.21,1445.72 1280.05,1445.72 1282.9,1445.72 1285.75,1445.72 1288.59,1445.72 1291.44,1445.72 1294.29,1445.72 1297.13,1445.72 \n",
       "  1299.98,1445.72 1302.83,1445.72 1305.67,1445.72 1308.52,1445.72 1311.37,1445.72 1314.21,1445.72 1317.06,1445.72 1319.91,1445.72 1322.75,1445.72 1325.6,1445.72 \n",
       "  1328.44,1445.72 1331.29,1445.72 1334.14,1445.72 1336.98,1445.72 1339.83,1445.72 1342.68,1445.72 1345.52,1445.72 1348.37,1445.72 1351.22,1445.72 1354.06,1445.72 \n",
       "  1356.91,1445.72 1359.76,1445.72 1362.6,1445.72 1365.45,1445.72 1368.3,1445.72 1371.14,1445.72 1373.99,1445.72 1376.84,1445.72 1379.68,1445.72 1382.53,1445.72 \n",
       "  1385.38,1445.72 1388.22,1445.72 1391.07,1445.72 1393.92,1445.72 1396.76,1445.72 1399.61,1445.72 1402.46,1445.72 1405.3,1445.72 1408.15,1445.72 1411,1445.72 \n",
       "  1413.84,1445.72 1416.69,1445.72 1419.54,1445.72 1422.38,1445.72 1425.23,1445.72 1428.07,1445.72 1430.92,1445.72 1433.77,1445.72 1436.61,1445.72 1439.46,1445.72 \n",
       "  1442.31,1445.72 1445.15,1445.72 1448,1445.72 1450.85,1445.72 1453.69,1445.72 1456.54,1445.72 1459.39,1445.72 1462.23,1445.72 1465.08,1445.72 1467.93,1445.72 \n",
       "  1470.77,1445.72 1473.62,1445.72 1476.47,1445.72 1479.31,1445.72 1482.16,1445.72 1485.01,1445.72 1487.85,1445.72 1490.7,1445.72 1493.55,1445.72 1496.39,1445.72 \n",
       "  1499.24,1445.72 1502.09,1445.72 1504.93,1445.72 1507.78,1445.72 1510.63,1445.72 1513.47,1445.72 1516.32,1445.72 1519.17,1445.72 1522.01,1445.72 1524.86,1445.72 \n",
       "  1527.71,1445.72 1530.55,1445.72 1533.4,1445.72 1536.24,1445.72 1539.09,1445.72 1541.94,1445.72 1544.78,1445.72 1547.63,1445.72 1550.48,1445.72 1553.32,1445.72 \n",
       "  1556.17,1445.72 1559.02,1445.72 1561.86,1445.72 1564.71,1445.72 1567.56,1445.72 1570.4,1445.72 1573.25,1445.72 1576.1,1445.72 1578.94,1445.72 1581.79,1445.72 \n",
       "  1584.64,1445.72 1587.48,1445.72 1590.33,1445.72 1593.18,1445.72 1596.02,1445.72 1598.87,1445.72 1601.72,1445.72 1604.56,1445.72 1607.41,1445.72 1610.26,1445.72 \n",
       "  1613.1,1445.72 1615.95,1445.72 1618.8,1445.72 1621.64,1445.72 1624.49,1445.72 1627.34,1445.72 1630.18,1445.72 1633.03,1445.72 1635.87,1445.72 1638.72,1445.72 \n",
       "  1641.57,1445.72 1644.41,1445.72 1647.26,1445.72 1650.11,1445.72 1652.95,1445.72 1655.8,1445.72 1658.65,1445.72 1661.49,1445.72 1664.34,1445.72 1667.19,1445.72 \n",
       "  1670.03,1445.72 1672.88,1445.72 1675.73,1445.72 1678.57,1445.72 1681.42,1445.72 1684.27,1445.72 1687.11,1445.72 1689.96,1445.72 1692.81,1445.72 1695.65,1445.72 \n",
       "  1698.5,1445.72 1701.35,1445.72 1704.19,915.866 1707.04,915.866 1709.89,915.866 1712.73,915.866 1715.58,915.866 1718.43,915.866 1721.27,915.866 1724.12,915.866 \n",
       "  1726.97,915.866 1729.81,1445.72 1732.66,1445.72 1735.5,1445.72 1738.35,1445.72 1741.2,1445.72 1744.04,1445.72 1746.89,1445.72 1749.74,1445.72 1752.58,1445.72 \n",
       "  1755.43,1445.72 1758.28,1445.72 1761.12,1445.72 1763.97,1445.72 1766.82,1445.72 1769.66,1445.72 1772.51,1445.72 1775.36,915.866 1778.2,915.866 1781.05,915.866 \n",
       "  1783.9,915.866 1786.74,915.866 1789.59,915.866 1792.44,915.866 1795.28,915.866 1798.13,915.866 1800.98,1445.72 1803.82,1445.72 1806.67,1445.72 1809.52,1445.72 \n",
       "  1812.36,1445.72 1815.21,1445.72 1818.06,1445.72 1820.9,1445.72 1823.75,1445.72 1826.6,1445.72 1829.44,1445.72 1832.29,1445.72 1835.13,1445.72 1837.98,1445.72 \n",
       "  1840.83,1445.72 1843.67,1445.72 1846.52,1445.72 1849.37,1445.72 1852.21,1445.72 1855.06,1445.72 1857.91,1445.72 1860.75,1445.72 1863.6,1445.72 1866.45,1445.72 \n",
       "  1869.29,1445.72 1872.14,1445.72 1874.99,1445.72 1877.83,1445.72 1880.68,1445.72 1883.53,1445.72 1886.37,1445.72 1889.22,1445.72 1892.07,1445.72 1894.91,1445.72 \n",
       "  1897.76,1445.72 1900.61,1445.72 1903.45,1445.72 1906.3,1445.72 1909.15,1445.72 1911.99,1445.72 1914.84,1445.72 1917.69,1445.72 1920.53,1445.72 1923.38,1445.72 \n",
       "  1926.23,1445.72 1929.07,1445.72 1931.92,1445.72 1934.77,1445.72 1937.61,1445.72 1940.46,1445.72 1943.3,1445.72 1946.15,1445.72 1949,1445.72 1951.84,1445.72 \n",
       "  1954.69,1445.72 1957.54,1445.72 1960.38,1445.72 1963.23,1445.72 1966.08,1445.72 1968.92,1445.72 1971.77,1445.72 1974.62,1445.72 1977.46,1445.72 1980.31,1445.72 \n",
       "  1983.16,1445.72 1986,1445.72 1988.85,1445.72 1991.7,1445.72 1994.54,1445.72 1997.39,1445.72 2000.24,1445.72 2003.08,1445.72 2005.93,1445.72 2008.78,1445.72 \n",
       "  2011.62,1445.72 2014.47,1445.72 2017.32,1445.72 2020.16,1445.72 2023.01,1445.72 2025.86,1445.72 2028.7,1445.72 2031.55,1445.72 2034.4,1445.72 2037.24,1445.72 \n",
       "  2040.09,1445.72 2042.93,1445.72 2045.78,1445.72 2048.63,1445.72 2051.47,1445.72 2054.32,1445.72 2057.17,1445.72 2060.01,1445.72 2062.86,1445.72 2065.71,1445.72 \n",
       "  2068.55,1445.72 2071.4,1445.72 2074.25,1445.72 2077.09,1445.72 2079.94,1445.72 2082.79,1445.72 2085.63,1445.72 2088.48,1445.72 2091.33,1445.72 2094.17,1445.72 \n",
       "  2097.02,1445.72 2099.87,1445.72 2102.71,1445.72 2105.56,1445.72 2108.41,1445.72 2111.25,1445.72 2114.1,1445.72 2116.95,1445.72 2119.79,1445.72 2122.64,1445.72 \n",
       "  2125.49,1445.72 2128.33,1445.72 2131.18,1445.72 2134.03,1445.72 2136.87,1445.72 2139.72,1445.72 2142.56,1445.72 2145.41,1445.72 2148.26,1445.72 2151.1,1445.72 \n",
       "  2153.95,1445.72 2156.8,1445.72 2159.64,1445.72 2162.49,1445.72 2165.34,1445.72 2168.18,1445.72 2171.03,1445.72 2173.88,1445.72 2176.72,1445.72 2179.57,1445.72 \n",
       "  2182.42,1445.72 2185.26,1445.72 2188.11,1445.72 2190.96,1445.72 2193.8,1445.72 2196.65,1445.72 2199.5,1445.72 2202.34,1445.72 2205.19,1445.72 2208.04,1445.72 \n",
       "  2210.88,1445.72 2213.73,1445.72 2216.58,1445.72 2219.42,1445.72 2222.27,1445.72 2225.12,1445.72 2227.96,1445.72 2230.81,1445.72 2233.66,1445.72 2236.5,1445.72 \n",
       "  2239.35,1445.72 2242.19,1445.72 2245.04,1445.72 2247.89,1445.72 2250.73,1445.72 2253.58,1445.72 2256.43,1445.72 2259.27,1445.72 2262.12,1445.72 2264.97,1445.72 \n",
       "  2267.81,1445.72 2270.66,1445.72 2273.51,1445.72 2276.35,1445.72 2279.2,1445.72 2282.05,1445.72 2284.89,1445.72 2287.74,1445.72 2290.59,1445.72 \n",
       "  \"/>\n",
       "<polyline clip-path=\"url(#clip342)\" style=\"stroke:#3da44d; stroke-linecap:butt; stroke-linejoin:round; stroke-width:4; stroke-opacity:1; fill:none\" points=\"\n",
       "  218.281,1445.72 221.128,1445.72 223.974,1445.72 226.821,1445.72 229.668,1445.72 232.514,1445.72 235.361,1445.72 238.207,1445.72 241.054,1445.72 243.9,1445.72 \n",
       "  246.747,1445.72 249.594,1445.72 252.44,1445.72 255.287,1445.72 258.133,1445.72 260.98,1445.72 263.826,1445.72 266.673,1445.72 269.52,1445.72 272.366,1445.72 \n",
       "  275.213,1445.72 278.059,1445.72 280.906,1445.72 283.752,1445.72 286.599,1445.72 289.446,1445.72 292.292,1445.72 295.139,1445.72 297.985,1445.72 300.832,1445.72 \n",
       "  303.678,1445.72 306.525,1445.72 309.372,1445.72 312.218,1445.72 315.065,1445.72 317.911,1445.72 320.758,1445.72 323.605,1445.72 326.451,1445.72 329.298,1445.72 \n",
       "  332.144,1445.72 334.991,1445.72 337.837,1445.72 340.684,1445.72 343.531,1445.72 346.377,1445.72 349.224,1445.72 352.07,1445.72 354.917,1445.72 357.763,1445.72 \n",
       "  360.61,1445.72 363.457,1445.72 366.303,1445.72 369.15,1445.72 371.996,1445.72 374.843,1445.72 377.689,1445.72 380.536,1445.72 383.383,1445.72 386.229,1445.72 \n",
       "  389.076,1445.72 391.922,1445.72 394.769,1445.72 397.615,1445.72 400.462,1445.72 403.309,1445.72 406.155,1445.72 409.002,1445.72 411.848,1445.72 414.695,1445.72 \n",
       "  417.541,1445.72 420.388,1445.72 423.235,1445.72 426.081,1445.72 428.928,1445.72 431.774,1445.72 434.621,1445.72 437.467,1445.72 440.314,1445.72 443.161,1445.72 \n",
       "  446.007,1445.72 448.854,1445.72 451.7,1445.72 454.547,1445.72 457.393,1445.72 460.24,1445.72 463.087,1445.72 465.933,1445.72 468.78,1445.72 471.626,1445.72 \n",
       "  474.473,1445.72 477.319,1445.72 480.166,1445.72 483.013,1445.72 485.859,1445.72 488.706,1445.72 491.552,1445.72 494.399,1445.72 497.245,1445.72 500.092,1445.72 \n",
       "  502.939,1445.72 505.785,1445.72 508.632,1445.72 511.478,1445.72 514.325,1445.72 517.171,1445.72 520.018,1445.72 522.865,1445.72 525.711,1445.72 528.558,1445.72 \n",
       "  531.404,1445.72 534.251,1445.72 537.098,1445.72 539.944,1445.72 542.791,1445.72 545.637,1445.72 548.484,1445.72 551.33,1445.72 554.177,1445.72 557.024,1445.72 \n",
       "  559.87,1445.72 562.717,1445.72 565.563,1445.72 568.41,1445.72 571.256,1445.72 574.103,1445.72 576.95,1445.72 579.796,1445.72 582.643,1445.72 585.489,1445.72 \n",
       "  588.336,1445.72 591.182,1445.72 594.029,1445.72 596.876,1445.72 599.722,1445.72 602.569,1445.72 605.415,1445.72 608.262,1445.72 611.108,1445.72 613.955,1445.72 \n",
       "  616.802,1445.72 619.648,1445.72 622.495,1026.25 625.341,1026.25 628.188,1026.25 631.034,1026.25 633.881,1026.25 636.728,1026.25 639.574,1026.25 642.421,1445.72 \n",
       "  645.267,1445.72 648.114,1026.25 650.96,1026.25 653.807,1026.25 656.654,1026.25 659.5,1026.25 662.347,1026.25 665.193,1026.25 668.04,1026.25 670.886,1026.25 \n",
       "  673.733,1026.25 676.58,1026.25 679.426,1026.25 682.273,1026.25 685.119,1026.25 687.966,1026.25 690.812,1026.25 693.659,1026.25 696.506,1026.25 699.352,1026.25 \n",
       "  702.199,1026.25 705.045,1026.25 707.892,1445.72 710.738,1445.72 713.585,1445.72 716.432,1445.72 719.278,1445.72 722.125,1445.72 724.971,1445.72 727.818,1445.72 \n",
       "  730.665,1445.72 733.511,1445.72 736.358,1445.72 739.204,1445.72 742.051,1445.72 744.897,1445.72 747.744,1445.72 750.591,1445.72 753.437,1445.72 756.284,1445.72 \n",
       "  759.13,1445.72 761.977,1445.72 764.823,1445.72 767.67,1445.72 770.517,1445.72 773.363,1445.72 776.21,1445.72 779.056,1445.72 781.903,1445.72 784.749,1445.72 \n",
       "  787.596,1445.72 790.443,1445.72 793.289,1445.72 796.136,1445.72 798.982,1445.72 801.829,1445.72 804.675,1445.72 807.522,1445.72 810.369,1445.72 813.215,1445.72 \n",
       "  816.062,1445.72 818.908,1445.72 821.755,1445.72 824.601,1445.72 827.448,1445.72 830.295,1445.72 833.141,1445.72 835.988,1445.72 838.834,1445.72 841.681,1445.72 \n",
       "  844.527,1445.72 847.374,1445.72 850.221,1445.72 853.067,1445.72 855.914,1445.72 858.76,1445.72 861.607,1445.72 864.453,1445.72 867.3,1445.72 870.147,1445.72 \n",
       "  872.993,1445.72 875.84,1445.72 878.686,1445.72 881.533,1445.72 884.379,1445.72 887.226,1445.72 890.073,1445.72 892.919,1445.72 895.766,1445.72 898.612,1445.72 \n",
       "  901.459,1445.72 904.305,1445.72 907.152,1445.72 909.999,1445.72 912.845,1445.72 915.692,1445.72 918.538,1445.72 921.385,1445.72 924.231,1445.72 927.078,1445.72 \n",
       "  929.925,1445.72 932.771,1445.72 935.618,1445.72 938.464,1445.72 941.311,1445.72 944.158,1445.72 947.004,1445.72 949.851,1445.72 952.697,1445.72 955.544,1445.72 \n",
       "  958.39,1445.72 961.237,1445.72 964.084,1445.72 966.93,1445.72 969.777,1445.72 972.623,1445.72 975.47,1445.72 978.316,1445.72 981.163,1445.72 984.01,1445.72 \n",
       "  986.856,1445.72 989.703,1445.72 992.549,1445.72 995.396,1445.72 998.242,1445.72 1001.09,1445.72 1003.94,1445.72 1006.78,1445.72 1009.63,1445.72 1012.48,1445.72 \n",
       "  1015.32,1445.72 1018.17,1445.72 1021.01,1445.72 1023.86,1445.72 1026.71,1445.72 1029.55,1445.72 1032.4,1445.72 1035.25,1445.72 1038.09,1445.72 1040.94,1445.72 \n",
       "  1043.79,1445.72 1046.63,1445.72 1049.48,1445.72 1052.33,1445.72 1055.17,1445.72 1058.02,1445.72 1060.87,1445.72 1063.71,1445.72 1066.56,1445.72 1069.41,1445.72 \n",
       "  1072.25,1445.72 1075.1,1445.72 1077.95,1445.72 1080.79,1445.72 1083.64,1445.72 1086.49,1445.72 1089.33,1445.72 1092.18,1445.72 1095.03,1445.72 1097.87,1445.72 \n",
       "  1100.72,1445.72 1103.57,1445.72 1106.41,1445.72 1109.26,1445.72 1112.11,1445.72 1114.95,1445.72 1117.8,1445.72 1120.65,1445.72 1123.49,1445.72 1126.34,1445.72 \n",
       "  1129.18,1445.72 1132.03,1445.72 1134.88,1445.72 1137.72,1445.72 1140.57,1445.72 1143.42,1445.72 1146.26,1445.72 1149.11,1445.72 1151.96,1445.72 1154.8,1445.72 \n",
       "  1157.65,1445.72 1160.5,1445.72 1163.34,1445.72 1166.19,1445.72 1169.04,1445.72 1171.88,1445.72 1174.73,1445.72 1177.58,1445.72 1180.42,1445.72 1183.27,1445.72 \n",
       "  1186.12,1445.72 1188.96,1445.72 1191.81,1445.72 1194.66,1445.72 1197.5,1445.72 1200.35,1445.72 1203.2,1445.72 1206.04,1445.72 1208.89,1445.72 1211.74,1445.72 \n",
       "  1214.58,1445.72 1217.43,1445.72 1220.28,1445.72 1223.12,1445.72 1225.97,1445.72 1228.81,1445.72 1231.66,1445.72 1234.51,1445.72 1237.35,1445.72 1240.2,1445.72 \n",
       "  1243.05,1445.72 1245.89,1445.72 1248.74,1445.72 1251.59,1445.72 1254.43,1445.72 1257.28,1445.72 1260.13,1445.72 1262.97,1445.72 1265.82,1445.72 1268.67,1445.72 \n",
       "  1271.51,1445.72 1274.36,1445.72 1277.21,1445.72 1280.05,1445.72 1282.9,1445.72 1285.75,1445.72 1288.59,1445.72 1291.44,1445.72 1294.29,1445.72 1297.13,1445.72 \n",
       "  1299.98,1445.72 1302.83,1445.72 1305.67,1445.72 1308.52,1445.72 1311.37,1445.72 1314.21,1445.72 1317.06,1445.72 1319.91,1445.72 1322.75,1445.72 1325.6,1445.72 \n",
       "  1328.44,1445.72 1331.29,1445.72 1334.14,1445.72 1336.98,1445.72 1339.83,1445.72 1342.68,1445.72 1345.52,1445.72 1348.37,1445.72 1351.22,1445.72 1354.06,1445.72 \n",
       "  1356.91,1445.72 1359.76,1445.72 1362.6,1445.72 1365.45,1445.72 1368.3,1445.72 1371.14,1445.72 1373.99,1445.72 1376.84,1445.72 1379.68,1445.72 1382.53,1445.72 \n",
       "  1385.38,1445.72 1388.22,1445.72 1391.07,1445.72 1393.92,1445.72 1396.76,1445.72 1399.61,1445.72 1402.46,1445.72 1405.3,1445.72 1408.15,1445.72 1411,1445.72 \n",
       "  1413.84,1445.72 1416.69,1445.72 1419.54,1445.72 1422.38,1445.72 1425.23,1445.72 1428.07,1445.72 1430.92,1445.72 1433.77,1445.72 1436.61,1445.72 1439.46,1445.72 \n",
       "  1442.31,1445.72 1445.15,1445.72 1448,1445.72 1450.85,1445.72 1453.69,1445.72 1456.54,1445.72 1459.39,1445.72 1462.23,1445.72 1465.08,1445.72 1467.93,1445.72 \n",
       "  1470.77,1445.72 1473.62,1445.72 1476.47,1445.72 1479.31,1445.72 1482.16,1445.72 1485.01,1445.72 1487.85,1445.72 1490.7,1445.72 1493.55,1445.72 1496.39,1445.72 \n",
       "  1499.24,1445.72 1502.09,1445.72 1504.93,1445.72 1507.78,1445.72 1510.63,1445.72 1513.47,1445.72 1516.32,1445.72 1519.17,1445.72 1522.01,1445.72 1524.86,1445.72 \n",
       "  1527.71,1445.72 1530.55,1445.72 1533.4,1445.72 1536.24,1445.72 1539.09,1445.72 1541.94,1445.72 1544.78,1445.72 1547.63,1445.72 1550.48,1445.72 1553.32,1445.72 \n",
       "  1556.17,1445.72 1559.02,1445.72 1561.86,1445.72 1564.71,1445.72 1567.56,1445.72 1570.4,1445.72 1573.25,1445.72 1576.1,1445.72 1578.94,1445.72 1581.79,1445.72 \n",
       "  1584.64,1445.72 1587.48,1445.72 1590.33,1445.72 1593.18,1445.72 1596.02,1445.72 1598.87,1445.72 1601.72,1445.72 1604.56,1445.72 1607.41,1445.72 1610.26,1445.72 \n",
       "  1613.1,1445.72 1615.95,1445.72 1618.8,1445.72 1621.64,1445.72 1624.49,1445.72 1627.34,1445.72 1630.18,1445.72 1633.03,1445.72 1635.87,1445.72 1638.72,1445.72 \n",
       "  1641.57,1445.72 1644.41,1445.72 1647.26,1445.72 1650.11,1445.72 1652.95,1445.72 1655.8,1445.72 1658.65,1445.72 1661.49,1445.72 1664.34,1445.72 1667.19,1445.72 \n",
       "  1670.03,1445.72 1672.88,1445.72 1675.73,1445.72 1678.57,1445.72 1681.42,1445.72 1684.27,1445.72 1687.11,1445.72 1689.96,1445.72 1692.81,1445.72 1695.65,1445.72 \n",
       "  1698.5,1445.72 1701.35,1445.72 1704.19,1026.25 1707.04,1026.25 1709.89,1026.25 1712.73,1026.25 1715.58,1026.25 1718.43,1026.25 1721.27,1026.25 1724.12,1026.25 \n",
       "  1726.97,1026.25 1729.81,1026.25 1732.66,1445.72 1735.5,1445.72 1738.35,1445.72 1741.2,1445.72 1744.04,1445.72 1746.89,1445.72 1749.74,1445.72 1752.58,1445.72 \n",
       "  1755.43,1445.72 1758.28,1026.25 1761.12,1026.25 1763.97,1445.72 1766.82,1445.72 1769.66,1445.72 1772.51,1445.72 1775.36,1026.25 1778.2,1026.25 1781.05,1026.25 \n",
       "  1783.9,1026.25 1786.74,1026.25 1789.59,1026.25 1792.44,1026.25 1795.28,1026.25 1798.13,1026.25 1800.98,1445.72 1803.82,1445.72 1806.67,1445.72 1809.52,1445.72 \n",
       "  1812.36,1445.72 1815.21,1445.72 1818.06,1445.72 1820.9,1445.72 1823.75,1445.72 1826.6,1445.72 1829.44,1445.72 1832.29,1445.72 1835.13,1445.72 1837.98,1445.72 \n",
       "  1840.83,1445.72 1843.67,1445.72 1846.52,1445.72 1849.37,1445.72 1852.21,1445.72 1855.06,1445.72 1857.91,1445.72 1860.75,1445.72 1863.6,1445.72 1866.45,1445.72 \n",
       "  1869.29,1445.72 1872.14,1445.72 1874.99,1445.72 1877.83,1445.72 1880.68,1445.72 1883.53,1445.72 1886.37,1445.72 1889.22,1445.72 1892.07,1445.72 1894.91,1445.72 \n",
       "  1897.76,1445.72 1900.61,1445.72 1903.45,1445.72 1906.3,1445.72 1909.15,1445.72 1911.99,1445.72 1914.84,1445.72 1917.69,1445.72 1920.53,1445.72 1923.38,1445.72 \n",
       "  1926.23,1445.72 1929.07,1445.72 1931.92,1445.72 1934.77,1445.72 1937.61,1445.72 1940.46,1445.72 1943.3,1445.72 1946.15,1445.72 1949,1445.72 1951.84,1445.72 \n",
       "  1954.69,1445.72 1957.54,1445.72 1960.38,1445.72 1963.23,1445.72 1966.08,1445.72 1968.92,1445.72 1971.77,1445.72 1974.62,1445.72 1977.46,1445.72 1980.31,1445.72 \n",
       "  1983.16,1445.72 1986,1445.72 1988.85,1445.72 1991.7,1445.72 1994.54,1445.72 1997.39,1445.72 2000.24,1445.72 2003.08,1445.72 2005.93,1445.72 2008.78,1445.72 \n",
       "  2011.62,1445.72 2014.47,1445.72 2017.32,1445.72 2020.16,1445.72 2023.01,1445.72 2025.86,1445.72 2028.7,1445.72 2031.55,1445.72 2034.4,1445.72 2037.24,1445.72 \n",
       "  2040.09,1445.72 2042.93,1445.72 2045.78,1445.72 2048.63,1445.72 2051.47,1445.72 2054.32,1445.72 2057.17,1445.72 2060.01,1445.72 2062.86,1445.72 2065.71,1445.72 \n",
       "  2068.55,1445.72 2071.4,1445.72 2074.25,1445.72 2077.09,1445.72 2079.94,1445.72 2082.79,1445.72 2085.63,1445.72 2088.48,1445.72 2091.33,1445.72 2094.17,1445.72 \n",
       "  2097.02,1445.72 2099.87,1445.72 2102.71,1445.72 2105.56,1445.72 2108.41,1445.72 2111.25,1445.72 2114.1,1445.72 2116.95,1445.72 2119.79,1445.72 2122.64,1445.72 \n",
       "  2125.49,1445.72 2128.33,1445.72 2131.18,1445.72 2134.03,1445.72 2136.87,1445.72 2139.72,1445.72 2142.56,1445.72 2145.41,1445.72 2148.26,1445.72 2151.1,1445.72 \n",
       "  2153.95,1445.72 2156.8,1445.72 2159.64,1445.72 2162.49,1445.72 2165.34,1445.72 2168.18,1445.72 2171.03,1445.72 2173.88,1445.72 2176.72,1445.72 2179.57,1445.72 \n",
       "  2182.42,1445.72 2185.26,1445.72 2188.11,1445.72 2190.96,1445.72 2193.8,1445.72 2196.65,1445.72 2199.5,1445.72 2202.34,1445.72 2205.19,1445.72 2208.04,1445.72 \n",
       "  2210.88,1445.72 2213.73,1445.72 2216.58,1445.72 2219.42,1445.72 2222.27,1445.72 2225.12,1445.72 2227.96,1445.72 2230.81,1445.72 2233.66,1445.72 2236.5,1445.72 \n",
       "  2239.35,1445.72 2242.19,1445.72 2245.04,1445.72 2247.89,1445.72 2250.73,1445.72 2253.58,1445.72 2256.43,1445.72 2259.27,1445.72 2262.12,1445.72 2264.97,1445.72 \n",
       "  2267.81,1445.72 2270.66,1445.72 2273.51,1445.72 2276.35,1445.72 2279.2,1445.72 2282.05,1445.72 2284.89,1445.72 2287.74,1445.72 2290.59,1445.72 \n",
       "  \"/>\n",
       "<polyline clip-path=\"url(#clip342)\" style=\"stroke:#c271d2; stroke-linecap:butt; stroke-linejoin:round; stroke-width:6; stroke-opacity:1; fill:none\" points=\"\n",
       "  218.281,1445.72 221.128,1445.72 223.974,1445.72 226.821,1445.72 229.668,1445.72 232.514,1445.72 235.361,1445.72 238.207,1445.72 241.054,1445.72 243.9,1445.72 \n",
       "  246.747,1445.72 249.594,1445.72 252.44,1445.72 255.287,1445.72 258.133,1445.72 260.98,1445.72 263.826,1445.72 266.673,1445.72 269.52,1445.72 272.366,1445.72 \n",
       "  275.213,1445.72 278.059,1445.72 280.906,1445.72 283.752,1445.72 286.599,1445.72 289.446,1445.72 292.292,1445.72 295.139,1445.72 297.985,1445.72 300.832,1445.72 \n",
       "  303.678,1445.72 306.525,1445.72 309.372,1445.72 312.218,1445.72 315.065,1445.72 317.911,1445.72 320.758,1445.72 323.605,1445.72 326.451,1445.72 329.298,1445.72 \n",
       "  332.144,1445.72 334.991,1445.72 337.837,1445.72 340.684,1445.72 343.531,1445.72 346.377,1445.72 349.224,1445.72 352.07,1445.72 354.917,1445.72 357.763,1445.72 \n",
       "  360.61,1445.72 363.457,1445.72 366.303,1445.72 369.15,1445.72 371.996,1445.72 374.843,1445.72 377.689,1445.72 380.536,1445.72 383.383,1445.72 386.229,1445.72 \n",
       "  389.076,1445.72 391.922,1445.72 394.769,1445.72 397.615,1445.72 400.462,1445.72 403.309,1445.72 406.155,1445.72 409.002,1445.72 411.848,1445.72 414.695,1445.72 \n",
       "  417.541,1445.72 420.388,1445.72 423.235,1445.72 426.081,1445.72 428.928,1445.72 431.774,1445.72 434.621,1445.72 437.467,1445.72 440.314,1445.72 443.161,1445.72 \n",
       "  446.007,1445.72 448.854,1445.72 451.7,1445.72 454.547,1445.72 457.393,1445.72 460.24,1445.72 463.087,1445.72 465.933,1445.72 468.78,1445.72 471.626,1445.72 \n",
       "  474.473,1445.72 477.319,1445.72 480.166,1445.72 483.013,1445.72 485.859,1445.72 488.706,1445.72 491.552,1445.72 494.399,1445.72 497.245,1445.72 500.092,1445.72 \n",
       "  502.939,1445.72 505.785,1445.72 508.632,1445.72 511.478,1445.72 514.325,1445.72 517.171,1445.72 520.018,1445.72 522.865,1445.72 525.711,1445.72 528.558,1445.72 \n",
       "  531.404,1445.72 534.251,1445.72 537.098,1445.72 539.944,1445.72 542.791,1445.72 545.637,1445.72 548.484,1445.72 551.33,1445.72 554.177,1445.72 557.024,1445.72 \n",
       "  559.87,1445.72 562.717,1445.72 565.563,1445.72 568.41,1445.72 571.256,1445.72 574.103,1445.72 576.95,1445.72 579.796,1445.72 582.643,1445.72 585.489,1445.72 \n",
       "  588.336,1445.72 591.182,1445.72 594.029,1445.72 596.876,1445.72 599.722,1445.72 602.569,1445.72 605.415,1445.72 608.262,1445.72 611.108,1445.72 613.955,1445.72 \n",
       "  616.802,1445.72 619.648,1445.72 622.495,915.866 625.341,915.866 628.188,915.866 631.034,915.866 633.881,915.866 636.728,915.866 639.574,915.866 642.421,915.866 \n",
       "  645.267,915.866 648.114,915.866 650.96,915.866 653.807,915.866 656.654,915.866 659.5,915.866 662.347,915.866 665.193,915.866 668.04,915.866 670.886,915.866 \n",
       "  673.733,915.866 676.58,915.866 679.426,915.866 682.273,915.866 685.119,915.866 687.966,915.866 690.812,915.866 693.659,915.866 696.506,915.866 699.352,915.866 \n",
       "  702.199,915.866 705.045,915.866 707.892,915.866 710.738,1445.72 713.585,1445.72 716.432,1445.72 719.278,1445.72 722.125,1445.72 724.971,1445.72 727.818,1445.72 \n",
       "  730.665,1445.72 733.511,1445.72 736.358,1445.72 739.204,1445.72 742.051,1445.72 744.897,1445.72 747.744,1445.72 750.591,1445.72 753.437,1445.72 756.284,1445.72 \n",
       "  759.13,1445.72 761.977,1445.72 764.823,1445.72 767.67,1445.72 770.517,1445.72 773.363,1445.72 776.21,1445.72 779.056,1445.72 781.903,1445.72 784.749,1445.72 \n",
       "  787.596,1445.72 790.443,1445.72 793.289,1445.72 796.136,1445.72 798.982,1445.72 801.829,1445.72 804.675,1445.72 807.522,1445.72 810.369,1445.72 813.215,1445.72 \n",
       "  816.062,1445.72 818.908,1445.72 821.755,1445.72 824.601,1445.72 827.448,1445.72 830.295,1445.72 833.141,1445.72 835.988,1445.72 838.834,1445.72 841.681,1445.72 \n",
       "  844.527,1445.72 847.374,1445.72 850.221,1445.72 853.067,1445.72 855.914,1445.72 858.76,1445.72 861.607,1445.72 864.453,1445.72 867.3,1445.72 870.147,1445.72 \n",
       "  872.993,1445.72 875.84,1445.72 878.686,1445.72 881.533,1445.72 884.379,1445.72 887.226,1445.72 890.073,1445.72 892.919,1445.72 895.766,1445.72 898.612,1445.72 \n",
       "  901.459,1445.72 904.305,1445.72 907.152,1445.72 909.999,1445.72 912.845,1445.72 915.692,1445.72 918.538,1445.72 921.385,1445.72 924.231,1445.72 927.078,1445.72 \n",
       "  929.925,1445.72 932.771,1445.72 935.618,1445.72 938.464,1445.72 941.311,1445.72 944.158,1445.72 947.004,1445.72 949.851,1445.72 952.697,1445.72 955.544,1445.72 \n",
       "  958.39,1445.72 961.237,1445.72 964.084,1445.72 966.93,1445.72 969.777,1445.72 972.623,1445.72 975.47,1445.72 978.316,1445.72 981.163,1445.72 984.01,1445.72 \n",
       "  986.856,1445.72 989.703,1445.72 992.549,1445.72 995.396,1445.72 998.242,1445.72 1001.09,1445.72 1003.94,1445.72 1006.78,1445.72 1009.63,1445.72 1012.48,1445.72 \n",
       "  1015.32,1445.72 1018.17,1445.72 1021.01,1445.72 1023.86,1445.72 1026.71,1445.72 1029.55,1445.72 1032.4,1445.72 1035.25,1445.72 1038.09,1445.72 1040.94,1445.72 \n",
       "  1043.79,1445.72 1046.63,1445.72 1049.48,1445.72 1052.33,1445.72 1055.17,1445.72 1058.02,1445.72 1060.87,1445.72 1063.71,1445.72 1066.56,1445.72 1069.41,1445.72 \n",
       "  1072.25,1445.72 1075.1,1445.72 1077.95,1445.72 1080.79,1445.72 1083.64,1445.72 1086.49,1445.72 1089.33,1445.72 1092.18,1445.72 1095.03,1445.72 1097.87,1445.72 \n",
       "  1100.72,1445.72 1103.57,1445.72 1106.41,1445.72 1109.26,1445.72 1112.11,1445.72 1114.95,1445.72 1117.8,1445.72 1120.65,1445.72 1123.49,1445.72 1126.34,1445.72 \n",
       "  1129.18,1445.72 1132.03,1445.72 1134.88,1445.72 1137.72,1445.72 1140.57,1445.72 1143.42,1445.72 1146.26,1445.72 1149.11,1445.72 1151.96,1445.72 1154.8,1445.72 \n",
       "  1157.65,1445.72 1160.5,1445.72 1163.34,1445.72 1166.19,1445.72 1169.04,1445.72 1171.88,1445.72 1174.73,1445.72 1177.58,1445.72 1180.42,1445.72 1183.27,1445.72 \n",
       "  1186.12,1445.72 1188.96,1445.72 1191.81,1445.72 1194.66,1445.72 1197.5,1445.72 1200.35,1445.72 1203.2,1445.72 1206.04,1445.72 1208.89,1445.72 1211.74,1445.72 \n",
       "  1214.58,1445.72 1217.43,1445.72 1220.28,1445.72 1223.12,1445.72 1225.97,1445.72 1228.81,1445.72 1231.66,1445.72 1234.51,1445.72 1237.35,1445.72 1240.2,1445.72 \n",
       "  1243.05,1445.72 1245.89,1445.72 1248.74,1445.72 1251.59,1445.72 1254.43,1445.72 1257.28,1445.72 1260.13,1445.72 1262.97,1445.72 1265.82,1445.72 1268.67,1445.72 \n",
       "  1271.51,1445.72 1274.36,1445.72 1277.21,1445.72 1280.05,1445.72 1282.9,1445.72 1285.75,1445.72 1288.59,1445.72 1291.44,1445.72 1294.29,1445.72 1297.13,1445.72 \n",
       "  1299.98,1445.72 1302.83,1445.72 1305.67,1445.72 1308.52,1445.72 1311.37,1445.72 1314.21,1445.72 1317.06,1445.72 1319.91,1445.72 1322.75,1445.72 1325.6,1445.72 \n",
       "  1328.44,1445.72 1331.29,1445.72 1334.14,1445.72 1336.98,1445.72 1339.83,1445.72 1342.68,1445.72 1345.52,1445.72 1348.37,1445.72 1351.22,1445.72 1354.06,1445.72 \n",
       "  1356.91,1445.72 1359.76,1445.72 1362.6,1445.72 1365.45,1445.72 1368.3,1445.72 1371.14,1445.72 1373.99,1445.72 1376.84,1445.72 1379.68,1445.72 1382.53,1445.72 \n",
       "  1385.38,1445.72 1388.22,1445.72 1391.07,1445.72 1393.92,1445.72 1396.76,1445.72 1399.61,1445.72 1402.46,1445.72 1405.3,1445.72 1408.15,1445.72 1411,1445.72 \n",
       "  1413.84,1445.72 1416.69,1445.72 1419.54,1445.72 1422.38,1445.72 1425.23,1445.72 1428.07,1445.72 1430.92,1445.72 1433.77,1445.72 1436.61,1445.72 1439.46,1445.72 \n",
       "  1442.31,1445.72 1445.15,1445.72 1448,1445.72 1450.85,1445.72 1453.69,1445.72 1456.54,1445.72 1459.39,1445.72 1462.23,1445.72 1465.08,1445.72 1467.93,1445.72 \n",
       "  1470.77,1445.72 1473.62,1445.72 1476.47,1445.72 1479.31,1445.72 1482.16,1445.72 1485.01,1445.72 1487.85,1445.72 1490.7,1445.72 1493.55,1445.72 1496.39,1445.72 \n",
       "  1499.24,1445.72 1502.09,1445.72 1504.93,1445.72 1507.78,1445.72 1510.63,1445.72 1513.47,1445.72 1516.32,1445.72 1519.17,1445.72 1522.01,1445.72 1524.86,1445.72 \n",
       "  1527.71,1445.72 1530.55,1445.72 1533.4,1445.72 1536.24,1445.72 1539.09,1445.72 1541.94,1445.72 1544.78,1445.72 1547.63,1445.72 1550.48,1445.72 1553.32,1445.72 \n",
       "  1556.17,1445.72 1559.02,1445.72 1561.86,1445.72 1564.71,1445.72 1567.56,1445.72 1570.4,1445.72 1573.25,1445.72 1576.1,1445.72 1578.94,1445.72 1581.79,1445.72 \n",
       "  1584.64,1445.72 1587.48,1445.72 1590.33,1445.72 1593.18,1445.72 1596.02,1445.72 1598.87,1445.72 1601.72,1445.72 1604.56,1445.72 1607.41,1445.72 1610.26,1445.72 \n",
       "  1613.1,1445.72 1615.95,1445.72 1618.8,1445.72 1621.64,1445.72 1624.49,1445.72 1627.34,1445.72 1630.18,1445.72 1633.03,1445.72 1635.87,1445.72 1638.72,1445.72 \n",
       "  1641.57,1445.72 1644.41,1445.72 1647.26,1445.72 1650.11,1445.72 1652.95,1445.72 1655.8,1445.72 1658.65,1445.72 1661.49,1445.72 1664.34,1445.72 1667.19,1445.72 \n",
       "  1670.03,1445.72 1672.88,1445.72 1675.73,1445.72 1678.57,1445.72 1681.42,1445.72 1684.27,1445.72 1687.11,1445.72 1689.96,1445.72 1692.81,1445.72 1695.65,1445.72 \n",
       "  1698.5,1445.72 1701.35,1445.72 1704.19,915.866 1707.04,915.866 1709.89,915.866 1712.73,915.866 1715.58,915.866 1718.43,915.866 1721.27,915.866 1724.12,915.866 \n",
       "  1726.97,915.866 1729.81,915.866 1732.66,1445.72 1735.5,1445.72 1738.35,1445.72 1741.2,1445.72 1744.04,1445.72 1746.89,1445.72 1749.74,1445.72 1752.58,1445.72 \n",
       "  1755.43,1445.72 1758.28,915.866 1761.12,915.866 1763.97,1445.72 1766.82,1445.72 1769.66,1445.72 1772.51,1445.72 1775.36,915.866 1778.2,915.866 1781.05,915.866 \n",
       "  1783.9,915.866 1786.74,915.866 1789.59,915.866 1792.44,915.866 1795.28,915.866 1798.13,915.866 1800.98,915.866 1803.82,915.866 1806.67,915.866 1809.52,915.866 \n",
       "  1812.36,915.866 1815.21,915.866 1818.06,915.866 1820.9,915.866 1823.75,915.866 1826.6,915.866 1829.44,915.866 1832.29,915.866 1835.13,915.866 1837.98,1445.72 \n",
       "  1840.83,1445.72 1843.67,1445.72 1846.52,1445.72 1849.37,1445.72 1852.21,1445.72 1855.06,1445.72 1857.91,1445.72 1860.75,1445.72 1863.6,1445.72 1866.45,1445.72 \n",
       "  1869.29,1445.72 1872.14,1445.72 1874.99,1445.72 1877.83,1445.72 1880.68,1445.72 1883.53,1445.72 1886.37,1445.72 1889.22,1445.72 1892.07,1445.72 1894.91,1445.72 \n",
       "  1897.76,1445.72 1900.61,1445.72 1903.45,1445.72 1906.3,1445.72 1909.15,1445.72 1911.99,1445.72 1914.84,1445.72 1917.69,1445.72 1920.53,1445.72 1923.38,1445.72 \n",
       "  1926.23,1445.72 1929.07,1445.72 1931.92,1445.72 1934.77,1445.72 1937.61,1445.72 1940.46,1445.72 1943.3,1445.72 1946.15,1445.72 1949,1445.72 1951.84,1445.72 \n",
       "  1954.69,1445.72 1957.54,1445.72 1960.38,1445.72 1963.23,1445.72 1966.08,1445.72 1968.92,1445.72 1971.77,1445.72 1974.62,1445.72 1977.46,1445.72 1980.31,1445.72 \n",
       "  1983.16,1445.72 1986,1445.72 1988.85,1445.72 1991.7,1445.72 1994.54,1445.72 1997.39,1445.72 2000.24,1445.72 2003.08,1445.72 2005.93,1445.72 2008.78,1445.72 \n",
       "  2011.62,1445.72 2014.47,1445.72 2017.32,1445.72 2020.16,1445.72 2023.01,1445.72 2025.86,1445.72 2028.7,1445.72 2031.55,1445.72 2034.4,1445.72 2037.24,1445.72 \n",
       "  2040.09,1445.72 2042.93,1445.72 2045.78,1445.72 2048.63,1445.72 2051.47,1445.72 2054.32,1445.72 2057.17,1445.72 2060.01,1445.72 2062.86,1445.72 2065.71,1445.72 \n",
       "  2068.55,1445.72 2071.4,1445.72 2074.25,1445.72 2077.09,1445.72 2079.94,1445.72 2082.79,1445.72 2085.63,1445.72 2088.48,1445.72 2091.33,1445.72 2094.17,1445.72 \n",
       "  2097.02,1445.72 2099.87,1445.72 2102.71,1445.72 2105.56,1445.72 2108.41,1445.72 2111.25,1445.72 2114.1,1445.72 2116.95,1445.72 2119.79,1445.72 2122.64,1445.72 \n",
       "  2125.49,1445.72 2128.33,1445.72 2131.18,1445.72 2134.03,1445.72 2136.87,1445.72 2139.72,1445.72 2142.56,1445.72 2145.41,1445.72 2148.26,1445.72 2151.1,1445.72 \n",
       "  2153.95,1445.72 2156.8,1445.72 2159.64,1445.72 2162.49,1445.72 2165.34,1445.72 2168.18,1445.72 2171.03,1445.72 2173.88,1445.72 2176.72,1445.72 2179.57,1445.72 \n",
       "  2182.42,1445.72 2185.26,1445.72 2188.11,1445.72 2190.96,1445.72 2193.8,1445.72 2196.65,1445.72 2199.5,1445.72 2202.34,1445.72 2205.19,1445.72 2208.04,1445.72 \n",
       "  2210.88,1445.72 2213.73,1445.72 2216.58,1445.72 2219.42,1445.72 2222.27,1445.72 2225.12,1445.72 2227.96,1445.72 2230.81,1445.72 2233.66,1445.72 2236.5,1445.72 \n",
       "  2239.35,1445.72 2242.19,1445.72 2245.04,1445.72 2247.89,1445.72 2250.73,1445.72 2253.58,1445.72 2256.43,1445.72 2259.27,1445.72 2262.12,1445.72 2264.97,1445.72 \n",
       "  2267.81,1445.72 2270.66,1445.72 2273.51,1445.72 2276.35,1445.72 2279.2,1445.72 2282.05,1445.72 2284.89,1445.72 2287.74,1445.72 2290.59,1445.72 \n",
       "  \"/>\n",
       "<path clip-path=\"url(#clip340)\" d=\"\n",
       "M1683.36 354.418 L2279.53 354.418 L2279.53 95.2176 L1683.36 95.2176  Z\n",
       "  \" fill=\"#ffffff\" fill-rule=\"evenodd\" fill-opacity=\"1\"/>\n",
       "<polyline clip-path=\"url(#clip340)\" style=\"stroke:#000000; stroke-linecap:butt; stroke-linejoin:round; stroke-width:4; stroke-opacity:1; fill:none\" points=\"\n",
       "  1683.36,354.418 2279.53,354.418 2279.53,95.2176 1683.36,95.2176 1683.36,354.418 \n",
       "  \"/>\n",
       "<polyline clip-path=\"url(#clip340)\" style=\"stroke:#009af9; stroke-linecap:butt; stroke-linejoin:round; stroke-width:4; stroke-opacity:1; fill:none\" points=\"\n",
       "  1707.77,147.058 1854.21,147.058 \n",
       "  \"/>\n",
       "<path clip-path=\"url(#clip340)\" d=\"M1878.62 128.319 L1888.43 128.319 L1888.43 131.629 L1882.87 131.629 L1882.87 167.277 L1888.43 167.277 L1888.43 170.588 L1878.62 170.588 L1878.62 128.319 Z\" fill=\"#000000\" fill-rule=\"evenodd\" fill-opacity=\"1\" /><path clip-path=\"url(#clip340)\" d=\"M1901.53 129.778 L1901.53 142.625 L1897.6 142.625 L1897.6 129.778 L1901.53 129.778 M1910.28 129.778 L1910.28 142.625 L1906.35 142.625 L1906.35 129.778 L1910.28 129.778 Z\" fill=\"#000000\" fill-rule=\"evenodd\" fill-opacity=\"1\" /><path clip-path=\"url(#clip340)\" d=\"M1940.21 130.912 L1940.21 135.472 Q1937.55 134.199 1935.19 133.574 Q1932.83 132.949 1930.63 132.949 Q1926.81 132.949 1924.73 134.43 Q1922.67 135.912 1922.67 138.643 Q1922.67 140.935 1924.03 142.115 Q1925.42 143.273 1929.26 143.99 L1932.09 144.569 Q1937.32 145.565 1939.8 148.088 Q1942.3 150.588 1942.3 154.801 Q1942.3 159.824 1938.92 162.416 Q1935.56 165.009 1929.06 165.009 Q1926.6 165.009 1923.82 164.453 Q1921.07 163.898 1918.11 162.81 L1918.11 157.995 Q1920.95 159.592 1923.68 160.402 Q1926.42 161.213 1929.06 161.213 Q1933.06 161.213 1935.24 159.639 Q1937.41 158.064 1937.41 155.148 Q1937.41 152.602 1935.84 151.166 Q1934.29 149.731 1930.72 149.014 L1927.87 148.458 Q1922.64 147.416 1920.31 145.194 Q1917.97 142.972 1917.97 139.014 Q1917.97 134.43 1921.18 131.791 Q1924.43 129.153 1930.1 129.153 Q1932.53 129.153 1935.05 129.592 Q1937.57 130.032 1940.21 130.912 Z\" fill=\"#000000\" fill-rule=\"evenodd\" fill-opacity=\"1\" /><path clip-path=\"url(#clip340)\" d=\"M1970.95 148.689 L1970.95 164.338 L1966.69 164.338 L1966.69 148.828 Q1966.69 145.148 1965.26 143.319 Q1963.82 141.49 1960.95 141.49 Q1957.5 141.49 1955.51 143.69 Q1953.52 145.889 1953.52 149.685 L1953.52 164.338 L1949.24 164.338 L1949.24 138.412 L1953.52 138.412 L1953.52 142.44 Q1955.05 140.102 1957.11 138.944 Q1959.19 137.787 1961.9 137.787 Q1966.37 137.787 1968.66 140.565 Q1970.95 143.319 1970.95 148.689 Z\" fill=\"#000000\" fill-rule=\"evenodd\" fill-opacity=\"1\" /><path clip-path=\"url(#clip340)\" d=\"M1989.49 141.398 Q1986.07 141.398 1984.08 144.083 Q1982.09 146.745 1982.09 151.398 Q1982.09 156.051 1984.05 158.736 Q1986.05 161.398 1989.49 161.398 Q1992.9 161.398 1994.89 158.713 Q1996.88 156.027 1996.88 151.398 Q1996.88 146.791 1994.89 144.106 Q1992.9 141.398 1989.49 141.398 M1989.49 137.787 Q1995.05 137.787 1998.22 141.398 Q2001.39 145.009 2001.39 151.398 Q2001.39 157.764 1998.22 161.398 Q1995.05 165.009 1989.49 165.009 Q1983.92 165.009 1980.74 161.398 Q1977.6 157.764 1977.6 151.398 Q1977.6 145.009 1980.74 141.398 Q1983.92 137.787 1989.49 137.787 Z\" fill=\"#000000\" fill-rule=\"evenodd\" fill-opacity=\"1\" /><path clip-path=\"url(#clip340)\" d=\"M2005.98 138.412 L2010.24 138.412 L2015.56 158.643 L2020.86 138.412 L2025.88 138.412 L2031.21 158.643 L2036.51 138.412 L2040.77 138.412 L2033.99 164.338 L2028.96 164.338 L2023.38 143.088 L2017.78 164.338 L2012.76 164.338 L2005.98 138.412 Z\" fill=\"#000000\" fill-rule=\"evenodd\" fill-opacity=\"1\" /><path clip-path=\"url(#clip340)\" d=\"M2066.92 160.402 L2083.24 160.402 L2083.24 164.338 L2061.3 164.338 L2061.3 160.402 Q2063.96 157.648 2068.55 153.018 Q2073.15 148.365 2074.33 147.023 Q2076.58 144.5 2077.46 142.764 Q2078.36 141.004 2078.36 139.315 Q2078.36 136.56 2076.42 134.824 Q2074.49 133.088 2071.39 133.088 Q2069.19 133.088 2066.74 133.852 Q2064.31 134.615 2061.53 136.166 L2061.53 131.444 Q2064.36 130.31 2066.81 129.731 Q2069.26 129.153 2071.3 129.153 Q2076.67 129.153 2079.86 131.838 Q2083.06 134.523 2083.06 139.014 Q2083.06 141.143 2082.25 143.065 Q2081.46 144.963 2079.36 147.555 Q2078.78 148.227 2075.67 151.444 Q2072.57 154.639 2066.92 160.402 Z\" fill=\"#000000\" fill-rule=\"evenodd\" fill-opacity=\"1\" /><path clip-path=\"url(#clip340)\" d=\"M2093.11 129.778 L2111.46 129.778 L2111.46 133.713 L2097.39 133.713 L2097.39 142.185 Q2098.41 141.838 2099.42 141.676 Q2100.44 141.49 2101.46 141.49 Q2107.25 141.49 2110.63 144.662 Q2114.01 147.833 2114.01 153.25 Q2114.01 158.828 2110.54 161.93 Q2107.06 165.009 2100.74 165.009 Q2098.57 165.009 2096.3 164.638 Q2094.05 164.268 2091.65 163.527 L2091.65 158.828 Q2093.73 159.963 2095.95 160.518 Q2098.17 161.074 2100.65 161.074 Q2104.66 161.074 2106.99 158.967 Q2109.33 156.861 2109.33 153.25 Q2109.33 149.639 2106.99 147.532 Q2104.66 145.426 2100.65 145.426 Q2098.78 145.426 2096.9 145.842 Q2095.05 146.259 2093.11 147.139 L2093.11 129.778 Z\" fill=\"#000000\" fill-rule=\"evenodd\" fill-opacity=\"1\" /><path clip-path=\"url(#clip340)\" d=\"M2133.22 132.856 Q2129.61 132.856 2127.78 136.421 Q2125.98 139.963 2125.98 147.092 Q2125.98 154.199 2127.78 157.764 Q2129.61 161.305 2133.22 161.305 Q2136.85 161.305 2138.66 157.764 Q2140.49 154.199 2140.49 147.092 Q2140.49 139.963 2138.66 136.421 Q2136.85 132.856 2133.22 132.856 M2133.22 129.153 Q2139.03 129.153 2142.09 133.759 Q2145.17 138.342 2145.17 147.092 Q2145.17 155.819 2142.09 160.426 Q2139.03 165.009 2133.22 165.009 Q2127.41 165.009 2124.33 160.426 Q2121.28 155.819 2121.28 147.092 Q2121.28 138.342 2124.33 133.759 Q2127.41 129.153 2133.22 129.153 Z\" fill=\"#000000\" fill-rule=\"evenodd\" fill-opacity=\"1\" /><path clip-path=\"url(#clip340)\" d=\"M2172.97 143.389 Q2174.56 140.518 2176.79 139.153 Q2179.01 137.787 2182.02 137.787 Q2186.07 137.787 2188.27 140.634 Q2190.47 143.458 2190.47 148.689 L2190.47 164.338 L2186.18 164.338 L2186.18 148.828 Q2186.18 145.102 2184.86 143.296 Q2183.54 141.49 2180.84 141.49 Q2177.53 141.49 2175.6 143.69 Q2173.68 145.889 2173.68 149.685 L2173.68 164.338 L2169.4 164.338 L2169.4 148.828 Q2169.4 145.078 2168.08 143.296 Q2166.76 141.49 2164.01 141.49 Q2160.74 141.49 2158.82 143.713 Q2156.9 145.912 2156.9 149.685 L2156.9 164.338 L2152.62 164.338 L2152.62 138.412 L2156.9 138.412 L2156.9 142.44 Q2158.36 140.055 2160.4 138.921 Q2162.43 137.787 2165.23 137.787 Q2168.06 137.787 2170.03 139.222 Q2172.02 140.657 2172.97 143.389 Z\" fill=\"#000000\" fill-rule=\"evenodd\" fill-opacity=\"1\" /><path clip-path=\"url(#clip340)\" d=\"M2202.99 129.778 L2202.99 142.625 L2199.05 142.625 L2199.05 129.778 L2202.99 129.778 M2211.74 129.778 L2211.74 142.625 L2207.8 142.625 L2207.8 129.778 L2211.74 129.778 Z\" fill=\"#000000\" fill-rule=\"evenodd\" fill-opacity=\"1\" /><path clip-path=\"url(#clip340)\" d=\"M2230.72 128.319 L2230.72 170.588 L2220.91 170.588 L2220.91 167.277 L2226.44 167.277 L2226.44 131.629 L2220.91 131.629 L2220.91 128.319 L2230.72 128.319 Z\" fill=\"#000000\" fill-rule=\"evenodd\" fill-opacity=\"1\" /><polyline clip-path=\"url(#clip340)\" style=\"stroke:#e26f46; stroke-linecap:butt; stroke-linejoin:round; stroke-width:4; stroke-opacity:1; fill:none\" points=\"\n",
       "  1707.77,198.898 1854.21,198.898 \n",
       "  \"/>\n",
       "<path clip-path=\"url(#clip340)\" d=\"M1878.62 180.159 L1888.43 180.159 L1888.43 183.469 L1882.87 183.469 L1882.87 219.117 L1888.43 219.117 L1888.43 222.428 L1878.62 222.428 L1878.62 180.159 Z\" fill=\"#000000\" fill-rule=\"evenodd\" fill-opacity=\"1\" /><path clip-path=\"url(#clip340)\" d=\"M1901.53 181.618 L1901.53 194.465 L1897.6 194.465 L1897.6 181.618 L1901.53 181.618 M1910.28 181.618 L1910.28 194.465 L1906.35 194.465 L1906.35 181.618 L1910.28 181.618 Z\" fill=\"#000000\" fill-rule=\"evenodd\" fill-opacity=\"1\" /><path clip-path=\"url(#clip340)\" d=\"M1940.21 182.752 L1940.21 187.312 Q1937.55 186.039 1935.19 185.414 Q1932.83 184.789 1930.63 184.789 Q1926.81 184.789 1924.73 186.27 Q1922.67 187.752 1922.67 190.483 Q1922.67 192.775 1924.03 193.955 Q1925.42 195.113 1929.26 195.83 L1932.09 196.409 Q1937.32 197.405 1939.8 199.928 Q1942.3 202.428 1942.3 206.641 Q1942.3 211.664 1938.92 214.256 Q1935.56 216.849 1929.06 216.849 Q1926.6 216.849 1923.82 216.293 Q1921.07 215.738 1918.11 214.65 L1918.11 209.835 Q1920.95 211.432 1923.68 212.242 Q1926.42 213.053 1929.06 213.053 Q1933.06 213.053 1935.24 211.479 Q1937.41 209.904 1937.41 206.988 Q1937.41 204.442 1935.84 203.006 Q1934.29 201.571 1930.72 200.854 L1927.87 200.298 Q1922.64 199.256 1920.31 197.034 Q1917.97 194.812 1917.97 190.854 Q1917.97 186.27 1921.18 183.631 Q1924.43 180.993 1930.1 180.993 Q1932.53 180.993 1935.05 181.432 Q1937.57 181.872 1940.21 182.752 Z\" fill=\"#000000\" fill-rule=\"evenodd\" fill-opacity=\"1\" /><path clip-path=\"url(#clip340)\" d=\"M1970.95 200.529 L1970.95 216.178 L1966.69 216.178 L1966.69 200.668 Q1966.69 196.988 1965.26 195.159 Q1963.82 193.33 1960.95 193.33 Q1957.5 193.33 1955.51 195.53 Q1953.52 197.729 1953.52 201.525 L1953.52 216.178 L1949.24 216.178 L1949.24 190.252 L1953.52 190.252 L1953.52 194.28 Q1955.05 191.942 1957.11 190.784 Q1959.19 189.627 1961.9 189.627 Q1966.37 189.627 1968.66 192.405 Q1970.95 195.159 1970.95 200.529 Z\" fill=\"#000000\" fill-rule=\"evenodd\" fill-opacity=\"1\" /><path clip-path=\"url(#clip340)\" d=\"M1989.49 193.238 Q1986.07 193.238 1984.08 195.923 Q1982.09 198.585 1982.09 203.238 Q1982.09 207.891 1984.05 210.576 Q1986.05 213.238 1989.49 213.238 Q1992.9 213.238 1994.89 210.553 Q1996.88 207.867 1996.88 203.238 Q1996.88 198.631 1994.89 195.946 Q1992.9 193.238 1989.49 193.238 M1989.49 189.627 Q1995.05 189.627 1998.22 193.238 Q2001.39 196.849 2001.39 203.238 Q2001.39 209.604 1998.22 213.238 Q1995.05 216.849 1989.49 216.849 Q1983.92 216.849 1980.74 213.238 Q1977.6 209.604 1977.6 203.238 Q1977.6 196.849 1980.74 193.238 Q1983.92 189.627 1989.49 189.627 Z\" fill=\"#000000\" fill-rule=\"evenodd\" fill-opacity=\"1\" /><path clip-path=\"url(#clip340)\" d=\"M2005.98 190.252 L2010.24 190.252 L2015.56 210.483 L2020.86 190.252 L2025.88 190.252 L2031.21 210.483 L2036.51 190.252 L2040.77 190.252 L2033.99 216.178 L2028.96 216.178 L2023.38 194.928 L2017.78 216.178 L2012.76 216.178 L2005.98 190.252 Z\" fill=\"#000000\" fill-rule=\"evenodd\" fill-opacity=\"1\" /><path clip-path=\"url(#clip340)\" d=\"M2077.06 197.543 Q2080.42 198.261 2082.3 200.529 Q2084.19 202.798 2084.19 206.131 Q2084.19 211.247 2080.67 214.048 Q2077.16 216.849 2070.67 216.849 Q2068.5 216.849 2066.18 216.409 Q2063.89 215.992 2061.44 215.136 L2061.44 210.622 Q2063.38 211.756 2065.7 212.335 Q2068.01 212.914 2070.54 212.914 Q2074.93 212.914 2077.23 211.178 Q2079.54 209.441 2079.54 206.131 Q2079.54 203.076 2077.39 201.363 Q2075.26 199.627 2071.44 199.627 L2067.41 199.627 L2067.41 195.784 L2071.62 195.784 Q2075.07 195.784 2076.9 194.418 Q2078.73 193.03 2078.73 190.437 Q2078.73 187.775 2076.83 186.363 Q2074.96 184.928 2071.44 184.928 Q2069.52 184.928 2067.32 185.344 Q2065.12 185.761 2062.48 186.641 L2062.48 182.474 Q2065.14 181.733 2067.46 181.363 Q2069.8 180.993 2071.86 180.993 Q2077.18 180.993 2080.28 183.423 Q2083.38 185.83 2083.38 189.951 Q2083.38 192.821 2081.74 194.812 Q2080.1 196.78 2077.06 197.543 Z\" fill=\"#000000\" fill-rule=\"evenodd\" fill-opacity=\"1\" /><path clip-path=\"url(#clip340)\" d=\"M2103.06 184.696 Q2099.45 184.696 2097.62 188.261 Q2095.81 191.803 2095.81 198.932 Q2095.81 206.039 2097.62 209.604 Q2099.45 213.145 2103.06 213.145 Q2106.69 213.145 2108.5 209.604 Q2110.33 206.039 2110.33 198.932 Q2110.33 191.803 2108.5 188.261 Q2106.69 184.696 2103.06 184.696 M2103.06 180.993 Q2108.87 180.993 2111.92 185.599 Q2115 190.182 2115 198.932 Q2115 207.659 2111.92 212.266 Q2108.87 216.849 2103.06 216.849 Q2097.25 216.849 2094.17 212.266 Q2091.11 207.659 2091.11 198.932 Q2091.11 190.182 2094.17 185.599 Q2097.25 180.993 2103.06 180.993 Z\" fill=\"#000000\" fill-rule=\"evenodd\" fill-opacity=\"1\" /><path clip-path=\"url(#clip340)\" d=\"M2133.22 184.696 Q2129.61 184.696 2127.78 188.261 Q2125.98 191.803 2125.98 198.932 Q2125.98 206.039 2127.78 209.604 Q2129.61 213.145 2133.22 213.145 Q2136.85 213.145 2138.66 209.604 Q2140.49 206.039 2140.49 198.932 Q2140.49 191.803 2138.66 188.261 Q2136.85 184.696 2133.22 184.696 M2133.22 180.993 Q2139.03 180.993 2142.09 185.599 Q2145.17 190.182 2145.17 198.932 Q2145.17 207.659 2142.09 212.266 Q2139.03 216.849 2133.22 216.849 Q2127.41 216.849 2124.33 212.266 Q2121.28 207.659 2121.28 198.932 Q2121.28 190.182 2124.33 185.599 Q2127.41 180.993 2133.22 180.993 Z\" fill=\"#000000\" fill-rule=\"evenodd\" fill-opacity=\"1\" /><path clip-path=\"url(#clip340)\" d=\"M2172.97 195.229 Q2174.56 192.358 2176.79 190.993 Q2179.01 189.627 2182.02 189.627 Q2186.07 189.627 2188.27 192.474 Q2190.47 195.298 2190.47 200.529 L2190.47 216.178 L2186.18 216.178 L2186.18 200.668 Q2186.18 196.942 2184.86 195.136 Q2183.54 193.33 2180.84 193.33 Q2177.53 193.33 2175.6 195.53 Q2173.68 197.729 2173.68 201.525 L2173.68 216.178 L2169.4 216.178 L2169.4 200.668 Q2169.4 196.918 2168.08 195.136 Q2166.76 193.33 2164.01 193.33 Q2160.74 193.33 2158.82 195.553 Q2156.9 197.752 2156.9 201.525 L2156.9 216.178 L2152.62 216.178 L2152.62 190.252 L2156.9 190.252 L2156.9 194.28 Q2158.36 191.895 2160.4 190.761 Q2162.43 189.627 2165.23 189.627 Q2168.06 189.627 2170.03 191.062 Q2172.02 192.497 2172.97 195.229 Z\" fill=\"#000000\" fill-rule=\"evenodd\" fill-opacity=\"1\" /><path clip-path=\"url(#clip340)\" d=\"M2202.99 181.618 L2202.99 194.465 L2199.05 194.465 L2199.05 181.618 L2202.99 181.618 M2211.74 181.618 L2211.74 194.465 L2207.8 194.465 L2207.8 181.618 L2211.74 181.618 Z\" fill=\"#000000\" fill-rule=\"evenodd\" fill-opacity=\"1\" /><path clip-path=\"url(#clip340)\" d=\"M2230.72 180.159 L2230.72 222.428 L2220.91 222.428 L2220.91 219.117 L2226.44 219.117 L2226.44 183.469 L2220.91 183.469 L2220.91 180.159 L2230.72 180.159 Z\" fill=\"#000000\" fill-rule=\"evenodd\" fill-opacity=\"1\" /><polyline clip-path=\"url(#clip340)\" style=\"stroke:#3da44d; stroke-linecap:butt; stroke-linejoin:round; stroke-width:4; stroke-opacity:1; fill:none\" points=\"\n",
       "  1707.77,250.738 1854.21,250.738 \n",
       "  \"/>\n",
       "<path clip-path=\"url(#clip340)\" d=\"M1878.62 231.999 L1888.43 231.999 L1888.43 235.309 L1882.87 235.309 L1882.87 270.957 L1888.43 270.957 L1888.43 274.268 L1878.62 274.268 L1878.62 231.999 Z\" fill=\"#000000\" fill-rule=\"evenodd\" fill-opacity=\"1\" /><path clip-path=\"url(#clip340)\" d=\"M1901.53 233.458 L1901.53 246.305 L1897.6 246.305 L1897.6 233.458 L1901.53 233.458 M1910.28 233.458 L1910.28 246.305 L1906.35 246.305 L1906.35 233.458 L1910.28 233.458 Z\" fill=\"#000000\" fill-rule=\"evenodd\" fill-opacity=\"1\" /><path clip-path=\"url(#clip340)\" d=\"M1940.21 234.592 L1940.21 239.152 Q1937.55 237.879 1935.19 237.254 Q1932.83 236.629 1930.63 236.629 Q1926.81 236.629 1924.73 238.11 Q1922.67 239.592 1922.67 242.323 Q1922.67 244.615 1924.03 245.795 Q1925.42 246.953 1929.26 247.67 L1932.09 248.249 Q1937.32 249.245 1939.8 251.768 Q1942.3 254.268 1942.3 258.481 Q1942.3 263.504 1938.92 266.096 Q1935.56 268.689 1929.06 268.689 Q1926.6 268.689 1923.82 268.133 Q1921.07 267.578 1918.11 266.49 L1918.11 261.675 Q1920.95 263.272 1923.68 264.082 Q1926.42 264.893 1929.06 264.893 Q1933.06 264.893 1935.24 263.319 Q1937.41 261.744 1937.41 258.828 Q1937.41 256.282 1935.84 254.846 Q1934.29 253.411 1930.72 252.694 L1927.87 252.138 Q1922.64 251.096 1920.31 248.874 Q1917.97 246.652 1917.97 242.694 Q1917.97 238.11 1921.18 235.471 Q1924.43 232.833 1930.1 232.833 Q1932.53 232.833 1935.05 233.272 Q1937.57 233.712 1940.21 234.592 Z\" fill=\"#000000\" fill-rule=\"evenodd\" fill-opacity=\"1\" /><path clip-path=\"url(#clip340)\" d=\"M1970.95 252.369 L1970.95 268.018 L1966.69 268.018 L1966.69 252.508 Q1966.69 248.828 1965.26 246.999 Q1963.82 245.17 1960.95 245.17 Q1957.5 245.17 1955.51 247.37 Q1953.52 249.569 1953.52 253.365 L1953.52 268.018 L1949.24 268.018 L1949.24 242.092 L1953.52 242.092 L1953.52 246.12 Q1955.05 243.782 1957.11 242.624 Q1959.19 241.467 1961.9 241.467 Q1966.37 241.467 1968.66 244.245 Q1970.95 246.999 1970.95 252.369 Z\" fill=\"#000000\" fill-rule=\"evenodd\" fill-opacity=\"1\" /><path clip-path=\"url(#clip340)\" d=\"M1989.49 245.078 Q1986.07 245.078 1984.08 247.763 Q1982.09 250.425 1982.09 255.078 Q1982.09 259.731 1984.05 262.416 Q1986.05 265.078 1989.49 265.078 Q1992.9 265.078 1994.89 262.393 Q1996.88 259.707 1996.88 255.078 Q1996.88 250.471 1994.89 247.786 Q1992.9 245.078 1989.49 245.078 M1989.49 241.467 Q1995.05 241.467 1998.22 245.078 Q2001.39 248.689 2001.39 255.078 Q2001.39 261.444 1998.22 265.078 Q1995.05 268.689 1989.49 268.689 Q1983.92 268.689 1980.74 265.078 Q1977.6 261.444 1977.6 255.078 Q1977.6 248.689 1980.74 245.078 Q1983.92 241.467 1989.49 241.467 Z\" fill=\"#000000\" fill-rule=\"evenodd\" fill-opacity=\"1\" /><path clip-path=\"url(#clip340)\" d=\"M2005.98 242.092 L2010.24 242.092 L2015.56 262.323 L2020.86 242.092 L2025.88 242.092 L2031.21 262.323 L2036.51 242.092 L2040.77 242.092 L2033.99 268.018 L2028.96 268.018 L2023.38 246.768 L2017.78 268.018 L2012.76 268.018 L2005.98 242.092 Z\" fill=\"#000000\" fill-rule=\"evenodd\" fill-opacity=\"1\" /><path clip-path=\"url(#clip340)\" d=\"M2077.06 249.383 Q2080.42 250.101 2082.3 252.369 Q2084.19 254.638 2084.19 257.971 Q2084.19 263.087 2080.67 265.888 Q2077.16 268.689 2070.67 268.689 Q2068.5 268.689 2066.18 268.249 Q2063.89 267.832 2061.44 266.976 L2061.44 262.462 Q2063.38 263.596 2065.7 264.175 Q2068.01 264.754 2070.54 264.754 Q2074.93 264.754 2077.23 263.018 Q2079.54 261.281 2079.54 257.971 Q2079.54 254.916 2077.39 253.203 Q2075.26 251.467 2071.44 251.467 L2067.41 251.467 L2067.41 247.624 L2071.62 247.624 Q2075.07 247.624 2076.9 246.258 Q2078.73 244.87 2078.73 242.277 Q2078.73 239.615 2076.83 238.203 Q2074.96 236.768 2071.44 236.768 Q2069.52 236.768 2067.32 237.184 Q2065.12 237.601 2062.48 238.481 L2062.48 234.314 Q2065.14 233.573 2067.46 233.203 Q2069.8 232.833 2071.86 232.833 Q2077.18 232.833 2080.28 235.263 Q2083.38 237.67 2083.38 241.791 Q2083.38 244.661 2081.74 246.652 Q2080.1 248.62 2077.06 249.383 Z\" fill=\"#000000\" fill-rule=\"evenodd\" fill-opacity=\"1\" /><path clip-path=\"url(#clip340)\" d=\"M2093.11 233.458 L2111.46 233.458 L2111.46 237.393 L2097.39 237.393 L2097.39 245.865 Q2098.41 245.518 2099.42 245.356 Q2100.44 245.17 2101.46 245.17 Q2107.25 245.17 2110.63 248.342 Q2114.01 251.513 2114.01 256.93 Q2114.01 262.508 2110.54 265.61 Q2107.06 268.689 2100.74 268.689 Q2098.57 268.689 2096.3 268.318 Q2094.05 267.948 2091.65 267.207 L2091.65 262.508 Q2093.73 263.643 2095.95 264.198 Q2098.17 264.754 2100.65 264.754 Q2104.66 264.754 2106.99 262.647 Q2109.33 260.541 2109.33 256.93 Q2109.33 253.319 2106.99 251.212 Q2104.66 249.106 2100.65 249.106 Q2098.78 249.106 2096.9 249.522 Q2095.05 249.939 2093.11 250.819 L2093.11 233.458 Z\" fill=\"#000000\" fill-rule=\"evenodd\" fill-opacity=\"1\" /><path clip-path=\"url(#clip340)\" d=\"M2133.22 236.536 Q2129.61 236.536 2127.78 240.101 Q2125.98 243.643 2125.98 250.772 Q2125.98 257.879 2127.78 261.444 Q2129.61 264.985 2133.22 264.985 Q2136.85 264.985 2138.66 261.444 Q2140.49 257.879 2140.49 250.772 Q2140.49 243.643 2138.66 240.101 Q2136.85 236.536 2133.22 236.536 M2133.22 232.833 Q2139.03 232.833 2142.09 237.439 Q2145.17 242.022 2145.17 250.772 Q2145.17 259.499 2142.09 264.106 Q2139.03 268.689 2133.22 268.689 Q2127.41 268.689 2124.33 264.106 Q2121.28 259.499 2121.28 250.772 Q2121.28 242.022 2124.33 237.439 Q2127.41 232.833 2133.22 232.833 Z\" fill=\"#000000\" fill-rule=\"evenodd\" fill-opacity=\"1\" /><path clip-path=\"url(#clip340)\" d=\"M2172.97 247.069 Q2174.56 244.198 2176.79 242.833 Q2179.01 241.467 2182.02 241.467 Q2186.07 241.467 2188.27 244.314 Q2190.47 247.138 2190.47 252.369 L2190.47 268.018 L2186.18 268.018 L2186.18 252.508 Q2186.18 248.782 2184.86 246.976 Q2183.54 245.17 2180.84 245.17 Q2177.53 245.17 2175.6 247.37 Q2173.68 249.569 2173.68 253.365 L2173.68 268.018 L2169.4 268.018 L2169.4 252.508 Q2169.4 248.758 2168.08 246.976 Q2166.76 245.17 2164.01 245.17 Q2160.74 245.17 2158.82 247.393 Q2156.9 249.592 2156.9 253.365 L2156.9 268.018 L2152.62 268.018 L2152.62 242.092 L2156.9 242.092 L2156.9 246.12 Q2158.36 243.735 2160.4 242.601 Q2162.43 241.467 2165.23 241.467 Q2168.06 241.467 2170.03 242.902 Q2172.02 244.337 2172.97 247.069 Z\" fill=\"#000000\" fill-rule=\"evenodd\" fill-opacity=\"1\" /><path clip-path=\"url(#clip340)\" d=\"M2202.99 233.458 L2202.99 246.305 L2199.05 246.305 L2199.05 233.458 L2202.99 233.458 M2211.74 233.458 L2211.74 246.305 L2207.8 246.305 L2207.8 233.458 L2211.74 233.458 Z\" fill=\"#000000\" fill-rule=\"evenodd\" fill-opacity=\"1\" /><path clip-path=\"url(#clip340)\" d=\"M2230.72 231.999 L2230.72 274.268 L2220.91 274.268 L2220.91 270.957 L2226.44 270.957 L2226.44 235.309 L2220.91 235.309 L2220.91 231.999 L2230.72 231.999 Z\" fill=\"#000000\" fill-rule=\"evenodd\" fill-opacity=\"1\" /><polyline clip-path=\"url(#clip340)\" style=\"stroke:#c271d2; stroke-linecap:butt; stroke-linejoin:round; stroke-width:4; stroke-opacity:1; fill:none\" points=\"\n",
       "  1707.77,302.578 1854.21,302.578 \n",
       "  \"/>\n",
       "<path clip-path=\"url(#clip340)\" d=\"M1878.62 283.839 L1888.43 283.839 L1888.43 287.149 L1882.87 287.149 L1882.87 322.797 L1888.43 322.797 L1888.43 326.108 L1878.62 326.108 L1878.62 283.839 Z\" fill=\"#000000\" fill-rule=\"evenodd\" fill-opacity=\"1\" /><path clip-path=\"url(#clip340)\" d=\"M1901.53 285.298 L1901.53 298.145 L1897.6 298.145 L1897.6 285.298 L1901.53 285.298 M1910.28 285.298 L1910.28 298.145 L1906.35 298.145 L1906.35 285.298 L1910.28 285.298 Z\" fill=\"#000000\" fill-rule=\"evenodd\" fill-opacity=\"1\" /><path clip-path=\"url(#clip340)\" d=\"M1940.21 286.432 L1940.21 290.992 Q1937.55 289.719 1935.19 289.094 Q1932.83 288.469 1930.63 288.469 Q1926.81 288.469 1924.73 289.95 Q1922.67 291.432 1922.67 294.163 Q1922.67 296.455 1924.03 297.635 Q1925.42 298.793 1929.26 299.51 L1932.09 300.089 Q1937.32 301.085 1939.8 303.608 Q1942.3 306.108 1942.3 310.321 Q1942.3 315.344 1938.92 317.936 Q1935.56 320.529 1929.06 320.529 Q1926.6 320.529 1923.82 319.973 Q1921.07 319.418 1918.11 318.33 L1918.11 313.515 Q1920.95 315.112 1923.68 315.922 Q1926.42 316.733 1929.06 316.733 Q1933.06 316.733 1935.24 315.159 Q1937.41 313.584 1937.41 310.668 Q1937.41 308.122 1935.84 306.686 Q1934.29 305.251 1930.72 304.534 L1927.87 303.978 Q1922.64 302.936 1920.31 300.714 Q1917.97 298.492 1917.97 294.534 Q1917.97 289.95 1921.18 287.311 Q1924.43 284.673 1930.1 284.673 Q1932.53 284.673 1935.05 285.112 Q1937.57 285.552 1940.21 286.432 Z\" fill=\"#000000\" fill-rule=\"evenodd\" fill-opacity=\"1\" /><path clip-path=\"url(#clip340)\" d=\"M1970.95 304.209 L1970.95 319.858 L1966.69 319.858 L1966.69 304.348 Q1966.69 300.668 1965.26 298.839 Q1963.82 297.01 1960.95 297.01 Q1957.5 297.01 1955.51 299.21 Q1953.52 301.409 1953.52 305.205 L1953.52 319.858 L1949.24 319.858 L1949.24 293.932 L1953.52 293.932 L1953.52 297.96 Q1955.05 295.622 1957.11 294.464 Q1959.19 293.307 1961.9 293.307 Q1966.37 293.307 1968.66 296.085 Q1970.95 298.839 1970.95 304.209 Z\" fill=\"#000000\" fill-rule=\"evenodd\" fill-opacity=\"1\" /><path clip-path=\"url(#clip340)\" d=\"M1989.49 296.918 Q1986.07 296.918 1984.08 299.603 Q1982.09 302.265 1982.09 306.918 Q1982.09 311.571 1984.05 314.256 Q1986.05 316.918 1989.49 316.918 Q1992.9 316.918 1994.89 314.233 Q1996.88 311.547 1996.88 306.918 Q1996.88 302.311 1994.89 299.626 Q1992.9 296.918 1989.49 296.918 M1989.49 293.307 Q1995.05 293.307 1998.22 296.918 Q2001.39 300.529 2001.39 306.918 Q2001.39 313.284 1998.22 316.918 Q1995.05 320.529 1989.49 320.529 Q1983.92 320.529 1980.74 316.918 Q1977.6 313.284 1977.6 306.918 Q1977.6 300.529 1980.74 296.918 Q1983.92 293.307 1989.49 293.307 Z\" fill=\"#000000\" fill-rule=\"evenodd\" fill-opacity=\"1\" /><path clip-path=\"url(#clip340)\" d=\"M2005.98 293.932 L2010.24 293.932 L2015.56 314.163 L2020.86 293.932 L2025.88 293.932 L2031.21 314.163 L2036.51 293.932 L2040.77 293.932 L2033.99 319.858 L2028.96 319.858 L2023.38 298.608 L2017.78 319.858 L2012.76 319.858 L2005.98 293.932 Z\" fill=\"#000000\" fill-rule=\"evenodd\" fill-opacity=\"1\" /><path clip-path=\"url(#clip340)\" d=\"M2075.74 289.372 L2063.94 307.821 L2075.74 307.821 L2075.74 289.372 M2074.52 285.298 L2080.4 285.298 L2080.4 307.821 L2085.33 307.821 L2085.33 311.709 L2080.4 311.709 L2080.4 319.858 L2075.74 319.858 L2075.74 311.709 L2060.14 311.709 L2060.14 307.196 L2074.52 285.298 Z\" fill=\"#000000\" fill-rule=\"evenodd\" fill-opacity=\"1\" /><path clip-path=\"url(#clip340)\" d=\"M2103.06 288.376 Q2099.45 288.376 2097.62 291.941 Q2095.81 295.483 2095.81 302.612 Q2095.81 309.719 2097.62 313.284 Q2099.45 316.825 2103.06 316.825 Q2106.69 316.825 2108.5 313.284 Q2110.33 309.719 2110.33 302.612 Q2110.33 295.483 2108.5 291.941 Q2106.69 288.376 2103.06 288.376 M2103.06 284.673 Q2108.87 284.673 2111.92 289.279 Q2115 293.862 2115 302.612 Q2115 311.339 2111.92 315.946 Q2108.87 320.529 2103.06 320.529 Q2097.25 320.529 2094.17 315.946 Q2091.11 311.339 2091.11 302.612 Q2091.11 293.862 2094.17 289.279 Q2097.25 284.673 2103.06 284.673 Z\" fill=\"#000000\" fill-rule=\"evenodd\" fill-opacity=\"1\" /><path clip-path=\"url(#clip340)\" d=\"M2133.22 288.376 Q2129.61 288.376 2127.78 291.941 Q2125.98 295.483 2125.98 302.612 Q2125.98 309.719 2127.78 313.284 Q2129.61 316.825 2133.22 316.825 Q2136.85 316.825 2138.66 313.284 Q2140.49 309.719 2140.49 302.612 Q2140.49 295.483 2138.66 291.941 Q2136.85 288.376 2133.22 288.376 M2133.22 284.673 Q2139.03 284.673 2142.09 289.279 Q2145.17 293.862 2145.17 302.612 Q2145.17 311.339 2142.09 315.946 Q2139.03 320.529 2133.22 320.529 Q2127.41 320.529 2124.33 315.946 Q2121.28 311.339 2121.28 302.612 Q2121.28 293.862 2124.33 289.279 Q2127.41 284.673 2133.22 284.673 Z\" fill=\"#000000\" fill-rule=\"evenodd\" fill-opacity=\"1\" /><path clip-path=\"url(#clip340)\" d=\"M2172.97 298.909 Q2174.56 296.038 2176.79 294.673 Q2179.01 293.307 2182.02 293.307 Q2186.07 293.307 2188.27 296.154 Q2190.47 298.978 2190.47 304.209 L2190.47 319.858 L2186.18 319.858 L2186.18 304.348 Q2186.18 300.622 2184.86 298.816 Q2183.54 297.01 2180.84 297.01 Q2177.53 297.01 2175.6 299.21 Q2173.68 301.409 2173.68 305.205 L2173.68 319.858 L2169.4 319.858 L2169.4 304.348 Q2169.4 300.598 2168.08 298.816 Q2166.76 297.01 2164.01 297.01 Q2160.74 297.01 2158.82 299.233 Q2156.9 301.432 2156.9 305.205 L2156.9 319.858 L2152.62 319.858 L2152.62 293.932 L2156.9 293.932 L2156.9 297.96 Q2158.36 295.575 2160.4 294.441 Q2162.43 293.307 2165.23 293.307 Q2168.06 293.307 2170.03 294.742 Q2172.02 296.177 2172.97 298.909 Z\" fill=\"#000000\" fill-rule=\"evenodd\" fill-opacity=\"1\" /><path clip-path=\"url(#clip340)\" d=\"M2202.99 285.298 L2202.99 298.145 L2199.05 298.145 L2199.05 285.298 L2202.99 285.298 M2211.74 285.298 L2211.74 298.145 L2207.8 298.145 L2207.8 285.298 L2211.74 285.298 Z\" fill=\"#000000\" fill-rule=\"evenodd\" fill-opacity=\"1\" /><path clip-path=\"url(#clip340)\" d=\"M2230.72 283.839 L2230.72 326.108 L2220.91 326.108 L2220.91 322.797 L2226.44 322.797 L2226.44 287.149 L2220.91 287.149 L2220.91 283.839 L2230.72 283.839 Z\" fill=\"#000000\" fill-rule=\"evenodd\" fill-opacity=\"1\" /></svg>\n"
      ]
     },
     "execution_count": 38,
     "metadata": {},
     "output_type": "execute_result"
    }
   ],
   "source": [
    "plot()\n",
    "plot!(Snow1, label=[\"Snow 250m\"], lw=1)\n",
    "plot!(Snow2, label=[\"Snow 300m\"], lw=1)\n",
    "plot!(Snow3, label=[\"Snow 350m\"], lw=1)\n",
    "plot!(Snow4, label=[\"Snow 400m\"], lw=1.5)"
   ]
  },
  {
   "cell_type": "code",
   "execution_count": 39,
   "metadata": {},
   "outputs": [
    {
     "data": {
      "text/plain": [
       "(92.25, 36.8, 31.03333333333334, 52.0)"
      ]
     },
     "execution_count": 39,
     "metadata": {},
     "output_type": "execute_result"
    }
   ],
   "source": [
    "sum(Snow1), sum(Snow2), sum(Snow3), sum(Snow4)"
   ]
  },
  {
   "cell_type": "code",
   "execution_count": 40,
   "metadata": {},
   "outputs": [
    {
     "data": {
      "text/plain": [
       "(92.25, 36.8, 31.03333333333334, 52.0)"
      ]
     },
     "execution_count": 40,
     "metadata": {},
     "output_type": "execute_result"
    }
   ],
   "source": [
    "sum(Snow1), sum(Snow2), sum(Snow3), sum(Snow4)"
   ]
  },
  {
   "cell_type": "code",
   "execution_count": 41,
   "metadata": {},
   "outputs": [
    {
     "data": {
      "text/plain": [
       "(92.25, 36.8, 31.03333333333334, 52.0)"
      ]
     },
     "execution_count": 41,
     "metadata": {},
     "output_type": "execute_result"
    }
   ],
   "source": [
    "sum(Snow1), sum(Snow2), sum(Snow3), sum(Snow4)"
   ]
  },
  {
   "cell_type": "code",
   "execution_count": null,
   "metadata": {},
   "outputs": [],
   "source": []
  },
  {
   "cell_type": "code",
   "execution_count": null,
   "metadata": {},
   "outputs": [],
   "source": []
  },
  {
   "cell_type": "code",
   "execution_count": null,
   "metadata": {},
   "outputs": [],
   "source": []
  },
  {
   "cell_type": "code",
   "execution_count": null,
   "metadata": {},
   "outputs": [],
   "source": []
  },
  {
   "cell_type": "code",
   "execution_count": null,
   "metadata": {},
   "outputs": [],
   "source": []
  },
  {
   "cell_type": "code",
   "execution_count": null,
   "metadata": {},
   "outputs": [],
   "source": []
  },
  {
   "cell_type": "code",
   "execution_count": null,
   "metadata": {},
   "outputs": [],
   "source": []
  }
 ],
 "metadata": {
  "kernelspec": {
   "display_name": "Julia nodeps 1.7.3",
   "language": "julia",
   "name": "julia-nodeps-1.7"
  },
  "language_info": {
   "file_extension": ".jl",
   "mimetype": "application/julia",
   "name": "julia",
   "version": "1.7.3"
  }
 },
 "nbformat": 4,
 "nbformat_minor": 4
}
