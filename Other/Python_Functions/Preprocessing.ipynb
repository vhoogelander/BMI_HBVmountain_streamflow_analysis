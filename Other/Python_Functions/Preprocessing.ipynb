{
 "cells": [
  {
   "cell_type": "code",
   "execution_count": 1,
   "metadata": {},
   "outputs": [],
   "source": [
    "import numpy as np"
   ]
  },
  {
   "cell_type": "code",
   "execution_count": 4,
   "metadata": {},
   "outputs": [],
   "source": [
    "def gettemperatureatelevation(Elevations, Temperature):\n",
    "    \n",
    "    Nr_Elevationbands = int((Elevations.Max_elevation - Elevations.Min_elevation) / Elevations.Thickness_Band)\n",
    "    \n",
    "    # make an array with number of rows equal to number of days, and columns equal to number of elevations\n",
    "    Temp_Elevation = np.zeros(len(Temperature), Nr_Elevationbands)\n",
    "    Elevation = []\n",
    "    for i in range(Nr_Elevationbands):\n",
    "        Current_Elevation = (Elevations.Min_elevation + Elevations.Thickness_Band/2) + Elevations.Thickness_Band * (i - 1)\n",
    "        for j in range(len(Temperature)):\n",
    "            Temp_Elevation[j,i] = Temperature[j] - 0.006 * (Current_Elevation - Elevations.Measured_Temp_Elevation)\n",
    "            \n",
    "        Elevation.append(Current_Elevation)\n",
    "        \n",
    "    return Elevation, Temp_Elevation, Nr_Elevationbands"
   ]
  },
  {
   "cell_type": "code",
   "execution_count": 5,
   "metadata": {},
   "outputs": [],
   "source": [
    "def getprecipitationatelevation(Elevations, Prec_Gradient, Precipitation):\n",
    "    \n",
    "    Nr_Elevationbands = int((Elevations.Max_elevation - Elevations.Min_elevation) / Elevations.Thickness_Band)\n",
    "    # make an array with number of rows equal to number of days, and columns equal to number of elevations\n",
    "    Precipitation_Elevation = np.zeros(len(Precipitation),Nr_Elevationbands)\n",
    "    Elevation = []\n",
    "    for i in range(1, Nr_Elevationbands+1):\n",
    "        Current_Elevation = (Elevations.Min_elevation + Elevations.Thickness_Band/2) + Elevations.Thickness_Band * (i - 1)\n",
    "        for j in range(len(Precipitation)):\n",
    "            Precipitation_Elevation[j,i] = max((Precipitation[j] + Prec_Gradient * (Current_Elevation - Elevations.Measured_Prec_Elevation)),0)\n",
    "        \n",
    "        Elevation.append(Current_Elevation)\n",
    "\n",
    "    return Elevation, Precipitation_Elevation, Nr_Elevationbands"
   ]
  },
  {
   "cell_type": "code",
   "execution_count": 8,
   "metadata": {},
   "outputs": [],
   "source": [
    "def getelevationsperHRU(Areal_Percentage, Elevation_Catchment, Elevation_Zone):\n",
    "        Elevation_HRU = []\n",
    "        Area = []\n",
    "        j = 1\n",
    "        for (i, elevation) in enumerate(Elevation_Catchment):\n",
    "                if j <= length(Elevation_Zone) & elevation == Elevation_Zone[j]:\n",
    "                        if Areal_Percentage[i] != 0:\n",
    "                            Area.append(Areal_Percentage[i])\n",
    "                            Elevation_HRU.append(j)\n",
    "                        \n",
    "                        j+= 1\n",
    "                \n",
    "        return Area, Elevation_HRU"
   ]
  },
  {
   "cell_type": "code",
   "execution_count": 11,
   "metadata": {},
   "outputs": [],
   "source": [
    "def daily_mean(Temperature_Array):\n",
    "        Temperature_Daily = []\n",
    "        Date_Daily = []\n",
    "        # to make it correct when a value is missing the mean should not just be taken from the other values (Different times of day)\n",
    "        # skips days with missing values\n",
    "        measurement_count = 0\n",
    "        temperature_day_total = 0\n",
    "        lastvalue = len(Temperature_Array[:,0])\n",
    "        #Temperature_Array_Iterator = skipmissing(Temperature_Array)\n",
    "        for i in range(1, len(Temperature_Array[:,0]+1)):\n",
    "        # sum up all measurements for a day and count the measurements\n",
    "                if (i > 0 & Temperature_Array[i, 0] != Temperature_Array[i-1, 0]):\n",
    "                        mean_Temp = temperature_day_total / measurement_count\n",
    "                        measurement_count = 0\n",
    "                        temperature_day_total = 0\n",
    "\n",
    "                        Date_Daily.append(Temperature_Array[i - 1, 0])\n",
    "                        Temperature_Daily.append(mean_Temp)\n",
    "                elif i == lastvalue:\n",
    "                        if Temperature_Array[i,1] != np.nan:\n",
    "                                temperature_day_total += Temperature_Array[i, 1]\n",
    "                                measurement_count += 1\n",
    "                                \n",
    "                        mean_Temp = temperature_day_total / measurement_count\n",
    "                        Date_Daily.append(Temperature_Array[i, 0])\n",
    "                        Temperature_Daily.append(mean_Temp)\n",
    "               \n",
    "\n",
    "                elif Temperature_Array[i,1] != np.nan:\n",
    "                        temperature_day_total += Temperature_Array[i, 1]\n",
    "                        measurement_count += 1\n",
    "        \n",
    "\n",
    "        return Date_Daily, Temperature_Daily"
   ]
  },
  {
   "cell_type": "code",
   "execution_count": null,
   "metadata": {},
   "outputs": [],
   "source": []
  }
 ],
 "metadata": {
  "kernelspec": {
   "display_name": "Python 3",
   "language": "python",
   "name": "python3"
  },
  "language_info": {
   "codemirror_mode": {
    "name": "ipython",
    "version": 3
   },
   "file_extension": ".py",
   "mimetype": "text/x-python",
   "name": "python",
   "nbconvert_exporter": "python",
   "pygments_lexer": "ipython3",
   "version": "3.7.6"
  }
 },
 "nbformat": 4,
 "nbformat_minor": 4
}
