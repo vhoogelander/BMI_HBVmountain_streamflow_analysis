{
 "cells": [
  {
   "cell_type": "code",
   "execution_count": 6,
   "metadata": {},
   "outputs": [],
   "source": [
    "import numpy as np"
   ]
  },
  {
   "cell_type": "code",
   "execution_count": 7,
   "metadata": {},
   "outputs": [],
   "source": [
    "def input_timestep(Input, Evaporation_Mean, Precipitation, Temperature):\n",
    "    \n",
    "    #Input.Potential_Evaporation::Array{Float64,1} = Evaporation\n",
    "    Input.Potential_Evaporation_Mean = Evaporation_Mean\n",
    "    # get the precipitation data of the necessary elevations\n",
    "    Precipitation_HRU = []\n",
    "    Temperature_HRU = []\n",
    "    for i in Input.Elevation_Count:\n",
    "        Precipitation_HRU.append(Precipitation[i])\n",
    "        Temperature_HRU.append(Temperature[i])\n",
    "    Input.Precipitation = Precipitation_HRU\n",
    "    Input.Temp_Elevation = Temperature_HRU\n",
    "    \n",
    "    return Input"
   ]
  },
  {
   "cell_type": "code",
   "execution_count": 4,
   "metadata": {},
   "outputs": [],
   "source": [
    "def run_model(Area, Evaporation_Mean, Precipitation, Temp,\n",
    "                bare_input, forest_input, grass_input, rip_input,\n",
    "                bare_storage, forest_storage, grass_storage, rip_storage, Slowstorage,\n",
    "                bare_parameters, forest_parameters, grass_parameters, rip_parameters, slow_parameters,\n",
    "                Total_Elevationbands, Elevation_Percentage):\n",
    "     # the function takes as input the parameters of each HRU, the inital storage values of each HRU, the inital value of the slow storage\n",
    "    # KS, ratio riparian, all inputs\n",
    "    \n",
    "    #define maximum time\n",
    "    tmax = len(Precipitation[:,0])\n",
    "    \n",
    "    Discharge = np.zeros(tmax)\n",
    "    WBtotal = np.zeros(tmax)\n",
    "    Snow_Extend = np.zeros(tmax, Total_Elevationbands)\n",
    "    \n",
    "    # store the initial storage values, Does not take into account GW storage!!\n",
    "    # Assumption_ GW storage is 0 at start\n",
    "    Initial_Storage_bare = bare_storage.Fast + sum(bare_storage.Interception) + sum(bare_storage.Snow) + bare_storage.Soil\n",
    "    Initial_Storage_forest = forest_storage.Fast + sum(forest_storage.Interception) + sum(forest_storage.Snow) + forest_storage.Soil\n",
    "    Initial_Storage_grass = grass_storage.Fast + sum(grass_storage.Interception) + sum(grass_storage.Snow) + grass_storage.Soil\n",
    "    Initial_Storage_rip = rip_storage.Fast + sum(rip_storage.Interception) + sum(rip_storage.Snow) + rip_storage.Soil\n",
    "    Initial_Storage = Initial_Storage_bare + Initial_Storage_forest + Initial_Storage_grass + Initial_Storage_rip + Slowstorage\n",
    "    \n",
    "    for t in range(0, tmax+1):\n",
    "        # at each timestep new temp, precipitation and Epot values have to be delivered\n",
    "        # areas don't change\n",
    "        # riparian discharge from former timestep has to be used\n",
    "        # gives the current precipitation, evaporation and temperature\n",
    "        Evaporation_Mean_Current = Evaporation_Mean[t]\n",
    "        Precipitation_Current = Precipitation[t, :]\n",
    "        Temperature_Current = Temp[t, :] \n",
    "        \n",
    "        bare_input = input_timestep(bare_input, Evaporation_Mean_Current, Precipitation_Current, Temperature_Current)\n",
    "        forest_input = input_timestep(forest_input, Evaporation_Mean_Current, Precipitation_Current, Temperature_Current)\n",
    "        grass_input = input_timestep(grass_input, Evaporation_Mean_Current, Precipitation_Current, Temperature_Current)\n",
    "        rip_input = input_timestep(rip_input, Evaporation_Mean_Current, Precipitation_Current, Temperature_Current)\n",
    "        \n",
    "        # give new riparian discharge as input for next timestep\n",
    "        rip_input.Riparian_Discharge = Riparian_Discharge\n",
    "        # save the fluxes of the current timestep\n",
    "        Discharge[t] = Total_Discharge/1000 * Area / (3600 * 24) # mm convert it to meter and than * area / seconds in one day\n",
    "        # OPTIONAL: store the total amount of snow in each elevation (considering whole catchment)\n",
    "        Snow_Elevations, Snow_Extend[t,:] = snowperelevation(bare_input, forest_input, grass_input, rip_input, bare_storage, forest_storage, grass_storage, rip_storage, Total_Elevationbands)\n",
    "        #Bare_Snow[t,:]::Array{Float64,1} = bare_storage.Snow\n",
    "        Snow_Extend[t,:] = Snow_Extend[t,:] / Elevation_Percentage\n",
    "\n",
    "        WBtotal[t] = WB\n",
    "                \n",
    "    # Check Water Balance\n",
    "    Waterbalance = sum(WBtotal)\n",
    "    assert Waterbalance <= 10**(-10)\n",
    "    \n",
    "    return Discharge, Snow_Extend, Waterbalance\n"
   ]
  },
  {
   "cell_type": "code",
   "execution_count": 10,
   "metadata": {},
   "outputs": [
    {
     "name": "stdout",
     "output_type": "stream",
     "text": [
      "1\n",
      "2\n",
      "3\n",
      "4\n"
     ]
    }
   ],
   "source": []
  },
  {
   "cell_type": "code",
   "execution_count": null,
   "metadata": {},
   "outputs": [],
   "source": []
  }
 ],
 "metadata": {
  "kernelspec": {
   "display_name": "Python 3",
   "language": "python",
   "name": "python3"
  },
  "language_info": {
   "codemirror_mode": {
    "name": "ipython",
    "version": 3
   },
   "file_extension": ".py",
   "mimetype": "text/x-python",
   "name": "python",
   "nbconvert_exporter": "python",
   "pygments_lexer": "ipython3",
   "version": "3.7.6"
  }
 },
 "nbformat": 4,
 "nbformat_minor": 4
}
