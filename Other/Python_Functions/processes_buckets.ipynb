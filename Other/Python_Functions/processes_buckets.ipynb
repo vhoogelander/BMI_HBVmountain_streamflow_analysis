{
 "cells": [
  {
   "cell_type": "code",
   "execution_count": 2,
   "metadata": {},
   "outputs": [],
   "source": [
    "import numpy as np"
   ]
  },
  {
   "cell_type": "markdown",
   "metadata": {},
   "source": [
    "## Interception"
   ]
  },
  {
   "cell_type": "code",
   "execution_count": 17,
   "metadata": {},
   "outputs": [],
   "source": [
    "def interception(Potential_Evaporation, Precipitation, Temp, Interceptionstorage, Interceptionstoragecapacity, Temp_Thresh):\n",
    "   \n",
    "#     if interception capacity is 0\n",
    "    if Temp > Temp_Thresh:\n",
    "        if Interceptionstoragecapacity == 0:\n",
    "            Effective_Precipitation = Precipitation\n",
    "            Interception_Evaporation == 0\n",
    "            Interceptionstorage = 0\n",
    "        elif Precipitation > 0: #if the temperature is higher than freezing temp, precipitation falls as rain\n",
    "            Interceptionstorage = Interceptionstorage + Precipitation\n",
    "            # the excess precipitation will leave the reservoir directly\n",
    "            Effective_Precipitation = max(0, Interceptionstorage - Interceptionstoragecapacity)\n",
    "            #change in storage if Effective_Precipitation > 0\n",
    "            if Effective_Precipitation > 0:\n",
    "                Interceptionstorage = Interceptionstoragecapacity\n",
    "            Interception_Evaporation = min(Interceptionstorage, Potential_Evaporation / 2)\n",
    "            if Interception_Evaporation > 0.0:\n",
    "                #change in storage\n",
    "                Interceptionstorage = Interceptionstorage - Interception_Evaporation\n",
    "        else:\n",
    "            # if it does not rain, no excess water leaves storage\n",
    "            Effective_Precipitation = 0\n",
    "            # the Interception Evporation will be either the amount stored or 50% the potential evaporation\n",
    "            Interception_Evaporation = min(Interceptionstorage, Potential_Evaporation /2)\n",
    "            # the amount stored in the Interception Reservoir will decrease because of evaporation\n",
    "            if Interception_Evaporation > 0:\n",
    "                #change in storage\n",
    "                Interceptionstorage = Interceptionstorage - Interception_Evaporation\n",
    "    else:\n",
    "        # snow accumulates\n",
    "        # evporation is 0 and no effective precipitation is released\n",
    "        Interception_Evaporation = 0.0\n",
    "        Effective_Precipitation = 0.0\n",
    "        #Interceptionstorage = Interceptionstorage #amount stored does not change??! \n",
    "        \n",
    "    return Effective_Precipitation, Interception_Evaporation, Interceptionstorage"
   ]
  },
  {
   "cell_type": "markdown",
   "metadata": {},
   "source": [
    "# Snow"
   ]
  },
  {
   "cell_type": "code",
   "execution_count": 18,
   "metadata": {},
   "outputs": [],
   "source": [
    "def snow(Area_Glacier, Precipitation, Temp, Snowstorage, Meltfactor, Mm, Temp_Thresh):\n",
    "    \n",
    "    if Temp > Temp_Thresh:\n",
    "        # if temperature higher than freezing temperature, melting takes place\n",
    "        Melt = Meltfactor * Mm * ( (Temp - Temp_Thresh) / Mm + np.log(1 + np.exp(- (Temp - Temp_Thresh) / Mm) ))\n",
    "        # it can only melt as much as it is stored in snow storage\n",
    "        Melt_Snow = min(Melt, Snowstorage)\n",
    "        Melt_Glacier = Melt\n",
    "        # the total melt is the combination of snow and glacier melt and the areal extent\n",
    "        Melt_Total = Melt_Snow * (1 - Area_Glacier) + Melt_Glacier * Area_Glacier\n",
    "        # the amount of snow stored decreases by amount melted\n",
    "        Snowstorage = Snowstorage - Melt_Snow\n",
    "        Melt_Glacier = Melt * Area_Glacier - Melt_Snow * Area_Glacier\n",
    "    else:\n",
    "        # the amount of snow stored increases by Precipitation\n",
    "        Snowstorage = Snowstorage + Precipitation\n",
    "        # no snow melts\n",
    "        Melt_Total = 0\n",
    "        Melt_Glacier = 0\n",
    "        \n",
    "    return Melt_Glacier, Melt_Total, Snowstorage"
   ]
  },
  {
   "cell_type": "markdown",
   "metadata": {},
   "source": [
    "## Soil Hillslope"
   ]
  },
  {
   "cell_type": "code",
   "execution_count": 19,
   "metadata": {},
   "outputs": [],
   "source": [
    "def soilstorage(Effective_Precipitation, Interception_Evaporation, Potential_Evaporation, Soilstorage, beta, Ce,\n",
    "               Ratio_Pref, Soilstoragecapacity):\n",
    "    \n",
    "    if Effective_Precipitation > 0:\n",
    "        Ratio_Soil = 1 - (1 - (Soilstorage/Soilstoragecapacity))**beta\n",
    "        if Ratio_Soil < 0:\n",
    "            Ratio_Soil = 0\n",
    "        elif Ratio_Soil > 1:\n",
    "            Ratio_Soil = 1\n",
    "        # part of the water enters the soil, it cannot exceed the soil storage capacity\n",
    "        Unused_Capacity = Soilstoragecapacity - Soilstorage\n",
    "        Q_Soil = (1 - Ratio_Soil) * Effective_Precipitation\n",
    "        if Unused_Capacity > Q_Soil:\n",
    "            Soilstorage = Soilstorage + Q_Soil\n",
    "        else:\n",
    "            Q_Soil = Unused_Capacity\n",
    "            Soilstorage = Soilstoragecapacity\n",
    "        Overlandflow = (Effective_Precipitation - Q_Soil) * Ratio_Pref\n",
    "        # or flows into the groundwater\n",
    "        Preferentialflow = (Effective_Precipitation - Q_Soil) * (1 - Ratio_Pref)\n",
    "    else:\n",
    "        # if it does not rain no overland flow occurs\n",
    "        Overlandflow = 0.0\n",
    "        Preferentialflow = 0.0\n",
    "    # Transpiration in soil, only the part that not evaporated in interception reservoir can evaporate\n",
    "    Potential_Soilevaporation = max(Potential_Evaporation - Interception_Evaporation, 0)\n",
    "    # transpiration can maximum be the amount stored in soil, or a percentage of potential evaporation\n",
    "    Soil_Evaporation = Potential_Soilevaporation * min(Soilstorage / (Soilstoragecapacity * Ce), 1)\n",
    "    Soil_Evaporation = min(Soilstorage, Soil_Evaporation)\n",
    "    Soilstorage = Soilstorage - Soil_Evaporation\n",
    "    \n",
    "    return Overlandflow, Preferentialflow, Soil_Evaporation, Soilstorage"
   ]
  },
  {
   "cell_type": "markdown",
   "metadata": {},
   "source": [
    "# Soil Riparian"
   ]
  },
  {
   "cell_type": "code",
   "execution_count": 20,
   "metadata": {},
   "outputs": [],
   "source": [
    "def ripariansoilstorage(Effective_Precipitation, Interception_Evaporation, Potential_Evaporation, \n",
    "                        Riparian_Discharge, Soilstorage, beta, Ce, Drainagecapacity, Soilstoragecapacity):\n",
    "    \n",
    "    Ratio_Soil = 1 - (1 - (Soilstorage/Soilstoragecapacity))**beta\n",
    "\n",
    "    Unused_Capacity = Soilstoragecapacity - Soilstorage\n",
    "    Q_Soil = (1 - Ratio_Soil) * (Effective_Precipitation + Riparian_Discharge)\n",
    "    if Unused_Capacity > Q_Soil:\n",
    "        Soilstorage = Soilstorage + Q_Soil\n",
    "    else:\n",
    "        Q_Soil = Unused_Capacity\n",
    "        Soilstorage = Soilstoragecapacity    \n",
    "    # the other part does not enter the soil but flows into the fast reservoir\n",
    "    Overlandflow = (Effective_Precipitation + Riparian_Discharge - Q_Soil)\n",
    "    # Transpiration in soil, only the part that not evaporated in interception reservoir can evaporate\n",
    "    Potential_Soilevaporation = max(Potential_Evaporation - Interception_Evaporation, 0)\n",
    "    # transpiration can maximum be the amount stored in soil, or a percentage of potential evaporation\n",
    "    Soil_Evaporation = Potential_Soilevaporation * min(Soilstorage / (Soilstoragecapacity * Ce), 1)\n",
    "    Soil_Evaporation = min(Soilstorage, Soil_Evaporation)\n",
    "    Soilstorage = Soilstorage - Soil_Evaporation\n",
    "    # Part of the water stored in soil will drain to a maximum capacity, which is routed into the fast response reservoir\n",
    "    if Drainagecapacity > 0:\n",
    "        Fastdrainage = (Soilstorage / Soilstoragecapacity) * Drainagecapacity\n",
    "        Soilstorage = Soilstorage - Fastdrainage\n",
    "        Overlandflow = Overlandflow + Fastdrainage\n",
    "        \n",
    "    return Overlandflow, Soil_Evaporation, Soilstorage"
   ]
  },
  {
   "cell_type": "markdown",
   "metadata": {},
   "source": [
    "## Fast Reservoir"
   ]
  },
  {
   "cell_type": "code",
   "execution_count": 21,
   "metadata": {},
   "outputs": [],
   "source": [
    "def faststorage(Overlandflow, Faststorage, Kf):\n",
    "    \n",
    "    # the fast storage increases with the overland flow\n",
    "    Faststorage = Faststorage + Overlandflow\n",
    "    # a part of the fast storage gets redirected into discharge depending on the reservoir constant (linear response)\n",
    "    if Kf * Faststorage < Faststorage:\n",
    "        Fast_Discharge = Kf * Faststorage\n",
    "        Faststorage = Faststorage - Fast_Discharge\n",
    "    else:\n",
    "        Fast_Discharge = Faststorage\n",
    "        Faststorage = 0    \n",
    "        \n",
    "    return Fast_Discharge, Faststorage"
   ]
  },
  {
   "cell_type": "markdown",
   "metadata": {},
   "source": [
    "## Slow reservoir"
   ]
  },
  {
   "cell_type": "code",
   "execution_count": 22,
   "metadata": {},
   "outputs": [],
   "source": [
    "def slowstorage(GWflow, Slowstorage, Area_Riparian, Ks, Ratio_Riparian):\n",
    "    \n",
    "    Slowstorage = Slowstorage + GWflow\n",
    "    Slow_Discharge = Ks * Slowstorage * (1 - Ratio_Riparian)\n",
    "    # the riparian discharge is the areal percentage of the total possible riparian discharge\n",
    "    Riparian_Discharge = Ks * Slowstorage * Ratio_Riparian * Area_Riparian\n",
    "    Slowstorage = Slowstorage - Slow_Discharge - Riparian_Discharge \n",
    "    \n",
    "    return Riparian_Discharge, Slow_Discharge, Slowstorage"
   ]
  },
  {
   "cell_type": "code",
   "execution_count": null,
   "metadata": {},
   "outputs": [],
   "source": []
  }
 ],
 "metadata": {
  "kernelspec": {
   "display_name": "Python 3",
   "language": "python",
   "name": "python3"
  },
  "language_info": {
   "codemirror_mode": {
    "name": "ipython",
    "version": 3
   },
   "file_extension": ".py",
   "mimetype": "text/x-python",
   "name": "python",
   "nbconvert_exporter": "python",
   "pygments_lexer": "ipython3",
   "version": "3.7.6"
  }
 },
 "nbformat": 4,
 "nbformat_minor": 4
}
