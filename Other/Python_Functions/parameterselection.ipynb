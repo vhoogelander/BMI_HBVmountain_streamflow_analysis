{
 "cells": [
  {
   "cell_type": "code",
   "execution_count": 1,
   "metadata": {},
   "outputs": [],
   "source": [
    "import numpy as np"
   ]
  },
  {
   "cell_type": "code",
   "execution_count": 10,
   "metadata": {},
   "outputs": [],
   "source": [
    "def parameter_selection():\n",
    "        # maximum parameter\n",
    "\n",
    "        max_Interceptioncapacity_Grass = 2.0\n",
    "        max_Interceptioncapacity_Rip = 3.0\n",
    "        max_Ks = 0.07\n",
    "        max_Kf = 0.6\n",
    "        max_Soilstoaragecapacity_Grass = 200.0\n",
    "        max_Soilstoaragecapacity_Rip = 200.0\n",
    "        max_Soilstoaragecapacity_Bare = 50.0\n",
    "\n",
    "        precission = 0.001\n",
    "        precission_soilcap = 0.01\n",
    "\n",
    "        beta_Bare = np.random.uniform(0.1, 2.0)\n",
    "        beta_Forest = np.random.uniform(0.1, 2.0)\n",
    "        beta_Grass = np.random.uniform(0.1, 2.0)\n",
    "        beta_Rip = np.random.uniform(0.1, 2.0)\n",
    "        Ce = np.random.uniform(0.4, 0.8) \n",
    "        Drainagecapacity = 0.0\n",
    "        Interceptioncapacity_Bare = 0.0\n",
    "        Interceptioncapacity_Forest = np.random.uniform(1, 3.0)\n",
    "        \n",
    "        # parameter constraint Interception interceptioncapacity grass and rip lower than Interceptioncapacity_Forest\n",
    "        if Interceptioncapacity_Forest < max_Interceptioncapacity_Grass:\n",
    "                Interceptioncapacity_Grass = np.random.uniform(0.0, Interceptioncapacity_Forest - precission)\n",
    "        else:\n",
    "                Interceptioncapacity_Grass = np.random.uniform(0, max_Interceptioncapacity_Grass)\n",
    "\n",
    "        if Interceptioncapacity_Forest < max_Interceptioncapacity_Rip:\n",
    "                Interceptioncapacity_Rip = np.random.uniform(0, Interceptioncapacity_Forest - precission)\n",
    "        else:\n",
    "                Interceptioncapacity_Rip = np.random.uniform(0, max_Interceptioncapacity_Rip)\n",
    "\n",
    "        # parameter constraints on fast reservoir coefficients\n",
    "        Kf_Rip = np.random.uniform(0.2, 3.0)\n",
    "        if Kf_Rip < max_Kf:\n",
    "                Kf = np.random.uniform(0.1, Kf_Rip - precission)\n",
    "        else:\n",
    "                Kf = np.random.uniform(0.1, max_Kf)\n",
    "                \n",
    "        if Kf < max_Ks:\n",
    "                Ks = np.random.uniform(0.001, Kf - precission)\n",
    "        else:\n",
    "                Ks = np.random.uniform(0.001, max_Ks)\n",
    "        Meltfactor = np.random.uniform(1, 5.0)\n",
    "        Mm = np.random.uniform(0.001, 1.0)\n",
    "        Precipitation_Gradient = 0.0\n",
    "        #Precipitation_Gradient = round(random_parameter(0, 0.0045), precission= 5)\n",
    "        Ratio_Pref = np.random.uniform(0.1, 0.9)\n",
    "        # Parameter Constrain SOilstoragecapacity Forest >= Grass >= Rip/Bare\n",
    "        Soilstoaragecapacity_Forest = np.random.uniform(50, 400.0)\n",
    "        if Soilstoaragecapacity_Forest < max_Soilstoaragecapacity_Grass:\n",
    "                Soilstoaragecapacity_Grass = np.random.uniform(5, Soilstoaragecapacity_Forest - precission_soilcap)\n",
    "        else:\n",
    "                Soilstoaragecapacity_Grass = np.random.uniform(5, max_Soilstoaragecapacity_Grass)\n",
    "\n",
    "        if Soilstoaragecapacity_Grass < max_Soilstoaragecapacity_Rip:\n",
    "                Soilstoaragecapacity_Rip = np.random.uniform(4.9, Soilstoaragecapacity_Grass - precission_soilcap)\n",
    "        else:\n",
    "                Soilstoaragecapacity_Rip = np.random.uniform(4.9, max_Soilstoaragecapacity_Rip)\n",
    "\n",
    "        if Soilstoaragecapacity_Grass < max_Soilstoaragecapacity_Bare:\n",
    "                Soilstoaragecapacity_Bare = np.random.uniform(1, Soilstoaragecapacity_Grass - precission_soilcap)\n",
    "        else:\n",
    "                Soilstoaragecapacity_Bare = np.random.uniform(1, max_Soilstoaragecapacity_Bare)\n",
    "\n",
    "        Temp_Thresh = np.random.uniform(-2, 2.0)\n",
    "        Ratio_Riparian = np.random.uniform(0.05, 0.5)\n",
    "         # based on calculation of recession curve\n",
    "\n",
    "        bare_parameters = [beta_Bare, Ce, 0, Interceptioncapacity_Bare, Kf, Meltfactor, Mm, Ratio_Pref, Soilstoaragecapacity_Bare, Temp_Thresh]\n",
    "        forest_parameters = [beta_Forest, Ce, 0, Interceptioncapacity_Forest, Kf, Meltfactor, Mm, Ratio_Pref, Soilstoaragecapacity_Forest, Temp_Thresh]\n",
    "        grass_parameters = [beta_Grass, Ce, 0, Interceptioncapacity_Grass, Kf, Meltfactor, Mm, Ratio_Pref, Soilstoaragecapacity_Grass, Temp_Thresh]\n",
    "        rip_parameters = [beta_Rip, Ce, Drainagecapacity, Interceptioncapacity_Rip, Kf, Meltfactor, Mm, Ratio_Pref, Soilstoaragecapacity_Rip, Temp_Thresh]\n",
    "        slow_parameters = [Ks, Ratio_Riparian]\n",
    "\n",
    "        parameters_array = [beta_Bare, beta_Forest, beta_Grass, beta_Rip,\n",
    "                            Ce, Interceptioncapacity_Forest, Interceptioncapacity_Grass,\n",
    "                            Interceptioncapacity_Rip, Kf_Rip, Kf, Ks, Meltfactor, Mm, Ratio_Pref, \n",
    "                            Ratio_Riparian, Soilstoaragecapacity_Bare, Soilstoaragecapacity_Forest,\n",
    "                            Soilstoaragecapacity_Grass, Soilstoaragecapacity_Rip, Temp_Thresh]\n",
    "\n",
    "        return [bare_parameters, forest_parameters, grass_parameters, rip_parameters], slow_parameters, parameters_array"
   ]
  },
  {
   "cell_type": "code",
   "execution_count": 8,
   "metadata": {},
   "outputs": [
    {
     "data": {
      "text/plain": [
       "0.3541418606348753"
      ]
     },
     "execution_count": 8,
     "metadata": {},
     "output_type": "execute_result"
    }
   ],
   "source": []
  },
  {
   "cell_type": "code",
   "execution_count": null,
   "metadata": {},
   "outputs": [],
   "source": []
  }
 ],
 "metadata": {
  "kernelspec": {
   "display_name": "Python 3",
   "language": "python",
   "name": "python3"
  },
  "language_info": {
   "codemirror_mode": {
    "name": "ipython",
    "version": 3
   },
   "file_extension": ".py",
   "mimetype": "text/x-python",
   "name": "python",
   "nbconvert_exporter": "python",
   "pygments_lexer": "ipython3",
   "version": "3.7.6"
  }
 },
 "nbformat": 4,
 "nbformat_minor": 4
}
